{
 "cells": [
  {
   "cell_type": "code",
   "execution_count": null,
   "id": "22c650b7",
   "metadata": {},
   "outputs": [],
   "source": [
    "import pandas as pd\n",
    "import networkx as nx\n",
    "import re\n",
    "from networkx.algorithms.community import greedy_modularity_communities\n",
    "\n",
    "# === STEP 1: 读取 reaction.tsv ===\n",
    "def load_reactions_tsv(file_path):\n",
    "    return pd.read_csv(file_path, sep=\"\\t\")\n",
    "\n",
    "# === STEP 2: 解析 equation 字符串，提取代谢物及系数，并标准化 compartment ===\n",
    "def parse_equation(equation):\n",
    "    arrow = '<=>' if '<=>' in equation else '=>' if '=>' in equation else '<='\n",
    "    lhs, rhs = equation.split(arrow)\n",
    "\n",
    "    def get_mets_with_stoich(side):\n",
    "        mets = []\n",
    "        for m in side.split('+'):\n",
    "            m = m.strip()\n",
    "            match = re.match(r'^\\((\\d+)\\)\\s*(.+)', m)\n",
    "            if match:\n",
    "                coef, met = match.groups()\n",
    "            else:\n",
    "                coef, met = 1, m\n",
    "            # 标准化 compartment：cpdxxxx[0] → cpdxxxx_c0，cpdxxxx[1] → cpdxxxx_e0\n",
    "            met = re.sub(r\"\\[(\\d+)\\]\", lambda x: {'0': '_c0', '1': '_e0'}.get(x.group(1), f\"_x{x.group(1)}\"), met)\n",
    "\n",
    "            mets.append((met.strip(), int(coef)))\n",
    "        return mets\n",
    "\n",
    "    return get_mets_with_stoich(lhs), get_mets_with_stoich(rhs), arrow\n",
    "\n",
    "# === STEP 3: 构建 NetworkX 代谢物图（包含方向和计量信息） ===\n",
    "def build_metabolite_graph(df):\n",
    "    G = nx.DiGraph()\n",
    "    for idx, row in df.iterrows():\n",
    "        try:\n",
    "            lhs, rhs, direction = parse_equation(row['equation'])\n",
    "            rxn_id = row['id']\n",
    "            for l_met, l_coef in lhs:\n",
    "                for r_met, r_coef in rhs:\n",
    "                    G.add_edge(l_met, r_met, reaction=rxn_id,\n",
    "                               l_coef=l_coef, r_coef=r_coef)\n",
    "                    if direction == '<=>':\n",
    "                        G.add_edge(r_met, l_met, reaction=rxn_id,\n",
    "                                   l_coef=r_coef, r_coef=l_coef)\n",
    "        except Exception as e:\n",
    "            print(f\" Failed parsing {row['id']}: {e}\")\n",
    "    return G\n",
    "\n",
    "# === STEP 4: 注释代谢物图中的节点属性 ===\n",
    "def annotate_metabolites(G, compounds_file):\n",
    "    comp_df = pd.read_csv(compounds_file, sep=\"\\t\", low_memory=False)\n",
    "    for _, row in comp_df.iterrows():\n",
    "        met_id = row['id']\n",
    "        for comp in ['_c0', '_e0']:  \n",
    "            full_id = f\"{met_id}{comp}\"\n",
    "            if full_id in G.nodes:\n",
    "                G.nodes[full_id]['name'] = row.get('name', '')\n",
    "                G.nodes[full_id]['formula'] = row.get('formula', '')\n",
    "                G.nodes[full_id]['charge'] = row.get('charge', '')\n",
    "                G.nodes[full_id]['base_id'] = met_id\n",
    "                G.nodes[full_id]['compartment'] = comp\n",
    "\n",
    "# === STEP 5: 社区检测 ===\n",
    "def detect_communities(G):\n",
    "    communities = list(greedy_modularity_communities(G.to_undirected()))\n",
    "    # 给每个节点加 community 属性\n",
    "    for i, comm in enumerate(communities):\n",
    "        for node in comm:\n",
    "            G.nodes[node]['community'] = i\n",
    "    return communities\n",
    "\n",
    "# === STEP 6: 显示图信息 ===\n",
    "def print_graph_summary(G):\n",
    "    print(f\"图中包含 {G.number_of_nodes()} 个代谢物节点，{G.number_of_edges()} 条反应边\")\n",
    "\n",
    "# === STEP 7: 可视化 ===\n",
    "def draw_metabolite_graph(G, with_labels=False, node_size=50):\n",
    "    import matplotlib.pyplot as plt\n",
    "    pos = nx.spring_layout(G, seed=42)\n",
    "    nx.draw(G, pos, node_size=node_size, with_labels=with_labels, arrows=True)\n",
    "    plt.title(\"Metabolite Graph from ModelSEED Reactions\")\n",
    "    plt.show()\n",
    "\n",
    "# === STEP 8: 保存特定社区子图 ===\n",
    "def save_community_subgraph(G, communities, target_met, out_file=\"community_subgraph.graphml\"):\n",
    "    for i, comm in enumerate(communities):\n",
    "        if target_met in comm:\n",
    "            subG = G.subgraph(comm).copy()\n",
    "            nx.write_graphml(subG, out_file)\n",
    "            print(f\" {target_met} 属于社区 {i}，子图已保存为 {out_file}\")\n",
    "            return subG\n",
    "    print(f\" 未找到 {target_met} 所属社区。\")\n",
    "    return None\n"
   ]
  },
  {
   "cell_type": "code",
   "execution_count": 47,
   "id": "02922404",
   "metadata": {},
   "outputs": [
    {
     "name": "stdout",
     "output_type": "stream",
     "text": [
      "图中包含 23891 个代谢物节点，158091 条反应边\n"
     ]
    }
   ],
   "source": [
    "reactions_file = \"../../data/database/reactions.tsv\"\n",
    "compounds_file = \"../../data/database/compounds.tsv\"\n",
    "\n",
    "# 加载并构建图\n",
    "reactions_df = load_reactions_tsv(reactions_file)\n",
    "G = build_metabolite_graph(reactions_df)\n",
    "print_graph_summary(G)"
   ]
  },
  {
   "cell_type": "code",
   "execution_count": 48,
   "id": "7dac3667",
   "metadata": {},
   "outputs": [],
   "source": [
    "# 加载代谢物注释\n",
    "annotate_metabolites(G, compounds_file)"
   ]
  },
  {
   "cell_type": "code",
   "execution_count": 50,
   "id": "bc511c2d",
   "metadata": {},
   "outputs": [
    {
     "name": "stdout",
     "output_type": "stream",
     "text": [
      "所有含 cpd00211 的节点：\n",
      " - cpd00211_c0\n",
      " - cpd00211_e0\n"
     ]
    }
   ],
   "source": [
    "related = [n for n in G.nodes if \"cpd00211\" in n]\n",
    "print(\"所有含 cpd00211 的节点：\")\n",
    "for n in related:\n",
    "    print(\" -\", n)"
   ]
  },
  {
   "cell_type": "code",
   "execution_count": 51,
   "id": "929cc924",
   "metadata": {},
   "outputs": [
    {
     "name": "stdout",
     "output_type": "stream",
     "text": [
      " 共检测到 421 个模块（子图）\n"
     ]
    }
   ],
   "source": [
    "communities = detect_communities(G)\n",
    "print(f\" 共检测到 {len(communities)} 个模块（子图）\")"
   ]
  },
  {
   "cell_type": "code",
   "execution_count": 58,
   "id": "6d776b83",
   "metadata": {},
   "outputs": [
    {
     "name": "stdout",
     "output_type": "stream",
     "text": [
      " 共检测到 1161 个模块（子图）\n"
     ]
    }
   ],
   "source": [
    "import networkx.algorithms.community as nx_comm\n",
    "\n",
    "communities2 = list(nx_comm.label_propagation_communities(G.to_undirected()))\n",
    "print(f\" 共检测到 {len(communities2)} 个模块（子图）\")"
   ]
  },
  {
   "cell_type": "code",
   "execution_count": 63,
   "id": "e3f6fc90",
   "metadata": {},
   "outputs": [
    {
     "name": "stdout",
     "output_type": "stream",
     "text": [
      " cpd00211_c0 属于社区 0，该社区包含 20151 个代谢物。\n"
     ]
    }
   ],
   "source": [
    "target_met = \"cpd00211_c0\"\n",
    "\n",
    "for i, comm in enumerate(communities2):\n",
    "    if target_met in comm:\n",
    "        print(f\" {target_met} 属于社区 {i}，该社区包含 {len(comm)} 个代谢物。\")\n",
    "        break\n",
    "else:\n",
    "    print(f\" {target_met} 不属于任何社区。\")"
   ]
  },
  {
   "cell_type": "code",
   "execution_count": 54,
   "id": "ae3ed876",
   "metadata": {},
   "outputs": [
    {
     "name": "stdout",
     "output_type": "stream",
     "text": [
      " cpd00211_e0 属于社区 2，该社区包含 4665 个代谢物。\n"
     ]
    }
   ],
   "source": [
    "target_met = \"cpd00211_e0\"\n",
    "\n",
    "for i, comm in enumerate(communities):\n",
    "    if target_met in comm:\n",
    "        print(f\" {target_met} 属于社区 {i}，该社区包含 {len(comm)} 个代谢物。\")\n",
    "        break\n",
    "else:\n",
    "    print(f\" {target_met} 不属于任何社区。\")\n"
   ]
  },
  {
   "cell_type": "code",
   "execution_count": 60,
   "id": "bd2be36c",
   "metadata": {},
   "outputs": [
    {
     "data": {
      "text/plain": [
       "{'name': 'Butyrate',\n",
       " 'formula': 'C4H7O2',\n",
       " 'charge': -1,\n",
       " 'base_id': 'cpd00211',\n",
       " 'compartment': '_c0',\n",
       " 'community': 1}"
      ]
     },
     "execution_count": 60,
     "metadata": {},
     "output_type": "execute_result"
    }
   ],
   "source": [
    "G.nodes[\"cpd00211_c0\"]\n"
   ]
  },
  {
   "cell_type": "code",
   "execution_count": 56,
   "id": "75e6c79e",
   "metadata": {},
   "outputs": [
    {
     "data": {
      "text/plain": [
       "{'name': 'Butyrate',\n",
       " 'formula': 'C4H7O2',\n",
       " 'charge': -1,\n",
       " 'base_id': 'cpd00211',\n",
       " 'compartment': '_e0',\n",
       " 'community': 2}"
      ]
     },
     "execution_count": 56,
     "metadata": {},
     "output_type": "execute_result"
    }
   ],
   "source": [
    "G.nodes[\"cpd00211_e0\"]"
   ]
  },
  {
   "cell_type": "code",
   "execution_count": 64,
   "id": "52061988",
   "metadata": {},
   "outputs": [],
   "source": [
    "nx.write_graphml(G, \"full_metabolite_graph.graphml\")\n"
   ]
  },
  {
   "cell_type": "code",
   "execution_count": 65,
   "id": "642ab53b",
   "metadata": {},
   "outputs": [
    {
     "name": "stdout",
     "output_type": "stream",
     "text": [
      " 目标代谢物 cpd00211_c0 属于社区 0，该社区包含 20151 个节点。\n",
      " 子图已保存为: cpd00211_community.graphml\n"
     ]
    },
    {
     "data": {
      "text/plain": [
       "<networkx.classes.digraph.DiGraph at 0x3cbcf3a30>"
      ]
     },
     "execution_count": 65,
     "metadata": {},
     "output_type": "execute_result"
    }
   ],
   "source": [
    "\n",
    "def save_community_subgraph(G, communities, target_met, out_file=\"community_subgraph.graphml\"):\n",
    "    # 1. 找到该代谢物所属社区\n",
    "    for i, comm in enumerate(communities):\n",
    "        if target_met in comm:\n",
    "            print(f\" 目标代谢物 {target_met} 属于社区 {i}，该社区包含 {len(comm)} 个节点。\")\n",
    "\n",
    "            # 2. 提取该社区子图\n",
    "            subG = G.subgraph(comm).copy()\n",
    "\n",
    "            # 3. 保存为 graphml（或其他格式）\n",
    "            nx.write_graphml(subG, out_file)\n",
    "            print(f\" 子图已保存为: {out_file}\")\n",
    "            return subG\n",
    "\n",
    "    print(f\" 未找到 {target_met} 所属社区。\")\n",
    "    return None\n",
    "\n",
    "save_community_subgraph(G, communities2, \"cpd00211_c0\", out_file=\"cpd00211_community.graphml\")\n",
    "\n"
   ]
  },
  {
   "cell_type": "code",
   "execution_count": 67,
   "id": "1c90b4f0",
   "metadata": {},
   "outputs": [
    {
     "name": "stdout",
     "output_type": "stream",
     "text": [
      "参与的反应共有 21 个：\n",
      " - rxn36392\n",
      " - rxn45696\n",
      " - rxn01238\n",
      " - rxn36395\n",
      " - rxn02879\n",
      " - rxn43672\n",
      " - rxn00994\n",
      " - rxn08183\n",
      " - rxn01237\n",
      " - rxn02683\n",
      " - rxn11378\n",
      " - rxn13713\n",
      " - rxn36394\n",
      " - rxn38354\n",
      " - rxn36391\n",
      " - rxn36393\n",
      " - rxn01236\n",
      " - rxn00873\n",
      " - rxn13427\n",
      " - rxn47214\n",
      " - rxn11382\n"
     ]
    }
   ],
   "source": [
    "def get_reactions_for_node(G, node_id):\n",
    "    reactions = set()\n",
    "    \n",
    "    # 上游反应（它是产物）\n",
    "    for pred in G.predecessors(node_id):\n",
    "        edge = G[pred][node_id]\n",
    "        reactions.add(edge.get('reaction'))\n",
    "\n",
    "    # 下游反应（它是底物）\n",
    "    for succ in G.successors(node_id):\n",
    "        edge = G[node_id][succ]\n",
    "        reactions.add(edge.get('reaction'))\n",
    "\n",
    "    return reactions\n",
    "rxns = get_reactions_for_node(G, \"cpd00211_c0\")\n",
    "print(f\"参与的反应共有 {len(rxns)} 个：\")\n",
    "for r in rxns:\n",
    "    print(f\" - {r}\")\n"
   ]
  }
 ],
 "metadata": {
  "kernelspec": {
   "display_name": "electromics-project-Ddk0_V8b-py3.10",
   "language": "python",
   "name": "python3"
  },
  "language_info": {
   "codemirror_mode": {
    "name": "ipython",
    "version": 3
   },
   "file_extension": ".py",
   "mimetype": "text/x-python",
   "name": "python",
   "nbconvert_exporter": "python",
   "pygments_lexer": "ipython3",
   "version": "3.10.13"
  }
 },
 "nbformat": 4,
 "nbformat_minor": 5
}
