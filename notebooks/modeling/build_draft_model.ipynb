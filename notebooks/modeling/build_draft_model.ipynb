{
 "cells": [
  {
   "cell_type": "code",
   "execution_count": 4,
   "id": "3424e726-6f50-42aa-b5cf-ec804df800b2",
   "metadata": {},
   "outputs": [],
   "source": [
    "import os\n",
    "os.environ['GRB_LICENSE_FILE'] = 'content/licenses/gurobi.lic'"
   ]
  },
  {
   "cell_type": "code",
   "execution_count": 5,
   "id": "1d781d09-0df7-4b86-b5af-154164e7db03",
   "metadata": {},
   "outputs": [
    {
     "name": "stdout",
     "output_type": "stream",
     "text": [
      "Set parameter WLSAccessID\n",
      "Set parameter WLSSecret\n",
      "Set parameter LicenseID to value 2635551\n",
      "Academic license 2635551 - for non-commercial use only - registered to so___@gmail.com\n",
      "WARNING: To enable the NN_Trainer script, you need to install tensorflow <https://www.tensorflow.org/install>\n",
      "The rest of dnngior features can be used without it.\n"
     ]
    }
   ],
   "source": [
    "from cobra.io import read_sbml_model, write_sbml_model\n",
    "from dnngior.gapfill_class import Gapfill\n",
    "from dnngior.NN_Predictor import NN\n",
    "import pandas as pd\n",
    "import numpy as np"
   ]
  },
  {
   "cell_type": "code",
   "execution_count": 7,
   "id": "e8fd8580-d110-4d39-ac1a-70937d00ed8f",
   "metadata": {},
   "outputs": [
    {
     "name": "stdout",
     "output_type": "stream",
     "text": [
      "Gurobi is working! 😀\n",
      "flux balance analysis solution is 0.8739215069684303\n",
      "COBRApy is working 😀\n"
     ]
    }
   ],
   "source": [
    "import gurobipy\n",
    "from gurobipy import Model\n",
    "model = Model(\"test\")\n",
    "print(\"Gurobi is working!\", \"\\U0001F600\")\n",
    "\n",
    "#install COBRApy\n",
    "import cobra\n",
    "from cobra.io import load_model\n",
    "model = load_model(\"textbook\")\n",
    "solution = model.optimize()\n",
    "print(f\"flux balance analysis solution is {solution.objective_value}\")\n",
    "print(\"COBRApy is working\", \"\\U0001F600\")"
   ]
  },
  {
   "cell_type": "code",
   "execution_count": 8,
   "id": "f33a346b-0956-4727-b56a-f0e4803661a6",
   "metadata": {},
   "outputs": [
    {
     "name": "stdout",
     "output_type": "stream",
     "text": [
      "modelseedpy 0.4.2\n"
     ]
    }
   ],
   "source": [
    "from modelseedpy.core.rast_client import RastClient\n",
    "from modelseedpy import MSBuilder\n",
    "from modelseedpy.core.msgenome import MSGenome"
   ]
  },
  {
   "cell_type": "code",
   "execution_count": 9,
   "id": "5b5685c8-e9eb-4ea1-932a-7b540dd52e8c",
   "metadata": {},
   "outputs": [],
   "source": [
    "input_folder = \"/Users/azddza/MAG/protein_seq\"\n",
    "output_folder = \"Draft_models\"\n",
    "os.makedirs(output_folder, exist_ok=True)"
   ]
  },
  {
   "cell_type": "code",
   "execution_count": 10,
   "id": "bdea7c0a-9885-4a02-bc16-e64255a0ac2e",
   "metadata": {},
   "outputs": [],
   "source": [
    "rast = RastClient()\n",
    "\n",
    "def reconstruct_draft_model(model_id, faa_path, sbml_path):\n",
    "    print(f\"🔍 deal with: {faa_path}\")\n",
    "    try:\n",
    "        genome = MSGenome.from_fasta(faa_path)\n",
    "        rast.annotate_genome(genome)\n",
    "\n",
    "        model = MSBuilder.build_metabolic_model(\n",
    "            model_id=model_id,\n",
    "            genome=genome,\n",
    "            index=\"0\",\n",
    "            classic_biomass=True,\n",
    "            gapfill_model=False,\n",
    "            annotate_with_rast=True,\n",
    "            allow_all_non_grp_reactions=True\n",
    "        )\n",
    "\n",
    "        write_sbml_model(model, sbml_path)\n",
    "        print(f\"✅ mdoel saved: {sbml_path}\")\n",
    "    except Exception as e:\n",
    "        print(f\"❌ failed {model_id}: {e}\")"
   ]
  },
  {
   "cell_type": "code",
   "execution_count": 11,
   "id": "6e4d2281-0e4c-4f3f-812b-950cf03a7e1d",
   "metadata": {},
   "outputs": [
    {
     "name": "stdout",
     "output_type": "stream",
     "text": [
      "🔍 deal with: /Users/azddza/MAG/protein_seq/MAG004.faa\n"
     ]
    },
    {
     "name": "stderr",
     "output_type": "stream",
     "text": [
      "mkdir: /opt/anaconda3/envs/gsmmWorkshop/lib/python3.11/site-packages/modelseedpy//data/ml\n",
      "downloading data file to: /opt/anaconda3/envs/gsmmWorkshop/lib/python3.11/site-packages/modelseedpy//data/ml/knn_ACNP_RAST_filter_01_17_2023.pickle\n",
      "downloading data file to: /opt/anaconda3/envs/gsmmWorkshop/lib/python3.11/site-packages/modelseedpy//data/ml/knn_ACNP_RAST_filter_01_17_2023_features.json\n",
      "/opt/anaconda3/envs/gsmmWorkshop/lib/python3.11/site-packages/sklearn/base.py:380: InconsistentVersionWarning: Trying to unpickle estimator KNeighborsClassifier from version 1.2.0 when using version 1.6.1. This might lead to breaking code or invalid results. Use at your own risk. For more info please refer to:\n",
      "https://scikit-learn.org/stable/model_persistence.html#security-maintainability-limitations\n",
      "  warnings.warn(\n",
      "mkdir: /opt/anaconda3/envs/gsmmWorkshop/lib/python3.11/site-packages/modelseedpy//data/templates\n",
      "downloading data file to: /opt/anaconda3/envs/gsmmWorkshop/lib/python3.11/site-packages/modelseedpy//data/templates/template_gram_pos.json\n"
     ]
    },
    {
     "name": "stdout",
     "output_type": "stream",
     "text": [
      "✅ mdoel saved: Draft_models/MAG004.sbml\n",
      "🔍 deal with: /Users/azddza/MAG/protein_seq/MAG005.faa\n"
     ]
    },
    {
     "name": "stderr",
     "output_type": "stream",
     "text": [
      "/opt/anaconda3/envs/gsmmWorkshop/lib/python3.11/site-packages/sklearn/base.py:380: InconsistentVersionWarning: Trying to unpickle estimator KNeighborsClassifier from version 1.2.0 when using version 1.6.1. This might lead to breaking code or invalid results. Use at your own risk. For more info please refer to:\n",
      "https://scikit-learn.org/stable/model_persistence.html#security-maintainability-limitations\n",
      "  warnings.warn(\n",
      "downloading data file to: /opt/anaconda3/envs/gsmmWorkshop/lib/python3.11/site-packages/modelseedpy//data/templates/template_gram_neg.json\n"
     ]
    },
    {
     "name": "stdout",
     "output_type": "stream",
     "text": [
      "✅ mdoel saved: Draft_models/MAG005.sbml\n",
      "🔍 deal with: /Users/azddza/MAG/protein_seq/MAG002.faa\n"
     ]
    },
    {
     "name": "stderr",
     "output_type": "stream",
     "text": [
      "/opt/anaconda3/envs/gsmmWorkshop/lib/python3.11/site-packages/sklearn/base.py:380: InconsistentVersionWarning: Trying to unpickle estimator KNeighborsClassifier from version 1.2.0 when using version 1.6.1. This might lead to breaking code or invalid results. Use at your own risk. For more info please refer to:\n",
      "https://scikit-learn.org/stable/model_persistence.html#security-maintainability-limitations\n",
      "  warnings.warn(\n"
     ]
    },
    {
     "name": "stdout",
     "output_type": "stream",
     "text": [
      "✅ mdoel saved: Draft_models/MAG002.sbml\n",
      "🔍 deal with: /Users/azddza/MAG/protein_seq/MAG003.faa\n"
     ]
    },
    {
     "name": "stderr",
     "output_type": "stream",
     "text": [
      "/opt/anaconda3/envs/gsmmWorkshop/lib/python3.11/site-packages/sklearn/base.py:380: InconsistentVersionWarning: Trying to unpickle estimator KNeighborsClassifier from version 1.2.0 when using version 1.6.1. This might lead to breaking code or invalid results. Use at your own risk. For more info please refer to:\n",
      "https://scikit-learn.org/stable/model_persistence.html#security-maintainability-limitations\n",
      "  warnings.warn(\n"
     ]
    },
    {
     "name": "stdout",
     "output_type": "stream",
     "text": [
      "✅ mdoel saved: Draft_models/MAG003.sbml\n",
      "🔍 deal with: /Users/azddza/MAG/protein_seq/MAG001.faa\n"
     ]
    },
    {
     "name": "stderr",
     "output_type": "stream",
     "text": [
      "/opt/anaconda3/envs/gsmmWorkshop/lib/python3.11/site-packages/sklearn/base.py:380: InconsistentVersionWarning: Trying to unpickle estimator KNeighborsClassifier from version 1.2.0 when using version 1.6.1. This might lead to breaking code or invalid results. Use at your own risk. For more info please refer to:\n",
      "https://scikit-learn.org/stable/model_persistence.html#security-maintainability-limitations\n",
      "  warnings.warn(\n"
     ]
    },
    {
     "name": "stdout",
     "output_type": "stream",
     "text": [
      "✅ mdoel saved: Draft_models/MAG001.sbml\n"
     ]
    }
   ],
   "source": [
    "for faa_file in os.listdir(input_folder):\n",
    "    if faa_file.endswith(\".faa\"):\n",
    "        faa_path = os.path.join(input_folder, faa_file)\n",
    "        model_id = faa_file.replace(\".faa\", \"\")\n",
    "        sbml_path = os.path.join(output_folder, model_id + \".sbml\")\n",
    "\n",
    "        reconstruct_draft_model(model_id, faa_path, sbml_path)"
   ]
  },
  {
   "cell_type": "code",
   "execution_count": 13,
   "id": "8bf01f27-e281-48a0-bf89-76e746e3e867",
   "metadata": {},
   "outputs": [],
   "source": [
    "model = read_sbml_model(\"Draft_models/MAG001.sbml\")"
   ]
  },
  {
   "cell_type": "code",
   "execution_count": 14,
   "id": "b589ac0a-c00d-429a-9a71-b215f3871aed",
   "metadata": {},
   "outputs": [
    {
     "data": {
      "text/html": [
       "\n",
       "        <table>\n",
       "            <tr>\n",
       "                <td><strong>Name</strong></td>\n",
       "                <td>MAG001</td>\n",
       "            </tr><tr>\n",
       "                <td><strong>Memory address</strong></td>\n",
       "                <td>347011e90</td>\n",
       "            </tr><tr>\n",
       "                <td><strong>Number of metabolites</strong></td>\n",
       "                <td>963</td>\n",
       "            </tr><tr>\n",
       "                <td><strong>Number of reactions</strong></td>\n",
       "                <td>955</td>\n",
       "            </tr><tr>\n",
       "                <td><strong>Number of genes</strong></td>\n",
       "                <td>735</td>\n",
       "            </tr><tr>\n",
       "                <td><strong>Number of groups</strong></td>\n",
       "                <td>619</td>\n",
       "            </tr><tr>\n",
       "                <td><strong>Objective expression</strong></td>\n",
       "                <td>1.0*bio1 - 1.0*bio1_reverse_b18f7</td>\n",
       "            </tr><tr>\n",
       "                <td><strong>Compartments</strong></td>\n",
       "                <td>Cytosol, Extracellular</td>\n",
       "            </tr>\n",
       "          </table>"
      ],
      "text/plain": [
       "<Model MAG001 at 0x347011e90>"
      ]
     },
     "execution_count": 14,
     "metadata": {},
     "output_type": "execute_result"
    }
   ],
   "source": [
    "model"
   ]
  },
  {
   "cell_type": "code",
   "execution_count": 16,
   "id": "eecf6faf-cee4-43d3-80f2-674fb3343639",
   "metadata": {},
   "outputs": [
    {
     "data": {
      "text/html": [
       "<strong><em>Optimal</em> solution with objective value 0.000</strong><br><div>\n",
       "<style scoped>\n",
       "    .dataframe tbody tr th:only-of-type {\n",
       "        vertical-align: middle;\n",
       "    }\n",
       "\n",
       "    .dataframe tbody tr th {\n",
       "        vertical-align: top;\n",
       "    }\n",
       "\n",
       "    .dataframe thead th {\n",
       "        text-align: right;\n",
       "    }\n",
       "</style>\n",
       "<table border=\"1\" class=\"dataframe\">\n",
       "  <thead>\n",
       "    <tr style=\"text-align: right;\">\n",
       "      <th></th>\n",
       "      <th>fluxes</th>\n",
       "      <th>reduced_costs</th>\n",
       "    </tr>\n",
       "  </thead>\n",
       "  <tbody>\n",
       "    <tr>\n",
       "      <th>rxn02201_c0</th>\n",
       "      <td>0.0</td>\n",
       "      <td>0.0</td>\n",
       "    </tr>\n",
       "    <tr>\n",
       "      <th>rxn00351_c0</th>\n",
       "      <td>0.0</td>\n",
       "      <td>0.0</td>\n",
       "    </tr>\n",
       "    <tr>\n",
       "      <th>rxn00836_c0</th>\n",
       "      <td>0.0</td>\n",
       "      <td>0.0</td>\n",
       "    </tr>\n",
       "    <tr>\n",
       "      <th>rxn00364_c0</th>\n",
       "      <td>0.0</td>\n",
       "      <td>0.0</td>\n",
       "    </tr>\n",
       "    <tr>\n",
       "      <th>rxn05561_c0</th>\n",
       "      <td>0.0</td>\n",
       "      <td>0.0</td>\n",
       "    </tr>\n",
       "    <tr>\n",
       "      <th>...</th>\n",
       "      <td>...</td>\n",
       "      <td>...</td>\n",
       "    </tr>\n",
       "    <tr>\n",
       "      <th>SK_cpd02701_c0</th>\n",
       "      <td>0.0</td>\n",
       "      <td>0.0</td>\n",
       "    </tr>\n",
       "    <tr>\n",
       "      <th>SK_cpd11416_c0</th>\n",
       "      <td>0.0</td>\n",
       "      <td>0.0</td>\n",
       "    </tr>\n",
       "    <tr>\n",
       "      <th>SK_cpd15302_c0</th>\n",
       "      <td>0.0</td>\n",
       "      <td>0.0</td>\n",
       "    </tr>\n",
       "    <tr>\n",
       "      <th>SK_cpd03091_c0</th>\n",
       "      <td>0.0</td>\n",
       "      <td>0.0</td>\n",
       "    </tr>\n",
       "    <tr>\n",
       "      <th>SK_cpd01042_c0</th>\n",
       "      <td>0.0</td>\n",
       "      <td>0.0</td>\n",
       "    </tr>\n",
       "  </tbody>\n",
       "</table>\n",
       "<p>955 rows × 2 columns</p>\n",
       "</div>"
      ],
      "text/plain": [
       "<Solution 0.000 at 0x36ab18d10>"
      ]
     },
     "execution_count": 16,
     "metadata": {},
     "output_type": "execute_result"
    }
   ],
   "source": [
    "solution = model.optimize()\n",
    "solution"
   ]
  },
  {
   "cell_type": "code",
   "execution_count": null,
   "id": "c98f5a06-f91a-4ecf-bebf-3e067acc5da4",
   "metadata": {},
   "outputs": [],
   "source": []
  }
 ],
 "metadata": {
  "kernelspec": {
   "display_name": "Python 3 (ipykernel)",
   "language": "python",
   "name": "python3"
  },
  "language_info": {
   "codemirror_mode": {
    "name": "ipython",
    "version": 3
   },
   "file_extension": ".py",
   "mimetype": "text/x-python",
   "name": "python",
   "nbconvert_exporter": "python",
   "pygments_lexer": "ipython3",
   "version": "3.11.11"
  }
 },
 "nbformat": 4,
 "nbformat_minor": 5
}
