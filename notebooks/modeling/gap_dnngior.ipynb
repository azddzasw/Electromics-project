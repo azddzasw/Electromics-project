{
 "cells": [
  {
   "cell_type": "code",
   "execution_count": 1,
   "id": "eb667647",
   "metadata": {},
   "outputs": [
    {
     "name": "stdout",
     "output_type": "stream",
     "text": [
      "Set parameter Username\n",
      "Set parameter LicenseID to value 2663970\n",
      "Academic license - for non-commercial use only - expires 2026-05-12\n",
      "WARNING: To enable the NN_Trainer script, you need to install tensorflow <https://www.tensorflow.org/install>\n",
      "The rest of dnngior features can be used without it.\n"
     ]
    }
   ],
   "source": [
    "import os\n",
    "import cobra\n",
    "import dnngior\n",
    "os.environ['GRB_LICENSE_FILE'] = '../../content/licenses/gurobi.lic'"
   ]
  },
  {
   "cell_type": "code",
   "execution_count": 13,
   "id": "2dc14cd7",
   "metadata": {},
   "outputs": [
    {
     "name": "stdout",
     "output_type": "stream",
     "text": [
      "模型中包含 999 个反应，983 个代谢物，619 个基因。\n",
      "['EX_cpd00141_e0', 'TR_cpd00141_e0']\n"
     ]
    }
   ],
   "source": [
    "import sys\n",
    "import os\n",
    "from cobra.io import read_sbml_model\n",
    "\n",
    "sys.path.append(os.path.abspath(\"../../src\"))\n",
    "\n",
    "model = read_sbml_model(\"../../models/fixed_models/MAG099_gapfilled_noO2.xml\")\n",
    "\n",
    "\n",
    "print(f\"模型中包含 {len(model.reactions)} 个反应，{len(model.metabolites)} 个代谢物，{len(model.genes)} 个基因。\")\n",
    "reaction_ids = [rxn.id for rxn in model.reactions if \"00141\" in rxn.id]\n",
    "print(reaction_ids)"
   ]
  },
  {
   "cell_type": "code",
   "execution_count": 15,
   "id": "e9056219",
   "metadata": {},
   "outputs": [
    {
     "name": "stdout",
     "output_type": "stream",
     "text": [
      "Gap-filling database =  ModelSEED\n"
     ]
    },
    {
     "name": "stderr",
     "output_type": "stream",
     "text": [
      "No objective coefficients in model. Unclear what should be optimized\n"
     ]
    },
    {
     "name": "stdout",
     "output_type": "stream",
     "text": [
      "Loading medium from: ../../models/complete_media_without_oxygen.tsv\n",
      "#reactions not found in NN-keys:  117 / 933\n",
      "Warning for adding constraints: zero or small (< 1e-13) coefficients, ignored\n",
      "Flux through biomass reaction is 1.00000000\n",
      "Flux through biomass reaction is 1.00000000\n",
      "Warning for adding constraints: zero or small (< 1e-13) coefficients, ignored\n",
      "\n",
      "\n",
      " condition is currently:  76605 \n",
      "\n",
      "\n",
      "Warning for adding constraints: zero or small (< 1e-13) coefficients, ignored\n",
      "\n",
      "\n",
      " condition is currently:  38302 \n",
      "\n",
      "\n",
      "Warning for adding constraints: zero or small (< 1e-13) coefficients, ignored\n",
      "\n",
      "\n",
      " condition is currently:  19151 \n",
      "\n",
      "\n",
      "Warning for adding constraints: zero or small (< 1e-13) coefficients, ignored\n",
      "\n",
      "\n",
      " condition is currently:  9575 \n",
      "\n",
      "\n",
      "Warning for adding constraints: zero or small (< 1e-13) coefficients, ignored\n",
      "\n",
      "\n",
      " condition is currently:  4787 \n",
      "\n",
      "\n",
      "Warning for adding constraints: zero or small (< 1e-13) coefficients, ignored\n",
      "\n",
      "\n",
      " condition is currently:  2393 \n",
      "\n",
      "\n",
      "Warning for adding constraints: zero or small (< 1e-13) coefficients, ignored\n",
      "\n",
      "\n",
      " condition is currently:  1196 \n",
      "\n",
      "\n",
      "Warning for adding constraints: zero or small (< 1e-13) coefficients, ignored\n",
      "\n",
      "\n",
      " condition is currently:  598 \n",
      "\n",
      "\n",
      "Warning for adding constraints: zero or small (< 1e-13) coefficients, ignored\n",
      "\n",
      "\n",
      " condition is currently:  299 \n",
      "\n",
      "\n",
      "Warning for adding constraints: zero or small (< 1e-13) coefficients, ignored\n",
      "\n",
      "\n",
      " condition is currently:  149 \n",
      "\n",
      "\n",
      "Warning for adding constraints: zero or small (< 1e-13) coefficients, ignored\n",
      "\n",
      "\n",
      " condition is currently:  74 \n",
      "\n",
      "\n",
      "Warning for adding constraints: zero or small (< 1e-13) coefficients, ignored\n",
      "\n",
      "\n",
      " condition is currently:  37 \n",
      "\n",
      "\n",
      "Warning for adding constraints: zero or small (< 1e-13) coefficients, ignored\n",
      "\n",
      "\n",
      " condition is currently:  18 \n",
      "\n",
      "\n",
      "Warning for adding constraints: zero or small (< 1e-13) coefficients, ignored\n",
      "\n",
      "\n",
      " condition is currently:  9 \n",
      "\n",
      "\n",
      "Warning for adding constraints: zero or small (< 1e-13) coefficients, ignored\n",
      "\n",
      "\n",
      " condition is currently:  4 \n",
      "\n",
      "\n",
      "Warning for adding constraints: zero or small (< 1e-13) coefficients, ignored\n",
      "\n",
      "\n",
      " condition is currently:  2 \n",
      "\n",
      "\n",
      "Warning for adding constraints: zero or small (< 1e-13) coefficients, ignored\n",
      "\n",
      "\n",
      " condition is currently:  1 \n",
      "\n",
      "\n",
      "Objective value is 1.000000.\n",
      "Read LP format model from file /var/folders/6w/knrbtrj125ggkrx091kd2g840000gn/T/tmptfrcdo75.lp\n",
      "Reading time = 0.00 seconds\n",
      ": 983 rows, 1880 columns, 9108 nonzeros\n",
      "NN gapfilling added 7 new reactions\n",
      "The NN gapfilled model, comes with 940 reactions and 983 metabolites\n"
     ]
    }
   ],
   "source": [
    "gapfilled_model_complete = dnngior.Gapfill(draftModel = \"../../models/fixed_models/MAG099_gapfilled_noO2.xml\", \n",
    "                                          medium_file = '../../models/complete_media_without_oxygen.tsv', \n",
    "                                          objectiveName = 'EX_cpd00141_e0')"
   ]
  },
  {
   "cell_type": "code",
   "execution_count": 20,
   "id": "ab609460",
   "metadata": {},
   "outputs": [
    {
     "name": "stdout",
     "output_type": "stream",
     "text": [
      "New reactions: 7\n",
      " Added reactions:\n",
      "rxn24523_c0: propionyl-CoA hydrolase — cpd00001_c0 + cpd00086_c0 --> cpd00010_c0 + cpd00067_c0 + cpd00141_c0\n",
      "rxn03130_c0: UDP-2,3-bis[(3R)-3-hydroxymyristoyl]-alpha-D-glucosamine 2,3-bis[(3R)-3-hydroxymyristoyl]-beta-D-glucosaminyl 1-phosphate phosphohydrolase — cpd00001_c0 + cpd02835_c0 --> 2.0 cpd00067_c0 + cpd00091_c0 + cpd02930_c0\n",
      "rxn00677_c0: Acetyl-CoA:propanoate CoA-transferase — cpd00022_c0 + cpd00141_c0 <=> cpd00029_c0 + cpd00086_c0\n",
      "rxn14178_c0: 2-oxobutanoate:ferredoxin 2-oxidoreductase (CoA-propanoylating) — cpd00010_c0 + cpd00094_c0 + 2.0 cpd11621_c0 <=> cpd00011_c0 + cpd00067_c0 + cpd00086_c0 + 2.0 cpd11620_c0\n",
      "rxn00250_c0: Pyruvate:carbon-dioxide ligase (ADP-forming) — cpd00002_c0 + cpd00020_c0 + cpd00242_c0 --> cpd00008_c0 + cpd00009_c0 + cpd00032_c0 + cpd00067_c0\n",
      "EX_cpd00141_e0: EX_cpd00141_e0 — cpd00141_e0 --> \n",
      "rxn08024_c0: alpha-amylase (periplasm) — cpd11735_c0 <=> cpd01329_c0\n"
     ]
    }
   ],
   "source": [
    "print(\"New reactions:\", len(gapfilled_model_complete.added_reactions))\n",
    "cobra_model = gapfilled_model_complete.gapfilledModel\n",
    "print(\" Added reactions:\")\n",
    "for reaction_id in gapfilled_model_complete.added_reactions:\n",
    "    rxn = cobra_model.reactions.get_by_id(reaction_id) \n",
    "    print(f\"{rxn.id}: {rxn.name} — {rxn.reaction}\")\n"
   ]
  },
  {
   "cell_type": "code",
   "execution_count": 21,
   "id": "be5c9778",
   "metadata": {},
   "outputs": [
    {
     "name": "stdout",
     "output_type": "stream",
     "text": [
      "Added: rxn24523_c0\n",
      "Added: rxn03130_c0\n",
      "Added: rxn00677_c0\n",
      "Added: rxn14178_c0\n",
      "Added: rxn00250_c0\n",
      "Added: rxn08024_c0\n"
     ]
    }
   ],
   "source": [
    "new_rxn_ids = gapfilled_model_complete.added_reactions\n",
    "\n",
    "for rxn_id in new_rxn_ids:\n",
    "    if rxn_id not in model.reactions:\n",
    "        new_rxn = cobra_model.reactions.get_by_id(rxn_id).copy()\n",
    "        model.add_reactions([new_rxn])\n",
    "        print(f\"Added: {new_rxn.id}\")\n"
   ]
  },
  {
   "cell_type": "code",
   "execution_count": 22,
   "id": "5472f480",
   "metadata": {},
   "outputs": [
    {
     "name": "stdout",
     "output_type": "stream",
     "text": [
      "flux： 1000.0\n"
     ]
    }
   ],
   "source": [
    "model.objective = 'EX_cpd00141_e0'\n",
    "solution = model.optimize()\n",
    "print(\"flux：\", solution.objective_value)"
   ]
  },
  {
   "cell_type": "code",
   "execution_count": 23,
   "id": "22c8dcb1",
   "metadata": {},
   "outputs": [
    {
     "name": "stdout",
     "output_type": "stream",
     "text": [
      "saved\n"
     ]
    }
   ],
   "source": [
    "from cobra.io import write_sbml_model\n",
    "\n",
    "\n",
    "write_sbml_model(model, \"../../models/fixed_model_V2/MAG099_gapfilled_noO2.xml\")\n",
    "print(\"saved\")"
   ]
  }
 ],
 "metadata": {
  "kernelspec": {
   "display_name": "electromics-project-Ddk0_V8b-py3.10",
   "language": "python",
   "name": "python3"
  },
  "language_info": {
   "codemirror_mode": {
    "name": "ipython",
    "version": 3
   },
   "file_extension": ".py",
   "mimetype": "text/x-python",
   "name": "python",
   "nbconvert_exporter": "python",
   "pygments_lexer": "ipython3",
   "version": "3.10.13"
  }
 },
 "nbformat": 4,
 "nbformat_minor": 5
}
