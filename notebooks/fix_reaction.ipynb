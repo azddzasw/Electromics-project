{
 "cells": [
  {
   "cell_type": "code",
   "execution_count": 6,
   "id": "6d7ab868",
   "metadata": {},
   "outputs": [
    {
     "name": "stderr",
     "output_type": "stream",
     "text": [
      "Ignoring reaction 'EX_cpd00211_e0' since it already exists.\n",
      "Ignoring reaction 'EX_cpd00047_e0' since it already exists.\n",
      "Ignoring reaction 'EX_cpd00159_e0' since it already exists.\n"
     ]
    },
    {
     "name": "stdout",
     "output_type": "stream",
     "text": [
      "Added exchange reaction for cpd00211_c0 in MAG001_gapfilled\n",
      "Added exchange reaction for cpd00047_c0 in MAG001_gapfilled\n",
      "Added exchange reaction for cpd00029_c0 in MAG001_gapfilled\n",
      "Added exchange reaction for cpd00159_c0 in MAG001_gapfilled\n",
      "Added exchange reaction for cpd00221_c0 in MAG001_gapfilled\n",
      "Read LP format model from file /var/folders/6w/knrbtrj125ggkrx091kd2g840000gn/T/tmp_o0ofsip.lp\n",
      "Reading time = 0.00 seconds\n",
      ": 1029 rows, 2196 columns, 9788 nonzeros\n"
     ]
    },
    {
     "name": "stderr",
     "output_type": "stream",
     "text": [
      "Ignoring reaction 'EX_cpd00047_e0' since it already exists.\n"
     ]
    },
    {
     "name": "stdout",
     "output_type": "stream",
     "text": [
      "Added exchange reaction for cpd00047_c0 in MAG002_gapfilled\n",
      "Added exchange reaction for cpd00029_c0 in MAG002_gapfilled\n",
      "Added exchange reaction for cpd00221_c0 in MAG002_gapfilled\n",
      "Read LP format model from file /var/folders/6w/knrbtrj125ggkrx091kd2g840000gn/T/tmpsk9rce51.lp\n",
      "Reading time = 0.00 seconds\n",
      ": 999 rows, 2076 columns, 9342 nonzeros\n",
      "Added exchange reaction for cpd00047_c0 in MAG003_gapfilled\n",
      "Added exchange reaction for cpd00029_c0 in MAG003_gapfilled\n",
      "Read LP format model from file /var/folders/6w/knrbtrj125ggkrx091kd2g840000gn/T/tmpzm76x9fl.lp\n",
      "Reading time = 0.00 seconds\n",
      ": 700 rows, 1382 columns, 6406 nonzeros\n"
     ]
    },
    {
     "name": "stderr",
     "output_type": "stream",
     "text": [
      "Ignoring reaction 'EX_cpd00047_e0' since it already exists.\n",
      "Ignoring reaction 'EX_cpd00159_e0' since it already exists.\n"
     ]
    },
    {
     "name": "stdout",
     "output_type": "stream",
     "text": [
      "Added exchange reaction for cpd00047_c0 in MAG004_gapfilled\n",
      "Added exchange reaction for cpd00029_c0 in MAG004_gapfilled\n",
      "Added exchange reaction for cpd00159_c0 in MAG004_gapfilled\n",
      "Read LP format model from file /var/folders/6w/knrbtrj125ggkrx091kd2g840000gn/T/tmpn060asde.lp\n",
      "Reading time = 0.00 seconds\n",
      ": 923 rows, 1914 columns, 8756 nonzeros\n"
     ]
    },
    {
     "name": "stderr",
     "output_type": "stream",
     "text": [
      "Ignoring reaction 'EX_cpd00159_e0' since it already exists.\n"
     ]
    },
    {
     "name": "stdout",
     "output_type": "stream",
     "text": [
      "Added exchange reaction for cpd00047_c0 in MAG005_gapfilled\n",
      "Added exchange reaction for cpd00029_c0 in MAG005_gapfilled\n",
      "Added exchange reaction for cpd00141_c0 in MAG005_gapfilled\n",
      "Added exchange reaction for cpd00159_c0 in MAG005_gapfilled\n",
      "Added exchange reaction for cpd00221_c0 in MAG005_gapfilled\n",
      "Read LP format model from file /var/folders/6w/knrbtrj125ggkrx091kd2g840000gn/T/tmp6phe0n5l.lp\n",
      "Reading time = 0.00 seconds\n",
      ": 1121 rows, 2366 columns, 10654 nonzeros\n"
     ]
    },
    {
     "name": "stderr",
     "output_type": "stream",
     "text": [
      "Ignoring reaction 'EX_cpd00047_e0' since it already exists.\n"
     ]
    },
    {
     "name": "stdout",
     "output_type": "stream",
     "text": [
      "Added exchange reaction for cpd00047_c0 in MAG006_gapfilled\n",
      "Added exchange reaction for cpd00029_c0 in MAG006_gapfilled\n",
      "Added exchange reaction for cpd00221_c0 in MAG006_gapfilled\n",
      "Read LP format model from file /var/folders/6w/knrbtrj125ggkrx091kd2g840000gn/T/tmpfw58l7dl.lp\n",
      "Reading time = 0.00 seconds\n",
      ": 1041 rows, 2202 columns, 10036 nonzeros\n"
     ]
    },
    {
     "name": "stderr",
     "output_type": "stream",
     "text": [
      "Ignoring reaction 'EX_cpd00047_e0' since it already exists.\n"
     ]
    },
    {
     "name": "stdout",
     "output_type": "stream",
     "text": [
      "Added exchange reaction for cpd00047_c0 in MAG007_gapfilled\n",
      "Added exchange reaction for cpd00029_c0 in MAG007_gapfilled\n",
      "Added exchange reaction for cpd00159_c0 in MAG007_gapfilled\n",
      "Read LP format model from file /var/folders/6w/knrbtrj125ggkrx091kd2g840000gn/T/tmp9pqv7v63.lp\n",
      "Reading time = 0.00 seconds\n",
      ": 734 rows, 1356 columns, 6456 nonzeros\n",
      "Added exchange reaction for cpd00211_c0 in MAG008_gapfilled\n",
      "Added exchange reaction for cpd00047_c0 in MAG008_gapfilled\n",
      "Added exchange reaction for cpd00029_c0 in MAG008_gapfilled\n",
      "Added exchange reaction for cpd00159_c0 in MAG008_gapfilled\n",
      "Added exchange reaction for cpd00221_c0 in MAG008_gapfilled\n",
      "Read LP format model from file /var/folders/6w/knrbtrj125ggkrx091kd2g840000gn/T/tmp61cnjvzr.lp\n",
      "Reading time = 0.00 seconds\n",
      ": 1090 rows, 2276 columns, 10484 nonzeros\n"
     ]
    },
    {
     "name": "stderr",
     "output_type": "stream",
     "text": [
      "Ignoring reaction 'EX_cpd00159_e0' since it already exists.\n"
     ]
    },
    {
     "name": "stdout",
     "output_type": "stream",
     "text": [
      "Added exchange reaction for cpd00047_c0 in MAG009_gapfilled\n",
      "Added exchange reaction for cpd00029_c0 in MAG009_gapfilled\n",
      "Added exchange reaction for cpd00159_c0 in MAG009_gapfilled\n",
      "Added exchange reaction for cpd00221_c0 in MAG009_gapfilled\n",
      "Read LP format model from file /var/folders/6w/knrbtrj125ggkrx091kd2g840000gn/T/tmpo33toty8.lp\n",
      "Reading time = 0.01 seconds\n",
      ": 1136 rows, 2440 columns, 11064 nonzeros\n",
      "Added exchange reaction for cpd00047_c0 in MAG010_gapfilled\n",
      "Added exchange reaction for cpd00029_c0 in MAG010_gapfilled\n",
      "Added exchange reaction for cpd00141_c0 in MAG010_gapfilled\n",
      "Added exchange reaction for cpd00159_c0 in MAG010_gapfilled\n",
      "Added exchange reaction for cpd00221_c0 in MAG010_gapfilled\n",
      "Read LP format model from file /var/folders/6w/knrbtrj125ggkrx091kd2g840000gn/T/tmpr0an8mk0.lp\n",
      "Reading time = 0.00 seconds\n",
      ": 1182 rows, 2470 columns, 11256 nonzeros\n"
     ]
    },
    {
     "name": "stderr",
     "output_type": "stream",
     "text": [
      "Ignoring reaction 'EX_cpd00047_e0' since it already exists.\n"
     ]
    },
    {
     "name": "stdout",
     "output_type": "stream",
     "text": [
      "Added exchange reaction for cpd00047_c0 in MAG011_gapfilled\n",
      "Added exchange reaction for cpd00029_c0 in MAG011_gapfilled\n",
      "Added exchange reaction for cpd00159_c0 in MAG011_gapfilled\n",
      "Read LP format model from file /var/folders/6w/knrbtrj125ggkrx091kd2g840000gn/T/tmplcrzg1rj.lp\n",
      "Reading time = 0.00 seconds\n",
      ": 871 rows, 1796 columns, 8244 nonzeros\n"
     ]
    },
    {
     "name": "stderr",
     "output_type": "stream",
     "text": [
      "Ignoring reaction 'EX_cpd00047_e0' since it already exists.\n"
     ]
    },
    {
     "name": "stdout",
     "output_type": "stream",
     "text": [
      "Added exchange reaction for cpd00047_c0 in MAG012_gapfilled\n",
      "Added exchange reaction for cpd00029_c0 in MAG012_gapfilled\n",
      "Added exchange reaction for cpd00221_c0 in MAG012_gapfilled\n",
      "Read LP format model from file /var/folders/6w/knrbtrj125ggkrx091kd2g840000gn/T/tmpuvbspryx.lp\n",
      "Reading time = 0.00 seconds\n",
      ": 1051 rows, 2222 columns, 10116 nonzeros\n",
      "Added exchange reaction for cpd00211_c0 in MAG013_gapfilled\n",
      "Added exchange reaction for cpd00047_c0 in MAG013_gapfilled\n",
      "Added exchange reaction for cpd00029_c0 in MAG013_gapfilled\n",
      "Read LP format model from file /var/folders/6w/knrbtrj125ggkrx091kd2g840000gn/T/tmpa_6mz3ao.lp\n",
      "Reading time = 0.00 seconds\n",
      ": 853 rows, 1670 columns, 7728 nonzeros\n"
     ]
    },
    {
     "name": "stderr",
     "output_type": "stream",
     "text": [
      "Ignoring reaction 'EX_cpd00159_e0' since it already exists.\n"
     ]
    },
    {
     "name": "stdout",
     "output_type": "stream",
     "text": [
      "Added exchange reaction for cpd00047_c0 in MAG014_gapfilled\n",
      "Added exchange reaction for cpd00029_c0 in MAG014_gapfilled\n",
      "Added exchange reaction for cpd00159_c0 in MAG014_gapfilled\n",
      "Read LP format model from file /var/folders/6w/knrbtrj125ggkrx091kd2g840000gn/T/tmpumxvzz8v.lp\n",
      "Reading time = 0.00 seconds\n",
      ": 1023 rows, 2160 columns, 9608 nonzeros\n"
     ]
    },
    {
     "name": "stderr",
     "output_type": "stream",
     "text": [
      "Ignoring reaction 'EX_cpd00047_e0' since it already exists.\n"
     ]
    },
    {
     "name": "stdout",
     "output_type": "stream",
     "text": [
      "Added exchange reaction for cpd00047_c0 in MAG015_gapfilled\n",
      "Added exchange reaction for cpd00029_c0 in MAG015_gapfilled\n",
      "Added exchange reaction for cpd00159_c0 in MAG015_gapfilled\n",
      "Added exchange reaction for cpd00221_c0 in MAG015_gapfilled\n",
      "Read LP format model from file /var/folders/6w/knrbtrj125ggkrx091kd2g840000gn/T/tmp0fq9inxu.lp\n",
      "Reading time = 0.00 seconds\n",
      ": 979 rows, 1968 columns, 8856 nonzeros\n",
      "Added exchange reaction for cpd00047_c0 in MAG016_gapfilled\n",
      "Added exchange reaction for cpd00029_c0 in MAG016_gapfilled\n",
      "Added exchange reaction for cpd00221_c0 in MAG016_gapfilled\n",
      "Read LP format model from file /var/folders/6w/knrbtrj125ggkrx091kd2g840000gn/T/tmp1euvq63n.lp\n",
      "Reading time = 0.00 seconds\n",
      ": 796 rows, 1656 columns, 7762 nonzeros\n",
      "Added exchange reaction for cpd00047_c0 in MAG017_gapfilled\n",
      "Added exchange reaction for cpd00029_c0 in MAG017_gapfilled\n",
      "Added exchange reaction for cpd00159_c0 in MAG017_gapfilled\n",
      "Read LP format model from file /var/folders/6w/knrbtrj125ggkrx091kd2g840000gn/T/tmp1viyjln3.lp\n",
      "Reading time = 0.00 seconds\n",
      ": 949 rows, 1888 columns, 8674 nonzeros\n"
     ]
    },
    {
     "name": "stderr",
     "output_type": "stream",
     "text": [
      "Ignoring reaction 'EX_cpd00047_e0' since it already exists.\n"
     ]
    },
    {
     "name": "stdout",
     "output_type": "stream",
     "text": [
      "Added exchange reaction for cpd00047_c0 in MAG018_gapfilled\n",
      "Added exchange reaction for cpd00029_c0 in MAG018_gapfilled\n",
      "Added exchange reaction for cpd00141_c0 in MAG018_gapfilled\n",
      "Added exchange reaction for cpd00221_c0 in MAG018_gapfilled\n",
      "Read LP format model from file /var/folders/6w/knrbtrj125ggkrx091kd2g840000gn/T/tmpg12lj2wh.lp\n",
      "Reading time = 0.00 seconds\n",
      ": 940 rows, 1916 columns, 8760 nonzeros\n"
     ]
    },
    {
     "name": "stderr",
     "output_type": "stream",
     "text": [
      "Ignoring reaction 'EX_cpd00047_e0' since it already exists.\n"
     ]
    },
    {
     "name": "stdout",
     "output_type": "stream",
     "text": [
      "Added exchange reaction for cpd00211_c0 in MAG019_gapfilled\n",
      "Added exchange reaction for cpd00047_c0 in MAG019_gapfilled\n",
      "Added exchange reaction for cpd00029_c0 in MAG019_gapfilled\n",
      "Added exchange reaction for cpd00221_c0 in MAG019_gapfilled\n",
      "Read LP format model from file /var/folders/6w/knrbtrj125ggkrx091kd2g840000gn/T/tmp1uhsgrgn.lp\n",
      "Reading time = 0.00 seconds\n",
      ": 1008 rows, 2116 columns, 9570 nonzeros\n"
     ]
    },
    {
     "name": "stderr",
     "output_type": "stream",
     "text": [
      "Ignoring reaction 'EX_cpd00047_e0' since it already exists.\n"
     ]
    },
    {
     "name": "stdout",
     "output_type": "stream",
     "text": [
      "Added exchange reaction for cpd00211_c0 in MAG020_gapfilled\n",
      "Added exchange reaction for cpd00047_c0 in MAG020_gapfilled\n",
      "Added exchange reaction for cpd00029_c0 in MAG020_gapfilled\n",
      "Added exchange reaction for cpd00221_c0 in MAG020_gapfilled\n",
      "Read LP format model from file /var/folders/6w/knrbtrj125ggkrx091kd2g840000gn/T/tmp97kz9r_s.lp\n",
      "Reading time = 0.00 seconds\n",
      ": 992 rows, 2062 columns, 9340 nonzeros\n"
     ]
    },
    {
     "name": "stderr",
     "output_type": "stream",
     "text": [
      "Ignoring reaction 'EX_cpd00047_e0' since it already exists.\n",
      "Ignoring reaction 'EX_cpd00029_e0' since it already exists.\n"
     ]
    },
    {
     "name": "stdout",
     "output_type": "stream",
     "text": [
      "Added exchange reaction for cpd00047_c0 in MAG021_gapfilled\n",
      "Added exchange reaction for cpd00029_c0 in MAG021_gapfilled\n",
      "Added exchange reaction for cpd00159_c0 in MAG021_gapfilled\n",
      "Read LP format model from file /var/folders/6w/knrbtrj125ggkrx091kd2g840000gn/T/tmpge1z3j7b.lp\n",
      "Reading time = 0.00 seconds\n",
      ": 781 rows, 1552 columns, 7434 nonzeros\n",
      "Added exchange reaction for cpd00047_c0 in MAG022_gapfilled\n",
      "Added exchange reaction for cpd00029_c0 in MAG022_gapfilled\n",
      "Read LP format model from file /var/folders/6w/knrbtrj125ggkrx091kd2g840000gn/T/tmptv304tgc.lp\n",
      "Reading time = 0.00 seconds\n",
      ": 490 rows, 920 columns, 4444 nonzeros\n",
      "Added exchange reaction for cpd00047_c0 in MAG023_gapfilled\n",
      "Added exchange reaction for cpd00029_c0 in MAG023_gapfilled\n",
      "Added exchange reaction for cpd00221_c0 in MAG023_gapfilled\n",
      "Read LP format model from file /var/folders/6w/knrbtrj125ggkrx091kd2g840000gn/T/tmpkobw_r35.lp\n",
      "Reading time = 0.00 seconds\n",
      ": 806 rows, 1638 columns, 7556 nonzeros\n"
     ]
    },
    {
     "name": "stderr",
     "output_type": "stream",
     "text": [
      "Ignoring reaction 'EX_cpd00211_e0' since it already exists.\n",
      "Ignoring reaction 'EX_cpd00047_e0' since it already exists.\n"
     ]
    },
    {
     "name": "stdout",
     "output_type": "stream",
     "text": [
      "Added exchange reaction for cpd00211_c0 in MAG024_gapfilled\n",
      "Added exchange reaction for cpd00047_c0 in MAG024_gapfilled\n",
      "Added exchange reaction for cpd00029_c0 in MAG024_gapfilled\n",
      "Added exchange reaction for cpd00221_c0 in MAG024_gapfilled\n",
      "Read LP format model from file /var/folders/6w/knrbtrj125ggkrx091kd2g840000gn/T/tmp1v2ikdlw.lp\n",
      "Reading time = 0.00 seconds\n",
      ": 814 rows, 1610 columns, 7300 nonzeros\n"
     ]
    },
    {
     "name": "stderr",
     "output_type": "stream",
     "text": [
      "Ignoring reaction 'EX_cpd00047_e0' since it already exists.\n",
      "Ignoring reaction 'EX_cpd00029_e0' since it already exists.\n"
     ]
    },
    {
     "name": "stdout",
     "output_type": "stream",
     "text": [
      "Added exchange reaction for cpd00211_c0 in MAG025_gapfilled\n",
      "Added exchange reaction for cpd00047_c0 in MAG025_gapfilled\n",
      "Added exchange reaction for cpd00029_c0 in MAG025_gapfilled\n",
      "Added exchange reaction for cpd00221_c0 in MAG025_gapfilled\n",
      "Read LP format model from file /var/folders/6w/knrbtrj125ggkrx091kd2g840000gn/T/tmpazmt0s76.lp\n",
      "Reading time = 0.00 seconds\n",
      ": 695 rows, 1356 columns, 6262 nonzeros\n"
     ]
    },
    {
     "name": "stderr",
     "output_type": "stream",
     "text": [
      "Ignoring reaction 'EX_cpd00211_e0' since it already exists.\n",
      "Ignoring reaction 'EX_cpd00047_e0' since it already exists.\n",
      "Ignoring reaction 'EX_cpd00159_e0' since it already exists.\n"
     ]
    },
    {
     "name": "stdout",
     "output_type": "stream",
     "text": [
      "Added exchange reaction for cpd00211_c0 in MAG026_gapfilled\n",
      "Added exchange reaction for cpd00047_c0 in MAG026_gapfilled\n",
      "Added exchange reaction for cpd00029_c0 in MAG026_gapfilled\n",
      "Added exchange reaction for cpd00159_c0 in MAG026_gapfilled\n",
      "Read LP format model from file /var/folders/6w/knrbtrj125ggkrx091kd2g840000gn/T/tmpu0803bgh.lp\n",
      "Reading time = 0.00 seconds\n",
      ": 995 rows, 2110 columns, 9462 nonzeros\n"
     ]
    },
    {
     "name": "stderr",
     "output_type": "stream",
     "text": [
      "Ignoring reaction 'EX_cpd00047_e0' since it already exists.\n"
     ]
    },
    {
     "name": "stdout",
     "output_type": "stream",
     "text": [
      "Added exchange reaction for cpd00047_c0 in MAG027_gapfilled\n",
      "Added exchange reaction for cpd00029_c0 in MAG027_gapfilled\n",
      "Added exchange reaction for cpd00159_c0 in MAG027_gapfilled\n",
      "Added exchange reaction for cpd00221_c0 in MAG027_gapfilled\n",
      "Read LP format model from file /var/folders/6w/knrbtrj125ggkrx091kd2g840000gn/T/tmpv5dw0dbu.lp\n",
      "Reading time = 0.00 seconds\n",
      ": 985 rows, 2120 columns, 9468 nonzeros\n",
      "Added exchange reaction for cpd00047_c0 in MAG028_gapfilled\n",
      "Added exchange reaction for cpd00029_c0 in MAG028_gapfilled\n",
      "Added exchange reaction for cpd00221_c0 in MAG028_gapfilled\n",
      "Read LP format model from file /var/folders/6w/knrbtrj125ggkrx091kd2g840000gn/T/tmpsaljxbl0.lp\n",
      "Reading time = 0.00 seconds\n",
      ": 918 rows, 1844 columns, 8400 nonzeros\n"
     ]
    },
    {
     "name": "stderr",
     "output_type": "stream",
     "text": [
      "Ignoring reaction 'EX_cpd00047_e0' since it already exists.\n",
      "Ignoring reaction 'EX_cpd00159_e0' since it already exists.\n"
     ]
    },
    {
     "name": "stdout",
     "output_type": "stream",
     "text": [
      "Added exchange reaction for cpd00047_c0 in MAG029_gapfilled\n",
      "Added exchange reaction for cpd00029_c0 in MAG029_gapfilled\n",
      "Added exchange reaction for cpd00159_c0 in MAG029_gapfilled\n",
      "Read LP format model from file /var/folders/6w/knrbtrj125ggkrx091kd2g840000gn/T/tmpt6bdi2f4.lp\n",
      "Reading time = 0.00 seconds\n",
      ": 947 rows, 2008 columns, 9028 nonzeros\n"
     ]
    },
    {
     "name": "stderr",
     "output_type": "stream",
     "text": [
      "Ignoring reaction 'EX_cpd00211_e0' since it already exists.\n",
      "Ignoring reaction 'EX_cpd00029_e0' since it already exists.\n"
     ]
    },
    {
     "name": "stdout",
     "output_type": "stream",
     "text": [
      "Added exchange reaction for cpd00211_c0 in MAG030_gapfilled\n",
      "Added exchange reaction for cpd00047_c0 in MAG030_gapfilled\n",
      "Added exchange reaction for cpd00029_c0 in MAG030_gapfilled\n",
      "Added exchange reaction for cpd00159_c0 in MAG030_gapfilled\n",
      "Read LP format model from file /var/folders/6w/knrbtrj125ggkrx091kd2g840000gn/T/tmplkmxwh1p.lp\n",
      "Reading time = 0.00 seconds\n",
      ": 917 rows, 1908 columns, 8494 nonzeros\n"
     ]
    },
    {
     "name": "stderr",
     "output_type": "stream",
     "text": [
      "Ignoring reaction 'EX_cpd00047_e0' since it already exists.\n"
     ]
    },
    {
     "name": "stdout",
     "output_type": "stream",
     "text": [
      "Added exchange reaction for cpd00047_c0 in MAG031_gapfilled\n",
      "Added exchange reaction for cpd00029_c0 in MAG031_gapfilled\n",
      "Added exchange reaction for cpd00159_c0 in MAG031_gapfilled\n",
      "Added exchange reaction for cpd00221_c0 in MAG031_gapfilled\n",
      "Read LP format model from file /var/folders/6w/knrbtrj125ggkrx091kd2g840000gn/T/tmphss6v5ht.lp\n",
      "Reading time = 0.00 seconds\n",
      ": 958 rows, 1976 columns, 8852 nonzeros\n",
      "Added exchange reaction for cpd00047_c0 in MAG032_gapfilled\n",
      "Added exchange reaction for cpd00029_c0 in MAG032_gapfilled\n",
      "Added exchange reaction for cpd00159_c0 in MAG032_gapfilled\n",
      "Added exchange reaction for cpd00221_c0 in MAG032_gapfilled\n",
      "Read LP format model from file /var/folders/6w/knrbtrj125ggkrx091kd2g840000gn/T/tmp24kxehpr.lp\n",
      "Reading time = 0.00 seconds\n",
      ": 854 rows, 1668 columns, 7572 nonzeros\n",
      "Added exchange reaction for cpd00029_c0 in MAG033_gapfilled\n",
      "Read LP format model from file /var/folders/6w/knrbtrj125ggkrx091kd2g840000gn/T/tmpti09r2rw.lp\n",
      "Reading time = 0.00 seconds\n",
      ": 390 rows, 718 columns, 3474 nonzeros\n",
      "Added exchange reaction for cpd00047_c0 in MAG034_gapfilled\n",
      "Added exchange reaction for cpd00029_c0 in MAG034_gapfilled\n",
      "Read LP format model from file /var/folders/6w/knrbtrj125ggkrx091kd2g840000gn/T/tmpn0voiv_4.lp\n",
      "Reading time = 0.00 seconds\n",
      ": 786 rows, 1534 columns, 7122 nonzeros\n"
     ]
    },
    {
     "name": "stderr",
     "output_type": "stream",
     "text": [
      "Ignoring reaction 'EX_cpd00029_e0' since it already exists.\n"
     ]
    },
    {
     "name": "stdout",
     "output_type": "stream",
     "text": [
      "Added exchange reaction for cpd00047_c0 in MAG035_gapfilled\n",
      "Added exchange reaction for cpd00029_c0 in MAG035_gapfilled\n",
      "Read LP format model from file /var/folders/6w/knrbtrj125ggkrx091kd2g840000gn/T/tmp20p6vwvo.lp\n",
      "Reading time = 0.00 seconds\n",
      ": 957 rows, 1846 columns, 8726 nonzeros\n"
     ]
    },
    {
     "name": "stderr",
     "output_type": "stream",
     "text": [
      "Ignoring reaction 'EX_cpd00047_e0' since it already exists.\n"
     ]
    },
    {
     "name": "stdout",
     "output_type": "stream",
     "text": [
      "Added exchange reaction for cpd00211_c0 in MAG036_gapfilled\n",
      "Added exchange reaction for cpd00047_c0 in MAG036_gapfilled\n",
      "Added exchange reaction for cpd00029_c0 in MAG036_gapfilled\n",
      "Read LP format model from file /var/folders/6w/knrbtrj125ggkrx091kd2g840000gn/T/tmpn2969k8g.lp\n",
      "Reading time = 0.00 seconds\n",
      ": 733 rows, 1448 columns, 6792 nonzeros\n",
      "Added exchange reaction for cpd00047_c0 in MAG037_gapfilled\n",
      "Added exchange reaction for cpd00029_c0 in MAG037_gapfilled\n",
      "Read LP format model from file /var/folders/6w/knrbtrj125ggkrx091kd2g840000gn/T/tmp86v0jeaf.lp\n",
      "Reading time = 0.00 seconds\n",
      ": 686 rows, 1400 columns, 6580 nonzeros\n",
      "Added exchange reaction for cpd00047_c0 in MAG038_gapfilled\n",
      "Added exchange reaction for cpd00029_c0 in MAG038_gapfilled\n",
      "Added exchange reaction for cpd00141_c0 in MAG038_gapfilled\n",
      "Added exchange reaction for cpd00159_c0 in MAG038_gapfilled\n",
      "Added exchange reaction for cpd00221_c0 in MAG038_gapfilled\n",
      "Read LP format model from file /var/folders/6w/knrbtrj125ggkrx091kd2g840000gn/T/tmpn19b4qso.lp\n",
      "Reading time = 0.00 seconds\n",
      ": 1094 rows, 2300 columns, 10466 nonzeros\n"
     ]
    },
    {
     "name": "stderr",
     "output_type": "stream",
     "text": [
      "Ignoring reaction 'EX_cpd00211_e0' since it already exists.\n",
      "Ignoring reaction 'EX_cpd00047_e0' since it already exists.\n"
     ]
    },
    {
     "name": "stdout",
     "output_type": "stream",
     "text": [
      "Added exchange reaction for cpd00211_c0 in MAG039_gapfilled\n",
      "Added exchange reaction for cpd00047_c0 in MAG039_gapfilled\n",
      "Added exchange reaction for cpd00029_c0 in MAG039_gapfilled\n",
      "Added exchange reaction for cpd00159_c0 in MAG039_gapfilled\n",
      "Read LP format model from file /var/folders/6w/knrbtrj125ggkrx091kd2g840000gn/T/tmpsp2e3g0n.lp\n",
      "Reading time = 0.00 seconds\n",
      ": 1067 rows, 2270 columns, 10100 nonzeros\n"
     ]
    },
    {
     "name": "stderr",
     "output_type": "stream",
     "text": [
      "Ignoring reaction 'EX_cpd00047_e0' since it already exists.\n"
     ]
    },
    {
     "name": "stdout",
     "output_type": "stream",
     "text": [
      "Added exchange reaction for cpd00047_c0 in MAG040_gapfilled\n",
      "Added exchange reaction for cpd00029_c0 in MAG040_gapfilled\n",
      "Read LP format model from file /var/folders/6w/knrbtrj125ggkrx091kd2g840000gn/T/tmp0p1oi6he.lp\n",
      "Reading time = 0.00 seconds\n",
      ": 756 rows, 1510 columns, 7310 nonzeros\n"
     ]
    },
    {
     "name": "stderr",
     "output_type": "stream",
     "text": [
      "Ignoring reaction 'EX_cpd00159_e0' since it already exists.\n"
     ]
    },
    {
     "name": "stdout",
     "output_type": "stream",
     "text": [
      "Added exchange reaction for cpd00047_c0 in MAG041_gapfilled\n",
      "Added exchange reaction for cpd00029_c0 in MAG041_gapfilled\n",
      "Added exchange reaction for cpd00141_c0 in MAG041_gapfilled\n",
      "Added exchange reaction for cpd00159_c0 in MAG041_gapfilled\n",
      "Added exchange reaction for cpd00221_c0 in MAG041_gapfilled\n",
      "Read LP format model from file /var/folders/6w/knrbtrj125ggkrx091kd2g840000gn/T/tmpl0mqxs_n.lp\n",
      "Reading time = 0.00 seconds\n",
      ": 1136 rows, 2394 columns, 10946 nonzeros\n"
     ]
    },
    {
     "name": "stderr",
     "output_type": "stream",
     "text": [
      "Ignoring reaction 'EX_cpd00047_e0' since it already exists.\n",
      "Ignoring reaction 'EX_cpd00029_e0' since it already exists.\n"
     ]
    },
    {
     "name": "stdout",
     "output_type": "stream",
     "text": [
      "Added exchange reaction for cpd00047_c0 in MAG042_gapfilled\n",
      "Added exchange reaction for cpd00029_c0 in MAG042_gapfilled\n",
      "Added exchange reaction for cpd00221_c0 in MAG042_gapfilled\n",
      "Read LP format model from file /var/folders/6w/knrbtrj125ggkrx091kd2g840000gn/T/tmpi85v1hei.lp\n",
      "Reading time = 0.00 seconds\n",
      ": 927 rows, 1814 columns, 8416 nonzeros\n"
     ]
    },
    {
     "name": "stderr",
     "output_type": "stream",
     "text": [
      "Ignoring reaction 'EX_cpd00047_e0' since it already exists.\n"
     ]
    },
    {
     "name": "stdout",
     "output_type": "stream",
     "text": [
      "Added exchange reaction for cpd00211_c0 in MAG043_gapfilled\n",
      "Added exchange reaction for cpd00047_c0 in MAG043_gapfilled\n",
      "Added exchange reaction for cpd00029_c0 in MAG043_gapfilled\n",
      "Read LP format model from file /var/folders/6w/knrbtrj125ggkrx091kd2g840000gn/T/tmpfp2i5vbd.lp\n",
      "Reading time = 0.00 seconds\n",
      ": 937 rows, 1886 columns, 8746 nonzeros\n",
      "Added exchange reaction for cpd00047_c0 in MAG044_gapfilled\n",
      "Added exchange reaction for cpd00029_c0 in MAG044_gapfilled\n",
      "Added exchange reaction for cpd00221_c0 in MAG044_gapfilled\n",
      "Read LP format model from file /var/folders/6w/knrbtrj125ggkrx091kd2g840000gn/T/tmpwim6o_tj.lp\n",
      "Reading time = 0.00 seconds\n",
      ": 884 rows, 1788 columns, 8236 nonzeros\n"
     ]
    },
    {
     "name": "stderr",
     "output_type": "stream",
     "text": [
      "Ignoring reaction 'EX_cpd00047_e0' since it already exists.\n",
      "Ignoring reaction 'EX_cpd00029_e0' since it already exists.\n"
     ]
    },
    {
     "name": "stdout",
     "output_type": "stream",
     "text": [
      "Added exchange reaction for cpd00047_c0 in MAG045_gapfilled\n",
      "Added exchange reaction for cpd00029_c0 in MAG045_gapfilled\n",
      "Added exchange reaction for cpd00221_c0 in MAG045_gapfilled\n",
      "Read LP format model from file /var/folders/6w/knrbtrj125ggkrx091kd2g840000gn/T/tmpuk1lvn8a.lp\n",
      "Reading time = 0.00 seconds\n",
      ": 773 rows, 1578 columns, 7084 nonzeros\n",
      "Added exchange reaction for cpd00047_c0 in MAG046_gapfilled\n",
      "Added exchange reaction for cpd00029_c0 in MAG046_gapfilled\n",
      "Read LP format model from file /var/folders/6w/knrbtrj125ggkrx091kd2g840000gn/T/tmpuo96e7dc.lp\n",
      "Reading time = 0.00 seconds\n",
      ": 847 rows, 1666 columns, 7610 nonzeros\n",
      "Added exchange reaction for cpd00047_c0 in MAG047_gapfilled\n",
      "Added exchange reaction for cpd00029_c0 in MAG047_gapfilled\n",
      "Read LP format model from file /var/folders/6w/knrbtrj125ggkrx091kd2g840000gn/T/tmp90rnhd6v.lp\n",
      "Reading time = 0.00 seconds\n",
      ": 946 rows, 1924 columns, 8946 nonzeros\n"
     ]
    },
    {
     "name": "stderr",
     "output_type": "stream",
     "text": [
      "Ignoring reaction 'EX_cpd00047_e0' since it already exists.\n"
     ]
    },
    {
     "name": "stdout",
     "output_type": "stream",
     "text": [
      "Added exchange reaction for cpd00047_c0 in MAG048_gapfilled\n",
      "Added exchange reaction for cpd00029_c0 in MAG048_gapfilled\n",
      "Added exchange reaction for cpd00221_c0 in MAG048_gapfilled\n",
      "Read LP format model from file /var/folders/6w/knrbtrj125ggkrx091kd2g840000gn/T/tmp0494rlpy.lp\n",
      "Reading time = 0.00 seconds\n",
      ": 963 rows, 1888 columns, 8702 nonzeros\n"
     ]
    },
    {
     "name": "stderr",
     "output_type": "stream",
     "text": [
      "Ignoring reaction 'EX_cpd00047_e0' since it already exists.\n"
     ]
    },
    {
     "name": "stdout",
     "output_type": "stream",
     "text": [
      "Added exchange reaction for cpd00047_c0 in MAG049_gapfilled\n",
      "Added exchange reaction for cpd00029_c0 in MAG049_gapfilled\n",
      "Read LP format model from file /var/folders/6w/knrbtrj125ggkrx091kd2g840000gn/T/tmpg69fpvvx.lp\n",
      "Reading time = 0.00 seconds\n",
      ": 690 rows, 1300 columns, 6274 nonzeros\n",
      "Added exchange reaction for cpd00047_c0 in MAG050_gapfilled\n",
      "Added exchange reaction for cpd00029_c0 in MAG050_gapfilled\n",
      "Added exchange reaction for cpd00221_c0 in MAG050_gapfilled\n",
      "Read LP format model from file /var/folders/6w/knrbtrj125ggkrx091kd2g840000gn/T/tmpcimt2b0y.lp\n",
      "Reading time = 0.00 seconds\n",
      ": 670 rows, 1296 columns, 6082 nonzeros\n",
      "Added exchange reaction for cpd00047_c0 in MAG051_gapfilled\n",
      "Added exchange reaction for cpd00029_c0 in MAG051_gapfilled\n",
      "Added exchange reaction for cpd00221_c0 in MAG051_gapfilled\n",
      "Read LP format model from file /var/folders/6w/knrbtrj125ggkrx091kd2g840000gn/T/tmpkk0ivuy9.lp\n",
      "Reading time = 0.00 seconds\n",
      ": 967 rows, 1952 columns, 8856 nonzeros\n"
     ]
    },
    {
     "name": "stderr",
     "output_type": "stream",
     "text": [
      "Ignoring reaction 'EX_cpd00047_e0' since it already exists.\n",
      "Ignoring reaction 'EX_cpd00029_e0' since it already exists.\n"
     ]
    },
    {
     "name": "stdout",
     "output_type": "stream",
     "text": [
      "Added exchange reaction for cpd00047_c0 in MAG052_gapfilled\n",
      "Added exchange reaction for cpd00029_c0 in MAG052_gapfilled\n",
      "Read LP format model from file /var/folders/6w/knrbtrj125ggkrx091kd2g840000gn/T/tmpnltk6snx.lp\n",
      "Reading time = 0.00 seconds\n",
      ": 782 rows, 1598 columns, 7612 nonzeros\n"
     ]
    },
    {
     "name": "stderr",
     "output_type": "stream",
     "text": [
      "Ignoring reaction 'EX_cpd00047_e0' since it already exists.\n"
     ]
    },
    {
     "name": "stdout",
     "output_type": "stream",
     "text": [
      "Added exchange reaction for cpd00047_c0 in MAG053_gapfilled\n",
      "Added exchange reaction for cpd00029_c0 in MAG053_gapfilled\n",
      "Added exchange reaction for cpd00221_c0 in MAG053_gapfilled\n",
      "Read LP format model from file /var/folders/6w/knrbtrj125ggkrx091kd2g840000gn/T/tmpar6v5aat.lp\n",
      "Reading time = 0.00 seconds\n",
      ": 981 rows, 2056 columns, 9284 nonzeros\n",
      "Added exchange reaction for cpd00211_c0 in MAG054_gapfilled\n",
      "Added exchange reaction for cpd00047_c0 in MAG054_gapfilled\n",
      "Added exchange reaction for cpd00029_c0 in MAG054_gapfilled\n",
      "Read LP format model from file /var/folders/6w/knrbtrj125ggkrx091kd2g840000gn/T/tmpk6yfe_le.lp\n",
      "Reading time = 0.00 seconds\n",
      ": 849 rows, 1652 columns, 7646 nonzeros\n"
     ]
    },
    {
     "name": "stderr",
     "output_type": "stream",
     "text": [
      "Ignoring reaction 'EX_cpd00159_e0' since it already exists.\n"
     ]
    },
    {
     "name": "stdout",
     "output_type": "stream",
     "text": [
      "Added exchange reaction for cpd00211_c0 in MAG055_gapfilled\n",
      "Added exchange reaction for cpd00047_c0 in MAG055_gapfilled\n",
      "Added exchange reaction for cpd00029_c0 in MAG055_gapfilled\n",
      "Added exchange reaction for cpd00159_c0 in MAG055_gapfilled\n",
      "Read LP format model from file /var/folders/6w/knrbtrj125ggkrx091kd2g840000gn/T/tmpjbasq9c0.lp\n",
      "Reading time = 0.00 seconds\n",
      ": 1015 rows, 2088 columns, 9400 nonzeros\n",
      "Added exchange reaction for cpd00211_c0 in MAG056_gapfilled\n",
      "Added exchange reaction for cpd00047_c0 in MAG056_gapfilled\n",
      "Added exchange reaction for cpd00029_c0 in MAG056_gapfilled\n",
      "Added exchange reaction for cpd00159_c0 in MAG056_gapfilled\n",
      "Added exchange reaction for cpd00221_c0 in MAG056_gapfilled\n",
      "Read LP format model from file /var/folders/6w/knrbtrj125ggkrx091kd2g840000gn/T/tmp_m8zzrqm.lp\n",
      "Reading time = 0.00 seconds\n",
      ": 1009 rows, 2162 columns, 9574 nonzeros\n",
      "Added exchange reaction for cpd00047_c0 in MAG057_gapfilled\n",
      "Added exchange reaction for cpd00029_c0 in MAG057_gapfilled\n",
      "Read LP format model from file /var/folders/6w/knrbtrj125ggkrx091kd2g840000gn/T/tmpbk1xpncy.lp\n",
      "Reading time = 0.00 seconds\n",
      ": 935 rows, 1858 columns, 8694 nonzeros\n"
     ]
    },
    {
     "name": "stderr",
     "output_type": "stream",
     "text": [
      "Ignoring reaction 'EX_cpd00047_e0' since it already exists.\n",
      "Ignoring reaction 'EX_cpd00159_e0' since it already exists.\n"
     ]
    },
    {
     "name": "stdout",
     "output_type": "stream",
     "text": [
      "Added exchange reaction for cpd00047_c0 in MAG058_gapfilled\n",
      "Added exchange reaction for cpd00029_c0 in MAG058_gapfilled\n",
      "Added exchange reaction for cpd00159_c0 in MAG058_gapfilled\n",
      "Read LP format model from file /var/folders/6w/knrbtrj125ggkrx091kd2g840000gn/T/tmp4wtmbces.lp\n",
      "Reading time = 0.00 seconds\n",
      ": 881 rows, 1734 columns, 7870 nonzeros\n"
     ]
    },
    {
     "name": "stderr",
     "output_type": "stream",
     "text": [
      "Ignoring reaction 'EX_cpd00047_e0' since it already exists.\n",
      "Ignoring reaction 'EX_cpd00159_e0' since it already exists.\n"
     ]
    },
    {
     "name": "stdout",
     "output_type": "stream",
     "text": [
      "Added exchange reaction for cpd00211_c0 in MAG059_gapfilled\n",
      "Added exchange reaction for cpd00047_c0 in MAG059_gapfilled\n",
      "Added exchange reaction for cpd00029_c0 in MAG059_gapfilled\n",
      "Added exchange reaction for cpd00159_c0 in MAG059_gapfilled\n",
      "Read LP format model from file /var/folders/6w/knrbtrj125ggkrx091kd2g840000gn/T/tmpvwvmppcl.lp\n",
      "Reading time = 0.01 seconds\n",
      ": 1160 rows, 2474 columns, 11168 nonzeros\n"
     ]
    },
    {
     "name": "stderr",
     "output_type": "stream",
     "text": [
      "Ignoring reaction 'EX_cpd00047_e0' since it already exists.\n",
      "Ignoring reaction 'EX_cpd00159_e0' since it already exists.\n"
     ]
    },
    {
     "name": "stdout",
     "output_type": "stream",
     "text": [
      "Added exchange reaction for cpd00211_c0 in MAG060_gapfilled\n",
      "Added exchange reaction for cpd00047_c0 in MAG060_gapfilled\n",
      "Added exchange reaction for cpd00029_c0 in MAG060_gapfilled\n",
      "Added exchange reaction for cpd00159_c0 in MAG060_gapfilled\n",
      "Read LP format model from file /var/folders/6w/knrbtrj125ggkrx091kd2g840000gn/T/tmpfc61s1nd.lp\n",
      "Reading time = 0.00 seconds\n",
      ": 1044 rows, 2158 columns, 9734 nonzeros\n"
     ]
    },
    {
     "name": "stderr",
     "output_type": "stream",
     "text": [
      "Ignoring reaction 'EX_cpd00047_e0' since it already exists.\n",
      "Ignoring reaction 'EX_cpd00159_e0' since it already exists.\n"
     ]
    },
    {
     "name": "stdout",
     "output_type": "stream",
     "text": [
      "Added exchange reaction for cpd00047_c0 in MAG061_gapfilled\n",
      "Added exchange reaction for cpd00029_c0 in MAG061_gapfilled\n",
      "Added exchange reaction for cpd00159_c0 in MAG061_gapfilled\n",
      "Added exchange reaction for cpd00221_c0 in MAG061_gapfilled\n",
      "Read LP format model from file /var/folders/6w/knrbtrj125ggkrx091kd2g840000gn/T/tmpk0yskudx.lp\n",
      "Reading time = 0.00 seconds\n",
      ": 1051 rows, 2206 columns, 9868 nonzeros\n"
     ]
    },
    {
     "name": "stderr",
     "output_type": "stream",
     "text": [
      "Ignoring reaction 'EX_cpd00159_e0' since it already exists.\n"
     ]
    },
    {
     "name": "stdout",
     "output_type": "stream",
     "text": [
      "Added exchange reaction for cpd00047_c0 in MAG062_gapfilled\n",
      "Added exchange reaction for cpd00029_c0 in MAG062_gapfilled\n",
      "Added exchange reaction for cpd00159_c0 in MAG062_gapfilled\n",
      "Added exchange reaction for cpd00221_c0 in MAG062_gapfilled\n",
      "Read LP format model from file /var/folders/6w/knrbtrj125ggkrx091kd2g840000gn/T/tmpalmj9ogs.lp\n",
      "Reading time = 0.00 seconds\n",
      ": 819 rows, 1672 columns, 7566 nonzeros\n"
     ]
    },
    {
     "name": "stderr",
     "output_type": "stream",
     "text": [
      "Ignoring reaction 'EX_cpd00047_e0' since it already exists.\n"
     ]
    },
    {
     "name": "stdout",
     "output_type": "stream",
     "text": [
      "Added exchange reaction for cpd00047_c0 in MAG063_gapfilled\n",
      "Added exchange reaction for cpd00029_c0 in MAG063_gapfilled\n",
      "Added exchange reaction for cpd00159_c0 in MAG063_gapfilled\n",
      "Read LP format model from file /var/folders/6w/knrbtrj125ggkrx091kd2g840000gn/T/tmp940z51_h.lp\n",
      "Reading time = 0.00 seconds\n",
      ": 945 rows, 1916 columns, 8876 nonzeros\n",
      "Added exchange reaction for cpd00047_c0 in MAG064_gapfilled\n",
      "Added exchange reaction for cpd00029_c0 in MAG064_gapfilled\n",
      "Added exchange reaction for cpd00159_c0 in MAG064_gapfilled\n",
      "Added exchange reaction for cpd00221_c0 in MAG064_gapfilled\n",
      "Read LP format model from file /var/folders/6w/knrbtrj125ggkrx091kd2g840000gn/T/tmpadlxinrl.lp\n",
      "Reading time = 0.00 seconds\n",
      ": 753 rows, 1530 columns, 6980 nonzeros\n",
      "Added exchange reaction for cpd00047_c0 in MAG065_gapfilled\n",
      "Added exchange reaction for cpd00029_c0 in MAG065_gapfilled\n",
      "Read LP format model from file /var/folders/6w/knrbtrj125ggkrx091kd2g840000gn/T/tmpinrlrigf.lp\n",
      "Reading time = 0.00 seconds\n",
      ": 948 rows, 1992 columns, 8946 nonzeros\n"
     ]
    },
    {
     "name": "stderr",
     "output_type": "stream",
     "text": [
      "Ignoring reaction 'EX_cpd00047_e0' since it already exists.\n"
     ]
    },
    {
     "name": "stdout",
     "output_type": "stream",
     "text": [
      "Added exchange reaction for cpd00211_c0 in MAG066_gapfilled\n",
      "Added exchange reaction for cpd00047_c0 in MAG066_gapfilled\n",
      "Added exchange reaction for cpd00029_c0 in MAG066_gapfilled\n",
      "Read LP format model from file /var/folders/6w/knrbtrj125ggkrx091kd2g840000gn/T/tmpl73_9ahq.lp\n",
      "Reading time = 0.00 seconds\n",
      ": 941 rows, 1906 columns, 8778 nonzeros\n"
     ]
    },
    {
     "name": "stderr",
     "output_type": "stream",
     "text": [
      "Ignoring reaction 'EX_cpd00047_e0' since it already exists.\n"
     ]
    },
    {
     "name": "stdout",
     "output_type": "stream",
     "text": [
      "Added exchange reaction for cpd00211_c0 in MAG067_gapfilled\n",
      "Added exchange reaction for cpd00047_c0 in MAG067_gapfilled\n",
      "Added exchange reaction for cpd00029_c0 in MAG067_gapfilled\n",
      "Read LP format model from file /var/folders/6w/knrbtrj125ggkrx091kd2g840000gn/T/tmp9djdp19d.lp\n",
      "Reading time = 0.00 seconds\n",
      ": 945 rows, 1944 columns, 8848 nonzeros\n",
      "Added exchange reaction for cpd00047_c0 in MAG068_gapfilled\n",
      "Added exchange reaction for cpd00029_c0 in MAG068_gapfilled\n",
      "Read LP format model from file /var/folders/6w/knrbtrj125ggkrx091kd2g840000gn/T/tmpdfv9vbu9.lp\n",
      "Reading time = 0.00 seconds\n",
      ": 758 rows, 1512 columns, 6988 nonzeros\n",
      "Added exchange reaction for cpd00047_c0 in MAG069_gapfilled\n",
      "Added exchange reaction for cpd00029_c0 in MAG069_gapfilled\n",
      "Added exchange reaction for cpd00221_c0 in MAG069_gapfilled\n",
      "Read LP format model from file /var/folders/6w/knrbtrj125ggkrx091kd2g840000gn/T/tmpo92bsle3.lp\n",
      "Reading time = 0.00 seconds\n",
      ": 1033 rows, 2216 columns, 10072 nonzeros\n"
     ]
    },
    {
     "name": "stderr",
     "output_type": "stream",
     "text": [
      "Ignoring reaction 'EX_cpd00047_e0' since it already exists.\n",
      "Ignoring reaction 'EX_cpd00159_e0' since it already exists.\n"
     ]
    },
    {
     "name": "stdout",
     "output_type": "stream",
     "text": [
      "Added exchange reaction for cpd00047_c0 in MAG070_gapfilled\n",
      "Added exchange reaction for cpd00029_c0 in MAG070_gapfilled\n",
      "Added exchange reaction for cpd00141_c0 in MAG070_gapfilled\n",
      "Added exchange reaction for cpd00159_c0 in MAG070_gapfilled\n",
      "Added exchange reaction for cpd00221_c0 in MAG070_gapfilled\n",
      "Read LP format model from file /var/folders/6w/knrbtrj125ggkrx091kd2g840000gn/T/tmpzvu0pya6.lp\n",
      "Reading time = 0.01 seconds\n",
      ": 1228 rows, 2854 columns, 12810 nonzeros\n",
      "Added exchange reaction for cpd00211_c0 in MAG071_gapfilled\n",
      "Added exchange reaction for cpd00047_c0 in MAG071_gapfilled\n",
      "Added exchange reaction for cpd00029_c0 in MAG071_gapfilled\n",
      "Added exchange reaction for cpd00141_c0 in MAG071_gapfilled\n",
      "Read LP format model from file /var/folders/6w/knrbtrj125ggkrx091kd2g840000gn/T/tmpfswdhdl4.lp\n",
      "Reading time = 0.00 seconds\n",
      ": 862 rows, 1728 columns, 7884 nonzeros\n",
      "Added exchange reaction for cpd00047_c0 in MAG072_gapfilled\n",
      "Added exchange reaction for cpd00029_c0 in MAG072_gapfilled\n",
      "Read LP format model from file /var/folders/6w/knrbtrj125ggkrx091kd2g840000gn/T/tmpqwhd7vcb.lp\n",
      "Reading time = 0.00 seconds\n",
      ": 890 rows, 1894 columns, 8606 nonzeros\n"
     ]
    },
    {
     "name": "stderr",
     "output_type": "stream",
     "text": [
      "Ignoring reaction 'EX_cpd00047_e0' since it already exists.\n",
      "Ignoring reaction 'EX_cpd00159_e0' since it already exists.\n"
     ]
    },
    {
     "name": "stdout",
     "output_type": "stream",
     "text": [
      "Added exchange reaction for cpd00047_c0 in MAG073_gapfilled\n",
      "Added exchange reaction for cpd00029_c0 in MAG073_gapfilled\n",
      "Added exchange reaction for cpd00159_c0 in MAG073_gapfilled\n",
      "Read LP format model from file /var/folders/6w/knrbtrj125ggkrx091kd2g840000gn/T/tmpwfy14ph1.lp\n",
      "Reading time = 0.00 seconds\n",
      ": 1009 rows, 2064 columns, 9388 nonzeros\n"
     ]
    },
    {
     "name": "stderr",
     "output_type": "stream",
     "text": [
      "Ignoring reaction 'EX_cpd00029_e0' since it already exists.\n",
      "Ignoring reaction 'EX_cpd00159_e0' since it already exists.\n"
     ]
    },
    {
     "name": "stdout",
     "output_type": "stream",
     "text": [
      "Added exchange reaction for cpd00047_c0 in MAG074_gapfilled\n",
      "Added exchange reaction for cpd00029_c0 in MAG074_gapfilled\n",
      "Added exchange reaction for cpd00159_c0 in MAG074_gapfilled\n",
      "Read LP format model from file /var/folders/6w/knrbtrj125ggkrx091kd2g840000gn/T/tmpnm2j6jna.lp\n",
      "Reading time = 0.00 seconds\n",
      ": 1004 rows, 2062 columns, 9404 nonzeros\n"
     ]
    },
    {
     "name": "stderr",
     "output_type": "stream",
     "text": [
      "Ignoring reaction 'EX_cpd00047_e0' since it already exists.\n"
     ]
    },
    {
     "name": "stdout",
     "output_type": "stream",
     "text": [
      "Added exchange reaction for cpd00211_c0 in MAG075_gapfilled\n",
      "Added exchange reaction for cpd00047_c0 in MAG075_gapfilled\n",
      "Added exchange reaction for cpd00029_c0 in MAG075_gapfilled\n",
      "Read LP format model from file /var/folders/6w/knrbtrj125ggkrx091kd2g840000gn/T/tmp62miv09k.lp\n",
      "Reading time = 0.00 seconds\n",
      ": 814 rows, 1650 columns, 7684 nonzeros\n"
     ]
    },
    {
     "name": "stderr",
     "output_type": "stream",
     "text": [
      "Ignoring reaction 'EX_cpd00211_e0' since it already exists.\n",
      "Ignoring reaction 'EX_cpd00159_e0' since it already exists.\n"
     ]
    },
    {
     "name": "stdout",
     "output_type": "stream",
     "text": [
      "Added exchange reaction for cpd00211_c0 in MAG076_gapfilled\n",
      "Added exchange reaction for cpd00047_c0 in MAG076_gapfilled\n",
      "Added exchange reaction for cpd00029_c0 in MAG076_gapfilled\n",
      "Added exchange reaction for cpd00159_c0 in MAG076_gapfilled\n",
      "Read LP format model from file /var/folders/6w/knrbtrj125ggkrx091kd2g840000gn/T/tmph61ohc1o.lp\n",
      "Reading time = 0.00 seconds\n",
      ": 797 rows, 1652 columns, 7436 nonzeros\n"
     ]
    },
    {
     "name": "stderr",
     "output_type": "stream",
     "text": [
      "Ignoring reaction 'EX_cpd00029_e0' since it already exists.\n"
     ]
    },
    {
     "name": "stdout",
     "output_type": "stream",
     "text": [
      "Added exchange reaction for cpd00047_c0 in MAG077_gapfilled\n",
      "Added exchange reaction for cpd00029_c0 in MAG077_gapfilled\n",
      "Added exchange reaction for cpd00221_c0 in MAG077_gapfilled\n",
      "Read LP format model from file /var/folders/6w/knrbtrj125ggkrx091kd2g840000gn/T/tmpqij3giws.lp\n",
      "Reading time = 0.00 seconds\n",
      ": 854 rows, 1686 columns, 7738 nonzeros\n",
      "Added exchange reaction for cpd00047_c0 in MAG078_gapfilled\n",
      "Added exchange reaction for cpd00029_c0 in MAG078_gapfilled\n",
      "Read LP format model from file /var/folders/6w/knrbtrj125ggkrx091kd2g840000gn/T/tmpqjoa7w5c.lp\n",
      "Reading time = 0.00 seconds\n",
      ": 882 rows, 1794 columns, 8186 nonzeros\n"
     ]
    },
    {
     "name": "stderr",
     "output_type": "stream",
     "text": [
      "Ignoring reaction 'EX_cpd00047_e0' since it already exists.\n",
      "Ignoring reaction 'EX_cpd00029_e0' since it already exists.\n"
     ]
    },
    {
     "name": "stdout",
     "output_type": "stream",
     "text": [
      "Added exchange reaction for cpd00047_c0 in MAG079_gapfilled\n",
      "Added exchange reaction for cpd00029_c0 in MAG079_gapfilled\n",
      "Added exchange reaction for cpd00221_c0 in MAG079_gapfilled\n",
      "Read LP format model from file /var/folders/6w/knrbtrj125ggkrx091kd2g840000gn/T/tmp60cbz9wh.lp\n",
      "Reading time = 0.00 seconds\n",
      ": 950 rows, 1892 columns, 8634 nonzeros\n"
     ]
    },
    {
     "name": "stderr",
     "output_type": "stream",
     "text": [
      "Ignoring reaction 'EX_cpd00047_e0' since it already exists.\n"
     ]
    },
    {
     "name": "stdout",
     "output_type": "stream",
     "text": [
      "Added exchange reaction for cpd00047_c0 in MAG080_gapfilled\n",
      "Added exchange reaction for cpd00029_c0 in MAG080_gapfilled\n",
      "Read LP format model from file /var/folders/6w/knrbtrj125ggkrx091kd2g840000gn/T/tmp34xj7k3j.lp\n",
      "Reading time = 0.00 seconds\n",
      ": 876 rows, 1756 columns, 8062 nonzeros\n"
     ]
    },
    {
     "name": "stderr",
     "output_type": "stream",
     "text": [
      "Ignoring reaction 'EX_cpd00047_e0' since it already exists.\n"
     ]
    },
    {
     "name": "stdout",
     "output_type": "stream",
     "text": [
      "Added exchange reaction for cpd00047_c0 in MAG081_gapfilled\n",
      "Added exchange reaction for cpd00029_c0 in MAG081_gapfilled\n",
      "Added exchange reaction for cpd00221_c0 in MAG081_gapfilled\n",
      "Read LP format model from file /var/folders/6w/knrbtrj125ggkrx091kd2g840000gn/T/tmp6l_io1lj.lp\n",
      "Reading time = 0.00 seconds\n",
      ": 952 rows, 1940 columns, 8774 nonzeros\n",
      "Added exchange reaction for cpd00211_c0 in MAG082_gapfilled\n",
      "Added exchange reaction for cpd00047_c0 in MAG082_gapfilled\n",
      "Added exchange reaction for cpd00029_c0 in MAG082_gapfilled\n",
      "Added exchange reaction for cpd00159_c0 in MAG082_gapfilled\n",
      "Added exchange reaction for cpd00221_c0 in MAG082_gapfilled\n",
      "Read LP format model from file /var/folders/6w/knrbtrj125ggkrx091kd2g840000gn/T/tmplx823lw_.lp\n",
      "Reading time = 0.00 seconds\n",
      ": 775 rows, 1564 columns, 7226 nonzeros\n"
     ]
    },
    {
     "name": "stderr",
     "output_type": "stream",
     "text": [
      "Ignoring reaction 'EX_cpd00047_e0' since it already exists.\n"
     ]
    },
    {
     "name": "stdout",
     "output_type": "stream",
     "text": [
      "Added exchange reaction for cpd00211_c0 in MAG083_gapfilled\n",
      "Added exchange reaction for cpd00047_c0 in MAG083_gapfilled\n",
      "Added exchange reaction for cpd00029_c0 in MAG083_gapfilled\n",
      "Read LP format model from file /var/folders/6w/knrbtrj125ggkrx091kd2g840000gn/T/tmp_82idwxi.lp\n",
      "Reading time = 0.00 seconds\n",
      ": 937 rows, 1912 columns, 8762 nonzeros\n",
      "Added exchange reaction for cpd00211_c0 in MAG084_gapfilled\n",
      "Added exchange reaction for cpd00047_c0 in MAG084_gapfilled\n",
      "Added exchange reaction for cpd00029_c0 in MAG084_gapfilled\n",
      "Added exchange reaction for cpd00159_c0 in MAG084_gapfilled\n",
      "Read LP format model from file /var/folders/6w/knrbtrj125ggkrx091kd2g840000gn/T/tmpuni_4xw9.lp\n",
      "Reading time = 0.00 seconds\n",
      ": 735 rows, 1460 columns, 6656 nonzeros\n",
      "Added exchange reaction for cpd00047_c0 in MAG085_gapfilled\n",
      "Added exchange reaction for cpd00029_c0 in MAG085_gapfilled\n",
      "Added exchange reaction for cpd00221_c0 in MAG085_gapfilled\n",
      "Read LP format model from file /var/folders/6w/knrbtrj125ggkrx091kd2g840000gn/T/tmpgmpuvtae.lp\n",
      "Reading time = 0.00 seconds\n",
      ": 1052 rows, 2242 columns, 10284 nonzeros\n",
      "Added exchange reaction for cpd00211_c0 in MAG086_gapfilled\n",
      "Added exchange reaction for cpd00047_c0 in MAG086_gapfilled\n",
      "Added exchange reaction for cpd00029_c0 in MAG086_gapfilled\n",
      "Added exchange reaction for cpd00159_c0 in MAG086_gapfilled\n",
      "Read LP format model from file /var/folders/6w/knrbtrj125ggkrx091kd2g840000gn/T/tmpmkbkbdoj.lp\n",
      "Reading time = 0.00 seconds\n",
      ": 728 rows, 1426 columns, 6634 nonzeros\n",
      "Added exchange reaction for cpd00211_c0 in MAG087_gapfilled\n",
      "Added exchange reaction for cpd00047_c0 in MAG087_gapfilled\n",
      "Added exchange reaction for cpd00029_c0 in MAG087_gapfilled\n",
      "Added exchange reaction for cpd00159_c0 in MAG087_gapfilled\n",
      "Read LP format model from file /var/folders/6w/knrbtrj125ggkrx091kd2g840000gn/T/tmpmj_29hjo.lp\n",
      "Reading time = 0.00 seconds\n",
      ": 722 rows, 1432 columns, 6568 nonzeros\n",
      "Added exchange reaction for cpd00211_c0 in MAG088_gapfilled\n",
      "Added exchange reaction for cpd00047_c0 in MAG088_gapfilled\n",
      "Added exchange reaction for cpd00029_c0 in MAG088_gapfilled\n",
      "Added exchange reaction for cpd00159_c0 in MAG088_gapfilled\n",
      "Read LP format model from file /var/folders/6w/knrbtrj125ggkrx091kd2g840000gn/T/tmpjim6nyf8.lp\n",
      "Reading time = 0.00 seconds\n",
      ": 760 rows, 1516 columns, 6950 nonzeros\n",
      "Added exchange reaction for cpd00047_c0 in MAG089_gapfilled\n",
      "Added exchange reaction for cpd00029_c0 in MAG089_gapfilled\n",
      "Read LP format model from file /var/folders/6w/knrbtrj125ggkrx091kd2g840000gn/T/tmp_uotuzyi.lp\n",
      "Reading time = 0.00 seconds\n",
      ": 893 rows, 1874 columns, 8412 nonzeros\n",
      "Added exchange reaction for cpd00047_c0 in MAG090_gapfilled\n",
      "Added exchange reaction for cpd00029_c0 in MAG090_gapfilled\n",
      "Added exchange reaction for cpd00221_c0 in MAG090_gapfilled\n",
      "Read LP format model from file /var/folders/6w/knrbtrj125ggkrx091kd2g840000gn/T/tmp_3ctdfsb.lp\n",
      "Reading time = 0.00 seconds\n",
      ": 989 rows, 2090 columns, 9588 nonzeros\n"
     ]
    },
    {
     "name": "stderr",
     "output_type": "stream",
     "text": [
      "Ignoring reaction 'EX_cpd00047_e0' since it already exists.\n"
     ]
    },
    {
     "name": "stdout",
     "output_type": "stream",
     "text": [
      "Added exchange reaction for cpd00047_c0 in MAG091_gapfilled\n",
      "Added exchange reaction for cpd00029_c0 in MAG091_gapfilled\n",
      "Read LP format model from file /var/folders/6w/knrbtrj125ggkrx091kd2g840000gn/T/tmp41aoowwo.lp\n",
      "Reading time = 0.00 seconds\n",
      ": 651 rows, 1278 columns, 6088 nonzeros\n",
      "Added exchange reaction for cpd00211_c0 in MAG092_gapfilled\n",
      "Added exchange reaction for cpd00047_c0 in MAG092_gapfilled\n",
      "Added exchange reaction for cpd00029_c0 in MAG092_gapfilled\n",
      "Added exchange reaction for cpd00159_c0 in MAG092_gapfilled\n",
      "Added exchange reaction for cpd00221_c0 in MAG092_gapfilled\n",
      "Read LP format model from file /var/folders/6w/knrbtrj125ggkrx091kd2g840000gn/T/tmpyx4nupe8.lp\n",
      "Reading time = 0.00 seconds\n",
      ": 772 rows, 1530 columns, 7018 nonzeros\n"
     ]
    },
    {
     "name": "stderr",
     "output_type": "stream",
     "text": [
      "Ignoring reaction 'EX_cpd00047_e0' since it already exists.\n"
     ]
    },
    {
     "name": "stdout",
     "output_type": "stream",
     "text": [
      "Added exchange reaction for cpd00047_c0 in MAG093_gapfilled\n",
      "Added exchange reaction for cpd00029_c0 in MAG093_gapfilled\n",
      "Added exchange reaction for cpd00159_c0 in MAG093_gapfilled\n",
      "Added exchange reaction for cpd00221_c0 in MAG093_gapfilled\n",
      "Read LP format model from file /var/folders/6w/knrbtrj125ggkrx091kd2g840000gn/T/tmpkbf2822o.lp\n",
      "Reading time = 0.00 seconds\n",
      ": 959 rows, 1998 columns, 8984 nonzeros\n",
      "Added exchange reaction for cpd00047_c0 in MAG094_gapfilled\n",
      "Added exchange reaction for cpd00029_c0 in MAG094_gapfilled\n",
      "Read LP format model from file /var/folders/6w/knrbtrj125ggkrx091kd2g840000gn/T/tmpe9s4nslh.lp\n",
      "Reading time = 0.00 seconds\n",
      ": 922 rows, 1872 columns, 8470 nonzeros\n",
      "Added exchange reaction for cpd00047_c0 in MAG095_gapfilled\n",
      "Added exchange reaction for cpd00029_c0 in MAG095_gapfilled\n",
      "Added exchange reaction for cpd00221_c0 in MAG095_gapfilled\n",
      "Read LP format model from file /var/folders/6w/knrbtrj125ggkrx091kd2g840000gn/T/tmpp2bxeyz9.lp\n",
      "Reading time = 0.00 seconds\n",
      ": 893 rows, 1802 columns, 8008 nonzeros\n"
     ]
    },
    {
     "name": "stderr",
     "output_type": "stream",
     "text": [
      "Ignoring reaction 'EX_cpd00211_e0' since it already exists.\n",
      "Ignoring reaction 'EX_cpd00047_e0' since it already exists.\n",
      "Ignoring reaction 'EX_cpd00159_e0' since it already exists.\n"
     ]
    },
    {
     "name": "stdout",
     "output_type": "stream",
     "text": [
      "Added exchange reaction for cpd00211_c0 in MAG096_gapfilled\n",
      "Added exchange reaction for cpd00047_c0 in MAG096_gapfilled\n",
      "Added exchange reaction for cpd00029_c0 in MAG096_gapfilled\n",
      "Added exchange reaction for cpd00159_c0 in MAG096_gapfilled\n",
      "Read LP format model from file /var/folders/6w/knrbtrj125ggkrx091kd2g840000gn/T/tmp8v11ym11.lp\n",
      "Reading time = 0.00 seconds\n",
      ": 847 rows, 1742 columns, 7896 nonzeros\n",
      "Added exchange reaction for cpd00047_c0 in MAG097_gapfilled\n",
      "Read LP format model from file /var/folders/6w/knrbtrj125ggkrx091kd2g840000gn/T/tmpmejpe8cc.lp\n",
      "Reading time = 0.00 seconds\n",
      ": 432 rows, 812 columns, 4006 nonzeros\n",
      "Added exchange reaction for cpd00047_c0 in MAG098_gapfilled\n",
      "Added exchange reaction for cpd00029_c0 in MAG098_gapfilled\n",
      "Added exchange reaction for cpd00159_c0 in MAG098_gapfilled\n",
      "Read LP format model from file /var/folders/6w/knrbtrj125ggkrx091kd2g840000gn/T/tmpjpvnj5nz.lp\n",
      "Reading time = 0.00 seconds\n",
      ": 1025 rows, 2078 columns, 9318 nonzeros\n"
     ]
    },
    {
     "name": "stderr",
     "output_type": "stream",
     "text": [
      "Ignoring reaction 'EX_cpd00159_e0' since it already exists.\n"
     ]
    },
    {
     "name": "stdout",
     "output_type": "stream",
     "text": [
      "Added exchange reaction for cpd00047_c0 in MAG099_gapfilled\n",
      "Added exchange reaction for cpd00029_c0 in MAG099_gapfilled\n",
      "Added exchange reaction for cpd00141_c0 in MAG099_gapfilled\n",
      "Added exchange reaction for cpd00159_c0 in MAG099_gapfilled\n",
      "Read LP format model from file /var/folders/6w/knrbtrj125ggkrx091kd2g840000gn/T/tmplhl1g8my.lp\n",
      "Reading time = 0.00 seconds\n",
      ": 983 rows, 1998 columns, 9178 nonzeros\n",
      "Added exchange reaction for cpd00211_c0 in MAG100_gapfilled\n",
      "Added exchange reaction for cpd00047_c0 in MAG100_gapfilled\n",
      "Added exchange reaction for cpd00029_c0 in MAG100_gapfilled\n",
      "Added exchange reaction for cpd00159_c0 in MAG100_gapfilled\n",
      "Read LP format model from file /var/folders/6w/knrbtrj125ggkrx091kd2g840000gn/T/tmp72ktgkew.lp\n",
      "Reading time = 0.00 seconds\n",
      ": 882 rows, 1812 columns, 8236 nonzeros\n"
     ]
    },
    {
     "name": "stderr",
     "output_type": "stream",
     "text": [
      "Ignoring reaction 'EX_cpd00211_e0' since it already exists.\n"
     ]
    },
    {
     "name": "stdout",
     "output_type": "stream",
     "text": [
      "Added exchange reaction for cpd00211_c0 in MAG101_gapfilled\n",
      "Added exchange reaction for cpd00047_c0 in MAG101_gapfilled\n",
      "Added exchange reaction for cpd00029_c0 in MAG101_gapfilled\n",
      "Added exchange reaction for cpd00159_c0 in MAG101_gapfilled\n",
      "Read LP format model from file /var/folders/6w/knrbtrj125ggkrx091kd2g840000gn/T/tmpuftcu2vk.lp\n",
      "Reading time = 0.00 seconds\n",
      ": 855 rows, 1772 columns, 8000 nonzeros\n"
     ]
    },
    {
     "name": "stderr",
     "output_type": "stream",
     "text": [
      "Ignoring reaction 'EX_cpd00211_e0' since it already exists.\n",
      "Ignoring reaction 'EX_cpd00047_e0' since it already exists.\n"
     ]
    },
    {
     "name": "stdout",
     "output_type": "stream",
     "text": [
      "Added exchange reaction for cpd00211_c0 in MAG102_gapfilled\n",
      "Added exchange reaction for cpd00047_c0 in MAG102_gapfilled\n",
      "Added exchange reaction for cpd00029_c0 in MAG102_gapfilled\n",
      "Added exchange reaction for cpd00159_c0 in MAG102_gapfilled\n",
      "Read LP format model from file /var/folders/6w/knrbtrj125ggkrx091kd2g840000gn/T/tmp_zvjj7t5.lp\n",
      "Reading time = 0.00 seconds\n",
      ": 874 rows, 1798 columns, 8190 nonzeros\n",
      "Added exchange reaction for cpd00047_c0 in MAG103_gapfilled\n",
      "Added exchange reaction for cpd00029_c0 in MAG103_gapfilled\n",
      "Added exchange reaction for cpd00221_c0 in MAG103_gapfilled\n",
      "Read LP format model from file /var/folders/6w/knrbtrj125ggkrx091kd2g840000gn/T/tmpuhp2z5t8.lp\n",
      "Reading time = 0.00 seconds\n",
      ": 926 rows, 1924 columns, 8906 nonzeros\n",
      "Added exchange reaction for cpd00047_c0 in MAG104_gapfilled\n",
      "Added exchange reaction for cpd00029_c0 in MAG104_gapfilled\n",
      "Read LP format model from file /var/folders/6w/knrbtrj125ggkrx091kd2g840000gn/T/tmp6ohe653o.lp\n",
      "Reading time = 0.00 seconds\n",
      ": 884 rows, 1776 columns, 7902 nonzeros\n"
     ]
    },
    {
     "name": "stderr",
     "output_type": "stream",
     "text": [
      "Ignoring reaction 'EX_cpd00047_e0' since it already exists.\n"
     ]
    },
    {
     "name": "stdout",
     "output_type": "stream",
     "text": [
      "Added exchange reaction for cpd00211_c0 in MAG105_gapfilled\n",
      "Added exchange reaction for cpd00047_c0 in MAG105_gapfilled\n",
      "Added exchange reaction for cpd00029_c0 in MAG105_gapfilled\n",
      "Read LP format model from file /var/folders/6w/knrbtrj125ggkrx091kd2g840000gn/T/tmpmopq7kae.lp\n",
      "Reading time = 0.00 seconds\n",
      ": 836 rows, 1624 columns, 7700 nonzeros\n"
     ]
    },
    {
     "name": "stderr",
     "output_type": "stream",
     "text": [
      "Ignoring reaction 'EX_cpd00159_e0' since it already exists.\n"
     ]
    },
    {
     "name": "stdout",
     "output_type": "stream",
     "text": [
      "Added exchange reaction for cpd00047_c0 in MAG106_gapfilled\n",
      "Added exchange reaction for cpd00029_c0 in MAG106_gapfilled\n",
      "Added exchange reaction for cpd00141_c0 in MAG106_gapfilled\n",
      "Added exchange reaction for cpd00159_c0 in MAG106_gapfilled\n",
      "Read LP format model from file /var/folders/6w/knrbtrj125ggkrx091kd2g840000gn/T/tmpj_c7r9kg.lp\n",
      "Reading time = 0.00 seconds\n",
      ": 1059 rows, 2200 columns, 10034 nonzeros\n"
     ]
    },
    {
     "name": "stderr",
     "output_type": "stream",
     "text": [
      "Ignoring reaction 'EX_cpd00211_e0' since it already exists.\n"
     ]
    },
    {
     "name": "stdout",
     "output_type": "stream",
     "text": [
      "Added exchange reaction for cpd00211_c0 in MAG107_gapfilled\n",
      "Added exchange reaction for cpd00047_c0 in MAG107_gapfilled\n",
      "Added exchange reaction for cpd00029_c0 in MAG107_gapfilled\n",
      "Added exchange reaction for cpd00159_c0 in MAG107_gapfilled\n",
      "Read LP format model from file /var/folders/6w/knrbtrj125ggkrx091kd2g840000gn/T/tmpbk1ipj1n.lp\n",
      "Reading time = 0.00 seconds\n",
      ": 820 rows, 1696 columns, 7684 nonzeros\n"
     ]
    },
    {
     "name": "stderr",
     "output_type": "stream",
     "text": [
      "Ignoring reaction 'EX_cpd00047_e0' since it already exists.\n",
      "Ignoring reaction 'EX_cpd00029_e0' since it already exists.\n"
     ]
    },
    {
     "name": "stdout",
     "output_type": "stream",
     "text": [
      "Added exchange reaction for cpd00047_c0 in MAG108_gapfilled\n",
      "Added exchange reaction for cpd00029_c0 in MAG108_gapfilled\n",
      "Added exchange reaction for cpd00221_c0 in MAG108_gapfilled\n",
      "Read LP format model from file /var/folders/6w/knrbtrj125ggkrx091kd2g840000gn/T/tmprn__772e.lp\n",
      "Reading time = 0.00 seconds\n",
      ": 956 rows, 1938 columns, 8784 nonzeros\n"
     ]
    },
    {
     "name": "stderr",
     "output_type": "stream",
     "text": [
      "Ignoring reaction 'EX_cpd00047_e0' since it already exists.\n",
      "Ignoring reaction 'EX_cpd00029_e0' since it already exists.\n"
     ]
    },
    {
     "name": "stdout",
     "output_type": "stream",
     "text": [
      "Added exchange reaction for cpd00047_c0 in MAG109_gapfilled\n",
      "Added exchange reaction for cpd00029_c0 in MAG109_gapfilled\n",
      "Read LP format model from file /var/folders/6w/knrbtrj125ggkrx091kd2g840000gn/T/tmpvxsjb4rw.lp\n",
      "Reading time = 0.00 seconds\n",
      ": 750 rows, 1494 columns, 7202 nonzeros\n"
     ]
    },
    {
     "name": "stderr",
     "output_type": "stream",
     "text": [
      "Ignoring reaction 'EX_cpd00047_e0' since it already exists.\n"
     ]
    },
    {
     "name": "stdout",
     "output_type": "stream",
     "text": [
      "Added exchange reaction for cpd00047_c0 in MAG110_gapfilled\n",
      "Added exchange reaction for cpd00029_c0 in MAG110_gapfilled\n",
      "Added exchange reaction for cpd00159_c0 in MAG110_gapfilled\n",
      "Added exchange reaction for cpd00221_c0 in MAG110_gapfilled\n",
      "Read LP format model from file /var/folders/6w/knrbtrj125ggkrx091kd2g840000gn/T/tmp87_pdnzq.lp\n",
      "Reading time = 0.00 seconds\n",
      ": 890 rows, 1770 columns, 7938 nonzeros\n",
      "Added exchange reaction for cpd00047_c0 in MAG111_gapfilled\n",
      "Added exchange reaction for cpd00029_c0 in MAG111_gapfilled\n",
      "Added exchange reaction for cpd00159_c0 in MAG111_gapfilled\n",
      "Read LP format model from file /var/folders/6w/knrbtrj125ggkrx091kd2g840000gn/T/tmp4x3xz4ar.lp\n",
      "Reading time = 0.00 seconds\n",
      ": 880 rows, 1798 columns, 8200 nonzeros\n",
      "Added exchange reaction for cpd00047_c0 in MAG112_gapfilled\n",
      "Added exchange reaction for cpd00029_c0 in MAG112_gapfilled\n",
      "Added exchange reaction for cpd00221_c0 in MAG112_gapfilled\n",
      "Read LP format model from file /var/folders/6w/knrbtrj125ggkrx091kd2g840000gn/T/tmpy09hzv5z.lp\n",
      "Reading time = 0.00 seconds\n",
      ": 1046 rows, 2194 columns, 9928 nonzeros\n"
     ]
    },
    {
     "name": "stderr",
     "output_type": "stream",
     "text": [
      "Ignoring reaction 'EX_cpd00159_e0' since it already exists.\n"
     ]
    },
    {
     "name": "stdout",
     "output_type": "stream",
     "text": [
      "Added exchange reaction for cpd00211_c0 in MAG113_gapfilled\n",
      "Added exchange reaction for cpd00047_c0 in MAG113_gapfilled\n",
      "Added exchange reaction for cpd00029_c0 in MAG113_gapfilled\n",
      "Added exchange reaction for cpd00159_c0 in MAG113_gapfilled\n",
      "Read LP format model from file /var/folders/6w/knrbtrj125ggkrx091kd2g840000gn/T/tmpaias8zpn.lp\n",
      "Reading time = 0.00 seconds\n",
      ": 747 rows, 1482 columns, 6818 nonzeros\n"
     ]
    },
    {
     "name": "stderr",
     "output_type": "stream",
     "text": [
      "Ignoring reaction 'EX_cpd00047_e0' since it already exists.\n",
      "Ignoring reaction 'EX_cpd00029_e0' since it already exists.\n",
      "Ignoring reaction 'EX_cpd00159_e0' since it already exists.\n"
     ]
    },
    {
     "name": "stdout",
     "output_type": "stream",
     "text": [
      "Added exchange reaction for cpd00211_c0 in MAG114_gapfilled\n",
      "Added exchange reaction for cpd00047_c0 in MAG114_gapfilled\n",
      "Added exchange reaction for cpd00029_c0 in MAG114_gapfilled\n",
      "Added exchange reaction for cpd00159_c0 in MAG114_gapfilled\n",
      "Read LP format model from file /var/folders/6w/knrbtrj125ggkrx091kd2g840000gn/T/tmp6fy6x4kz.lp\n",
      "Reading time = 0.00 seconds\n",
      ": 808 rows, 1638 columns, 7306 nonzeros\n",
      "Added exchange reaction for cpd00047_c0 in MAG115_gapfilled\n",
      "Added exchange reaction for cpd00029_c0 in MAG115_gapfilled\n",
      "Added exchange reaction for cpd00159_c0 in MAG115_gapfilled\n",
      "Read LP format model from file /var/folders/6w/knrbtrj125ggkrx091kd2g840000gn/T/tmprfmcms3x.lp\n",
      "Reading time = 0.00 seconds\n",
      ": 894 rows, 1796 columns, 8104 nonzeros\n"
     ]
    },
    {
     "name": "stderr",
     "output_type": "stream",
     "text": [
      "Ignoring reaction 'EX_cpd00211_e0' since it already exists.\n",
      "Ignoring reaction 'EX_cpd00047_e0' since it already exists.\n"
     ]
    },
    {
     "name": "stdout",
     "output_type": "stream",
     "text": [
      "Added exchange reaction for cpd00211_c0 in MAG116_gapfilled\n",
      "Added exchange reaction for cpd00047_c0 in MAG116_gapfilled\n",
      "Added exchange reaction for cpd00029_c0 in MAG116_gapfilled\n",
      "Read LP format model from file /var/folders/6w/knrbtrj125ggkrx091kd2g840000gn/T/tmpbe1d6qqg.lp\n",
      "Reading time = 0.00 seconds\n",
      ": 888 rows, 1838 columns, 8422 nonzeros\n"
     ]
    },
    {
     "name": "stderr",
     "output_type": "stream",
     "text": [
      "Ignoring reaction 'EX_cpd00047_e0' since it already exists.\n"
     ]
    },
    {
     "name": "stdout",
     "output_type": "stream",
     "text": [
      "Added exchange reaction for cpd00047_c0 in MAG117_gapfilled\n",
      "Added exchange reaction for cpd00029_c0 in MAG117_gapfilled\n",
      "Added exchange reaction for cpd00221_c0 in MAG117_gapfilled\n",
      "Read LP format model from file /var/folders/6w/knrbtrj125ggkrx091kd2g840000gn/T/tmpg435vzmq.lp\n",
      "Reading time = 0.00 seconds\n",
      ": 834 rows, 1628 columns, 7510 nonzeros\n"
     ]
    },
    {
     "name": "stderr",
     "output_type": "stream",
     "text": [
      "Ignoring reaction 'EX_cpd00047_e0' since it already exists.\n"
     ]
    },
    {
     "name": "stdout",
     "output_type": "stream",
     "text": [
      "Added exchange reaction for cpd00047_c0 in MAG118_gapfilled\n",
      "Added exchange reaction for cpd00029_c0 in MAG118_gapfilled\n",
      "Added exchange reaction for cpd00221_c0 in MAG118_gapfilled\n",
      "Read LP format model from file /var/folders/6w/knrbtrj125ggkrx091kd2g840000gn/T/tmp2engvc0l.lp\n",
      "Reading time = 0.00 seconds\n",
      ": 767 rows, 1498 columns, 7024 nonzeros\n"
     ]
    },
    {
     "name": "stderr",
     "output_type": "stream",
     "text": [
      "Ignoring reaction 'EX_cpd00047_e0' since it already exists.\n"
     ]
    },
    {
     "name": "stdout",
     "output_type": "stream",
     "text": [
      "Added exchange reaction for cpd00047_c0 in MAG119_gapfilled\n",
      "Added exchange reaction for cpd00029_c0 in MAG119_gapfilled\n",
      "Added exchange reaction for cpd00221_c0 in MAG119_gapfilled\n",
      "Read LP format model from file /var/folders/6w/knrbtrj125ggkrx091kd2g840000gn/T/tmpog6lsmt6.lp\n",
      "Reading time = 0.00 seconds\n",
      ": 1107 rows, 2356 columns, 10684 nonzeros\n",
      "Added exchange reaction for cpd00211_c0 in MAG120_gapfilled\n",
      "Added exchange reaction for cpd00047_c0 in MAG120_gapfilled\n",
      "Added exchange reaction for cpd00029_c0 in MAG120_gapfilled\n",
      "Read LP format model from file /var/folders/6w/knrbtrj125ggkrx091kd2g840000gn/T/tmpyums3t2a.lp\n",
      "Reading time = 0.00 seconds\n",
      ": 862 rows, 1694 columns, 7804 nonzeros\n",
      "Added exchange reaction for cpd00047_c0 in MAG121_gapfilled\n",
      "Added exchange reaction for cpd00029_c0 in MAG121_gapfilled\n",
      "Added exchange reaction for cpd00159_c0 in MAG121_gapfilled\n",
      "Added exchange reaction for cpd00221_c0 in MAG121_gapfilled\n",
      "Read LP format model from file /var/folders/6w/knrbtrj125ggkrx091kd2g840000gn/T/tmpk6ygu7kn.lp\n",
      "Reading time = 0.00 seconds\n",
      ": 842 rows, 1710 columns, 7746 nonzeros\n",
      "Added exchange reaction for cpd00211_c0 in MAG122_gapfilled\n",
      "Added exchange reaction for cpd00047_c0 in MAG122_gapfilled\n",
      "Added exchange reaction for cpd00029_c0 in MAG122_gapfilled\n",
      "Added exchange reaction for cpd00159_c0 in MAG122_gapfilled\n",
      "Added exchange reaction for cpd00221_c0 in MAG122_gapfilled\n",
      "Read LP format model from file /var/folders/6w/knrbtrj125ggkrx091kd2g840000gn/T/tmprizedvfa.lp\n",
      "Reading time = 0.00 seconds\n",
      ": 762 rows, 1562 columns, 7034 nonzeros\n"
     ]
    },
    {
     "name": "stderr",
     "output_type": "stream",
     "text": [
      "Ignoring reaction 'EX_cpd00211_e0' since it already exists.\n",
      "Ignoring reaction 'EX_cpd00047_e0' since it already exists.\n",
      "Ignoring reaction 'EX_cpd00159_e0' since it already exists.\n"
     ]
    },
    {
     "name": "stdout",
     "output_type": "stream",
     "text": [
      "Added exchange reaction for cpd00211_c0 in MAG123_gapfilled\n",
      "Added exchange reaction for cpd00047_c0 in MAG123_gapfilled\n",
      "Added exchange reaction for cpd00029_c0 in MAG123_gapfilled\n",
      "Added exchange reaction for cpd00159_c0 in MAG123_gapfilled\n",
      "Added exchange reaction for cpd00221_c0 in MAG123_gapfilled\n",
      "Read LP format model from file /var/folders/6w/knrbtrj125ggkrx091kd2g840000gn/T/tmpr4ddbckh.lp\n",
      "Reading time = 0.00 seconds\n",
      ": 985 rows, 2046 columns, 9266 nonzeros\n",
      "Added exchange reaction for cpd00047_c0 in MAG124_gapfilled\n",
      "Added exchange reaction for cpd00029_c0 in MAG124_gapfilled\n",
      "Added exchange reaction for cpd00221_c0 in MAG124_gapfilled\n",
      "Read LP format model from file /var/folders/6w/knrbtrj125ggkrx091kd2g840000gn/T/tmpy4ckm3fm.lp\n",
      "Reading time = 0.00 seconds\n",
      ": 804 rows, 1596 columns, 7258 nonzeros\n"
     ]
    },
    {
     "name": "stderr",
     "output_type": "stream",
     "text": [
      "Ignoring reaction 'EX_cpd00047_e0' since it already exists.\n"
     ]
    },
    {
     "name": "stdout",
     "output_type": "stream",
     "text": [
      "Added exchange reaction for cpd00047_c0 in MAG125_gapfilled\n",
      "Added exchange reaction for cpd00029_c0 in MAG125_gapfilled\n",
      "Read LP format model from file /var/folders/6w/knrbtrj125ggkrx091kd2g840000gn/T/tmpii6o63qx.lp\n",
      "Reading time = 0.00 seconds\n",
      ": 813 rows, 1656 columns, 7956 nonzeros\n",
      "Added exchange reaction for cpd00047_c0 in MAG126_gapfilled\n",
      "Added exchange reaction for cpd00029_c0 in MAG126_gapfilled\n",
      "Added exchange reaction for cpd00221_c0 in MAG126_gapfilled\n",
      "Read LP format model from file /var/folders/6w/knrbtrj125ggkrx091kd2g840000gn/T/tmpqe3nmy_7.lp\n",
      "Reading time = 0.00 seconds\n",
      ": 976 rows, 1938 columns, 8932 nonzeros\n"
     ]
    },
    {
     "name": "stderr",
     "output_type": "stream",
     "text": [
      "Ignoring reaction 'EX_cpd00047_e0' since it already exists.\n",
      "Ignoring reaction 'EX_cpd00029_e0' since it already exists.\n",
      "Ignoring reaction 'EX_cpd00159_e0' since it already exists.\n"
     ]
    },
    {
     "name": "stdout",
     "output_type": "stream",
     "text": [
      "Added exchange reaction for cpd00047_c0 in MAG127_gapfilled\n",
      "Added exchange reaction for cpd00029_c0 in MAG127_gapfilled\n",
      "Added exchange reaction for cpd00159_c0 in MAG127_gapfilled\n",
      "Read LP format model from file /var/folders/6w/knrbtrj125ggkrx091kd2g840000gn/T/tmpdgbaag6m.lp\n",
      "Reading time = 0.00 seconds\n",
      ": 984 rows, 1982 columns, 9206 nonzeros\n",
      "Added exchange reaction for cpd00047_c0 in MAG128_gapfilled\n",
      "Added exchange reaction for cpd00029_c0 in MAG128_gapfilled\n",
      "Read LP format model from file /var/folders/6w/knrbtrj125ggkrx091kd2g840000gn/T/tmpzn2g_jdm.lp\n",
      "Reading time = 0.00 seconds\n",
      ": 922 rows, 1920 columns, 8738 nonzeros\n",
      "Added exchange reaction for cpd00029_c0 in MAG129_gapfilled\n",
      "Read LP format model from file /var/folders/6w/knrbtrj125ggkrx091kd2g840000gn/T/tmpttfv79td.lp\n",
      "Reading time = 0.00 seconds\n",
      ": 493 rows, 898 columns, 4390 nonzeros\n"
     ]
    },
    {
     "name": "stderr",
     "output_type": "stream",
     "text": [
      "Ignoring reaction 'EX_cpd00047_e0' since it already exists.\n"
     ]
    },
    {
     "name": "stdout",
     "output_type": "stream",
     "text": [
      "Added exchange reaction for cpd00047_c0 in MAG130_gapfilled\n",
      "Added exchange reaction for cpd00029_c0 in MAG130_gapfilled\n",
      "Added exchange reaction for cpd00221_c0 in MAG130_gapfilled\n",
      "Read LP format model from file /var/folders/6w/knrbtrj125ggkrx091kd2g840000gn/T/tmpd900fvx2.lp\n",
      "Reading time = 0.00 seconds\n",
      ": 1014 rows, 2138 columns, 9622 nonzeros\n"
     ]
    },
    {
     "name": "stderr",
     "output_type": "stream",
     "text": [
      "Ignoring reaction 'EX_cpd00159_e0' since it already exists.\n"
     ]
    },
    {
     "name": "stdout",
     "output_type": "stream",
     "text": [
      "Added exchange reaction for cpd00047_c0 in MAG131_gapfilled\n",
      "Added exchange reaction for cpd00029_c0 in MAG131_gapfilled\n",
      "Added exchange reaction for cpd00159_c0 in MAG131_gapfilled\n",
      "Read LP format model from file /var/folders/6w/knrbtrj125ggkrx091kd2g840000gn/T/tmpv6xo586u.lp\n",
      "Reading time = 0.00 seconds\n",
      ": 721 rows, 1444 columns, 6538 nonzeros\n",
      "Added exchange reaction for cpd00047_c0 in MAG132_gapfilled\n",
      "Added exchange reaction for cpd00029_c0 in MAG132_gapfilled\n",
      "Added exchange reaction for cpd00221_c0 in MAG132_gapfilled\n",
      "Read LP format model from file /var/folders/6w/knrbtrj125ggkrx091kd2g840000gn/T/tmpagze7ymn.lp\n",
      "Reading time = 0.00 seconds\n",
      ": 919 rows, 1896 columns, 8524 nonzeros\n",
      "Added exchange reaction for cpd00047_c0 in MAG133_gapfilled\n",
      "Added exchange reaction for cpd00029_c0 in MAG133_gapfilled\n",
      "Added exchange reaction for cpd00221_c0 in MAG133_gapfilled\n",
      "Read LP format model from file /var/folders/6w/knrbtrj125ggkrx091kd2g840000gn/T/tmps8kxohgf.lp\n",
      "Reading time = 0.00 seconds\n",
      ": 508 rows, 920 columns, 4456 nonzeros\n"
     ]
    },
    {
     "name": "stderr",
     "output_type": "stream",
     "text": [
      "Ignoring reaction 'EX_cpd00029_e0' since it already exists.\n"
     ]
    },
    {
     "name": "stdout",
     "output_type": "stream",
     "text": [
      "Added exchange reaction for cpd00047_c0 in MAG134_gapfilled\n",
      "Added exchange reaction for cpd00029_c0 in MAG134_gapfilled\n",
      "Read LP format model from file /var/folders/6w/knrbtrj125ggkrx091kd2g840000gn/T/tmpzh0o3kzf.lp\n",
      "Reading time = 0.00 seconds\n",
      ": 777 rows, 1466 columns, 7076 nonzeros\n"
     ]
    },
    {
     "name": "stderr",
     "output_type": "stream",
     "text": [
      "Ignoring reaction 'EX_cpd00211_e0' since it already exists.\n",
      "Ignoring reaction 'EX_cpd00047_e0' since it already exists.\n",
      "Ignoring reaction 'EX_cpd00159_e0' since it already exists.\n"
     ]
    },
    {
     "name": "stdout",
     "output_type": "stream",
     "text": [
      "Added exchange reaction for cpd00211_c0 in MAG135_gapfilled\n",
      "Added exchange reaction for cpd00047_c0 in MAG135_gapfilled\n",
      "Added exchange reaction for cpd00029_c0 in MAG135_gapfilled\n",
      "Added exchange reaction for cpd00159_c0 in MAG135_gapfilled\n",
      "Read LP format model from file /var/folders/6w/knrbtrj125ggkrx091kd2g840000gn/T/tmpyx1r57jj.lp\n",
      "Reading time = 0.00 seconds\n",
      ": 972 rows, 1990 columns, 9072 nonzeros\n"
     ]
    },
    {
     "name": "stderr",
     "output_type": "stream",
     "text": [
      "Ignoring reaction 'EX_cpd00047_e0' since it already exists.\n"
     ]
    },
    {
     "name": "stdout",
     "output_type": "stream",
     "text": [
      "Added exchange reaction for cpd00047_c0 in MAG136_gapfilled\n",
      "Added exchange reaction for cpd00029_c0 in MAG136_gapfilled\n",
      "Added exchange reaction for cpd00221_c0 in MAG136_gapfilled\n",
      "Read LP format model from file /var/folders/6w/knrbtrj125ggkrx091kd2g840000gn/T/tmpnj1aj_5f.lp\n",
      "Reading time = 0.00 seconds\n",
      ": 1038 rows, 2166 columns, 9766 nonzeros\n"
     ]
    },
    {
     "name": "stderr",
     "output_type": "stream",
     "text": [
      "Ignoring reaction 'EX_cpd00047_e0' since it already exists.\n"
     ]
    },
    {
     "name": "stdout",
     "output_type": "stream",
     "text": [
      "Added exchange reaction for cpd00047_c0 in MAG137_gapfilled\n",
      "Added exchange reaction for cpd00029_c0 in MAG137_gapfilled\n",
      "Read LP format model from file /var/folders/6w/knrbtrj125ggkrx091kd2g840000gn/T/tmpz9_u69dy.lp\n",
      "Reading time = 0.00 seconds\n",
      ": 1011 rows, 2122 columns, 9802 nonzeros\n"
     ]
    },
    {
     "name": "stderr",
     "output_type": "stream",
     "text": [
      "Ignoring reaction 'EX_cpd00047_e0' since it already exists.\n"
     ]
    },
    {
     "name": "stdout",
     "output_type": "stream",
     "text": [
      "Added exchange reaction for cpd00047_c0 in MAG138_gapfilled\n",
      "Added exchange reaction for cpd00029_c0 in MAG138_gapfilled\n",
      "Added exchange reaction for cpd00159_c0 in MAG138_gapfilled\n",
      "Added exchange reaction for cpd00221_c0 in MAG138_gapfilled\n",
      "Read LP format model from file /var/folders/6w/knrbtrj125ggkrx091kd2g840000gn/T/tmp6q1bhq49.lp\n",
      "Reading time = 0.00 seconds\n",
      ": 776 rows, 1568 columns, 7350 nonzeros\n"
     ]
    },
    {
     "name": "stderr",
     "output_type": "stream",
     "text": [
      "Ignoring reaction 'EX_cpd00211_e0' since it already exists.\n",
      "Ignoring reaction 'EX_cpd00047_e0' since it already exists.\n"
     ]
    },
    {
     "name": "stdout",
     "output_type": "stream",
     "text": [
      "Added exchange reaction for cpd00211_c0 in MAG139_gapfilled\n",
      "Added exchange reaction for cpd00047_c0 in MAG139_gapfilled\n",
      "Added exchange reaction for cpd00029_c0 in MAG139_gapfilled\n",
      "Added exchange reaction for cpd00159_c0 in MAG139_gapfilled\n",
      "Read LP format model from file /var/folders/6w/knrbtrj125ggkrx091kd2g840000gn/T/tmpllsv1xhy.lp\n",
      "Reading time = 0.00 seconds\n",
      ": 1028 rows, 2158 columns, 9664 nonzeros\n"
     ]
    },
    {
     "name": "stderr",
     "output_type": "stream",
     "text": [
      "Ignoring reaction 'EX_cpd00047_e0' since it already exists.\n"
     ]
    },
    {
     "name": "stdout",
     "output_type": "stream",
     "text": [
      "Added exchange reaction for cpd00047_c0 in MAG140_gapfilled\n",
      "Added exchange reaction for cpd00029_c0 in MAG140_gapfilled\n",
      "Read LP format model from file /var/folders/6w/knrbtrj125ggkrx091kd2g840000gn/T/tmpe85lb6sn.lp\n",
      "Reading time = 0.00 seconds\n",
      ": 767 rows, 1542 columns, 7152 nonzeros\n",
      "Added exchange reaction for cpd00047_c0 in MAG141_gapfilled\n",
      "Added exchange reaction for cpd00029_c0 in MAG141_gapfilled\n",
      "Added exchange reaction for cpd00221_c0 in MAG141_gapfilled\n",
      "Read LP format model from file /var/folders/6w/knrbtrj125ggkrx091kd2g840000gn/T/tmpw73deh73.lp\n",
      "Reading time = 0.00 seconds\n",
      ": 873 rows, 1838 columns, 8386 nonzeros\n",
      "Added exchange reaction for cpd00047_c0 in MAG142_gapfilled\n",
      "Added exchange reaction for cpd00029_c0 in MAG142_gapfilled\n",
      "Added exchange reaction for cpd00159_c0 in MAG142_gapfilled\n",
      "Added exchange reaction for cpd00221_c0 in MAG142_gapfilled\n",
      "Read LP format model from file /var/folders/6w/knrbtrj125ggkrx091kd2g840000gn/T/tmptiad1_ra.lp\n",
      "Reading time = 0.00 seconds\n",
      ": 1047 rows, 2258 columns, 10088 nonzeros\n"
     ]
    },
    {
     "name": "stderr",
     "output_type": "stream",
     "text": [
      "Ignoring reaction 'EX_cpd00211_e0' since it already exists.\n",
      "Ignoring reaction 'EX_cpd00047_e0' since it already exists.\n"
     ]
    },
    {
     "name": "stdout",
     "output_type": "stream",
     "text": [
      "Added exchange reaction for cpd00211_c0 in MAG143_gapfilled\n",
      "Added exchange reaction for cpd00047_c0 in MAG143_gapfilled\n",
      "Added exchange reaction for cpd00029_c0 in MAG143_gapfilled\n",
      "Added exchange reaction for cpd00221_c0 in MAG143_gapfilled\n",
      "Read LP format model from file /var/folders/6w/knrbtrj125ggkrx091kd2g840000gn/T/tmpdu6o7q2o.lp\n",
      "Reading time = 0.00 seconds\n",
      ": 836 rows, 1698 columns, 7598 nonzeros\n"
     ]
    },
    {
     "name": "stderr",
     "output_type": "stream",
     "text": [
      "Ignoring reaction 'EX_cpd00029_e0' since it already exists.\n"
     ]
    },
    {
     "name": "stdout",
     "output_type": "stream",
     "text": [
      "Added exchange reaction for cpd00047_c0 in MAG144_gapfilled\n",
      "Added exchange reaction for cpd00029_c0 in MAG144_gapfilled\n",
      "Added exchange reaction for cpd00159_c0 in MAG144_gapfilled\n",
      "Read LP format model from file /var/folders/6w/knrbtrj125ggkrx091kd2g840000gn/T/tmpii__zjmj.lp\n",
      "Reading time = 0.00 seconds\n",
      ": 942 rows, 1974 columns, 9236 nonzeros\n"
     ]
    },
    {
     "name": "stderr",
     "output_type": "stream",
     "text": [
      "Ignoring reaction 'EX_cpd00159_e0' since it already exists.\n"
     ]
    },
    {
     "name": "stdout",
     "output_type": "stream",
     "text": [
      "Added exchange reaction for cpd00211_c0 in MAG145_gapfilled\n",
      "Added exchange reaction for cpd00047_c0 in MAG145_gapfilled\n",
      "Added exchange reaction for cpd00029_c0 in MAG145_gapfilled\n",
      "Added exchange reaction for cpd00159_c0 in MAG145_gapfilled\n",
      "Read LP format model from file /var/folders/6w/knrbtrj125ggkrx091kd2g840000gn/T/tmp1mso2ctu.lp\n",
      "Reading time = 0.00 seconds\n",
      ": 922 rows, 1900 columns, 8582 nonzeros\n"
     ]
    },
    {
     "name": "stderr",
     "output_type": "stream",
     "text": [
      "Ignoring reaction 'EX_cpd00211_e0' since it already exists.\n",
      "Ignoring reaction 'EX_cpd00047_e0' since it already exists.\n",
      "Ignoring reaction 'EX_cpd00029_e0' since it already exists.\n",
      "Ignoring reaction 'EX_cpd00159_e0' since it already exists.\n"
     ]
    },
    {
     "name": "stdout",
     "output_type": "stream",
     "text": [
      "Added exchange reaction for cpd00211_c0 in MAG146_gapfilled\n",
      "Added exchange reaction for cpd00047_c0 in MAG146_gapfilled\n",
      "Added exchange reaction for cpd00029_c0 in MAG146_gapfilled\n",
      "Added exchange reaction for cpd00141_c0 in MAG146_gapfilled\n",
      "Added exchange reaction for cpd00159_c0 in MAG146_gapfilled\n",
      "Added exchange reaction for cpd00221_c0 in MAG146_gapfilled\n",
      "Read LP format model from file /var/folders/6w/knrbtrj125ggkrx091kd2g840000gn/T/tmpuegn6207.lp\n",
      "Reading time = 0.01 seconds\n",
      ": 1457 rows, 3546 columns, 15370 nonzeros\n"
     ]
    },
    {
     "name": "stderr",
     "output_type": "stream",
     "text": [
      "Ignoring reaction 'EX_cpd00047_e0' since it already exists.\n"
     ]
    },
    {
     "name": "stdout",
     "output_type": "stream",
     "text": [
      "Added exchange reaction for cpd00211_c0 in MAG147_gapfilled\n",
      "Added exchange reaction for cpd00047_c0 in MAG147_gapfilled\n",
      "Added exchange reaction for cpd00029_c0 in MAG147_gapfilled\n",
      "Read LP format model from file /var/folders/6w/knrbtrj125ggkrx091kd2g840000gn/T/tmpy9n2iqzx.lp\n",
      "Reading time = 0.00 seconds\n",
      ": 905 rows, 1824 columns, 8550 nonzeros\n"
     ]
    },
    {
     "name": "stderr",
     "output_type": "stream",
     "text": [
      "Ignoring reaction 'EX_cpd00047_e0' since it already exists.\n"
     ]
    },
    {
     "name": "stdout",
     "output_type": "stream",
     "text": [
      "Added exchange reaction for cpd00047_c0 in MAG148_gapfilled\n",
      "Added exchange reaction for cpd00029_c0 in MAG148_gapfilled\n",
      "Added exchange reaction for cpd00159_c0 in MAG148_gapfilled\n",
      "Read LP format model from file /var/folders/6w/knrbtrj125ggkrx091kd2g840000gn/T/tmpqs6y_d_v.lp\n",
      "Reading time = 0.00 seconds\n",
      ": 920 rows, 1912 columns, 8752 nonzeros\n"
     ]
    },
    {
     "name": "stderr",
     "output_type": "stream",
     "text": [
      "Ignoring reaction 'EX_cpd00047_e0' since it already exists.\n",
      "Ignoring reaction 'EX_cpd00159_e0' since it already exists.\n"
     ]
    },
    {
     "name": "stdout",
     "output_type": "stream",
     "text": [
      "Added exchange reaction for cpd00047_c0 in MAG149_gapfilled\n",
      "Added exchange reaction for cpd00029_c0 in MAG149_gapfilled\n",
      "Added exchange reaction for cpd00159_c0 in MAG149_gapfilled\n",
      "Read LP format model from file /var/folders/6w/knrbtrj125ggkrx091kd2g840000gn/T/tmpjpds00wj.lp\n",
      "Reading time = 0.00 seconds\n",
      ": 757 rows, 1496 columns, 7122 nonzeros\n"
     ]
    },
    {
     "name": "stderr",
     "output_type": "stream",
     "text": [
      "Ignoring reaction 'EX_cpd00047_e0' since it already exists.\n"
     ]
    },
    {
     "name": "stdout",
     "output_type": "stream",
     "text": [
      "Added exchange reaction for cpd00211_c0 in MAG150_gapfilled\n",
      "Added exchange reaction for cpd00047_c0 in MAG150_gapfilled\n",
      "Added exchange reaction for cpd00029_c0 in MAG150_gapfilled\n",
      "Added exchange reaction for cpd00221_c0 in MAG150_gapfilled\n",
      "Read LP format model from file /var/folders/6w/knrbtrj125ggkrx091kd2g840000gn/T/tmpbw6he6oz.lp\n",
      "Reading time = 0.00 seconds\n",
      ": 820 rows, 1590 columns, 7338 nonzeros\n"
     ]
    },
    {
     "name": "stderr",
     "output_type": "stream",
     "text": [
      "Ignoring reaction 'EX_cpd00047_e0' since it already exists.\n"
     ]
    },
    {
     "name": "stdout",
     "output_type": "stream",
     "text": [
      "Added exchange reaction for cpd00047_c0 in MAG151_gapfilled\n",
      "Added exchange reaction for cpd00029_c0 in MAG151_gapfilled\n",
      "Added exchange reaction for cpd00159_c0 in MAG151_gapfilled\n",
      "Added exchange reaction for cpd00221_c0 in MAG151_gapfilled\n",
      "Read LP format model from file /var/folders/6w/knrbtrj125ggkrx091kd2g840000gn/T/tmpl9bt42wu.lp\n",
      "Reading time = 0.00 seconds\n",
      ": 959 rows, 2028 columns, 9092 nonzeros\n",
      "Added exchange reaction for cpd00211_c0 in MAG152_gapfilled\n",
      "Added exchange reaction for cpd00047_c0 in MAG152_gapfilled\n",
      "Added exchange reaction for cpd00029_c0 in MAG152_gapfilled\n",
      "Read LP format model from file /var/folders/6w/knrbtrj125ggkrx091kd2g840000gn/T/tmpcle__7u9.lp\n",
      "Reading time = 0.00 seconds\n",
      ": 847 rows, 1690 columns, 7788 nonzeros\n",
      "Added exchange reaction for cpd00047_c0 in MAG153_gapfilled\n",
      "Added exchange reaction for cpd00029_c0 in MAG153_gapfilled\n",
      "Added exchange reaction for cpd00159_c0 in MAG153_gapfilled\n",
      "Read LP format model from file /var/folders/6w/knrbtrj125ggkrx091kd2g840000gn/T/tmpli30_w69.lp\n",
      "Reading time = 0.00 seconds\n",
      ": 882 rows, 1898 columns, 8434 nonzeros\n"
     ]
    },
    {
     "name": "stderr",
     "output_type": "stream",
     "text": [
      "Ignoring reaction 'EX_cpd00047_e0' since it already exists.\n"
     ]
    },
    {
     "name": "stdout",
     "output_type": "stream",
     "text": [
      "Added exchange reaction for cpd00211_c0 in MAG154_gapfilled\n",
      "Added exchange reaction for cpd00047_c0 in MAG154_gapfilled\n",
      "Added exchange reaction for cpd00029_c0 in MAG154_gapfilled\n",
      "Added exchange reaction for cpd00159_c0 in MAG154_gapfilled\n",
      "Read LP format model from file /var/folders/6w/knrbtrj125ggkrx091kd2g840000gn/T/tmpazvfatvn.lp\n",
      "Reading time = 0.00 seconds\n",
      ": 978 rows, 2036 columns, 9294 nonzeros\n"
     ]
    },
    {
     "name": "stderr",
     "output_type": "stream",
     "text": [
      "Ignoring reaction 'EX_cpd00211_e0' since it already exists.\n",
      "Ignoring reaction 'EX_cpd00047_e0' since it already exists.\n"
     ]
    },
    {
     "name": "stdout",
     "output_type": "stream",
     "text": [
      "Added exchange reaction for cpd00211_c0 in MAG155_gapfilled\n",
      "Added exchange reaction for cpd00047_c0 in MAG155_gapfilled\n",
      "Added exchange reaction for cpd00029_c0 in MAG155_gapfilled\n",
      "Added exchange reaction for cpd00221_c0 in MAG155_gapfilled\n",
      "Read LP format model from file /var/folders/6w/knrbtrj125ggkrx091kd2g840000gn/T/tmpxu0_e8ki.lp\n",
      "Reading time = 0.00 seconds\n",
      ": 1025 rows, 2080 columns, 9262 nonzeros\n"
     ]
    },
    {
     "name": "stderr",
     "output_type": "stream",
     "text": [
      "Ignoring reaction 'EX_cpd00211_e0' since it already exists.\n",
      "Ignoring reaction 'EX_cpd00047_e0' since it already exists.\n"
     ]
    },
    {
     "name": "stdout",
     "output_type": "stream",
     "text": [
      "Added exchange reaction for cpd00211_c0 in MAG156_gapfilled\n",
      "Added exchange reaction for cpd00047_c0 in MAG156_gapfilled\n",
      "Added exchange reaction for cpd00029_c0 in MAG156_gapfilled\n",
      "Added exchange reaction for cpd00159_c0 in MAG156_gapfilled\n",
      "Read LP format model from file /var/folders/6w/knrbtrj125ggkrx091kd2g840000gn/T/tmpbmqoh_j0.lp\n",
      "Reading time = 0.00 seconds\n",
      ": 970 rows, 1950 columns, 9146 nonzeros\n",
      "Added exchange reaction for cpd00047_c0 in MAG157_gapfilled\n",
      "Added exchange reaction for cpd00029_c0 in MAG157_gapfilled\n",
      "Added exchange reaction for cpd00221_c0 in MAG157_gapfilled\n",
      "Read LP format model from file /var/folders/6w/knrbtrj125ggkrx091kd2g840000gn/T/tmpjuao_0xk.lp\n",
      "Reading time = 0.00 seconds\n",
      ": 867 rows, 1798 columns, 8148 nonzeros\n",
      "Added exchange reaction for cpd00211_c0 in MAG158_gapfilled\n",
      "Added exchange reaction for cpd00047_c0 in MAG158_gapfilled\n",
      "Added exchange reaction for cpd00029_c0 in MAG158_gapfilled\n",
      "Added exchange reaction for cpd00221_c0 in MAG158_gapfilled\n",
      "Read LP format model from file /var/folders/6w/knrbtrj125ggkrx091kd2g840000gn/T/tmp61khmtjb.lp\n",
      "Reading time = 0.00 seconds\n",
      ": 750 rows, 1498 columns, 6938 nonzeros\n"
     ]
    },
    {
     "name": "stderr",
     "output_type": "stream",
     "text": [
      "Ignoring reaction 'EX_cpd00047_e0' since it already exists.\n"
     ]
    },
    {
     "name": "stdout",
     "output_type": "stream",
     "text": [
      "Added exchange reaction for cpd00047_c0 in MAG159_gapfilled\n",
      "Added exchange reaction for cpd00029_c0 in MAG159_gapfilled\n",
      "Read LP format model from file /var/folders/6w/knrbtrj125ggkrx091kd2g840000gn/T/tmpd244dtdf.lp\n",
      "Reading time = 0.00 seconds\n",
      ": 777 rows, 1466 columns, 7068 nonzeros\n",
      "Added exchange reaction for cpd00211_c0 in MAG160_gapfilled\n",
      "Added exchange reaction for cpd00047_c0 in MAG160_gapfilled\n",
      "Added exchange reaction for cpd00029_c0 in MAG160_gapfilled\n",
      "Read LP format model from file /var/folders/6w/knrbtrj125ggkrx091kd2g840000gn/T/tmpvv04ob84.lp\n",
      "Reading time = 0.00 seconds\n",
      ": 878 rows, 1718 columns, 7964 nonzeros\n"
     ]
    },
    {
     "name": "stderr",
     "output_type": "stream",
     "text": [
      "Ignoring reaction 'EX_cpd00047_e0' since it already exists.\n"
     ]
    },
    {
     "name": "stdout",
     "output_type": "stream",
     "text": [
      "Added exchange reaction for cpd00047_c0 in MAG161_gapfilled\n",
      "Added exchange reaction for cpd00029_c0 in MAG161_gapfilled\n",
      "Added exchange reaction for cpd00159_c0 in MAG161_gapfilled\n",
      "Read LP format model from file /var/folders/6w/knrbtrj125ggkrx091kd2g840000gn/T/tmp05nsg3jr.lp\n",
      "Reading time = 0.00 seconds\n",
      ": 923 rows, 1934 columns, 8726 nonzeros\n"
     ]
    },
    {
     "name": "stderr",
     "output_type": "stream",
     "text": [
      "Ignoring reaction 'EX_cpd00047_e0' since it already exists.\n"
     ]
    },
    {
     "name": "stdout",
     "output_type": "stream",
     "text": [
      "Added exchange reaction for cpd00211_c0 in MAG162_gapfilled\n",
      "Added exchange reaction for cpd00047_c0 in MAG162_gapfilled\n",
      "Added exchange reaction for cpd00029_c0 in MAG162_gapfilled\n",
      "Added exchange reaction for cpd00159_c0 in MAG162_gapfilled\n",
      "Read LP format model from file /var/folders/6w/knrbtrj125ggkrx091kd2g840000gn/T/tmpowawge8g.lp\n",
      "Reading time = 0.00 seconds\n",
      ": 826 rows, 1660 columns, 7624 nonzeros\n"
     ]
    },
    {
     "name": "stderr",
     "output_type": "stream",
     "text": [
      "Ignoring reaction 'EX_cpd00047_e0' since it already exists.\n",
      "Ignoring reaction 'EX_cpd00029_e0' since it already exists.\n"
     ]
    },
    {
     "name": "stdout",
     "output_type": "stream",
     "text": [
      "Added exchange reaction for cpd00047_c0 in MAG163_gapfilled\n",
      "Added exchange reaction for cpd00029_c0 in MAG163_gapfilled\n",
      "Read LP format model from file /var/folders/6w/knrbtrj125ggkrx091kd2g840000gn/T/tmpit57e1ov.lp\n",
      "Reading time = 0.00 seconds\n",
      ": 1003 rows, 1982 columns, 9094 nonzeros\n",
      "Added exchange reaction for cpd00047_c0 in MAG164_gapfilled\n",
      "Added exchange reaction for cpd00029_c0 in MAG164_gapfilled\n",
      "Read LP format model from file /var/folders/6w/knrbtrj125ggkrx091kd2g840000gn/T/tmpygnotc4r.lp\n",
      "Reading time = 0.00 seconds\n",
      ": 810 rows, 1578 columns, 7394 nonzeros\n"
     ]
    },
    {
     "name": "stderr",
     "output_type": "stream",
     "text": [
      "Ignoring reaction 'EX_cpd00047_e0' since it already exists.\n"
     ]
    },
    {
     "name": "stdout",
     "output_type": "stream",
     "text": [
      "Added exchange reaction for cpd00047_c0 in MAG165_gapfilled\n",
      "Added exchange reaction for cpd00029_c0 in MAG165_gapfilled\n",
      "Read LP format model from file /var/folders/6w/knrbtrj125ggkrx091kd2g840000gn/T/tmps7drqkub.lp\n",
      "Reading time = 0.00 seconds\n",
      ": 867 rows, 1786 columns, 8400 nonzeros\n"
     ]
    },
    {
     "name": "stderr",
     "output_type": "stream",
     "text": [
      "Ignoring reaction 'EX_cpd00047_e0' since it already exists.\n"
     ]
    },
    {
     "name": "stdout",
     "output_type": "stream",
     "text": [
      "Added exchange reaction for cpd00211_c0 in MAG166_gapfilled\n",
      "Added exchange reaction for cpd00047_c0 in MAG166_gapfilled\n",
      "Added exchange reaction for cpd00029_c0 in MAG166_gapfilled\n",
      "Read LP format model from file /var/folders/6w/knrbtrj125ggkrx091kd2g840000gn/T/tmp51mj8eoz.lp\n",
      "Reading time = 0.00 seconds\n",
      ": 861 rows, 1678 columns, 7838 nonzeros\n",
      "Added exchange reaction for cpd00047_c0 in MAG167_gapfilled\n",
      "Added exchange reaction for cpd00029_c0 in MAG167_gapfilled\n",
      "Added exchange reaction for cpd00159_c0 in MAG167_gapfilled\n",
      "Read LP format model from file /var/folders/6w/knrbtrj125ggkrx091kd2g840000gn/T/tmpey3r8a0h.lp\n",
      "Reading time = 0.00 seconds\n",
      ": 747 rows, 1512 columns, 6954 nonzeros\n"
     ]
    },
    {
     "name": "stderr",
     "output_type": "stream",
     "text": [
      "Ignoring reaction 'EX_cpd00047_e0' since it already exists.\n"
     ]
    },
    {
     "name": "stdout",
     "output_type": "stream",
     "text": [
      "Added exchange reaction for cpd00211_c0 in MAG168_gapfilled\n",
      "Added exchange reaction for cpd00047_c0 in MAG168_gapfilled\n",
      "Added exchange reaction for cpd00029_c0 in MAG168_gapfilled\n",
      "Added exchange reaction for cpd00221_c0 in MAG168_gapfilled\n",
      "Read LP format model from file /var/folders/6w/knrbtrj125ggkrx091kd2g840000gn/T/tmpkdj3_b2y.lp\n",
      "Reading time = 0.00 seconds\n",
      ": 973 rows, 2014 columns, 9060 nonzeros\n"
     ]
    },
    {
     "name": "stderr",
     "output_type": "stream",
     "text": [
      "Ignoring reaction 'EX_cpd00047_e0' since it already exists.\n"
     ]
    },
    {
     "name": "stdout",
     "output_type": "stream",
     "text": [
      "Added exchange reaction for cpd00211_c0 in MAG169_gapfilled\n",
      "Added exchange reaction for cpd00047_c0 in MAG169_gapfilled\n",
      "Added exchange reaction for cpd00029_c0 in MAG169_gapfilled\n",
      "Read LP format model from file /var/folders/6w/knrbtrj125ggkrx091kd2g840000gn/T/tmp2c3f4eh5.lp\n",
      "Reading time = 0.00 seconds\n",
      ": 951 rows, 1888 columns, 8496 nonzeros\n",
      "Added exchange reaction for cpd00211_c0 in MAG170_gapfilled\n",
      "Added exchange reaction for cpd00047_c0 in MAG170_gapfilled\n",
      "Added exchange reaction for cpd00029_c0 in MAG170_gapfilled\n",
      "Read LP format model from file /var/folders/6w/knrbtrj125ggkrx091kd2g840000gn/T/tmp87c3hbiu.lp\n",
      "Reading time = 0.00 seconds\n",
      ": 790 rows, 1552 columns, 7300 nonzeros\n",
      "Added exchange reaction for cpd00047_c0 in MAG171_gapfilled\n",
      "Added exchange reaction for cpd00029_c0 in MAG171_gapfilled\n",
      "Read LP format model from file /var/folders/6w/knrbtrj125ggkrx091kd2g840000gn/T/tmpl0bhsipq.lp\n",
      "Reading time = 0.00 seconds\n",
      ": 682 rows, 1300 columns, 6182 nonzeros\n"
     ]
    },
    {
     "name": "stderr",
     "output_type": "stream",
     "text": [
      "Ignoring reaction 'EX_cpd00047_e0' since it already exists.\n"
     ]
    },
    {
     "name": "stdout",
     "output_type": "stream",
     "text": [
      "Added exchange reaction for cpd00211_c0 in MAG172_gapfilled\n",
      "Added exchange reaction for cpd00047_c0 in MAG172_gapfilled\n",
      "Added exchange reaction for cpd00029_c0 in MAG172_gapfilled\n",
      "Added exchange reaction for cpd00221_c0 in MAG172_gapfilled\n",
      "Read LP format model from file /var/folders/6w/knrbtrj125ggkrx091kd2g840000gn/T/tmps90ivqu8.lp\n",
      "Reading time = 0.00 seconds\n",
      ": 930 rows, 1846 columns, 8432 nonzeros\n",
      "Added exchange reaction for cpd00047_c0 in MAG173_gapfilled\n",
      "Added exchange reaction for cpd00029_c0 in MAG173_gapfilled\n",
      "Added exchange reaction for cpd00159_c0 in MAG173_gapfilled\n",
      "Read LP format model from file /var/folders/6w/knrbtrj125ggkrx091kd2g840000gn/T/tmp0uj_qom9.lp\n",
      "Reading time = 0.00 seconds\n",
      ": 908 rows, 1910 columns, 8666 nonzeros\n"
     ]
    },
    {
     "name": "stderr",
     "output_type": "stream",
     "text": [
      "Ignoring reaction 'EX_cpd00211_e0' since it already exists.\n",
      "Ignoring reaction 'EX_cpd00159_e0' since it already exists.\n"
     ]
    },
    {
     "name": "stdout",
     "output_type": "stream",
     "text": [
      "Added exchange reaction for cpd00211_c0 in MAG174_gapfilled\n",
      "Added exchange reaction for cpd00047_c0 in MAG174_gapfilled\n",
      "Added exchange reaction for cpd00029_c0 in MAG174_gapfilled\n",
      "Added exchange reaction for cpd00159_c0 in MAG174_gapfilled\n",
      "Added exchange reaction for cpd00221_c0 in MAG174_gapfilled\n",
      "Read LP format model from file /var/folders/6w/knrbtrj125ggkrx091kd2g840000gn/T/tmp9rcbdry9.lp\n",
      "Reading time = 0.01 seconds\n",
      ": 1273 rows, 2858 columns, 12792 nonzeros\n"
     ]
    },
    {
     "name": "stderr",
     "output_type": "stream",
     "text": [
      "Ignoring reaction 'EX_cpd00211_e0' since it already exists.\n",
      "Ignoring reaction 'EX_cpd00047_e0' since it already exists.\n",
      "Ignoring reaction 'EX_cpd00159_e0' since it already exists.\n"
     ]
    },
    {
     "name": "stdout",
     "output_type": "stream",
     "text": [
      "Added exchange reaction for cpd00211_c0 in MAG175_gapfilled\n",
      "Added exchange reaction for cpd00047_c0 in MAG175_gapfilled\n",
      "Added exchange reaction for cpd00029_c0 in MAG175_gapfilled\n",
      "Added exchange reaction for cpd00159_c0 in MAG175_gapfilled\n",
      "Read LP format model from file /var/folders/6w/knrbtrj125ggkrx091kd2g840000gn/T/tmpia723bqu.lp\n",
      "Reading time = 0.01 seconds\n",
      ": 1189 rows, 2618 columns, 12026 nonzeros\n"
     ]
    },
    {
     "name": "stderr",
     "output_type": "stream",
     "text": [
      "Ignoring reaction 'EX_cpd00047_e0' since it already exists.\n",
      "Ignoring reaction 'EX_cpd00159_e0' since it already exists.\n"
     ]
    },
    {
     "name": "stdout",
     "output_type": "stream",
     "text": [
      "Added exchange reaction for cpd00211_c0 in MAG176_gapfilled\n",
      "Added exchange reaction for cpd00047_c0 in MAG176_gapfilled\n",
      "Added exchange reaction for cpd00029_c0 in MAG176_gapfilled\n",
      "Added exchange reaction for cpd00159_c0 in MAG176_gapfilled\n",
      "Added exchange reaction for cpd00221_c0 in MAG176_gapfilled\n",
      "Read LP format model from file /var/folders/6w/knrbtrj125ggkrx091kd2g840000gn/T/tmpf5667s34.lp\n",
      "Reading time = 0.01 seconds\n",
      ": 1176 rows, 2602 columns, 11776 nonzeros\n"
     ]
    },
    {
     "name": "stderr",
     "output_type": "stream",
     "text": [
      "Ignoring reaction 'EX_cpd00047_e0' since it already exists.\n",
      "Ignoring reaction 'EX_cpd00159_e0' since it already exists.\n"
     ]
    },
    {
     "name": "stdout",
     "output_type": "stream",
     "text": [
      "Added exchange reaction for cpd00047_c0 in MAG177_gapfilled\n",
      "Added exchange reaction for cpd00029_c0 in MAG177_gapfilled\n",
      "Added exchange reaction for cpd00159_c0 in MAG177_gapfilled\n",
      "Read LP format model from file /var/folders/6w/knrbtrj125ggkrx091kd2g840000gn/T/tmpp1vwi1a8.lp\n",
      "Reading time = 0.00 seconds\n",
      ": 1001 rows, 2230 columns, 10100 nonzeros\n",
      "Added exchange reaction for cpd00047_c0 in MAG178_gapfilled\n",
      "Added exchange reaction for cpd00029_c0 in MAG178_gapfilled\n",
      "Added exchange reaction for cpd00159_c0 in MAG178_gapfilled\n",
      "Added exchange reaction for cpd00221_c0 in MAG178_gapfilled\n",
      "Read LP format model from file /var/folders/6w/knrbtrj125ggkrx091kd2g840000gn/T/tmpmu482x1g.lp\n",
      "Reading time = 0.01 seconds\n",
      ": 1247 rows, 2670 columns, 12196 nonzeros\n"
     ]
    },
    {
     "name": "stderr",
     "output_type": "stream",
     "text": [
      "Ignoring reaction 'EX_cpd00159_e0' since it already exists.\n"
     ]
    },
    {
     "name": "stdout",
     "output_type": "stream",
     "text": [
      "Added exchange reaction for cpd00047_c0 in MAG179_gapfilled\n",
      "Added exchange reaction for cpd00029_c0 in MAG179_gapfilled\n",
      "Added exchange reaction for cpd00159_c0 in MAG179_gapfilled\n",
      "Read LP format model from file /var/folders/6w/knrbtrj125ggkrx091kd2g840000gn/T/tmpz8b6362x.lp\n",
      "Reading time = 0.00 seconds\n",
      ": 1000 rows, 2140 columns, 9668 nonzeros\n"
     ]
    },
    {
     "name": "stderr",
     "output_type": "stream",
     "text": [
      "Ignoring reaction 'EX_cpd00047_e0' since it already exists.\n"
     ]
    },
    {
     "name": "stdout",
     "output_type": "stream",
     "text": [
      "Added exchange reaction for cpd00211_c0 in MAG180_gapfilled\n",
      "Added exchange reaction for cpd00047_c0 in MAG180_gapfilled\n",
      "Added exchange reaction for cpd00029_c0 in MAG180_gapfilled\n",
      "Read LP format model from file /var/folders/6w/knrbtrj125ggkrx091kd2g840000gn/T/tmp6ttim7cm.lp\n",
      "Reading time = 0.00 seconds\n",
      ": 951 rows, 1960 columns, 8976 nonzeros\n",
      "Added exchange reaction for cpd00047_c0 in MAG181_gapfilled\n",
      "Added exchange reaction for cpd00029_c0 in MAG181_gapfilled\n",
      "Added exchange reaction for cpd00159_c0 in MAG181_gapfilled\n",
      "Added exchange reaction for cpd00221_c0 in MAG181_gapfilled\n",
      "Read LP format model from file /var/folders/6w/knrbtrj125ggkrx091kd2g840000gn/T/tmp48wbec9t.lp\n",
      "Reading time = 0.00 seconds\n",
      ": 1002 rows, 2146 columns, 9712 nonzeros\n",
      "Added exchange reaction for cpd00047_c0 in MAG182_gapfilled\n",
      "Added exchange reaction for cpd00029_c0 in MAG182_gapfilled\n",
      "Added exchange reaction for cpd00159_c0 in MAG182_gapfilled\n",
      "Read LP format model from file /var/folders/6w/knrbtrj125ggkrx091kd2g840000gn/T/tmpo5qo1wjs.lp\n",
      "Reading time = 0.00 seconds\n",
      ": 1090 rows, 2352 columns, 10872 nonzeros\n",
      "Added exchange reaction for cpd00047_c0 in MAG183_gapfilled\n",
      "Added exchange reaction for cpd00029_c0 in MAG183_gapfilled\n",
      "Added exchange reaction for cpd00159_c0 in MAG183_gapfilled\n",
      "Read LP format model from file /var/folders/6w/knrbtrj125ggkrx091kd2g840000gn/T/tmpgpp3j7ou.lp\n",
      "Reading time = 0.00 seconds\n",
      ": 1042 rows, 2232 columns, 10352 nonzeros\n"
     ]
    },
    {
     "name": "stderr",
     "output_type": "stream",
     "text": [
      "Ignoring reaction 'EX_cpd00047_e0' since it already exists.\n",
      "Ignoring reaction 'EX_cpd00159_e0' since it already exists.\n"
     ]
    },
    {
     "name": "stdout",
     "output_type": "stream",
     "text": [
      "Added exchange reaction for cpd00211_c0 in MAG184_gapfilled\n",
      "Added exchange reaction for cpd00047_c0 in MAG184_gapfilled\n",
      "Added exchange reaction for cpd00029_c0 in MAG184_gapfilled\n",
      "Added exchange reaction for cpd00159_c0 in MAG184_gapfilled\n",
      "Added exchange reaction for cpd00221_c0 in MAG184_gapfilled\n",
      "Read LP format model from file /var/folders/6w/knrbtrj125ggkrx091kd2g840000gn/T/tmpyj7qeadr.lp\n",
      "Reading time = 0.01 seconds\n",
      ": 1222 rows, 2644 columns, 11864 nonzeros\n"
     ]
    },
    {
     "name": "stderr",
     "output_type": "stream",
     "text": [
      "Ignoring reaction 'EX_cpd00047_e0' since it already exists.\n"
     ]
    },
    {
     "name": "stdout",
     "output_type": "stream",
     "text": [
      "Added exchange reaction for cpd00047_c0 in MAG185_gapfilled\n",
      "Added exchange reaction for cpd00029_c0 in MAG185_gapfilled\n",
      "Read LP format model from file /var/folders/6w/knrbtrj125ggkrx091kd2g840000gn/T/tmpw0wvkjj2.lp\n",
      "Reading time = 0.00 seconds\n",
      ": 929 rows, 1888 columns, 8762 nonzeros\n",
      "Added exchange reaction for cpd00047_c0 in MAG186_gapfilled\n",
      "Added exchange reaction for cpd00029_c0 in MAG186_gapfilled\n",
      "Added exchange reaction for cpd00159_c0 in MAG186_gapfilled\n",
      "Read LP format model from file /var/folders/6w/knrbtrj125ggkrx091kd2g840000gn/T/tmpytqv29u8.lp\n",
      "Reading time = 0.00 seconds\n",
      ": 910 rows, 1890 columns, 8476 nonzeros\n",
      "Added exchange reaction for cpd00047_c0 in MAG187_gapfilled\n",
      "Added exchange reaction for cpd00029_c0 in MAG187_gapfilled\n",
      "Added exchange reaction for cpd00159_c0 in MAG187_gapfilled\n",
      "Read LP format model from file /var/folders/6w/knrbtrj125ggkrx091kd2g840000gn/T/tmp3g4yah8f.lp\n",
      "Reading time = 0.00 seconds\n",
      ": 860 rows, 1828 columns, 8500 nonzeros\n"
     ]
    },
    {
     "name": "stderr",
     "output_type": "stream",
     "text": [
      "Ignoring reaction 'EX_cpd00047_e0' since it already exists.\n"
     ]
    },
    {
     "name": "stdout",
     "output_type": "stream",
     "text": [
      "Added exchange reaction for cpd00211_c0 in MAG188_gapfilled\n",
      "Added exchange reaction for cpd00047_c0 in MAG188_gapfilled\n",
      "Added exchange reaction for cpd00029_c0 in MAG188_gapfilled\n",
      "Added exchange reaction for cpd00159_c0 in MAG188_gapfilled\n",
      "Read LP format model from file /var/folders/6w/knrbtrj125ggkrx091kd2g840000gn/T/tmph83uib4r.lp\n",
      "Reading time = 0.00 seconds\n",
      ": 938 rows, 1958 columns, 8676 nonzeros\n",
      "Added exchange reaction for cpd00211_c0 in MAG189_gapfilled\n",
      "Added exchange reaction for cpd00047_c0 in MAG189_gapfilled\n",
      "Added exchange reaction for cpd00029_c0 in MAG189_gapfilled\n",
      "Added exchange reaction for cpd00141_c0 in MAG189_gapfilled\n",
      "Added exchange reaction for cpd00159_c0 in MAG189_gapfilled\n",
      "Added exchange reaction for cpd00221_c0 in MAG189_gapfilled\n",
      "Read LP format model from file /var/folders/6w/knrbtrj125ggkrx091kd2g840000gn/T/tmpflmuu0v5.lp\n",
      "Reading time = 0.01 seconds\n",
      ": 1230 rows, 2638 columns, 12160 nonzeros\n",
      "Added exchange reaction for cpd00211_c0 in MAG190_gapfilled\n",
      "Added exchange reaction for cpd00047_c0 in MAG190_gapfilled\n",
      "Added exchange reaction for cpd00029_c0 in MAG190_gapfilled\n",
      "Added exchange reaction for cpd00159_c0 in MAG190_gapfilled\n",
      "Added exchange reaction for cpd00221_c0 in MAG190_gapfilled\n",
      "Read LP format model from file /var/folders/6w/knrbtrj125ggkrx091kd2g840000gn/T/tmpy5dlm34h.lp\n",
      "Reading time = 0.00 seconds\n",
      ": 873 rows, 1754 columns, 7888 nonzeros\n",
      "Added exchange reaction for cpd00047_c0 in MAG191_gapfilled\n",
      "Added exchange reaction for cpd00029_c0 in MAG191_gapfilled\n",
      "Added exchange reaction for cpd00159_c0 in MAG191_gapfilled\n",
      "Added exchange reaction for cpd00221_c0 in MAG191_gapfilled\n",
      "Read LP format model from file /var/folders/6w/knrbtrj125ggkrx091kd2g840000gn/T/tmp7kljlygl.lp\n",
      "Reading time = 0.00 seconds\n",
      ": 885 rows, 1832 columns, 8428 nonzeros\n",
      "Added exchange reaction for cpd00047_c0 in MAG192_gapfilled\n",
      "Added exchange reaction for cpd00029_c0 in MAG192_gapfilled\n",
      "Added exchange reaction for cpd00221_c0 in MAG192_gapfilled\n",
      "Read LP format model from file /var/folders/6w/knrbtrj125ggkrx091kd2g840000gn/T/tmpz6k63m4p.lp\n",
      "Reading time = 0.00 seconds\n",
      ": 886 rows, 1838 columns, 8266 nonzeros\n"
     ]
    },
    {
     "name": "stderr",
     "output_type": "stream",
     "text": [
      "Ignoring reaction 'EX_cpd00047_e0' since it already exists.\n"
     ]
    },
    {
     "name": "stdout",
     "output_type": "stream",
     "text": [
      "Added exchange reaction for cpd00211_c0 in MAG193_gapfilled\n",
      "Added exchange reaction for cpd00047_c0 in MAG193_gapfilled\n",
      "Added exchange reaction for cpd00029_c0 in MAG193_gapfilled\n",
      "Added exchange reaction for cpd00159_c0 in MAG193_gapfilled\n",
      "Read LP format model from file /var/folders/6w/knrbtrj125ggkrx091kd2g840000gn/T/tmpcsuo1pgq.lp\n",
      "Reading time = 0.00 seconds\n",
      ": 993 rows, 2182 columns, 9872 nonzeros\n",
      "Added exchange reaction for cpd00047_c0 in MAG194_gapfilled\n",
      "Added exchange reaction for cpd00029_c0 in MAG194_gapfilled\n",
      "Read LP format model from file /var/folders/6w/knrbtrj125ggkrx091kd2g840000gn/T/tmpvb4n22na.lp\n",
      "Reading time = 0.00 seconds\n",
      ": 884 rows, 1744 columns, 8232 nonzeros\n"
     ]
    },
    {
     "name": "stderr",
     "output_type": "stream",
     "text": [
      "Ignoring reaction 'EX_cpd00047_e0' since it already exists.\n"
     ]
    },
    {
     "name": "stdout",
     "output_type": "stream",
     "text": [
      "Added exchange reaction for cpd00047_c0 in MAG195_gapfilled\n",
      "Added exchange reaction for cpd00029_c0 in MAG195_gapfilled\n",
      "Added exchange reaction for cpd00221_c0 in MAG195_gapfilled\n",
      "Read LP format model from file /var/folders/6w/knrbtrj125ggkrx091kd2g840000gn/T/tmpfmcs6odv.lp\n",
      "Reading time = 0.00 seconds\n",
      ": 1125 rows, 2360 columns, 10684 nonzeros\n",
      "Added exchange reaction for cpd00047_c0 in MAG196_gapfilled\n",
      "Added exchange reaction for cpd00029_c0 in MAG196_gapfilled\n",
      "Added exchange reaction for cpd00221_c0 in MAG196_gapfilled\n",
      "Read LP format model from file /var/folders/6w/knrbtrj125ggkrx091kd2g840000gn/T/tmpr97pn9d0.lp\n",
      "Reading time = 0.00 seconds\n",
      ": 908 rows, 1904 columns, 8662 nonzeros\n"
     ]
    },
    {
     "name": "stderr",
     "output_type": "stream",
     "text": [
      "Ignoring reaction 'EX_cpd00047_e0' since it already exists.\n",
      "Ignoring reaction 'EX_cpd00159_e0' since it already exists.\n"
     ]
    },
    {
     "name": "stdout",
     "output_type": "stream",
     "text": [
      "Added exchange reaction for cpd00211_c0 in MAG197_gapfilled\n",
      "Added exchange reaction for cpd00047_c0 in MAG197_gapfilled\n",
      "Added exchange reaction for cpd00029_c0 in MAG197_gapfilled\n",
      "Added exchange reaction for cpd00159_c0 in MAG197_gapfilled\n",
      "Read LP format model from file /var/folders/6w/knrbtrj125ggkrx091kd2g840000gn/T/tmpxh4zex17.lp\n",
      "Reading time = 0.00 seconds\n",
      ": 971 rows, 1960 columns, 8830 nonzeros\n",
      "Added exchange reaction for cpd00047_c0 in MAG198_gapfilled\n",
      "Added exchange reaction for cpd00029_c0 in MAG198_gapfilled\n",
      "Added exchange reaction for cpd00159_c0 in MAG198_gapfilled\n",
      "Added exchange reaction for cpd00221_c0 in MAG198_gapfilled\n",
      "Read LP format model from file /var/folders/6w/knrbtrj125ggkrx091kd2g840000gn/T/tmpagbjx3h4.lp\n",
      "Reading time = 0.00 seconds\n",
      ": 938 rows, 1980 columns, 8792 nonzeros\n",
      "Added exchange reaction for cpd00047_c0 in MAG199_gapfilled\n",
      "Added exchange reaction for cpd00029_c0 in MAG199_gapfilled\n",
      "Read LP format model from file /var/folders/6w/knrbtrj125ggkrx091kd2g840000gn/T/tmpvdmp2689.lp\n",
      "Reading time = 0.00 seconds\n",
      ": 800 rows, 1666 columns, 7654 nonzeros\n",
      "Added exchange reaction for cpd00047_c0 in MAG200_gapfilled\n",
      "Added exchange reaction for cpd00029_c0 in MAG200_gapfilled\n",
      "Added exchange reaction for cpd00221_c0 in MAG200_gapfilled\n",
      "Read LP format model from file /var/folders/6w/knrbtrj125ggkrx091kd2g840000gn/T/tmpf06_ra6m.lp\n",
      "Reading time = 0.00 seconds\n",
      ": 684 rows, 1346 columns, 6438 nonzeros\n"
     ]
    },
    {
     "name": "stderr",
     "output_type": "stream",
     "text": [
      "Ignoring reaction 'EX_cpd00159_e0' since it already exists.\n"
     ]
    },
    {
     "name": "stdout",
     "output_type": "stream",
     "text": [
      "Added exchange reaction for cpd00211_c0 in MAG201_gapfilled\n",
      "Added exchange reaction for cpd00047_c0 in MAG201_gapfilled\n",
      "Added exchange reaction for cpd00029_c0 in MAG201_gapfilled\n",
      "Added exchange reaction for cpd00159_c0 in MAG201_gapfilled\n",
      "Read LP format model from file /var/folders/6w/knrbtrj125ggkrx091kd2g840000gn/T/tmp2rxurnca.lp\n",
      "Reading time = 0.00 seconds\n",
      ": 1017 rows, 2158 columns, 9918 nonzeros\n",
      "Added exchange reaction for cpd00047_c0 in MAG202_gapfilled\n",
      "Added exchange reaction for cpd00029_c0 in MAG202_gapfilled\n",
      "Read LP format model from file /var/folders/6w/knrbtrj125ggkrx091kd2g840000gn/T/tmpfo984ded.lp\n",
      "Reading time = 0.00 seconds\n",
      ": 737 rows, 1466 columns, 6842 nonzeros\n",
      "Added exchange reaction for cpd00047_c0 in MAG203_gapfilled\n",
      "Added exchange reaction for cpd00029_c0 in MAG203_gapfilled\n",
      "Read LP format model from file /var/folders/6w/knrbtrj125ggkrx091kd2g840000gn/T/tmp0khlu_sz.lp\n",
      "Reading time = 0.00 seconds\n",
      ": 701 rows, 1384 columns, 6388 nonzeros\n",
      "Added exchange reaction for cpd00047_c0 in MAG204_gapfilled\n",
      "Added exchange reaction for cpd00029_c0 in MAG204_gapfilled\n",
      "Added exchange reaction for cpd00221_c0 in MAG204_gapfilled\n",
      "Read LP format model from file /var/folders/6w/knrbtrj125ggkrx091kd2g840000gn/T/tmp2h85jtsp.lp\n",
      "Reading time = 0.00 seconds\n",
      ": 614 rows, 1152 columns, 5510 nonzeros\n"
     ]
    },
    {
     "name": "stderr",
     "output_type": "stream",
     "text": [
      "Ignoring reaction 'EX_cpd00211_e0' since it already exists.\n",
      "Ignoring reaction 'EX_cpd00047_e0' since it already exists.\n"
     ]
    },
    {
     "name": "stdout",
     "output_type": "stream",
     "text": [
      "Added exchange reaction for cpd00211_c0 in MAG205_gapfilled\n",
      "Added exchange reaction for cpd00047_c0 in MAG205_gapfilled\n",
      "Added exchange reaction for cpd00029_c0 in MAG205_gapfilled\n",
      "Read LP format model from file /var/folders/6w/knrbtrj125ggkrx091kd2g840000gn/T/tmpboxb4voz.lp\n",
      "Reading time = 0.00 seconds\n",
      ": 886 rows, 1762 columns, 8150 nonzeros\n",
      "Added exchange reaction for cpd00047_c0 in MAG206_gapfilled\n",
      "Added exchange reaction for cpd00029_c0 in MAG206_gapfilled\n",
      "Read LP format model from file /var/folders/6w/knrbtrj125ggkrx091kd2g840000gn/T/tmpu0zn3eri.lp\n",
      "Reading time = 0.00 seconds\n",
      ": 691 rows, 1334 columns, 6374 nonzeros\n"
     ]
    },
    {
     "name": "stderr",
     "output_type": "stream",
     "text": [
      "Ignoring reaction 'EX_cpd00047_e0' since it already exists.\n"
     ]
    },
    {
     "name": "stdout",
     "output_type": "stream",
     "text": [
      "Added exchange reaction for cpd00047_c0 in MAG207_gapfilled\n",
      "Added exchange reaction for cpd00029_c0 in MAG207_gapfilled\n",
      "Added exchange reaction for cpd00221_c0 in MAG207_gapfilled\n",
      "Read LP format model from file /var/folders/6w/knrbtrj125ggkrx091kd2g840000gn/T/tmple3r1ynd.lp\n",
      "Reading time = 0.00 seconds\n",
      ": 964 rows, 2004 columns, 8956 nonzeros\n"
     ]
    },
    {
     "name": "stderr",
     "output_type": "stream",
     "text": [
      "Ignoring reaction 'EX_cpd00047_e0' since it already exists.\n"
     ]
    },
    {
     "name": "stdout",
     "output_type": "stream",
     "text": [
      "Added exchange reaction for cpd00047_c0 in MAG208_gapfilled\n",
      "Added exchange reaction for cpd00029_c0 in MAG208_gapfilled\n",
      "Read LP format model from file /var/folders/6w/knrbtrj125ggkrx091kd2g840000gn/T/tmpdb0rfqcw.lp\n",
      "Reading time = 0.00 seconds\n",
      ": 789 rows, 1530 columns, 7156 nonzeros\n"
     ]
    },
    {
     "name": "stderr",
     "output_type": "stream",
     "text": [
      "Ignoring reaction 'EX_cpd00211_e0' since it already exists.\n"
     ]
    },
    {
     "name": "stdout",
     "output_type": "stream",
     "text": [
      "Added exchange reaction for cpd00211_c0 in MAG209_gapfilled\n",
      "Added exchange reaction for cpd00029_c0 in MAG209_gapfilled\n",
      "Read LP format model from file /var/folders/6w/knrbtrj125ggkrx091kd2g840000gn/T/tmpfu0kvqve.lp\n",
      "Reading time = 0.00 seconds\n",
      ": 604 rows, 1190 columns, 5544 nonzeros\n",
      "Added exchange reaction for cpd00211_c0 in MAG210_gapfilled\n",
      "Added exchange reaction for cpd00029_c0 in MAG210_gapfilled\n",
      "Added exchange reaction for cpd00221_c0 in MAG210_gapfilled\n",
      "Read LP format model from file /var/folders/6w/knrbtrj125ggkrx091kd2g840000gn/T/tmp5sin5nyp.lp\n",
      "Reading time = 0.00 seconds\n",
      ": 874 rows, 1744 columns, 8038 nonzeros\n"
     ]
    },
    {
     "name": "stderr",
     "output_type": "stream",
     "text": [
      "Ignoring reaction 'EX_cpd00047_e0' since it already exists.\n"
     ]
    },
    {
     "name": "stdout",
     "output_type": "stream",
     "text": [
      "Added exchange reaction for cpd00211_c0 in MAG211_gapfilled\n",
      "Added exchange reaction for cpd00047_c0 in MAG211_gapfilled\n",
      "Added exchange reaction for cpd00029_c0 in MAG211_gapfilled\n",
      "Read LP format model from file /var/folders/6w/knrbtrj125ggkrx091kd2g840000gn/T/tmp9ohuc_3_.lp\n",
      "Reading time = 0.00 seconds\n",
      ": 972 rows, 1972 columns, 8990 nonzeros\n",
      "Added exchange reaction for cpd00047_c0 in MAG212_gapfilled\n",
      "Added exchange reaction for cpd00029_c0 in MAG212_gapfilled\n",
      "Added exchange reaction for cpd00159_c0 in MAG212_gapfilled\n",
      "Read LP format model from file /var/folders/6w/knrbtrj125ggkrx091kd2g840000gn/T/tmphv4d0126.lp\n",
      "Reading time = 0.00 seconds\n",
      ": 866 rows, 1804 columns, 8398 nonzeros\n"
     ]
    },
    {
     "name": "stderr",
     "output_type": "stream",
     "text": [
      "Ignoring reaction 'EX_cpd00047_e0' since it already exists.\n",
      "Ignoring reaction 'EX_cpd00029_e0' since it already exists.\n"
     ]
    },
    {
     "name": "stdout",
     "output_type": "stream",
     "text": [
      "Added exchange reaction for cpd00211_c0 in MAG213_gapfilled\n",
      "Added exchange reaction for cpd00047_c0 in MAG213_gapfilled\n",
      "Added exchange reaction for cpd00029_c0 in MAG213_gapfilled\n",
      "Read LP format model from file /var/folders/6w/knrbtrj125ggkrx091kd2g840000gn/T/tmpp7syeju2.lp\n",
      "Reading time = 0.00 seconds\n",
      ": 862 rows, 1700 columns, 7936 nonzeros\n"
     ]
    },
    {
     "name": "stderr",
     "output_type": "stream",
     "text": [
      "Ignoring reaction 'EX_cpd00047_e0' since it already exists.\n",
      "Ignoring reaction 'EX_cpd00029_e0' since it already exists.\n",
      "Ignoring reaction 'EX_cpd00159_e0' since it already exists.\n"
     ]
    },
    {
     "name": "stdout",
     "output_type": "stream",
     "text": [
      "Added exchange reaction for cpd00047_c0 in MAG214_gapfilled\n",
      "Added exchange reaction for cpd00029_c0 in MAG214_gapfilled\n",
      "Added exchange reaction for cpd00141_c0 in MAG214_gapfilled\n",
      "Added exchange reaction for cpd00159_c0 in MAG214_gapfilled\n",
      "Added exchange reaction for cpd00221_c0 in MAG214_gapfilled\n",
      "Read LP format model from file /var/folders/6w/knrbtrj125ggkrx091kd2g840000gn/T/tmp2em_rz77.lp\n",
      "Reading time = 0.01 seconds\n",
      ": 1441 rows, 3396 columns, 14840 nonzeros\n"
     ]
    },
    {
     "name": "stderr",
     "output_type": "stream",
     "text": [
      "Ignoring reaction 'EX_cpd00159_e0' since it already exists.\n"
     ]
    },
    {
     "name": "stdout",
     "output_type": "stream",
     "text": [
      "Added exchange reaction for cpd00211_c0 in MAG215_gapfilled\n",
      "Added exchange reaction for cpd00047_c0 in MAG215_gapfilled\n",
      "Added exchange reaction for cpd00029_c0 in MAG215_gapfilled\n",
      "Added exchange reaction for cpd00159_c0 in MAG215_gapfilled\n",
      "Added exchange reaction for cpd00221_c0 in MAG215_gapfilled\n",
      "Read LP format model from file /var/folders/6w/knrbtrj125ggkrx091kd2g840000gn/T/tmpg3neqazt.lp\n",
      "Reading time = 0.01 seconds\n",
      ": 1233 rows, 2652 columns, 12066 nonzeros\n",
      "Added exchange reaction for cpd00047_c0 in MAG216_gapfilled\n",
      "Added exchange reaction for cpd00029_c0 in MAG216_gapfilled\n",
      "Added exchange reaction for cpd00159_c0 in MAG216_gapfilled\n",
      "Read LP format model from file /var/folders/6w/knrbtrj125ggkrx091kd2g840000gn/T/tmpn1vzqvfy.lp\n",
      "Reading time = 0.00 seconds\n",
      ": 1056 rows, 2238 columns, 10414 nonzeros\n"
     ]
    },
    {
     "name": "stderr",
     "output_type": "stream",
     "text": [
      "Ignoring reaction 'EX_cpd00047_e0' since it already exists.\n",
      "Ignoring reaction 'EX_cpd00029_e0' since it already exists.\n"
     ]
    },
    {
     "name": "stdout",
     "output_type": "stream",
     "text": [
      "Added exchange reaction for cpd00047_c0 in MAG217_gapfilled\n",
      "Added exchange reaction for cpd00029_c0 in MAG217_gapfilled\n",
      "Read LP format model from file /var/folders/6w/knrbtrj125ggkrx091kd2g840000gn/T/tmp6edr7b9i.lp\n",
      "Reading time = 0.00 seconds\n",
      ": 771 rows, 1440 columns, 6842 nonzeros\n",
      "Added exchange reaction for cpd00047_c0 in MAG218_gapfilled\n",
      "Added exchange reaction for cpd00029_c0 in MAG218_gapfilled\n",
      "Added exchange reaction for cpd00159_c0 in MAG218_gapfilled\n",
      "Added exchange reaction for cpd00221_c0 in MAG218_gapfilled\n",
      "Read LP format model from file /var/folders/6w/knrbtrj125ggkrx091kd2g840000gn/T/tmp_grxs71j.lp\n",
      "Reading time = 0.01 seconds\n",
      ": 1177 rows, 2480 columns, 11342 nonzeros\n",
      "Added exchange reaction for cpd00047_c0 in MAG219_gapfilled\n",
      "Added exchange reaction for cpd00029_c0 in MAG219_gapfilled\n",
      "Added exchange reaction for cpd00159_c0 in MAG219_gapfilled\n",
      "Added exchange reaction for cpd00221_c0 in MAG219_gapfilled\n",
      "Read LP format model from file /var/folders/6w/knrbtrj125ggkrx091kd2g840000gn/T/tmpk1z3mhk8.lp\n",
      "Reading time = 0.00 seconds\n",
      ": 738 rows, 1342 columns, 6306 nonzeros\n",
      "Added exchange reaction for cpd00047_c0 in MAG220_gapfilled\n",
      "Added exchange reaction for cpd00029_c0 in MAG220_gapfilled\n",
      "Added exchange reaction for cpd00159_c0 in MAG220_gapfilled\n",
      "Read LP format model from file /var/folders/6w/knrbtrj125ggkrx091kd2g840000gn/T/tmp32bwhr6q.lp\n",
      "Reading time = 0.00 seconds\n",
      ": 640 rows, 1230 columns, 5786 nonzeros\n"
     ]
    },
    {
     "name": "stderr",
     "output_type": "stream",
     "text": [
      "Ignoring reaction 'EX_cpd00029_e0' since it already exists.\n"
     ]
    },
    {
     "name": "stdout",
     "output_type": "stream",
     "text": [
      "Added exchange reaction for cpd00047_c0 in MAG221_gapfilled\n",
      "Added exchange reaction for cpd00029_c0 in MAG221_gapfilled\n",
      "Read LP format model from file /var/folders/6w/knrbtrj125ggkrx091kd2g840000gn/T/tmpe2iecpy8.lp\n",
      "Reading time = 0.00 seconds\n",
      ": 671 rows, 1302 columns, 6172 nonzeros\n"
     ]
    },
    {
     "name": "stderr",
     "output_type": "stream",
     "text": [
      "Ignoring reaction 'EX_cpd00047_e0' since it already exists.\n",
      "Ignoring reaction 'EX_cpd00029_e0' since it already exists.\n"
     ]
    },
    {
     "name": "stdout",
     "output_type": "stream",
     "text": [
      "Added exchange reaction for cpd00211_c0 in MAG222_gapfilled\n",
      "Added exchange reaction for cpd00047_c0 in MAG222_gapfilled\n",
      "Added exchange reaction for cpd00029_c0 in MAG222_gapfilled\n",
      "Read LP format model from file /var/folders/6w/knrbtrj125ggkrx091kd2g840000gn/T/tmpyp9itvp3.lp\n",
      "Reading time = 0.00 seconds\n",
      ": 919 rows, 1864 columns, 8602 nonzeros\n",
      "Added exchange reaction for cpd00047_c0 in MAG223_gapfilled\n",
      "Added exchange reaction for cpd00029_c0 in MAG223_gapfilled\n",
      "Added exchange reaction for cpd00221_c0 in MAG223_gapfilled\n",
      "Read LP format model from file /var/folders/6w/knrbtrj125ggkrx091kd2g840000gn/T/tmpg56pitkm.lp\n",
      "Reading time = 0.00 seconds\n",
      ": 901 rows, 1874 columns, 8600 nonzeros\n"
     ]
    },
    {
     "name": "stderr",
     "output_type": "stream",
     "text": [
      "Ignoring reaction 'EX_cpd00047_e0' since it already exists.\n",
      "Ignoring reaction 'EX_cpd00159_e0' since it already exists.\n"
     ]
    },
    {
     "name": "stdout",
     "output_type": "stream",
     "text": [
      "Added exchange reaction for cpd00047_c0 in MAG224_gapfilled\n",
      "Added exchange reaction for cpd00029_c0 in MAG224_gapfilled\n",
      "Added exchange reaction for cpd00159_c0 in MAG224_gapfilled\n",
      "Read LP format model from file /var/folders/6w/knrbtrj125ggkrx091kd2g840000gn/T/tmph6u93jed.lp\n",
      "Reading time = 0.01 seconds\n",
      ": 948 rows, 1954 columns, 8970 nonzeros\n",
      "Added exchange reaction for cpd00047_c0 in MAG225_gapfilled\n",
      "Added exchange reaction for cpd00029_c0 in MAG225_gapfilled\n",
      "Read LP format model from file /var/folders/6w/knrbtrj125ggkrx091kd2g840000gn/T/tmppacl1j0i.lp\n",
      "Reading time = 0.00 seconds\n",
      ": 776 rows, 1526 columns, 7166 nonzeros\n"
     ]
    },
    {
     "name": "stderr",
     "output_type": "stream",
     "text": [
      "Ignoring reaction 'EX_cpd00047_e0' since it already exists.\n"
     ]
    },
    {
     "name": "stdout",
     "output_type": "stream",
     "text": [
      "Added exchange reaction for cpd00047_c0 in MAG226_gapfilled\n",
      "Added exchange reaction for cpd00029_c0 in MAG226_gapfilled\n",
      "Added exchange reaction for cpd00221_c0 in MAG226_gapfilled\n",
      "Read LP format model from file /var/folders/6w/knrbtrj125ggkrx091kd2g840000gn/T/tmpmh029d3d.lp\n",
      "Reading time = 0.00 seconds\n",
      ": 937 rows, 1960 columns, 8870 nonzeros\n"
     ]
    },
    {
     "name": "stderr",
     "output_type": "stream",
     "text": [
      "Ignoring reaction 'EX_cpd00047_e0' since it already exists.\n",
      "Ignoring reaction 'EX_cpd00159_e0' since it already exists.\n"
     ]
    },
    {
     "name": "stdout",
     "output_type": "stream",
     "text": [
      "Added exchange reaction for cpd00211_c0 in MAG227_gapfilled\n",
      "Added exchange reaction for cpd00047_c0 in MAG227_gapfilled\n",
      "Added exchange reaction for cpd00029_c0 in MAG227_gapfilled\n",
      "Added exchange reaction for cpd00159_c0 in MAG227_gapfilled\n",
      "Added exchange reaction for cpd00221_c0 in MAG227_gapfilled\n",
      "Read LP format model from file /var/folders/6w/knrbtrj125ggkrx091kd2g840000gn/T/tmpswqvuc5k.lp\n",
      "Reading time = 0.00 seconds\n",
      ": 838 rows, 1630 columns, 7424 nonzeros\n",
      "Added exchange reaction for cpd00211_c0 in MAG228_gapfilled\n",
      "Added exchange reaction for cpd00047_c0 in MAG228_gapfilled\n",
      "Added exchange reaction for cpd00029_c0 in MAG228_gapfilled\n",
      "Read LP format model from file /var/folders/6w/knrbtrj125ggkrx091kd2g840000gn/T/tmpazjx6p9g.lp\n",
      "Reading time = 0.00 seconds\n",
      ": 910 rows, 1902 columns, 8536 nonzeros\n"
     ]
    },
    {
     "name": "stderr",
     "output_type": "stream",
     "text": [
      "Ignoring reaction 'EX_cpd00047_e0' since it already exists.\n"
     ]
    },
    {
     "name": "stdout",
     "output_type": "stream",
     "text": [
      "Added exchange reaction for cpd00047_c0 in MAG229_gapfilled\n",
      "Added exchange reaction for cpd00029_c0 in MAG229_gapfilled\n",
      "Read LP format model from file /var/folders/6w/knrbtrj125ggkrx091kd2g840000gn/T/tmpe0qq6czu.lp\n",
      "Reading time = 0.00 seconds\n",
      ": 781 rows, 1456 columns, 7002 nonzeros\n"
     ]
    },
    {
     "name": "stderr",
     "output_type": "stream",
     "text": [
      "Ignoring reaction 'EX_cpd00047_e0' since it already exists.\n",
      "Ignoring reaction 'EX_cpd00029_e0' since it already exists.\n"
     ]
    },
    {
     "name": "stdout",
     "output_type": "stream",
     "text": [
      "Added exchange reaction for cpd00211_c0 in MAG230_gapfilled\n",
      "Added exchange reaction for cpd00047_c0 in MAG230_gapfilled\n",
      "Added exchange reaction for cpd00029_c0 in MAG230_gapfilled\n",
      "Read LP format model from file /var/folders/6w/knrbtrj125ggkrx091kd2g840000gn/T/tmptlcb402u.lp\n",
      "Reading time = 0.00 seconds\n",
      ": 961 rows, 2042 columns, 9304 nonzeros\n"
     ]
    },
    {
     "name": "stderr",
     "output_type": "stream",
     "text": [
      "Ignoring reaction 'EX_cpd00159_e0' since it already exists.\n"
     ]
    },
    {
     "name": "stdout",
     "output_type": "stream",
     "text": [
      "Added exchange reaction for cpd00047_c0 in MAG231_gapfilled\n",
      "Added exchange reaction for cpd00029_c0 in MAG231_gapfilled\n",
      "Added exchange reaction for cpd00159_c0 in MAG231_gapfilled\n",
      "Read LP format model from file /var/folders/6w/knrbtrj125ggkrx091kd2g840000gn/T/tmpeg6o2gxr.lp\n",
      "Reading time = 0.00 seconds\n",
      ": 920 rows, 1952 columns, 8826 nonzeros\n"
     ]
    },
    {
     "name": "stderr",
     "output_type": "stream",
     "text": [
      "Ignoring reaction 'EX_cpd00211_e0' since it already exists.\n",
      "Ignoring reaction 'EX_cpd00159_e0' since it already exists.\n"
     ]
    },
    {
     "name": "stdout",
     "output_type": "stream",
     "text": [
      "Added exchange reaction for cpd00211_c0 in MAG232_gapfilled\n",
      "Added exchange reaction for cpd00047_c0 in MAG232_gapfilled\n",
      "Added exchange reaction for cpd00029_c0 in MAG232_gapfilled\n",
      "Added exchange reaction for cpd00159_c0 in MAG232_gapfilled\n",
      "Added exchange reaction for cpd00221_c0 in MAG232_gapfilled\n",
      "Read LP format model from file /var/folders/6w/knrbtrj125ggkrx091kd2g840000gn/T/tmp8reaccgh.lp\n",
      "Reading time = 0.00 seconds\n",
      ": 934 rows, 1924 columns, 8658 nonzeros\n"
     ]
    },
    {
     "name": "stderr",
     "output_type": "stream",
     "text": [
      "Ignoring reaction 'EX_cpd00211_e0' since it already exists.\n",
      "Ignoring reaction 'EX_cpd00159_e0' since it already exists.\n"
     ]
    },
    {
     "name": "stdout",
     "output_type": "stream",
     "text": [
      "Added exchange reaction for cpd00211_c0 in MAG233_gapfilled\n",
      "Added exchange reaction for cpd00047_c0 in MAG233_gapfilled\n",
      "Added exchange reaction for cpd00029_c0 in MAG233_gapfilled\n",
      "Added exchange reaction for cpd00159_c0 in MAG233_gapfilled\n",
      "Added exchange reaction for cpd00221_c0 in MAG233_gapfilled\n",
      "Read LP format model from file /var/folders/6w/knrbtrj125ggkrx091kd2g840000gn/T/tmpzbpujhaq.lp\n",
      "Reading time = 0.01 seconds\n",
      ": 1183 rows, 2498 columns, 11182 nonzeros\n"
     ]
    },
    {
     "name": "stderr",
     "output_type": "stream",
     "text": [
      "Ignoring reaction 'EX_cpd00159_e0' since it already exists.\n"
     ]
    },
    {
     "name": "stdout",
     "output_type": "stream",
     "text": [
      "Added exchange reaction for cpd00047_c0 in MAG234_gapfilled\n",
      "Added exchange reaction for cpd00029_c0 in MAG234_gapfilled\n",
      "Added exchange reaction for cpd00159_c0 in MAG234_gapfilled\n",
      "Read LP format model from file /var/folders/6w/knrbtrj125ggkrx091kd2g840000gn/T/tmp21pfgedt.lp\n",
      "Reading time = 0.00 seconds\n",
      ": 919 rows, 1914 columns, 8826 nonzeros\n",
      "Added exchange reaction for cpd00047_c0 in MAG235_gapfilled\n",
      "Added exchange reaction for cpd00029_c0 in MAG235_gapfilled\n",
      "Added exchange reaction for cpd00159_c0 in MAG235_gapfilled\n",
      "Read LP format model from file /var/folders/6w/knrbtrj125ggkrx091kd2g840000gn/T/tmpmx7ot6y9.lp\n",
      "Reading time = 0.00 seconds\n",
      ": 1025 rows, 2156 columns, 9960 nonzeros\n"
     ]
    },
    {
     "name": "stderr",
     "output_type": "stream",
     "text": [
      "Ignoring reaction 'EX_cpd00047_e0' since it already exists.\n"
     ]
    },
    {
     "name": "stdout",
     "output_type": "stream",
     "text": [
      "Added exchange reaction for cpd00211_c0 in MAG236_gapfilled\n",
      "Added exchange reaction for cpd00047_c0 in MAG236_gapfilled\n",
      "Added exchange reaction for cpd00029_c0 in MAG236_gapfilled\n",
      "Added exchange reaction for cpd00221_c0 in MAG236_gapfilled\n",
      "Read LP format model from file /var/folders/6w/knrbtrj125ggkrx091kd2g840000gn/T/tmp6yovrnp8.lp\n",
      "Reading time = 0.00 seconds\n",
      ": 1020 rows, 2124 columns, 9630 nonzeros\n"
     ]
    },
    {
     "name": "stderr",
     "output_type": "stream",
     "text": [
      "Ignoring reaction 'EX_cpd00047_e0' since it already exists.\n",
      "Ignoring reaction 'EX_cpd00159_e0' since it already exists.\n"
     ]
    },
    {
     "name": "stdout",
     "output_type": "stream",
     "text": [
      "Added exchange reaction for cpd00047_c0 in MAG237_gapfilled\n",
      "Added exchange reaction for cpd00029_c0 in MAG237_gapfilled\n",
      "Added exchange reaction for cpd00159_c0 in MAG237_gapfilled\n",
      "Read LP format model from file /var/folders/6w/knrbtrj125ggkrx091kd2g840000gn/T/tmpch3pja2l.lp\n",
      "Reading time = 0.00 seconds\n",
      ": 974 rows, 2004 columns, 9326 nonzeros\n"
     ]
    },
    {
     "name": "stderr",
     "output_type": "stream",
     "text": [
      "Ignoring reaction 'EX_cpd00159_e0' since it already exists.\n"
     ]
    },
    {
     "name": "stdout",
     "output_type": "stream",
     "text": [
      "Added exchange reaction for cpd00211_c0 in MAG238_gapfilled\n",
      "Added exchange reaction for cpd00047_c0 in MAG238_gapfilled\n",
      "Added exchange reaction for cpd00029_c0 in MAG238_gapfilled\n",
      "Added exchange reaction for cpd00159_c0 in MAG238_gapfilled\n",
      "Added exchange reaction for cpd00221_c0 in MAG238_gapfilled\n",
      "Read LP format model from file /var/folders/6w/knrbtrj125ggkrx091kd2g840000gn/T/tmp4v8gwjg4.lp\n",
      "Reading time = 0.01 seconds\n",
      ": 1309 rows, 2892 columns, 13176 nonzeros\n"
     ]
    },
    {
     "name": "stderr",
     "output_type": "stream",
     "text": [
      "Ignoring reaction 'EX_cpd00159_e0' since it already exists.\n"
     ]
    },
    {
     "name": "stdout",
     "output_type": "stream",
     "text": [
      "Added exchange reaction for cpd00047_c0 in MAG239_gapfilled\n",
      "Added exchange reaction for cpd00029_c0 in MAG239_gapfilled\n",
      "Added exchange reaction for cpd00159_c0 in MAG239_gapfilled\n",
      "Read LP format model from file /var/folders/6w/knrbtrj125ggkrx091kd2g840000gn/T/tmp4qzwikoj.lp\n",
      "Reading time = 0.00 seconds\n",
      ": 904 rows, 1904 columns, 8632 nonzeros\n",
      "Added exchange reaction for cpd00211_c0 in MAG240_gapfilled\n",
      "Added exchange reaction for cpd00047_c0 in MAG240_gapfilled\n",
      "Added exchange reaction for cpd00029_c0 in MAG240_gapfilled\n",
      "Added exchange reaction for cpd00159_c0 in MAG240_gapfilled\n",
      "Added exchange reaction for cpd00221_c0 in MAG240_gapfilled\n",
      "Read LP format model from file /var/folders/6w/knrbtrj125ggkrx091kd2g840000gn/T/tmpm0261x_8.lp\n",
      "Reading time = 0.00 seconds\n",
      ": 1038 rows, 2206 columns, 10012 nonzeros\n"
     ]
    }
   ],
   "source": [
    "from cobra import Reaction, Metabolite\n",
    "import cobra\n",
    "import os\n",
    "\n",
    "os.environ['GRB_LICENSE_FILE'] = '../content/licenses/gurobi.lic'\n",
    "\n",
    "def makeMissingReaction(model, met_in, met_out):\n",
    "    new_reaction_1 = Reaction('EX_' + met_out.id)\n",
    "    new_reaction_1.name = met_out.name + ' exchange'\n",
    "    new_reaction_1.lower_bound = -1000\n",
    "    new_reaction_1.upper_bound = 1000\n",
    "    new_reaction_1.add_metabolites({met_out: -1.0})\n",
    "\n",
    "    new_reaction_2 = Reaction('TR_' + met_out.id)\n",
    "    new_reaction_2.name = met_in.name + ' transport'\n",
    "    new_reaction_2.lower_bound = 0\n",
    "    new_reaction_2.upper_bound = 1000\n",
    "    new_reaction_2.add_metabolites({met_in: 1.0, met_out: -1.0})\n",
    "\n",
    "    model.add_reactions([new_reaction_1, new_reaction_2])\n",
    "    return model\n",
    "\n",
    "def fix_exchange_reactions(model_in, list_of_metabolites):\n",
    "    for met in list_of_metabolites:\n",
    "        if model_in.metabolites.has_id(met):\n",
    "            met_in = model_in.metabolites.get_by_id(met)\n",
    "            met_out = Metabolite(met.replace(\"_c0\", \"_e0\"), compartment='e')\n",
    "            makeMissingReaction(model_in, met_in, met_out)\n",
    "            print(f\"Added exchange reaction for {met} in {model_in.id}\")\n",
    "    return model_in.copy()\n",
    "\n",
    "gapfilled_dir = \"../models/Gapfilled_models\"\n",
    "output_dir = \"../models/fixed_models\"\n",
    "\n",
    "os.makedirs(output_dir, exist_ok=True)\n",
    "\n",
    "model_files = sorted([f for f in os.listdir(gapfilled_dir) if f.endswith(\".xml\")])\n",
    "list_of_metabolites = [\n",
    "    \"cpd00211_c0\",  # Butyrate\n",
    "    \"cpd00047_c0\",  # Formate\n",
    "    \"cpd00029_c0\",  # Acetate\n",
    "    \"cpd00141_c0\",  # Ethanol\n",
    "    \"cpd00159_c0\",  # Lactate\n",
    "    \"cpd00221_c0\",  # Propionate\n",
    "]\n",
    "\n",
    "for model_file in model_files:\n",
    "    model_path = os.path.join(gapfilled_dir, model_file)\n",
    "    model = cobra.io.read_sbml_model(model_path)\n",
    "    model = fix_exchange_reactions(model, list_of_metabolites)\n",
    "\n",
    "    output_path = os.path.join(output_dir, model_file)\n",
    "    cobra.io.write_sbml_model(model, output_path)\n"
   ]
  },
  {
   "cell_type": "code",
   "execution_count": 7,
   "id": "8fa6c0bf",
   "metadata": {},
   "outputs": [
    {
     "name": "stdout",
     "output_type": "stream",
     "text": [
      "Extracting exchange rxns from MAG001.sbml_gapfilled_noO2.xml...\n",
      "Extracting exchange rxns from MAG002.sbml_gapfilled_noO2.xml...\n",
      "Extracting exchange rxns from MAG003.sbml_gapfilled_noO2.xml...\n",
      "Extracting exchange rxns from MAG004.sbml_gapfilled_noO2.xml...\n",
      "Extracting exchange rxns from MAG005.sbml_gapfilled_noO2.xml...\n",
      "Extracting exchange rxns from MAG006.sbml_gapfilled_noO2.xml...\n",
      "Extracting exchange rxns from MAG007.sbml_gapfilled_noO2.xml...\n",
      "Extracting exchange rxns from MAG008.sbml_gapfilled_noO2.xml...\n",
      "Extracting exchange rxns from MAG009.sbml_gapfilled_noO2.xml...\n",
      "Extracting exchange rxns from MAG010.sbml_gapfilled_noO2.xml...\n",
      "Extracting exchange rxns from MAG011.sbml_gapfilled_noO2.xml...\n",
      "Extracting exchange rxns from MAG012.sbml_gapfilled_noO2.xml...\n",
      "Extracting exchange rxns from MAG013.sbml_gapfilled_noO2.xml...\n",
      "Extracting exchange rxns from MAG014.sbml_gapfilled_noO2.xml...\n",
      "Extracting exchange rxns from MAG015.sbml_gapfilled_noO2.xml...\n",
      "Extracting exchange rxns from MAG016.sbml_gapfilled_noO2.xml...\n",
      "Extracting exchange rxns from MAG017.sbml_gapfilled_noO2.xml...\n",
      "Extracting exchange rxns from MAG018.sbml_gapfilled_noO2.xml...\n",
      "Extracting exchange rxns from MAG019.sbml_gapfilled_noO2.xml...\n",
      "Extracting exchange rxns from MAG020.sbml_gapfilled_noO2.xml...\n",
      "Extracting exchange rxns from MAG021.sbml_gapfilled_noO2.xml...\n",
      "Extracting exchange rxns from MAG022.sbml_gapfilled_noO2.xml...\n",
      "Extracting exchange rxns from MAG023.sbml_gapfilled_noO2.xml...\n",
      "Extracting exchange rxns from MAG024.sbml_gapfilled_noO2.xml...\n",
      "Extracting exchange rxns from MAG025.sbml_gapfilled_noO2.xml...\n",
      "Extracting exchange rxns from MAG026.sbml_gapfilled_noO2.xml...\n",
      "Extracting exchange rxns from MAG027.sbml_gapfilled_noO2.xml...\n",
      "Extracting exchange rxns from MAG028.sbml_gapfilled_noO2.xml...\n",
      "Extracting exchange rxns from MAG029.sbml_gapfilled_noO2.xml...\n",
      "Extracting exchange rxns from MAG030.sbml_gapfilled_noO2.xml...\n",
      "Extracting exchange rxns from MAG031.sbml_gapfilled_noO2.xml...\n",
      "Extracting exchange rxns from MAG032.sbml_gapfilled_noO2.xml...\n",
      "Extracting exchange rxns from MAG033_gapfilled_noO2.xml...\n",
      "Extracting exchange rxns from MAG034_gapfilled_noO2.xml...\n",
      "Extracting exchange rxns from MAG035_gapfilled_noO2.xml...\n",
      "Extracting exchange rxns from MAG036_gapfilled_noO2.xml...\n",
      "Extracting exchange rxns from MAG037_gapfilled_noO2.xml...\n",
      "Extracting exchange rxns from MAG038_gapfilled_noO2.xml...\n",
      "Extracting exchange rxns from MAG039_gapfilled_noO2.xml...\n",
      "Extracting exchange rxns from MAG040_gapfilled_noO2.xml...\n",
      "Extracting exchange rxns from MAG041_gapfilled_noO2.xml...\n",
      "Extracting exchange rxns from MAG042_gapfilled_noO2.xml...\n",
      "Extracting exchange rxns from MAG043_gapfilled_noO2.xml...\n",
      "Extracting exchange rxns from MAG044_gapfilled_noO2.xml...\n",
      "Extracting exchange rxns from MAG045_gapfilled_noO2.xml...\n",
      "Extracting exchange rxns from MAG046_gapfilled_noO2.xml...\n",
      "Extracting exchange rxns from MAG047_gapfilled_noO2.xml...\n",
      "Extracting exchange rxns from MAG048_gapfilled_noO2.xml...\n",
      "Extracting exchange rxns from MAG049_gapfilled_noO2.xml...\n",
      "Extracting exchange rxns from MAG050_gapfilled_noO2.xml...\n",
      "Extracting exchange rxns from MAG051_gapfilled_noO2.xml...\n",
      "Extracting exchange rxns from MAG052_gapfilled_noO2.xml...\n",
      "Extracting exchange rxns from MAG053_gapfilled_noO2.xml...\n",
      "Extracting exchange rxns from MAG054_gapfilled_noO2.xml...\n",
      "Extracting exchange rxns from MAG055_gapfilled_noO2.xml...\n",
      "Extracting exchange rxns from MAG056_gapfilled_noO2.xml...\n",
      "Extracting exchange rxns from MAG057_gapfilled_noO2.xml...\n",
      "Extracting exchange rxns from MAG058_gapfilled_noO2.xml...\n",
      "Extracting exchange rxns from MAG059_gapfilled_noO2.xml...\n",
      "Extracting exchange rxns from MAG060_gapfilled_noO2.xml...\n",
      "Extracting exchange rxns from MAG061_gapfilled_noO2.xml...\n",
      "Extracting exchange rxns from MAG062_gapfilled_noO2.xml...\n",
      "Extracting exchange rxns from MAG063_gapfilled_noO2.xml...\n",
      "Extracting exchange rxns from MAG064_gapfilled_noO2.xml...\n",
      "Extracting exchange rxns from MAG065_gapfilled_noO2.xml...\n",
      "Extracting exchange rxns from MAG066_gapfilled_noO2.xml...\n",
      "Extracting exchange rxns from MAG067_gapfilled_noO2.xml...\n",
      "Extracting exchange rxns from MAG068_gapfilled_noO2.xml...\n",
      "Extracting exchange rxns from MAG069_gapfilled_noO2.xml...\n",
      "Extracting exchange rxns from MAG070_gapfilled_noO2.xml...\n",
      "Extracting exchange rxns from MAG071_gapfilled_noO2.xml...\n",
      "Extracting exchange rxns from MAG072_gapfilled_noO2.xml...\n",
      "Extracting exchange rxns from MAG073_gapfilled_noO2.xml...\n",
      "Extracting exchange rxns from MAG074_gapfilled_noO2.xml...\n",
      "Extracting exchange rxns from MAG075_gapfilled_noO2.xml...\n",
      "Extracting exchange rxns from MAG076_gapfilled_noO2.xml...\n",
      "Extracting exchange rxns from MAG077_gapfilled_noO2.xml...\n",
      "Extracting exchange rxns from MAG078_gapfilled_noO2.xml...\n",
      "Extracting exchange rxns from MAG079_gapfilled_noO2.xml...\n",
      "Extracting exchange rxns from MAG080_gapfilled_noO2.xml...\n",
      "Extracting exchange rxns from MAG081_gapfilled_noO2.xml...\n",
      "Extracting exchange rxns from MAG082_gapfilled_noO2.xml...\n",
      "Extracting exchange rxns from MAG083_gapfilled_noO2.xml...\n",
      "Extracting exchange rxns from MAG084_gapfilled_noO2.xml...\n",
      "Extracting exchange rxns from MAG085_gapfilled_noO2.xml...\n",
      "Extracting exchange rxns from MAG086_gapfilled_noO2.xml...\n",
      "Extracting exchange rxns from MAG087_gapfilled_noO2.xml...\n",
      "Extracting exchange rxns from MAG088_gapfilled_noO2.xml...\n",
      "Extracting exchange rxns from MAG089_gapfilled_noO2.xml...\n",
      "Extracting exchange rxns from MAG090_gapfilled_noO2.xml...\n",
      "Extracting exchange rxns from MAG091_gapfilled_noO2.xml...\n",
      "Extracting exchange rxns from MAG092_gapfilled_noO2.xml...\n",
      "Extracting exchange rxns from MAG093_gapfilled_noO2.xml...\n",
      "Extracting exchange rxns from MAG094_gapfilled_noO2.xml...\n",
      "Extracting exchange rxns from MAG095_gapfilled_noO2.xml...\n",
      "Extracting exchange rxns from MAG096_gapfilled_noO2.xml...\n",
      "Extracting exchange rxns from MAG097_gapfilled_noO2.xml...\n",
      "Extracting exchange rxns from MAG098_gapfilled_noO2.xml...\n",
      "Extracting exchange rxns from MAG099_gapfilled_noO2.xml...\n",
      "Extracting exchange rxns from MAG100_gapfilled_noO2.xml...\n",
      "Extracting exchange rxns from MAG101_gapfilled_noO2.xml...\n",
      "Extracting exchange rxns from MAG102_gapfilled_noO2.xml...\n",
      "Extracting exchange rxns from MAG103_gapfilled_noO2.xml...\n",
      "Extracting exchange rxns from MAG104_gapfilled_noO2.xml...\n",
      "Extracting exchange rxns from MAG105_gapfilled_noO2.xml...\n",
      "Extracting exchange rxns from MAG106_gapfilled_noO2.xml...\n",
      "Extracting exchange rxns from MAG107_gapfilled_noO2.xml...\n",
      "Extracting exchange rxns from MAG108_gapfilled_noO2.xml...\n",
      "Extracting exchange rxns from MAG109_gapfilled_noO2.xml...\n",
      "Extracting exchange rxns from MAG110_gapfilled_noO2.xml...\n",
      "Extracting exchange rxns from MAG111_gapfilled_noO2.xml...\n",
      "Extracting exchange rxns from MAG112_gapfilled_noO2.xml...\n",
      "Extracting exchange rxns from MAG113_gapfilled_noO2.xml...\n",
      "Extracting exchange rxns from MAG114_gapfilled_noO2.xml...\n",
      "Extracting exchange rxns from MAG115_gapfilled_noO2.xml...\n",
      "Extracting exchange rxns from MAG116_gapfilled_noO2.xml...\n",
      "Extracting exchange rxns from MAG117_gapfilled_noO2.xml...\n",
      "Extracting exchange rxns from MAG118_gapfilled_noO2.xml...\n",
      "Extracting exchange rxns from MAG119_gapfilled_noO2.xml...\n",
      "Extracting exchange rxns from MAG120_gapfilled_noO2.xml...\n",
      "Extracting exchange rxns from MAG121_gapfilled_noO2.xml...\n",
      "Extracting exchange rxns from MAG122_gapfilled_noO2.xml...\n",
      "Extracting exchange rxns from MAG123_gapfilled_noO2.xml...\n",
      "Extracting exchange rxns from MAG124_gapfilled_noO2.xml...\n",
      "Extracting exchange rxns from MAG125_gapfilled_noO2.xml...\n",
      "Extracting exchange rxns from MAG126_gapfilled_noO2.xml...\n",
      "Extracting exchange rxns from MAG127_gapfilled_noO2.xml...\n",
      "Extracting exchange rxns from MAG128_gapfilled_noO2.xml...\n",
      "Extracting exchange rxns from MAG129_gapfilled_noO2.xml...\n",
      "Extracting exchange rxns from MAG130_gapfilled_noO2.xml...\n",
      "Extracting exchange rxns from MAG131_gapfilled_noO2.xml...\n",
      "Extracting exchange rxns from MAG132_gapfilled_noO2.xml...\n",
      "Extracting exchange rxns from MAG133_gapfilled_noO2.xml...\n",
      "Extracting exchange rxns from MAG134_gapfilled_noO2.xml...\n",
      "Extracting exchange rxns from MAG135_gapfilled_noO2.xml...\n",
      "Extracting exchange rxns from MAG136_gapfilled_noO2.xml...\n",
      "Extracting exchange rxns from MAG137_gapfilled_noO2.xml...\n",
      "Extracting exchange rxns from MAG138_gapfilled_noO2.xml...\n",
      "Extracting exchange rxns from MAG139_gapfilled_noO2.xml...\n",
      "Extracting exchange rxns from MAG140_gapfilled_noO2.xml...\n",
      "Extracting exchange rxns from MAG141_gapfilled_noO2.xml...\n",
      "Extracting exchange rxns from MAG142_gapfilled_noO2.xml...\n",
      "Extracting exchange rxns from MAG143_gapfilled_noO2.xml...\n",
      "Extracting exchange rxns from MAG144_gapfilled_noO2.xml...\n",
      "Extracting exchange rxns from MAG145_gapfilled_noO2.xml...\n",
      "Extracting exchange rxns from MAG146_gapfilled_noO2.xml...\n",
      "Extracting exchange rxns from MAG147_gapfilled_noO2.xml...\n",
      "Extracting exchange rxns from MAG148_gapfilled_noO2.xml...\n",
      "Extracting exchange rxns from MAG149_gapfilled_noO2.xml...\n",
      "Extracting exchange rxns from MAG150_gapfilled_noO2.xml...\n",
      "Extracting exchange rxns from MAG151_gapfilled_noO2.xml...\n",
      "Extracting exchange rxns from MAG152_gapfilled_noO2.xml...\n",
      "Extracting exchange rxns from MAG153_gapfilled_noO2.xml...\n",
      "Extracting exchange rxns from MAG154_gapfilled_noO2.xml...\n",
      "Extracting exchange rxns from MAG155_gapfilled_noO2.xml...\n",
      "Extracting exchange rxns from MAG156_gapfilled_noO2.xml...\n",
      "Extracting exchange rxns from MAG157_gapfilled_noO2.xml...\n",
      "Extracting exchange rxns from MAG158_gapfilled_noO2.xml...\n",
      "Extracting exchange rxns from MAG159_gapfilled_noO2.xml...\n",
      "Extracting exchange rxns from MAG160_gapfilled_noO2.xml...\n",
      "Extracting exchange rxns from MAG161_gapfilled_noO2.xml...\n",
      "Extracting exchange rxns from MAG162_gapfilled_noO2.xml...\n",
      "Extracting exchange rxns from MAG163_gapfilled_noO2.xml...\n",
      "Extracting exchange rxns from MAG164_gapfilled_noO2.xml...\n",
      "Extracting exchange rxns from MAG165_gapfilled_noO2.xml...\n",
      "Extracting exchange rxns from MAG166_gapfilled_noO2.xml...\n",
      "Extracting exchange rxns from MAG167_gapfilled_noO2.xml...\n",
      "Extracting exchange rxns from MAG168_gapfilled_noO2.xml...\n",
      "Extracting exchange rxns from MAG169_gapfilled_noO2.xml...\n",
      "Extracting exchange rxns from MAG170_gapfilled_noO2.xml...\n",
      "Extracting exchange rxns from MAG171_gapfilled_noO2.xml...\n",
      "Extracting exchange rxns from MAG172_gapfilled_noO2.xml...\n",
      "Extracting exchange rxns from MAG173_gapfilled_noO2.xml...\n",
      "Extracting exchange rxns from MAG174_gapfilled_noO2.xml...\n",
      "Extracting exchange rxns from MAG175_gapfilled_noO2.xml...\n",
      "Extracting exchange rxns from MAG176_gapfilled_noO2.xml...\n",
      "Extracting exchange rxns from MAG177_gapfilled_noO2.xml...\n",
      "Extracting exchange rxns from MAG178_gapfilled_noO2.xml...\n",
      "Extracting exchange rxns from MAG179_gapfilled_noO2.xml...\n",
      "Extracting exchange rxns from MAG180_gapfilled_noO2.xml...\n",
      "Extracting exchange rxns from MAG181_gapfilled_noO2.xml...\n",
      "Extracting exchange rxns from MAG182_gapfilled_noO2.xml...\n",
      "Extracting exchange rxns from MAG183_gapfilled_noO2.xml...\n",
      "Extracting exchange rxns from MAG184_gapfilled_noO2.xml...\n",
      "Extracting exchange rxns from MAG185_gapfilled_noO2.xml...\n",
      "Extracting exchange rxns from MAG186_gapfilled_noO2.xml...\n",
      "Extracting exchange rxns from MAG187_gapfilled_noO2.xml...\n",
      "Extracting exchange rxns from MAG188_gapfilled_noO2.xml...\n",
      "Extracting exchange rxns from MAG189_gapfilled_noO2.xml...\n",
      "Extracting exchange rxns from MAG190_gapfilled_noO2.xml...\n",
      "Extracting exchange rxns from MAG191_gapfilled_noO2.xml...\n",
      "Extracting exchange rxns from MAG192_gapfilled_noO2.xml...\n",
      "Extracting exchange rxns from MAG193_gapfilled_noO2.xml...\n",
      "Extracting exchange rxns from MAG194_gapfilled_noO2.xml...\n",
      "Extracting exchange rxns from MAG195_gapfilled_noO2.xml...\n",
      "Extracting exchange rxns from MAG196_gapfilled_noO2.xml...\n",
      "Extracting exchange rxns from MAG197_gapfilled_noO2.xml...\n",
      "Extracting exchange rxns from MAG198_gapfilled_noO2.xml...\n",
      "Extracting exchange rxns from MAG199_gapfilled_noO2.xml...\n",
      "Extracting exchange rxns from MAG200_gapfilled_noO2.xml...\n",
      "Extracting exchange rxns from MAG201_gapfilled_noO2.xml...\n",
      "Extracting exchange rxns from MAG202_gapfilled_noO2.xml...\n",
      "Extracting exchange rxns from MAG203_gapfilled_noO2.xml...\n",
      "Extracting exchange rxns from MAG204_gapfilled_noO2.xml...\n",
      "Extracting exchange rxns from MAG205_gapfilled_noO2.xml...\n",
      "Extracting exchange rxns from MAG206_gapfilled_noO2.xml...\n",
      "Extracting exchange rxns from MAG207_gapfilled_noO2.xml...\n",
      "Extracting exchange rxns from MAG208_gapfilled_noO2.xml...\n",
      "Extracting exchange rxns from MAG209_gapfilled_noO2.xml...\n",
      "Extracting exchange rxns from MAG210_gapfilled_noO2.xml...\n",
      "Extracting exchange rxns from MAG211_gapfilled_noO2.xml...\n",
      "Extracting exchange rxns from MAG212_gapfilled_noO2.xml...\n",
      "Extracting exchange rxns from MAG213_gapfilled_noO2.xml...\n",
      "Extracting exchange rxns from MAG214_gapfilled_noO2.xml...\n",
      "Extracting exchange rxns from MAG215_gapfilled_noO2.xml...\n",
      "Extracting exchange rxns from MAG216_gapfilled_noO2.xml...\n",
      "Extracting exchange rxns from MAG217_gapfilled_noO2.xml...\n",
      "Extracting exchange rxns from MAG218_gapfilled_noO2.xml...\n",
      "Extracting exchange rxns from MAG219_gapfilled_noO2.xml...\n",
      "Extracting exchange rxns from MAG220_gapfilled_noO2.xml...\n",
      "Extracting exchange rxns from MAG221_gapfilled_noO2.xml...\n",
      "Extracting exchange rxns from MAG222_gapfilled_noO2.xml...\n",
      "Extracting exchange rxns from MAG223_gapfilled_noO2.xml...\n",
      "Extracting exchange rxns from MAG224_gapfilled_noO2.xml...\n",
      "Extracting exchange rxns from MAG225_gapfilled_noO2.xml...\n",
      "Extracting exchange rxns from MAG226_gapfilled_noO2.xml...\n",
      "Extracting exchange rxns from MAG227_gapfilled_noO2.xml...\n",
      "Extracting exchange rxns from MAG228_gapfilled_noO2.xml...\n",
      "Extracting exchange rxns from MAG229_gapfilled_noO2.xml...\n",
      "Extracting exchange rxns from MAG230_gapfilled_noO2.xml...\n",
      "Extracting exchange rxns from MAG231_gapfilled_noO2.xml...\n",
      "Extracting exchange rxns from MAG232_gapfilled_noO2.xml...\n",
      "Extracting exchange rxns from MAG233_gapfilled_noO2.xml...\n",
      "Extracting exchange rxns from MAG234_gapfilled_noO2.xml...\n",
      "Extracting exchange rxns from MAG235_gapfilled_noO2.xml...\n",
      "Extracting exchange rxns from MAG236_gapfilled_noO2.xml...\n",
      "Extracting exchange rxns from MAG237_gapfilled_noO2.xml...\n",
      "Extracting exchange rxns from MAG238_gapfilled_noO2.xml...\n",
      "Extracting exchange rxns from MAG239_gapfilled_noO2.xml...\n",
      "Extracting exchange rxns from MAG240_gapfilled_noO2.xml...\n",
      "\n",
      "[Unified exchange reactions saved to: ../models/group_medium_exchanges.tsv]\n",
      "Total unique exchange reactions: 199\n"
     ]
    }
   ],
   "source": [
    "import os\n",
    "import cobra\n",
    "gapfilled_dir = \"../models/fixed_models\"  # folder containing gapfilled models\n",
    "model_files = sorted([f for f in os.listdir(gapfilled_dir) if f.endswith(\".xml\")])\n",
    "\n",
    "def extract_exchange_reactions(model):\n",
    "    \"\"\"\n",
    "    Return a dictionary of exchange reactions from the model\n",
    "    that have negative lower_bound (< 0), i.e., import direction.\n",
    "\n",
    "    Format: {rxn_id: [met_id, met_name, met_formula]}\n",
    "    \"\"\"\n",
    "    exchange_reactions = {}\n",
    "    for reaction in model.reactions:\n",
    "        # Common practice: exchange rxns often start with \"EX_\",\n",
    "        # but you can adapt this filter if your exchange IDs differ\n",
    "        if reaction.id.startswith(\"EX_\") and (reaction.lower_bound < 0):\n",
    "            # Typically there's only 1 metabolite in an exchange reaction,\n",
    "            # so we grab the first one\n",
    "            if len(reaction.metabolites) == 1:\n",
    "                met = list(reaction.metabolites.keys())[0]\n",
    "                exchange_reactions[reaction.id] = [met.id, met.name, met.formula]\n",
    "\n",
    "    return exchange_reactions\n",
    "\n",
    "# 1) Collect exchange reactions from each gapfilled model\n",
    "all_exchange_dict = {}  # key=rxn_id, value=[met_id, met_name, met_formula]\n",
    "\n",
    "for mf in model_files:\n",
    "    model_path = os.path.join(gapfilled_dir, mf)\n",
    "    print(f\"Extracting exchange rxns from {mf}...\")\n",
    "    try:\n",
    "        model = cobra.io.read_sbml_model(model_path)\n",
    "    except Exception as e:\n",
    "        print(f\"[Error] Cannot load {mf}: {e}\")\n",
    "        continue\n",
    "\n",
    "    ex_rxns = extract_exchange_reactions(model)\n",
    "\n",
    "    # Unify them\n",
    "    for rxn_id, info_list in ex_rxns.items():\n",
    "        if rxn_id not in all_exchange_dict:\n",
    "            all_exchange_dict[rxn_id] = info_list\n",
    "\n",
    "# 2) Write the unified exchange reactions to a file\n",
    "medium_file = \"../models/group_medium_exchanges.tsv\"\n",
    "with open(medium_file, \"w\") as f:\n",
    "    f.write(\"rxn_id\\tmet_id\\tmet_name\\tmet_formula\\n\")\n",
    "    for rxn_id, info in all_exchange_dict.items():\n",
    "        met_id, met_name, met_form = info\n",
    "        f.write(f\"{rxn_id}\\t{met_id}\\t{met_name}\\t{met_form}\\n\")\n",
    "\n",
    "print(f\"\\n[Unified exchange reactions saved to: {medium_file}]\")\n",
    "print(f\"Total unique exchange reactions: {len(all_exchange_dict)}\")\n"
   ]
  }
 ],
 "metadata": {
  "kernelspec": {
   "display_name": "electromics-project-Ddk0_V8b-py3.10",
   "language": "python",
   "name": "python3"
  },
  "language_info": {
   "codemirror_mode": {
    "name": "ipython",
    "version": 3
   },
   "file_extension": ".py",
   "mimetype": "text/x-python",
   "name": "python",
   "nbconvert_exporter": "python",
   "pygments_lexer": "ipython3",
   "version": "3.10.13"
  }
 },
 "nbformat": 4,
 "nbformat_minor": 5
}
