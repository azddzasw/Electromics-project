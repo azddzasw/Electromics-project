{
 "cells": [
  {
   "cell_type": "code",
   "execution_count": 10,
   "id": "c1671e3c",
   "metadata": {},
   "outputs": [
    {
     "name": "stdout",
     "output_type": "stream",
     "text": [
      "模型中包含 702 个反应，688 个代谢物，344 个基因。\n"
     ]
    }
   ],
   "source": [
    "import sys\n",
    "import os\n",
    "from cobra.io import read_sbml_model\n",
    "\n",
    "sys.path.append(os.path.abspath(\"../../src\"))\n",
    "\n",
    "model = read_sbml_model(\"/Users/azddza/Electromics-project/models/gap_but_models/added_butyrate_exchange_reactions/MAG037_gapfilled_noO2.xml\")\n",
    "\n",
    "print(f\"模型中包含 {len(model.reactions)} 个反应，{len(model.metabolites)} 个代谢物，{len(model.genes)} 个基因。\")\n"
   ]
  },
  {
   "cell_type": "code",
   "execution_count": 2,
   "id": "f97a21f9",
   "metadata": {},
   "outputs": [
    {
     "name": "stdout",
     "output_type": "stream",
     "text": [
      "frozenset({<Reaction TR_cpd00211_c0 at 0x1739e2860>, <Reaction EX_cpd00211_e0 at 0x1739e26e0>})\n"
     ]
    }
   ],
   "source": [
    "print(model.metabolites.get_by_id(\"cpd00211_e0\").reactions)"
   ]
  },
  {
   "cell_type": "code",
   "execution_count": 11,
   "id": "48b10f0c",
   "metadata": {},
   "outputs": [
    {
     "name": "stdout",
     "output_type": "stream",
     "text": [
      "EX_cpd00211_e0 cpd00211_e0 <=> \n",
      "TR_cpd00211_c0 cpd00211_e0 <=> cpd00211_c0\n"
     ]
    }
   ],
   "source": [
    "for rxn in model.reactions:\n",
    "    if \"cpd00211\" in rxn.id:\n",
    "        print(rxn.id, rxn.reaction)"
   ]
  },
  {
   "cell_type": "code",
   "execution_count": 12,
   "id": "ae71559c",
   "metadata": {},
   "outputs": [],
   "source": [
    "import networkx as nx\n",
    "G_model = nx.DiGraph()\n",
    "for reaction in model.reactions:\n",
    "    reactants = [met.id for met in reaction.reactants]\n",
    "    products = [met.id for met in reaction.products]\n",
    "    for r in reactants:\n",
    "        for p in products:\n",
    "            G_model.add_edge(r, p, reaction=reaction.id)"
   ]
  },
  {
   "cell_type": "code",
   "execution_count": 13,
   "id": "de6aa4c3",
   "metadata": {},
   "outputs": [
    {
     "name": "stdout",
     "output_type": "stream",
     "text": [
      "前10个代谢物节点:\n",
      "cpd00002_c0\n",
      "cpd00012_c0\n",
      "cpd00018_c0\n",
      "cpd00067_c0\n",
      "cpd00279_c0\n",
      "cpd00010_c0\n",
      "cpd00142_c0\n",
      "cpd00031_c0\n",
      "cpd00001_c0\n",
      "cpd00295_c0\n",
      "cpd11420_c0\n",
      "cpd11421_c0\n",
      "\n",
      "前10条反应边（从代谢物A → B）:\n",
      "cpd00002_c0 → cpd00012_c0 via reaction: rxn30387_c0\n",
      "cpd00002_c0 → cpd00018_c0 via reaction: rxn30387_c0\n",
      "cpd00002_c0 → cpd00067_c0 via reaction: rxn10481_c0\n",
      "cpd00002_c0 → cpd00279_c0 via reaction: rxn00988_c0\n",
      "cpd00002_c0 → cpd14955_c0 via reaction: rxn07584_c0\n",
      "cpd00002_c0 → cpd00327_c0 via reaction: rxn09449_c0\n",
      "cpd00002_c0 → cpd00297_c0 via reaction: rxn01513_c0\n",
      "cpd00002_c0 → cpd00008_c0 via reaction: rxn10481_c0\n",
      "cpd00002_c0 → cpd00009_c0 via reaction: rxn10481_c0\n",
      "cpd00002_c0 → cpd00053_c0 via reaction: rxn00187_c0\n",
      "cpd00002_c0 → cpd15603_c0 via reaction: rxn12848_c0\n",
      "cpd00002_c0 → cpd11437_c0 via reaction: rxn05249_c0\n"
     ]
    }
   ],
   "source": [
    "print(\"前10个代谢物节点:\")\n",
    "for i, node in enumerate(G_model.nodes):\n",
    "    print(node)\n",
    "    if i > 10: break\n",
    "\n",
    "print(\"\\n前10条反应边（从代谢物A → B）:\")\n",
    "for i, (u, v, data) in enumerate(G_model.edges(data=True)):\n",
    "    print(f\"{u} → {v} via reaction: {data.get('reaction')}\")\n",
    "    if i > 10: break\n"
   ]
  },
  {
   "cell_type": "code",
   "execution_count": 14,
   "id": "e92da988",
   "metadata": {},
   "outputs": [
    {
     "name": "stdout",
     "output_type": "stream",
     "text": [
      "图节点数: 20151, 边数: 147336\n"
     ]
    }
   ],
   "source": [
    "import networkx as nx\n",
    "\n",
    "# 读取社区网络图\n",
    "G = nx.read_graphml(\"cpd00211_community.graphml\")  \n",
    "print(f\"图节点数: {G.number_of_nodes()}, 边数: {G.number_of_edges()}\")\n"
   ]
  },
  {
   "cell_type": "code",
   "execution_count": null,
   "id": "a87c1d9c",
   "metadata": {},
   "outputs": [],
   "source": [
    "target_met = \"cpd00211_c0\"  \n",
    "if target_met not in G:\n",
    "    print(\"目标产物在社区图中不存在\")\n",
    "\n",
    "# 获取与其直接或间接连通的代谢物\n",
    "from networkx.algorithms.components import connected_components\n",
    "\n",
    "# 对无向图求子图\n",
    "G_u = G.to_undirected()\n",
    "components = list(nx.connected_components(G_u))\n",
    "\n",
    "# 找包含目标物的子图\n",
    "target_component = next((c for c in components if target_met in c), None)\n",
    "G_sub = G.subgraph(target_component).copy()\n"
   ]
  },
  {
   "cell_type": "code",
   "execution_count": 6,
   "id": "1abdaaed",
   "metadata": {},
   "outputs": [
    {
     "name": "stderr",
     "output_type": "stream",
     "text": [
      "/Users/azddza/Library/Caches/pypoetry/virtualenvs/electromics-project-Ddk0_V8b-py3.10/lib/python3.10/site-packages/cobra/medium/boundary_types.py:74: FutureWarning: Series.__getitem__ treating keys as positions is deprecated. In a future version, integer keys will always be treated as labels (consistent with DataFrame behavior). To access a value by position, use `ser.iloc[pos]`\n",
      "  compartment = most[matches[most]][0]\n",
      "There are several compartments that look like an external compartment but `e0` has the most boundary reactions, so using that as the external compartment.\n"
     ]
    }
   ],
   "source": [
    "# 从社区图中取出所有代谢物名称（需要确保命名方式一致，如带_c）\n",
    "community_mets = set(G_sub.nodes)\n",
    "\n",
    "# 在模型图中找这些代谢物是否能从某些模型已有代谢物可达\n",
    "exchange_mets = set()\n",
    "for rxn in model.exchanges:\n",
    "    for met in rxn.metabolites:\n",
    "        exchange_mets.add(met.id)\n",
    "\n",
    "# 在模型图中，从每个 exchange 代谢物出发，检查能否到目标社区\n",
    "valid_starts = []\n",
    "for start in exchange_mets:\n",
    "    for target in community_mets:\n",
    "        try:\n",
    "            if nx.has_path(G_model, start, target):\n",
    "                valid_starts.append(start)\n",
    "                break\n",
    "        except:\n",
    "            continue\n"
   ]
  },
  {
   "cell_type": "code",
   "execution_count": 7,
   "id": "71763c39",
   "metadata": {},
   "outputs": [
    {
     "name": "stdout",
     "output_type": "stream",
     "text": [
      "推荐用于 gapfilling 的起点代谢物（在模型中存在且连通社区）:\n",
      "cpd00048_e0\n",
      "cpd00129_e0\n",
      "cpd15240_e0\n",
      "cpd00531_e0\n",
      "cpd00007_e0\n",
      "cpd00104_e0\n",
      "cpd00063_e0\n",
      "cpd00971_e0\n",
      "cpd00028_e0\n",
      "cpd29426_e0\n",
      "cpd03453_e0\n",
      "cpd00264_e0\n",
      "cpd00034_e0\n",
      "cpd00211_e0\n",
      "cpd10515_e0\n",
      "cpd03586_e0\n",
      "cpd00066_e0\n",
      "cpd00156_e0\n",
      "cpd00220_e0\n",
      "cpd00119_e0\n",
      "cpd10516_e0\n",
      "cpd03726_e0\n",
      "cpd00001_e0\n",
      "cpd03422_e0\n",
      "cpd00067_e0\n",
      "cpd00030_e0\n",
      "cpd00118_e0\n",
      "cpd00305_e0\n",
      "cpd00205_e0\n",
      "cpd15603_e0\n",
      "cpd00009_e0\n",
      "cpd15560_e0\n",
      "cpd00011_e0\n",
      "cpd01012_e0\n",
      "cpd00149_e0\n",
      "cpd04097_e0\n",
      "cpd00508_e0\n",
      "cpd00092_e0\n",
      "cpd00116_e0\n",
      "cpd00058_e0\n",
      "cpd00254_e0\n",
      "cpd00166_e0\n"
     ]
    }
   ],
   "source": [
    "print(\"推荐用于 gapfilling 的起点代谢物（在模型中存在且连通社区）:\")\n",
    "for met in valid_starts:\n",
    "    print(met)\n"
   ]
  },
  {
   "cell_type": "code",
   "execution_count": 9,
   "id": "412ce2a7",
   "metadata": {},
   "outputs": [
    {
     "data": {
      "text/plain": [
       "42"
      ]
     },
     "execution_count": 9,
     "metadata": {},
     "output_type": "execute_result"
    }
   ],
   "source": [
    "len(valid_starts)"
   ]
  },
  {
   "cell_type": "code",
   "execution_count": 8,
   "id": "c3902ddb",
   "metadata": {},
   "outputs": [],
   "source": [
    "import pickle\n",
    "reaction_dict_path = \"reaction_dict.pkl\"\n",
    "\n",
    "# ===== 加载 reaction_dict =====\n",
    "with open(reaction_dict_path, \"rb\") as f:\n",
    "    reaction_dict = pickle.load(f)\n"
   ]
  },
  {
   "cell_type": "code",
   "execution_count": 32,
   "id": "782d32a0",
   "metadata": {},
   "outputs": [
    {
     "name": "stdout",
     "output_type": "stream",
     "text": [
      "H2O + PPi --> 2.0 Phosphate + H+\n"
     ]
    }
   ],
   "source": [
    "rxn = reaction_dict['rxn00001']\n",
    "print(rxn.build_reaction_string(use_metabolite_names=True))\n"
   ]
  },
  {
   "cell_type": "code",
   "execution_count": 9,
   "id": "509a4647",
   "metadata": {},
   "outputs": [
    {
     "name": "stdout",
     "output_type": "stream",
     "text": [
      "Read LP format model from file /var/folders/6w/knrbtrj125ggkrx091kd2g840000gn/T/tmpkp1fqte2.lp\n",
      "Reading time = 0.01 seconds\n",
      ": 688 rows, 1404 columns, 6586 nonzeros\n",
      "Set parameter Username\n",
      "Set parameter LicenseID to value 2663970\n",
      "Academic license - for non-commercial use only - expires 2026-05-12\n",
      "Read LP format model from file /var/folders/6w/knrbtrj125ggkrx091kd2g840000gn/T/tmp16gxdnvo.lp\n",
      "Reading time = 0.00 seconds\n",
      ": 690 rows, 1411 columns, 6609 nonzeros\n",
      "Set parameter Username\n",
      "Set parameter LicenseID to value 2663970\n",
      "Academic license - for non-commercial use only - expires 2026-05-12\n",
      "Read LP format model from file /var/folders/6w/knrbtrj125ggkrx091kd2g840000gn/T/tmpi39jxwku.lp\n",
      "Reading time = 0.00 seconds\n",
      ": 690 rows, 1411 columns, 6609 nonzeros\n",
      "Set parameter Username\n",
      "Set parameter LicenseID to value 2663970\n",
      "Academic license - for non-commercial use only - expires 2026-05-12\n",
      "Read LP format model from file /var/folders/6w/knrbtrj125ggkrx091kd2g840000gn/T/tmp1u73sk1x.lp\n",
      "Reading time = 0.00 seconds\n",
      ": 690 rows, 1411 columns, 6609 nonzeros\n",
      "Set parameter Username\n",
      "Set parameter LicenseID to value 2663970\n",
      "Academic license - for non-commercial use only - expires 2026-05-12\n",
      "Read LP format model from file /var/folders/6w/knrbtrj125ggkrx091kd2g840000gn/T/tmp_nn2npsz.lp\n",
      "Reading time = 0.00 seconds\n",
      ": 690 rows, 1411 columns, 6609 nonzeros\n",
      "Set parameter Username\n",
      "Set parameter LicenseID to value 2663970\n",
      "Academic license - for non-commercial use only - expires 2026-05-12\n",
      "Read LP format model from file /var/folders/6w/knrbtrj125ggkrx091kd2g840000gn/T/tmpkff5leni.lp\n",
      "Reading time = 0.00 seconds\n",
      ": 690 rows, 1411 columns, 6609 nonzeros\n",
      "Set parameter Username\n",
      "Set parameter LicenseID to value 2663970\n",
      "Academic license - for non-commercial use only - expires 2026-05-12\n",
      "Read LP format model from file /var/folders/6w/knrbtrj125ggkrx091kd2g840000gn/T/tmpp7zamc3h.lp\n",
      "Reading time = 0.00 seconds\n",
      ": 690 rows, 1411 columns, 6609 nonzeros\n",
      "Set parameter Username\n",
      "Set parameter LicenseID to value 2663970\n",
      "Academic license - for non-commercial use only - expires 2026-05-12\n",
      "Read LP format model from file /var/folders/6w/knrbtrj125ggkrx091kd2g840000gn/T/tmpiij1jm_v.lp\n",
      "Reading time = 0.01 seconds\n",
      ": 690 rows, 1411 columns, 6609 nonzeros\n",
      "Set parameter Username\n",
      "Set parameter LicenseID to value 2663970\n",
      "Academic license - for non-commercial use only - expires 2026-05-12\n",
      "Read LP format model from file /var/folders/6w/knrbtrj125ggkrx091kd2g840000gn/T/tmp9nps0cku.lp\n",
      "Reading time = 0.00 seconds\n",
      ": 690 rows, 1411 columns, 6609 nonzeros\n",
      "Set parameter Username\n",
      "Set parameter LicenseID to value 2663970\n",
      "Academic license - for non-commercial use only - expires 2026-05-12\n",
      "Read LP format model from file /var/folders/6w/knrbtrj125ggkrx091kd2g840000gn/T/tmp75ic3w1t.lp\n",
      "Reading time = 0.00 seconds\n",
      ": 690 rows, 1411 columns, 6609 nonzeros\n",
      "Set parameter Username\n",
      "Set parameter LicenseID to value 2663970\n",
      "Academic license - for non-commercial use only - expires 2026-05-12\n",
      "Read LP format model from file /var/folders/6w/knrbtrj125ggkrx091kd2g840000gn/T/tmpmmyw04f0.lp\n",
      "Reading time = 0.00 seconds\n",
      ": 690 rows, 1411 columns, 6609 nonzeros\n",
      "Set parameter Username\n",
      "Set parameter LicenseID to value 2663970\n",
      "Academic license - for non-commercial use only - expires 2026-05-12\n",
      "Read LP format model from file /var/folders/6w/knrbtrj125ggkrx091kd2g840000gn/T/tmpei8w8ff9.lp\n",
      "Reading time = 0.00 seconds\n",
      ": 690 rows, 1411 columns, 6609 nonzeros\n",
      "Set parameter Username\n",
      "Set parameter LicenseID to value 2663970\n",
      "Academic license - for non-commercial use only - expires 2026-05-12\n",
      "Read LP format model from file /var/folders/6w/knrbtrj125ggkrx091kd2g840000gn/T/tmpaaszayl3.lp\n",
      "Reading time = 0.00 seconds\n",
      ": 690 rows, 1411 columns, 6609 nonzeros\n",
      "Set parameter Username\n",
      "Set parameter LicenseID to value 2663970\n",
      "Academic license - for non-commercial use only - expires 2026-05-12\n",
      "Read LP format model from file /var/folders/6w/knrbtrj125ggkrx091kd2g840000gn/T/tmp1nbl11gz.lp\n",
      "Reading time = 0.00 seconds\n",
      ": 690 rows, 1411 columns, 6609 nonzeros\n",
      "Set parameter Username\n",
      "Set parameter LicenseID to value 2663970\n",
      "Academic license - for non-commercial use only - expires 2026-05-12\n",
      "Read LP format model from file /var/folders/6w/knrbtrj125ggkrx091kd2g840000gn/T/tmpkdhgh48i.lp\n",
      "Reading time = 0.01 seconds\n",
      ": 690 rows, 1411 columns, 6609 nonzeros\n",
      "Read LP format model from file /var/folders/6w/knrbtrj125ggkrx091kd2g840000gn/T/tmp9vkvpc8m.lp\n",
      "Reading time = 0.00 seconds\n",
      ": 688 rows, 1404 columns, 6586 nonzeros\n",
      "Set parameter Username\n",
      "Set parameter LicenseID to value 2663970\n",
      "Academic license - for non-commercial use only - expires 2026-05-12\n",
      "Read LP format model from file /var/folders/6w/knrbtrj125ggkrx091kd2g840000gn/T/tmpzgoc3amm.lp\n",
      "Reading time = 0.00 seconds\n",
      ": 693 rows, 1411 columns, 6613 nonzeros\n",
      "Set parameter Username\n",
      "Set parameter LicenseID to value 2663970\n",
      "Academic license - for non-commercial use only - expires 2026-05-12\n",
      "Read LP format model from file /var/folders/6w/knrbtrj125ggkrx091kd2g840000gn/T/tmpfdxx1n7j.lp\n",
      "Reading time = 0.03 seconds\n",
      ": 693 rows, 1411 columns, 6613 nonzeros\n",
      "Set parameter Username\n",
      "Set parameter LicenseID to value 2663970\n",
      "Academic license - for non-commercial use only - expires 2026-05-12\n",
      "Read LP format model from file /var/folders/6w/knrbtrj125ggkrx091kd2g840000gn/T/tmpt1pe3evb.lp\n",
      "Reading time = 0.00 seconds\n",
      ": 693 rows, 1411 columns, 6613 nonzeros\n",
      "Set parameter Username\n",
      "Set parameter LicenseID to value 2663970\n",
      "Academic license - for non-commercial use only - expires 2026-05-12\n",
      "Read LP format model from file /var/folders/6w/knrbtrj125ggkrx091kd2g840000gn/T/tmpxe5zn94b.lp\n",
      "Reading time = 0.00 seconds\n",
      ": 693 rows, 1411 columns, 6613 nonzeros\n",
      "Set parameter Username\n",
      "Set parameter LicenseID to value 2663970\n",
      "Academic license - for non-commercial use only - expires 2026-05-12\n",
      "Read LP format model from file /var/folders/6w/knrbtrj125ggkrx091kd2g840000gn/T/tmpml33gsz7.lp\n",
      "Reading time = 0.00 seconds\n",
      ": 693 rows, 1411 columns, 6613 nonzeros\n",
      "Set parameter Username\n",
      "Set parameter LicenseID to value 2663970\n",
      "Academic license - for non-commercial use only - expires 2026-05-12\n",
      "Read LP format model from file /var/folders/6w/knrbtrj125ggkrx091kd2g840000gn/T/tmp0gk3w4bo.lp\n",
      "Reading time = 0.00 seconds\n",
      ": 693 rows, 1411 columns, 6613 nonzeros\n",
      "Set parameter Username\n",
      "Set parameter LicenseID to value 2663970\n",
      "Academic license - for non-commercial use only - expires 2026-05-12\n",
      "Read LP format model from file /var/folders/6w/knrbtrj125ggkrx091kd2g840000gn/T/tmpkhgxgy5n.lp\n",
      "Reading time = 0.01 seconds\n",
      ": 693 rows, 1411 columns, 6613 nonzeros\n",
      "Set parameter Username\n",
      "Set parameter LicenseID to value 2663970\n",
      "Academic license - for non-commercial use only - expires 2026-05-12\n",
      "Read LP format model from file /var/folders/6w/knrbtrj125ggkrx091kd2g840000gn/T/tmps40qknl9.lp\n",
      "Reading time = 0.00 seconds\n",
      ": 693 rows, 1411 columns, 6613 nonzeros\n",
      "Set parameter Username\n",
      "Set parameter LicenseID to value 2663970\n",
      "Academic license - for non-commercial use only - expires 2026-05-12\n",
      "Read LP format model from file /var/folders/6w/knrbtrj125ggkrx091kd2g840000gn/T/tmpdgbq8grk.lp\n",
      "Reading time = 0.00 seconds\n",
      ": 693 rows, 1411 columns, 6613 nonzeros\n",
      "Set parameter Username\n",
      "Set parameter LicenseID to value 2663970\n",
      "Academic license - for non-commercial use only - expires 2026-05-12\n",
      "Read LP format model from file /var/folders/6w/knrbtrj125ggkrx091kd2g840000gn/T/tmp8hmiryo5.lp\n",
      "Reading time = 0.00 seconds\n",
      ": 693 rows, 1411 columns, 6613 nonzeros\n",
      "Set parameter Username\n",
      "Set parameter LicenseID to value 2663970\n",
      "Academic license - for non-commercial use only - expires 2026-05-12\n",
      "Read LP format model from file /var/folders/6w/knrbtrj125ggkrx091kd2g840000gn/T/tmpisk0_gj6.lp\n",
      "Reading time = 0.00 seconds\n",
      ": 693 rows, 1411 columns, 6613 nonzeros\n",
      "Set parameter Username\n",
      "Set parameter LicenseID to value 2663970\n",
      "Academic license - for non-commercial use only - expires 2026-05-12\n",
      "Read LP format model from file /var/folders/6w/knrbtrj125ggkrx091kd2g840000gn/T/tmphf2jxdsb.lp\n",
      "Reading time = 0.01 seconds\n",
      ": 693 rows, 1411 columns, 6613 nonzeros\n",
      "Set parameter Username\n",
      "Set parameter LicenseID to value 2663970\n",
      "Academic license - for non-commercial use only - expires 2026-05-12\n",
      "Read LP format model from file /var/folders/6w/knrbtrj125ggkrx091kd2g840000gn/T/tmpnhv_hrei.lp\n",
      "Reading time = 0.00 seconds\n",
      ": 693 rows, 1411 columns, 6613 nonzeros\n",
      "Set parameter Username\n",
      "Set parameter LicenseID to value 2663970\n",
      "Academic license - for non-commercial use only - expires 2026-05-12\n",
      "Read LP format model from file /var/folders/6w/knrbtrj125ggkrx091kd2g840000gn/T/tmpebybgu3l.lp\n",
      "Reading time = 0.00 seconds\n",
      ": 693 rows, 1411 columns, 6613 nonzeros\n",
      "Read LP format model from file /var/folders/6w/knrbtrj125ggkrx091kd2g840000gn/T/tmp06477jws.lp\n",
      "Reading time = 0.00 seconds\n",
      ": 688 rows, 1404 columns, 6586 nonzeros\n",
      "Set parameter Username\n",
      "Set parameter LicenseID to value 2663970\n",
      "Academic license - for non-commercial use only - expires 2026-05-12\n",
      "Read LP format model from file /var/folders/6w/knrbtrj125ggkrx091kd2g840000gn/T/tmpldav1r1h.lp\n",
      "Reading time = 0.00 seconds\n",
      ": 690 rows, 1409 columns, 6603 nonzeros\n",
      "Set parameter Username\n",
      "Set parameter LicenseID to value 2663970\n",
      "Academic license - for non-commercial use only - expires 2026-05-12\n",
      "Read LP format model from file /var/folders/6w/knrbtrj125ggkrx091kd2g840000gn/T/tmpexko61bl.lp\n",
      "Reading time = 0.00 seconds\n",
      ": 690 rows, 1409 columns, 6603 nonzeros\n",
      "Set parameter Username\n",
      "Set parameter LicenseID to value 2663970\n",
      "Academic license - for non-commercial use only - expires 2026-05-12\n",
      "Read LP format model from file /var/folders/6w/knrbtrj125ggkrx091kd2g840000gn/T/tmp8uskf2r_.lp\n",
      "Reading time = 0.00 seconds\n",
      ": 690 rows, 1409 columns, 6603 nonzeros\n",
      "Set parameter Username\n",
      "Set parameter LicenseID to value 2663970\n",
      "Academic license - for non-commercial use only - expires 2026-05-12\n",
      "Read LP format model from file /var/folders/6w/knrbtrj125ggkrx091kd2g840000gn/T/tmphh4styox.lp\n",
      "Reading time = 0.00 seconds\n",
      ": 690 rows, 1409 columns, 6603 nonzeros\n",
      "Set parameter Username\n",
      "Set parameter LicenseID to value 2663970\n",
      "Academic license - for non-commercial use only - expires 2026-05-12\n",
      "Read LP format model from file /var/folders/6w/knrbtrj125ggkrx091kd2g840000gn/T/tmpaddlauqg.lp\n",
      "Reading time = 0.00 seconds\n",
      ": 690 rows, 1409 columns, 6603 nonzeros\n",
      "Set parameter Username\n",
      "Set parameter LicenseID to value 2663970\n",
      "Academic license - for non-commercial use only - expires 2026-05-12\n",
      "Read LP format model from file /var/folders/6w/knrbtrj125ggkrx091kd2g840000gn/T/tmp17vul2kc.lp\n",
      "Reading time = 0.00 seconds\n",
      ": 690 rows, 1409 columns, 6603 nonzeros\n",
      "Set parameter Username\n",
      "Set parameter LicenseID to value 2663970\n",
      "Academic license - for non-commercial use only - expires 2026-05-12\n",
      "Read LP format model from file /var/folders/6w/knrbtrj125ggkrx091kd2g840000gn/T/tmp_3dw1n22.lp\n",
      "Reading time = 0.01 seconds\n",
      ": 690 rows, 1409 columns, 6603 nonzeros\n",
      "Set parameter Username\n",
      "Set parameter LicenseID to value 2663970\n",
      "Academic license - for non-commercial use only - expires 2026-05-12\n",
      "Read LP format model from file /var/folders/6w/knrbtrj125ggkrx091kd2g840000gn/T/tmptcq3cc2x.lp\n",
      "Reading time = 0.00 seconds\n",
      ": 690 rows, 1409 columns, 6603 nonzeros\n",
      "Set parameter Username\n",
      "Set parameter LicenseID to value 2663970\n",
      "Academic license - for non-commercial use only - expires 2026-05-12\n",
      "Read LP format model from file /var/folders/6w/knrbtrj125ggkrx091kd2g840000gn/T/tmpg1aecl15.lp\n",
      "Reading time = 0.00 seconds\n",
      ": 690 rows, 1409 columns, 6603 nonzeros\n",
      "Set parameter Username\n",
      "Set parameter LicenseID to value 2663970\n",
      "Academic license - for non-commercial use only - expires 2026-05-12\n",
      "Read LP format model from file /var/folders/6w/knrbtrj125ggkrx091kd2g840000gn/T/tmp252orhkk.lp\n",
      "Reading time = 0.00 seconds\n",
      ": 690 rows, 1409 columns, 6603 nonzeros\n",
      "Set parameter Username\n",
      "Set parameter LicenseID to value 2663970\n",
      "Academic license - for non-commercial use only - expires 2026-05-12\n",
      "Read LP format model from file /var/folders/6w/knrbtrj125ggkrx091kd2g840000gn/T/tmp8m_87uzw.lp\n",
      "Reading time = 0.00 seconds\n",
      ": 690 rows, 1409 columns, 6603 nonzeros\n",
      "Set parameter Username\n",
      "Set parameter LicenseID to value 2663970\n",
      "Academic license - for non-commercial use only - expires 2026-05-12\n",
      "Read LP format model from file /var/folders/6w/knrbtrj125ggkrx091kd2g840000gn/T/tmpt7bnqcd_.lp\n",
      "Reading time = 0.00 seconds\n",
      ": 690 rows, 1409 columns, 6603 nonzeros\n",
      "Set parameter Username\n",
      "Set parameter LicenseID to value 2663970\n",
      "Academic license - for non-commercial use only - expires 2026-05-12\n",
      "Read LP format model from file /var/folders/6w/knrbtrj125ggkrx091kd2g840000gn/T/tmplx8t9zil.lp\n",
      "Reading time = 0.00 seconds\n",
      ": 690 rows, 1409 columns, 6603 nonzeros\n",
      "Set parameter Username\n",
      "Set parameter LicenseID to value 2663970\n",
      "Academic license - for non-commercial use only - expires 2026-05-12\n",
      "Read LP format model from file /var/folders/6w/knrbtrj125ggkrx091kd2g840000gn/T/tmpf8zhc6zh.lp\n",
      "Reading time = 0.00 seconds\n",
      ": 690 rows, 1409 columns, 6603 nonzeros\n",
      "Read LP format model from file /var/folders/6w/knrbtrj125ggkrx091kd2g840000gn/T/tmpoie4xkig.lp\n",
      "Reading time = 0.00 seconds\n",
      ": 688 rows, 1404 columns, 6586 nonzeros\n",
      "Set parameter Username\n",
      "Set parameter LicenseID to value 2663970\n",
      "Academic license - for non-commercial use only - expires 2026-05-12\n",
      "Read LP format model from file /var/folders/6w/knrbtrj125ggkrx091kd2g840000gn/T/tmpdu5el7_o.lp\n",
      "Reading time = 0.00 seconds\n",
      ": 692 rows, 1411 columns, 6617 nonzeros\n",
      "Set parameter Username\n",
      "Set parameter LicenseID to value 2663970\n",
      "Academic license - for non-commercial use only - expires 2026-05-12\n",
      "Read LP format model from file /var/folders/6w/knrbtrj125ggkrx091kd2g840000gn/T/tmpb626q8da.lp\n",
      "Reading time = 0.00 seconds\n",
      ": 692 rows, 1411 columns, 6617 nonzeros\n",
      "Set parameter Username\n",
      "Set parameter LicenseID to value 2663970\n",
      "Academic license - for non-commercial use only - expires 2026-05-12\n",
      "Read LP format model from file /var/folders/6w/knrbtrj125ggkrx091kd2g840000gn/T/tmp71836680.lp\n",
      "Reading time = 0.00 seconds\n",
      ": 692 rows, 1411 columns, 6617 nonzeros\n",
      "Set parameter Username\n",
      "Set parameter LicenseID to value 2663970\n",
      "Academic license - for non-commercial use only - expires 2026-05-12\n",
      "Read LP format model from file /var/folders/6w/knrbtrj125ggkrx091kd2g840000gn/T/tmpwutaabz1.lp\n",
      "Reading time = 0.00 seconds\n",
      ": 692 rows, 1411 columns, 6617 nonzeros\n",
      "Set parameter Username\n",
      "Set parameter LicenseID to value 2663970\n",
      "Academic license - for non-commercial use only - expires 2026-05-12\n",
      "Read LP format model from file /var/folders/6w/knrbtrj125ggkrx091kd2g840000gn/T/tmpdbdspde0.lp\n",
      "Reading time = 0.00 seconds\n",
      ": 692 rows, 1411 columns, 6617 nonzeros\n",
      "Set parameter Username\n",
      "Set parameter LicenseID to value 2663970\n",
      "Academic license - for non-commercial use only - expires 2026-05-12\n",
      "Read LP format model from file /var/folders/6w/knrbtrj125ggkrx091kd2g840000gn/T/tmpgyp058ly.lp\n",
      "Reading time = 0.00 seconds\n",
      ": 692 rows, 1411 columns, 6617 nonzeros\n",
      "Set parameter Username\n",
      "Set parameter LicenseID to value 2663970\n",
      "Academic license - for non-commercial use only - expires 2026-05-12\n",
      "Read LP format model from file /var/folders/6w/knrbtrj125ggkrx091kd2g840000gn/T/tmp20301bae.lp\n",
      "Reading time = 0.01 seconds\n",
      ": 692 rows, 1411 columns, 6617 nonzeros\n",
      "Set parameter Username\n",
      "Set parameter LicenseID to value 2663970\n",
      "Academic license - for non-commercial use only - expires 2026-05-12\n",
      "Read LP format model from file /var/folders/6w/knrbtrj125ggkrx091kd2g840000gn/T/tmpldgxjjgv.lp\n",
      "Reading time = 0.00 seconds\n",
      ": 692 rows, 1411 columns, 6617 nonzeros\n",
      "Set parameter Username\n",
      "Set parameter LicenseID to value 2663970\n",
      "Academic license - for non-commercial use only - expires 2026-05-12\n",
      "Read LP format model from file /var/folders/6w/knrbtrj125ggkrx091kd2g840000gn/T/tmpvw_3sczz.lp\n",
      "Reading time = 0.00 seconds\n",
      ": 692 rows, 1411 columns, 6617 nonzeros\n",
      "Set parameter Username\n",
      "Set parameter LicenseID to value 2663970\n",
      "Academic license - for non-commercial use only - expires 2026-05-12\n",
      "Read LP format model from file /var/folders/6w/knrbtrj125ggkrx091kd2g840000gn/T/tmpomqnx9q5.lp\n",
      "Reading time = 0.00 seconds\n",
      ": 692 rows, 1411 columns, 6617 nonzeros\n",
      "Set parameter Username\n",
      "Set parameter LicenseID to value 2663970\n",
      "Academic license - for non-commercial use only - expires 2026-05-12\n",
      "Read LP format model from file /var/folders/6w/knrbtrj125ggkrx091kd2g840000gn/T/tmpanfla3hq.lp\n",
      "Reading time = 0.00 seconds\n",
      ": 692 rows, 1411 columns, 6617 nonzeros\n",
      "Set parameter Username\n",
      "Set parameter LicenseID to value 2663970\n",
      "Academic license - for non-commercial use only - expires 2026-05-12\n",
      "Read LP format model from file /var/folders/6w/knrbtrj125ggkrx091kd2g840000gn/T/tmpihh5iy_z.lp\n",
      "Reading time = 0.00 seconds\n",
      ": 692 rows, 1411 columns, 6617 nonzeros\n",
      "Set parameter Username\n",
      "Set parameter LicenseID to value 2663970\n",
      "Academic license - for non-commercial use only - expires 2026-05-12\n",
      "Read LP format model from file /var/folders/6w/knrbtrj125ggkrx091kd2g840000gn/T/tmp5s4tte8w.lp\n",
      "Reading time = 0.00 seconds\n",
      ": 692 rows, 1411 columns, 6617 nonzeros\n",
      "Set parameter Username\n",
      "Set parameter LicenseID to value 2663970\n",
      "Academic license - for non-commercial use only - expires 2026-05-12\n",
      "Read LP format model from file /var/folders/6w/knrbtrj125ggkrx091kd2g840000gn/T/tmpn_9_mp5t.lp\n",
      "Reading time = 0.00 seconds\n",
      ": 692 rows, 1411 columns, 6617 nonzeros\n",
      "Read LP format model from file /var/folders/6w/knrbtrj125ggkrx091kd2g840000gn/T/tmpdujm8cgr.lp\n",
      "Reading time = 0.00 seconds\n",
      ": 688 rows, 1404 columns, 6586 nonzeros\n",
      "Set parameter Username\n",
      "Set parameter LicenseID to value 2663970\n",
      "Academic license - for non-commercial use only - expires 2026-05-12\n",
      "Read LP format model from file /var/folders/6w/knrbtrj125ggkrx091kd2g840000gn/T/tmp7vketv5x.lp\n",
      "Reading time = 0.00 seconds\n",
      ": 690 rows, 1411 columns, 6607 nonzeros\n",
      "Set parameter Username\n",
      "Set parameter LicenseID to value 2663970\n",
      "Academic license - for non-commercial use only - expires 2026-05-12\n",
      "Read LP format model from file /var/folders/6w/knrbtrj125ggkrx091kd2g840000gn/T/tmp0gjwg485.lp\n",
      "Reading time = 0.00 seconds\n",
      ": 690 rows, 1411 columns, 6607 nonzeros\n",
      "Set parameter Username\n",
      "Set parameter LicenseID to value 2663970\n",
      "Academic license - for non-commercial use only - expires 2026-05-12\n",
      "Read LP format model from file /var/folders/6w/knrbtrj125ggkrx091kd2g840000gn/T/tmpap8zw_99.lp\n",
      "Reading time = 0.00 seconds\n",
      ": 690 rows, 1411 columns, 6607 nonzeros\n",
      "Set parameter Username\n",
      "Set parameter LicenseID to value 2663970\n",
      "Academic license - for non-commercial use only - expires 2026-05-12\n",
      "Read LP format model from file /var/folders/6w/knrbtrj125ggkrx091kd2g840000gn/T/tmpsn3pvq9o.lp\n",
      "Reading time = 0.00 seconds\n",
      ": 690 rows, 1411 columns, 6607 nonzeros\n",
      "Set parameter Username\n",
      "Set parameter LicenseID to value 2663970\n",
      "Academic license - for non-commercial use only - expires 2026-05-12\n",
      "Read LP format model from file /var/folders/6w/knrbtrj125ggkrx091kd2g840000gn/T/tmp7g29dgrt.lp\n",
      "Reading time = 0.00 seconds\n",
      ": 690 rows, 1411 columns, 6607 nonzeros\n",
      "Set parameter Username\n",
      "Set parameter LicenseID to value 2663970\n",
      "Academic license - for non-commercial use only - expires 2026-05-12\n",
      "Read LP format model from file /var/folders/6w/knrbtrj125ggkrx091kd2g840000gn/T/tmpg66iwfhu.lp\n",
      "Reading time = 0.00 seconds\n",
      ": 690 rows, 1411 columns, 6607 nonzeros\n",
      "Set parameter Username\n",
      "Set parameter LicenseID to value 2663970\n",
      "Academic license - for non-commercial use only - expires 2026-05-12\n",
      "Read LP format model from file /var/folders/6w/knrbtrj125ggkrx091kd2g840000gn/T/tmpbwnkmk27.lp\n",
      "Reading time = 0.00 seconds\n",
      ": 690 rows, 1411 columns, 6607 nonzeros\n",
      "Set parameter Username\n",
      "Set parameter LicenseID to value 2663970\n",
      "Academic license - for non-commercial use only - expires 2026-05-12\n",
      "Read LP format model from file /var/folders/6w/knrbtrj125ggkrx091kd2g840000gn/T/tmpmyi6qn4c.lp\n",
      "Reading time = 0.00 seconds\n",
      ": 690 rows, 1411 columns, 6607 nonzeros\n",
      "Set parameter Username\n",
      "Set parameter LicenseID to value 2663970\n",
      "Academic license - for non-commercial use only - expires 2026-05-12\n",
      "Read LP format model from file /var/folders/6w/knrbtrj125ggkrx091kd2g840000gn/T/tmpcrjv3jmu.lp\n",
      "Reading time = 0.00 seconds\n",
      ": 690 rows, 1411 columns, 6607 nonzeros\n",
      "Set parameter Username\n",
      "Set parameter LicenseID to value 2663970\n",
      "Academic license - for non-commercial use only - expires 2026-05-12\n",
      "Read LP format model from file /var/folders/6w/knrbtrj125ggkrx091kd2g840000gn/T/tmprxaphqb0.lp\n",
      "Reading time = 0.00 seconds\n",
      ": 690 rows, 1411 columns, 6607 nonzeros\n",
      "Set parameter Username\n",
      "Set parameter LicenseID to value 2663970\n",
      "Academic license - for non-commercial use only - expires 2026-05-12\n",
      "Read LP format model from file /var/folders/6w/knrbtrj125ggkrx091kd2g840000gn/T/tmp96jx5hp5.lp\n",
      "Reading time = 0.00 seconds\n",
      ": 690 rows, 1411 columns, 6607 nonzeros\n",
      "Set parameter Username\n",
      "Set parameter LicenseID to value 2663970\n",
      "Academic license - for non-commercial use only - expires 2026-05-12\n",
      "Read LP format model from file /var/folders/6w/knrbtrj125ggkrx091kd2g840000gn/T/tmp667bsidx.lp\n",
      "Reading time = 0.00 seconds\n",
      ": 690 rows, 1411 columns, 6607 nonzeros\n",
      "Set parameter Username\n",
      "Set parameter LicenseID to value 2663970\n",
      "Academic license - for non-commercial use only - expires 2026-05-12\n",
      "Read LP format model from file /var/folders/6w/knrbtrj125ggkrx091kd2g840000gn/T/tmpi3x39hvv.lp\n",
      "Reading time = 0.00 seconds\n",
      ": 690 rows, 1411 columns, 6607 nonzeros\n",
      "Set parameter Username\n",
      "Set parameter LicenseID to value 2663970\n",
      "Academic license - for non-commercial use only - expires 2026-05-12\n",
      "Read LP format model from file /var/folders/6w/knrbtrj125ggkrx091kd2g840000gn/T/tmpjjoz7fkp.lp\n",
      "Reading time = 0.01 seconds\n",
      ": 690 rows, 1411 columns, 6607 nonzeros\n",
      "Read LP format model from file /var/folders/6w/knrbtrj125ggkrx091kd2g840000gn/T/tmp84bhar7u.lp\n",
      "Reading time = 0.00 seconds\n",
      ": 688 rows, 1404 columns, 6586 nonzeros\n",
      "Set parameter Username\n",
      "Set parameter LicenseID to value 2663970\n",
      "Academic license - for non-commercial use only - expires 2026-05-12\n",
      "Read LP format model from file /var/folders/6w/knrbtrj125ggkrx091kd2g840000gn/T/tmpgozinasz.lp\n",
      "Reading time = 0.00 seconds\n",
      ": 694 rows, 1411 columns, 6621 nonzeros\n",
      "Set parameter Username\n",
      "Set parameter LicenseID to value 2663970\n",
      "Academic license - for non-commercial use only - expires 2026-05-12\n",
      "Read LP format model from file /var/folders/6w/knrbtrj125ggkrx091kd2g840000gn/T/tmp7betqfd3.lp\n",
      "Reading time = 0.00 seconds\n",
      ": 694 rows, 1411 columns, 6621 nonzeros\n",
      "Set parameter Username\n",
      "Set parameter LicenseID to value 2663970\n",
      "Academic license - for non-commercial use only - expires 2026-05-12\n",
      "Read LP format model from file /var/folders/6w/knrbtrj125ggkrx091kd2g840000gn/T/tmp8iat83sa.lp\n",
      "Reading time = 0.00 seconds\n",
      ": 694 rows, 1411 columns, 6621 nonzeros\n",
      "Set parameter Username\n",
      "Set parameter LicenseID to value 2663970\n",
      "Academic license - for non-commercial use only - expires 2026-05-12\n",
      "Read LP format model from file /var/folders/6w/knrbtrj125ggkrx091kd2g840000gn/T/tmpwco2bie3.lp\n",
      "Reading time = 0.00 seconds\n",
      ": 694 rows, 1411 columns, 6621 nonzeros\n",
      "Set parameter Username\n",
      "Set parameter LicenseID to value 2663970\n",
      "Academic license - for non-commercial use only - expires 2026-05-12\n",
      "Read LP format model from file /var/folders/6w/knrbtrj125ggkrx091kd2g840000gn/T/tmp1uu2k9p7.lp\n",
      "Reading time = 0.00 seconds\n",
      ": 694 rows, 1411 columns, 6621 nonzeros\n",
      "Set parameter Username\n",
      "Set parameter LicenseID to value 2663970\n",
      "Academic license - for non-commercial use only - expires 2026-05-12\n",
      "Read LP format model from file /var/folders/6w/knrbtrj125ggkrx091kd2g840000gn/T/tmpo7qauqxt.lp\n",
      "Reading time = 0.00 seconds\n",
      ": 694 rows, 1411 columns, 6621 nonzeros\n",
      "Set parameter Username\n",
      "Set parameter LicenseID to value 2663970\n",
      "Academic license - for non-commercial use only - expires 2026-05-12\n",
      "Read LP format model from file /var/folders/6w/knrbtrj125ggkrx091kd2g840000gn/T/tmpsl04fq0n.lp\n",
      "Reading time = 0.00 seconds\n",
      ": 694 rows, 1411 columns, 6621 nonzeros\n",
      "Set parameter Username\n",
      "Set parameter LicenseID to value 2663970\n",
      "Academic license - for non-commercial use only - expires 2026-05-12\n",
      "Read LP format model from file /var/folders/6w/knrbtrj125ggkrx091kd2g840000gn/T/tmp7t8djc3a.lp\n",
      "Reading time = 0.00 seconds\n",
      ": 694 rows, 1411 columns, 6621 nonzeros\n",
      "Set parameter Username\n",
      "Set parameter LicenseID to value 2663970\n",
      "Academic license - for non-commercial use only - expires 2026-05-12\n",
      "Read LP format model from file /var/folders/6w/knrbtrj125ggkrx091kd2g840000gn/T/tmpxy4o8bl9.lp\n",
      "Reading time = 0.00 seconds\n",
      ": 694 rows, 1411 columns, 6621 nonzeros\n",
      "Set parameter Username\n",
      "Set parameter LicenseID to value 2663970\n",
      "Academic license - for non-commercial use only - expires 2026-05-12\n",
      "Read LP format model from file /var/folders/6w/knrbtrj125ggkrx091kd2g840000gn/T/tmpazyicqd4.lp\n",
      "Reading time = 0.00 seconds\n",
      ": 694 rows, 1411 columns, 6621 nonzeros\n",
      "Set parameter Username\n",
      "Set parameter LicenseID to value 2663970\n",
      "Academic license - for non-commercial use only - expires 2026-05-12\n",
      "Read LP format model from file /var/folders/6w/knrbtrj125ggkrx091kd2g840000gn/T/tmp4bdndyv3.lp\n",
      "Reading time = 0.00 seconds\n",
      ": 694 rows, 1411 columns, 6621 nonzeros\n",
      "Set parameter Username\n",
      "Set parameter LicenseID to value 2663970\n",
      "Academic license - for non-commercial use only - expires 2026-05-12\n",
      "Read LP format model from file /var/folders/6w/knrbtrj125ggkrx091kd2g840000gn/T/tmpokspzozw.lp\n",
      "Reading time = 0.00 seconds\n",
      ": 694 rows, 1411 columns, 6621 nonzeros\n",
      "Set parameter Username\n",
      "Set parameter LicenseID to value 2663970\n",
      "Academic license - for non-commercial use only - expires 2026-05-12\n",
      "Read LP format model from file /var/folders/6w/knrbtrj125ggkrx091kd2g840000gn/T/tmpz3381qwv.lp\n",
      "Reading time = 0.00 seconds\n",
      ": 694 rows, 1411 columns, 6621 nonzeros\n",
      "Set parameter Username\n",
      "Set parameter LicenseID to value 2663970\n",
      "Academic license - for non-commercial use only - expires 2026-05-12\n",
      "Read LP format model from file /var/folders/6w/knrbtrj125ggkrx091kd2g840000gn/T/tmpx5zyvlqh.lp\n",
      "Reading time = 0.00 seconds\n",
      ": 694 rows, 1411 columns, 6621 nonzeros\n",
      "Read LP format model from file /var/folders/6w/knrbtrj125ggkrx091kd2g840000gn/T/tmpt5rnncz7.lp\n",
      "Reading time = 0.00 seconds\n",
      ": 688 rows, 1404 columns, 6586 nonzeros\n",
      "Set parameter Username\n",
      "Set parameter LicenseID to value 2663970\n",
      "Academic license - for non-commercial use only - expires 2026-05-12\n",
      "Read LP format model from file /var/folders/6w/knrbtrj125ggkrx091kd2g840000gn/T/tmpz_awwage.lp\n",
      "Reading time = 0.00 seconds\n",
      ": 692 rows, 1411 columns, 6609 nonzeros\n",
      "Set parameter Username\n",
      "Set parameter LicenseID to value 2663970\n",
      "Academic license - for non-commercial use only - expires 2026-05-12\n",
      "Read LP format model from file /var/folders/6w/knrbtrj125ggkrx091kd2g840000gn/T/tmpum8blidg.lp\n",
      "Reading time = 0.00 seconds\n",
      ": 692 rows, 1411 columns, 6609 nonzeros\n",
      "Set parameter Username\n",
      "Set parameter LicenseID to value 2663970\n",
      "Academic license - for non-commercial use only - expires 2026-05-12\n",
      "Read LP format model from file /var/folders/6w/knrbtrj125ggkrx091kd2g840000gn/T/tmpswwyi39g.lp\n",
      "Reading time = 0.00 seconds\n",
      ": 692 rows, 1411 columns, 6609 nonzeros\n",
      "Set parameter Username\n",
      "Set parameter LicenseID to value 2663970\n",
      "Academic license - for non-commercial use only - expires 2026-05-12\n",
      "Read LP format model from file /var/folders/6w/knrbtrj125ggkrx091kd2g840000gn/T/tmpiczl3w1a.lp\n",
      "Reading time = 0.00 seconds\n",
      ": 692 rows, 1411 columns, 6609 nonzeros\n",
      "Set parameter Username\n",
      "Set parameter LicenseID to value 2663970\n",
      "Academic license - for non-commercial use only - expires 2026-05-12\n",
      "Read LP format model from file /var/folders/6w/knrbtrj125ggkrx091kd2g840000gn/T/tmpf0q1__s2.lp\n",
      "Reading time = 0.00 seconds\n",
      ": 692 rows, 1411 columns, 6609 nonzeros\n",
      "Set parameter Username\n",
      "Set parameter LicenseID to value 2663970\n",
      "Academic license - for non-commercial use only - expires 2026-05-12\n",
      "Read LP format model from file /var/folders/6w/knrbtrj125ggkrx091kd2g840000gn/T/tmpyldpar_c.lp\n",
      "Reading time = 0.00 seconds\n",
      ": 692 rows, 1411 columns, 6609 nonzeros\n",
      "Set parameter Username\n",
      "Set parameter LicenseID to value 2663970\n",
      "Academic license - for non-commercial use only - expires 2026-05-12\n",
      "Read LP format model from file /var/folders/6w/knrbtrj125ggkrx091kd2g840000gn/T/tmp3elkfj8h.lp\n",
      "Reading time = 0.01 seconds\n",
      ": 692 rows, 1411 columns, 6609 nonzeros\n",
      "Set parameter Username\n",
      "Set parameter LicenseID to value 2663970\n",
      "Academic license - for non-commercial use only - expires 2026-05-12\n",
      "Read LP format model from file /var/folders/6w/knrbtrj125ggkrx091kd2g840000gn/T/tmpbynajjtm.lp\n",
      "Reading time = 0.00 seconds\n",
      ": 692 rows, 1411 columns, 6609 nonzeros\n",
      "Set parameter Username\n",
      "Set parameter LicenseID to value 2663970\n",
      "Academic license - for non-commercial use only - expires 2026-05-12\n",
      "Read LP format model from file /var/folders/6w/knrbtrj125ggkrx091kd2g840000gn/T/tmp0nw76ezx.lp\n",
      "Reading time = 0.00 seconds\n",
      ": 692 rows, 1411 columns, 6609 nonzeros\n",
      "Set parameter Username\n",
      "Set parameter LicenseID to value 2663970\n",
      "Academic license - for non-commercial use only - expires 2026-05-12\n",
      "Read LP format model from file /var/folders/6w/knrbtrj125ggkrx091kd2g840000gn/T/tmpr_z2w43q.lp\n",
      "Reading time = 0.00 seconds\n",
      ": 692 rows, 1411 columns, 6609 nonzeros\n",
      "Set parameter Username\n",
      "Set parameter LicenseID to value 2663970\n",
      "Academic license - for non-commercial use only - expires 2026-05-12\n",
      "Read LP format model from file /var/folders/6w/knrbtrj125ggkrx091kd2g840000gn/T/tmpp6v6bg36.lp\n",
      "Reading time = 0.00 seconds\n",
      ": 692 rows, 1411 columns, 6609 nonzeros\n",
      "Set parameter Username\n",
      "Set parameter LicenseID to value 2663970\n",
      "Academic license - for non-commercial use only - expires 2026-05-12\n",
      "Read LP format model from file /var/folders/6w/knrbtrj125ggkrx091kd2g840000gn/T/tmpgexh4tqf.lp\n",
      "Reading time = 0.00 seconds\n",
      ": 692 rows, 1411 columns, 6609 nonzeros\n",
      "Set parameter Username\n",
      "Set parameter LicenseID to value 2663970\n",
      "Academic license - for non-commercial use only - expires 2026-05-12\n",
      "Read LP format model from file /var/folders/6w/knrbtrj125ggkrx091kd2g840000gn/T/tmpndo9oofi.lp\n",
      "Reading time = 0.00 seconds\n",
      ": 692 rows, 1411 columns, 6609 nonzeros\n",
      "Set parameter Username\n",
      "Set parameter LicenseID to value 2663970\n",
      "Academic license - for non-commercial use only - expires 2026-05-12\n",
      "Read LP format model from file /var/folders/6w/knrbtrj125ggkrx091kd2g840000gn/T/tmptvstrrps.lp\n",
      "Reading time = 0.01 seconds\n",
      ": 692 rows, 1411 columns, 6609 nonzeros\n",
      "Read LP format model from file /var/folders/6w/knrbtrj125ggkrx091kd2g840000gn/T/tmps2dqcjc5.lp\n",
      "Reading time = 0.00 seconds\n",
      ": 688 rows, 1404 columns, 6586 nonzeros\n",
      "Set parameter Username\n",
      "Set parameter LicenseID to value 2663970\n",
      "Academic license - for non-commercial use only - expires 2026-05-12\n",
      "Read LP format model from file /var/folders/6w/knrbtrj125ggkrx091kd2g840000gn/T/tmp9m52c5qh.lp\n",
      "Reading time = 0.00 seconds\n",
      ": 689 rows, 1411 columns, 6609 nonzeros\n",
      "Set parameter Username\n",
      "Set parameter LicenseID to value 2663970\n",
      "Academic license - for non-commercial use only - expires 2026-05-12\n",
      "Read LP format model from file /var/folders/6w/knrbtrj125ggkrx091kd2g840000gn/T/tmpqk0n02oe.lp\n",
      "Reading time = 0.00 seconds\n",
      ": 689 rows, 1411 columns, 6609 nonzeros\n",
      "Set parameter Username\n",
      "Set parameter LicenseID to value 2663970\n",
      "Academic license - for non-commercial use only - expires 2026-05-12\n",
      "Read LP format model from file /var/folders/6w/knrbtrj125ggkrx091kd2g840000gn/T/tmpxs5dkiya.lp\n",
      "Reading time = 0.00 seconds\n",
      ": 689 rows, 1411 columns, 6609 nonzeros\n",
      "Set parameter Username\n",
      "Set parameter LicenseID to value 2663970\n",
      "Academic license - for non-commercial use only - expires 2026-05-12\n",
      "Read LP format model from file /var/folders/6w/knrbtrj125ggkrx091kd2g840000gn/T/tmpethnlpdu.lp\n",
      "Reading time = 0.01 seconds\n",
      ": 689 rows, 1411 columns, 6609 nonzeros\n",
      "Set parameter Username\n",
      "Set parameter LicenseID to value 2663970\n",
      "Academic license - for non-commercial use only - expires 2026-05-12\n",
      "Read LP format model from file /var/folders/6w/knrbtrj125ggkrx091kd2g840000gn/T/tmp5ae87nrb.lp\n",
      "Reading time = 0.00 seconds\n",
      ": 689 rows, 1411 columns, 6609 nonzeros\n",
      "Set parameter Username\n",
      "Set parameter LicenseID to value 2663970\n",
      "Academic license - for non-commercial use only - expires 2026-05-12\n",
      "Read LP format model from file /var/folders/6w/knrbtrj125ggkrx091kd2g840000gn/T/tmp_5751eie.lp\n",
      "Reading time = 0.00 seconds\n",
      ": 689 rows, 1411 columns, 6609 nonzeros\n",
      "Set parameter Username\n",
      "Set parameter LicenseID to value 2663970\n",
      "Academic license - for non-commercial use only - expires 2026-05-12\n",
      "Read LP format model from file /var/folders/6w/knrbtrj125ggkrx091kd2g840000gn/T/tmp9nsk99f9.lp\n",
      "Reading time = 0.01 seconds\n",
      ": 689 rows, 1411 columns, 6609 nonzeros\n",
      "Set parameter Username\n",
      "Set parameter LicenseID to value 2663970\n",
      "Academic license - for non-commercial use only - expires 2026-05-12\n",
      "Read LP format model from file /var/folders/6w/knrbtrj125ggkrx091kd2g840000gn/T/tmpd06zp1ma.lp\n",
      "Reading time = 0.00 seconds\n",
      ": 689 rows, 1411 columns, 6609 nonzeros\n",
      "Set parameter Username\n",
      "Set parameter LicenseID to value 2663970\n",
      "Academic license - for non-commercial use only - expires 2026-05-12\n",
      "Read LP format model from file /var/folders/6w/knrbtrj125ggkrx091kd2g840000gn/T/tmpnsiknk9x.lp\n",
      "Reading time = 0.00 seconds\n",
      ": 689 rows, 1411 columns, 6609 nonzeros\n",
      "Set parameter Username\n",
      "Set parameter LicenseID to value 2663970\n",
      "Academic license - for non-commercial use only - expires 2026-05-12\n",
      "Read LP format model from file /var/folders/6w/knrbtrj125ggkrx091kd2g840000gn/T/tmpd2kj9koj.lp\n",
      "Reading time = 0.00 seconds\n",
      ": 689 rows, 1411 columns, 6609 nonzeros\n",
      "Set parameter Username\n",
      "Set parameter LicenseID to value 2663970\n",
      "Academic license - for non-commercial use only - expires 2026-05-12\n",
      "Read LP format model from file /var/folders/6w/knrbtrj125ggkrx091kd2g840000gn/T/tmpc3rica_o.lp\n",
      "Reading time = 0.00 seconds\n",
      ": 689 rows, 1411 columns, 6609 nonzeros\n",
      "Set parameter Username\n",
      "Set parameter LicenseID to value 2663970\n",
      "Academic license - for non-commercial use only - expires 2026-05-12\n",
      "Read LP format model from file /var/folders/6w/knrbtrj125ggkrx091kd2g840000gn/T/tmp2a26k8bt.lp\n",
      "Reading time = 0.00 seconds\n",
      ": 689 rows, 1411 columns, 6609 nonzeros\n",
      "Set parameter Username\n",
      "Set parameter LicenseID to value 2663970\n",
      "Academic license - for non-commercial use only - expires 2026-05-12\n",
      "Read LP format model from file /var/folders/6w/knrbtrj125ggkrx091kd2g840000gn/T/tmp6ux94f5c.lp\n",
      "Reading time = 0.01 seconds\n",
      ": 689 rows, 1411 columns, 6609 nonzeros\n",
      "Set parameter Username\n",
      "Set parameter LicenseID to value 2663970\n",
      "Academic license - for non-commercial use only - expires 2026-05-12\n",
      "Read LP format model from file /var/folders/6w/knrbtrj125ggkrx091kd2g840000gn/T/tmp9c40w10f.lp\n",
      "Reading time = 0.00 seconds\n",
      ": 689 rows, 1411 columns, 6609 nonzeros\n",
      "Read LP format model from file /var/folders/6w/knrbtrj125ggkrx091kd2g840000gn/T/tmpeuc14nse.lp\n",
      "Reading time = 0.00 seconds\n",
      ": 688 rows, 1404 columns, 6586 nonzeros\n",
      "Set parameter Username\n",
      "Set parameter LicenseID to value 2663970\n",
      "Academic license - for non-commercial use only - expires 2026-05-12\n",
      "Read LP format model from file /var/folders/6w/knrbtrj125ggkrx091kd2g840000gn/T/tmppbhask7z.lp\n",
      "Reading time = 0.00 seconds\n",
      ": 695 rows, 1411 columns, 6621 nonzeros\n",
      "Set parameter Username\n",
      "Set parameter LicenseID to value 2663970\n",
      "Academic license - for non-commercial use only - expires 2026-05-12\n",
      "Read LP format model from file /var/folders/6w/knrbtrj125ggkrx091kd2g840000gn/T/tmpzr5lnyk2.lp\n",
      "Reading time = 0.00 seconds\n",
      ": 695 rows, 1411 columns, 6621 nonzeros\n",
      "Set parameter Username\n",
      "Set parameter LicenseID to value 2663970\n",
      "Academic license - for non-commercial use only - expires 2026-05-12\n",
      "Read LP format model from file /var/folders/6w/knrbtrj125ggkrx091kd2g840000gn/T/tmpl1yvm2ey.lp\n",
      "Reading time = 0.00 seconds\n",
      ": 695 rows, 1411 columns, 6621 nonzeros\n",
      "Set parameter Username\n",
      "Set parameter LicenseID to value 2663970\n",
      "Academic license - for non-commercial use only - expires 2026-05-12\n",
      "Read LP format model from file /var/folders/6w/knrbtrj125ggkrx091kd2g840000gn/T/tmpjn1mphkq.lp\n",
      "Reading time = 0.00 seconds\n",
      ": 695 rows, 1411 columns, 6621 nonzeros\n",
      "Set parameter Username\n",
      "Set parameter LicenseID to value 2663970\n",
      "Academic license - for non-commercial use only - expires 2026-05-12\n",
      "Read LP format model from file /var/folders/6w/knrbtrj125ggkrx091kd2g840000gn/T/tmpm7wyq5dz.lp\n",
      "Reading time = 0.00 seconds\n",
      ": 695 rows, 1411 columns, 6621 nonzeros\n",
      "Set parameter Username\n",
      "Set parameter LicenseID to value 2663970\n",
      "Academic license - for non-commercial use only - expires 2026-05-12\n",
      "Read LP format model from file /var/folders/6w/knrbtrj125ggkrx091kd2g840000gn/T/tmpt02dn1rn.lp\n",
      "Reading time = 0.00 seconds\n",
      ": 695 rows, 1411 columns, 6621 nonzeros\n",
      "Set parameter Username\n",
      "Set parameter LicenseID to value 2663970\n",
      "Academic license - for non-commercial use only - expires 2026-05-12\n",
      "Read LP format model from file /var/folders/6w/knrbtrj125ggkrx091kd2g840000gn/T/tmpc_md4cyy.lp\n",
      "Reading time = 0.01 seconds\n",
      ": 695 rows, 1411 columns, 6621 nonzeros\n",
      "Set parameter Username\n",
      "Set parameter LicenseID to value 2663970\n",
      "Academic license - for non-commercial use only - expires 2026-05-12\n",
      "Read LP format model from file /var/folders/6w/knrbtrj125ggkrx091kd2g840000gn/T/tmpbhhepouh.lp\n",
      "Reading time = 0.00 seconds\n",
      ": 695 rows, 1411 columns, 6621 nonzeros\n",
      "Set parameter Username\n",
      "Set parameter LicenseID to value 2663970\n",
      "Academic license - for non-commercial use only - expires 2026-05-12\n",
      "Read LP format model from file /var/folders/6w/knrbtrj125ggkrx091kd2g840000gn/T/tmpqqht2r2j.lp\n",
      "Reading time = 0.00 seconds\n",
      ": 695 rows, 1411 columns, 6621 nonzeros\n",
      "Set parameter Username\n",
      "Set parameter LicenseID to value 2663970\n",
      "Academic license - for non-commercial use only - expires 2026-05-12\n",
      "Read LP format model from file /var/folders/6w/knrbtrj125ggkrx091kd2g840000gn/T/tmpiku_ete6.lp\n",
      "Reading time = 0.00 seconds\n",
      ": 695 rows, 1411 columns, 6621 nonzeros\n",
      "Set parameter Username\n",
      "Set parameter LicenseID to value 2663970\n",
      "Academic license - for non-commercial use only - expires 2026-05-12\n",
      "Read LP format model from file /var/folders/6w/knrbtrj125ggkrx091kd2g840000gn/T/tmpv7los2wi.lp\n",
      "Reading time = 0.00 seconds\n",
      ": 695 rows, 1411 columns, 6621 nonzeros\n",
      "Set parameter Username\n",
      "Set parameter LicenseID to value 2663970\n",
      "Academic license - for non-commercial use only - expires 2026-05-12\n",
      "Read LP format model from file /var/folders/6w/knrbtrj125ggkrx091kd2g840000gn/T/tmpxbvc9n14.lp\n",
      "Reading time = 0.00 seconds\n",
      ": 695 rows, 1411 columns, 6621 nonzeros\n",
      "Set parameter Username\n",
      "Set parameter LicenseID to value 2663970\n",
      "Academic license - for non-commercial use only - expires 2026-05-12\n",
      "Read LP format model from file /var/folders/6w/knrbtrj125ggkrx091kd2g840000gn/T/tmp17dnf_mq.lp\n",
      "Reading time = 0.00 seconds\n",
      ": 695 rows, 1411 columns, 6621 nonzeros\n",
      "Set parameter Username\n",
      "Set parameter LicenseID to value 2663970\n",
      "Academic license - for non-commercial use only - expires 2026-05-12\n",
      "Read LP format model from file /var/folders/6w/knrbtrj125ggkrx091kd2g840000gn/T/tmpo5gtcli5.lp\n",
      "Reading time = 0.01 seconds\n",
      ": 695 rows, 1411 columns, 6621 nonzeros\n",
      "Read LP format model from file /var/folders/6w/knrbtrj125ggkrx091kd2g840000gn/T/tmppho1yjt3.lp\n",
      "Reading time = 0.00 seconds\n",
      ": 688 rows, 1404 columns, 6586 nonzeros\n",
      "Set parameter Username\n",
      "Set parameter LicenseID to value 2663970\n",
      "Academic license - for non-commercial use only - expires 2026-05-12\n",
      "Read LP format model from file /var/folders/6w/knrbtrj125ggkrx091kd2g840000gn/T/tmpu9uwn01o.lp\n",
      "Reading time = 0.00 seconds\n",
      ": 692 rows, 1411 columns, 6621 nonzeros\n",
      "Set parameter Username\n",
      "Set parameter LicenseID to value 2663970\n",
      "Academic license - for non-commercial use only - expires 2026-05-12\n",
      "Read LP format model from file /var/folders/6w/knrbtrj125ggkrx091kd2g840000gn/T/tmp5u2ccet1.lp\n",
      "Reading time = 0.00 seconds\n",
      ": 692 rows, 1411 columns, 6621 nonzeros\n",
      "Set parameter Username\n",
      "Set parameter LicenseID to value 2663970\n",
      "Academic license - for non-commercial use only - expires 2026-05-12\n",
      "Read LP format model from file /var/folders/6w/knrbtrj125ggkrx091kd2g840000gn/T/tmpgvryyxf3.lp\n",
      "Reading time = 0.00 seconds\n",
      ": 692 rows, 1411 columns, 6621 nonzeros\n",
      "Set parameter Username\n",
      "Set parameter LicenseID to value 2663970\n",
      "Academic license - for non-commercial use only - expires 2026-05-12\n",
      "Read LP format model from file /var/folders/6w/knrbtrj125ggkrx091kd2g840000gn/T/tmpegcwtb_w.lp\n",
      "Reading time = 0.00 seconds\n",
      ": 692 rows, 1411 columns, 6621 nonzeros\n",
      "Set parameter Username\n",
      "Set parameter LicenseID to value 2663970\n",
      "Academic license - for non-commercial use only - expires 2026-05-12\n",
      "Read LP format model from file /var/folders/6w/knrbtrj125ggkrx091kd2g840000gn/T/tmpnp4q4vx0.lp\n",
      "Reading time = 0.00 seconds\n",
      ": 692 rows, 1411 columns, 6621 nonzeros\n",
      "Set parameter Username\n",
      "Set parameter LicenseID to value 2663970\n",
      "Academic license - for non-commercial use only - expires 2026-05-12\n",
      "Read LP format model from file /var/folders/6w/knrbtrj125ggkrx091kd2g840000gn/T/tmpj2g7sq5g.lp\n",
      "Reading time = 0.00 seconds\n",
      ": 692 rows, 1411 columns, 6621 nonzeros\n",
      "Set parameter Username\n",
      "Set parameter LicenseID to value 2663970\n",
      "Academic license - for non-commercial use only - expires 2026-05-12\n",
      "Read LP format model from file /var/folders/6w/knrbtrj125ggkrx091kd2g840000gn/T/tmp7fphsmr5.lp\n",
      "Reading time = 0.01 seconds\n",
      ": 692 rows, 1411 columns, 6621 nonzeros\n",
      "Set parameter Username\n",
      "Set parameter LicenseID to value 2663970\n",
      "Academic license - for non-commercial use only - expires 2026-05-12\n",
      "Read LP format model from file /var/folders/6w/knrbtrj125ggkrx091kd2g840000gn/T/tmphyzin8gh.lp\n",
      "Reading time = 0.00 seconds\n",
      ": 692 rows, 1411 columns, 6621 nonzeros\n",
      "Set parameter Username\n",
      "Set parameter LicenseID to value 2663970\n",
      "Academic license - for non-commercial use only - expires 2026-05-12\n",
      "Read LP format model from file /var/folders/6w/knrbtrj125ggkrx091kd2g840000gn/T/tmpg55xn8tq.lp\n",
      "Reading time = 0.00 seconds\n",
      ": 692 rows, 1411 columns, 6621 nonzeros\n",
      "Set parameter Username\n",
      "Set parameter LicenseID to value 2663970\n",
      "Academic license - for non-commercial use only - expires 2026-05-12\n",
      "Read LP format model from file /var/folders/6w/knrbtrj125ggkrx091kd2g840000gn/T/tmpht5te7db.lp\n",
      "Reading time = 0.00 seconds\n",
      ": 692 rows, 1411 columns, 6621 nonzeros\n",
      "Set parameter Username\n",
      "Set parameter LicenseID to value 2663970\n",
      "Academic license - for non-commercial use only - expires 2026-05-12\n",
      "Read LP format model from file /var/folders/6w/knrbtrj125ggkrx091kd2g840000gn/T/tmpwgilzgop.lp\n",
      "Reading time = 0.00 seconds\n",
      ": 692 rows, 1411 columns, 6621 nonzeros\n",
      "Set parameter Username\n",
      "Set parameter LicenseID to value 2663970\n",
      "Academic license - for non-commercial use only - expires 2026-05-12\n",
      "Read LP format model from file /var/folders/6w/knrbtrj125ggkrx091kd2g840000gn/T/tmpmj19oqku.lp\n",
      "Reading time = 0.00 seconds\n",
      ": 692 rows, 1411 columns, 6621 nonzeros\n",
      "Set parameter Username\n",
      "Set parameter LicenseID to value 2663970\n",
      "Academic license - for non-commercial use only - expires 2026-05-12\n",
      "Read LP format model from file /var/folders/6w/knrbtrj125ggkrx091kd2g840000gn/T/tmpg64molp_.lp\n",
      "Reading time = 0.00 seconds\n",
      ": 692 rows, 1411 columns, 6621 nonzeros\n",
      "Set parameter Username\n",
      "Set parameter LicenseID to value 2663970\n",
      "Academic license - for non-commercial use only - expires 2026-05-12\n",
      "Read LP format model from file /var/folders/6w/knrbtrj125ggkrx091kd2g840000gn/T/tmpgq068pu6.lp\n",
      "Reading time = 0.00 seconds\n",
      ": 692 rows, 1411 columns, 6621 nonzeros\n",
      "Read LP format model from file /var/folders/6w/knrbtrj125ggkrx091kd2g840000gn/T/tmpsnugy5km.lp\n",
      "Reading time = 0.00 seconds\n",
      ": 688 rows, 1404 columns, 6586 nonzeros\n",
      "Set parameter Username\n",
      "Set parameter LicenseID to value 2663970\n",
      "Academic license - for non-commercial use only - expires 2026-05-12\n",
      "Read LP format model from file /var/folders/6w/knrbtrj125ggkrx091kd2g840000gn/T/tmp62o65n53.lp\n",
      "Reading time = 0.00 seconds\n",
      ": 692 rows, 1411 columns, 6619 nonzeros\n",
      "Set parameter Username\n",
      "Set parameter LicenseID to value 2663970\n",
      "Academic license - for non-commercial use only - expires 2026-05-12\n",
      "Read LP format model from file /var/folders/6w/knrbtrj125ggkrx091kd2g840000gn/T/tmp79035byi.lp\n",
      "Reading time = 0.00 seconds\n",
      ": 692 rows, 1411 columns, 6619 nonzeros\n",
      "Set parameter Username\n",
      "Set parameter LicenseID to value 2663970\n",
      "Academic license - for non-commercial use only - expires 2026-05-12\n",
      "Read LP format model from file /var/folders/6w/knrbtrj125ggkrx091kd2g840000gn/T/tmptdha2lf_.lp\n",
      "Reading time = 0.01 seconds\n",
      ": 692 rows, 1411 columns, 6619 nonzeros\n",
      "Set parameter Username\n",
      "Set parameter LicenseID to value 2663970\n",
      "Academic license - for non-commercial use only - expires 2026-05-12\n",
      "Read LP format model from file /var/folders/6w/knrbtrj125ggkrx091kd2g840000gn/T/tmpaxle1d8t.lp\n",
      "Reading time = 0.00 seconds\n",
      ": 692 rows, 1411 columns, 6619 nonzeros\n",
      "Set parameter Username\n",
      "Set parameter LicenseID to value 2663970\n",
      "Academic license - for non-commercial use only - expires 2026-05-12\n",
      "Read LP format model from file /var/folders/6w/knrbtrj125ggkrx091kd2g840000gn/T/tmpwhjzrveh.lp\n",
      "Reading time = 0.00 seconds\n",
      ": 692 rows, 1411 columns, 6619 nonzeros\n",
      "Set parameter Username\n",
      "Set parameter LicenseID to value 2663970\n",
      "Academic license - for non-commercial use only - expires 2026-05-12\n",
      "Read LP format model from file /var/folders/6w/knrbtrj125ggkrx091kd2g840000gn/T/tmpt364yi7x.lp\n",
      "Reading time = 0.00 seconds\n",
      ": 692 rows, 1411 columns, 6619 nonzeros\n",
      "Set parameter Username\n",
      "Set parameter LicenseID to value 2663970\n",
      "Academic license - for non-commercial use only - expires 2026-05-12\n",
      "Read LP format model from file /var/folders/6w/knrbtrj125ggkrx091kd2g840000gn/T/tmpbrhq_owv.lp\n",
      "Reading time = 0.01 seconds\n",
      ": 692 rows, 1411 columns, 6619 nonzeros\n",
      "Set parameter Username\n",
      "Set parameter LicenseID to value 2663970\n",
      "Academic license - for non-commercial use only - expires 2026-05-12\n",
      "Read LP format model from file /var/folders/6w/knrbtrj125ggkrx091kd2g840000gn/T/tmp8hlzvnyb.lp\n",
      "Reading time = 0.00 seconds\n",
      ": 692 rows, 1411 columns, 6619 nonzeros\n",
      "Set parameter Username\n",
      "Set parameter LicenseID to value 2663970\n",
      "Academic license - for non-commercial use only - expires 2026-05-12\n",
      "Read LP format model from file /var/folders/6w/knrbtrj125ggkrx091kd2g840000gn/T/tmp2pwwtf2r.lp\n",
      "Reading time = 0.00 seconds\n",
      ": 692 rows, 1411 columns, 6619 nonzeros\n",
      "Set parameter Username\n",
      "Set parameter LicenseID to value 2663970\n",
      "Academic license - for non-commercial use only - expires 2026-05-12\n",
      "Read LP format model from file /var/folders/6w/knrbtrj125ggkrx091kd2g840000gn/T/tmpc6tsr_qc.lp\n",
      "Reading time = 0.00 seconds\n",
      ": 692 rows, 1411 columns, 6619 nonzeros\n",
      "Set parameter Username\n",
      "Set parameter LicenseID to value 2663970\n",
      "Academic license - for non-commercial use only - expires 2026-05-12\n",
      "Read LP format model from file /var/folders/6w/knrbtrj125ggkrx091kd2g840000gn/T/tmpb810ryr2.lp\n",
      "Reading time = 0.00 seconds\n",
      ": 692 rows, 1411 columns, 6619 nonzeros\n",
      "Set parameter Username\n",
      "Set parameter LicenseID to value 2663970\n",
      "Academic license - for non-commercial use only - expires 2026-05-12\n",
      "Read LP format model from file /var/folders/6w/knrbtrj125ggkrx091kd2g840000gn/T/tmpr5w0w826.lp\n",
      "Reading time = 0.00 seconds\n",
      ": 692 rows, 1411 columns, 6619 nonzeros\n",
      "Set parameter Username\n",
      "Set parameter LicenseID to value 2663970\n",
      "Academic license - for non-commercial use only - expires 2026-05-12\n",
      "Read LP format model from file /var/folders/6w/knrbtrj125ggkrx091kd2g840000gn/T/tmpnm7j7ld9.lp\n",
      "Reading time = 0.00 seconds\n",
      ": 692 rows, 1411 columns, 6619 nonzeros\n",
      "Set parameter Username\n",
      "Set parameter LicenseID to value 2663970\n",
      "Academic license - for non-commercial use only - expires 2026-05-12\n",
      "Read LP format model from file /var/folders/6w/knrbtrj125ggkrx091kd2g840000gn/T/tmp2n26s218.lp\n",
      "Reading time = 0.00 seconds\n",
      ": 692 rows, 1411 columns, 6619 nonzeros\n",
      "Read LP format model from file /var/folders/6w/knrbtrj125ggkrx091kd2g840000gn/T/tmpf5rnymxd.lp\n",
      "Reading time = 0.00 seconds\n",
      ": 688 rows, 1404 columns, 6586 nonzeros\n",
      "Set parameter Username\n",
      "Set parameter LicenseID to value 2663970\n",
      "Academic license - for non-commercial use only - expires 2026-05-12\n",
      "Read LP format model from file /var/folders/6w/knrbtrj125ggkrx091kd2g840000gn/T/tmpyrfuf4l2.lp\n",
      "Reading time = 0.00 seconds\n",
      ": 694 rows, 1411 columns, 6623 nonzeros\n",
      "Set parameter Username\n",
      "Set parameter LicenseID to value 2663970\n",
      "Academic license - for non-commercial use only - expires 2026-05-12\n",
      "Read LP format model from file /var/folders/6w/knrbtrj125ggkrx091kd2g840000gn/T/tmpiiwkcnin.lp\n",
      "Reading time = 0.01 seconds\n",
      ": 694 rows, 1411 columns, 6623 nonzeros\n",
      "Set parameter Username\n",
      "Set parameter LicenseID to value 2663970\n",
      "Academic license - for non-commercial use only - expires 2026-05-12\n",
      "Read LP format model from file /var/folders/6w/knrbtrj125ggkrx091kd2g840000gn/T/tmpp6pdmzlo.lp\n",
      "Reading time = 0.00 seconds\n",
      ": 694 rows, 1411 columns, 6623 nonzeros\n",
      "Set parameter Username\n",
      "Set parameter LicenseID to value 2663970\n",
      "Academic license - for non-commercial use only - expires 2026-05-12\n",
      "Read LP format model from file /var/folders/6w/knrbtrj125ggkrx091kd2g840000gn/T/tmppl2755n2.lp\n",
      "Reading time = 0.00 seconds\n",
      ": 694 rows, 1411 columns, 6623 nonzeros\n",
      "Set parameter Username\n",
      "Set parameter LicenseID to value 2663970\n",
      "Academic license - for non-commercial use only - expires 2026-05-12\n",
      "Read LP format model from file /var/folders/6w/knrbtrj125ggkrx091kd2g840000gn/T/tmpevld9mm9.lp\n",
      "Reading time = 0.00 seconds\n",
      ": 694 rows, 1411 columns, 6623 nonzeros\n",
      "Set parameter Username\n",
      "Set parameter LicenseID to value 2663970\n",
      "Academic license - for non-commercial use only - expires 2026-05-12\n",
      "Read LP format model from file /var/folders/6w/knrbtrj125ggkrx091kd2g840000gn/T/tmpuw49d4i1.lp\n",
      "Reading time = 0.00 seconds\n",
      ": 694 rows, 1411 columns, 6623 nonzeros\n",
      "Set parameter Username\n",
      "Set parameter LicenseID to value 2663970\n",
      "Academic license - for non-commercial use only - expires 2026-05-12\n",
      "Read LP format model from file /var/folders/6w/knrbtrj125ggkrx091kd2g840000gn/T/tmp_myygtsw.lp\n",
      "Reading time = 0.01 seconds\n",
      ": 694 rows, 1411 columns, 6623 nonzeros\n",
      "Set parameter Username\n",
      "Set parameter LicenseID to value 2663970\n",
      "Academic license - for non-commercial use only - expires 2026-05-12\n",
      "Read LP format model from file /var/folders/6w/knrbtrj125ggkrx091kd2g840000gn/T/tmp7e_jqgem.lp\n",
      "Reading time = 0.00 seconds\n",
      ": 694 rows, 1411 columns, 6623 nonzeros\n",
      "Set parameter Username\n",
      "Set parameter LicenseID to value 2663970\n",
      "Academic license - for non-commercial use only - expires 2026-05-12\n",
      "Read LP format model from file /var/folders/6w/knrbtrj125ggkrx091kd2g840000gn/T/tmpdf6ycgqm.lp\n",
      "Reading time = 0.00 seconds\n",
      ": 694 rows, 1411 columns, 6623 nonzeros\n",
      "Set parameter Username\n",
      "Set parameter LicenseID to value 2663970\n",
      "Academic license - for non-commercial use only - expires 2026-05-12\n",
      "Read LP format model from file /var/folders/6w/knrbtrj125ggkrx091kd2g840000gn/T/tmpqe481c0k.lp\n",
      "Reading time = 0.00 seconds\n",
      ": 694 rows, 1411 columns, 6623 nonzeros\n",
      "Set parameter Username\n",
      "Set parameter LicenseID to value 2663970\n",
      "Academic license - for non-commercial use only - expires 2026-05-12\n",
      "Read LP format model from file /var/folders/6w/knrbtrj125ggkrx091kd2g840000gn/T/tmpz_yrjmjl.lp\n",
      "Reading time = 0.00 seconds\n",
      ": 694 rows, 1411 columns, 6623 nonzeros\n",
      "Set parameter Username\n",
      "Set parameter LicenseID to value 2663970\n",
      "Academic license - for non-commercial use only - expires 2026-05-12\n",
      "Read LP format model from file /var/folders/6w/knrbtrj125ggkrx091kd2g840000gn/T/tmpwmrvdhcs.lp\n",
      "Reading time = 0.00 seconds\n",
      ": 694 rows, 1411 columns, 6623 nonzeros\n",
      "Set parameter Username\n",
      "Set parameter LicenseID to value 2663970\n",
      "Academic license - for non-commercial use only - expires 2026-05-12\n",
      "Read LP format model from file /var/folders/6w/knrbtrj125ggkrx091kd2g840000gn/T/tmpqx1szhzi.lp\n",
      "Reading time = 0.00 seconds\n",
      ": 694 rows, 1411 columns, 6623 nonzeros\n",
      "Set parameter Username\n",
      "Set parameter LicenseID to value 2663970\n",
      "Academic license - for non-commercial use only - expires 2026-05-12\n",
      "Read LP format model from file /var/folders/6w/knrbtrj125ggkrx091kd2g840000gn/T/tmpim2hb9u1.lp\n",
      "Reading time = 0.01 seconds\n",
      ": 694 rows, 1411 columns, 6623 nonzeros\n",
      "Read LP format model from file /var/folders/6w/knrbtrj125ggkrx091kd2g840000gn/T/tmp9tda_7gz.lp\n",
      "Reading time = 0.00 seconds\n",
      ": 688 rows, 1404 columns, 6586 nonzeros\n",
      "Set parameter Username\n",
      "Set parameter LicenseID to value 2663970\n",
      "Academic license - for non-commercial use only - expires 2026-05-12\n",
      "Read LP format model from file /var/folders/6w/knrbtrj125ggkrx091kd2g840000gn/T/tmp9eq7jf3l.lp\n",
      "Reading time = 0.00 seconds\n",
      ": 690 rows, 1411 columns, 6615 nonzeros\n",
      "Set parameter Username\n",
      "Set parameter LicenseID to value 2663970\n",
      "Academic license - for non-commercial use only - expires 2026-05-12\n",
      "Read LP format model from file /var/folders/6w/knrbtrj125ggkrx091kd2g840000gn/T/tmpdg_a6vil.lp\n",
      "Reading time = 0.00 seconds\n",
      ": 690 rows, 1411 columns, 6615 nonzeros\n",
      "Set parameter Username\n",
      "Set parameter LicenseID to value 2663970\n",
      "Academic license - for non-commercial use only - expires 2026-05-12\n",
      "Read LP format model from file /var/folders/6w/knrbtrj125ggkrx091kd2g840000gn/T/tmpzx8brken.lp\n",
      "Reading time = 0.00 seconds\n",
      ": 690 rows, 1411 columns, 6615 nonzeros\n",
      "Set parameter Username\n",
      "Set parameter LicenseID to value 2663970\n",
      "Academic license - for non-commercial use only - expires 2026-05-12\n",
      "Read LP format model from file /var/folders/6w/knrbtrj125ggkrx091kd2g840000gn/T/tmprktbqm96.lp\n",
      "Reading time = 0.01 seconds\n",
      ": 690 rows, 1411 columns, 6615 nonzeros\n",
      "Set parameter Username\n",
      "Set parameter LicenseID to value 2663970\n",
      "Academic license - for non-commercial use only - expires 2026-05-12\n",
      "Read LP format model from file /var/folders/6w/knrbtrj125ggkrx091kd2g840000gn/T/tmpm8y6ehp0.lp\n",
      "Reading time = 0.00 seconds\n",
      ": 690 rows, 1411 columns, 6615 nonzeros\n",
      "Set parameter Username\n",
      "Set parameter LicenseID to value 2663970\n",
      "Academic license - for non-commercial use only - expires 2026-05-12\n",
      "Read LP format model from file /var/folders/6w/knrbtrj125ggkrx091kd2g840000gn/T/tmp0nj6sgol.lp\n",
      "Reading time = 0.00 seconds\n",
      ": 690 rows, 1411 columns, 6615 nonzeros\n",
      "Set parameter Username\n",
      "Set parameter LicenseID to value 2663970\n",
      "Academic license - for non-commercial use only - expires 2026-05-12\n",
      "Read LP format model from file /var/folders/6w/knrbtrj125ggkrx091kd2g840000gn/T/tmpisvem49u.lp\n",
      "Reading time = 0.00 seconds\n",
      ": 690 rows, 1411 columns, 6615 nonzeros\n",
      "Set parameter Username\n",
      "Set parameter LicenseID to value 2663970\n",
      "Academic license - for non-commercial use only - expires 2026-05-12\n",
      "Read LP format model from file /var/folders/6w/knrbtrj125ggkrx091kd2g840000gn/T/tmp546i1q4p.lp\n",
      "Reading time = 0.00 seconds\n",
      ": 690 rows, 1411 columns, 6615 nonzeros\n",
      "Set parameter Username\n",
      "Set parameter LicenseID to value 2663970\n",
      "Academic license - for non-commercial use only - expires 2026-05-12\n",
      "Read LP format model from file /var/folders/6w/knrbtrj125ggkrx091kd2g840000gn/T/tmpb28q6avn.lp\n",
      "Reading time = 0.00 seconds\n",
      ": 690 rows, 1411 columns, 6615 nonzeros\n",
      "Set parameter Username\n",
      "Set parameter LicenseID to value 2663970\n",
      "Academic license - for non-commercial use only - expires 2026-05-12\n",
      "Read LP format model from file /var/folders/6w/knrbtrj125ggkrx091kd2g840000gn/T/tmph9_7v3el.lp\n",
      "Reading time = 0.00 seconds\n",
      ": 690 rows, 1411 columns, 6615 nonzeros\n",
      "Set parameter Username\n",
      "Set parameter LicenseID to value 2663970\n",
      "Academic license - for non-commercial use only - expires 2026-05-12\n",
      "Read LP format model from file /var/folders/6w/knrbtrj125ggkrx091kd2g840000gn/T/tmp94a68svj.lp\n",
      "Reading time = 0.00 seconds\n",
      ": 690 rows, 1411 columns, 6615 nonzeros\n",
      "Set parameter Username\n",
      "Set parameter LicenseID to value 2663970\n",
      "Academic license - for non-commercial use only - expires 2026-05-12\n",
      "Read LP format model from file /var/folders/6w/knrbtrj125ggkrx091kd2g840000gn/T/tmpsvba9j2v.lp\n",
      "Reading time = 0.00 seconds\n",
      ": 690 rows, 1411 columns, 6615 nonzeros\n",
      "Set parameter Username\n",
      "Set parameter LicenseID to value 2663970\n",
      "Academic license - for non-commercial use only - expires 2026-05-12\n",
      "Read LP format model from file /var/folders/6w/knrbtrj125ggkrx091kd2g840000gn/T/tmpwiomptyz.lp\n",
      "Reading time = 0.01 seconds\n",
      ": 690 rows, 1411 columns, 6615 nonzeros\n",
      "Set parameter Username\n",
      "Set parameter LicenseID to value 2663970\n",
      "Academic license - for non-commercial use only - expires 2026-05-12\n",
      "Read LP format model from file /var/folders/6w/knrbtrj125ggkrx091kd2g840000gn/T/tmp4p_olu0y.lp\n",
      "Reading time = 0.00 seconds\n",
      ": 690 rows, 1411 columns, 6615 nonzeros\n",
      "Read LP format model from file /var/folders/6w/knrbtrj125ggkrx091kd2g840000gn/T/tmp2s90gnc6.lp\n",
      "Reading time = 0.00 seconds\n",
      ": 688 rows, 1404 columns, 6586 nonzeros\n",
      "Set parameter Username\n",
      "Set parameter LicenseID to value 2663970\n",
      "Academic license - for non-commercial use only - expires 2026-05-12\n",
      "Read LP format model from file /var/folders/6w/knrbtrj125ggkrx091kd2g840000gn/T/tmplxj18v1z.lp\n",
      "Reading time = 0.00 seconds\n",
      ": 692 rows, 1411 columns, 6615 nonzeros\n",
      "Set parameter Username\n",
      "Set parameter LicenseID to value 2663970\n",
      "Academic license - for non-commercial use only - expires 2026-05-12\n",
      "Read LP format model from file /var/folders/6w/knrbtrj125ggkrx091kd2g840000gn/T/tmpcp97u4cw.lp\n",
      "Reading time = 0.03 seconds\n",
      ": 692 rows, 1411 columns, 6615 nonzeros\n",
      "Set parameter Username\n",
      "Set parameter LicenseID to value 2663970\n",
      "Academic license - for non-commercial use only - expires 2026-05-12\n",
      "Read LP format model from file /var/folders/6w/knrbtrj125ggkrx091kd2g840000gn/T/tmpuqvq26q6.lp\n",
      "Reading time = 0.00 seconds\n",
      ": 692 rows, 1411 columns, 6615 nonzeros\n",
      "Set parameter Username\n",
      "Set parameter LicenseID to value 2663970\n",
      "Academic license - for non-commercial use only - expires 2026-05-12\n",
      "Read LP format model from file /var/folders/6w/knrbtrj125ggkrx091kd2g840000gn/T/tmpb1w1vvj3.lp\n",
      "Reading time = 0.00 seconds\n",
      ": 692 rows, 1411 columns, 6615 nonzeros\n",
      "Set parameter Username\n",
      "Set parameter LicenseID to value 2663970\n",
      "Academic license - for non-commercial use only - expires 2026-05-12\n",
      "Read LP format model from file /var/folders/6w/knrbtrj125ggkrx091kd2g840000gn/T/tmpco_1i8oz.lp\n",
      "Reading time = 0.00 seconds\n",
      ": 692 rows, 1411 columns, 6615 nonzeros\n",
      "Set parameter Username\n",
      "Set parameter LicenseID to value 2663970\n",
      "Academic license - for non-commercial use only - expires 2026-05-12\n",
      "Read LP format model from file /var/folders/6w/knrbtrj125ggkrx091kd2g840000gn/T/tmpd70i_lbx.lp\n",
      "Reading time = 0.00 seconds\n",
      ": 692 rows, 1411 columns, 6615 nonzeros\n",
      "Set parameter Username\n",
      "Set parameter LicenseID to value 2663970\n",
      "Academic license - for non-commercial use only - expires 2026-05-12\n",
      "Read LP format model from file /var/folders/6w/knrbtrj125ggkrx091kd2g840000gn/T/tmp0ujzqqgx.lp\n",
      "Reading time = 0.01 seconds\n",
      ": 692 rows, 1411 columns, 6615 nonzeros\n",
      "Set parameter Username\n",
      "Set parameter LicenseID to value 2663970\n",
      "Academic license - for non-commercial use only - expires 2026-05-12\n",
      "Read LP format model from file /var/folders/6w/knrbtrj125ggkrx091kd2g840000gn/T/tmp8mdk0tir.lp\n",
      "Reading time = 0.00 seconds\n",
      ": 692 rows, 1411 columns, 6615 nonzeros\n",
      "Set parameter Username\n",
      "Set parameter LicenseID to value 2663970\n",
      "Academic license - for non-commercial use only - expires 2026-05-12\n",
      "Read LP format model from file /var/folders/6w/knrbtrj125ggkrx091kd2g840000gn/T/tmpet0yepq_.lp\n",
      "Reading time = 0.00 seconds\n",
      ": 692 rows, 1411 columns, 6615 nonzeros\n",
      "Set parameter Username\n",
      "Set parameter LicenseID to value 2663970\n",
      "Academic license - for non-commercial use only - expires 2026-05-12\n",
      "Read LP format model from file /var/folders/6w/knrbtrj125ggkrx091kd2g840000gn/T/tmpnbtgvf2f.lp\n",
      "Reading time = 0.00 seconds\n",
      ": 692 rows, 1411 columns, 6615 nonzeros\n",
      "Set parameter Username\n",
      "Set parameter LicenseID to value 2663970\n",
      "Academic license - for non-commercial use only - expires 2026-05-12\n",
      "Read LP format model from file /var/folders/6w/knrbtrj125ggkrx091kd2g840000gn/T/tmpiprgnnhi.lp\n",
      "Reading time = 0.00 seconds\n",
      ": 692 rows, 1411 columns, 6615 nonzeros\n",
      "Set parameter Username\n",
      "Set parameter LicenseID to value 2663970\n",
      "Academic license - for non-commercial use only - expires 2026-05-12\n",
      "Read LP format model from file /var/folders/6w/knrbtrj125ggkrx091kd2g840000gn/T/tmpvkq6qg01.lp\n",
      "Reading time = 0.00 seconds\n",
      ": 692 rows, 1411 columns, 6615 nonzeros\n",
      "Set parameter Username\n",
      "Set parameter LicenseID to value 2663970\n",
      "Academic license - for non-commercial use only - expires 2026-05-12\n",
      "Read LP format model from file /var/folders/6w/knrbtrj125ggkrx091kd2g840000gn/T/tmplx6gdpb2.lp\n",
      "Reading time = 0.00 seconds\n",
      ": 692 rows, 1411 columns, 6615 nonzeros\n",
      "Set parameter Username\n",
      "Set parameter LicenseID to value 2663970\n",
      "Academic license - for non-commercial use only - expires 2026-05-12\n",
      "Read LP format model from file /var/folders/6w/knrbtrj125ggkrx091kd2g840000gn/T/tmpaatq9pa3.lp\n",
      "Reading time = 0.01 seconds\n",
      ": 692 rows, 1411 columns, 6615 nonzeros\n",
      "Read LP format model from file /var/folders/6w/knrbtrj125ggkrx091kd2g840000gn/T/tmpn64tcd3v.lp\n",
      "Reading time = 0.00 seconds\n",
      ": 688 rows, 1404 columns, 6586 nonzeros\n",
      "Set parameter Username\n",
      "Set parameter LicenseID to value 2663970\n",
      "Academic license - for non-commercial use only - expires 2026-05-12\n",
      "Read LP format model from file /var/folders/6w/knrbtrj125ggkrx091kd2g840000gn/T/tmp75qjzs1j.lp\n",
      "Reading time = 0.00 seconds\n",
      ": 691 rows, 1411 columns, 6617 nonzeros\n",
      "Set parameter Username\n",
      "Set parameter LicenseID to value 2663970\n",
      "Academic license - for non-commercial use only - expires 2026-05-12\n",
      "Read LP format model from file /var/folders/6w/knrbtrj125ggkrx091kd2g840000gn/T/tmpzqa9h4iq.lp\n",
      "Reading time = 0.00 seconds\n",
      ": 691 rows, 1411 columns, 6617 nonzeros\n",
      "Set parameter Username\n",
      "Set parameter LicenseID to value 2663970\n",
      "Academic license - for non-commercial use only - expires 2026-05-12\n",
      "Read LP format model from file /var/folders/6w/knrbtrj125ggkrx091kd2g840000gn/T/tmpw6_3el00.lp\n",
      "Reading time = 0.00 seconds\n",
      ": 691 rows, 1411 columns, 6617 nonzeros\n",
      "Set parameter Username\n",
      "Set parameter LicenseID to value 2663970\n",
      "Academic license - for non-commercial use only - expires 2026-05-12\n",
      "Read LP format model from file /var/folders/6w/knrbtrj125ggkrx091kd2g840000gn/T/tmpqxwo3ikg.lp\n",
      "Reading time = 0.00 seconds\n",
      ": 691 rows, 1411 columns, 6617 nonzeros\n",
      "Set parameter Username\n",
      "Set parameter LicenseID to value 2663970\n",
      "Academic license - for non-commercial use only - expires 2026-05-12\n",
      "Read LP format model from file /var/folders/6w/knrbtrj125ggkrx091kd2g840000gn/T/tmpcm4e5zww.lp\n",
      "Reading time = 0.00 seconds\n",
      ": 691 rows, 1411 columns, 6617 nonzeros\n",
      "Set parameter Username\n",
      "Set parameter LicenseID to value 2663970\n",
      "Academic license - for non-commercial use only - expires 2026-05-12\n",
      "Read LP format model from file /var/folders/6w/knrbtrj125ggkrx091kd2g840000gn/T/tmpsutflfcc.lp\n",
      "Reading time = 0.00 seconds\n",
      ": 691 rows, 1411 columns, 6617 nonzeros\n",
      "Set parameter Username\n",
      "Set parameter LicenseID to value 2663970\n",
      "Academic license - for non-commercial use only - expires 2026-05-12\n",
      "Read LP format model from file /var/folders/6w/knrbtrj125ggkrx091kd2g840000gn/T/tmp3syutrgy.lp\n",
      "Reading time = 0.01 seconds\n",
      ": 691 rows, 1411 columns, 6617 nonzeros\n",
      "Set parameter Username\n",
      "Set parameter LicenseID to value 2663970\n",
      "Academic license - for non-commercial use only - expires 2026-05-12\n",
      "Read LP format model from file /var/folders/6w/knrbtrj125ggkrx091kd2g840000gn/T/tmpvknjjq72.lp\n",
      "Reading time = 0.00 seconds\n",
      ": 691 rows, 1411 columns, 6617 nonzeros\n",
      "Set parameter Username\n",
      "Set parameter LicenseID to value 2663970\n",
      "Academic license - for non-commercial use only - expires 2026-05-12\n",
      "Read LP format model from file /var/folders/6w/knrbtrj125ggkrx091kd2g840000gn/T/tmpmteibde7.lp\n",
      "Reading time = 0.00 seconds\n",
      ": 691 rows, 1411 columns, 6617 nonzeros\n",
      "Set parameter Username\n",
      "Set parameter LicenseID to value 2663970\n",
      "Academic license - for non-commercial use only - expires 2026-05-12\n",
      "Read LP format model from file /var/folders/6w/knrbtrj125ggkrx091kd2g840000gn/T/tmp5a84ka_c.lp\n",
      "Reading time = 0.00 seconds\n",
      ": 691 rows, 1411 columns, 6617 nonzeros\n",
      "Set parameter Username\n",
      "Set parameter LicenseID to value 2663970\n",
      "Academic license - for non-commercial use only - expires 2026-05-12\n",
      "Read LP format model from file /var/folders/6w/knrbtrj125ggkrx091kd2g840000gn/T/tmp96h5xndf.lp\n",
      "Reading time = 0.00 seconds\n",
      ": 691 rows, 1411 columns, 6617 nonzeros\n",
      "Set parameter Username\n",
      "Set parameter LicenseID to value 2663970\n",
      "Academic license - for non-commercial use only - expires 2026-05-12\n",
      "Read LP format model from file /var/folders/6w/knrbtrj125ggkrx091kd2g840000gn/T/tmparsc47cn.lp\n",
      "Reading time = 0.00 seconds\n",
      ": 691 rows, 1411 columns, 6617 nonzeros\n",
      "Set parameter Username\n",
      "Set parameter LicenseID to value 2663970\n",
      "Academic license - for non-commercial use only - expires 2026-05-12\n",
      "Read LP format model from file /var/folders/6w/knrbtrj125ggkrx091kd2g840000gn/T/tmpz3al9dgw.lp\n",
      "Reading time = 0.00 seconds\n",
      ": 691 rows, 1411 columns, 6617 nonzeros\n",
      "Set parameter Username\n",
      "Set parameter LicenseID to value 2663970\n",
      "Academic license - for non-commercial use only - expires 2026-05-12\n",
      "Read LP format model from file /var/folders/6w/knrbtrj125ggkrx091kd2g840000gn/T/tmp0wuqy63b.lp\n",
      "Reading time = 0.00 seconds\n",
      ": 691 rows, 1411 columns, 6617 nonzeros\n",
      "Read LP format model from file /var/folders/6w/knrbtrj125ggkrx091kd2g840000gn/T/tmprz5f4u55.lp\n",
      "Reading time = 0.00 seconds\n",
      ": 688 rows, 1404 columns, 6586 nonzeros\n",
      "Set parameter Username\n",
      "Set parameter LicenseID to value 2663970\n",
      "Academic license - for non-commercial use only - expires 2026-05-12\n",
      "Read LP format model from file /var/folders/6w/knrbtrj125ggkrx091kd2g840000gn/T/tmp4hhpxp3q.lp\n",
      "Reading time = 0.00 seconds\n",
      ": 693 rows, 1411 columns, 6615 nonzeros\n",
      "Set parameter Username\n",
      "Set parameter LicenseID to value 2663970\n",
      "Academic license - for non-commercial use only - expires 2026-05-12\n",
      "Read LP format model from file /var/folders/6w/knrbtrj125ggkrx091kd2g840000gn/T/tmpp1fl4zhe.lp\n",
      "Reading time = 0.00 seconds\n",
      ": 693 rows, 1411 columns, 6615 nonzeros\n",
      "Set parameter Username\n",
      "Set parameter LicenseID to value 2663970\n",
      "Academic license - for non-commercial use only - expires 2026-05-12\n",
      "Read LP format model from file /var/folders/6w/knrbtrj125ggkrx091kd2g840000gn/T/tmpzml3_3pp.lp\n",
      "Reading time = 0.00 seconds\n",
      ": 693 rows, 1411 columns, 6615 nonzeros\n",
      "Set parameter Username\n",
      "Set parameter LicenseID to value 2663970\n",
      "Academic license - for non-commercial use only - expires 2026-05-12\n",
      "Read LP format model from file /var/folders/6w/knrbtrj125ggkrx091kd2g840000gn/T/tmpobhpln73.lp\n",
      "Reading time = 0.00 seconds\n",
      ": 693 rows, 1411 columns, 6615 nonzeros\n",
      "Set parameter Username\n",
      "Set parameter LicenseID to value 2663970\n",
      "Academic license - for non-commercial use only - expires 2026-05-12\n",
      "Read LP format model from file /var/folders/6w/knrbtrj125ggkrx091kd2g840000gn/T/tmpl9bthtti.lp\n",
      "Reading time = 0.00 seconds\n",
      ": 693 rows, 1411 columns, 6615 nonzeros\n",
      "Set parameter Username\n",
      "Set parameter LicenseID to value 2663970\n",
      "Academic license - for non-commercial use only - expires 2026-05-12\n",
      "Read LP format model from file /var/folders/6w/knrbtrj125ggkrx091kd2g840000gn/T/tmpskubkqa0.lp\n",
      "Reading time = 0.00 seconds\n",
      ": 693 rows, 1411 columns, 6615 nonzeros\n",
      "Set parameter Username\n",
      "Set parameter LicenseID to value 2663970\n",
      "Academic license - for non-commercial use only - expires 2026-05-12\n",
      "Read LP format model from file /var/folders/6w/knrbtrj125ggkrx091kd2g840000gn/T/tmp_cgqovyy.lp\n",
      "Reading time = 0.01 seconds\n",
      ": 693 rows, 1411 columns, 6615 nonzeros\n",
      "Set parameter Username\n",
      "Set parameter LicenseID to value 2663970\n",
      "Academic license - for non-commercial use only - expires 2026-05-12\n",
      "Read LP format model from file /var/folders/6w/knrbtrj125ggkrx091kd2g840000gn/T/tmps3d_f28q.lp\n",
      "Reading time = 0.00 seconds\n",
      ": 693 rows, 1411 columns, 6615 nonzeros\n",
      "Set parameter Username\n",
      "Set parameter LicenseID to value 2663970\n",
      "Academic license - for non-commercial use only - expires 2026-05-12\n",
      "Read LP format model from file /var/folders/6w/knrbtrj125ggkrx091kd2g840000gn/T/tmp7iz1gj4u.lp\n",
      "Reading time = 0.00 seconds\n",
      ": 693 rows, 1411 columns, 6615 nonzeros\n",
      "Set parameter Username\n",
      "Set parameter LicenseID to value 2663970\n",
      "Academic license - for non-commercial use only - expires 2026-05-12\n",
      "Read LP format model from file /var/folders/6w/knrbtrj125ggkrx091kd2g840000gn/T/tmp7fytf3ah.lp\n",
      "Reading time = 0.00 seconds\n",
      ": 693 rows, 1411 columns, 6615 nonzeros\n",
      "Set parameter Username\n",
      "Set parameter LicenseID to value 2663970\n",
      "Academic license - for non-commercial use only - expires 2026-05-12\n",
      "Read LP format model from file /var/folders/6w/knrbtrj125ggkrx091kd2g840000gn/T/tmpw8cpetbu.lp\n",
      "Reading time = 0.00 seconds\n",
      ": 693 rows, 1411 columns, 6615 nonzeros\n",
      "Set parameter Username\n",
      "Set parameter LicenseID to value 2663970\n",
      "Academic license - for non-commercial use only - expires 2026-05-12\n",
      "Read LP format model from file /var/folders/6w/knrbtrj125ggkrx091kd2g840000gn/T/tmpnlre01dr.lp\n",
      "Reading time = 0.00 seconds\n",
      ": 693 rows, 1411 columns, 6615 nonzeros\n",
      "Set parameter Username\n",
      "Set parameter LicenseID to value 2663970\n",
      "Academic license - for non-commercial use only - expires 2026-05-12\n",
      "Read LP format model from file /var/folders/6w/knrbtrj125ggkrx091kd2g840000gn/T/tmp2ryi3bfp.lp\n",
      "Reading time = 0.00 seconds\n",
      ": 693 rows, 1411 columns, 6615 nonzeros\n",
      "Set parameter Username\n",
      "Set parameter LicenseID to value 2663970\n",
      "Academic license - for non-commercial use only - expires 2026-05-12\n",
      "Read LP format model from file /var/folders/6w/knrbtrj125ggkrx091kd2g840000gn/T/tmpci1lthj1.lp\n",
      "Reading time = 0.00 seconds\n",
      ": 693 rows, 1411 columns, 6615 nonzeros\n",
      "Read LP format model from file /var/folders/6w/knrbtrj125ggkrx091kd2g840000gn/T/tmpp_2afeg6.lp\n",
      "Reading time = 0.00 seconds\n",
      ": 688 rows, 1404 columns, 6586 nonzeros\n",
      "Set parameter Username\n",
      "Set parameter LicenseID to value 2663970\n",
      "Academic license - for non-commercial use only - expires 2026-05-12\n",
      "Read LP format model from file /var/folders/6w/knrbtrj125ggkrx091kd2g840000gn/T/tmp7yxs6ohn.lp\n",
      "Reading time = 0.00 seconds\n",
      ": 693 rows, 1411 columns, 6615 nonzeros\n",
      "Set parameter Username\n",
      "Set parameter LicenseID to value 2663970\n",
      "Academic license - for non-commercial use only - expires 2026-05-12\n",
      "Read LP format model from file /var/folders/6w/knrbtrj125ggkrx091kd2g840000gn/T/tmp0r5uvvuo.lp\n",
      "Reading time = 0.00 seconds\n",
      ": 693 rows, 1411 columns, 6615 nonzeros\n",
      "Set parameter Username\n",
      "Set parameter LicenseID to value 2663970\n",
      "Academic license - for non-commercial use only - expires 2026-05-12\n",
      "Read LP format model from file /var/folders/6w/knrbtrj125ggkrx091kd2g840000gn/T/tmp17zn732w.lp\n",
      "Reading time = 0.00 seconds\n",
      ": 693 rows, 1411 columns, 6615 nonzeros\n",
      "Set parameter Username\n",
      "Set parameter LicenseID to value 2663970\n",
      "Academic license - for non-commercial use only - expires 2026-05-12\n",
      "Read LP format model from file /var/folders/6w/knrbtrj125ggkrx091kd2g840000gn/T/tmp10763586.lp\n",
      "Reading time = 0.00 seconds\n",
      ": 693 rows, 1411 columns, 6615 nonzeros\n",
      "Set parameter Username\n",
      "Set parameter LicenseID to value 2663970\n",
      "Academic license - for non-commercial use only - expires 2026-05-12\n",
      "Read LP format model from file /var/folders/6w/knrbtrj125ggkrx091kd2g840000gn/T/tmps83pxrcv.lp\n",
      "Reading time = 0.00 seconds\n",
      ": 693 rows, 1411 columns, 6615 nonzeros\n",
      "Set parameter Username\n",
      "Set parameter LicenseID to value 2663970\n",
      "Academic license - for non-commercial use only - expires 2026-05-12\n",
      "Read LP format model from file /var/folders/6w/knrbtrj125ggkrx091kd2g840000gn/T/tmpt4eol9_9.lp\n",
      "Reading time = 0.00 seconds\n",
      ": 693 rows, 1411 columns, 6615 nonzeros\n",
      "Set parameter Username\n",
      "Set parameter LicenseID to value 2663970\n",
      "Academic license - for non-commercial use only - expires 2026-05-12\n",
      "Read LP format model from file /var/folders/6w/knrbtrj125ggkrx091kd2g840000gn/T/tmp51ofpk8j.lp\n",
      "Reading time = 0.00 seconds\n",
      ": 693 rows, 1411 columns, 6615 nonzeros\n",
      "Set parameter Username\n",
      "Set parameter LicenseID to value 2663970\n",
      "Academic license - for non-commercial use only - expires 2026-05-12\n",
      "Read LP format model from file /var/folders/6w/knrbtrj125ggkrx091kd2g840000gn/T/tmp34t3jpws.lp\n",
      "Reading time = 0.00 seconds\n",
      ": 693 rows, 1411 columns, 6615 nonzeros\n",
      "Set parameter Username\n",
      "Set parameter LicenseID to value 2663970\n",
      "Academic license - for non-commercial use only - expires 2026-05-12\n",
      "Read LP format model from file /var/folders/6w/knrbtrj125ggkrx091kd2g840000gn/T/tmpdkbtxzct.lp\n",
      "Reading time = 0.00 seconds\n",
      ": 693 rows, 1411 columns, 6615 nonzeros\n",
      "Set parameter Username\n",
      "Set parameter LicenseID to value 2663970\n",
      "Academic license - for non-commercial use only - expires 2026-05-12\n",
      "Read LP format model from file /var/folders/6w/knrbtrj125ggkrx091kd2g840000gn/T/tmpws349ho0.lp\n",
      "Reading time = 0.00 seconds\n",
      ": 693 rows, 1411 columns, 6615 nonzeros\n",
      "Set parameter Username\n",
      "Set parameter LicenseID to value 2663970\n",
      "Academic license - for non-commercial use only - expires 2026-05-12\n",
      "Read LP format model from file /var/folders/6w/knrbtrj125ggkrx091kd2g840000gn/T/tmpy2k2koqm.lp\n",
      "Reading time = 0.00 seconds\n",
      ": 693 rows, 1411 columns, 6615 nonzeros\n",
      "Set parameter Username\n",
      "Set parameter LicenseID to value 2663970\n",
      "Academic license - for non-commercial use only - expires 2026-05-12\n",
      "Read LP format model from file /var/folders/6w/knrbtrj125ggkrx091kd2g840000gn/T/tmpd227edle.lp\n",
      "Reading time = 0.00 seconds\n",
      ": 693 rows, 1411 columns, 6615 nonzeros\n",
      "Set parameter Username\n",
      "Set parameter LicenseID to value 2663970\n",
      "Academic license - for non-commercial use only - expires 2026-05-12\n",
      "Read LP format model from file /var/folders/6w/knrbtrj125ggkrx091kd2g840000gn/T/tmp5wkpmx0i.lp\n",
      "Reading time = 0.00 seconds\n",
      ": 693 rows, 1411 columns, 6615 nonzeros\n",
      "Set parameter Username\n",
      "Set parameter LicenseID to value 2663970\n",
      "Academic license - for non-commercial use only - expires 2026-05-12\n",
      "Read LP format model from file /var/folders/6w/knrbtrj125ggkrx091kd2g840000gn/T/tmp0c2t1yvv.lp\n",
      "Reading time = 0.00 seconds\n",
      ": 693 rows, 1411 columns, 6615 nonzeros\n",
      "Read LP format model from file /var/folders/6w/knrbtrj125ggkrx091kd2g840000gn/T/tmp9t3lbw16.lp\n",
      "Reading time = 0.00 seconds\n",
      ": 688 rows, 1404 columns, 6586 nonzeros\n",
      "Set parameter Username\n",
      "Set parameter LicenseID to value 2663970\n",
      "Academic license - for non-commercial use only - expires 2026-05-12\n",
      "Read LP format model from file /var/folders/6w/knrbtrj125ggkrx091kd2g840000gn/T/tmp5rdzjyx2.lp\n",
      "Reading time = 0.00 seconds\n",
      ": 692 rows, 1411 columns, 6621 nonzeros\n",
      "Set parameter Username\n",
      "Set parameter LicenseID to value 2663970\n",
      "Academic license - for non-commercial use only - expires 2026-05-12\n",
      "Read LP format model from file /var/folders/6w/knrbtrj125ggkrx091kd2g840000gn/T/tmpbvclsk0i.lp\n",
      "Reading time = 0.00 seconds\n",
      ": 692 rows, 1411 columns, 6621 nonzeros\n",
      "Set parameter Username\n",
      "Set parameter LicenseID to value 2663970\n",
      "Academic license - for non-commercial use only - expires 2026-05-12\n",
      "Read LP format model from file /var/folders/6w/knrbtrj125ggkrx091kd2g840000gn/T/tmpj1w4t686.lp\n",
      "Reading time = 0.00 seconds\n",
      ": 692 rows, 1411 columns, 6621 nonzeros\n",
      "Set parameter Username\n",
      "Set parameter LicenseID to value 2663970\n",
      "Academic license - for non-commercial use only - expires 2026-05-12\n",
      "Read LP format model from file /var/folders/6w/knrbtrj125ggkrx091kd2g840000gn/T/tmpcfwdqka5.lp\n",
      "Reading time = 0.00 seconds\n",
      ": 692 rows, 1411 columns, 6621 nonzeros\n",
      "Set parameter Username\n",
      "Set parameter LicenseID to value 2663970\n",
      "Academic license - for non-commercial use only - expires 2026-05-12\n",
      "Read LP format model from file /var/folders/6w/knrbtrj125ggkrx091kd2g840000gn/T/tmp8bzljls5.lp\n",
      "Reading time = 0.00 seconds\n",
      ": 692 rows, 1411 columns, 6621 nonzeros\n",
      "Set parameter Username\n",
      "Set parameter LicenseID to value 2663970\n",
      "Academic license - for non-commercial use only - expires 2026-05-12\n",
      "Read LP format model from file /var/folders/6w/knrbtrj125ggkrx091kd2g840000gn/T/tmpgcqo26dx.lp\n",
      "Reading time = 0.00 seconds\n",
      ": 692 rows, 1411 columns, 6621 nonzeros\n",
      "Set parameter Username\n",
      "Set parameter LicenseID to value 2663970\n",
      "Academic license - for non-commercial use only - expires 2026-05-12\n",
      "Read LP format model from file /var/folders/6w/knrbtrj125ggkrx091kd2g840000gn/T/tmpl074ihdc.lp\n",
      "Reading time = 0.01 seconds\n",
      ": 692 rows, 1411 columns, 6621 nonzeros\n",
      "Set parameter Username\n",
      "Set parameter LicenseID to value 2663970\n",
      "Academic license - for non-commercial use only - expires 2026-05-12\n",
      "Read LP format model from file /var/folders/6w/knrbtrj125ggkrx091kd2g840000gn/T/tmptdokyxo3.lp\n",
      "Reading time = 0.00 seconds\n",
      ": 692 rows, 1411 columns, 6621 nonzeros\n",
      "Set parameter Username\n",
      "Set parameter LicenseID to value 2663970\n",
      "Academic license - for non-commercial use only - expires 2026-05-12\n",
      "Read LP format model from file /var/folders/6w/knrbtrj125ggkrx091kd2g840000gn/T/tmpfodvksuu.lp\n",
      "Reading time = 0.00 seconds\n",
      ": 692 rows, 1411 columns, 6621 nonzeros\n",
      "Set parameter Username\n",
      "Set parameter LicenseID to value 2663970\n",
      "Academic license - for non-commercial use only - expires 2026-05-12\n",
      "Read LP format model from file /var/folders/6w/knrbtrj125ggkrx091kd2g840000gn/T/tmpa7tv5kaz.lp\n",
      "Reading time = 0.00 seconds\n",
      ": 692 rows, 1411 columns, 6621 nonzeros\n",
      "Set parameter Username\n",
      "Set parameter LicenseID to value 2663970\n",
      "Academic license - for non-commercial use only - expires 2026-05-12\n",
      "Read LP format model from file /var/folders/6w/knrbtrj125ggkrx091kd2g840000gn/T/tmpm70rqob3.lp\n",
      "Reading time = 0.00 seconds\n",
      ": 692 rows, 1411 columns, 6621 nonzeros\n",
      "Set parameter Username\n",
      "Set parameter LicenseID to value 2663970\n",
      "Academic license - for non-commercial use only - expires 2026-05-12\n",
      "Read LP format model from file /var/folders/6w/knrbtrj125ggkrx091kd2g840000gn/T/tmpj0l92w_u.lp\n",
      "Reading time = 0.01 seconds\n",
      ": 692 rows, 1411 columns, 6621 nonzeros\n",
      "Set parameter Username\n",
      "Set parameter LicenseID to value 2663970\n",
      "Academic license - for non-commercial use only - expires 2026-05-12\n",
      "Read LP format model from file /var/folders/6w/knrbtrj125ggkrx091kd2g840000gn/T/tmplhi4qu_0.lp\n",
      "Reading time = 0.00 seconds\n",
      ": 692 rows, 1411 columns, 6621 nonzeros\n",
      "Set parameter Username\n",
      "Set parameter LicenseID to value 2663970\n",
      "Academic license - for non-commercial use only - expires 2026-05-12\n",
      "Read LP format model from file /var/folders/6w/knrbtrj125ggkrx091kd2g840000gn/T/tmpbt01jlsu.lp\n",
      "Reading time = 0.00 seconds\n",
      ": 692 rows, 1411 columns, 6621 nonzeros\n",
      "Read LP format model from file /var/folders/6w/knrbtrj125ggkrx091kd2g840000gn/T/tmpdle_ht5z.lp\n",
      "Reading time = 0.00 seconds\n",
      ": 688 rows, 1404 columns, 6586 nonzeros\n"
     ]
    },
    {
     "name": "stderr",
     "output_type": "stream",
     "text": [
      "Ignoring reaction 'rxn02879' since it already exists.\n"
     ]
    },
    {
     "name": "stdout",
     "output_type": "stream",
     "text": [
      "Set parameter Username\n",
      "Set parameter LicenseID to value 2663970\n",
      "Academic license - for non-commercial use only - expires 2026-05-12\n",
      "Read LP format model from file /var/folders/6w/knrbtrj125ggkrx091kd2g840000gn/T/tmpnwf5v0xp.lp\n",
      "Reading time = 0.00 seconds\n",
      ": 691 rows, 1409 columns, 6607 nonzeros\n",
      "Set parameter Username\n",
      "Set parameter LicenseID to value 2663970\n",
      "Academic license - for non-commercial use only - expires 2026-05-12\n",
      "Read LP format model from file /var/folders/6w/knrbtrj125ggkrx091kd2g840000gn/T/tmpt3udtjgd.lp\n",
      "Reading time = 0.00 seconds\n",
      ": 691 rows, 1409 columns, 6607 nonzeros\n",
      "Set parameter Username\n",
      "Set parameter LicenseID to value 2663970\n",
      "Academic license - for non-commercial use only - expires 2026-05-12\n",
      "Read LP format model from file /var/folders/6w/knrbtrj125ggkrx091kd2g840000gn/T/tmp5_0g7qo6.lp\n",
      "Reading time = 0.00 seconds\n",
      ": 691 rows, 1409 columns, 6607 nonzeros\n",
      "Set parameter Username\n",
      "Set parameter LicenseID to value 2663970\n",
      "Academic license - for non-commercial use only - expires 2026-05-12\n",
      "Read LP format model from file /var/folders/6w/knrbtrj125ggkrx091kd2g840000gn/T/tmphmld2iz9.lp\n",
      "Reading time = 0.00 seconds\n",
      ": 691 rows, 1409 columns, 6607 nonzeros\n",
      "Set parameter Username\n",
      "Set parameter LicenseID to value 2663970\n",
      "Academic license - for non-commercial use only - expires 2026-05-12\n",
      "Read LP format model from file /var/folders/6w/knrbtrj125ggkrx091kd2g840000gn/T/tmp7h08zlvj.lp\n",
      "Reading time = 0.00 seconds\n",
      ": 691 rows, 1409 columns, 6607 nonzeros\n",
      "Set parameter Username\n",
      "Set parameter LicenseID to value 2663970\n",
      "Academic license - for non-commercial use only - expires 2026-05-12\n",
      "Read LP format model from file /var/folders/6w/knrbtrj125ggkrx091kd2g840000gn/T/tmp1eut0sdq.lp\n",
      "Reading time = 0.00 seconds\n",
      ": 691 rows, 1409 columns, 6607 nonzeros\n",
      "Set parameter Username\n",
      "Set parameter LicenseID to value 2663970\n",
      "Academic license - for non-commercial use only - expires 2026-05-12\n",
      "Read LP format model from file /var/folders/6w/knrbtrj125ggkrx091kd2g840000gn/T/tmp1vv9n7dg.lp\n",
      "Reading time = 0.01 seconds\n",
      ": 691 rows, 1409 columns, 6607 nonzeros\n",
      "Set parameter Username\n",
      "Set parameter LicenseID to value 2663970\n",
      "Academic license - for non-commercial use only - expires 2026-05-12\n",
      "Read LP format model from file /var/folders/6w/knrbtrj125ggkrx091kd2g840000gn/T/tmpbbdqkyad.lp\n",
      "Reading time = 0.00 seconds\n",
      ": 691 rows, 1409 columns, 6607 nonzeros\n",
      "Set parameter Username\n",
      "Set parameter LicenseID to value 2663970\n",
      "Academic license - for non-commercial use only - expires 2026-05-12\n",
      "Read LP format model from file /var/folders/6w/knrbtrj125ggkrx091kd2g840000gn/T/tmpv2vgba5n.lp\n",
      "Reading time = 0.00 seconds\n",
      ": 691 rows, 1409 columns, 6607 nonzeros\n",
      "Set parameter Username\n",
      "Set parameter LicenseID to value 2663970\n",
      "Academic license - for non-commercial use only - expires 2026-05-12\n",
      "Read LP format model from file /var/folders/6w/knrbtrj125ggkrx091kd2g840000gn/T/tmp047r_p73.lp\n",
      "Reading time = 0.00 seconds\n",
      ": 691 rows, 1409 columns, 6607 nonzeros\n",
      "Set parameter Username\n",
      "Set parameter LicenseID to value 2663970\n",
      "Academic license - for non-commercial use only - expires 2026-05-12\n",
      "Read LP format model from file /var/folders/6w/knrbtrj125ggkrx091kd2g840000gn/T/tmp8zywpzqf.lp\n",
      "Reading time = 0.00 seconds\n",
      ": 691 rows, 1409 columns, 6607 nonzeros\n",
      "Set parameter Username\n",
      "Set parameter LicenseID to value 2663970\n",
      "Academic license - for non-commercial use only - expires 2026-05-12\n",
      "Read LP format model from file /var/folders/6w/knrbtrj125ggkrx091kd2g840000gn/T/tmpilj_rhqq.lp\n",
      "Reading time = 0.00 seconds\n",
      ": 691 rows, 1409 columns, 6607 nonzeros\n",
      "Set parameter Username\n",
      "Set parameter LicenseID to value 2663970\n",
      "Academic license - for non-commercial use only - expires 2026-05-12\n",
      "Read LP format model from file /var/folders/6w/knrbtrj125ggkrx091kd2g840000gn/T/tmpq5uoz15s.lp\n",
      "Reading time = 0.00 seconds\n",
      ": 691 rows, 1409 columns, 6607 nonzeros\n",
      "Set parameter Username\n",
      "Set parameter LicenseID to value 2663970\n",
      "Academic license - for non-commercial use only - expires 2026-05-12\n",
      "Read LP format model from file /var/folders/6w/knrbtrj125ggkrx091kd2g840000gn/T/tmppajtdhku.lp\n",
      "Reading time = 0.01 seconds\n",
      ": 691 rows, 1409 columns, 6607 nonzeros\n",
      "Read LP format model from file /var/folders/6w/knrbtrj125ggkrx091kd2g840000gn/T/tmpf96uvgsr.lp\n",
      "Reading time = 0.00 seconds\n",
      ": 688 rows, 1404 columns, 6586 nonzeros\n",
      "Set parameter Username\n",
      "Set parameter LicenseID to value 2663970\n",
      "Academic license - for non-commercial use only - expires 2026-05-12\n",
      "Read LP format model from file /var/folders/6w/knrbtrj125ggkrx091kd2g840000gn/T/tmpylzialrm.lp\n",
      "Reading time = 0.00 seconds\n",
      ": 691 rows, 1411 columns, 6621 nonzeros\n",
      "Set parameter Username\n",
      "Set parameter LicenseID to value 2663970\n",
      "Academic license - for non-commercial use only - expires 2026-05-12\n",
      "Read LP format model from file /var/folders/6w/knrbtrj125ggkrx091kd2g840000gn/T/tmpyroa_wu3.lp\n",
      "Reading time = 0.00 seconds\n",
      ": 691 rows, 1411 columns, 6621 nonzeros\n",
      "Set parameter Username\n",
      "Set parameter LicenseID to value 2663970\n",
      "Academic license - for non-commercial use only - expires 2026-05-12\n",
      "Read LP format model from file /var/folders/6w/knrbtrj125ggkrx091kd2g840000gn/T/tmpnclos8_5.lp\n",
      "Reading time = 0.00 seconds\n",
      ": 691 rows, 1411 columns, 6621 nonzeros\n",
      "Set parameter Username\n",
      "Set parameter LicenseID to value 2663970\n",
      "Academic license - for non-commercial use only - expires 2026-05-12\n",
      "Read LP format model from file /var/folders/6w/knrbtrj125ggkrx091kd2g840000gn/T/tmpx444ffon.lp\n",
      "Reading time = 0.00 seconds\n",
      ": 691 rows, 1411 columns, 6621 nonzeros\n",
      "Set parameter Username\n",
      "Set parameter LicenseID to value 2663970\n",
      "Academic license - for non-commercial use only - expires 2026-05-12\n",
      "Read LP format model from file /var/folders/6w/knrbtrj125ggkrx091kd2g840000gn/T/tmpigb043y2.lp\n",
      "Reading time = 0.00 seconds\n",
      ": 691 rows, 1411 columns, 6621 nonzeros\n",
      "Set parameter Username\n",
      "Set parameter LicenseID to value 2663970\n",
      "Academic license - for non-commercial use only - expires 2026-05-12\n",
      "Read LP format model from file /var/folders/6w/knrbtrj125ggkrx091kd2g840000gn/T/tmpp1lznabs.lp\n",
      "Reading time = 0.00 seconds\n",
      ": 691 rows, 1411 columns, 6621 nonzeros\n",
      "Set parameter Username\n",
      "Set parameter LicenseID to value 2663970\n",
      "Academic license - for non-commercial use only - expires 2026-05-12\n",
      "Read LP format model from file /var/folders/6w/knrbtrj125ggkrx091kd2g840000gn/T/tmpptt7mffy.lp\n",
      "Reading time = 0.00 seconds\n",
      ": 691 rows, 1411 columns, 6621 nonzeros\n",
      "Set parameter Username\n",
      "Set parameter LicenseID to value 2663970\n",
      "Academic license - for non-commercial use only - expires 2026-05-12\n",
      "Read LP format model from file /var/folders/6w/knrbtrj125ggkrx091kd2g840000gn/T/tmp6llrfiwq.lp\n",
      "Reading time = 0.00 seconds\n",
      ": 691 rows, 1411 columns, 6621 nonzeros\n",
      "Set parameter Username\n",
      "Set parameter LicenseID to value 2663970\n",
      "Academic license - for non-commercial use only - expires 2026-05-12\n",
      "Read LP format model from file /var/folders/6w/knrbtrj125ggkrx091kd2g840000gn/T/tmpn9hz7_nc.lp\n",
      "Reading time = 0.00 seconds\n",
      ": 691 rows, 1411 columns, 6621 nonzeros\n",
      "Set parameter Username\n",
      "Set parameter LicenseID to value 2663970\n",
      "Academic license - for non-commercial use only - expires 2026-05-12\n",
      "Read LP format model from file /var/folders/6w/knrbtrj125ggkrx091kd2g840000gn/T/tmp9l151omo.lp\n",
      "Reading time = 0.00 seconds\n",
      ": 691 rows, 1411 columns, 6621 nonzeros\n",
      "Set parameter Username\n",
      "Set parameter LicenseID to value 2663970\n",
      "Academic license - for non-commercial use only - expires 2026-05-12\n",
      "Read LP format model from file /var/folders/6w/knrbtrj125ggkrx091kd2g840000gn/T/tmptwosoap4.lp\n",
      "Reading time = 0.00 seconds\n",
      ": 691 rows, 1411 columns, 6621 nonzeros\n",
      "Set parameter Username\n",
      "Set parameter LicenseID to value 2663970\n",
      "Academic license - for non-commercial use only - expires 2026-05-12\n",
      "Read LP format model from file /var/folders/6w/knrbtrj125ggkrx091kd2g840000gn/T/tmpgtofug1z.lp\n",
      "Reading time = 0.00 seconds\n",
      ": 691 rows, 1411 columns, 6621 nonzeros\n",
      "Set parameter Username\n",
      "Set parameter LicenseID to value 2663970\n",
      "Academic license - for non-commercial use only - expires 2026-05-12\n",
      "Read LP format model from file /var/folders/6w/knrbtrj125ggkrx091kd2g840000gn/T/tmps_dfsx8i.lp\n",
      "Reading time = 0.00 seconds\n",
      ": 691 rows, 1411 columns, 6621 nonzeros\n",
      "Set parameter Username\n",
      "Set parameter LicenseID to value 2663970\n",
      "Academic license - for non-commercial use only - expires 2026-05-12\n",
      "Read LP format model from file /var/folders/6w/knrbtrj125ggkrx091kd2g840000gn/T/tmprm5anghc.lp\n",
      "Reading time = 0.00 seconds\n",
      ": 691 rows, 1411 columns, 6621 nonzeros\n",
      "Read LP format model from file /var/folders/6w/knrbtrj125ggkrx091kd2g840000gn/T/tmpgqijzjbx.lp\n",
      "Reading time = 0.00 seconds\n",
      ": 688 rows, 1404 columns, 6586 nonzeros\n",
      "Set parameter Username\n",
      "Set parameter LicenseID to value 2663970\n",
      "Academic license - for non-commercial use only - expires 2026-05-12\n",
      "Read LP format model from file /var/folders/6w/knrbtrj125ggkrx091kd2g840000gn/T/tmp4culznbr.lp\n",
      "Reading time = 0.00 seconds\n",
      ": 689 rows, 1411 columns, 6609 nonzeros\n",
      "Set parameter Username\n",
      "Set parameter LicenseID to value 2663970\n",
      "Academic license - for non-commercial use only - expires 2026-05-12\n",
      "Read LP format model from file /var/folders/6w/knrbtrj125ggkrx091kd2g840000gn/T/tmpdgymat27.lp\n",
      "Reading time = 0.00 seconds\n",
      ": 689 rows, 1411 columns, 6609 nonzeros\n",
      "Set parameter Username\n",
      "Set parameter LicenseID to value 2663970\n",
      "Academic license - for non-commercial use only - expires 2026-05-12\n",
      "Read LP format model from file /var/folders/6w/knrbtrj125ggkrx091kd2g840000gn/T/tmppd9aa1cv.lp\n",
      "Reading time = 0.00 seconds\n",
      ": 689 rows, 1411 columns, 6609 nonzeros\n",
      "Set parameter Username\n",
      "Set parameter LicenseID to value 2663970\n",
      "Academic license - for non-commercial use only - expires 2026-05-12\n",
      "Read LP format model from file /var/folders/6w/knrbtrj125ggkrx091kd2g840000gn/T/tmp9ytaap3o.lp\n",
      "Reading time = 0.00 seconds\n",
      ": 689 rows, 1411 columns, 6609 nonzeros\n",
      "Set parameter Username\n",
      "Set parameter LicenseID to value 2663970\n",
      "Academic license - for non-commercial use only - expires 2026-05-12\n",
      "Read LP format model from file /var/folders/6w/knrbtrj125ggkrx091kd2g840000gn/T/tmpukgty7x3.lp\n",
      "Reading time = 0.00 seconds\n",
      ": 689 rows, 1411 columns, 6609 nonzeros\n",
      "Set parameter Username\n",
      "Set parameter LicenseID to value 2663970\n",
      "Academic license - for non-commercial use only - expires 2026-05-12\n",
      "Read LP format model from file /var/folders/6w/knrbtrj125ggkrx091kd2g840000gn/T/tmp3r4gm4ip.lp\n",
      "Reading time = 0.00 seconds\n",
      ": 689 rows, 1411 columns, 6609 nonzeros\n",
      "Set parameter Username\n",
      "Set parameter LicenseID to value 2663970\n",
      "Academic license - for non-commercial use only - expires 2026-05-12\n",
      "Read LP format model from file /var/folders/6w/knrbtrj125ggkrx091kd2g840000gn/T/tmpa0rqm6z2.lp\n",
      "Reading time = 0.01 seconds\n",
      ": 689 rows, 1411 columns, 6609 nonzeros\n",
      "Set parameter Username\n",
      "Set parameter LicenseID to value 2663970\n",
      "Academic license - for non-commercial use only - expires 2026-05-12\n",
      "Read LP format model from file /var/folders/6w/knrbtrj125ggkrx091kd2g840000gn/T/tmpwmny5fv5.lp\n",
      "Reading time = 0.00 seconds\n",
      ": 689 rows, 1411 columns, 6609 nonzeros\n",
      "Set parameter Username\n",
      "Set parameter LicenseID to value 2663970\n",
      "Academic license - for non-commercial use only - expires 2026-05-12\n",
      "Read LP format model from file /var/folders/6w/knrbtrj125ggkrx091kd2g840000gn/T/tmpbj83abei.lp\n",
      "Reading time = 0.00 seconds\n",
      ": 689 rows, 1411 columns, 6609 nonzeros\n",
      "Set parameter Username\n",
      "Set parameter LicenseID to value 2663970\n",
      "Academic license - for non-commercial use only - expires 2026-05-12\n",
      "Read LP format model from file /var/folders/6w/knrbtrj125ggkrx091kd2g840000gn/T/tmpujbo03pr.lp\n",
      "Reading time = 0.00 seconds\n",
      ": 689 rows, 1411 columns, 6609 nonzeros\n",
      "Set parameter Username\n",
      "Set parameter LicenseID to value 2663970\n",
      "Academic license - for non-commercial use only - expires 2026-05-12\n",
      "Read LP format model from file /var/folders/6w/knrbtrj125ggkrx091kd2g840000gn/T/tmp708l_092.lp\n",
      "Reading time = 0.00 seconds\n",
      ": 689 rows, 1411 columns, 6609 nonzeros\n",
      "Set parameter Username\n",
      "Set parameter LicenseID to value 2663970\n",
      "Academic license - for non-commercial use only - expires 2026-05-12\n",
      "Read LP format model from file /var/folders/6w/knrbtrj125ggkrx091kd2g840000gn/T/tmpyporubcg.lp\n",
      "Reading time = 0.00 seconds\n",
      ": 689 rows, 1411 columns, 6609 nonzeros\n",
      "Set parameter Username\n",
      "Set parameter LicenseID to value 2663970\n",
      "Academic license - for non-commercial use only - expires 2026-05-12\n",
      "Read LP format model from file /var/folders/6w/knrbtrj125ggkrx091kd2g840000gn/T/tmpe3mv_zfp.lp\n",
      "Reading time = 0.00 seconds\n",
      ": 689 rows, 1411 columns, 6609 nonzeros\n",
      "Set parameter Username\n",
      "Set parameter LicenseID to value 2663970\n",
      "Academic license - for non-commercial use only - expires 2026-05-12\n",
      "Read LP format model from file /var/folders/6w/knrbtrj125ggkrx091kd2g840000gn/T/tmpev7o_wy7.lp\n",
      "Reading time = 0.00 seconds\n",
      ": 689 rows, 1411 columns, 6609 nonzeros\n",
      "Read LP format model from file /var/folders/6w/knrbtrj125ggkrx091kd2g840000gn/T/tmptrzimk82.lp\n",
      "Reading time = 0.00 seconds\n",
      ": 688 rows, 1404 columns, 6586 nonzeros\n",
      "Set parameter Username\n",
      "Set parameter LicenseID to value 2663970\n",
      "Academic license - for non-commercial use only - expires 2026-05-12\n",
      "Read LP format model from file /var/folders/6w/knrbtrj125ggkrx091kd2g840000gn/T/tmp2md7xapd.lp\n",
      "Reading time = 0.00 seconds\n",
      ": 691 rows, 1411 columns, 6617 nonzeros\n",
      "Set parameter Username\n",
      "Set parameter LicenseID to value 2663970\n",
      "Academic license - for non-commercial use only - expires 2026-05-12\n",
      "Read LP format model from file /var/folders/6w/knrbtrj125ggkrx091kd2g840000gn/T/tmph3_s2e8j.lp\n",
      "Reading time = 0.01 seconds\n",
      ": 691 rows, 1411 columns, 6617 nonzeros\n",
      "Set parameter Username\n",
      "Set parameter LicenseID to value 2663970\n",
      "Academic license - for non-commercial use only - expires 2026-05-12\n",
      "Read LP format model from file /var/folders/6w/knrbtrj125ggkrx091kd2g840000gn/T/tmpdogyu6p5.lp\n",
      "Reading time = 0.00 seconds\n",
      ": 691 rows, 1411 columns, 6617 nonzeros\n",
      "Set parameter Username\n",
      "Set parameter LicenseID to value 2663970\n",
      "Academic license - for non-commercial use only - expires 2026-05-12\n",
      "Read LP format model from file /var/folders/6w/knrbtrj125ggkrx091kd2g840000gn/T/tmpjrhnz_ns.lp\n",
      "Reading time = 0.00 seconds\n",
      ": 691 rows, 1411 columns, 6617 nonzeros\n",
      "Set parameter Username\n",
      "Set parameter LicenseID to value 2663970\n",
      "Academic license - for non-commercial use only - expires 2026-05-12\n",
      "Read LP format model from file /var/folders/6w/knrbtrj125ggkrx091kd2g840000gn/T/tmp4bypqwbj.lp\n",
      "Reading time = 0.00 seconds\n",
      ": 691 rows, 1411 columns, 6617 nonzeros\n",
      "Set parameter Username\n",
      "Set parameter LicenseID to value 2663970\n",
      "Academic license - for non-commercial use only - expires 2026-05-12\n",
      "Read LP format model from file /var/folders/6w/knrbtrj125ggkrx091kd2g840000gn/T/tmp5b2lkdr3.lp\n",
      "Reading time = 0.00 seconds\n",
      ": 691 rows, 1411 columns, 6617 nonzeros\n",
      "Set parameter Username\n",
      "Set parameter LicenseID to value 2663970\n",
      "Academic license - for non-commercial use only - expires 2026-05-12\n",
      "Read LP format model from file /var/folders/6w/knrbtrj125ggkrx091kd2g840000gn/T/tmpljur00aq.lp\n",
      "Reading time = 0.00 seconds\n",
      ": 691 rows, 1411 columns, 6617 nonzeros\n",
      "Set parameter Username\n",
      "Set parameter LicenseID to value 2663970\n",
      "Academic license - for non-commercial use only - expires 2026-05-12\n",
      "Read LP format model from file /var/folders/6w/knrbtrj125ggkrx091kd2g840000gn/T/tmpjg0b6mo3.lp\n",
      "Reading time = 0.00 seconds\n",
      ": 691 rows, 1411 columns, 6617 nonzeros\n",
      "Set parameter Username\n",
      "Set parameter LicenseID to value 2663970\n",
      "Academic license - for non-commercial use only - expires 2026-05-12\n",
      "Read LP format model from file /var/folders/6w/knrbtrj125ggkrx091kd2g840000gn/T/tmplry4na9_.lp\n",
      "Reading time = 0.00 seconds\n",
      ": 691 rows, 1411 columns, 6617 nonzeros\n",
      "Set parameter Username\n",
      "Set parameter LicenseID to value 2663970\n",
      "Academic license - for non-commercial use only - expires 2026-05-12\n",
      "Read LP format model from file /var/folders/6w/knrbtrj125ggkrx091kd2g840000gn/T/tmpu33goc6m.lp\n",
      "Reading time = 0.00 seconds\n",
      ": 691 rows, 1411 columns, 6617 nonzeros\n",
      "Set parameter Username\n",
      "Set parameter LicenseID to value 2663970\n",
      "Academic license - for non-commercial use only - expires 2026-05-12\n",
      "Read LP format model from file /var/folders/6w/knrbtrj125ggkrx091kd2g840000gn/T/tmp2kdrlusw.lp\n",
      "Reading time = 0.00 seconds\n",
      ": 691 rows, 1411 columns, 6617 nonzeros\n",
      "Set parameter Username\n",
      "Set parameter LicenseID to value 2663970\n",
      "Academic license - for non-commercial use only - expires 2026-05-12\n",
      "Read LP format model from file /var/folders/6w/knrbtrj125ggkrx091kd2g840000gn/T/tmpf6ul98kw.lp\n",
      "Reading time = 0.00 seconds\n",
      ": 691 rows, 1411 columns, 6617 nonzeros\n",
      "Set parameter Username\n",
      "Set parameter LicenseID to value 2663970\n",
      "Academic license - for non-commercial use only - expires 2026-05-12\n",
      "Read LP format model from file /var/folders/6w/knrbtrj125ggkrx091kd2g840000gn/T/tmpvkuilns0.lp\n",
      "Reading time = 0.00 seconds\n",
      ": 691 rows, 1411 columns, 6617 nonzeros\n",
      "Set parameter Username\n",
      "Set parameter LicenseID to value 2663970\n",
      "Academic license - for non-commercial use only - expires 2026-05-12\n",
      "Read LP format model from file /var/folders/6w/knrbtrj125ggkrx091kd2g840000gn/T/tmprddg68b8.lp\n",
      "Reading time = 0.01 seconds\n",
      ": 691 rows, 1411 columns, 6617 nonzeros\n",
      "Read LP format model from file /var/folders/6w/knrbtrj125ggkrx091kd2g840000gn/T/tmpeucuo118.lp\n",
      "Reading time = 0.01 seconds\n",
      ": 688 rows, 1404 columns, 6586 nonzeros\n",
      "Set parameter Username\n",
      "Set parameter LicenseID to value 2663970\n",
      "Academic license - for non-commercial use only - expires 2026-05-12\n",
      "Read LP format model from file /var/folders/6w/knrbtrj125ggkrx091kd2g840000gn/T/tmpe67kb121.lp\n",
      "Reading time = 0.00 seconds\n",
      ": 692 rows, 1411 columns, 6615 nonzeros\n",
      "Set parameter Username\n",
      "Set parameter LicenseID to value 2663970\n",
      "Academic license - for non-commercial use only - expires 2026-05-12\n",
      "Read LP format model from file /var/folders/6w/knrbtrj125ggkrx091kd2g840000gn/T/tmp3ef4i_y9.lp\n",
      "Reading time = 0.00 seconds\n",
      ": 692 rows, 1411 columns, 6615 nonzeros\n",
      "Set parameter Username\n",
      "Set parameter LicenseID to value 2663970\n",
      "Academic license - for non-commercial use only - expires 2026-05-12\n",
      "Read LP format model from file /var/folders/6w/knrbtrj125ggkrx091kd2g840000gn/T/tmpfstrw9pc.lp\n",
      "Reading time = 0.00 seconds\n",
      ": 692 rows, 1411 columns, 6615 nonzeros\n",
      "Set parameter Username\n",
      "Set parameter LicenseID to value 2663970\n",
      "Academic license - for non-commercial use only - expires 2026-05-12\n",
      "Read LP format model from file /var/folders/6w/knrbtrj125ggkrx091kd2g840000gn/T/tmptsl10ib0.lp\n",
      "Reading time = 0.00 seconds\n",
      ": 692 rows, 1411 columns, 6615 nonzeros\n",
      "Set parameter Username\n",
      "Set parameter LicenseID to value 2663970\n",
      "Academic license - for non-commercial use only - expires 2026-05-12\n",
      "Read LP format model from file /var/folders/6w/knrbtrj125ggkrx091kd2g840000gn/T/tmpuxui45ad.lp\n",
      "Reading time = 0.00 seconds\n",
      ": 692 rows, 1411 columns, 6615 nonzeros\n",
      "Set parameter Username\n",
      "Set parameter LicenseID to value 2663970\n",
      "Academic license - for non-commercial use only - expires 2026-05-12\n",
      "Read LP format model from file /var/folders/6w/knrbtrj125ggkrx091kd2g840000gn/T/tmpt7qsbihy.lp\n",
      "Reading time = 0.00 seconds\n",
      ": 692 rows, 1411 columns, 6615 nonzeros\n",
      "Set parameter Username\n",
      "Set parameter LicenseID to value 2663970\n",
      "Academic license - for non-commercial use only - expires 2026-05-12\n",
      "Read LP format model from file /var/folders/6w/knrbtrj125ggkrx091kd2g840000gn/T/tmpaqql5chi.lp\n",
      "Reading time = 0.00 seconds\n",
      ": 692 rows, 1411 columns, 6615 nonzeros\n",
      "Set parameter Username\n",
      "Set parameter LicenseID to value 2663970\n",
      "Academic license - for non-commercial use only - expires 2026-05-12\n",
      "Read LP format model from file /var/folders/6w/knrbtrj125ggkrx091kd2g840000gn/T/tmpgfi2z7j5.lp\n",
      "Reading time = 0.00 seconds\n",
      ": 692 rows, 1411 columns, 6615 nonzeros\n",
      "Set parameter Username\n",
      "Set parameter LicenseID to value 2663970\n",
      "Academic license - for non-commercial use only - expires 2026-05-12\n",
      "Read LP format model from file /var/folders/6w/knrbtrj125ggkrx091kd2g840000gn/T/tmpe3uxwptf.lp\n",
      "Reading time = 0.00 seconds\n",
      ": 692 rows, 1411 columns, 6615 nonzeros\n",
      "Set parameter Username\n",
      "Set parameter LicenseID to value 2663970\n",
      "Academic license - for non-commercial use only - expires 2026-05-12\n",
      "Read LP format model from file /var/folders/6w/knrbtrj125ggkrx091kd2g840000gn/T/tmpfqatjpg_.lp\n",
      "Reading time = 0.00 seconds\n",
      ": 692 rows, 1411 columns, 6615 nonzeros\n",
      "Set parameter Username\n",
      "Set parameter LicenseID to value 2663970\n",
      "Academic license - for non-commercial use only - expires 2026-05-12\n",
      "Read LP format model from file /var/folders/6w/knrbtrj125ggkrx091kd2g840000gn/T/tmpz_hpn9l5.lp\n",
      "Reading time = 0.00 seconds\n",
      ": 692 rows, 1411 columns, 6615 nonzeros\n",
      "Set parameter Username\n",
      "Set parameter LicenseID to value 2663970\n",
      "Academic license - for non-commercial use only - expires 2026-05-12\n",
      "Read LP format model from file /var/folders/6w/knrbtrj125ggkrx091kd2g840000gn/T/tmp88x_tzdf.lp\n",
      "Reading time = 0.00 seconds\n",
      ": 692 rows, 1411 columns, 6615 nonzeros\n",
      "Set parameter Username\n",
      "Set parameter LicenseID to value 2663970\n",
      "Academic license - for non-commercial use only - expires 2026-05-12\n",
      "Read LP format model from file /var/folders/6w/knrbtrj125ggkrx091kd2g840000gn/T/tmp9b8a995z.lp\n",
      "Reading time = 0.00 seconds\n",
      ": 692 rows, 1411 columns, 6615 nonzeros\n",
      "Set parameter Username\n",
      "Set parameter LicenseID to value 2663970\n",
      "Academic license - for non-commercial use only - expires 2026-05-12\n",
      "Read LP format model from file /var/folders/6w/knrbtrj125ggkrx091kd2g840000gn/T/tmpxornf2_7.lp\n",
      "Reading time = 0.00 seconds\n",
      ": 692 rows, 1411 columns, 6615 nonzeros\n",
      "Read LP format model from file /var/folders/6w/knrbtrj125ggkrx091kd2g840000gn/T/tmp3a0409ex.lp\n",
      "Reading time = 0.00 seconds\n",
      ": 688 rows, 1404 columns, 6586 nonzeros\n"
     ]
    },
    {
     "name": "stderr",
     "output_type": "stream",
     "text": [
      "Ignoring reaction 'rxn38354' since it already exists.\n"
     ]
    },
    {
     "name": "stdout",
     "output_type": "stream",
     "text": [
      "Set parameter Username\n",
      "Set parameter LicenseID to value 2663970\n",
      "Academic license - for non-commercial use only - expires 2026-05-12\n",
      "Read LP format model from file /var/folders/6w/knrbtrj125ggkrx091kd2g840000gn/T/tmpl47t6iw4.lp\n",
      "Reading time = 0.00 seconds\n",
      ": 691 rows, 1409 columns, 6607 nonzeros\n",
      "Set parameter Username\n",
      "Set parameter LicenseID to value 2663970\n",
      "Academic license - for non-commercial use only - expires 2026-05-12\n",
      "Read LP format model from file /var/folders/6w/knrbtrj125ggkrx091kd2g840000gn/T/tmpzh6j_0e0.lp\n",
      "Reading time = 0.00 seconds\n",
      ": 691 rows, 1409 columns, 6607 nonzeros\n",
      "Set parameter Username\n",
      "Set parameter LicenseID to value 2663970\n",
      "Academic license - for non-commercial use only - expires 2026-05-12\n",
      "Read LP format model from file /var/folders/6w/knrbtrj125ggkrx091kd2g840000gn/T/tmpynits1d1.lp\n",
      "Reading time = 0.00 seconds\n",
      ": 691 rows, 1409 columns, 6607 nonzeros\n",
      "Set parameter Username\n",
      "Set parameter LicenseID to value 2663970\n",
      "Academic license - for non-commercial use only - expires 2026-05-12\n",
      "Read LP format model from file /var/folders/6w/knrbtrj125ggkrx091kd2g840000gn/T/tmpzq3uryoe.lp\n",
      "Reading time = 0.00 seconds\n",
      ": 691 rows, 1409 columns, 6607 nonzeros\n",
      "Set parameter Username\n",
      "Set parameter LicenseID to value 2663970\n",
      "Academic license - for non-commercial use only - expires 2026-05-12\n",
      "Read LP format model from file /var/folders/6w/knrbtrj125ggkrx091kd2g840000gn/T/tmplg8u5r9c.lp\n",
      "Reading time = 0.00 seconds\n",
      ": 691 rows, 1409 columns, 6607 nonzeros\n",
      "Set parameter Username\n",
      "Set parameter LicenseID to value 2663970\n",
      "Academic license - for non-commercial use only - expires 2026-05-12\n",
      "Read LP format model from file /var/folders/6w/knrbtrj125ggkrx091kd2g840000gn/T/tmpq7bi0i8g.lp\n",
      "Reading time = 0.00 seconds\n",
      ": 691 rows, 1409 columns, 6607 nonzeros\n",
      "Set parameter Username\n",
      "Set parameter LicenseID to value 2663970\n",
      "Academic license - for non-commercial use only - expires 2026-05-12\n",
      "Read LP format model from file /var/folders/6w/knrbtrj125ggkrx091kd2g840000gn/T/tmpq_zrmeiw.lp\n",
      "Reading time = 0.00 seconds\n",
      ": 691 rows, 1409 columns, 6607 nonzeros\n",
      "Set parameter Username\n",
      "Set parameter LicenseID to value 2663970\n",
      "Academic license - for non-commercial use only - expires 2026-05-12\n",
      "Read LP format model from file /var/folders/6w/knrbtrj125ggkrx091kd2g840000gn/T/tmp8x66p_63.lp\n",
      "Reading time = 0.00 seconds\n",
      ": 691 rows, 1409 columns, 6607 nonzeros\n",
      "Set parameter Username\n",
      "Set parameter LicenseID to value 2663970\n",
      "Academic license - for non-commercial use only - expires 2026-05-12\n",
      "Read LP format model from file /var/folders/6w/knrbtrj125ggkrx091kd2g840000gn/T/tmpf723fh9r.lp\n",
      "Reading time = 0.00 seconds\n",
      ": 691 rows, 1409 columns, 6607 nonzeros\n",
      "Set parameter Username\n",
      "Set parameter LicenseID to value 2663970\n",
      "Academic license - for non-commercial use only - expires 2026-05-12\n",
      "Read LP format model from file /var/folders/6w/knrbtrj125ggkrx091kd2g840000gn/T/tmphyleuhs8.lp\n",
      "Reading time = 0.00 seconds\n",
      ": 691 rows, 1409 columns, 6607 nonzeros\n",
      "Set parameter Username\n",
      "Set parameter LicenseID to value 2663970\n",
      "Academic license - for non-commercial use only - expires 2026-05-12\n",
      "Read LP format model from file /var/folders/6w/knrbtrj125ggkrx091kd2g840000gn/T/tmpjwgncp1z.lp\n",
      "Reading time = 0.00 seconds\n",
      ": 691 rows, 1409 columns, 6607 nonzeros\n",
      "Set parameter Username\n",
      "Set parameter LicenseID to value 2663970\n",
      "Academic license - for non-commercial use only - expires 2026-05-12\n",
      "Read LP format model from file /var/folders/6w/knrbtrj125ggkrx091kd2g840000gn/T/tmpwhgc5z4m.lp\n",
      "Reading time = 0.00 seconds\n",
      ": 691 rows, 1409 columns, 6607 nonzeros\n",
      "Set parameter Username\n",
      "Set parameter LicenseID to value 2663970\n",
      "Academic license - for non-commercial use only - expires 2026-05-12\n",
      "Read LP format model from file /var/folders/6w/knrbtrj125ggkrx091kd2g840000gn/T/tmpgrjzr64t.lp\n",
      "Reading time = 0.00 seconds\n",
      ": 691 rows, 1409 columns, 6607 nonzeros\n",
      "Set parameter Username\n",
      "Set parameter LicenseID to value 2663970\n",
      "Academic license - for non-commercial use only - expires 2026-05-12\n",
      "Read LP format model from file /var/folders/6w/knrbtrj125ggkrx091kd2g840000gn/T/tmpp5cy83kz.lp\n",
      "Reading time = 0.00 seconds\n",
      ": 691 rows, 1409 columns, 6607 nonzeros\n",
      "Read LP format model from file /var/folders/6w/knrbtrj125ggkrx091kd2g840000gn/T/tmphyqph01f.lp\n",
      "Reading time = 0.00 seconds\n",
      ": 688 rows, 1404 columns, 6586 nonzeros\n",
      "Set parameter Username\n",
      "Set parameter LicenseID to value 2663970\n",
      "Academic license - for non-commercial use only - expires 2026-05-12\n",
      "Read LP format model from file /var/folders/6w/knrbtrj125ggkrx091kd2g840000gn/T/tmp8di4vrrb.lp\n",
      "Reading time = 0.00 seconds\n",
      ": 691 rows, 1411 columns, 6619 nonzeros\n",
      "Set parameter Username\n",
      "Set parameter LicenseID to value 2663970\n",
      "Academic license - for non-commercial use only - expires 2026-05-12\n",
      "Read LP format model from file /var/folders/6w/knrbtrj125ggkrx091kd2g840000gn/T/tmpqtx9993r.lp\n",
      "Reading time = 0.00 seconds\n",
      ": 691 rows, 1411 columns, 6619 nonzeros\n",
      "Set parameter Username\n",
      "Set parameter LicenseID to value 2663970\n",
      "Academic license - for non-commercial use only - expires 2026-05-12\n",
      "Read LP format model from file /var/folders/6w/knrbtrj125ggkrx091kd2g840000gn/T/tmpifetnd56.lp\n",
      "Reading time = 0.00 seconds\n",
      ": 691 rows, 1411 columns, 6619 nonzeros\n",
      "Set parameter Username\n",
      "Set parameter LicenseID to value 2663970\n",
      "Academic license - for non-commercial use only - expires 2026-05-12\n",
      "Read LP format model from file /var/folders/6w/knrbtrj125ggkrx091kd2g840000gn/T/tmptu932wks.lp\n",
      "Reading time = 0.00 seconds\n",
      ": 691 rows, 1411 columns, 6619 nonzeros\n",
      "Set parameter Username\n",
      "Set parameter LicenseID to value 2663970\n",
      "Academic license - for non-commercial use only - expires 2026-05-12\n",
      "Read LP format model from file /var/folders/6w/knrbtrj125ggkrx091kd2g840000gn/T/tmp_ie9hzxu.lp\n",
      "Reading time = 0.00 seconds\n",
      ": 691 rows, 1411 columns, 6619 nonzeros\n",
      "Set parameter Username\n",
      "Set parameter LicenseID to value 2663970\n",
      "Academic license - for non-commercial use only - expires 2026-05-12\n",
      "Read LP format model from file /var/folders/6w/knrbtrj125ggkrx091kd2g840000gn/T/tmpn53d1xlx.lp\n",
      "Reading time = 0.00 seconds\n",
      ": 691 rows, 1411 columns, 6619 nonzeros\n",
      "Set parameter Username\n",
      "Set parameter LicenseID to value 2663970\n",
      "Academic license - for non-commercial use only - expires 2026-05-12\n",
      "Read LP format model from file /var/folders/6w/knrbtrj125ggkrx091kd2g840000gn/T/tmp3ascjinf.lp\n",
      "Reading time = 0.01 seconds\n",
      ": 691 rows, 1411 columns, 6619 nonzeros\n",
      "Set parameter Username\n",
      "Set parameter LicenseID to value 2663970\n",
      "Academic license - for non-commercial use only - expires 2026-05-12\n",
      "Read LP format model from file /var/folders/6w/knrbtrj125ggkrx091kd2g840000gn/T/tmptg5d_qur.lp\n",
      "Reading time = 0.00 seconds\n",
      ": 691 rows, 1411 columns, 6619 nonzeros\n",
      "Set parameter Username\n",
      "Set parameter LicenseID to value 2663970\n",
      "Academic license - for non-commercial use only - expires 2026-05-12\n",
      "Read LP format model from file /var/folders/6w/knrbtrj125ggkrx091kd2g840000gn/T/tmpdzkp7vl3.lp\n",
      "Reading time = 0.00 seconds\n",
      ": 691 rows, 1411 columns, 6619 nonzeros\n",
      "Set parameter Username\n",
      "Set parameter LicenseID to value 2663970\n",
      "Academic license - for non-commercial use only - expires 2026-05-12\n",
      "Read LP format model from file /var/folders/6w/knrbtrj125ggkrx091kd2g840000gn/T/tmpfzkmp1fz.lp\n",
      "Reading time = 0.00 seconds\n",
      ": 691 rows, 1411 columns, 6619 nonzeros\n",
      "Set parameter Username\n",
      "Set parameter LicenseID to value 2663970\n",
      "Academic license - for non-commercial use only - expires 2026-05-12\n",
      "Read LP format model from file /var/folders/6w/knrbtrj125ggkrx091kd2g840000gn/T/tmpsv0zgfby.lp\n",
      "Reading time = 0.00 seconds\n",
      ": 691 rows, 1411 columns, 6619 nonzeros\n",
      "Set parameter Username\n",
      "Set parameter LicenseID to value 2663970\n",
      "Academic license - for non-commercial use only - expires 2026-05-12\n",
      "Read LP format model from file /var/folders/6w/knrbtrj125ggkrx091kd2g840000gn/T/tmpznabmlym.lp\n",
      "Reading time = 0.00 seconds\n",
      ": 691 rows, 1411 columns, 6619 nonzeros\n",
      "Set parameter Username\n",
      "Set parameter LicenseID to value 2663970\n",
      "Academic license - for non-commercial use only - expires 2026-05-12\n",
      "Read LP format model from file /var/folders/6w/knrbtrj125ggkrx091kd2g840000gn/T/tmpdezlqyh_.lp\n",
      "Reading time = 0.00 seconds\n",
      ": 691 rows, 1411 columns, 6619 nonzeros\n",
      "Set parameter Username\n",
      "Set parameter LicenseID to value 2663970\n",
      "Academic license - for non-commercial use only - expires 2026-05-12\n",
      "Read LP format model from file /var/folders/6w/knrbtrj125ggkrx091kd2g840000gn/T/tmpwjl34guf.lp\n",
      "Reading time = 0.01 seconds\n",
      ": 691 rows, 1411 columns, 6619 nonzeros\n",
      "Read LP format model from file /var/folders/6w/knrbtrj125ggkrx091kd2g840000gn/T/tmp9dr4uzuq.lp\n",
      "Reading time = 0.00 seconds\n",
      ": 688 rows, 1404 columns, 6586 nonzeros\n",
      "Set parameter Username\n",
      "Set parameter LicenseID to value 2663970\n",
      "Academic license - for non-commercial use only - expires 2026-05-12\n",
      "Read LP format model from file /var/folders/6w/knrbtrj125ggkrx091kd2g840000gn/T/tmp9pvzg_xv.lp\n",
      "Reading time = 0.00 seconds\n",
      ": 693 rows, 1411 columns, 6617 nonzeros\n",
      "Set parameter Username\n",
      "Set parameter LicenseID to value 2663970\n",
      "Academic license - for non-commercial use only - expires 2026-05-12\n",
      "Read LP format model from file /var/folders/6w/knrbtrj125ggkrx091kd2g840000gn/T/tmpzu4cf9jh.lp\n",
      "Reading time = 0.00 seconds\n",
      ": 693 rows, 1411 columns, 6617 nonzeros\n",
      "Set parameter Username\n",
      "Set parameter LicenseID to value 2663970\n",
      "Academic license - for non-commercial use only - expires 2026-05-12\n",
      "Read LP format model from file /var/folders/6w/knrbtrj125ggkrx091kd2g840000gn/T/tmpg298xkmh.lp\n",
      "Reading time = 0.00 seconds\n",
      ": 693 rows, 1411 columns, 6617 nonzeros\n",
      "Set parameter Username\n",
      "Set parameter LicenseID to value 2663970\n",
      "Academic license - for non-commercial use only - expires 2026-05-12\n",
      "Read LP format model from file /var/folders/6w/knrbtrj125ggkrx091kd2g840000gn/T/tmp5bid_9gp.lp\n",
      "Reading time = 0.00 seconds\n",
      ": 693 rows, 1411 columns, 6617 nonzeros\n",
      "Set parameter Username\n",
      "Set parameter LicenseID to value 2663970\n",
      "Academic license - for non-commercial use only - expires 2026-05-12\n",
      "Read LP format model from file /var/folders/6w/knrbtrj125ggkrx091kd2g840000gn/T/tmpxfuoo08o.lp\n",
      "Reading time = 0.00 seconds\n",
      ": 693 rows, 1411 columns, 6617 nonzeros\n",
      "Set parameter Username\n",
      "Set parameter LicenseID to value 2663970\n",
      "Academic license - for non-commercial use only - expires 2026-05-12\n",
      "Read LP format model from file /var/folders/6w/knrbtrj125ggkrx091kd2g840000gn/T/tmpflw267ge.lp\n",
      "Reading time = 0.00 seconds\n",
      ": 693 rows, 1411 columns, 6617 nonzeros\n",
      "Set parameter Username\n",
      "Set parameter LicenseID to value 2663970\n",
      "Academic license - for non-commercial use only - expires 2026-05-12\n",
      "Read LP format model from file /var/folders/6w/knrbtrj125ggkrx091kd2g840000gn/T/tmp6f2z6rvr.lp\n",
      "Reading time = 0.00 seconds\n",
      ": 693 rows, 1411 columns, 6617 nonzeros\n",
      "Set parameter Username\n",
      "Set parameter LicenseID to value 2663970\n",
      "Academic license - for non-commercial use only - expires 2026-05-12\n",
      "Read LP format model from file /var/folders/6w/knrbtrj125ggkrx091kd2g840000gn/T/tmph_2b6k_0.lp\n",
      "Reading time = 0.00 seconds\n",
      ": 693 rows, 1411 columns, 6617 nonzeros\n",
      "Set parameter Username\n",
      "Set parameter LicenseID to value 2663970\n",
      "Academic license - for non-commercial use only - expires 2026-05-12\n",
      "Read LP format model from file /var/folders/6w/knrbtrj125ggkrx091kd2g840000gn/T/tmpyu6ukit8.lp\n",
      "Reading time = 0.00 seconds\n",
      ": 693 rows, 1411 columns, 6617 nonzeros\n",
      "Set parameter Username\n",
      "Set parameter LicenseID to value 2663970\n",
      "Academic license - for non-commercial use only - expires 2026-05-12\n",
      "Read LP format model from file /var/folders/6w/knrbtrj125ggkrx091kd2g840000gn/T/tmpldpb5e34.lp\n",
      "Reading time = 0.00 seconds\n",
      ": 693 rows, 1411 columns, 6617 nonzeros\n",
      "Set parameter Username\n",
      "Set parameter LicenseID to value 2663970\n",
      "Academic license - for non-commercial use only - expires 2026-05-12\n",
      "Read LP format model from file /var/folders/6w/knrbtrj125ggkrx091kd2g840000gn/T/tmpt0ddwh8c.lp\n",
      "Reading time = 0.00 seconds\n",
      ": 693 rows, 1411 columns, 6617 nonzeros\n",
      "Set parameter Username\n",
      "Set parameter LicenseID to value 2663970\n",
      "Academic license - for non-commercial use only - expires 2026-05-12\n",
      "Read LP format model from file /var/folders/6w/knrbtrj125ggkrx091kd2g840000gn/T/tmp3ph8l9cu.lp\n",
      "Reading time = 0.00 seconds\n",
      ": 693 rows, 1411 columns, 6617 nonzeros\n",
      "Set parameter Username\n",
      "Set parameter LicenseID to value 2663970\n",
      "Academic license - for non-commercial use only - expires 2026-05-12\n",
      "Read LP format model from file /var/folders/6w/knrbtrj125ggkrx091kd2g840000gn/T/tmpa5vl1fir.lp\n",
      "Reading time = 0.00 seconds\n",
      ": 693 rows, 1411 columns, 6617 nonzeros\n",
      "Set parameter Username\n",
      "Set parameter LicenseID to value 2663970\n",
      "Academic license - for non-commercial use only - expires 2026-05-12\n",
      "Read LP format model from file /var/folders/6w/knrbtrj125ggkrx091kd2g840000gn/T/tmpfg9iy2ma.lp\n",
      "Reading time = 0.00 seconds\n",
      ": 693 rows, 1411 columns, 6617 nonzeros\n",
      "Read LP format model from file /var/folders/6w/knrbtrj125ggkrx091kd2g840000gn/T/tmplx8inon9.lp\n",
      "Reading time = 0.00 seconds\n",
      ": 688 rows, 1404 columns, 6586 nonzeros\n",
      "Set parameter Username\n",
      "Set parameter LicenseID to value 2663970\n",
      "Academic license - for non-commercial use only - expires 2026-05-12\n",
      "Read LP format model from file /var/folders/6w/knrbtrj125ggkrx091kd2g840000gn/T/tmpgcsggdmq.lp\n",
      "Reading time = 0.00 seconds\n",
      ": 691 rows, 1411 columns, 6621 nonzeros\n",
      "Set parameter Username\n",
      "Set parameter LicenseID to value 2663970\n",
      "Academic license - for non-commercial use only - expires 2026-05-12\n",
      "Read LP format model from file /var/folders/6w/knrbtrj125ggkrx091kd2g840000gn/T/tmpylg0ytwu.lp\n",
      "Reading time = 0.00 seconds\n",
      ": 691 rows, 1411 columns, 6621 nonzeros\n",
      "Set parameter Username\n",
      "Set parameter LicenseID to value 2663970\n",
      "Academic license - for non-commercial use only - expires 2026-05-12\n",
      "Read LP format model from file /var/folders/6w/knrbtrj125ggkrx091kd2g840000gn/T/tmp2a4ubeo8.lp\n",
      "Reading time = 0.00 seconds\n",
      ": 691 rows, 1411 columns, 6621 nonzeros\n",
      "Set parameter Username\n",
      "Set parameter LicenseID to value 2663970\n",
      "Academic license - for non-commercial use only - expires 2026-05-12\n",
      "Read LP format model from file /var/folders/6w/knrbtrj125ggkrx091kd2g840000gn/T/tmphrky0qcl.lp\n",
      "Reading time = 0.00 seconds\n",
      ": 691 rows, 1411 columns, 6621 nonzeros\n",
      "Set parameter Username\n",
      "Set parameter LicenseID to value 2663970\n",
      "Academic license - for non-commercial use only - expires 2026-05-12\n",
      "Read LP format model from file /var/folders/6w/knrbtrj125ggkrx091kd2g840000gn/T/tmpahhpf_0s.lp\n",
      "Reading time = 0.00 seconds\n",
      ": 691 rows, 1411 columns, 6621 nonzeros\n",
      "Set parameter Username\n",
      "Set parameter LicenseID to value 2663970\n",
      "Academic license - for non-commercial use only - expires 2026-05-12\n",
      "Read LP format model from file /var/folders/6w/knrbtrj125ggkrx091kd2g840000gn/T/tmpxikahm3z.lp\n",
      "Reading time = 0.00 seconds\n",
      ": 691 rows, 1411 columns, 6621 nonzeros\n",
      "Set parameter Username\n",
      "Set parameter LicenseID to value 2663970\n",
      "Academic license - for non-commercial use only - expires 2026-05-12\n",
      "Read LP format model from file /var/folders/6w/knrbtrj125ggkrx091kd2g840000gn/T/tmp6p7m2zc7.lp\n",
      "Reading time = 0.00 seconds\n",
      ": 691 rows, 1411 columns, 6621 nonzeros\n",
      "Set parameter Username\n",
      "Set parameter LicenseID to value 2663970\n",
      "Academic license - for non-commercial use only - expires 2026-05-12\n",
      "Read LP format model from file /var/folders/6w/knrbtrj125ggkrx091kd2g840000gn/T/tmpj82mnw6q.lp\n",
      "Reading time = 0.00 seconds\n",
      ": 691 rows, 1411 columns, 6621 nonzeros\n",
      "Set parameter Username\n",
      "Set parameter LicenseID to value 2663970\n",
      "Academic license - for non-commercial use only - expires 2026-05-12\n",
      "Read LP format model from file /var/folders/6w/knrbtrj125ggkrx091kd2g840000gn/T/tmp6kvbfn4e.lp\n",
      "Reading time = 0.00 seconds\n",
      ": 691 rows, 1411 columns, 6621 nonzeros\n",
      "Set parameter Username\n",
      "Set parameter LicenseID to value 2663970\n",
      "Academic license - for non-commercial use only - expires 2026-05-12\n",
      "Read LP format model from file /var/folders/6w/knrbtrj125ggkrx091kd2g840000gn/T/tmpwt6f_jl0.lp\n",
      "Reading time = 0.00 seconds\n",
      ": 691 rows, 1411 columns, 6621 nonzeros\n",
      "Set parameter Username\n",
      "Set parameter LicenseID to value 2663970\n",
      "Academic license - for non-commercial use only - expires 2026-05-12\n",
      "Read LP format model from file /var/folders/6w/knrbtrj125ggkrx091kd2g840000gn/T/tmphf4dj5a1.lp\n",
      "Reading time = 0.00 seconds\n",
      ": 691 rows, 1411 columns, 6621 nonzeros\n",
      "Set parameter Username\n",
      "Set parameter LicenseID to value 2663970\n",
      "Academic license - for non-commercial use only - expires 2026-05-12\n",
      "Read LP format model from file /var/folders/6w/knrbtrj125ggkrx091kd2g840000gn/T/tmpp8hjyjob.lp\n",
      "Reading time = 0.00 seconds\n",
      ": 691 rows, 1411 columns, 6621 nonzeros\n",
      "Set parameter Username\n",
      "Set parameter LicenseID to value 2663970\n",
      "Academic license - for non-commercial use only - expires 2026-05-12\n",
      "Read LP format model from file /var/folders/6w/knrbtrj125ggkrx091kd2g840000gn/T/tmp5yraml4y.lp\n",
      "Reading time = 0.00 seconds\n",
      ": 691 rows, 1411 columns, 6621 nonzeros\n",
      "Set parameter Username\n",
      "Set parameter LicenseID to value 2663970\n",
      "Academic license - for non-commercial use only - expires 2026-05-12\n",
      "Read LP format model from file /var/folders/6w/knrbtrj125ggkrx091kd2g840000gn/T/tmpfbr0aod8.lp\n",
      "Reading time = 0.00 seconds\n",
      ": 691 rows, 1411 columns, 6621 nonzeros\n",
      "Read LP format model from file /var/folders/6w/knrbtrj125ggkrx091kd2g840000gn/T/tmp3ybn8a8y.lp\n",
      "Reading time = 0.00 seconds\n",
      ": 688 rows, 1404 columns, 6586 nonzeros\n"
     ]
    },
    {
     "name": "stderr",
     "output_type": "stream",
     "text": [
      "Ignoring reaction 'rxn45696' since it already exists.\n"
     ]
    },
    {
     "name": "stdout",
     "output_type": "stream",
     "text": [
      "Set parameter Username\n",
      "Set parameter LicenseID to value 2663970\n",
      "Academic license - for non-commercial use only - expires 2026-05-12\n",
      "Read LP format model from file /var/folders/6w/knrbtrj125ggkrx091kd2g840000gn/T/tmpbslbsm6g.lp\n",
      "Reading time = 0.00 seconds\n",
      ": 691 rows, 1409 columns, 6607 nonzeros\n",
      "Set parameter Username\n",
      "Set parameter LicenseID to value 2663970\n",
      "Academic license - for non-commercial use only - expires 2026-05-12\n",
      "Read LP format model from file /var/folders/6w/knrbtrj125ggkrx091kd2g840000gn/T/tmpp9jhtzho.lp\n",
      "Reading time = 0.00 seconds\n",
      ": 691 rows, 1409 columns, 6607 nonzeros\n",
      "Set parameter Username\n",
      "Set parameter LicenseID to value 2663970\n",
      "Academic license - for non-commercial use only - expires 2026-05-12\n",
      "Read LP format model from file /var/folders/6w/knrbtrj125ggkrx091kd2g840000gn/T/tmpcaqknakk.lp\n",
      "Reading time = 0.00 seconds\n",
      ": 691 rows, 1409 columns, 6607 nonzeros\n",
      "Set parameter Username\n",
      "Set parameter LicenseID to value 2663970\n",
      "Academic license - for non-commercial use only - expires 2026-05-12\n",
      "Read LP format model from file /var/folders/6w/knrbtrj125ggkrx091kd2g840000gn/T/tmpm9kzvi9f.lp\n",
      "Reading time = 0.00 seconds\n",
      ": 691 rows, 1409 columns, 6607 nonzeros\n",
      "Set parameter Username\n",
      "Set parameter LicenseID to value 2663970\n",
      "Academic license - for non-commercial use only - expires 2026-05-12\n",
      "Read LP format model from file /var/folders/6w/knrbtrj125ggkrx091kd2g840000gn/T/tmpstrjdn3v.lp\n",
      "Reading time = 0.00 seconds\n",
      ": 691 rows, 1409 columns, 6607 nonzeros\n",
      "Set parameter Username\n",
      "Set parameter LicenseID to value 2663970\n",
      "Academic license - for non-commercial use only - expires 2026-05-12\n",
      "Read LP format model from file /var/folders/6w/knrbtrj125ggkrx091kd2g840000gn/T/tmp0e660td0.lp\n",
      "Reading time = 0.00 seconds\n",
      ": 691 rows, 1409 columns, 6607 nonzeros\n",
      "Set parameter Username\n",
      "Set parameter LicenseID to value 2663970\n",
      "Academic license - for non-commercial use only - expires 2026-05-12\n",
      "Read LP format model from file /var/folders/6w/knrbtrj125ggkrx091kd2g840000gn/T/tmp7h_ctxcg.lp\n",
      "Reading time = 0.01 seconds\n",
      ": 691 rows, 1409 columns, 6607 nonzeros\n",
      "Set parameter Username\n",
      "Set parameter LicenseID to value 2663970\n",
      "Academic license - for non-commercial use only - expires 2026-05-12\n",
      "Read LP format model from file /var/folders/6w/knrbtrj125ggkrx091kd2g840000gn/T/tmppx9nlvjo.lp\n",
      "Reading time = 0.00 seconds\n",
      ": 691 rows, 1409 columns, 6607 nonzeros\n",
      "Set parameter Username\n",
      "Set parameter LicenseID to value 2663970\n",
      "Academic license - for non-commercial use only - expires 2026-05-12\n",
      "Read LP format model from file /var/folders/6w/knrbtrj125ggkrx091kd2g840000gn/T/tmpuht8hz6v.lp\n",
      "Reading time = 0.00 seconds\n",
      ": 691 rows, 1409 columns, 6607 nonzeros\n",
      "Set parameter Username\n",
      "Set parameter LicenseID to value 2663970\n",
      "Academic license - for non-commercial use only - expires 2026-05-12\n",
      "Read LP format model from file /var/folders/6w/knrbtrj125ggkrx091kd2g840000gn/T/tmpt8_h30x1.lp\n",
      "Reading time = 0.00 seconds\n",
      ": 691 rows, 1409 columns, 6607 nonzeros\n",
      "Set parameter Username\n",
      "Set parameter LicenseID to value 2663970\n",
      "Academic license - for non-commercial use only - expires 2026-05-12\n",
      "Read LP format model from file /var/folders/6w/knrbtrj125ggkrx091kd2g840000gn/T/tmpfn6p2at0.lp\n",
      "Reading time = 0.00 seconds\n",
      ": 691 rows, 1409 columns, 6607 nonzeros\n",
      "Set parameter Username\n",
      "Set parameter LicenseID to value 2663970\n",
      "Academic license - for non-commercial use only - expires 2026-05-12\n",
      "Read LP format model from file /var/folders/6w/knrbtrj125ggkrx091kd2g840000gn/T/tmpmuqsbw4m.lp\n",
      "Reading time = 0.00 seconds\n",
      ": 691 rows, 1409 columns, 6607 nonzeros\n",
      "Set parameter Username\n",
      "Set parameter LicenseID to value 2663970\n",
      "Academic license - for non-commercial use only - expires 2026-05-12\n",
      "Read LP format model from file /var/folders/6w/knrbtrj125ggkrx091kd2g840000gn/T/tmpxtt07msz.lp\n",
      "Reading time = 0.00 seconds\n",
      ": 691 rows, 1409 columns, 6607 nonzeros\n",
      "Set parameter Username\n",
      "Set parameter LicenseID to value 2663970\n",
      "Academic license - for non-commercial use only - expires 2026-05-12\n",
      "Read LP format model from file /var/folders/6w/knrbtrj125ggkrx091kd2g840000gn/T/tmp13_4xnor.lp\n",
      "Reading time = 0.00 seconds\n",
      ": 691 rows, 1409 columns, 6607 nonzeros\n",
      "Read LP format model from file /var/folders/6w/knrbtrj125ggkrx091kd2g840000gn/T/tmp3zbddts4.lp\n",
      "Reading time = 0.00 seconds\n",
      ": 688 rows, 1404 columns, 6586 nonzeros\n",
      "Set parameter Username\n",
      "Set parameter LicenseID to value 2663970\n",
      "Academic license - for non-commercial use only - expires 2026-05-12\n",
      "Read LP format model from file /var/folders/6w/knrbtrj125ggkrx091kd2g840000gn/T/tmpvu6b2abb.lp\n",
      "Reading time = 0.00 seconds\n",
      ": 690 rows, 1411 columns, 6619 nonzeros\n",
      "Set parameter Username\n",
      "Set parameter LicenseID to value 2663970\n",
      "Academic license - for non-commercial use only - expires 2026-05-12\n",
      "Read LP format model from file /var/folders/6w/knrbtrj125ggkrx091kd2g840000gn/T/tmpzbxzlefy.lp\n",
      "Reading time = 0.00 seconds\n",
      ": 690 rows, 1411 columns, 6619 nonzeros\n",
      "Set parameter Username\n",
      "Set parameter LicenseID to value 2663970\n",
      "Academic license - for non-commercial use only - expires 2026-05-12\n",
      "Read LP format model from file /var/folders/6w/knrbtrj125ggkrx091kd2g840000gn/T/tmppay0ymzx.lp\n",
      "Reading time = 0.00 seconds\n",
      ": 690 rows, 1411 columns, 6619 nonzeros\n",
      "Set parameter Username\n",
      "Set parameter LicenseID to value 2663970\n",
      "Academic license - for non-commercial use only - expires 2026-05-12\n",
      "Read LP format model from file /var/folders/6w/knrbtrj125ggkrx091kd2g840000gn/T/tmpcwgnosbh.lp\n",
      "Reading time = 0.00 seconds\n",
      ": 690 rows, 1411 columns, 6619 nonzeros\n",
      "Set parameter Username\n",
      "Set parameter LicenseID to value 2663970\n",
      "Academic license - for non-commercial use only - expires 2026-05-12\n",
      "Read LP format model from file /var/folders/6w/knrbtrj125ggkrx091kd2g840000gn/T/tmpyt4nnqp8.lp\n",
      "Reading time = 0.00 seconds\n",
      ": 690 rows, 1411 columns, 6619 nonzeros\n",
      "Set parameter Username\n",
      "Set parameter LicenseID to value 2663970\n",
      "Academic license - for non-commercial use only - expires 2026-05-12\n",
      "Read LP format model from file /var/folders/6w/knrbtrj125ggkrx091kd2g840000gn/T/tmpzc_iias4.lp\n",
      "Reading time = 0.00 seconds\n",
      ": 690 rows, 1411 columns, 6619 nonzeros\n",
      "Set parameter Username\n",
      "Set parameter LicenseID to value 2663970\n",
      "Academic license - for non-commercial use only - expires 2026-05-12\n",
      "Read LP format model from file /var/folders/6w/knrbtrj125ggkrx091kd2g840000gn/T/tmpylq51ubf.lp\n",
      "Reading time = 0.00 seconds\n",
      ": 690 rows, 1411 columns, 6619 nonzeros\n",
      "Set parameter Username\n",
      "Set parameter LicenseID to value 2663970\n",
      "Academic license - for non-commercial use only - expires 2026-05-12\n",
      "Read LP format model from file /var/folders/6w/knrbtrj125ggkrx091kd2g840000gn/T/tmp57knyw_a.lp\n",
      "Reading time = 0.00 seconds\n",
      ": 690 rows, 1411 columns, 6619 nonzeros\n",
      "Set parameter Username\n",
      "Set parameter LicenseID to value 2663970\n",
      "Academic license - for non-commercial use only - expires 2026-05-12\n",
      "Read LP format model from file /var/folders/6w/knrbtrj125ggkrx091kd2g840000gn/T/tmp_s27y9u6.lp\n",
      "Reading time = 0.00 seconds\n",
      ": 690 rows, 1411 columns, 6619 nonzeros\n",
      "Set parameter Username\n",
      "Set parameter LicenseID to value 2663970\n",
      "Academic license - for non-commercial use only - expires 2026-05-12\n",
      "Read LP format model from file /var/folders/6w/knrbtrj125ggkrx091kd2g840000gn/T/tmpmwbr_63f.lp\n",
      "Reading time = 0.00 seconds\n",
      ": 690 rows, 1411 columns, 6619 nonzeros\n",
      "Set parameter Username\n",
      "Set parameter LicenseID to value 2663970\n",
      "Academic license - for non-commercial use only - expires 2026-05-12\n",
      "Read LP format model from file /var/folders/6w/knrbtrj125ggkrx091kd2g840000gn/T/tmpmupsas7n.lp\n",
      "Reading time = 0.00 seconds\n",
      ": 690 rows, 1411 columns, 6619 nonzeros\n",
      "Set parameter Username\n",
      "Set parameter LicenseID to value 2663970\n",
      "Academic license - for non-commercial use only - expires 2026-05-12\n",
      "Read LP format model from file /var/folders/6w/knrbtrj125ggkrx091kd2g840000gn/T/tmpzkp2rgjm.lp\n",
      "Reading time = 0.00 seconds\n",
      ": 690 rows, 1411 columns, 6619 nonzeros\n",
      "Set parameter Username\n",
      "Set parameter LicenseID to value 2663970\n",
      "Academic license - for non-commercial use only - expires 2026-05-12\n",
      "Read LP format model from file /var/folders/6w/knrbtrj125ggkrx091kd2g840000gn/T/tmpvirx7m9q.lp\n",
      "Reading time = 0.00 seconds\n",
      ": 690 rows, 1411 columns, 6619 nonzeros\n",
      "Set parameter Username\n",
      "Set parameter LicenseID to value 2663970\n",
      "Academic license - for non-commercial use only - expires 2026-05-12\n",
      "Read LP format model from file /var/folders/6w/knrbtrj125ggkrx091kd2g840000gn/T/tmpv79kd8gt.lp\n",
      "Reading time = 0.02 seconds\n",
      ": 690 rows, 1411 columns, 6619 nonzeros\n",
      "Read LP format model from file /var/folders/6w/knrbtrj125ggkrx091kd2g840000gn/T/tmp4kg_c9hk.lp\n",
      "Reading time = 0.00 seconds\n",
      ": 688 rows, 1404 columns, 6586 nonzeros\n",
      "Set parameter Username\n",
      "Set parameter LicenseID to value 2663970\n",
      "Academic license - for non-commercial use only - expires 2026-05-12\n",
      "Read LP format model from file /var/folders/6w/knrbtrj125ggkrx091kd2g840000gn/T/tmpxokatj_0.lp\n",
      "Reading time = 0.00 seconds\n",
      ": 689 rows, 1411 columns, 6613 nonzeros\n",
      "Set parameter Username\n",
      "Set parameter LicenseID to value 2663970\n",
      "Academic license - for non-commercial use only - expires 2026-05-12\n",
      "Read LP format model from file /var/folders/6w/knrbtrj125ggkrx091kd2g840000gn/T/tmpl1olvku4.lp\n",
      "Reading time = 0.00 seconds\n",
      ": 689 rows, 1411 columns, 6613 nonzeros\n",
      "Set parameter Username\n",
      "Set parameter LicenseID to value 2663970\n",
      "Academic license - for non-commercial use only - expires 2026-05-12\n",
      "Read LP format model from file /var/folders/6w/knrbtrj125ggkrx091kd2g840000gn/T/tmpodoqgun0.lp\n",
      "Reading time = 0.00 seconds\n",
      ": 689 rows, 1411 columns, 6613 nonzeros\n",
      "Set parameter Username\n",
      "Set parameter LicenseID to value 2663970\n",
      "Academic license - for non-commercial use only - expires 2026-05-12\n",
      "Read LP format model from file /var/folders/6w/knrbtrj125ggkrx091kd2g840000gn/T/tmpk93kd41r.lp\n",
      "Reading time = 0.00 seconds\n",
      ": 689 rows, 1411 columns, 6613 nonzeros\n",
      "Set parameter Username\n",
      "Set parameter LicenseID to value 2663970\n",
      "Academic license - for non-commercial use only - expires 2026-05-12\n",
      "Read LP format model from file /var/folders/6w/knrbtrj125ggkrx091kd2g840000gn/T/tmpep69ktg6.lp\n",
      "Reading time = 0.00 seconds\n",
      ": 689 rows, 1411 columns, 6613 nonzeros\n",
      "Set parameter Username\n",
      "Set parameter LicenseID to value 2663970\n",
      "Academic license - for non-commercial use only - expires 2026-05-12\n",
      "Read LP format model from file /var/folders/6w/knrbtrj125ggkrx091kd2g840000gn/T/tmp5j9eolub.lp\n",
      "Reading time = 0.00 seconds\n",
      ": 689 rows, 1411 columns, 6613 nonzeros\n",
      "Set parameter Username\n",
      "Set parameter LicenseID to value 2663970\n",
      "Academic license - for non-commercial use only - expires 2026-05-12\n",
      "Read LP format model from file /var/folders/6w/knrbtrj125ggkrx091kd2g840000gn/T/tmpyu9chl0w.lp\n",
      "Reading time = 0.01 seconds\n",
      ": 689 rows, 1411 columns, 6613 nonzeros\n",
      "Set parameter Username\n",
      "Set parameter LicenseID to value 2663970\n",
      "Academic license - for non-commercial use only - expires 2026-05-12\n",
      "Read LP format model from file /var/folders/6w/knrbtrj125ggkrx091kd2g840000gn/T/tmp6lx7hgif.lp\n",
      "Reading time = 0.00 seconds\n",
      ": 689 rows, 1411 columns, 6613 nonzeros\n",
      "Set parameter Username\n",
      "Set parameter LicenseID to value 2663970\n",
      "Academic license - for non-commercial use only - expires 2026-05-12\n",
      "Read LP format model from file /var/folders/6w/knrbtrj125ggkrx091kd2g840000gn/T/tmp49zkh29v.lp\n",
      "Reading time = 0.00 seconds\n",
      ": 689 rows, 1411 columns, 6613 nonzeros\n",
      "Set parameter Username\n",
      "Set parameter LicenseID to value 2663970\n",
      "Academic license - for non-commercial use only - expires 2026-05-12\n",
      "Read LP format model from file /var/folders/6w/knrbtrj125ggkrx091kd2g840000gn/T/tmpsfxo7sjg.lp\n",
      "Reading time = 0.00 seconds\n",
      ": 689 rows, 1411 columns, 6613 nonzeros\n",
      "Set parameter Username\n",
      "Set parameter LicenseID to value 2663970\n",
      "Academic license - for non-commercial use only - expires 2026-05-12\n",
      "Read LP format model from file /var/folders/6w/knrbtrj125ggkrx091kd2g840000gn/T/tmp2ayyr_fj.lp\n",
      "Reading time = 0.00 seconds\n",
      ": 689 rows, 1411 columns, 6613 nonzeros\n",
      "Set parameter Username\n",
      "Set parameter LicenseID to value 2663970\n",
      "Academic license - for non-commercial use only - expires 2026-05-12\n",
      "Read LP format model from file /var/folders/6w/knrbtrj125ggkrx091kd2g840000gn/T/tmposufbq90.lp\n",
      "Reading time = 0.00 seconds\n",
      ": 689 rows, 1411 columns, 6613 nonzeros\n",
      "Set parameter Username\n",
      "Set parameter LicenseID to value 2663970\n",
      "Academic license - for non-commercial use only - expires 2026-05-12\n",
      "Read LP format model from file /var/folders/6w/knrbtrj125ggkrx091kd2g840000gn/T/tmpneje3_iz.lp\n",
      "Reading time = 0.00 seconds\n",
      ": 689 rows, 1411 columns, 6613 nonzeros\n",
      "Set parameter Username\n",
      "Set parameter LicenseID to value 2663970\n",
      "Academic license - for non-commercial use only - expires 2026-05-12\n",
      "Read LP format model from file /var/folders/6w/knrbtrj125ggkrx091kd2g840000gn/T/tmpx9bp2y_n.lp\n",
      "Reading time = 0.00 seconds\n",
      ": 689 rows, 1411 columns, 6613 nonzeros\n",
      "Read LP format model from file /var/folders/6w/knrbtrj125ggkrx091kd2g840000gn/T/tmphvznw4bq.lp\n",
      "Reading time = 0.00 seconds\n",
      ": 688 rows, 1404 columns, 6586 nonzeros\n",
      "Set parameter Username\n",
      "Set parameter LicenseID to value 2663970\n",
      "Academic license - for non-commercial use only - expires 2026-05-12\n",
      "Read LP format model from file /var/folders/6w/knrbtrj125ggkrx091kd2g840000gn/T/tmpmghqfv5z.lp\n",
      "Reading time = 0.00 seconds\n",
      ": 692 rows, 1411 columns, 6621 nonzeros\n",
      "Set parameter Username\n",
      "Set parameter LicenseID to value 2663970\n",
      "Academic license - for non-commercial use only - expires 2026-05-12\n",
      "Read LP format model from file /var/folders/6w/knrbtrj125ggkrx091kd2g840000gn/T/tmp22booigi.lp\n",
      "Reading time = 0.01 seconds\n",
      ": 692 rows, 1411 columns, 6621 nonzeros\n",
      "Set parameter Username\n",
      "Set parameter LicenseID to value 2663970\n",
      "Academic license - for non-commercial use only - expires 2026-05-12\n",
      "Read LP format model from file /var/folders/6w/knrbtrj125ggkrx091kd2g840000gn/T/tmpowfr2qv5.lp\n",
      "Reading time = 0.00 seconds\n",
      ": 692 rows, 1411 columns, 6621 nonzeros\n",
      "Set parameter Username\n",
      "Set parameter LicenseID to value 2663970\n",
      "Academic license - for non-commercial use only - expires 2026-05-12\n",
      "Read LP format model from file /var/folders/6w/knrbtrj125ggkrx091kd2g840000gn/T/tmpupx9g3mn.lp\n",
      "Reading time = 0.01 seconds\n",
      ": 692 rows, 1411 columns, 6621 nonzeros\n",
      "Set parameter Username\n",
      "Set parameter LicenseID to value 2663970\n",
      "Academic license - for non-commercial use only - expires 2026-05-12\n",
      "Read LP format model from file /var/folders/6w/knrbtrj125ggkrx091kd2g840000gn/T/tmpflsri2ye.lp\n",
      "Reading time = 0.00 seconds\n",
      ": 692 rows, 1411 columns, 6621 nonzeros\n",
      "Set parameter Username\n",
      "Set parameter LicenseID to value 2663970\n",
      "Academic license - for non-commercial use only - expires 2026-05-12\n",
      "Read LP format model from file /var/folders/6w/knrbtrj125ggkrx091kd2g840000gn/T/tmp0n7muswt.lp\n",
      "Reading time = 0.00 seconds\n",
      ": 692 rows, 1411 columns, 6621 nonzeros\n",
      "Set parameter Username\n",
      "Set parameter LicenseID to value 2663970\n",
      "Academic license - for non-commercial use only - expires 2026-05-12\n",
      "Read LP format model from file /var/folders/6w/knrbtrj125ggkrx091kd2g840000gn/T/tmpz5cd5atz.lp\n",
      "Reading time = 0.00 seconds\n",
      ": 692 rows, 1411 columns, 6621 nonzeros\n",
      "Set parameter Username\n",
      "Set parameter LicenseID to value 2663970\n",
      "Academic license - for non-commercial use only - expires 2026-05-12\n",
      "Read LP format model from file /var/folders/6w/knrbtrj125ggkrx091kd2g840000gn/T/tmpn35o_yln.lp\n",
      "Reading time = 0.00 seconds\n",
      ": 692 rows, 1411 columns, 6621 nonzeros\n",
      "Set parameter Username\n",
      "Set parameter LicenseID to value 2663970\n",
      "Academic license - for non-commercial use only - expires 2026-05-12\n",
      "Read LP format model from file /var/folders/6w/knrbtrj125ggkrx091kd2g840000gn/T/tmp9556z2wd.lp\n",
      "Reading time = 0.00 seconds\n",
      ": 692 rows, 1411 columns, 6621 nonzeros\n",
      "Set parameter Username\n",
      "Set parameter LicenseID to value 2663970\n",
      "Academic license - for non-commercial use only - expires 2026-05-12\n",
      "Read LP format model from file /var/folders/6w/knrbtrj125ggkrx091kd2g840000gn/T/tmp300actno.lp\n",
      "Reading time = 0.00 seconds\n",
      ": 692 rows, 1411 columns, 6621 nonzeros\n",
      "Set parameter Username\n",
      "Set parameter LicenseID to value 2663970\n",
      "Academic license - for non-commercial use only - expires 2026-05-12\n",
      "Read LP format model from file /var/folders/6w/knrbtrj125ggkrx091kd2g840000gn/T/tmpzgw3msod.lp\n",
      "Reading time = 0.00 seconds\n",
      ": 692 rows, 1411 columns, 6621 nonzeros\n",
      "Set parameter Username\n",
      "Set parameter LicenseID to value 2663970\n",
      "Academic license - for non-commercial use only - expires 2026-05-12\n",
      "Read LP format model from file /var/folders/6w/knrbtrj125ggkrx091kd2g840000gn/T/tmpefeg12tk.lp\n",
      "Reading time = 0.00 seconds\n",
      ": 692 rows, 1411 columns, 6621 nonzeros\n",
      "Set parameter Username\n",
      "Set parameter LicenseID to value 2663970\n",
      "Academic license - for non-commercial use only - expires 2026-05-12\n",
      "Read LP format model from file /var/folders/6w/knrbtrj125ggkrx091kd2g840000gn/T/tmpvf7ia2e3.lp\n",
      "Reading time = 0.00 seconds\n",
      ": 692 rows, 1411 columns, 6621 nonzeros\n",
      "Set parameter Username\n",
      "Set parameter LicenseID to value 2663970\n",
      "Academic license - for non-commercial use only - expires 2026-05-12\n",
      "Read LP format model from file /var/folders/6w/knrbtrj125ggkrx091kd2g840000gn/T/tmp_nu98gco.lp\n",
      "Reading time = 0.00 seconds\n",
      ": 692 rows, 1411 columns, 6621 nonzeros\n",
      "Read LP format model from file /var/folders/6w/knrbtrj125ggkrx091kd2g840000gn/T/tmpcco5eukq.lp\n",
      "Reading time = 0.00 seconds\n",
      ": 688 rows, 1404 columns, 6586 nonzeros\n",
      "Set parameter Username\n",
      "Set parameter LicenseID to value 2663970\n",
      "Academic license - for non-commercial use only - expires 2026-05-12\n",
      "Read LP format model from file /var/folders/6w/knrbtrj125ggkrx091kd2g840000gn/T/tmpldmd2ept.lp\n",
      "Reading time = 0.00 seconds\n",
      ": 692 rows, 1411 columns, 6623 nonzeros\n",
      "Set parameter Username\n",
      "Set parameter LicenseID to value 2663970\n",
      "Academic license - for non-commercial use only - expires 2026-05-12\n",
      "Read LP format model from file /var/folders/6w/knrbtrj125ggkrx091kd2g840000gn/T/tmpelztb30c.lp\n",
      "Reading time = 0.01 seconds\n",
      ": 692 rows, 1411 columns, 6623 nonzeros\n",
      "Set parameter Username\n",
      "Set parameter LicenseID to value 2663970\n",
      "Academic license - for non-commercial use only - expires 2026-05-12\n",
      "Read LP format model from file /var/folders/6w/knrbtrj125ggkrx091kd2g840000gn/T/tmp566ac8fc.lp\n",
      "Reading time = 0.00 seconds\n",
      ": 692 rows, 1411 columns, 6623 nonzeros\n",
      "Set parameter Username\n",
      "Set parameter LicenseID to value 2663970\n",
      "Academic license - for non-commercial use only - expires 2026-05-12\n",
      "Read LP format model from file /var/folders/6w/knrbtrj125ggkrx091kd2g840000gn/T/tmp4nslvy1f.lp\n",
      "Reading time = 0.00 seconds\n",
      ": 692 rows, 1411 columns, 6623 nonzeros\n",
      "Set parameter Username\n",
      "Set parameter LicenseID to value 2663970\n",
      "Academic license - for non-commercial use only - expires 2026-05-12\n",
      "Read LP format model from file /var/folders/6w/knrbtrj125ggkrx091kd2g840000gn/T/tmpnr3zvt_g.lp\n",
      "Reading time = 0.00 seconds\n",
      ": 692 rows, 1411 columns, 6623 nonzeros\n",
      "Set parameter Username\n",
      "Set parameter LicenseID to value 2663970\n",
      "Academic license - for non-commercial use only - expires 2026-05-12\n",
      "Read LP format model from file /var/folders/6w/knrbtrj125ggkrx091kd2g840000gn/T/tmp27kzmb26.lp\n",
      "Reading time = 0.00 seconds\n",
      ": 692 rows, 1411 columns, 6623 nonzeros\n",
      "Set parameter Username\n",
      "Set parameter LicenseID to value 2663970\n",
      "Academic license - for non-commercial use only - expires 2026-05-12\n",
      "Read LP format model from file /var/folders/6w/knrbtrj125ggkrx091kd2g840000gn/T/tmph_ylbatw.lp\n",
      "Reading time = 0.00 seconds\n",
      ": 692 rows, 1411 columns, 6623 nonzeros\n",
      "Set parameter Username\n",
      "Set parameter LicenseID to value 2663970\n",
      "Academic license - for non-commercial use only - expires 2026-05-12\n",
      "Read LP format model from file /var/folders/6w/knrbtrj125ggkrx091kd2g840000gn/T/tmp9luoat3h.lp\n",
      "Reading time = 0.00 seconds\n",
      ": 692 rows, 1411 columns, 6623 nonzeros\n",
      "Set parameter Username\n",
      "Set parameter LicenseID to value 2663970\n",
      "Academic license - for non-commercial use only - expires 2026-05-12\n",
      "Read LP format model from file /var/folders/6w/knrbtrj125ggkrx091kd2g840000gn/T/tmpn70qoet0.lp\n",
      "Reading time = 0.00 seconds\n",
      ": 692 rows, 1411 columns, 6623 nonzeros\n",
      "Set parameter Username\n",
      "Set parameter LicenseID to value 2663970\n",
      "Academic license - for non-commercial use only - expires 2026-05-12\n",
      "Read LP format model from file /var/folders/6w/knrbtrj125ggkrx091kd2g840000gn/T/tmppcef941y.lp\n",
      "Reading time = 0.00 seconds\n",
      ": 692 rows, 1411 columns, 6623 nonzeros\n",
      "Set parameter Username\n",
      "Set parameter LicenseID to value 2663970\n",
      "Academic license - for non-commercial use only - expires 2026-05-12\n",
      "Read LP format model from file /var/folders/6w/knrbtrj125ggkrx091kd2g840000gn/T/tmpqred7qcp.lp\n",
      "Reading time = 0.00 seconds\n",
      ": 692 rows, 1411 columns, 6623 nonzeros\n",
      "Set parameter Username\n",
      "Set parameter LicenseID to value 2663970\n",
      "Academic license - for non-commercial use only - expires 2026-05-12\n",
      "Read LP format model from file /var/folders/6w/knrbtrj125ggkrx091kd2g840000gn/T/tmpth4tk9f4.lp\n",
      "Reading time = 0.00 seconds\n",
      ": 692 rows, 1411 columns, 6623 nonzeros\n",
      "Set parameter Username\n",
      "Set parameter LicenseID to value 2663970\n",
      "Academic license - for non-commercial use only - expires 2026-05-12\n",
      "Read LP format model from file /var/folders/6w/knrbtrj125ggkrx091kd2g840000gn/T/tmpsdns7n93.lp\n",
      "Reading time = 0.00 seconds\n",
      ": 692 rows, 1411 columns, 6623 nonzeros\n",
      "Set parameter Username\n",
      "Set parameter LicenseID to value 2663970\n",
      "Academic license - for non-commercial use only - expires 2026-05-12\n",
      "Read LP format model from file /var/folders/6w/knrbtrj125ggkrx091kd2g840000gn/T/tmpjmlpog47.lp\n",
      "Reading time = 0.00 seconds\n",
      ": 692 rows, 1411 columns, 6623 nonzeros\n",
      "Read LP format model from file /var/folders/6w/knrbtrj125ggkrx091kd2g840000gn/T/tmpdn2p_63x.lp\n",
      "Reading time = 0.01 seconds\n",
      ": 688 rows, 1404 columns, 6586 nonzeros\n",
      "Set parameter Username\n",
      "Set parameter LicenseID to value 2663970\n",
      "Academic license - for non-commercial use only - expires 2026-05-12\n",
      "Read LP format model from file /var/folders/6w/knrbtrj125ggkrx091kd2g840000gn/T/tmp0_guug8p.lp\n",
      "Reading time = 0.00 seconds\n",
      ": 691 rows, 1411 columns, 6619 nonzeros\n",
      "Set parameter Username\n",
      "Set parameter LicenseID to value 2663970\n",
      "Academic license - for non-commercial use only - expires 2026-05-12\n",
      "Read LP format model from file /var/folders/6w/knrbtrj125ggkrx091kd2g840000gn/T/tmpqojba5yl.lp\n",
      "Reading time = 0.01 seconds\n",
      ": 691 rows, 1411 columns, 6619 nonzeros\n",
      "Set parameter Username\n",
      "Set parameter LicenseID to value 2663970\n",
      "Academic license - for non-commercial use only - expires 2026-05-12\n",
      "Read LP format model from file /var/folders/6w/knrbtrj125ggkrx091kd2g840000gn/T/tmp15p3__qz.lp\n",
      "Reading time = 0.00 seconds\n",
      ": 691 rows, 1411 columns, 6619 nonzeros\n",
      "Set parameter Username\n",
      "Set parameter LicenseID to value 2663970\n",
      "Academic license - for non-commercial use only - expires 2026-05-12\n",
      "Read LP format model from file /var/folders/6w/knrbtrj125ggkrx091kd2g840000gn/T/tmpes5g643v.lp\n",
      "Reading time = 0.00 seconds\n",
      ": 691 rows, 1411 columns, 6619 nonzeros\n",
      "Set parameter Username\n",
      "Set parameter LicenseID to value 2663970\n",
      "Academic license - for non-commercial use only - expires 2026-05-12\n",
      "Read LP format model from file /var/folders/6w/knrbtrj125ggkrx091kd2g840000gn/T/tmpdbsgauqn.lp\n",
      "Reading time = 0.00 seconds\n",
      ": 691 rows, 1411 columns, 6619 nonzeros\n",
      "Set parameter Username\n",
      "Set parameter LicenseID to value 2663970\n",
      "Academic license - for non-commercial use only - expires 2026-05-12\n",
      "Read LP format model from file /var/folders/6w/knrbtrj125ggkrx091kd2g840000gn/T/tmpeuesnvq1.lp\n",
      "Reading time = 0.00 seconds\n",
      ": 691 rows, 1411 columns, 6619 nonzeros\n",
      "Set parameter Username\n",
      "Set parameter LicenseID to value 2663970\n",
      "Academic license - for non-commercial use only - expires 2026-05-12\n",
      "Read LP format model from file /var/folders/6w/knrbtrj125ggkrx091kd2g840000gn/T/tmpj1uw4zmr.lp\n",
      "Reading time = 0.00 seconds\n",
      ": 691 rows, 1411 columns, 6619 nonzeros\n",
      "Set parameter Username\n",
      "Set parameter LicenseID to value 2663970\n",
      "Academic license - for non-commercial use only - expires 2026-05-12\n",
      "Read LP format model from file /var/folders/6w/knrbtrj125ggkrx091kd2g840000gn/T/tmpok0l5zuk.lp\n",
      "Reading time = 0.00 seconds\n",
      ": 691 rows, 1411 columns, 6619 nonzeros\n",
      "Set parameter Username\n",
      "Set parameter LicenseID to value 2663970\n",
      "Academic license - for non-commercial use only - expires 2026-05-12\n",
      "Read LP format model from file /var/folders/6w/knrbtrj125ggkrx091kd2g840000gn/T/tmp5gpjcaab.lp\n",
      "Reading time = 0.00 seconds\n",
      ": 691 rows, 1411 columns, 6619 nonzeros\n",
      "Set parameter Username\n",
      "Set parameter LicenseID to value 2663970\n",
      "Academic license - for non-commercial use only - expires 2026-05-12\n",
      "Read LP format model from file /var/folders/6w/knrbtrj125ggkrx091kd2g840000gn/T/tmpo2dhq2t5.lp\n",
      "Reading time = 0.00 seconds\n",
      ": 691 rows, 1411 columns, 6619 nonzeros\n",
      "Set parameter Username\n",
      "Set parameter LicenseID to value 2663970\n",
      "Academic license - for non-commercial use only - expires 2026-05-12\n",
      "Read LP format model from file /var/folders/6w/knrbtrj125ggkrx091kd2g840000gn/T/tmpyojg716u.lp\n",
      "Reading time = 0.00 seconds\n",
      ": 691 rows, 1411 columns, 6619 nonzeros\n",
      "Set parameter Username\n",
      "Set parameter LicenseID to value 2663970\n",
      "Academic license - for non-commercial use only - expires 2026-05-12\n",
      "Read LP format model from file /var/folders/6w/knrbtrj125ggkrx091kd2g840000gn/T/tmpdv_v0gez.lp\n",
      "Reading time = 0.00 seconds\n",
      ": 691 rows, 1411 columns, 6619 nonzeros\n",
      "Set parameter Username\n",
      "Set parameter LicenseID to value 2663970\n",
      "Academic license - for non-commercial use only - expires 2026-05-12\n",
      "Read LP format model from file /var/folders/6w/knrbtrj125ggkrx091kd2g840000gn/T/tmp1lmo1tvi.lp\n",
      "Reading time = 0.00 seconds\n",
      ": 691 rows, 1411 columns, 6619 nonzeros\n",
      "Set parameter Username\n",
      "Set parameter LicenseID to value 2663970\n",
      "Academic license - for non-commercial use only - expires 2026-05-12\n",
      "Read LP format model from file /var/folders/6w/knrbtrj125ggkrx091kd2g840000gn/T/tmp_0sfdr1q.lp\n",
      "Reading time = 0.01 seconds\n",
      ": 691 rows, 1411 columns, 6619 nonzeros\n"
     ]
    }
   ],
   "source": [
    "from cobra.util.solver import linear_reaction_coefficients\n",
    "from cobra import Reaction, Metabolite\n",
    "from cobra.util import solver\n",
    "from networkx.algorithms.simple_paths import shortest_simple_paths\n",
    "from cobra.flux_analysis import find_blocked_reactions\n",
    "\n",
    "#  dead-end 检查函数\n",
    "def find_dead_ends_manual(model):\n",
    "    dead_ends = []\n",
    "    for met in model.metabolites:\n",
    "        producing = any(rxn.metabolites[met] > 0 for rxn in met.reactions)\n",
    "        consuming = any(rxn.metabolites[met] < 0 for rxn in met.reactions)\n",
    "        if not (producing and consuming):\n",
    "            dead_ends.append(met.id)\n",
    "    return dead_ends\n",
    "\n",
    "target_met = \"cpd00211_c0\"  # 目标代谢物\n",
    "\n",
    "valid_start = [\"cpd00029_e0\"]\n",
    "results = []\n",
    "\n",
    "for start in valid_start:  \n",
    "    try:\n",
    "        paths = list(nx.all_simple_paths(G, source=start, target=target_met, cutoff=3))\n",
    "    except:\n",
    "        continue\n",
    "\n",
    "    for path in paths:\n",
    "        rxn_ids = []\n",
    "        missing_reactions = []\n",
    "\n",
    "        # 获取路径中的反应 ID\n",
    "        for i in range(len(path) - 1):\n",
    "            try:\n",
    "                rxn_id = G[path[i]][path[i + 1]][\"reaction\"]\n",
    "                rxn_ids.append(rxn_id)\n",
    "            except:\n",
    "                continue\n",
    "\n",
    "        existing_rxns = set(r.id for r in model.reactions)\n",
    "        to_add_rxns = [rxn for rxn in rxn_ids if rxn not in existing_rxns]\n",
    "\n",
    "        with model.copy() as m:\n",
    "            for rxn_id in to_add_rxns:\n",
    "                if rxn_id in reaction_dict:\n",
    "                    new_rxn = reaction_dict[rxn_id].copy()\n",
    "                    m.add_reactions([new_rxn])\n",
    "\n",
    "            # 添加目标产物的 exchange reaction\n",
    "            target_ex_id = \"EX_cpd00211_e0\"\n",
    "            if target_ex_id not in m.reactions:\n",
    "                try:\n",
    "                    met = m.metabolites.get_by_id(\"cpd00211_e0\")\n",
    "                    target_ex = Reaction(target_ex_id)\n",
    "                    target_ex.name = \"Exchange for cpd00211_e0\"\n",
    "                    target_ex.lower_bound = 0\n",
    "                    target_ex.upper_bound = 1000\n",
    "                    target_ex.add_metabolites({met: -1})\n",
    "                    m.add_reactions([target_ex])\n",
    "                except KeyError:\n",
    "                    print(\" 目标代谢物 cpd00211_e0 不存在\")\n",
    "                    continue\n",
    "\n",
    "            m.objective = target_ex_id\n",
    "\n",
    "            sol = m.optimize()\n",
    "            flux = sol.objective_value if sol.status == \"optimal\" else 0\n",
    "\n",
    "            #  添加 blocked reaction 和 dead-end metabolite 检查\n",
    "            blocked_rxns = set(find_blocked_reactions(m))\n",
    "            dead_ends = set(find_dead_ends_manual(m))\n",
    "\n",
    "            rxns_in_path = set(rxn_ids)\n",
    "            mets_in_path = set()\n",
    "            for rxn_id in rxn_ids:\n",
    "                if rxn_id in m.reactions:\n",
    "                    mets_in_path.update(m.id for m in m.reactions.get_by_id(rxn_id).metabolites)\n",
    "\n",
    "            blocked_in_path = list(rxns_in_path & blocked_rxns)\n",
    "            dead_ends_in_path = list(mets_in_path & dead_ends)\n",
    "\n",
    "            results.append({\n",
    "                \"start\": start,\n",
    "                \"path\": path,\n",
    "                \"missing_reactions\": to_add_rxns,\n",
    "                \"num_missing\": len(to_add_rxns),\n",
    "                \"flux\": flux,\n",
    "                \"blocked_reactions\": blocked_in_path,\n",
    "                \"dead_end_metabolites\": dead_ends_in_path\n",
    "            })\n"
   ]
  },
  {
   "cell_type": "code",
   "execution_count": 10,
   "id": "992c911f",
   "metadata": {},
   "outputs": [
    {
     "data": {
      "text/plain": [
       "[{'start': 'cpd00029_e0',\n",
       "  'path': ['cpd00029_e0', 'cpd00029_c0', 'cpd00008_c0', 'cpd00211_c0'],\n",
       "  'missing_reactions': ['rxn31359', 'rxn34299', 'rxn01236'],\n",
       "  'num_missing': 3,\n",
       "  'flux': 0.0,\n",
       "  'blocked_reactions': ['rxn01236'],\n",
       "  'dead_end_metabolites': ['cpd01662_c0', 'cpd00196_c0']},\n",
       " {'start': 'cpd00029_e0',\n",
       "  'path': ['cpd00029_e0', 'cpd00029_c0', 'cpd00001_c0', 'cpd00211_c0'],\n",
       "  'missing_reactions': ['rxn31359', 'rxn48258', 'rxn45696'],\n",
       "  'num_missing': 3,\n",
       "  'flux': 0.0,\n",
       "  'blocked_reactions': ['rxn45696', 'rxn48258'],\n",
       "  'dead_end_metabolites': ['cpd32214_c0',\n",
       "   'cpd36595_c0',\n",
       "   'cpd00211_c0',\n",
       "   'cpd27853_c0',\n",
       "   'cpd24202_c0']},\n",
       " {'start': 'cpd00029_e0',\n",
       "  'path': ['cpd00029_e0', 'cpd00029_c0', 'cpd00211_c0'],\n",
       "  'missing_reactions': ['rxn31359', 'rxn13427'],\n",
       "  'num_missing': 2,\n",
       "  'flux': 0.0,\n",
       "  'blocked_reactions': ['rxn13427'],\n",
       "  'dead_end_metabolites': ['cpd16910_c0']},\n",
       " {'start': 'cpd00029_e0',\n",
       "  'path': ['cpd00029_e0', 'cpd00029_c0', 'cpd00003_c0', 'cpd00211_c0'],\n",
       "  'missing_reactions': ['rxn31359', 'rxn31419', 'rxn36395'],\n",
       "  'num_missing': 3,\n",
       "  'flux': 0.0,\n",
       "  'blocked_reactions': ['rxn31419', 'rxn36395'],\n",
       "  'dead_end_metabolites': ['cpd00211_c0',\n",
       "   'cpd24799_c0',\n",
       "   'cpd00333_c0',\n",
       "   'cpd00153_c0']},\n",
       " {'start': 'cpd00029_e0',\n",
       "  'path': ['cpd00029_e0', 'cpd00029_c0', 'cpd00142_c0', 'cpd00211_c0'],\n",
       "  'missing_reactions': ['rxn31359', 'rxn44633', 'rxn00994'],\n",
       "  'num_missing': 3,\n",
       "  'flux': 0.0,\n",
       "  'blocked_reactions': ['rxn00994', 'rxn44633'],\n",
       "  'dead_end_metabolites': ['cpd00120_c0',\n",
       "   'cpd00211_c0',\n",
       "   'cpd00279_c0',\n",
       "   'cpd00142_c0']},\n",
       " {'start': 'cpd00029_e0',\n",
       "  'path': ['cpd00029_e0', 'cpd00029_c0', 'cpd00007_c0', 'cpd00211_c0'],\n",
       "  'missing_reactions': ['rxn31359', 'rxn44013', 'rxn47214'],\n",
       "  'num_missing': 3,\n",
       "  'flux': 0.0,\n",
       "  'blocked_reactions': ['rxn44013', 'rxn47214'],\n",
       "  'dead_end_metabolites': ['cpd01011_c0',\n",
       "   'cpd00211_c0',\n",
       "   'cpd00866_c0',\n",
       "   'cpd00237_c0',\n",
       "   'cpd21035_c0',\n",
       "   'cpd11630_c0']},\n",
       " {'start': 'cpd00029_e0',\n",
       "  'path': ['cpd00029_e0', 'cpd00029_c0', 'cpd00728_c0', 'cpd00211_c0'],\n",
       "  'missing_reactions': ['rxn31359', 'rxn25216', 'rxn13713'],\n",
       "  'num_missing': 3,\n",
       "  'flux': 0.0,\n",
       "  'blocked_reactions': ['rxn25216', 'rxn13713'],\n",
       "  'dead_end_metabolites': ['cpd00120_c0',\n",
       "   'cpd00728_c0',\n",
       "   'cpd00211_c0',\n",
       "   'cpd07946_c0']},\n",
       " {'start': 'cpd00029_e0',\n",
       "  'path': ['cpd00029_e0', 'cpd00029_c0', 'cpd00067_e0', 'cpd00211_c0'],\n",
       "  'missing_reactions': ['rxn31359', 'rxn08061', 'rxn08183'],\n",
       "  'num_missing': 3,\n",
       "  'flux': 0.0,\n",
       "  'blocked_reactions': [],\n",
       "  'dead_end_metabolites': ['cpd00211_c0', 'cpd00211_e0']},\n",
       " {'start': 'cpd00029_e0',\n",
       "  'path': ['cpd00029_e0', 'cpd00067_c0', 'cpd00001_c0', 'cpd00211_c0'],\n",
       "  'missing_reactions': ['rxn08061', 'rxn48566', 'rxn45696'],\n",
       "  'num_missing': 3,\n",
       "  'flux': 0.0,\n",
       "  'blocked_reactions': ['rxn45696', 'rxn48566'],\n",
       "  'dead_end_metabolites': ['cpd32214_c0',\n",
       "   'cpd28082_c0',\n",
       "   'cpd27757_c0',\n",
       "   'cpd00211_c0',\n",
       "   'cpd24202_c0',\n",
       "   'cpd35107_c0',\n",
       "   'cpd17485_c0']},\n",
       " {'start': 'cpd00029_e0',\n",
       "  'path': ['cpd00029_e0', 'cpd00067_c0', 'cpd00003_c0', 'cpd00211_c0'],\n",
       "  'missing_reactions': ['rxn08061', 'rxn48555', 'rxn36395'],\n",
       "  'num_missing': 3,\n",
       "  'flux': 0.0,\n",
       "  'blocked_reactions': ['rxn48555', 'rxn36395'],\n",
       "  'dead_end_metabolites': ['cpd00211_c0',\n",
       "   'cpd24799_c0',\n",
       "   'cpd31860_c0',\n",
       "   'cpd05490_c0']},\n",
       " {'start': 'cpd00029_e0',\n",
       "  'path': ['cpd00029_e0', 'cpd00067_c0', 'cpd00004_c0', 'cpd00211_c0'],\n",
       "  'missing_reactions': ['rxn08061', 'rxn47755', 'rxn47214'],\n",
       "  'num_missing': 3,\n",
       "  'flux': 0.0,\n",
       "  'blocked_reactions': ['rxn47755', 'rxn47214'],\n",
       "  'dead_end_metabolites': ['cpd00211_c0',\n",
       "   'cpd28073_c0',\n",
       "   'cpd01011_c0',\n",
       "   'cpd27749_c0']},\n",
       " {'start': 'cpd00029_e0',\n",
       "  'path': ['cpd00029_e0', 'cpd00067_c0', 'cpd00007_c0', 'cpd00211_c0'],\n",
       "  'missing_reactions': ['rxn08061', 'rxn48556', 'rxn47214'],\n",
       "  'num_missing': 3,\n",
       "  'flux': 0.0,\n",
       "  'blocked_reactions': ['rxn48556', 'rxn47214'],\n",
       "  'dead_end_metabolites': ['cpd14529_c0',\n",
       "   'cpd34861_c0',\n",
       "   'cpd01011_c0',\n",
       "   'cpd00211_c0',\n",
       "   'cpd21035_c0',\n",
       "   'cpd11630_c0']},\n",
       " {'start': 'cpd00029_e0',\n",
       "  'path': ['cpd00029_e0', 'cpd00067_c0', 'cpd00006_c0', 'cpd00211_c0'],\n",
       "  'missing_reactions': ['rxn08061', 'rxn48546', 'rxn36394'],\n",
       "  'num_missing': 3,\n",
       "  'flux': 0.0,\n",
       "  'blocked_reactions': ['rxn36394'],\n",
       "  'dead_end_metabolites': ['cpd00211_c0', 'cpd24799_c0', 'cpd00239_c0']},\n",
       " {'start': 'cpd00029_e0',\n",
       "  'path': ['cpd00029_e0', 'cpd00067_c0', 'cpd00008_c0', 'cpd00211_c0'],\n",
       "  'missing_reactions': ['rxn08061', 'rxn48557', 'rxn01236'],\n",
       "  'num_missing': 3,\n",
       "  'flux': 0.0,\n",
       "  'blocked_reactions': ['rxn48557', 'rxn01236'],\n",
       "  'dead_end_metabolites': ['cpd01662_c0', 'cpd32612_c0', 'cpd24818_c0']},\n",
       " {'start': 'cpd00029_e0',\n",
       "  'path': ['cpd00029_e0', 'cpd00067_c0', 'cpd01011_c0', 'cpd00211_c0'],\n",
       "  'missing_reactions': ['rxn08061', 'rxn44504', 'rxn47214'],\n",
       "  'num_missing': 3,\n",
       "  'flux': 0.0,\n",
       "  'blocked_reactions': ['rxn44504', 'rxn47214'],\n",
       "  'dead_end_metabolites': ['cpd00211_c0', 'cpd03737_c0']},\n",
       " {'start': 'cpd00029_e0',\n",
       "  'path': ['cpd00029_e0', 'cpd00067_c0', 'cpd00120_c0', 'cpd00211_c0'],\n",
       "  'missing_reactions': ['rxn08061', 'rxn38807', 'rxn13713'],\n",
       "  'num_missing': 3,\n",
       "  'flux': 0.0,\n",
       "  'blocked_reactions': ['rxn38807', 'rxn13713'],\n",
       "  'dead_end_metabolites': ['cpd07946_c0',\n",
       "   'cpd00120_c0',\n",
       "   'cpd00728_c0',\n",
       "   'cpd00211_c0',\n",
       "   'cpd00650_c0']},\n",
       " {'start': 'cpd00029_e0',\n",
       "  'path': ['cpd00029_e0', 'cpd00067_c0', 'cpd00728_c0', 'cpd00211_c0'],\n",
       "  'missing_reactions': ['rxn08061', 'rxn38972', 'rxn13713'],\n",
       "  'num_missing': 3,\n",
       "  'flux': 0.0,\n",
       "  'blocked_reactions': ['rxn38972', 'rxn13713'],\n",
       "  'dead_end_metabolites': ['cpd00120_c0',\n",
       "   'cpd00211_c0',\n",
       "   'cpd00199_c0',\n",
       "   'cpd07946_c0']},\n",
       " {'start': 'cpd00029_e0',\n",
       "  'path': ['cpd00029_e0', 'cpd00067_c0', 'cpd00029_c0', 'cpd00211_c0'],\n",
       "  'missing_reactions': ['rxn08061', 'rxn48418', 'rxn13427'],\n",
       "  'num_missing': 3,\n",
       "  'flux': 0.0,\n",
       "  'blocked_reactions': ['rxn48418', 'rxn13427'],\n",
       "  'dead_end_metabolites': ['cpd22526_c0', 'cpd27220_c0', 'cpd16910_c0']},\n",
       " {'start': 'cpd00029_e0',\n",
       "  'path': ['cpd00029_e0', 'cpd00067_c0', 'cpd02283_c0', 'cpd00211_c0'],\n",
       "  'missing_reactions': ['rxn08061', 'rxn02879', 'rxn02879'],\n",
       "  'num_missing': 3,\n",
       "  'flux': 0.0,\n",
       "  'blocked_reactions': ['rxn02879'],\n",
       "  'dead_end_metabolites': ['cpd00211_c0', 'cpd01935_c0', 'cpd02283_c0']},\n",
       " {'start': 'cpd00029_e0',\n",
       "  'path': ['cpd00029_e0', 'cpd00067_c0', 'cpd00067_e0', 'cpd00211_c0'],\n",
       "  'missing_reactions': ['rxn08061', 'rxn48492', 'rxn08183'],\n",
       "  'num_missing': 3,\n",
       "  'flux': 0.0,\n",
       "  'blocked_reactions': ['rxn48492'],\n",
       "  'dead_end_metabolites': ['cpd00211_c0',\n",
       "   'cpd00211_e0',\n",
       "   'cpd00536_e0',\n",
       "   'cpd16638_c0']},\n",
       " {'start': 'cpd00029_e0',\n",
       "  'path': ['cpd00029_e0', 'cpd00067_c0', 'cpd00211_e0', 'cpd00211_c0'],\n",
       "  'missing_reactions': ['rxn08061', 'rxn08183', 'rxn11382'],\n",
       "  'num_missing': 3,\n",
       "  'flux': 0.0,\n",
       "  'blocked_reactions': [],\n",
       "  'dead_end_metabolites': ['cpd00211_c0', 'cpd00211_e0']},\n",
       " {'start': 'cpd00029_e0',\n",
       "  'path': ['cpd00029_e0', 'cpd00067_c0', 'cpd16910_c0', 'cpd00211_c0'],\n",
       "  'missing_reactions': ['rxn08061', 'rxn13429', 'rxn13427'],\n",
       "  'num_missing': 3,\n",
       "  'flux': 0.0,\n",
       "  'blocked_reactions': ['rxn13427', 'rxn13429'],\n",
       "  'dead_end_metabolites': ['cpd00650_c0']},\n",
       " {'start': 'cpd00029_e0',\n",
       "  'path': ['cpd00029_e0', 'cpd00067_c0', 'cpd08635_c0', 'cpd00211_c0'],\n",
       "  'missing_reactions': ['rxn08061', 'rxn13813', 'rxn43672'],\n",
       "  'num_missing': 3,\n",
       "  'flux': 0.0,\n",
       "  'blocked_reactions': ['rxn13813', 'rxn43672'],\n",
       "  'dead_end_metabolites': ['cpd08635_c0',\n",
       "   'cpd00211_c0',\n",
       "   'cpd16660_c0',\n",
       "   'cpd21022_c0']},\n",
       " {'start': 'cpd00029_e0',\n",
       "  'path': ['cpd00029_e0', 'cpd00067_c0', 'cpd09684_c0', 'cpd00211_c0'],\n",
       "  'missing_reactions': ['rxn08061', 'rxn38354', 'rxn38354'],\n",
       "  'num_missing': 3,\n",
       "  'flux': 0.0,\n",
       "  'blocked_reactions': ['rxn38354'],\n",
       "  'dead_end_metabolites': ['cpd09684_c0', 'cpd00211_c0', 'cpd23712_c0']},\n",
       " {'start': 'cpd00029_e0',\n",
       "  'path': ['cpd00029_e0', 'cpd00067_c0', 'cpd23791_c0', 'cpd00211_c0'],\n",
       "  'missing_reactions': ['rxn08061', 'rxn22762', 'rxn36391'],\n",
       "  'num_missing': 3,\n",
       "  'flux': 0.0,\n",
       "  'blocked_reactions': ['rxn22762', 'rxn36391'],\n",
       "  'dead_end_metabolites': ['cpd00211_c0', 'cpd24799_c0']},\n",
       " {'start': 'cpd00029_e0',\n",
       "  'path': ['cpd00029_e0', 'cpd00067_c0', 'cpd00142_c0', 'cpd00211_c0'],\n",
       "  'missing_reactions': ['rxn08061', 'rxn23640', 'rxn00994'],\n",
       "  'num_missing': 3,\n",
       "  'flux': 0.0,\n",
       "  'blocked_reactions': ['rxn23640', 'rxn00994'],\n",
       "  'dead_end_metabolites': ['cpd24320_c0',\n",
       "   'cpd24314_c0',\n",
       "   'cpd00279_c0',\n",
       "   'cpd00142_c0',\n",
       "   'cpd27896_c0',\n",
       "   'cpd00120_c0',\n",
       "   'cpd00211_c0']},\n",
       " {'start': 'cpd00029_e0',\n",
       "  'path': ['cpd00029_e0', 'cpd00067_c0', 'cpd24683_c0', 'cpd00211_c0'],\n",
       "  'missing_reactions': ['rxn08061', 'rxn42231', 'rxn36393'],\n",
       "  'num_missing': 3,\n",
       "  'flux': 0.0,\n",
       "  'blocked_reactions': ['rxn42231', 'rxn36393'],\n",
       "  'dead_end_metabolites': ['cpd24683_c0', 'cpd00211_c0', 'cpd00481_c0']},\n",
       " {'start': 'cpd00029_e0',\n",
       "  'path': ['cpd00029_e0', 'cpd00067_c0', 'cpd24202_c0', 'cpd00211_c0'],\n",
       "  'missing_reactions': ['rxn08061', 'rxn45696', 'rxn45696'],\n",
       "  'num_missing': 3,\n",
       "  'flux': 0.0,\n",
       "  'blocked_reactions': ['rxn45696'],\n",
       "  'dead_end_metabolites': ['cpd00211_c0', 'cpd32214_c0', 'cpd24202_c0']},\n",
       " {'start': 'cpd00029_e0',\n",
       "  'path': ['cpd00029_e0', 'cpd00971_c0', 'cpd00008_c0', 'cpd00211_c0'],\n",
       "  'missing_reactions': ['rxn30452', 'rxn34513', 'rxn01236'],\n",
       "  'num_missing': 3,\n",
       "  'flux': 0.0,\n",
       "  'blocked_reactions': ['rxn01236'],\n",
       "  'dead_end_metabolites': ['cpd01662_c0']},\n",
       " {'start': 'cpd00029_e0',\n",
       "  'path': ['cpd00029_e0', 'cpd00971_c0', 'cpd00067_e0', 'cpd00211_c0'],\n",
       "  'missing_reactions': ['rxn30452', 'rxn29253', 'rxn08183'],\n",
       "  'num_missing': 3,\n",
       "  'flux': 0.0,\n",
       "  'blocked_reactions': [],\n",
       "  'dead_end_metabolites': ['cpd00211_c0',\n",
       "   'cpd00211_e0',\n",
       "   'cpd00971_e0',\n",
       "   'cpd00971_c0']},\n",
       " {'start': 'cpd00029_e0',\n",
       "  'path': ['cpd00029_e0', 'cpd00971_c0', 'cpd00003_c0', 'cpd00211_c0'],\n",
       "  'missing_reactions': ['rxn30452', 'rxn37571', 'rxn36395'],\n",
       "  'num_missing': 3,\n",
       "  'flux': 0.0,\n",
       "  'blocked_reactions': ['rxn37571', 'rxn36395'],\n",
       "  'dead_end_metabolites': ['cpd00211_c0',\n",
       "   'cpd24799_c0',\n",
       "   'cpd25915_c0',\n",
       "   'cpd08232_c0']},\n",
       " {'start': 'cpd00029_e0',\n",
       "  'path': ['cpd00029_e0', 'cpd00971_c0', 'cpd00004_c0', 'cpd00211_c0'],\n",
       "  'missing_reactions': ['rxn30452', 'rxn45615', 'rxn47214'],\n",
       "  'num_missing': 3,\n",
       "  'flux': 0.0,\n",
       "  'blocked_reactions': ['rxn45615', 'rxn47214'],\n",
       "  'dead_end_metabolites': ['cpd27757_c0',\n",
       "   'cpd28082_c0',\n",
       "   'cpd00211_c0',\n",
       "   'cpd01011_c0']},\n",
       " {'start': 'cpd00029_e0',\n",
       "  'path': ['cpd00029_e0', 'cpd00971_c0', 'cpd00029_c0', 'cpd00211_c0'],\n",
       "  'missing_reactions': ['rxn30452', 'rxn46442', 'rxn13427'],\n",
       "  'num_missing': 3,\n",
       "  'flux': 0.0,\n",
       "  'blocked_reactions': ['rxn46442', 'rxn13427'],\n",
       "  'dead_end_metabolites': ['cpd16910_c0', 'cpd00308_c0']}]"
      ]
     },
     "execution_count": 10,
     "metadata": {},
     "output_type": "execute_result"
    }
   ],
   "source": [
    "results"
   ]
  },
  {
   "cell_type": "code",
   "execution_count": 11,
   "id": "24047ffc",
   "metadata": {},
   "outputs": [
    {
     "name": "stdout",
     "output_type": "stream",
     "text": [
      "是否所有 flux 都为 0: True\n"
     ]
    }
   ],
   "source": [
    "all_zero = all(entry['flux'] == 0 for entry in results)\n",
    "print(f\"是否所有 flux 都为 0: {all_zero}\")"
   ]
  },
  {
   "cell_type": "code",
   "execution_count": 12,
   "id": "4b74c211",
   "metadata": {},
   "outputs": [
    {
     "data": {
      "text/plain": [
       "33"
      ]
     },
     "execution_count": 12,
     "metadata": {},
     "output_type": "execute_result"
    }
   ],
   "source": [
    "len(results)"
   ]
  },
  {
   "cell_type": "code",
   "execution_count": 13,
   "id": "266cb89f",
   "metadata": {},
   "outputs": [],
   "source": [
    "# 先按缺失反应数升序排列，缺失越少越靠前\n",
    "sorted_results = sorted(results, key=lambda r: r['num_missing'])\n",
    "sorted_results = sorted(sorted_results, key=lambda r: len(r['dead_end_metabolites']), reverse=True)\n",
    "\n",
    "unique_missing = {}\n",
    "for item in sorted_results:\n",
    "    key = tuple(sorted(item['missing_reactions']))\n",
    "    if key not in unique_missing:\n",
    "        unique_missing[key] = item\n",
    "    if len(unique_missing) >= 1000:\n",
    "        break\n",
    "\n",
    "sampled_data = list(unique_missing.values())\n"
   ]
  },
  {
   "cell_type": "code",
   "execution_count": 14,
   "id": "e3fb235a",
   "metadata": {},
   "outputs": [
    {
     "data": {
      "text/plain": [
       "[{'start': 'cpd00029_e0',\n",
       "  'path': ['cpd00029_e0', 'cpd00067_c0', 'cpd00001_c0', 'cpd00211_c0'],\n",
       "  'missing_reactions': ['rxn08061', 'rxn48566', 'rxn45696'],\n",
       "  'num_missing': 3,\n",
       "  'flux': 0.0,\n",
       "  'blocked_reactions': ['rxn45696', 'rxn48566'],\n",
       "  'dead_end_metabolites': ['cpd32214_c0',\n",
       "   'cpd28082_c0',\n",
       "   'cpd27757_c0',\n",
       "   'cpd00211_c0',\n",
       "   'cpd24202_c0',\n",
       "   'cpd35107_c0',\n",
       "   'cpd17485_c0']},\n",
       " {'start': 'cpd00029_e0',\n",
       "  'path': ['cpd00029_e0', 'cpd00067_c0', 'cpd00142_c0', 'cpd00211_c0'],\n",
       "  'missing_reactions': ['rxn08061', 'rxn23640', 'rxn00994'],\n",
       "  'num_missing': 3,\n",
       "  'flux': 0.0,\n",
       "  'blocked_reactions': ['rxn23640', 'rxn00994'],\n",
       "  'dead_end_metabolites': ['cpd24320_c0',\n",
       "   'cpd24314_c0',\n",
       "   'cpd00279_c0',\n",
       "   'cpd00142_c0',\n",
       "   'cpd27896_c0',\n",
       "   'cpd00120_c0',\n",
       "   'cpd00211_c0']},\n",
       " {'start': 'cpd00029_e0',\n",
       "  'path': ['cpd00029_e0', 'cpd00029_c0', 'cpd00007_c0', 'cpd00211_c0'],\n",
       "  'missing_reactions': ['rxn31359', 'rxn44013', 'rxn47214'],\n",
       "  'num_missing': 3,\n",
       "  'flux': 0.0,\n",
       "  'blocked_reactions': ['rxn44013', 'rxn47214'],\n",
       "  'dead_end_metabolites': ['cpd01011_c0',\n",
       "   'cpd00211_c0',\n",
       "   'cpd00866_c0',\n",
       "   'cpd00237_c0',\n",
       "   'cpd21035_c0',\n",
       "   'cpd11630_c0']},\n",
       " {'start': 'cpd00029_e0',\n",
       "  'path': ['cpd00029_e0', 'cpd00067_c0', 'cpd00007_c0', 'cpd00211_c0'],\n",
       "  'missing_reactions': ['rxn08061', 'rxn48556', 'rxn47214'],\n",
       "  'num_missing': 3,\n",
       "  'flux': 0.0,\n",
       "  'blocked_reactions': ['rxn48556', 'rxn47214'],\n",
       "  'dead_end_metabolites': ['cpd14529_c0',\n",
       "   'cpd34861_c0',\n",
       "   'cpd01011_c0',\n",
       "   'cpd00211_c0',\n",
       "   'cpd21035_c0',\n",
       "   'cpd11630_c0']},\n",
       " {'start': 'cpd00029_e0',\n",
       "  'path': ['cpd00029_e0', 'cpd00029_c0', 'cpd00001_c0', 'cpd00211_c0'],\n",
       "  'missing_reactions': ['rxn31359', 'rxn48258', 'rxn45696'],\n",
       "  'num_missing': 3,\n",
       "  'flux': 0.0,\n",
       "  'blocked_reactions': ['rxn45696', 'rxn48258'],\n",
       "  'dead_end_metabolites': ['cpd32214_c0',\n",
       "   'cpd36595_c0',\n",
       "   'cpd00211_c0',\n",
       "   'cpd27853_c0',\n",
       "   'cpd24202_c0']},\n",
       " {'start': 'cpd00029_e0',\n",
       "  'path': ['cpd00029_e0', 'cpd00067_c0', 'cpd00120_c0', 'cpd00211_c0'],\n",
       "  'missing_reactions': ['rxn08061', 'rxn38807', 'rxn13713'],\n",
       "  'num_missing': 3,\n",
       "  'flux': 0.0,\n",
       "  'blocked_reactions': ['rxn38807', 'rxn13713'],\n",
       "  'dead_end_metabolites': ['cpd07946_c0',\n",
       "   'cpd00120_c0',\n",
       "   'cpd00728_c0',\n",
       "   'cpd00211_c0',\n",
       "   'cpd00650_c0']},\n",
       " {'start': 'cpd00029_e0',\n",
       "  'path': ['cpd00029_e0', 'cpd00029_c0', 'cpd00003_c0', 'cpd00211_c0'],\n",
       "  'missing_reactions': ['rxn31359', 'rxn31419', 'rxn36395'],\n",
       "  'num_missing': 3,\n",
       "  'flux': 0.0,\n",
       "  'blocked_reactions': ['rxn31419', 'rxn36395'],\n",
       "  'dead_end_metabolites': ['cpd00211_c0',\n",
       "   'cpd24799_c0',\n",
       "   'cpd00333_c0',\n",
       "   'cpd00153_c0']},\n",
       " {'start': 'cpd00029_e0',\n",
       "  'path': ['cpd00029_e0', 'cpd00029_c0', 'cpd00142_c0', 'cpd00211_c0'],\n",
       "  'missing_reactions': ['rxn31359', 'rxn44633', 'rxn00994'],\n",
       "  'num_missing': 3,\n",
       "  'flux': 0.0,\n",
       "  'blocked_reactions': ['rxn00994', 'rxn44633'],\n",
       "  'dead_end_metabolites': ['cpd00120_c0',\n",
       "   'cpd00211_c0',\n",
       "   'cpd00279_c0',\n",
       "   'cpd00142_c0']},\n",
       " {'start': 'cpd00029_e0',\n",
       "  'path': ['cpd00029_e0', 'cpd00029_c0', 'cpd00728_c0', 'cpd00211_c0'],\n",
       "  'missing_reactions': ['rxn31359', 'rxn25216', 'rxn13713'],\n",
       "  'num_missing': 3,\n",
       "  'flux': 0.0,\n",
       "  'blocked_reactions': ['rxn25216', 'rxn13713'],\n",
       "  'dead_end_metabolites': ['cpd00120_c0',\n",
       "   'cpd00728_c0',\n",
       "   'cpd00211_c0',\n",
       "   'cpd07946_c0']},\n",
       " {'start': 'cpd00029_e0',\n",
       "  'path': ['cpd00029_e0', 'cpd00067_c0', 'cpd00003_c0', 'cpd00211_c0'],\n",
       "  'missing_reactions': ['rxn08061', 'rxn48555', 'rxn36395'],\n",
       "  'num_missing': 3,\n",
       "  'flux': 0.0,\n",
       "  'blocked_reactions': ['rxn48555', 'rxn36395'],\n",
       "  'dead_end_metabolites': ['cpd00211_c0',\n",
       "   'cpd24799_c0',\n",
       "   'cpd31860_c0',\n",
       "   'cpd05490_c0']},\n",
       " {'start': 'cpd00029_e0',\n",
       "  'path': ['cpd00029_e0', 'cpd00067_c0', 'cpd00004_c0', 'cpd00211_c0'],\n",
       "  'missing_reactions': ['rxn08061', 'rxn47755', 'rxn47214'],\n",
       "  'num_missing': 3,\n",
       "  'flux': 0.0,\n",
       "  'blocked_reactions': ['rxn47755', 'rxn47214'],\n",
       "  'dead_end_metabolites': ['cpd00211_c0',\n",
       "   'cpd28073_c0',\n",
       "   'cpd01011_c0',\n",
       "   'cpd27749_c0']},\n",
       " {'start': 'cpd00029_e0',\n",
       "  'path': ['cpd00029_e0', 'cpd00067_c0', 'cpd00728_c0', 'cpd00211_c0'],\n",
       "  'missing_reactions': ['rxn08061', 'rxn38972', 'rxn13713'],\n",
       "  'num_missing': 3,\n",
       "  'flux': 0.0,\n",
       "  'blocked_reactions': ['rxn38972', 'rxn13713'],\n",
       "  'dead_end_metabolites': ['cpd00120_c0',\n",
       "   'cpd00211_c0',\n",
       "   'cpd00199_c0',\n",
       "   'cpd07946_c0']},\n",
       " {'start': 'cpd00029_e0',\n",
       "  'path': ['cpd00029_e0', 'cpd00067_c0', 'cpd00067_e0', 'cpd00211_c0'],\n",
       "  'missing_reactions': ['rxn08061', 'rxn48492', 'rxn08183'],\n",
       "  'num_missing': 3,\n",
       "  'flux': 0.0,\n",
       "  'blocked_reactions': ['rxn48492'],\n",
       "  'dead_end_metabolites': ['cpd00211_c0',\n",
       "   'cpd00211_e0',\n",
       "   'cpd00536_e0',\n",
       "   'cpd16638_c0']},\n",
       " {'start': 'cpd00029_e0',\n",
       "  'path': ['cpd00029_e0', 'cpd00067_c0', 'cpd08635_c0', 'cpd00211_c0'],\n",
       "  'missing_reactions': ['rxn08061', 'rxn13813', 'rxn43672'],\n",
       "  'num_missing': 3,\n",
       "  'flux': 0.0,\n",
       "  'blocked_reactions': ['rxn13813', 'rxn43672'],\n",
       "  'dead_end_metabolites': ['cpd08635_c0',\n",
       "   'cpd00211_c0',\n",
       "   'cpd16660_c0',\n",
       "   'cpd21022_c0']},\n",
       " {'start': 'cpd00029_e0',\n",
       "  'path': ['cpd00029_e0', 'cpd00971_c0', 'cpd00067_e0', 'cpd00211_c0'],\n",
       "  'missing_reactions': ['rxn30452', 'rxn29253', 'rxn08183'],\n",
       "  'num_missing': 3,\n",
       "  'flux': 0.0,\n",
       "  'blocked_reactions': [],\n",
       "  'dead_end_metabolites': ['cpd00211_c0',\n",
       "   'cpd00211_e0',\n",
       "   'cpd00971_e0',\n",
       "   'cpd00971_c0']},\n",
       " {'start': 'cpd00029_e0',\n",
       "  'path': ['cpd00029_e0', 'cpd00971_c0', 'cpd00003_c0', 'cpd00211_c0'],\n",
       "  'missing_reactions': ['rxn30452', 'rxn37571', 'rxn36395'],\n",
       "  'num_missing': 3,\n",
       "  'flux': 0.0,\n",
       "  'blocked_reactions': ['rxn37571', 'rxn36395'],\n",
       "  'dead_end_metabolites': ['cpd00211_c0',\n",
       "   'cpd24799_c0',\n",
       "   'cpd25915_c0',\n",
       "   'cpd08232_c0']},\n",
       " {'start': 'cpd00029_e0',\n",
       "  'path': ['cpd00029_e0', 'cpd00971_c0', 'cpd00004_c0', 'cpd00211_c0'],\n",
       "  'missing_reactions': ['rxn30452', 'rxn45615', 'rxn47214'],\n",
       "  'num_missing': 3,\n",
       "  'flux': 0.0,\n",
       "  'blocked_reactions': ['rxn45615', 'rxn47214'],\n",
       "  'dead_end_metabolites': ['cpd27757_c0',\n",
       "   'cpd28082_c0',\n",
       "   'cpd00211_c0',\n",
       "   'cpd01011_c0']},\n",
       " {'start': 'cpd00029_e0',\n",
       "  'path': ['cpd00029_e0', 'cpd00067_c0', 'cpd00006_c0', 'cpd00211_c0'],\n",
       "  'missing_reactions': ['rxn08061', 'rxn48546', 'rxn36394'],\n",
       "  'num_missing': 3,\n",
       "  'flux': 0.0,\n",
       "  'blocked_reactions': ['rxn36394'],\n",
       "  'dead_end_metabolites': ['cpd00211_c0', 'cpd24799_c0', 'cpd00239_c0']},\n",
       " {'start': 'cpd00029_e0',\n",
       "  'path': ['cpd00029_e0', 'cpd00067_c0', 'cpd00008_c0', 'cpd00211_c0'],\n",
       "  'missing_reactions': ['rxn08061', 'rxn48557', 'rxn01236'],\n",
       "  'num_missing': 3,\n",
       "  'flux': 0.0,\n",
       "  'blocked_reactions': ['rxn48557', 'rxn01236'],\n",
       "  'dead_end_metabolites': ['cpd01662_c0', 'cpd32612_c0', 'cpd24818_c0']},\n",
       " {'start': 'cpd00029_e0',\n",
       "  'path': ['cpd00029_e0', 'cpd00067_c0', 'cpd00029_c0', 'cpd00211_c0'],\n",
       "  'missing_reactions': ['rxn08061', 'rxn48418', 'rxn13427'],\n",
       "  'num_missing': 3,\n",
       "  'flux': 0.0,\n",
       "  'blocked_reactions': ['rxn48418', 'rxn13427'],\n",
       "  'dead_end_metabolites': ['cpd22526_c0', 'cpd27220_c0', 'cpd16910_c0']},\n",
       " {'start': 'cpd00029_e0',\n",
       "  'path': ['cpd00029_e0', 'cpd00067_c0', 'cpd02283_c0', 'cpd00211_c0'],\n",
       "  'missing_reactions': ['rxn08061', 'rxn02879', 'rxn02879'],\n",
       "  'num_missing': 3,\n",
       "  'flux': 0.0,\n",
       "  'blocked_reactions': ['rxn02879'],\n",
       "  'dead_end_metabolites': ['cpd00211_c0', 'cpd01935_c0', 'cpd02283_c0']},\n",
       " {'start': 'cpd00029_e0',\n",
       "  'path': ['cpd00029_e0', 'cpd00067_c0', 'cpd09684_c0', 'cpd00211_c0'],\n",
       "  'missing_reactions': ['rxn08061', 'rxn38354', 'rxn38354'],\n",
       "  'num_missing': 3,\n",
       "  'flux': 0.0,\n",
       "  'blocked_reactions': ['rxn38354'],\n",
       "  'dead_end_metabolites': ['cpd09684_c0', 'cpd00211_c0', 'cpd23712_c0']},\n",
       " {'start': 'cpd00029_e0',\n",
       "  'path': ['cpd00029_e0', 'cpd00067_c0', 'cpd24683_c0', 'cpd00211_c0'],\n",
       "  'missing_reactions': ['rxn08061', 'rxn42231', 'rxn36393'],\n",
       "  'num_missing': 3,\n",
       "  'flux': 0.0,\n",
       "  'blocked_reactions': ['rxn42231', 'rxn36393'],\n",
       "  'dead_end_metabolites': ['cpd24683_c0', 'cpd00211_c0', 'cpd00481_c0']},\n",
       " {'start': 'cpd00029_e0',\n",
       "  'path': ['cpd00029_e0', 'cpd00067_c0', 'cpd24202_c0', 'cpd00211_c0'],\n",
       "  'missing_reactions': ['rxn08061', 'rxn45696', 'rxn45696'],\n",
       "  'num_missing': 3,\n",
       "  'flux': 0.0,\n",
       "  'blocked_reactions': ['rxn45696'],\n",
       "  'dead_end_metabolites': ['cpd00211_c0', 'cpd32214_c0', 'cpd24202_c0']},\n",
       " {'start': 'cpd00029_e0',\n",
       "  'path': ['cpd00029_e0', 'cpd00029_c0', 'cpd00008_c0', 'cpd00211_c0'],\n",
       "  'missing_reactions': ['rxn31359', 'rxn34299', 'rxn01236'],\n",
       "  'num_missing': 3,\n",
       "  'flux': 0.0,\n",
       "  'blocked_reactions': ['rxn01236'],\n",
       "  'dead_end_metabolites': ['cpd01662_c0', 'cpd00196_c0']},\n",
       " {'start': 'cpd00029_e0',\n",
       "  'path': ['cpd00029_e0', 'cpd00029_c0', 'cpd00067_e0', 'cpd00211_c0'],\n",
       "  'missing_reactions': ['rxn31359', 'rxn08061', 'rxn08183'],\n",
       "  'num_missing': 3,\n",
       "  'flux': 0.0,\n",
       "  'blocked_reactions': [],\n",
       "  'dead_end_metabolites': ['cpd00211_c0', 'cpd00211_e0']},\n",
       " {'start': 'cpd00029_e0',\n",
       "  'path': ['cpd00029_e0', 'cpd00067_c0', 'cpd01011_c0', 'cpd00211_c0'],\n",
       "  'missing_reactions': ['rxn08061', 'rxn44504', 'rxn47214'],\n",
       "  'num_missing': 3,\n",
       "  'flux': 0.0,\n",
       "  'blocked_reactions': ['rxn44504', 'rxn47214'],\n",
       "  'dead_end_metabolites': ['cpd00211_c0', 'cpd03737_c0']},\n",
       " {'start': 'cpd00029_e0',\n",
       "  'path': ['cpd00029_e0', 'cpd00067_c0', 'cpd00211_e0', 'cpd00211_c0'],\n",
       "  'missing_reactions': ['rxn08061', 'rxn08183', 'rxn11382'],\n",
       "  'num_missing': 3,\n",
       "  'flux': 0.0,\n",
       "  'blocked_reactions': [],\n",
       "  'dead_end_metabolites': ['cpd00211_c0', 'cpd00211_e0']},\n",
       " {'start': 'cpd00029_e0',\n",
       "  'path': ['cpd00029_e0', 'cpd00067_c0', 'cpd23791_c0', 'cpd00211_c0'],\n",
       "  'missing_reactions': ['rxn08061', 'rxn22762', 'rxn36391'],\n",
       "  'num_missing': 3,\n",
       "  'flux': 0.0,\n",
       "  'blocked_reactions': ['rxn22762', 'rxn36391'],\n",
       "  'dead_end_metabolites': ['cpd00211_c0', 'cpd24799_c0']},\n",
       " {'start': 'cpd00029_e0',\n",
       "  'path': ['cpd00029_e0', 'cpd00971_c0', 'cpd00029_c0', 'cpd00211_c0'],\n",
       "  'missing_reactions': ['rxn30452', 'rxn46442', 'rxn13427'],\n",
       "  'num_missing': 3,\n",
       "  'flux': 0.0,\n",
       "  'blocked_reactions': ['rxn46442', 'rxn13427'],\n",
       "  'dead_end_metabolites': ['cpd16910_c0', 'cpd00308_c0']},\n",
       " {'start': 'cpd00029_e0',\n",
       "  'path': ['cpd00029_e0', 'cpd00029_c0', 'cpd00211_c0'],\n",
       "  'missing_reactions': ['rxn31359', 'rxn13427'],\n",
       "  'num_missing': 2,\n",
       "  'flux': 0.0,\n",
       "  'blocked_reactions': ['rxn13427'],\n",
       "  'dead_end_metabolites': ['cpd16910_c0']},\n",
       " {'start': 'cpd00029_e0',\n",
       "  'path': ['cpd00029_e0', 'cpd00067_c0', 'cpd16910_c0', 'cpd00211_c0'],\n",
       "  'missing_reactions': ['rxn08061', 'rxn13429', 'rxn13427'],\n",
       "  'num_missing': 3,\n",
       "  'flux': 0.0,\n",
       "  'blocked_reactions': ['rxn13427', 'rxn13429'],\n",
       "  'dead_end_metabolites': ['cpd00650_c0']},\n",
       " {'start': 'cpd00029_e0',\n",
       "  'path': ['cpd00029_e0', 'cpd00971_c0', 'cpd00008_c0', 'cpd00211_c0'],\n",
       "  'missing_reactions': ['rxn30452', 'rxn34513', 'rxn01236'],\n",
       "  'num_missing': 3,\n",
       "  'flux': 0.0,\n",
       "  'blocked_reactions': ['rxn01236'],\n",
       "  'dead_end_metabolites': ['cpd01662_c0']}]"
      ]
     },
     "execution_count": 14,
     "metadata": {},
     "output_type": "execute_result"
    }
   ],
   "source": [
    "sampled_data"
   ]
  },
  {
   "cell_type": "code",
   "execution_count": 15,
   "id": "f1fb5f58",
   "metadata": {},
   "outputs": [
    {
     "name": "stdout",
     "output_type": "stream",
     "text": [
      "Read LP format model from file /var/folders/6w/knrbtrj125ggkrx091kd2g840000gn/T/tmp3bdycq20.lp\n",
      "Reading time = 0.00 seconds\n",
      ": 688 rows, 1404 columns, 6586 nonzeros\n",
      "Read LP format model from file /var/folders/6w/knrbtrj125ggkrx091kd2g840000gn/T/tmp7_jb1my0.lp\n",
      "Reading time = 0.00 seconds\n",
      ": 688 rows, 1404 columns, 6586 nonzeros\n",
      "Read LP format model from file /var/folders/6w/knrbtrj125ggkrx091kd2g840000gn/T/tmpygqn2vgd.lp\n",
      "Reading time = 0.00 seconds\n",
      ": 688 rows, 1404 columns, 6586 nonzeros\n",
      "Read LP format model from file /var/folders/6w/knrbtrj125ggkrx091kd2g840000gn/T/tmp5ck51tka.lp\n",
      "Reading time = 0.00 seconds\n",
      ": 688 rows, 1404 columns, 6586 nonzeros\n",
      "Read LP format model from file /var/folders/6w/knrbtrj125ggkrx091kd2g840000gn/T/tmp1fwwzjjk.lp\n",
      "Reading time = 0.00 seconds\n",
      ": 688 rows, 1404 columns, 6586 nonzeros\n",
      "Read LP format model from file /var/folders/6w/knrbtrj125ggkrx091kd2g840000gn/T/tmpbrurlb5j.lp\n",
      "Reading time = 0.00 seconds\n",
      ": 688 rows, 1404 columns, 6586 nonzeros\n",
      "Read LP format model from file /var/folders/6w/knrbtrj125ggkrx091kd2g840000gn/T/tmpzidjgm4j.lp\n",
      "Reading time = 0.00 seconds\n",
      ": 688 rows, 1404 columns, 6586 nonzeros\n",
      "Read LP format model from file /var/folders/6w/knrbtrj125ggkrx091kd2g840000gn/T/tmpfuhpcn58.lp\n",
      "Reading time = 0.00 seconds\n",
      ": 688 rows, 1404 columns, 6586 nonzeros\n",
      "Read LP format model from file /var/folders/6w/knrbtrj125ggkrx091kd2g840000gn/T/tmp_66nyitd.lp\n",
      "Reading time = 0.00 seconds\n",
      ": 688 rows, 1404 columns, 6586 nonzeros\n",
      "Read LP format model from file /var/folders/6w/knrbtrj125ggkrx091kd2g840000gn/T/tmpy5yiwfqa.lp\n",
      "Reading time = 0.00 seconds\n",
      ": 688 rows, 1404 columns, 6586 nonzeros\n",
      "Read LP format model from file /var/folders/6w/knrbtrj125ggkrx091kd2g840000gn/T/tmpv4a54ebl.lp\n",
      "Reading time = 0.00 seconds\n",
      ": 688 rows, 1404 columns, 6586 nonzeros\n",
      "Read LP format model from file /var/folders/6w/knrbtrj125ggkrx091kd2g840000gn/T/tmp_wuh3wld.lp\n",
      "Reading time = 0.00 seconds\n",
      ": 688 rows, 1404 columns, 6586 nonzeros\n",
      "Read LP format model from file /var/folders/6w/knrbtrj125ggkrx091kd2g840000gn/T/tmpw6f3bc5n.lp\n",
      "Reading time = 0.00 seconds\n",
      ": 688 rows, 1404 columns, 6586 nonzeros\n",
      "Read LP format model from file /var/folders/6w/knrbtrj125ggkrx091kd2g840000gn/T/tmpabee57gx.lp\n",
      "Reading time = 0.00 seconds\n",
      ": 688 rows, 1404 columns, 6586 nonzeros\n",
      "Read LP format model from file /var/folders/6w/knrbtrj125ggkrx091kd2g840000gn/T/tmpt62uzrqm.lp\n",
      "Reading time = 0.00 seconds\n",
      ": 688 rows, 1404 columns, 6586 nonzeros\n",
      "Read LP format model from file /var/folders/6w/knrbtrj125ggkrx091kd2g840000gn/T/tmp8m4a7a0t.lp\n",
      "Reading time = 0.00 seconds\n",
      ": 688 rows, 1404 columns, 6586 nonzeros\n",
      "Read LP format model from file /var/folders/6w/knrbtrj125ggkrx091kd2g840000gn/T/tmpzuisyaln.lp\n",
      "Reading time = 0.00 seconds\n",
      ": 688 rows, 1404 columns, 6586 nonzeros\n",
      "Read LP format model from file /var/folders/6w/knrbtrj125ggkrx091kd2g840000gn/T/tmp0i3hrtu0.lp\n",
      "Reading time = 0.00 seconds\n",
      ": 688 rows, 1404 columns, 6586 nonzeros\n",
      "Read LP format model from file /var/folders/6w/knrbtrj125ggkrx091kd2g840000gn/T/tmp7wv4i409.lp\n",
      "Reading time = 0.00 seconds\n",
      ": 688 rows, 1404 columns, 6586 nonzeros\n",
      "Read LP format model from file /var/folders/6w/knrbtrj125ggkrx091kd2g840000gn/T/tmp5hzlx0vv.lp\n",
      "Reading time = 0.00 seconds\n",
      ": 688 rows, 1404 columns, 6586 nonzeros\n",
      "Read LP format model from file /var/folders/6w/knrbtrj125ggkrx091kd2g840000gn/T/tmpzim3e03m.lp\n",
      "Reading time = 0.01 seconds\n",
      ": 688 rows, 1404 columns, 6586 nonzeros\n"
     ]
    },
    {
     "name": "stderr",
     "output_type": "stream",
     "text": [
      "Ignoring reaction 'rxn02879' since it already exists.\n"
     ]
    },
    {
     "name": "stdout",
     "output_type": "stream",
     "text": [
      "Read LP format model from file /var/folders/6w/knrbtrj125ggkrx091kd2g840000gn/T/tmplcwifr5n.lp\n",
      "Reading time = 0.00 seconds\n",
      ": 688 rows, 1404 columns, 6586 nonzeros\n"
     ]
    },
    {
     "name": "stderr",
     "output_type": "stream",
     "text": [
      "Ignoring reaction 'rxn38354' since it already exists.\n"
     ]
    },
    {
     "name": "stdout",
     "output_type": "stream",
     "text": [
      "Read LP format model from file /var/folders/6w/knrbtrj125ggkrx091kd2g840000gn/T/tmpuiuge6h8.lp\n",
      "Reading time = 0.00 seconds\n",
      ": 688 rows, 1404 columns, 6586 nonzeros\n",
      "Read LP format model from file /var/folders/6w/knrbtrj125ggkrx091kd2g840000gn/T/tmptpim1ajs.lp\n",
      "Reading time = 0.00 seconds\n",
      ": 688 rows, 1404 columns, 6586 nonzeros\n"
     ]
    },
    {
     "name": "stderr",
     "output_type": "stream",
     "text": [
      "Ignoring reaction 'rxn45696' since it already exists.\n"
     ]
    },
    {
     "name": "stdout",
     "output_type": "stream",
     "text": [
      "Read LP format model from file /var/folders/6w/knrbtrj125ggkrx091kd2g840000gn/T/tmprc8jdkuj.lp\n",
      "Reading time = 0.00 seconds\n",
      ": 688 rows, 1404 columns, 6586 nonzeros\n",
      "Read LP format model from file /var/folders/6w/knrbtrj125ggkrx091kd2g840000gn/T/tmpxso3ujvs.lp\n",
      "Reading time = 0.00 seconds\n",
      ": 688 rows, 1404 columns, 6586 nonzeros\n",
      "Read LP format model from file /var/folders/6w/knrbtrj125ggkrx091kd2g840000gn/T/tmpt018_zls.lp\n",
      "Reading time = 0.00 seconds\n",
      ": 688 rows, 1404 columns, 6586 nonzeros\n",
      "Read LP format model from file /var/folders/6w/knrbtrj125ggkrx091kd2g840000gn/T/tmpfgrt4tnf.lp\n",
      "Reading time = 0.00 seconds\n",
      ": 688 rows, 1404 columns, 6586 nonzeros\n",
      "Read LP format model from file /var/folders/6w/knrbtrj125ggkrx091kd2g840000gn/T/tmppqhda1go.lp\n",
      "Reading time = 0.00 seconds\n",
      ": 688 rows, 1404 columns, 6586 nonzeros\n",
      "Read LP format model from file /var/folders/6w/knrbtrj125ggkrx091kd2g840000gn/T/tmpcaub0ylp.lp\n",
      "Reading time = 0.01 seconds\n",
      ": 688 rows, 1404 columns, 6586 nonzeros\n",
      "Read LP format model from file /var/folders/6w/knrbtrj125ggkrx091kd2g840000gn/T/tmpaw4okgsp.lp\n",
      "Reading time = 0.00 seconds\n",
      ": 688 rows, 1404 columns, 6586 nonzeros\n",
      "Read LP format model from file /var/folders/6w/knrbtrj125ggkrx091kd2g840000gn/T/tmpu_v87bbb.lp\n",
      "Reading time = 0.00 seconds\n",
      ": 688 rows, 1404 columns, 6586 nonzeros\n"
     ]
    }
   ],
   "source": [
    "for item in sampled_data:\n",
    "    start = item['start']\n",
    "    path = item['path']\n",
    "    to_add_rxns = item['missing_reactions']\n",
    "    flux = item['flux']\n",
    "    blocked_in_path = item['blocked_reactions']\n",
    "    dead_ends_in_path = item['dead_end_metabolites']\n",
    "\n",
    "    record = {\n",
    "        \"start\": start,\n",
    "        \"path\": path,\n",
    "        \"missing_reactions\": to_add_rxns,\n",
    "        \"num_missing\": len(to_add_rxns),\n",
    "        \"flux\": flux,\n",
    "        \"blocked_reactions\": blocked_in_path,\n",
    "        \"dead_end_metabolites\": dead_ends_in_path\n",
    "    }\n",
    "\n",
    "    # 尝试补救 dead-end\n",
    "    extra_rxns = set()\n",
    "    for rxn_id, rxn in reaction_dict.items():\n",
    "        for met, coeff in rxn.metabolites.items():\n",
    "            if met.id in dead_ends_in_path and coeff < 0:  # 消费 dead-end\n",
    "                extra_rxns.add(rxn_id)\n",
    "                break\n",
    "\n",
    "    rescued_flux = 0.0\n",
    "    if extra_rxns:\n",
    "        with model.copy() as m2:\n",
    "            # 添加缺失反应\n",
    "            for rxn_id in to_add_rxns:\n",
    "                if rxn_id in reaction_dict:\n",
    "                    m2.add_reactions([reaction_dict[rxn_id].copy()])\n",
    "            # 添加补救反应\n",
    "            for rxn_id in extra_rxns:\n",
    "                if rxn_id in reaction_dict and rxn_id not in m2.reactions:\n",
    "                    m2.add_reactions([reaction_dict[rxn_id].copy()])\n",
    "\n",
    "            try:\n",
    "                m2.objective = m2.reactions.get_by_id(\"EX_cpd00211_e0\")\n",
    "                sol2 = m2.optimize()\n",
    "                rescued_flux = sol2.objective_value if sol2.status == \"optimal\" else 0.0\n",
    "            except:\n",
    "                rescued_flux = 0.0\n",
    "\n",
    "    record[\"rescued_reactions\"] = list(extra_rxns)\n",
    "    record[\"rescued_count\"] = len(extra_rxns)\n",
    "    record[\"rescued_flux\"] = rescued_flux\n",
    "\n",
    "    results.append(record)\n"
   ]
  },
  {
   "cell_type": "code",
   "execution_count": 16,
   "id": "2032e808",
   "metadata": {},
   "outputs": [
    {
     "data": {
      "text/plain": [
       "False"
      ]
     },
     "execution_count": 16,
     "metadata": {},
     "output_type": "execute_result"
    }
   ],
   "source": [
    "import pandas as pd\n",
    "df = pd.DataFrame(results)\n",
    "(df['rescued_flux'] == 1000).any()\n"
   ]
  },
  {
   "cell_type": "code",
   "execution_count": 18,
   "id": "b0dd6922",
   "metadata": {},
   "outputs": [
    {
     "data": {
      "text/html": [
       "<div>\n",
       "<style scoped>\n",
       "    .dataframe tbody tr th:only-of-type {\n",
       "        vertical-align: middle;\n",
       "    }\n",
       "\n",
       "    .dataframe tbody tr th {\n",
       "        vertical-align: top;\n",
       "    }\n",
       "\n",
       "    .dataframe thead th {\n",
       "        text-align: right;\n",
       "    }\n",
       "</style>\n",
       "<table border=\"1\" class=\"dataframe\">\n",
       "  <thead>\n",
       "    <tr style=\"text-align: right;\">\n",
       "      <th></th>\n",
       "      <th>start</th>\n",
       "      <th>path</th>\n",
       "      <th>missing_reactions</th>\n",
       "      <th>num_missing</th>\n",
       "      <th>flux</th>\n",
       "      <th>blocked_reactions</th>\n",
       "      <th>dead_end_metabolites</th>\n",
       "      <th>rescued_reactions</th>\n",
       "      <th>rescued_count</th>\n",
       "      <th>rescued_flux</th>\n",
       "    </tr>\n",
       "  </thead>\n",
       "  <tbody>\n",
       "    <tr>\n",
       "      <th>0</th>\n",
       "      <td>cpd00029_e0</td>\n",
       "      <td>[cpd00029_e0, cpd00029_c0, cpd00008_c0, cpd002...</td>\n",
       "      <td>[rxn31359, rxn34299, rxn01236]</td>\n",
       "      <td>3</td>\n",
       "      <td>0.0</td>\n",
       "      <td>[rxn01236]</td>\n",
       "      <td>[cpd01662_c0, cpd00196_c0]</td>\n",
       "      <td>NaN</td>\n",
       "      <td>NaN</td>\n",
       "      <td>NaN</td>\n",
       "    </tr>\n",
       "    <tr>\n",
       "      <th>1</th>\n",
       "      <td>cpd00029_e0</td>\n",
       "      <td>[cpd00029_e0, cpd00029_c0, cpd00001_c0, cpd002...</td>\n",
       "      <td>[rxn31359, rxn48258, rxn45696]</td>\n",
       "      <td>3</td>\n",
       "      <td>0.0</td>\n",
       "      <td>[rxn45696, rxn48258]</td>\n",
       "      <td>[cpd32214_c0, cpd36595_c0, cpd00211_c0, cpd278...</td>\n",
       "      <td>NaN</td>\n",
       "      <td>NaN</td>\n",
       "      <td>NaN</td>\n",
       "    </tr>\n",
       "    <tr>\n",
       "      <th>2</th>\n",
       "      <td>cpd00029_e0</td>\n",
       "      <td>[cpd00029_e0, cpd00029_c0, cpd00211_c0]</td>\n",
       "      <td>[rxn31359, rxn13427]</td>\n",
       "      <td>2</td>\n",
       "      <td>0.0</td>\n",
       "      <td>[rxn13427]</td>\n",
       "      <td>[cpd16910_c0]</td>\n",
       "      <td>NaN</td>\n",
       "      <td>NaN</td>\n",
       "      <td>NaN</td>\n",
       "    </tr>\n",
       "    <tr>\n",
       "      <th>3</th>\n",
       "      <td>cpd00029_e0</td>\n",
       "      <td>[cpd00029_e0, cpd00029_c0, cpd00003_c0, cpd002...</td>\n",
       "      <td>[rxn31359, rxn31419, rxn36395]</td>\n",
       "      <td>3</td>\n",
       "      <td>0.0</td>\n",
       "      <td>[rxn31419, rxn36395]</td>\n",
       "      <td>[cpd00211_c0, cpd24799_c0, cpd00333_c0, cpd001...</td>\n",
       "      <td>NaN</td>\n",
       "      <td>NaN</td>\n",
       "      <td>NaN</td>\n",
       "    </tr>\n",
       "    <tr>\n",
       "      <th>4</th>\n",
       "      <td>cpd00029_e0</td>\n",
       "      <td>[cpd00029_e0, cpd00029_c0, cpd00142_c0, cpd002...</td>\n",
       "      <td>[rxn31359, rxn44633, rxn00994]</td>\n",
       "      <td>3</td>\n",
       "      <td>0.0</td>\n",
       "      <td>[rxn00994, rxn44633]</td>\n",
       "      <td>[cpd00120_c0, cpd00211_c0, cpd00279_c0, cpd001...</td>\n",
       "      <td>NaN</td>\n",
       "      <td>NaN</td>\n",
       "      <td>NaN</td>\n",
       "    </tr>\n",
       "    <tr>\n",
       "      <th>...</th>\n",
       "      <td>...</td>\n",
       "      <td>...</td>\n",
       "      <td>...</td>\n",
       "      <td>...</td>\n",
       "      <td>...</td>\n",
       "      <td>...</td>\n",
       "      <td>...</td>\n",
       "      <td>...</td>\n",
       "      <td>...</td>\n",
       "      <td>...</td>\n",
       "    </tr>\n",
       "    <tr>\n",
       "      <th>61</th>\n",
       "      <td>cpd00029_e0</td>\n",
       "      <td>[cpd00029_e0, cpd00067_c0, cpd23791_c0, cpd002...</td>\n",
       "      <td>[rxn08061, rxn22762, rxn36391]</td>\n",
       "      <td>3</td>\n",
       "      <td>0.0</td>\n",
       "      <td>[rxn22762, rxn36391]</td>\n",
       "      <td>[cpd00211_c0, cpd24799_c0]</td>\n",
       "      <td>[rxn08184, rxn22750, rxn01237, rxn01236, rxn36...</td>\n",
       "      <td>11.0</td>\n",
       "      <td>0.0</td>\n",
       "    </tr>\n",
       "    <tr>\n",
       "      <th>62</th>\n",
       "      <td>cpd00029_e0</td>\n",
       "      <td>[cpd00029_e0, cpd00971_c0, cpd00029_c0, cpd002...</td>\n",
       "      <td>[rxn30452, rxn46442, rxn13427]</td>\n",
       "      <td>3</td>\n",
       "      <td>0.0</td>\n",
       "      <td>[rxn46442, rxn13427]</td>\n",
       "      <td>[cpd16910_c0, cpd00308_c0]</td>\n",
       "      <td>[rxn46442, rxn22819, rxn46786, rxn14087, rxn25...</td>\n",
       "      <td>12.0</td>\n",
       "      <td>0.0</td>\n",
       "    </tr>\n",
       "    <tr>\n",
       "      <th>63</th>\n",
       "      <td>cpd00029_e0</td>\n",
       "      <td>[cpd00029_e0, cpd00029_c0, cpd00211_c0]</td>\n",
       "      <td>[rxn31359, rxn13427]</td>\n",
       "      <td>2</td>\n",
       "      <td>0.0</td>\n",
       "      <td>[rxn13427]</td>\n",
       "      <td>[cpd16910_c0]</td>\n",
       "      <td>[rxn13429]</td>\n",
       "      <td>1.0</td>\n",
       "      <td>0.0</td>\n",
       "    </tr>\n",
       "    <tr>\n",
       "      <th>64</th>\n",
       "      <td>cpd00029_e0</td>\n",
       "      <td>[cpd00029_e0, cpd00067_c0, cpd16910_c0, cpd002...</td>\n",
       "      <td>[rxn08061, rxn13429, rxn13427]</td>\n",
       "      <td>3</td>\n",
       "      <td>0.0</td>\n",
       "      <td>[rxn13427, rxn13429]</td>\n",
       "      <td>[cpd00650_c0]</td>\n",
       "      <td>[rxn03874, rxn19669, rxn34630, rxn13420]</td>\n",
       "      <td>4.0</td>\n",
       "      <td>0.0</td>\n",
       "    </tr>\n",
       "    <tr>\n",
       "      <th>65</th>\n",
       "      <td>cpd00029_e0</td>\n",
       "      <td>[cpd00029_e0, cpd00971_c0, cpd00008_c0, cpd002...</td>\n",
       "      <td>[rxn30452, rxn34513, rxn01236]</td>\n",
       "      <td>3</td>\n",
       "      <td>0.0</td>\n",
       "      <td>[rxn01236]</td>\n",
       "      <td>[cpd01662_c0]</td>\n",
       "      <td>[]</td>\n",
       "      <td>0.0</td>\n",
       "      <td>0.0</td>\n",
       "    </tr>\n",
       "  </tbody>\n",
       "</table>\n",
       "<p>66 rows × 10 columns</p>\n",
       "</div>"
      ],
      "text/plain": [
       "          start                                               path  \\\n",
       "0   cpd00029_e0  [cpd00029_e0, cpd00029_c0, cpd00008_c0, cpd002...   \n",
       "1   cpd00029_e0  [cpd00029_e0, cpd00029_c0, cpd00001_c0, cpd002...   \n",
       "2   cpd00029_e0            [cpd00029_e0, cpd00029_c0, cpd00211_c0]   \n",
       "3   cpd00029_e0  [cpd00029_e0, cpd00029_c0, cpd00003_c0, cpd002...   \n",
       "4   cpd00029_e0  [cpd00029_e0, cpd00029_c0, cpd00142_c0, cpd002...   \n",
       "..          ...                                                ...   \n",
       "61  cpd00029_e0  [cpd00029_e0, cpd00067_c0, cpd23791_c0, cpd002...   \n",
       "62  cpd00029_e0  [cpd00029_e0, cpd00971_c0, cpd00029_c0, cpd002...   \n",
       "63  cpd00029_e0            [cpd00029_e0, cpd00029_c0, cpd00211_c0]   \n",
       "64  cpd00029_e0  [cpd00029_e0, cpd00067_c0, cpd16910_c0, cpd002...   \n",
       "65  cpd00029_e0  [cpd00029_e0, cpd00971_c0, cpd00008_c0, cpd002...   \n",
       "\n",
       "                 missing_reactions  num_missing  flux     blocked_reactions  \\\n",
       "0   [rxn31359, rxn34299, rxn01236]            3   0.0            [rxn01236]   \n",
       "1   [rxn31359, rxn48258, rxn45696]            3   0.0  [rxn45696, rxn48258]   \n",
       "2             [rxn31359, rxn13427]            2   0.0            [rxn13427]   \n",
       "3   [rxn31359, rxn31419, rxn36395]            3   0.0  [rxn31419, rxn36395]   \n",
       "4   [rxn31359, rxn44633, rxn00994]            3   0.0  [rxn00994, rxn44633]   \n",
       "..                             ...          ...   ...                   ...   \n",
       "61  [rxn08061, rxn22762, rxn36391]            3   0.0  [rxn22762, rxn36391]   \n",
       "62  [rxn30452, rxn46442, rxn13427]            3   0.0  [rxn46442, rxn13427]   \n",
       "63            [rxn31359, rxn13427]            2   0.0            [rxn13427]   \n",
       "64  [rxn08061, rxn13429, rxn13427]            3   0.0  [rxn13427, rxn13429]   \n",
       "65  [rxn30452, rxn34513, rxn01236]            3   0.0            [rxn01236]   \n",
       "\n",
       "                                 dead_end_metabolites  \\\n",
       "0                          [cpd01662_c0, cpd00196_c0]   \n",
       "1   [cpd32214_c0, cpd36595_c0, cpd00211_c0, cpd278...   \n",
       "2                                       [cpd16910_c0]   \n",
       "3   [cpd00211_c0, cpd24799_c0, cpd00333_c0, cpd001...   \n",
       "4   [cpd00120_c0, cpd00211_c0, cpd00279_c0, cpd001...   \n",
       "..                                                ...   \n",
       "61                         [cpd00211_c0, cpd24799_c0]   \n",
       "62                         [cpd16910_c0, cpd00308_c0]   \n",
       "63                                      [cpd16910_c0]   \n",
       "64                                      [cpd00650_c0]   \n",
       "65                                      [cpd01662_c0]   \n",
       "\n",
       "                                    rescued_reactions  rescued_count  \\\n",
       "0                                                 NaN            NaN   \n",
       "1                                                 NaN            NaN   \n",
       "2                                                 NaN            NaN   \n",
       "3                                                 NaN            NaN   \n",
       "4                                                 NaN            NaN   \n",
       "..                                                ...            ...   \n",
       "61  [rxn08184, rxn22750, rxn01237, rxn01236, rxn36...           11.0   \n",
       "62  [rxn46442, rxn22819, rxn46786, rxn14087, rxn25...           12.0   \n",
       "63                                         [rxn13429]            1.0   \n",
       "64           [rxn03874, rxn19669, rxn34630, rxn13420]            4.0   \n",
       "65                                                 []            0.0   \n",
       "\n",
       "    rescued_flux  \n",
       "0            NaN  \n",
       "1            NaN  \n",
       "2            NaN  \n",
       "3            NaN  \n",
       "4            NaN  \n",
       "..           ...  \n",
       "61           0.0  \n",
       "62           0.0  \n",
       "63           0.0  \n",
       "64           0.0  \n",
       "65           0.0  \n",
       "\n",
       "[66 rows x 10 columns]"
      ]
     },
     "execution_count": 18,
     "metadata": {},
     "output_type": "execute_result"
    }
   ],
   "source": [
    "df"
   ]
  },
  {
   "cell_type": "code",
   "execution_count": 17,
   "id": "430024bb",
   "metadata": {},
   "outputs": [
    {
     "data": {
      "text/html": [
       "<div>\n",
       "<style scoped>\n",
       "    .dataframe tbody tr th:only-of-type {\n",
       "        vertical-align: middle;\n",
       "    }\n",
       "\n",
       "    .dataframe tbody tr th {\n",
       "        vertical-align: top;\n",
       "    }\n",
       "\n",
       "    .dataframe thead th {\n",
       "        text-align: right;\n",
       "    }\n",
       "</style>\n",
       "<table border=\"1\" class=\"dataframe\">\n",
       "  <thead>\n",
       "    <tr style=\"text-align: right;\">\n",
       "      <th></th>\n",
       "      <th>start</th>\n",
       "      <th>path</th>\n",
       "      <th>missing_reactions</th>\n",
       "      <th>num_missing</th>\n",
       "      <th>flux</th>\n",
       "      <th>blocked_reactions</th>\n",
       "      <th>dead_end_metabolites</th>\n",
       "      <th>rescued_reactions</th>\n",
       "      <th>rescued_count</th>\n",
       "      <th>rescued_flux</th>\n",
       "    </tr>\n",
       "  </thead>\n",
       "  <tbody>\n",
       "  </tbody>\n",
       "</table>\n",
       "</div>"
      ],
      "text/plain": [
       "Empty DataFrame\n",
       "Columns: [start, path, missing_reactions, num_missing, flux, blocked_reactions, dead_end_metabolites, rescued_reactions, rescued_count, rescued_flux]\n",
       "Index: []"
      ]
     },
     "execution_count": 17,
     "metadata": {},
     "output_type": "execute_result"
    }
   ],
   "source": [
    "filtered_df = df[df['rescued_flux'] == 1000]\n",
    "df_f = pd.DataFrame(filtered_df)\n",
    "df_f"
   ]
  },
  {
   "cell_type": "code",
   "execution_count": 52,
   "id": "7f9ee2fa",
   "metadata": {},
   "outputs": [],
   "source": [
    "\n",
    "def find_minimal_rescue_set(model, reaction_dict, record):\n",
    "\n",
    "    necessary_rxns = set()\n",
    "    rescued = record['rescued_reactions']\n",
    "    missing = record['missing_reactions']\n",
    "\n",
    "    with model.copy() as base:\n",
    "        # Step 1: 添加 missing reactions\n",
    "        for rxn_id in missing:\n",
    "            if rxn_id in reaction_dict:\n",
    "                base.add_reactions([reaction_dict[rxn_id].copy()])\n",
    "\n",
    "        # Step 2: 检查 rescued reactions 哪些是必要的\n",
    "        for rxn_id in rescued:\n",
    "            with base.copy() as test_model:\n",
    "                # 添加除了当前 rxn 之外的 rescued reactions\n",
    "                for r_id in rescued:\n",
    "                    if r_id != rxn_id and r_id in reaction_dict:\n",
    "                        test_model.add_reactions([reaction_dict[r_id].copy()])\n",
    "\n",
    "                # 添加目标出口反应（如果模型中没有）\n",
    "                if \"EX_cpd00211_e0\" not in test_model.reactions:\n",
    "                    print(\"Warning: EX_cpd00211_e0 not in model.\")\n",
    "                    continue\n",
    "\n",
    "                try:\n",
    "                    test_model.objective = test_model.reactions.get_by_id(\"EX_cpd00211_e0\")\n",
    "                    sol = test_model.optimize()\n",
    "                    if sol.status != \"optimal\" or sol.objective_value < 1e-6:\n",
    "                        necessary_rxns.add(rxn_id)\n",
    "                except:\n",
    "                    necessary_rxns.add(rxn_id)  # 出错就保留\n",
    "    return list(necessary_rxns)\n",
    "\n",
    "def update_rescue_info_for_dataframe(df, model, reaction_dict):\n",
    "    for i, row in df.iterrows():\n",
    "        print(f\"Processing row {i}...\")\n",
    "        try:\n",
    "            minimal_rxns = find_minimal_rescue_set(model, reaction_dict, row)\n",
    "            df.at[i, \"rescued_reactions\"] = minimal_rxns\n",
    "            df.at[i, \"rescued_count\"] = len(minimal_rxns)\n",
    "\n",
    "            with model.copy() as m_final:\n",
    "                for rxn_id in row['missing_reactions']:\n",
    "                    if rxn_id in reaction_dict:\n",
    "                        m_final.add_reactions([reaction_dict[rxn_id].copy()])\n",
    "                for rxn_id in minimal_rxns:\n",
    "                    if rxn_id in reaction_dict:\n",
    "                        m_final.add_reactions([reaction_dict[rxn_id].copy()])\n",
    "                m_final.objective = m_final.reactions.get_by_id(\"EX_cpd00211_e0\")\n",
    "                sol_final = m_final.optimize()\n",
    "                flux = sol_final.objective_value if sol_final.status == \"optimal\" else 0.0\n",
    "                df.at[i, \"rescued_flux\"] = flux\n",
    "        except Exception as e:\n",
    "            print(f\"Error on row {i}: {e}\")\n",
    "            continue\n",
    "    return df\n"
   ]
  },
  {
   "cell_type": "code",
   "execution_count": 53,
   "id": "2dd4ab1f",
   "metadata": {},
   "outputs": [
    {
     "name": "stdout",
     "output_type": "stream",
     "text": [
      "Processing row 74...\n",
      "Read LP format model from file /var/folders/6w/knrbtrj125ggkrx091kd2g840000gn/T/tmpw8yvli0e.lp\n",
      "Reading time = 0.01 seconds\n",
      ": 949 rows, 2012 columns, 9034 nonzeros\n",
      "Read LP format model from file /var/folders/6w/knrbtrj125ggkrx091kd2g840000gn/T/tmpfviql5_2.lp\n",
      "Reading time = 0.02 seconds\n",
      ": 951 rows, 2018 columns, 9060 nonzeros\n"
     ]
    },
    {
     "name": "stderr",
     "output_type": "stream",
     "text": [
      "Ignoring reaction 'rxn13713' since it already exists.\n",
      "Ignoring reaction 'rxn38807' since it already exists.\n"
     ]
    },
    {
     "name": "stdout",
     "output_type": "stream",
     "text": [
      "Read LP format model from file /var/folders/6w/knrbtrj125ggkrx091kd2g840000gn/T/tmpyc3xj6m8.lp\n",
      "Reading time = 0.01 seconds\n",
      ": 951 rows, 2018 columns, 9060 nonzeros\n"
     ]
    },
    {
     "name": "stderr",
     "output_type": "stream",
     "text": [
      "Ignoring reaction 'rxn13713' since it already exists.\n",
      "Ignoring reaction 'rxn38807' since it already exists.\n"
     ]
    },
    {
     "name": "stdout",
     "output_type": "stream",
     "text": [
      "Read LP format model from file /var/folders/6w/knrbtrj125ggkrx091kd2g840000gn/T/tmpndq716rd.lp\n",
      "Reading time = 0.00 seconds\n",
      ": 951 rows, 2018 columns, 9060 nonzeros\n"
     ]
    },
    {
     "name": "stderr",
     "output_type": "stream",
     "text": [
      "Ignoring reaction 'rxn13713' since it already exists.\n",
      "Ignoring reaction 'rxn38807' since it already exists.\n"
     ]
    },
    {
     "name": "stdout",
     "output_type": "stream",
     "text": [
      "Read LP format model from file /var/folders/6w/knrbtrj125ggkrx091kd2g840000gn/T/tmp0p5uefcc.lp\n",
      "Reading time = 0.01 seconds\n",
      ": 951 rows, 2018 columns, 9060 nonzeros\n"
     ]
    },
    {
     "name": "stderr",
     "output_type": "stream",
     "text": [
      "Ignoring reaction 'rxn13713' since it already exists.\n",
      "Ignoring reaction 'rxn38807' since it already exists.\n"
     ]
    },
    {
     "name": "stdout",
     "output_type": "stream",
     "text": [
      "Read LP format model from file /var/folders/6w/knrbtrj125ggkrx091kd2g840000gn/T/tmp8pf3d1bc.lp\n",
      "Reading time = 0.00 seconds\n",
      ": 951 rows, 2018 columns, 9060 nonzeros\n"
     ]
    },
    {
     "name": "stderr",
     "output_type": "stream",
     "text": [
      "Ignoring reaction 'rxn13713' since it already exists.\n",
      "Ignoring reaction 'rxn38807' since it already exists.\n"
     ]
    },
    {
     "name": "stdout",
     "output_type": "stream",
     "text": [
      "Read LP format model from file /var/folders/6w/knrbtrj125ggkrx091kd2g840000gn/T/tmpwdshvpnu.lp\n",
      "Reading time = 0.01 seconds\n",
      ": 951 rows, 2018 columns, 9060 nonzeros\n"
     ]
    },
    {
     "name": "stderr",
     "output_type": "stream",
     "text": [
      "Ignoring reaction 'rxn13713' since it already exists.\n",
      "Ignoring reaction 'rxn38807' since it already exists.\n"
     ]
    },
    {
     "name": "stdout",
     "output_type": "stream",
     "text": [
      "Read LP format model from file /var/folders/6w/knrbtrj125ggkrx091kd2g840000gn/T/tmp648nagrq.lp\n",
      "Reading time = 0.01 seconds\n",
      ": 951 rows, 2018 columns, 9060 nonzeros\n"
     ]
    },
    {
     "name": "stderr",
     "output_type": "stream",
     "text": [
      "Ignoring reaction 'rxn13713' since it already exists.\n",
      "Ignoring reaction 'rxn38807' since it already exists.\n"
     ]
    },
    {
     "name": "stdout",
     "output_type": "stream",
     "text": [
      "Read LP format model from file /var/folders/6w/knrbtrj125ggkrx091kd2g840000gn/T/tmp8rh688gd.lp\n",
      "Reading time = 0.00 seconds\n",
      ": 951 rows, 2018 columns, 9060 nonzeros\n"
     ]
    },
    {
     "name": "stderr",
     "output_type": "stream",
     "text": [
      "Ignoring reaction 'rxn13713' since it already exists.\n",
      "Ignoring reaction 'rxn38807' since it already exists.\n"
     ]
    },
    {
     "name": "stdout",
     "output_type": "stream",
     "text": [
      "Read LP format model from file /var/folders/6w/knrbtrj125ggkrx091kd2g840000gn/T/tmp4ebdlzx8.lp\n",
      "Reading time = 0.00 seconds\n",
      ": 951 rows, 2018 columns, 9060 nonzeros\n"
     ]
    },
    {
     "name": "stderr",
     "output_type": "stream",
     "text": [
      "Ignoring reaction 'rxn13713' since it already exists.\n",
      "Ignoring reaction 'rxn38807' since it already exists.\n"
     ]
    },
    {
     "name": "stdout",
     "output_type": "stream",
     "text": [
      "Read LP format model from file /var/folders/6w/knrbtrj125ggkrx091kd2g840000gn/T/tmpekfygngx.lp\n",
      "Reading time = 0.00 seconds\n",
      ": 951 rows, 2018 columns, 9060 nonzeros\n"
     ]
    },
    {
     "name": "stderr",
     "output_type": "stream",
     "text": [
      "Ignoring reaction 'rxn13713' since it already exists.\n",
      "Ignoring reaction 'rxn38807' since it already exists.\n"
     ]
    },
    {
     "name": "stdout",
     "output_type": "stream",
     "text": [
      "Read LP format model from file /var/folders/6w/knrbtrj125ggkrx091kd2g840000gn/T/tmp7u6fac4f.lp\n",
      "Reading time = 0.01 seconds\n",
      ": 951 rows, 2018 columns, 9060 nonzeros\n"
     ]
    },
    {
     "name": "stderr",
     "output_type": "stream",
     "text": [
      "Ignoring reaction 'rxn13713' since it already exists.\n",
      "Ignoring reaction 'rxn38807' since it already exists.\n"
     ]
    },
    {
     "name": "stdout",
     "output_type": "stream",
     "text": [
      "Read LP format model from file /var/folders/6w/knrbtrj125ggkrx091kd2g840000gn/T/tmpum440exf.lp\n",
      "Reading time = 0.01 seconds\n",
      ": 951 rows, 2018 columns, 9060 nonzeros\n"
     ]
    },
    {
     "name": "stderr",
     "output_type": "stream",
     "text": [
      "Ignoring reaction 'rxn13713' since it already exists.\n",
      "Ignoring reaction 'rxn38807' since it already exists.\n"
     ]
    },
    {
     "name": "stdout",
     "output_type": "stream",
     "text": [
      "Read LP format model from file /var/folders/6w/knrbtrj125ggkrx091kd2g840000gn/T/tmpgyvefea7.lp\n",
      "Reading time = 0.00 seconds\n",
      ": 951 rows, 2018 columns, 9060 nonzeros\n"
     ]
    },
    {
     "name": "stderr",
     "output_type": "stream",
     "text": [
      "Ignoring reaction 'rxn13713' since it already exists.\n",
      "Ignoring reaction 'rxn38807' since it already exists.\n"
     ]
    },
    {
     "name": "stdout",
     "output_type": "stream",
     "text": [
      "Read LP format model from file /var/folders/6w/knrbtrj125ggkrx091kd2g840000gn/T/tmpzv5g8je0.lp\n",
      "Reading time = 0.01 seconds\n",
      ": 951 rows, 2018 columns, 9060 nonzeros\n"
     ]
    },
    {
     "name": "stderr",
     "output_type": "stream",
     "text": [
      "Ignoring reaction 'rxn13713' since it already exists.\n",
      "Ignoring reaction 'rxn38807' since it already exists.\n"
     ]
    },
    {
     "name": "stdout",
     "output_type": "stream",
     "text": [
      "Read LP format model from file /var/folders/6w/knrbtrj125ggkrx091kd2g840000gn/T/tmpubamkoph.lp\n",
      "Reading time = 0.00 seconds\n",
      ": 951 rows, 2018 columns, 9060 nonzeros\n"
     ]
    },
    {
     "name": "stderr",
     "output_type": "stream",
     "text": [
      "Ignoring reaction 'rxn13713' since it already exists.\n",
      "Ignoring reaction 'rxn38807' since it already exists.\n"
     ]
    },
    {
     "name": "stdout",
     "output_type": "stream",
     "text": [
      "Read LP format model from file /var/folders/6w/knrbtrj125ggkrx091kd2g840000gn/T/tmplxojpy15.lp\n",
      "Reading time = 0.00 seconds\n",
      ": 951 rows, 2018 columns, 9060 nonzeros\n"
     ]
    },
    {
     "name": "stderr",
     "output_type": "stream",
     "text": [
      "Ignoring reaction 'rxn13713' since it already exists.\n",
      "Ignoring reaction 'rxn38807' since it already exists.\n"
     ]
    },
    {
     "name": "stdout",
     "output_type": "stream",
     "text": [
      "Read LP format model from file /var/folders/6w/knrbtrj125ggkrx091kd2g840000gn/T/tmpay4q70h0.lp\n",
      "Reading time = 0.00 seconds\n",
      ": 951 rows, 2018 columns, 9060 nonzeros\n"
     ]
    },
    {
     "name": "stderr",
     "output_type": "stream",
     "text": [
      "Ignoring reaction 'rxn13713' since it already exists.\n",
      "Ignoring reaction 'rxn38807' since it already exists.\n"
     ]
    },
    {
     "name": "stdout",
     "output_type": "stream",
     "text": [
      "Read LP format model from file /var/folders/6w/knrbtrj125ggkrx091kd2g840000gn/T/tmp_t30sskh.lp\n",
      "Reading time = 0.01 seconds\n",
      ": 951 rows, 2018 columns, 9060 nonzeros\n"
     ]
    },
    {
     "name": "stderr",
     "output_type": "stream",
     "text": [
      "Ignoring reaction 'rxn13713' since it already exists.\n",
      "Ignoring reaction 'rxn38807' since it already exists.\n"
     ]
    },
    {
     "name": "stdout",
     "output_type": "stream",
     "text": [
      "Read LP format model from file /var/folders/6w/knrbtrj125ggkrx091kd2g840000gn/T/tmpwhseui3c.lp\n",
      "Reading time = 0.00 seconds\n",
      ": 951 rows, 2018 columns, 9060 nonzeros\n"
     ]
    },
    {
     "name": "stderr",
     "output_type": "stream",
     "text": [
      "Ignoring reaction 'rxn13713' since it already exists.\n",
      "Ignoring reaction 'rxn38807' since it already exists.\n"
     ]
    },
    {
     "name": "stdout",
     "output_type": "stream",
     "text": [
      "Read LP format model from file /var/folders/6w/knrbtrj125ggkrx091kd2g840000gn/T/tmpb5nu4fdl.lp\n",
      "Reading time = 0.00 seconds\n",
      ": 951 rows, 2018 columns, 9060 nonzeros\n"
     ]
    },
    {
     "name": "stderr",
     "output_type": "stream",
     "text": [
      "Ignoring reaction 'rxn13713' since it already exists.\n",
      "Ignoring reaction 'rxn38807' since it already exists.\n"
     ]
    },
    {
     "name": "stdout",
     "output_type": "stream",
     "text": [
      "Read LP format model from file /var/folders/6w/knrbtrj125ggkrx091kd2g840000gn/T/tmpi9lu9rmu.lp\n",
      "Reading time = 0.00 seconds\n",
      ": 951 rows, 2018 columns, 9060 nonzeros\n"
     ]
    },
    {
     "name": "stderr",
     "output_type": "stream",
     "text": [
      "Ignoring reaction 'rxn13713' since it already exists.\n",
      "Ignoring reaction 'rxn38807' since it already exists.\n"
     ]
    },
    {
     "name": "stdout",
     "output_type": "stream",
     "text": [
      "Read LP format model from file /var/folders/6w/knrbtrj125ggkrx091kd2g840000gn/T/tmprvmw2g0m.lp\n",
      "Reading time = 0.00 seconds\n",
      ": 951 rows, 2018 columns, 9060 nonzeros\n"
     ]
    },
    {
     "name": "stderr",
     "output_type": "stream",
     "text": [
      "Ignoring reaction 'rxn13713' since it already exists.\n",
      "Ignoring reaction 'rxn38807' since it already exists.\n"
     ]
    },
    {
     "name": "stdout",
     "output_type": "stream",
     "text": [
      "Read LP format model from file /var/folders/6w/knrbtrj125ggkrx091kd2g840000gn/T/tmpxhbagacc.lp\n",
      "Reading time = 0.00 seconds\n",
      ": 951 rows, 2018 columns, 9060 nonzeros\n"
     ]
    },
    {
     "name": "stderr",
     "output_type": "stream",
     "text": [
      "Ignoring reaction 'rxn13713' since it already exists.\n",
      "Ignoring reaction 'rxn38807' since it already exists.\n"
     ]
    },
    {
     "name": "stdout",
     "output_type": "stream",
     "text": [
      "Read LP format model from file /var/folders/6w/knrbtrj125ggkrx091kd2g840000gn/T/tmpxmw4r1ph.lp\n",
      "Reading time = 0.01 seconds\n",
      ": 951 rows, 2018 columns, 9060 nonzeros\n"
     ]
    },
    {
     "name": "stderr",
     "output_type": "stream",
     "text": [
      "Ignoring reaction 'rxn13713' since it already exists.\n",
      "Ignoring reaction 'rxn38807' since it already exists.\n"
     ]
    },
    {
     "name": "stdout",
     "output_type": "stream",
     "text": [
      "Read LP format model from file /var/folders/6w/knrbtrj125ggkrx091kd2g840000gn/T/tmpdyba5194.lp\n",
      "Reading time = 0.01 seconds\n",
      ": 951 rows, 2018 columns, 9060 nonzeros\n"
     ]
    },
    {
     "name": "stderr",
     "output_type": "stream",
     "text": [
      "Ignoring reaction 'rxn13713' since it already exists.\n",
      "Ignoring reaction 'rxn38807' since it already exists.\n"
     ]
    },
    {
     "name": "stdout",
     "output_type": "stream",
     "text": [
      "Read LP format model from file /var/folders/6w/knrbtrj125ggkrx091kd2g840000gn/T/tmpy_74qco1.lp\n",
      "Reading time = 0.00 seconds\n",
      ": 951 rows, 2018 columns, 9060 nonzeros\n"
     ]
    },
    {
     "name": "stderr",
     "output_type": "stream",
     "text": [
      "Ignoring reaction 'rxn13713' since it already exists.\n",
      "Ignoring reaction 'rxn38807' since it already exists.\n"
     ]
    },
    {
     "name": "stdout",
     "output_type": "stream",
     "text": [
      "Read LP format model from file /var/folders/6w/knrbtrj125ggkrx091kd2g840000gn/T/tmprlkee6u7.lp\n",
      "Reading time = 0.01 seconds\n",
      ": 951 rows, 2018 columns, 9060 nonzeros\n"
     ]
    },
    {
     "name": "stderr",
     "output_type": "stream",
     "text": [
      "Ignoring reaction 'rxn13713' since it already exists.\n",
      "Ignoring reaction 'rxn38807' since it already exists.\n"
     ]
    },
    {
     "name": "stdout",
     "output_type": "stream",
     "text": [
      "Read LP format model from file /var/folders/6w/knrbtrj125ggkrx091kd2g840000gn/T/tmpla91o0g_.lp\n",
      "Reading time = 0.00 seconds\n",
      ": 951 rows, 2018 columns, 9060 nonzeros\n"
     ]
    },
    {
     "name": "stderr",
     "output_type": "stream",
     "text": [
      "Ignoring reaction 'rxn13713' since it already exists.\n",
      "Ignoring reaction 'rxn38807' since it already exists.\n"
     ]
    },
    {
     "name": "stdout",
     "output_type": "stream",
     "text": [
      "Read LP format model from file /var/folders/6w/knrbtrj125ggkrx091kd2g840000gn/T/tmpdle5el6x.lp\n",
      "Reading time = 0.00 seconds\n",
      ": 951 rows, 2018 columns, 9060 nonzeros\n"
     ]
    },
    {
     "name": "stderr",
     "output_type": "stream",
     "text": [
      "Ignoring reaction 'rxn13713' since it already exists.\n",
      "Ignoring reaction 'rxn38807' since it already exists.\n"
     ]
    },
    {
     "name": "stdout",
     "output_type": "stream",
     "text": [
      "Read LP format model from file /var/folders/6w/knrbtrj125ggkrx091kd2g840000gn/T/tmpfbkb10pp.lp\n",
      "Reading time = 0.00 seconds\n",
      ": 951 rows, 2018 columns, 9060 nonzeros\n"
     ]
    },
    {
     "name": "stderr",
     "output_type": "stream",
     "text": [
      "Ignoring reaction 'rxn13713' since it already exists.\n",
      "Ignoring reaction 'rxn38807' since it already exists.\n"
     ]
    },
    {
     "name": "stdout",
     "output_type": "stream",
     "text": [
      "Read LP format model from file /var/folders/6w/knrbtrj125ggkrx091kd2g840000gn/T/tmpern7hqhv.lp\n",
      "Reading time = 0.02 seconds\n",
      ": 951 rows, 2018 columns, 9060 nonzeros\n"
     ]
    },
    {
     "name": "stderr",
     "output_type": "stream",
     "text": [
      "Ignoring reaction 'rxn13713' since it already exists.\n",
      "Ignoring reaction 'rxn38807' since it already exists.\n"
     ]
    },
    {
     "name": "stdout",
     "output_type": "stream",
     "text": [
      "Read LP format model from file /var/folders/6w/knrbtrj125ggkrx091kd2g840000gn/T/tmp9lyucb7p.lp\n",
      "Reading time = 0.00 seconds\n",
      ": 951 rows, 2018 columns, 9060 nonzeros\n"
     ]
    },
    {
     "name": "stderr",
     "output_type": "stream",
     "text": [
      "Ignoring reaction 'rxn13713' since it already exists.\n",
      "Ignoring reaction 'rxn38807' since it already exists.\n"
     ]
    },
    {
     "name": "stdout",
     "output_type": "stream",
     "text": [
      "Read LP format model from file /var/folders/6w/knrbtrj125ggkrx091kd2g840000gn/T/tmpsw_q95pi.lp\n",
      "Reading time = 0.00 seconds\n",
      ": 951 rows, 2018 columns, 9060 nonzeros\n"
     ]
    },
    {
     "name": "stderr",
     "output_type": "stream",
     "text": [
      "Ignoring reaction 'rxn13713' since it already exists.\n",
      "Ignoring reaction 'rxn38807' since it already exists.\n"
     ]
    },
    {
     "name": "stdout",
     "output_type": "stream",
     "text": [
      "Read LP format model from file /var/folders/6w/knrbtrj125ggkrx091kd2g840000gn/T/tmpyyz09jjv.lp\n",
      "Reading time = 0.00 seconds\n",
      ": 951 rows, 2018 columns, 9060 nonzeros\n"
     ]
    },
    {
     "name": "stderr",
     "output_type": "stream",
     "text": [
      "Ignoring reaction 'rxn13713' since it already exists.\n",
      "Ignoring reaction 'rxn38807' since it already exists.\n"
     ]
    },
    {
     "name": "stdout",
     "output_type": "stream",
     "text": [
      "Read LP format model from file /var/folders/6w/knrbtrj125ggkrx091kd2g840000gn/T/tmp1qmysxhk.lp\n",
      "Reading time = 0.00 seconds\n",
      ": 951 rows, 2018 columns, 9060 nonzeros\n"
     ]
    },
    {
     "name": "stderr",
     "output_type": "stream",
     "text": [
      "Ignoring reaction 'rxn13713' since it already exists.\n",
      "Ignoring reaction 'rxn38807' since it already exists.\n"
     ]
    },
    {
     "name": "stdout",
     "output_type": "stream",
     "text": [
      "Read LP format model from file /var/folders/6w/knrbtrj125ggkrx091kd2g840000gn/T/tmpoy_v2x4d.lp\n",
      "Reading time = 0.00 seconds\n",
      ": 951 rows, 2018 columns, 9060 nonzeros\n"
     ]
    },
    {
     "name": "stderr",
     "output_type": "stream",
     "text": [
      "Ignoring reaction 'rxn13713' since it already exists.\n",
      "Ignoring reaction 'rxn38807' since it already exists.\n"
     ]
    },
    {
     "name": "stdout",
     "output_type": "stream",
     "text": [
      "Read LP format model from file /var/folders/6w/knrbtrj125ggkrx091kd2g840000gn/T/tmpc5tu0bvs.lp\n",
      "Reading time = 0.00 seconds\n",
      ": 951 rows, 2018 columns, 9060 nonzeros\n"
     ]
    },
    {
     "name": "stderr",
     "output_type": "stream",
     "text": [
      "Ignoring reaction 'rxn13713' since it already exists.\n",
      "Ignoring reaction 'rxn38807' since it already exists.\n"
     ]
    },
    {
     "name": "stdout",
     "output_type": "stream",
     "text": [
      "Read LP format model from file /var/folders/6w/knrbtrj125ggkrx091kd2g840000gn/T/tmp1jbkpa0a.lp\n",
      "Reading time = 0.00 seconds\n",
      ": 951 rows, 2018 columns, 9060 nonzeros\n"
     ]
    },
    {
     "name": "stderr",
     "output_type": "stream",
     "text": [
      "Ignoring reaction 'rxn13713' since it already exists.\n",
      "Ignoring reaction 'rxn38807' since it already exists.\n"
     ]
    },
    {
     "name": "stdout",
     "output_type": "stream",
     "text": [
      "Read LP format model from file /var/folders/6w/knrbtrj125ggkrx091kd2g840000gn/T/tmpk1ig50np.lp\n",
      "Reading time = 0.00 seconds\n",
      ": 951 rows, 2018 columns, 9060 nonzeros\n"
     ]
    },
    {
     "name": "stderr",
     "output_type": "stream",
     "text": [
      "Ignoring reaction 'rxn13713' since it already exists.\n",
      "Ignoring reaction 'rxn38807' since it already exists.\n"
     ]
    },
    {
     "name": "stdout",
     "output_type": "stream",
     "text": [
      "Read LP format model from file /var/folders/6w/knrbtrj125ggkrx091kd2g840000gn/T/tmp4isv1gdd.lp\n",
      "Reading time = 0.00 seconds\n",
      ": 951 rows, 2018 columns, 9060 nonzeros\n"
     ]
    },
    {
     "name": "stderr",
     "output_type": "stream",
     "text": [
      "Ignoring reaction 'rxn13713' since it already exists.\n",
      "Ignoring reaction 'rxn38807' since it already exists.\n"
     ]
    },
    {
     "name": "stdout",
     "output_type": "stream",
     "text": [
      "Read LP format model from file /var/folders/6w/knrbtrj125ggkrx091kd2g840000gn/T/tmprfhkqep4.lp\n",
      "Reading time = 0.01 seconds\n",
      ": 951 rows, 2018 columns, 9060 nonzeros\n"
     ]
    },
    {
     "name": "stderr",
     "output_type": "stream",
     "text": [
      "Ignoring reaction 'rxn13713' since it already exists.\n",
      "Ignoring reaction 'rxn38807' since it already exists.\n"
     ]
    },
    {
     "name": "stdout",
     "output_type": "stream",
     "text": [
      "Read LP format model from file /var/folders/6w/knrbtrj125ggkrx091kd2g840000gn/T/tmpig70b5fj.lp\n",
      "Reading time = 0.00 seconds\n",
      ": 951 rows, 2018 columns, 9060 nonzeros\n"
     ]
    },
    {
     "name": "stderr",
     "output_type": "stream",
     "text": [
      "Ignoring reaction 'rxn13713' since it already exists.\n",
      "Ignoring reaction 'rxn38807' since it already exists.\n"
     ]
    },
    {
     "name": "stdout",
     "output_type": "stream",
     "text": [
      "Read LP format model from file /var/folders/6w/knrbtrj125ggkrx091kd2g840000gn/T/tmpsq9rsrl5.lp\n",
      "Reading time = 0.00 seconds\n",
      ": 951 rows, 2018 columns, 9060 nonzeros\n"
     ]
    },
    {
     "name": "stderr",
     "output_type": "stream",
     "text": [
      "Ignoring reaction 'rxn13713' since it already exists.\n",
      "Ignoring reaction 'rxn38807' since it already exists.\n"
     ]
    },
    {
     "name": "stdout",
     "output_type": "stream",
     "text": [
      "Read LP format model from file /var/folders/6w/knrbtrj125ggkrx091kd2g840000gn/T/tmp9e92ts34.lp\n",
      "Reading time = 0.00 seconds\n",
      ": 951 rows, 2018 columns, 9060 nonzeros\n"
     ]
    },
    {
     "name": "stderr",
     "output_type": "stream",
     "text": [
      "Ignoring reaction 'rxn13713' since it already exists.\n",
      "Ignoring reaction 'rxn38807' since it already exists.\n"
     ]
    },
    {
     "name": "stdout",
     "output_type": "stream",
     "text": [
      "Read LP format model from file /var/folders/6w/knrbtrj125ggkrx091kd2g840000gn/T/tmpy7taqn7w.lp\n",
      "Reading time = 0.01 seconds\n",
      ": 951 rows, 2018 columns, 9060 nonzeros\n"
     ]
    },
    {
     "name": "stderr",
     "output_type": "stream",
     "text": [
      "Ignoring reaction 'rxn13713' since it already exists.\n",
      "Ignoring reaction 'rxn38807' since it already exists.\n"
     ]
    },
    {
     "name": "stdout",
     "output_type": "stream",
     "text": [
      "Read LP format model from file /var/folders/6w/knrbtrj125ggkrx091kd2g840000gn/T/tmpjq8pgvxv.lp\n",
      "Reading time = 0.00 seconds\n",
      ": 951 rows, 2018 columns, 9060 nonzeros\n"
     ]
    },
    {
     "name": "stderr",
     "output_type": "stream",
     "text": [
      "Ignoring reaction 'rxn13713' since it already exists.\n",
      "Ignoring reaction 'rxn38807' since it already exists.\n"
     ]
    },
    {
     "name": "stdout",
     "output_type": "stream",
     "text": [
      "Read LP format model from file /var/folders/6w/knrbtrj125ggkrx091kd2g840000gn/T/tmpj52qekeg.lp\n",
      "Reading time = 0.00 seconds\n",
      ": 951 rows, 2018 columns, 9060 nonzeros\n"
     ]
    },
    {
     "name": "stderr",
     "output_type": "stream",
     "text": [
      "Ignoring reaction 'rxn38807' since it already exists.\n"
     ]
    },
    {
     "name": "stdout",
     "output_type": "stream",
     "text": [
      "Read LP format model from file /var/folders/6w/knrbtrj125ggkrx091kd2g840000gn/T/tmptgc4p5jh.lp\n",
      "Reading time = 0.00 seconds\n",
      ": 951 rows, 2018 columns, 9060 nonzeros\n"
     ]
    },
    {
     "name": "stderr",
     "output_type": "stream",
     "text": [
      "Ignoring reaction 'rxn13713' since it already exists.\n",
      "Ignoring reaction 'rxn38807' since it already exists.\n"
     ]
    },
    {
     "name": "stdout",
     "output_type": "stream",
     "text": [
      "Read LP format model from file /var/folders/6w/knrbtrj125ggkrx091kd2g840000gn/T/tmpyjioxpbh.lp\n",
      "Reading time = 0.00 seconds\n",
      ": 951 rows, 2018 columns, 9060 nonzeros\n"
     ]
    },
    {
     "name": "stderr",
     "output_type": "stream",
     "text": [
      "Ignoring reaction 'rxn13713' since it already exists.\n",
      "Ignoring reaction 'rxn38807' since it already exists.\n"
     ]
    },
    {
     "name": "stdout",
     "output_type": "stream",
     "text": [
      "Read LP format model from file /var/folders/6w/knrbtrj125ggkrx091kd2g840000gn/T/tmpp2frvi7l.lp\n",
      "Reading time = 0.00 seconds\n",
      ": 951 rows, 2018 columns, 9060 nonzeros\n"
     ]
    },
    {
     "name": "stderr",
     "output_type": "stream",
     "text": [
      "Ignoring reaction 'rxn13713' since it already exists.\n",
      "Ignoring reaction 'rxn38807' since it already exists.\n"
     ]
    },
    {
     "name": "stdout",
     "output_type": "stream",
     "text": [
      "Read LP format model from file /var/folders/6w/knrbtrj125ggkrx091kd2g840000gn/T/tmpbx7wxrmk.lp\n",
      "Reading time = 0.00 seconds\n",
      ": 951 rows, 2018 columns, 9060 nonzeros\n"
     ]
    },
    {
     "name": "stderr",
     "output_type": "stream",
     "text": [
      "Ignoring reaction 'rxn13713' since it already exists.\n",
      "Ignoring reaction 'rxn38807' since it already exists.\n"
     ]
    },
    {
     "name": "stdout",
     "output_type": "stream",
     "text": [
      "Read LP format model from file /var/folders/6w/knrbtrj125ggkrx091kd2g840000gn/T/tmpkv6is_lz.lp\n",
      "Reading time = 0.00 seconds\n",
      ": 951 rows, 2018 columns, 9060 nonzeros\n"
     ]
    },
    {
     "name": "stderr",
     "output_type": "stream",
     "text": [
      "Ignoring reaction 'rxn13713' since it already exists.\n",
      "Ignoring reaction 'rxn38807' since it already exists.\n"
     ]
    },
    {
     "name": "stdout",
     "output_type": "stream",
     "text": [
      "Read LP format model from file /var/folders/6w/knrbtrj125ggkrx091kd2g840000gn/T/tmppaqb9kmm.lp\n",
      "Reading time = 0.01 seconds\n",
      ": 951 rows, 2018 columns, 9060 nonzeros\n"
     ]
    },
    {
     "name": "stderr",
     "output_type": "stream",
     "text": [
      "Ignoring reaction 'rxn13713' since it already exists.\n",
      "Ignoring reaction 'rxn38807' since it already exists.\n"
     ]
    },
    {
     "name": "stdout",
     "output_type": "stream",
     "text": [
      "Read LP format model from file /var/folders/6w/knrbtrj125ggkrx091kd2g840000gn/T/tmpqv_e52r6.lp\n",
      "Reading time = 0.00 seconds\n",
      ": 951 rows, 2018 columns, 9060 nonzeros\n"
     ]
    },
    {
     "name": "stderr",
     "output_type": "stream",
     "text": [
      "Ignoring reaction 'rxn13713' since it already exists.\n",
      "Ignoring reaction 'rxn38807' since it already exists.\n"
     ]
    },
    {
     "name": "stdout",
     "output_type": "stream",
     "text": [
      "Read LP format model from file /var/folders/6w/knrbtrj125ggkrx091kd2g840000gn/T/tmpptntk4sj.lp\n",
      "Reading time = 0.00 seconds\n",
      ": 951 rows, 2018 columns, 9060 nonzeros\n"
     ]
    },
    {
     "name": "stderr",
     "output_type": "stream",
     "text": [
      "Ignoring reaction 'rxn13713' since it already exists.\n",
      "Ignoring reaction 'rxn38807' since it already exists.\n"
     ]
    },
    {
     "name": "stdout",
     "output_type": "stream",
     "text": [
      "Read LP format model from file /var/folders/6w/knrbtrj125ggkrx091kd2g840000gn/T/tmp2o5l8hpz.lp\n",
      "Reading time = 0.00 seconds\n",
      ": 951 rows, 2018 columns, 9060 nonzeros\n"
     ]
    },
    {
     "name": "stderr",
     "output_type": "stream",
     "text": [
      "Ignoring reaction 'rxn13713' since it already exists.\n",
      "Ignoring reaction 'rxn38807' since it already exists.\n"
     ]
    },
    {
     "name": "stdout",
     "output_type": "stream",
     "text": [
      "Read LP format model from file /var/folders/6w/knrbtrj125ggkrx091kd2g840000gn/T/tmpwdxgb_d2.lp\n",
      "Reading time = 0.00 seconds\n",
      ": 951 rows, 2018 columns, 9060 nonzeros\n"
     ]
    },
    {
     "name": "stderr",
     "output_type": "stream",
     "text": [
      "Ignoring reaction 'rxn13713' since it already exists.\n",
      "Ignoring reaction 'rxn38807' since it already exists.\n"
     ]
    },
    {
     "name": "stdout",
     "output_type": "stream",
     "text": [
      "Read LP format model from file /var/folders/6w/knrbtrj125ggkrx091kd2g840000gn/T/tmpqs0g6b6l.lp\n",
      "Reading time = 0.00 seconds\n",
      ": 951 rows, 2018 columns, 9060 nonzeros\n"
     ]
    },
    {
     "name": "stderr",
     "output_type": "stream",
     "text": [
      "Ignoring reaction 'rxn13713' since it already exists.\n"
     ]
    },
    {
     "name": "stdout",
     "output_type": "stream",
     "text": [
      "Read LP format model from file /var/folders/6w/knrbtrj125ggkrx091kd2g840000gn/T/tmpgxnqgrzs.lp\n",
      "Reading time = 0.00 seconds\n",
      ": 951 rows, 2018 columns, 9060 nonzeros\n"
     ]
    },
    {
     "name": "stderr",
     "output_type": "stream",
     "text": [
      "Ignoring reaction 'rxn13713' since it already exists.\n",
      "Ignoring reaction 'rxn38807' since it already exists.\n"
     ]
    },
    {
     "name": "stdout",
     "output_type": "stream",
     "text": [
      "Read LP format model from file /var/folders/6w/knrbtrj125ggkrx091kd2g840000gn/T/tmpt6g3s4v6.lp\n",
      "Reading time = 0.00 seconds\n",
      ": 951 rows, 2018 columns, 9060 nonzeros\n"
     ]
    },
    {
     "name": "stderr",
     "output_type": "stream",
     "text": [
      "Ignoring reaction 'rxn13713' since it already exists.\n",
      "Ignoring reaction 'rxn38807' since it already exists.\n"
     ]
    },
    {
     "name": "stdout",
     "output_type": "stream",
     "text": [
      "Read LP format model from file /var/folders/6w/knrbtrj125ggkrx091kd2g840000gn/T/tmptsci7hjr.lp\n",
      "Reading time = 0.00 seconds\n",
      ": 951 rows, 2018 columns, 9060 nonzeros\n"
     ]
    },
    {
     "name": "stderr",
     "output_type": "stream",
     "text": [
      "Ignoring reaction 'rxn13713' since it already exists.\n",
      "Ignoring reaction 'rxn38807' since it already exists.\n"
     ]
    },
    {
     "name": "stdout",
     "output_type": "stream",
     "text": [
      "Read LP format model from file /var/folders/6w/knrbtrj125ggkrx091kd2g840000gn/T/tmpkvdjfv_i.lp\n",
      "Reading time = 0.00 seconds\n",
      ": 949 rows, 2012 columns, 9034 nonzeros\n",
      "Processing row 75...\n",
      "Read LP format model from file /var/folders/6w/knrbtrj125ggkrx091kd2g840000gn/T/tmpii181d29.lp\n",
      "Reading time = 0.00 seconds\n",
      ": 949 rows, 2012 columns, 9034 nonzeros\n",
      "Read LP format model from file /var/folders/6w/knrbtrj125ggkrx091kd2g840000gn/T/tmp7be_63ie.lp\n",
      "Reading time = 0.00 seconds\n",
      ": 952 rows, 2018 columns, 9060 nonzeros\n"
     ]
    },
    {
     "name": "stderr",
     "output_type": "stream",
     "text": [
      "Ignoring reaction 'rxn38972' since it already exists.\n",
      "Ignoring reaction 'rxn13713' since it already exists.\n"
     ]
    },
    {
     "name": "stdout",
     "output_type": "stream",
     "text": [
      "Read LP format model from file /var/folders/6w/knrbtrj125ggkrx091kd2g840000gn/T/tmp8pak_eal.lp\n",
      "Reading time = 0.00 seconds\n",
      ": 952 rows, 2018 columns, 9060 nonzeros\n"
     ]
    },
    {
     "name": "stderr",
     "output_type": "stream",
     "text": [
      "Ignoring reaction 'rxn38972' since it already exists.\n",
      "Ignoring reaction 'rxn13713' since it already exists.\n"
     ]
    },
    {
     "name": "stdout",
     "output_type": "stream",
     "text": [
      "Read LP format model from file /var/folders/6w/knrbtrj125ggkrx091kd2g840000gn/T/tmptz_5cdeo.lp\n",
      "Reading time = 0.00 seconds\n",
      ": 952 rows, 2018 columns, 9060 nonzeros\n"
     ]
    },
    {
     "name": "stderr",
     "output_type": "stream",
     "text": [
      "Ignoring reaction 'rxn38972' since it already exists.\n",
      "Ignoring reaction 'rxn13713' since it already exists.\n"
     ]
    },
    {
     "name": "stdout",
     "output_type": "stream",
     "text": [
      "Read LP format model from file /var/folders/6w/knrbtrj125ggkrx091kd2g840000gn/T/tmp1etzfnce.lp\n",
      "Reading time = 0.00 seconds\n",
      ": 952 rows, 2018 columns, 9060 nonzeros\n"
     ]
    },
    {
     "name": "stderr",
     "output_type": "stream",
     "text": [
      "Ignoring reaction 'rxn38972' since it already exists.\n",
      "Ignoring reaction 'rxn13713' since it already exists.\n"
     ]
    },
    {
     "name": "stdout",
     "output_type": "stream",
     "text": [
      "Read LP format model from file /var/folders/6w/knrbtrj125ggkrx091kd2g840000gn/T/tmp51ujj9do.lp\n",
      "Reading time = 0.02 seconds\n",
      ": 952 rows, 2018 columns, 9060 nonzeros\n"
     ]
    },
    {
     "name": "stderr",
     "output_type": "stream",
     "text": [
      "Ignoring reaction 'rxn38972' since it already exists.\n",
      "Ignoring reaction 'rxn13713' since it already exists.\n"
     ]
    },
    {
     "name": "stdout",
     "output_type": "stream",
     "text": [
      "Read LP format model from file /var/folders/6w/knrbtrj125ggkrx091kd2g840000gn/T/tmpgia0ma2o.lp\n",
      "Reading time = 0.01 seconds\n",
      ": 952 rows, 2018 columns, 9060 nonzeros\n"
     ]
    },
    {
     "name": "stderr",
     "output_type": "stream",
     "text": [
      "Ignoring reaction 'rxn38972' since it already exists.\n",
      "Ignoring reaction 'rxn13713' since it already exists.\n"
     ]
    },
    {
     "name": "stdout",
     "output_type": "stream",
     "text": [
      "Read LP format model from file /var/folders/6w/knrbtrj125ggkrx091kd2g840000gn/T/tmpgqa8e0wk.lp\n",
      "Reading time = 0.01 seconds\n",
      ": 952 rows, 2018 columns, 9060 nonzeros\n"
     ]
    },
    {
     "name": "stderr",
     "output_type": "stream",
     "text": [
      "Ignoring reaction 'rxn38972' since it already exists.\n",
      "Ignoring reaction 'rxn13713' since it already exists.\n"
     ]
    },
    {
     "name": "stdout",
     "output_type": "stream",
     "text": [
      "Read LP format model from file /var/folders/6w/knrbtrj125ggkrx091kd2g840000gn/T/tmprys3pb0_.lp\n",
      "Reading time = 0.01 seconds\n",
      ": 952 rows, 2018 columns, 9060 nonzeros\n"
     ]
    },
    {
     "name": "stderr",
     "output_type": "stream",
     "text": [
      "Ignoring reaction 'rxn38972' since it already exists.\n",
      "Ignoring reaction 'rxn13713' since it already exists.\n"
     ]
    },
    {
     "name": "stdout",
     "output_type": "stream",
     "text": [
      "Read LP format model from file /var/folders/6w/knrbtrj125ggkrx091kd2g840000gn/T/tmpum_g98ls.lp\n",
      "Reading time = 0.01 seconds\n",
      ": 952 rows, 2018 columns, 9060 nonzeros\n"
     ]
    },
    {
     "name": "stderr",
     "output_type": "stream",
     "text": [
      "Ignoring reaction 'rxn38972' since it already exists.\n",
      "Ignoring reaction 'rxn13713' since it already exists.\n"
     ]
    },
    {
     "name": "stdout",
     "output_type": "stream",
     "text": [
      "Read LP format model from file /var/folders/6w/knrbtrj125ggkrx091kd2g840000gn/T/tmplvsw52at.lp\n",
      "Reading time = 0.02 seconds\n",
      ": 952 rows, 2018 columns, 9060 nonzeros\n"
     ]
    },
    {
     "name": "stderr",
     "output_type": "stream",
     "text": [
      "Ignoring reaction 'rxn38972' since it already exists.\n",
      "Ignoring reaction 'rxn13713' since it already exists.\n"
     ]
    },
    {
     "name": "stdout",
     "output_type": "stream",
     "text": [
      "Read LP format model from file /var/folders/6w/knrbtrj125ggkrx091kd2g840000gn/T/tmpr88gr713.lp\n",
      "Reading time = 0.00 seconds\n",
      ": 952 rows, 2018 columns, 9060 nonzeros\n"
     ]
    },
    {
     "name": "stderr",
     "output_type": "stream",
     "text": [
      "Ignoring reaction 'rxn38972' since it already exists.\n",
      "Ignoring reaction 'rxn13713' since it already exists.\n"
     ]
    },
    {
     "name": "stdout",
     "output_type": "stream",
     "text": [
      "Read LP format model from file /var/folders/6w/knrbtrj125ggkrx091kd2g840000gn/T/tmp81vm76n0.lp\n",
      "Reading time = 0.00 seconds\n",
      ": 952 rows, 2018 columns, 9060 nonzeros\n"
     ]
    },
    {
     "name": "stderr",
     "output_type": "stream",
     "text": [
      "Ignoring reaction 'rxn38972' since it already exists.\n",
      "Ignoring reaction 'rxn13713' since it already exists.\n"
     ]
    },
    {
     "name": "stdout",
     "output_type": "stream",
     "text": [
      "Read LP format model from file /var/folders/6w/knrbtrj125ggkrx091kd2g840000gn/T/tmps_j52_p0.lp\n",
      "Reading time = 0.00 seconds\n",
      ": 952 rows, 2018 columns, 9060 nonzeros\n"
     ]
    },
    {
     "name": "stderr",
     "output_type": "stream",
     "text": [
      "Ignoring reaction 'rxn38972' since it already exists.\n",
      "Ignoring reaction 'rxn13713' since it already exists.\n"
     ]
    },
    {
     "name": "stdout",
     "output_type": "stream",
     "text": [
      "Read LP format model from file /var/folders/6w/knrbtrj125ggkrx091kd2g840000gn/T/tmpb1sanw17.lp\n",
      "Reading time = 0.00 seconds\n",
      ": 952 rows, 2018 columns, 9060 nonzeros\n"
     ]
    },
    {
     "name": "stderr",
     "output_type": "stream",
     "text": [
      "Ignoring reaction 'rxn38972' since it already exists.\n",
      "Ignoring reaction 'rxn13713' since it already exists.\n"
     ]
    },
    {
     "name": "stdout",
     "output_type": "stream",
     "text": [
      "Read LP format model from file /var/folders/6w/knrbtrj125ggkrx091kd2g840000gn/T/tmp7i1gz71l.lp\n",
      "Reading time = 0.00 seconds\n",
      ": 952 rows, 2018 columns, 9060 nonzeros\n"
     ]
    },
    {
     "name": "stderr",
     "output_type": "stream",
     "text": [
      "Ignoring reaction 'rxn38972' since it already exists.\n",
      "Ignoring reaction 'rxn13713' since it already exists.\n"
     ]
    },
    {
     "name": "stdout",
     "output_type": "stream",
     "text": [
      "Read LP format model from file /var/folders/6w/knrbtrj125ggkrx091kd2g840000gn/T/tmp64yh0940.lp\n",
      "Reading time = 0.00 seconds\n",
      ": 952 rows, 2018 columns, 9060 nonzeros\n"
     ]
    },
    {
     "name": "stderr",
     "output_type": "stream",
     "text": [
      "Ignoring reaction 'rxn38972' since it already exists.\n",
      "Ignoring reaction 'rxn13713' since it already exists.\n"
     ]
    },
    {
     "name": "stdout",
     "output_type": "stream",
     "text": [
      "Read LP format model from file /var/folders/6w/knrbtrj125ggkrx091kd2g840000gn/T/tmp6ardymmg.lp\n",
      "Reading time = 0.01 seconds\n",
      ": 952 rows, 2018 columns, 9060 nonzeros\n"
     ]
    },
    {
     "name": "stderr",
     "output_type": "stream",
     "text": [
      "Ignoring reaction 'rxn38972' since it already exists.\n",
      "Ignoring reaction 'rxn13713' since it already exists.\n"
     ]
    },
    {
     "name": "stdout",
     "output_type": "stream",
     "text": [
      "Read LP format model from file /var/folders/6w/knrbtrj125ggkrx091kd2g840000gn/T/tmp7x9hkwgx.lp\n",
      "Reading time = 0.00 seconds\n",
      ": 952 rows, 2018 columns, 9060 nonzeros\n"
     ]
    },
    {
     "name": "stderr",
     "output_type": "stream",
     "text": [
      "Ignoring reaction 'rxn38972' since it already exists.\n",
      "Ignoring reaction 'rxn13713' since it already exists.\n"
     ]
    },
    {
     "name": "stdout",
     "output_type": "stream",
     "text": [
      "Read LP format model from file /var/folders/6w/knrbtrj125ggkrx091kd2g840000gn/T/tmpcn1f_0bg.lp\n",
      "Reading time = 0.00 seconds\n",
      ": 952 rows, 2018 columns, 9060 nonzeros\n"
     ]
    },
    {
     "name": "stderr",
     "output_type": "stream",
     "text": [
      "Ignoring reaction 'rxn38972' since it already exists.\n",
      "Ignoring reaction 'rxn13713' since it already exists.\n"
     ]
    },
    {
     "name": "stdout",
     "output_type": "stream",
     "text": [
      "Read LP format model from file /var/folders/6w/knrbtrj125ggkrx091kd2g840000gn/T/tmpd8wv0_1z.lp\n",
      "Reading time = 0.00 seconds\n",
      ": 952 rows, 2018 columns, 9060 nonzeros\n"
     ]
    },
    {
     "name": "stderr",
     "output_type": "stream",
     "text": [
      "Ignoring reaction 'rxn38972' since it already exists.\n",
      "Ignoring reaction 'rxn13713' since it already exists.\n"
     ]
    },
    {
     "name": "stdout",
     "output_type": "stream",
     "text": [
      "Read LP format model from file /var/folders/6w/knrbtrj125ggkrx091kd2g840000gn/T/tmp2rp5_0ay.lp\n",
      "Reading time = 0.00 seconds\n",
      ": 952 rows, 2018 columns, 9060 nonzeros\n"
     ]
    },
    {
     "name": "stderr",
     "output_type": "stream",
     "text": [
      "Ignoring reaction 'rxn38972' since it already exists.\n",
      "Ignoring reaction 'rxn13713' since it already exists.\n"
     ]
    },
    {
     "name": "stdout",
     "output_type": "stream",
     "text": [
      "Read LP format model from file /var/folders/6w/knrbtrj125ggkrx091kd2g840000gn/T/tmp0454nibs.lp\n",
      "Reading time = 0.00 seconds\n",
      ": 952 rows, 2018 columns, 9060 nonzeros\n"
     ]
    },
    {
     "name": "stderr",
     "output_type": "stream",
     "text": [
      "Ignoring reaction 'rxn38972' since it already exists.\n",
      "Ignoring reaction 'rxn13713' since it already exists.\n"
     ]
    },
    {
     "name": "stdout",
     "output_type": "stream",
     "text": [
      "Read LP format model from file /var/folders/6w/knrbtrj125ggkrx091kd2g840000gn/T/tmptc9wxfan.lp\n",
      "Reading time = 0.00 seconds\n",
      ": 952 rows, 2018 columns, 9060 nonzeros\n"
     ]
    },
    {
     "name": "stderr",
     "output_type": "stream",
     "text": [
      "Ignoring reaction 'rxn38972' since it already exists.\n",
      "Ignoring reaction 'rxn13713' since it already exists.\n"
     ]
    },
    {
     "name": "stdout",
     "output_type": "stream",
     "text": [
      "Read LP format model from file /var/folders/6w/knrbtrj125ggkrx091kd2g840000gn/T/tmpge5vykf2.lp\n",
      "Reading time = 0.00 seconds\n",
      ": 952 rows, 2018 columns, 9060 nonzeros\n"
     ]
    },
    {
     "name": "stderr",
     "output_type": "stream",
     "text": [
      "Ignoring reaction 'rxn38972' since it already exists.\n",
      "Ignoring reaction 'rxn13713' since it already exists.\n"
     ]
    },
    {
     "name": "stdout",
     "output_type": "stream",
     "text": [
      "Read LP format model from file /var/folders/6w/knrbtrj125ggkrx091kd2g840000gn/T/tmpuln4nnpt.lp\n",
      "Reading time = 0.00 seconds\n",
      ": 952 rows, 2018 columns, 9060 nonzeros\n"
     ]
    },
    {
     "name": "stderr",
     "output_type": "stream",
     "text": [
      "Ignoring reaction 'rxn38972' since it already exists.\n",
      "Ignoring reaction 'rxn13713' since it already exists.\n"
     ]
    },
    {
     "name": "stdout",
     "output_type": "stream",
     "text": [
      "Read LP format model from file /var/folders/6w/knrbtrj125ggkrx091kd2g840000gn/T/tmpr_uxd7m2.lp\n",
      "Reading time = 0.00 seconds\n",
      ": 952 rows, 2018 columns, 9060 nonzeros\n"
     ]
    },
    {
     "name": "stderr",
     "output_type": "stream",
     "text": [
      "Ignoring reaction 'rxn38972' since it already exists.\n",
      "Ignoring reaction 'rxn13713' since it already exists.\n"
     ]
    },
    {
     "name": "stdout",
     "output_type": "stream",
     "text": [
      "Read LP format model from file /var/folders/6w/knrbtrj125ggkrx091kd2g840000gn/T/tmpgplpi4dw.lp\n",
      "Reading time = 0.00 seconds\n",
      ": 952 rows, 2018 columns, 9060 nonzeros\n"
     ]
    },
    {
     "name": "stderr",
     "output_type": "stream",
     "text": [
      "Ignoring reaction 'rxn38972' since it already exists.\n",
      "Ignoring reaction 'rxn13713' since it already exists.\n"
     ]
    },
    {
     "name": "stdout",
     "output_type": "stream",
     "text": [
      "Read LP format model from file /var/folders/6w/knrbtrj125ggkrx091kd2g840000gn/T/tmpis477gz8.lp\n",
      "Reading time = 0.01 seconds\n",
      ": 952 rows, 2018 columns, 9060 nonzeros\n"
     ]
    },
    {
     "name": "stderr",
     "output_type": "stream",
     "text": [
      "Ignoring reaction 'rxn38972' since it already exists.\n",
      "Ignoring reaction 'rxn13713' since it already exists.\n"
     ]
    },
    {
     "name": "stdout",
     "output_type": "stream",
     "text": [
      "Read LP format model from file /var/folders/6w/knrbtrj125ggkrx091kd2g840000gn/T/tmpi3nnhlvl.lp\n",
      "Reading time = 0.00 seconds\n",
      ": 952 rows, 2018 columns, 9060 nonzeros\n"
     ]
    },
    {
     "name": "stderr",
     "output_type": "stream",
     "text": [
      "Ignoring reaction 'rxn38972' since it already exists.\n",
      "Ignoring reaction 'rxn13713' since it already exists.\n"
     ]
    },
    {
     "name": "stdout",
     "output_type": "stream",
     "text": [
      "Read LP format model from file /var/folders/6w/knrbtrj125ggkrx091kd2g840000gn/T/tmpdokuvxu3.lp\n",
      "Reading time = 0.00 seconds\n",
      ": 952 rows, 2018 columns, 9060 nonzeros\n"
     ]
    },
    {
     "name": "stderr",
     "output_type": "stream",
     "text": [
      "Ignoring reaction 'rxn13713' since it already exists.\n"
     ]
    },
    {
     "name": "stdout",
     "output_type": "stream",
     "text": [
      "Read LP format model from file /var/folders/6w/knrbtrj125ggkrx091kd2g840000gn/T/tmpub7vjzqy.lp\n",
      "Reading time = 0.01 seconds\n",
      ": 952 rows, 2018 columns, 9060 nonzeros\n"
     ]
    },
    {
     "name": "stderr",
     "output_type": "stream",
     "text": [
      "Ignoring reaction 'rxn38972' since it already exists.\n",
      "Ignoring reaction 'rxn13713' since it already exists.\n"
     ]
    },
    {
     "name": "stdout",
     "output_type": "stream",
     "text": [
      "Read LP format model from file /var/folders/6w/knrbtrj125ggkrx091kd2g840000gn/T/tmpp1mfkysq.lp\n",
      "Reading time = 0.00 seconds\n",
      ": 952 rows, 2018 columns, 9060 nonzeros\n"
     ]
    },
    {
     "name": "stderr",
     "output_type": "stream",
     "text": [
      "Ignoring reaction 'rxn38972' since it already exists.\n",
      "Ignoring reaction 'rxn13713' since it already exists.\n"
     ]
    },
    {
     "name": "stdout",
     "output_type": "stream",
     "text": [
      "Read LP format model from file /var/folders/6w/knrbtrj125ggkrx091kd2g840000gn/T/tmpl2gs3g9g.lp\n",
      "Reading time = 0.01 seconds\n",
      ": 952 rows, 2018 columns, 9060 nonzeros\n"
     ]
    },
    {
     "name": "stderr",
     "output_type": "stream",
     "text": [
      "Ignoring reaction 'rxn38972' since it already exists.\n",
      "Ignoring reaction 'rxn13713' since it already exists.\n"
     ]
    },
    {
     "name": "stdout",
     "output_type": "stream",
     "text": [
      "Read LP format model from file /var/folders/6w/knrbtrj125ggkrx091kd2g840000gn/T/tmpgai8pqgb.lp\n",
      "Reading time = 0.00 seconds\n",
      ": 952 rows, 2018 columns, 9060 nonzeros\n"
     ]
    },
    {
     "name": "stderr",
     "output_type": "stream",
     "text": [
      "Ignoring reaction 'rxn38972' since it already exists.\n",
      "Ignoring reaction 'rxn13713' since it already exists.\n"
     ]
    },
    {
     "name": "stdout",
     "output_type": "stream",
     "text": [
      "Read LP format model from file /var/folders/6w/knrbtrj125ggkrx091kd2g840000gn/T/tmpk55ks9ts.lp\n",
      "Reading time = 0.00 seconds\n",
      ": 952 rows, 2018 columns, 9060 nonzeros\n"
     ]
    },
    {
     "name": "stderr",
     "output_type": "stream",
     "text": [
      "Ignoring reaction 'rxn38972' since it already exists.\n",
      "Ignoring reaction 'rxn13713' since it already exists.\n"
     ]
    },
    {
     "name": "stdout",
     "output_type": "stream",
     "text": [
      "Read LP format model from file /var/folders/6w/knrbtrj125ggkrx091kd2g840000gn/T/tmpoektzfba.lp\n",
      "Reading time = 0.01 seconds\n",
      ": 952 rows, 2018 columns, 9060 nonzeros\n"
     ]
    },
    {
     "name": "stderr",
     "output_type": "stream",
     "text": [
      "Ignoring reaction 'rxn38972' since it already exists.\n",
      "Ignoring reaction 'rxn13713' since it already exists.\n"
     ]
    },
    {
     "name": "stdout",
     "output_type": "stream",
     "text": [
      "Read LP format model from file /var/folders/6w/knrbtrj125ggkrx091kd2g840000gn/T/tmphlmux56h.lp\n",
      "Reading time = 0.00 seconds\n",
      ": 952 rows, 2018 columns, 9060 nonzeros\n"
     ]
    },
    {
     "name": "stderr",
     "output_type": "stream",
     "text": [
      "Ignoring reaction 'rxn38972' since it already exists.\n",
      "Ignoring reaction 'rxn13713' since it already exists.\n"
     ]
    },
    {
     "name": "stdout",
     "output_type": "stream",
     "text": [
      "Read LP format model from file /var/folders/6w/knrbtrj125ggkrx091kd2g840000gn/T/tmp922048yr.lp\n",
      "Reading time = 0.01 seconds\n",
      ": 952 rows, 2018 columns, 9060 nonzeros\n"
     ]
    },
    {
     "name": "stderr",
     "output_type": "stream",
     "text": [
      "Ignoring reaction 'rxn38972' since it already exists.\n",
      "Ignoring reaction 'rxn13713' since it already exists.\n"
     ]
    },
    {
     "name": "stdout",
     "output_type": "stream",
     "text": [
      "Read LP format model from file /var/folders/6w/knrbtrj125ggkrx091kd2g840000gn/T/tmpvrao__a_.lp\n",
      "Reading time = 0.00 seconds\n",
      ": 952 rows, 2018 columns, 9060 nonzeros\n"
     ]
    },
    {
     "name": "stderr",
     "output_type": "stream",
     "text": [
      "Ignoring reaction 'rxn38972' since it already exists.\n",
      "Ignoring reaction 'rxn13713' since it already exists.\n"
     ]
    },
    {
     "name": "stdout",
     "output_type": "stream",
     "text": [
      "Read LP format model from file /var/folders/6w/knrbtrj125ggkrx091kd2g840000gn/T/tmpv26rakez.lp\n",
      "Reading time = 0.00 seconds\n",
      ": 952 rows, 2018 columns, 9060 nonzeros\n"
     ]
    },
    {
     "name": "stderr",
     "output_type": "stream",
     "text": [
      "Ignoring reaction 'rxn38972' since it already exists.\n",
      "Ignoring reaction 'rxn13713' since it already exists.\n"
     ]
    },
    {
     "name": "stdout",
     "output_type": "stream",
     "text": [
      "Read LP format model from file /var/folders/6w/knrbtrj125ggkrx091kd2g840000gn/T/tmpo0abek2p.lp\n",
      "Reading time = 0.00 seconds\n",
      ": 952 rows, 2018 columns, 9060 nonzeros\n"
     ]
    },
    {
     "name": "stderr",
     "output_type": "stream",
     "text": [
      "Ignoring reaction 'rxn38972' since it already exists.\n",
      "Ignoring reaction 'rxn13713' since it already exists.\n"
     ]
    },
    {
     "name": "stdout",
     "output_type": "stream",
     "text": [
      "Read LP format model from file /var/folders/6w/knrbtrj125ggkrx091kd2g840000gn/T/tmpvex5auc5.lp\n",
      "Reading time = 0.00 seconds\n",
      ": 952 rows, 2018 columns, 9060 nonzeros\n"
     ]
    },
    {
     "name": "stderr",
     "output_type": "stream",
     "text": [
      "Ignoring reaction 'rxn38972' since it already exists.\n",
      "Ignoring reaction 'rxn13713' since it already exists.\n"
     ]
    },
    {
     "name": "stdout",
     "output_type": "stream",
     "text": [
      "Read LP format model from file /var/folders/6w/knrbtrj125ggkrx091kd2g840000gn/T/tmp3uraxl9o.lp\n",
      "Reading time = 0.01 seconds\n",
      ": 952 rows, 2018 columns, 9060 nonzeros\n"
     ]
    },
    {
     "name": "stderr",
     "output_type": "stream",
     "text": [
      "Ignoring reaction 'rxn38972' since it already exists.\n",
      "Ignoring reaction 'rxn13713' since it already exists.\n"
     ]
    },
    {
     "name": "stdout",
     "output_type": "stream",
     "text": [
      "Read LP format model from file /var/folders/6w/knrbtrj125ggkrx091kd2g840000gn/T/tmpq7hfxc1_.lp\n",
      "Reading time = 0.00 seconds\n",
      ": 952 rows, 2018 columns, 9060 nonzeros\n"
     ]
    },
    {
     "name": "stderr",
     "output_type": "stream",
     "text": [
      "Ignoring reaction 'rxn38972' since it already exists.\n",
      "Ignoring reaction 'rxn13713' since it already exists.\n"
     ]
    },
    {
     "name": "stdout",
     "output_type": "stream",
     "text": [
      "Read LP format model from file /var/folders/6w/knrbtrj125ggkrx091kd2g840000gn/T/tmpf0eo03pf.lp\n",
      "Reading time = 0.03 seconds\n",
      ": 952 rows, 2018 columns, 9060 nonzeros\n"
     ]
    },
    {
     "name": "stderr",
     "output_type": "stream",
     "text": [
      "Ignoring reaction 'rxn38972' since it already exists.\n",
      "Ignoring reaction 'rxn13713' since it already exists.\n"
     ]
    },
    {
     "name": "stdout",
     "output_type": "stream",
     "text": [
      "Read LP format model from file /var/folders/6w/knrbtrj125ggkrx091kd2g840000gn/T/tmpu40uq4ug.lp\n",
      "Reading time = 0.00 seconds\n",
      ": 952 rows, 2018 columns, 9060 nonzeros\n"
     ]
    },
    {
     "name": "stderr",
     "output_type": "stream",
     "text": [
      "Ignoring reaction 'rxn38972' since it already exists.\n",
      "Ignoring reaction 'rxn13713' since it already exists.\n"
     ]
    },
    {
     "name": "stdout",
     "output_type": "stream",
     "text": [
      "Read LP format model from file /var/folders/6w/knrbtrj125ggkrx091kd2g840000gn/T/tmpg24purey.lp\n",
      "Reading time = 0.00 seconds\n",
      ": 952 rows, 2018 columns, 9060 nonzeros\n"
     ]
    },
    {
     "name": "stderr",
     "output_type": "stream",
     "text": [
      "Ignoring reaction 'rxn38972' since it already exists.\n",
      "Ignoring reaction 'rxn13713' since it already exists.\n"
     ]
    },
    {
     "name": "stdout",
     "output_type": "stream",
     "text": [
      "Read LP format model from file /var/folders/6w/knrbtrj125ggkrx091kd2g840000gn/T/tmprmytkd3f.lp\n",
      "Reading time = 0.00 seconds\n",
      ": 952 rows, 2018 columns, 9060 nonzeros\n"
     ]
    },
    {
     "name": "stderr",
     "output_type": "stream",
     "text": [
      "Ignoring reaction 'rxn38972' since it already exists.\n",
      "Ignoring reaction 'rxn13713' since it already exists.\n"
     ]
    },
    {
     "name": "stdout",
     "output_type": "stream",
     "text": [
      "Read LP format model from file /var/folders/6w/knrbtrj125ggkrx091kd2g840000gn/T/tmpay80uqm5.lp\n",
      "Reading time = 0.02 seconds\n",
      ": 952 rows, 2018 columns, 9060 nonzeros\n"
     ]
    },
    {
     "name": "stderr",
     "output_type": "stream",
     "text": [
      "Ignoring reaction 'rxn38972' since it already exists.\n",
      "Ignoring reaction 'rxn13713' since it already exists.\n"
     ]
    },
    {
     "name": "stdout",
     "output_type": "stream",
     "text": [
      "Read LP format model from file /var/folders/6w/knrbtrj125ggkrx091kd2g840000gn/T/tmp1hvigd_t.lp\n",
      "Reading time = 0.00 seconds\n",
      ": 952 rows, 2018 columns, 9060 nonzeros\n"
     ]
    },
    {
     "name": "stderr",
     "output_type": "stream",
     "text": [
      "Ignoring reaction 'rxn38972' since it already exists.\n",
      "Ignoring reaction 'rxn13713' since it already exists.\n"
     ]
    },
    {
     "name": "stdout",
     "output_type": "stream",
     "text": [
      "Read LP format model from file /var/folders/6w/knrbtrj125ggkrx091kd2g840000gn/T/tmpumstdczc.lp\n",
      "Reading time = 0.00 seconds\n",
      ": 952 rows, 2018 columns, 9060 nonzeros\n"
     ]
    },
    {
     "name": "stderr",
     "output_type": "stream",
     "text": [
      "Ignoring reaction 'rxn38972' since it already exists.\n",
      "Ignoring reaction 'rxn13713' since it already exists.\n"
     ]
    },
    {
     "name": "stdout",
     "output_type": "stream",
     "text": [
      "Read LP format model from file /var/folders/6w/knrbtrj125ggkrx091kd2g840000gn/T/tmpgx_rjs05.lp\n",
      "Reading time = 0.01 seconds\n",
      ": 952 rows, 2018 columns, 9060 nonzeros\n"
     ]
    },
    {
     "name": "stderr",
     "output_type": "stream",
     "text": [
      "Ignoring reaction 'rxn38972' since it already exists.\n"
     ]
    },
    {
     "name": "stdout",
     "output_type": "stream",
     "text": [
      "Read LP format model from file /var/folders/6w/knrbtrj125ggkrx091kd2g840000gn/T/tmpzeta88t6.lp\n",
      "Reading time = 0.00 seconds\n",
      ": 952 rows, 2018 columns, 9060 nonzeros\n"
     ]
    },
    {
     "name": "stderr",
     "output_type": "stream",
     "text": [
      "Ignoring reaction 'rxn38972' since it already exists.\n",
      "Ignoring reaction 'rxn13713' since it already exists.\n"
     ]
    },
    {
     "name": "stdout",
     "output_type": "stream",
     "text": [
      "Read LP format model from file /var/folders/6w/knrbtrj125ggkrx091kd2g840000gn/T/tmpylsecs6x.lp\n",
      "Reading time = 0.00 seconds\n",
      ": 952 rows, 2018 columns, 9060 nonzeros\n"
     ]
    },
    {
     "name": "stderr",
     "output_type": "stream",
     "text": [
      "Ignoring reaction 'rxn38972' since it already exists.\n",
      "Ignoring reaction 'rxn13713' since it already exists.\n"
     ]
    },
    {
     "name": "stdout",
     "output_type": "stream",
     "text": [
      "Read LP format model from file /var/folders/6w/knrbtrj125ggkrx091kd2g840000gn/T/tmpz3fhpv60.lp\n",
      "Reading time = 0.00 seconds\n",
      ": 952 rows, 2018 columns, 9060 nonzeros\n"
     ]
    },
    {
     "name": "stderr",
     "output_type": "stream",
     "text": [
      "Ignoring reaction 'rxn38972' since it already exists.\n",
      "Ignoring reaction 'rxn13713' since it already exists.\n"
     ]
    },
    {
     "name": "stdout",
     "output_type": "stream",
     "text": [
      "Read LP format model from file /var/folders/6w/knrbtrj125ggkrx091kd2g840000gn/T/tmpkg6w4ktf.lp\n",
      "Reading time = 0.00 seconds\n",
      ": 952 rows, 2018 columns, 9060 nonzeros\n"
     ]
    },
    {
     "name": "stderr",
     "output_type": "stream",
     "text": [
      "Ignoring reaction 'rxn38972' since it already exists.\n",
      "Ignoring reaction 'rxn13713' since it already exists.\n"
     ]
    },
    {
     "name": "stdout",
     "output_type": "stream",
     "text": [
      "Read LP format model from file /var/folders/6w/knrbtrj125ggkrx091kd2g840000gn/T/tmpsigu5gqj.lp\n",
      "Reading time = 0.01 seconds\n",
      ": 952 rows, 2018 columns, 9060 nonzeros\n"
     ]
    },
    {
     "name": "stderr",
     "output_type": "stream",
     "text": [
      "Ignoring reaction 'rxn38972' since it already exists.\n",
      "Ignoring reaction 'rxn13713' since it already exists.\n"
     ]
    },
    {
     "name": "stdout",
     "output_type": "stream",
     "text": [
      "Read LP format model from file /var/folders/6w/knrbtrj125ggkrx091kd2g840000gn/T/tmp6q7d7i71.lp\n",
      "Reading time = 0.00 seconds\n",
      ": 952 rows, 2018 columns, 9060 nonzeros\n"
     ]
    },
    {
     "name": "stderr",
     "output_type": "stream",
     "text": [
      "Ignoring reaction 'rxn38972' since it already exists.\n",
      "Ignoring reaction 'rxn13713' since it already exists.\n"
     ]
    },
    {
     "name": "stdout",
     "output_type": "stream",
     "text": [
      "Read LP format model from file /var/folders/6w/knrbtrj125ggkrx091kd2g840000gn/T/tmpk1gwjfvg.lp\n",
      "Reading time = 0.00 seconds\n",
      ": 952 rows, 2018 columns, 9060 nonzeros\n"
     ]
    },
    {
     "name": "stderr",
     "output_type": "stream",
     "text": [
      "Ignoring reaction 'rxn38972' since it already exists.\n",
      "Ignoring reaction 'rxn13713' since it already exists.\n"
     ]
    },
    {
     "name": "stdout",
     "output_type": "stream",
     "text": [
      "Read LP format model from file /var/folders/6w/knrbtrj125ggkrx091kd2g840000gn/T/tmp6b2nm4_o.lp\n",
      "Reading time = 0.00 seconds\n",
      ": 952 rows, 2018 columns, 9060 nonzeros\n"
     ]
    },
    {
     "name": "stderr",
     "output_type": "stream",
     "text": [
      "Ignoring reaction 'rxn38972' since it already exists.\n",
      "Ignoring reaction 'rxn13713' since it already exists.\n"
     ]
    },
    {
     "name": "stdout",
     "output_type": "stream",
     "text": [
      "Read LP format model from file /var/folders/6w/knrbtrj125ggkrx091kd2g840000gn/T/tmp0_idk6c6.lp\n",
      "Reading time = 0.00 seconds\n",
      ": 952 rows, 2018 columns, 9060 nonzeros\n"
     ]
    },
    {
     "name": "stderr",
     "output_type": "stream",
     "text": [
      "Ignoring reaction 'rxn38972' since it already exists.\n",
      "Ignoring reaction 'rxn13713' since it already exists.\n"
     ]
    },
    {
     "name": "stdout",
     "output_type": "stream",
     "text": [
      "Read LP format model from file /var/folders/6w/knrbtrj125ggkrx091kd2g840000gn/T/tmp3wlz284n.lp\n",
      "Reading time = 0.03 seconds\n",
      ": 952 rows, 2018 columns, 9060 nonzeros\n"
     ]
    },
    {
     "name": "stderr",
     "output_type": "stream",
     "text": [
      "Ignoring reaction 'rxn38972' since it already exists.\n",
      "Ignoring reaction 'rxn13713' since it already exists.\n"
     ]
    },
    {
     "name": "stdout",
     "output_type": "stream",
     "text": [
      "Read LP format model from file /var/folders/6w/knrbtrj125ggkrx091kd2g840000gn/T/tmpvc742ipo.lp\n",
      "Reading time = 0.00 seconds\n",
      ": 952 rows, 2018 columns, 9060 nonzeros\n"
     ]
    },
    {
     "name": "stderr",
     "output_type": "stream",
     "text": [
      "Ignoring reaction 'rxn38972' since it already exists.\n",
      "Ignoring reaction 'rxn13713' since it already exists.\n"
     ]
    },
    {
     "name": "stdout",
     "output_type": "stream",
     "text": [
      "Read LP format model from file /var/folders/6w/knrbtrj125ggkrx091kd2g840000gn/T/tmpk6ppnl9y.lp\n",
      "Reading time = 0.01 seconds\n",
      ": 952 rows, 2018 columns, 9060 nonzeros\n"
     ]
    },
    {
     "name": "stderr",
     "output_type": "stream",
     "text": [
      "Ignoring reaction 'rxn38972' since it already exists.\n",
      "Ignoring reaction 'rxn13713' since it already exists.\n"
     ]
    },
    {
     "name": "stdout",
     "output_type": "stream",
     "text": [
      "Read LP format model from file /var/folders/6w/knrbtrj125ggkrx091kd2g840000gn/T/tmpb6h1u7zm.lp\n",
      "Reading time = 0.00 seconds\n",
      ": 952 rows, 2018 columns, 9060 nonzeros\n"
     ]
    },
    {
     "name": "stderr",
     "output_type": "stream",
     "text": [
      "Ignoring reaction 'rxn38972' since it already exists.\n",
      "Ignoring reaction 'rxn13713' since it already exists.\n"
     ]
    },
    {
     "name": "stdout",
     "output_type": "stream",
     "text": [
      "Read LP format model from file /var/folders/6w/knrbtrj125ggkrx091kd2g840000gn/T/tmpdtzy_91u.lp\n",
      "Reading time = 0.00 seconds\n",
      ": 952 rows, 2018 columns, 9060 nonzeros\n"
     ]
    },
    {
     "name": "stderr",
     "output_type": "stream",
     "text": [
      "Ignoring reaction 'rxn38972' since it already exists.\n",
      "Ignoring reaction 'rxn13713' since it already exists.\n"
     ]
    },
    {
     "name": "stdout",
     "output_type": "stream",
     "text": [
      "Read LP format model from file /var/folders/6w/knrbtrj125ggkrx091kd2g840000gn/T/tmpsh5oo32x.lp\n",
      "Reading time = 0.01 seconds\n",
      ": 949 rows, 2012 columns, 9034 nonzeros\n",
      "Processing row 84...\n",
      "Read LP format model from file /var/folders/6w/knrbtrj125ggkrx091kd2g840000gn/T/tmp4ketv6ww.lp\n",
      "Reading time = 0.00 seconds\n",
      ": 949 rows, 2012 columns, 9034 nonzeros\n",
      "Read LP format model from file /var/folders/6w/knrbtrj125ggkrx091kd2g840000gn/T/tmp56s37e3v.lp\n",
      "Reading time = 0.01 seconds\n",
      ": 952 rows, 2018 columns, 9062 nonzeros\n"
     ]
    },
    {
     "name": "stderr",
     "output_type": "stream",
     "text": [
      "Ignoring reaction 'rxn23640' since it already exists.\n",
      "Ignoring reaction 'rxn00994' since it already exists.\n"
     ]
    },
    {
     "name": "stdout",
     "output_type": "stream",
     "text": [
      "Read LP format model from file /var/folders/6w/knrbtrj125ggkrx091kd2g840000gn/T/tmpan_84wa5.lp\n",
      "Reading time = 0.00 seconds\n",
      ": 952 rows, 2018 columns, 9062 nonzeros\n"
     ]
    },
    {
     "name": "stderr",
     "output_type": "stream",
     "text": [
      "Ignoring reaction 'rxn23640' since it already exists.\n",
      "Ignoring reaction 'rxn00994' since it already exists.\n"
     ]
    },
    {
     "name": "stdout",
     "output_type": "stream",
     "text": [
      "Read LP format model from file /var/folders/6w/knrbtrj125ggkrx091kd2g840000gn/T/tmp4gi_oh9q.lp\n",
      "Reading time = 0.02 seconds\n",
      ": 952 rows, 2018 columns, 9062 nonzeros\n"
     ]
    },
    {
     "name": "stderr",
     "output_type": "stream",
     "text": [
      "Ignoring reaction 'rxn23640' since it already exists.\n",
      "Ignoring reaction 'rxn00994' since it already exists.\n"
     ]
    },
    {
     "name": "stdout",
     "output_type": "stream",
     "text": [
      "Read LP format model from file /var/folders/6w/knrbtrj125ggkrx091kd2g840000gn/T/tmphvwp92sn.lp\n",
      "Reading time = 0.00 seconds\n",
      ": 952 rows, 2018 columns, 9062 nonzeros\n"
     ]
    },
    {
     "name": "stderr",
     "output_type": "stream",
     "text": [
      "Ignoring reaction 'rxn23640' since it already exists.\n",
      "Ignoring reaction 'rxn00994' since it already exists.\n"
     ]
    },
    {
     "name": "stdout",
     "output_type": "stream",
     "text": [
      "Read LP format model from file /var/folders/6w/knrbtrj125ggkrx091kd2g840000gn/T/tmp_0zd51b8.lp\n",
      "Reading time = 0.00 seconds\n",
      ": 952 rows, 2018 columns, 9062 nonzeros\n"
     ]
    },
    {
     "name": "stderr",
     "output_type": "stream",
     "text": [
      "Ignoring reaction 'rxn23640' since it already exists.\n",
      "Ignoring reaction 'rxn00994' since it already exists.\n"
     ]
    },
    {
     "name": "stdout",
     "output_type": "stream",
     "text": [
      "Read LP format model from file /var/folders/6w/knrbtrj125ggkrx091kd2g840000gn/T/tmpuub6420f.lp\n",
      "Reading time = 0.00 seconds\n",
      ": 952 rows, 2018 columns, 9062 nonzeros\n"
     ]
    },
    {
     "name": "stderr",
     "output_type": "stream",
     "text": [
      "Ignoring reaction 'rxn23640' since it already exists.\n",
      "Ignoring reaction 'rxn00994' since it already exists.\n"
     ]
    },
    {
     "name": "stdout",
     "output_type": "stream",
     "text": [
      "Read LP format model from file /var/folders/6w/knrbtrj125ggkrx091kd2g840000gn/T/tmpau41_52f.lp\n",
      "Reading time = 0.00 seconds\n",
      ": 952 rows, 2018 columns, 9062 nonzeros\n"
     ]
    },
    {
     "name": "stderr",
     "output_type": "stream",
     "text": [
      "Ignoring reaction 'rxn23640' since it already exists.\n",
      "Ignoring reaction 'rxn00994' since it already exists.\n"
     ]
    },
    {
     "name": "stdout",
     "output_type": "stream",
     "text": [
      "Read LP format model from file /var/folders/6w/knrbtrj125ggkrx091kd2g840000gn/T/tmpc33pqvva.lp\n",
      "Reading time = 0.00 seconds\n",
      ": 952 rows, 2018 columns, 9062 nonzeros\n"
     ]
    },
    {
     "name": "stderr",
     "output_type": "stream",
     "text": [
      "Ignoring reaction 'rxn23640' since it already exists.\n",
      "Ignoring reaction 'rxn00994' since it already exists.\n"
     ]
    },
    {
     "name": "stdout",
     "output_type": "stream",
     "text": [
      "Read LP format model from file /var/folders/6w/knrbtrj125ggkrx091kd2g840000gn/T/tmpdh2sdfwu.lp\n",
      "Reading time = 0.00 seconds\n",
      ": 952 rows, 2018 columns, 9062 nonzeros\n"
     ]
    },
    {
     "name": "stderr",
     "output_type": "stream",
     "text": [
      "Ignoring reaction 'rxn23640' since it already exists.\n",
      "Ignoring reaction 'rxn00994' since it already exists.\n"
     ]
    },
    {
     "name": "stdout",
     "output_type": "stream",
     "text": [
      "Read LP format model from file /var/folders/6w/knrbtrj125ggkrx091kd2g840000gn/T/tmp5108twj1.lp\n",
      "Reading time = 0.00 seconds\n",
      ": 952 rows, 2018 columns, 9062 nonzeros\n"
     ]
    },
    {
     "name": "stderr",
     "output_type": "stream",
     "text": [
      "Ignoring reaction 'rxn23640' since it already exists.\n",
      "Ignoring reaction 'rxn00994' since it already exists.\n"
     ]
    },
    {
     "name": "stdout",
     "output_type": "stream",
     "text": [
      "Read LP format model from file /var/folders/6w/knrbtrj125ggkrx091kd2g840000gn/T/tmp536yqy1_.lp\n",
      "Reading time = 0.00 seconds\n",
      ": 952 rows, 2018 columns, 9062 nonzeros\n"
     ]
    },
    {
     "name": "stderr",
     "output_type": "stream",
     "text": [
      "Ignoring reaction 'rxn23640' since it already exists.\n",
      "Ignoring reaction 'rxn00994' since it already exists.\n"
     ]
    },
    {
     "name": "stdout",
     "output_type": "stream",
     "text": [
      "Read LP format model from file /var/folders/6w/knrbtrj125ggkrx091kd2g840000gn/T/tmp3glicjqn.lp\n",
      "Reading time = 0.00 seconds\n",
      ": 952 rows, 2018 columns, 9062 nonzeros\n"
     ]
    },
    {
     "name": "stderr",
     "output_type": "stream",
     "text": [
      "Ignoring reaction 'rxn23640' since it already exists.\n",
      "Ignoring reaction 'rxn00994' since it already exists.\n"
     ]
    },
    {
     "name": "stdout",
     "output_type": "stream",
     "text": [
      "Read LP format model from file /var/folders/6w/knrbtrj125ggkrx091kd2g840000gn/T/tmp_69vvxnh.lp\n",
      "Reading time = 0.00 seconds\n",
      ": 952 rows, 2018 columns, 9062 nonzeros\n"
     ]
    },
    {
     "name": "stderr",
     "output_type": "stream",
     "text": [
      "Ignoring reaction 'rxn23640' since it already exists.\n",
      "Ignoring reaction 'rxn00994' since it already exists.\n"
     ]
    },
    {
     "name": "stdout",
     "output_type": "stream",
     "text": [
      "Read LP format model from file /var/folders/6w/knrbtrj125ggkrx091kd2g840000gn/T/tmpm09_k36q.lp\n",
      "Reading time = 0.00 seconds\n",
      ": 952 rows, 2018 columns, 9062 nonzeros\n"
     ]
    },
    {
     "name": "stderr",
     "output_type": "stream",
     "text": [
      "Ignoring reaction 'rxn23640' since it already exists.\n",
      "Ignoring reaction 'rxn00994' since it already exists.\n"
     ]
    },
    {
     "name": "stdout",
     "output_type": "stream",
     "text": [
      "Read LP format model from file /var/folders/6w/knrbtrj125ggkrx091kd2g840000gn/T/tmp1fgj3vac.lp\n",
      "Reading time = 0.00 seconds\n",
      ": 952 rows, 2018 columns, 9062 nonzeros\n"
     ]
    },
    {
     "name": "stderr",
     "output_type": "stream",
     "text": [
      "Ignoring reaction 'rxn23640' since it already exists.\n",
      "Ignoring reaction 'rxn00994' since it already exists.\n"
     ]
    },
    {
     "name": "stdout",
     "output_type": "stream",
     "text": [
      "Read LP format model from file /var/folders/6w/knrbtrj125ggkrx091kd2g840000gn/T/tmpfmn1cpl4.lp\n",
      "Reading time = 0.01 seconds\n",
      ": 952 rows, 2018 columns, 9062 nonzeros\n"
     ]
    },
    {
     "name": "stderr",
     "output_type": "stream",
     "text": [
      "Ignoring reaction 'rxn23640' since it already exists.\n",
      "Ignoring reaction 'rxn00994' since it already exists.\n"
     ]
    },
    {
     "name": "stdout",
     "output_type": "stream",
     "text": [
      "Read LP format model from file /var/folders/6w/knrbtrj125ggkrx091kd2g840000gn/T/tmp03ewx_kp.lp\n",
      "Reading time = 0.00 seconds\n",
      ": 952 rows, 2018 columns, 9062 nonzeros\n"
     ]
    },
    {
     "name": "stderr",
     "output_type": "stream",
     "text": [
      "Ignoring reaction 'rxn23640' since it already exists.\n",
      "Ignoring reaction 'rxn00994' since it already exists.\n"
     ]
    },
    {
     "name": "stdout",
     "output_type": "stream",
     "text": [
      "Read LP format model from file /var/folders/6w/knrbtrj125ggkrx091kd2g840000gn/T/tmpk8dtklmg.lp\n",
      "Reading time = 0.00 seconds\n",
      ": 952 rows, 2018 columns, 9062 nonzeros\n"
     ]
    },
    {
     "name": "stderr",
     "output_type": "stream",
     "text": [
      "Ignoring reaction 'rxn00994' since it already exists.\n"
     ]
    },
    {
     "name": "stdout",
     "output_type": "stream",
     "text": [
      "Read LP format model from file /var/folders/6w/knrbtrj125ggkrx091kd2g840000gn/T/tmprh9nl1sx.lp\n",
      "Reading time = 0.03 seconds\n",
      ": 952 rows, 2018 columns, 9062 nonzeros\n"
     ]
    },
    {
     "name": "stderr",
     "output_type": "stream",
     "text": [
      "Ignoring reaction 'rxn23640' since it already exists.\n",
      "Ignoring reaction 'rxn00994' since it already exists.\n"
     ]
    },
    {
     "name": "stdout",
     "output_type": "stream",
     "text": [
      "Read LP format model from file /var/folders/6w/knrbtrj125ggkrx091kd2g840000gn/T/tmpmw836y2n.lp\n",
      "Reading time = 0.00 seconds\n",
      ": 952 rows, 2018 columns, 9062 nonzeros\n"
     ]
    },
    {
     "name": "stderr",
     "output_type": "stream",
     "text": [
      "Ignoring reaction 'rxn23640' since it already exists.\n",
      "Ignoring reaction 'rxn00994' since it already exists.\n"
     ]
    },
    {
     "name": "stdout",
     "output_type": "stream",
     "text": [
      "Read LP format model from file /var/folders/6w/knrbtrj125ggkrx091kd2g840000gn/T/tmp715t3zsu.lp\n",
      "Reading time = 0.00 seconds\n",
      ": 952 rows, 2018 columns, 9062 nonzeros\n"
     ]
    },
    {
     "name": "stderr",
     "output_type": "stream",
     "text": [
      "Ignoring reaction 'rxn23640' since it already exists.\n",
      "Ignoring reaction 'rxn00994' since it already exists.\n"
     ]
    },
    {
     "name": "stdout",
     "output_type": "stream",
     "text": [
      "Read LP format model from file /var/folders/6w/knrbtrj125ggkrx091kd2g840000gn/T/tmpain_rech.lp\n",
      "Reading time = 0.01 seconds\n",
      ": 952 rows, 2018 columns, 9062 nonzeros\n"
     ]
    },
    {
     "name": "stderr",
     "output_type": "stream",
     "text": [
      "Ignoring reaction 'rxn23640' since it already exists.\n",
      "Ignoring reaction 'rxn00994' since it already exists.\n"
     ]
    },
    {
     "name": "stdout",
     "output_type": "stream",
     "text": [
      "Read LP format model from file /var/folders/6w/knrbtrj125ggkrx091kd2g840000gn/T/tmpum2djkga.lp\n",
      "Reading time = 0.01 seconds\n",
      ": 952 rows, 2018 columns, 9062 nonzeros\n"
     ]
    },
    {
     "name": "stderr",
     "output_type": "stream",
     "text": [
      "Ignoring reaction 'rxn23640' since it already exists.\n",
      "Ignoring reaction 'rxn00994' since it already exists.\n"
     ]
    },
    {
     "name": "stdout",
     "output_type": "stream",
     "text": [
      "Read LP format model from file /var/folders/6w/knrbtrj125ggkrx091kd2g840000gn/T/tmpmbxld91w.lp\n",
      "Reading time = 0.01 seconds\n",
      ": 952 rows, 2018 columns, 9062 nonzeros\n"
     ]
    },
    {
     "name": "stderr",
     "output_type": "stream",
     "text": [
      "Ignoring reaction 'rxn23640' since it already exists.\n",
      "Ignoring reaction 'rxn00994' since it already exists.\n"
     ]
    },
    {
     "name": "stdout",
     "output_type": "stream",
     "text": [
      "Read LP format model from file /var/folders/6w/knrbtrj125ggkrx091kd2g840000gn/T/tmp5cgc71hj.lp\n",
      "Reading time = 0.01 seconds\n",
      ": 952 rows, 2018 columns, 9062 nonzeros\n"
     ]
    },
    {
     "name": "stderr",
     "output_type": "stream",
     "text": [
      "Ignoring reaction 'rxn23640' since it already exists.\n",
      "Ignoring reaction 'rxn00994' since it already exists.\n"
     ]
    },
    {
     "name": "stdout",
     "output_type": "stream",
     "text": [
      "Read LP format model from file /var/folders/6w/knrbtrj125ggkrx091kd2g840000gn/T/tmpk064nx5u.lp\n",
      "Reading time = 0.01 seconds\n",
      ": 952 rows, 2018 columns, 9062 nonzeros\n"
     ]
    },
    {
     "name": "stderr",
     "output_type": "stream",
     "text": [
      "Ignoring reaction 'rxn23640' since it already exists.\n",
      "Ignoring reaction 'rxn00994' since it already exists.\n"
     ]
    },
    {
     "name": "stdout",
     "output_type": "stream",
     "text": [
      "Read LP format model from file /var/folders/6w/knrbtrj125ggkrx091kd2g840000gn/T/tmpfx54p727.lp\n",
      "Reading time = 0.00 seconds\n",
      ": 952 rows, 2018 columns, 9062 nonzeros\n"
     ]
    },
    {
     "name": "stderr",
     "output_type": "stream",
     "text": [
      "Ignoring reaction 'rxn23640' since it already exists.\n",
      "Ignoring reaction 'rxn00994' since it already exists.\n"
     ]
    },
    {
     "name": "stdout",
     "output_type": "stream",
     "text": [
      "Read LP format model from file /var/folders/6w/knrbtrj125ggkrx091kd2g840000gn/T/tmp7ucuee9c.lp\n",
      "Reading time = 0.00 seconds\n",
      ": 952 rows, 2018 columns, 9062 nonzeros\n"
     ]
    },
    {
     "name": "stderr",
     "output_type": "stream",
     "text": [
      "Ignoring reaction 'rxn23640' since it already exists.\n",
      "Ignoring reaction 'rxn00994' since it already exists.\n"
     ]
    },
    {
     "name": "stdout",
     "output_type": "stream",
     "text": [
      "Read LP format model from file /var/folders/6w/knrbtrj125ggkrx091kd2g840000gn/T/tmpjr71iwl_.lp\n",
      "Reading time = 0.00 seconds\n",
      ": 952 rows, 2018 columns, 9062 nonzeros\n"
     ]
    },
    {
     "name": "stderr",
     "output_type": "stream",
     "text": [
      "Ignoring reaction 'rxn23640' since it already exists.\n",
      "Ignoring reaction 'rxn00994' since it already exists.\n"
     ]
    },
    {
     "name": "stdout",
     "output_type": "stream",
     "text": [
      "Read LP format model from file /var/folders/6w/knrbtrj125ggkrx091kd2g840000gn/T/tmpx0itw7oo.lp\n",
      "Reading time = 0.01 seconds\n",
      ": 952 rows, 2018 columns, 9062 nonzeros\n"
     ]
    },
    {
     "name": "stderr",
     "output_type": "stream",
     "text": [
      "Ignoring reaction 'rxn23640' since it already exists.\n",
      "Ignoring reaction 'rxn00994' since it already exists.\n"
     ]
    },
    {
     "name": "stdout",
     "output_type": "stream",
     "text": [
      "Read LP format model from file /var/folders/6w/knrbtrj125ggkrx091kd2g840000gn/T/tmpz3pdwgt7.lp\n",
      "Reading time = 0.00 seconds\n",
      ": 952 rows, 2018 columns, 9062 nonzeros\n"
     ]
    },
    {
     "name": "stderr",
     "output_type": "stream",
     "text": [
      "Ignoring reaction 'rxn23640' since it already exists.\n",
      "Ignoring reaction 'rxn00994' since it already exists.\n"
     ]
    },
    {
     "name": "stdout",
     "output_type": "stream",
     "text": [
      "Read LP format model from file /var/folders/6w/knrbtrj125ggkrx091kd2g840000gn/T/tmp4yos5kty.lp\n",
      "Reading time = 0.00 seconds\n",
      ": 952 rows, 2018 columns, 9062 nonzeros\n"
     ]
    },
    {
     "name": "stderr",
     "output_type": "stream",
     "text": [
      "Ignoring reaction 'rxn23640' since it already exists.\n",
      "Ignoring reaction 'rxn00994' since it already exists.\n"
     ]
    },
    {
     "name": "stdout",
     "output_type": "stream",
     "text": [
      "Read LP format model from file /var/folders/6w/knrbtrj125ggkrx091kd2g840000gn/T/tmp1gkmbt8x.lp\n",
      "Reading time = 0.01 seconds\n",
      ": 952 rows, 2018 columns, 9062 nonzeros\n"
     ]
    },
    {
     "name": "stderr",
     "output_type": "stream",
     "text": [
      "Ignoring reaction 'rxn23640' since it already exists.\n",
      "Ignoring reaction 'rxn00994' since it already exists.\n"
     ]
    },
    {
     "name": "stdout",
     "output_type": "stream",
     "text": [
      "Read LP format model from file /var/folders/6w/knrbtrj125ggkrx091kd2g840000gn/T/tmpe_1vhw_v.lp\n",
      "Reading time = 0.00 seconds\n",
      ": 952 rows, 2018 columns, 9062 nonzeros\n"
     ]
    },
    {
     "name": "stderr",
     "output_type": "stream",
     "text": [
      "Ignoring reaction 'rxn23640' since it already exists.\n",
      "Ignoring reaction 'rxn00994' since it already exists.\n"
     ]
    },
    {
     "name": "stdout",
     "output_type": "stream",
     "text": [
      "Read LP format model from file /var/folders/6w/knrbtrj125ggkrx091kd2g840000gn/T/tmp7ie8ll95.lp\n",
      "Reading time = 0.00 seconds\n",
      ": 952 rows, 2018 columns, 9062 nonzeros\n"
     ]
    },
    {
     "name": "stderr",
     "output_type": "stream",
     "text": [
      "Ignoring reaction 'rxn23640' since it already exists.\n",
      "Ignoring reaction 'rxn00994' since it already exists.\n"
     ]
    },
    {
     "name": "stdout",
     "output_type": "stream",
     "text": [
      "Read LP format model from file /var/folders/6w/knrbtrj125ggkrx091kd2g840000gn/T/tmpi0l3vg21.lp\n",
      "Reading time = 0.00 seconds\n",
      ": 952 rows, 2018 columns, 9062 nonzeros\n"
     ]
    },
    {
     "name": "stderr",
     "output_type": "stream",
     "text": [
      "Ignoring reaction 'rxn23640' since it already exists.\n",
      "Ignoring reaction 'rxn00994' since it already exists.\n"
     ]
    },
    {
     "name": "stdout",
     "output_type": "stream",
     "text": [
      "Read LP format model from file /var/folders/6w/knrbtrj125ggkrx091kd2g840000gn/T/tmpn7wig9wg.lp\n",
      "Reading time = 0.01 seconds\n",
      ": 952 rows, 2018 columns, 9062 nonzeros\n"
     ]
    },
    {
     "name": "stderr",
     "output_type": "stream",
     "text": [
      "Ignoring reaction 'rxn23640' since it already exists.\n",
      "Ignoring reaction 'rxn00994' since it already exists.\n"
     ]
    },
    {
     "name": "stdout",
     "output_type": "stream",
     "text": [
      "Read LP format model from file /var/folders/6w/knrbtrj125ggkrx091kd2g840000gn/T/tmpso8260z5.lp\n",
      "Reading time = 0.01 seconds\n",
      ": 952 rows, 2018 columns, 9062 nonzeros\n"
     ]
    },
    {
     "name": "stderr",
     "output_type": "stream",
     "text": [
      "Ignoring reaction 'rxn23640' since it already exists.\n",
      "Ignoring reaction 'rxn00994' since it already exists.\n"
     ]
    },
    {
     "name": "stdout",
     "output_type": "stream",
     "text": [
      "Read LP format model from file /var/folders/6w/knrbtrj125ggkrx091kd2g840000gn/T/tmpenjpwpgt.lp\n",
      "Reading time = 0.01 seconds\n",
      ": 952 rows, 2018 columns, 9062 nonzeros\n"
     ]
    },
    {
     "name": "stderr",
     "output_type": "stream",
     "text": [
      "Ignoring reaction 'rxn23640' since it already exists.\n",
      "Ignoring reaction 'rxn00994' since it already exists.\n"
     ]
    },
    {
     "name": "stdout",
     "output_type": "stream",
     "text": [
      "Read LP format model from file /var/folders/6w/knrbtrj125ggkrx091kd2g840000gn/T/tmpsbino8vo.lp\n",
      "Reading time = 0.00 seconds\n",
      ": 952 rows, 2018 columns, 9062 nonzeros\n"
     ]
    },
    {
     "name": "stderr",
     "output_type": "stream",
     "text": [
      "Ignoring reaction 'rxn23640' since it already exists.\n",
      "Ignoring reaction 'rxn00994' since it already exists.\n"
     ]
    },
    {
     "name": "stdout",
     "output_type": "stream",
     "text": [
      "Read LP format model from file /var/folders/6w/knrbtrj125ggkrx091kd2g840000gn/T/tmp9an329h2.lp\n",
      "Reading time = 0.01 seconds\n",
      ": 952 rows, 2018 columns, 9062 nonzeros\n"
     ]
    },
    {
     "name": "stderr",
     "output_type": "stream",
     "text": [
      "Ignoring reaction 'rxn23640' since it already exists.\n",
      "Ignoring reaction 'rxn00994' since it already exists.\n"
     ]
    },
    {
     "name": "stdout",
     "output_type": "stream",
     "text": [
      "Read LP format model from file /var/folders/6w/knrbtrj125ggkrx091kd2g840000gn/T/tmpgzqdrd21.lp\n",
      "Reading time = 0.00 seconds\n",
      ": 952 rows, 2018 columns, 9062 nonzeros\n"
     ]
    },
    {
     "name": "stderr",
     "output_type": "stream",
     "text": [
      "Ignoring reaction 'rxn23640' since it already exists.\n",
      "Ignoring reaction 'rxn00994' since it already exists.\n"
     ]
    },
    {
     "name": "stdout",
     "output_type": "stream",
     "text": [
      "Read LP format model from file /var/folders/6w/knrbtrj125ggkrx091kd2g840000gn/T/tmpgq5_dnf1.lp\n",
      "Reading time = 0.01 seconds\n",
      ": 952 rows, 2018 columns, 9062 nonzeros\n"
     ]
    },
    {
     "name": "stderr",
     "output_type": "stream",
     "text": [
      "Ignoring reaction 'rxn23640' since it already exists.\n",
      "Ignoring reaction 'rxn00994' since it already exists.\n"
     ]
    },
    {
     "name": "stdout",
     "output_type": "stream",
     "text": [
      "Read LP format model from file /var/folders/6w/knrbtrj125ggkrx091kd2g840000gn/T/tmp04us1spv.lp\n",
      "Reading time = 0.00 seconds\n",
      ": 952 rows, 2018 columns, 9062 nonzeros\n"
     ]
    },
    {
     "name": "stderr",
     "output_type": "stream",
     "text": [
      "Ignoring reaction 'rxn23640' since it already exists.\n",
      "Ignoring reaction 'rxn00994' since it already exists.\n"
     ]
    },
    {
     "name": "stdout",
     "output_type": "stream",
     "text": [
      "Read LP format model from file /var/folders/6w/knrbtrj125ggkrx091kd2g840000gn/T/tmpw3inastg.lp\n",
      "Reading time = 0.01 seconds\n",
      ": 952 rows, 2018 columns, 9062 nonzeros\n"
     ]
    },
    {
     "name": "stderr",
     "output_type": "stream",
     "text": [
      "Ignoring reaction 'rxn23640' since it already exists.\n"
     ]
    },
    {
     "name": "stdout",
     "output_type": "stream",
     "text": [
      "Read LP format model from file /var/folders/6w/knrbtrj125ggkrx091kd2g840000gn/T/tmpdsaf94q0.lp\n",
      "Reading time = 0.00 seconds\n",
      ": 952 rows, 2018 columns, 9062 nonzeros\n"
     ]
    },
    {
     "name": "stderr",
     "output_type": "stream",
     "text": [
      "Ignoring reaction 'rxn23640' since it already exists.\n",
      "Ignoring reaction 'rxn00994' since it already exists.\n"
     ]
    },
    {
     "name": "stdout",
     "output_type": "stream",
     "text": [
      "Read LP format model from file /var/folders/6w/knrbtrj125ggkrx091kd2g840000gn/T/tmpg9e24znf.lp\n",
      "Reading time = 0.01 seconds\n",
      ": 952 rows, 2018 columns, 9062 nonzeros\n"
     ]
    },
    {
     "name": "stderr",
     "output_type": "stream",
     "text": [
      "Ignoring reaction 'rxn23640' since it already exists.\n",
      "Ignoring reaction 'rxn00994' since it already exists.\n"
     ]
    },
    {
     "name": "stdout",
     "output_type": "stream",
     "text": [
      "Read LP format model from file /var/folders/6w/knrbtrj125ggkrx091kd2g840000gn/T/tmp2imkyimc.lp\n",
      "Reading time = 0.01 seconds\n",
      ": 952 rows, 2018 columns, 9062 nonzeros\n"
     ]
    },
    {
     "name": "stderr",
     "output_type": "stream",
     "text": [
      "Ignoring reaction 'rxn23640' since it already exists.\n",
      "Ignoring reaction 'rxn00994' since it already exists.\n"
     ]
    },
    {
     "name": "stdout",
     "output_type": "stream",
     "text": [
      "Read LP format model from file /var/folders/6w/knrbtrj125ggkrx091kd2g840000gn/T/tmp92nyzfgx.lp\n",
      "Reading time = 0.01 seconds\n",
      ": 952 rows, 2018 columns, 9062 nonzeros\n"
     ]
    },
    {
     "name": "stderr",
     "output_type": "stream",
     "text": [
      "Ignoring reaction 'rxn23640' since it already exists.\n",
      "Ignoring reaction 'rxn00994' since it already exists.\n"
     ]
    },
    {
     "name": "stdout",
     "output_type": "stream",
     "text": [
      "Read LP format model from file /var/folders/6w/knrbtrj125ggkrx091kd2g840000gn/T/tmpcqcqpyn9.lp\n",
      "Reading time = 0.00 seconds\n",
      ": 952 rows, 2018 columns, 9062 nonzeros\n"
     ]
    },
    {
     "name": "stderr",
     "output_type": "stream",
     "text": [
      "Ignoring reaction 'rxn23640' since it already exists.\n",
      "Ignoring reaction 'rxn00994' since it already exists.\n"
     ]
    },
    {
     "name": "stdout",
     "output_type": "stream",
     "text": [
      "Read LP format model from file /var/folders/6w/knrbtrj125ggkrx091kd2g840000gn/T/tmpttqvwdlp.lp\n",
      "Reading time = 0.00 seconds\n",
      ": 952 rows, 2018 columns, 9062 nonzeros\n"
     ]
    },
    {
     "name": "stderr",
     "output_type": "stream",
     "text": [
      "Ignoring reaction 'rxn23640' since it already exists.\n",
      "Ignoring reaction 'rxn00994' since it already exists.\n"
     ]
    },
    {
     "name": "stdout",
     "output_type": "stream",
     "text": [
      "Read LP format model from file /var/folders/6w/knrbtrj125ggkrx091kd2g840000gn/T/tmph8b1ktb0.lp\n",
      "Reading time = 0.00 seconds\n",
      ": 952 rows, 2018 columns, 9062 nonzeros\n"
     ]
    },
    {
     "name": "stderr",
     "output_type": "stream",
     "text": [
      "Ignoring reaction 'rxn23640' since it already exists.\n",
      "Ignoring reaction 'rxn00994' since it already exists.\n"
     ]
    },
    {
     "name": "stdout",
     "output_type": "stream",
     "text": [
      "Read LP format model from file /var/folders/6w/knrbtrj125ggkrx091kd2g840000gn/T/tmpaf_xr08_.lp\n",
      "Reading time = 0.00 seconds\n",
      ": 952 rows, 2018 columns, 9062 nonzeros\n"
     ]
    },
    {
     "name": "stderr",
     "output_type": "stream",
     "text": [
      "Ignoring reaction 'rxn23640' since it already exists.\n",
      "Ignoring reaction 'rxn00994' since it already exists.\n"
     ]
    },
    {
     "name": "stdout",
     "output_type": "stream",
     "text": [
      "Read LP format model from file /var/folders/6w/knrbtrj125ggkrx091kd2g840000gn/T/tmp8p5ybnw0.lp\n",
      "Reading time = 0.01 seconds\n",
      ": 952 rows, 2018 columns, 9062 nonzeros\n"
     ]
    },
    {
     "name": "stderr",
     "output_type": "stream",
     "text": [
      "Ignoring reaction 'rxn23640' since it already exists.\n",
      "Ignoring reaction 'rxn00994' since it already exists.\n"
     ]
    },
    {
     "name": "stdout",
     "output_type": "stream",
     "text": [
      "Read LP format model from file /var/folders/6w/knrbtrj125ggkrx091kd2g840000gn/T/tmp6q7ges65.lp\n",
      "Reading time = 0.01 seconds\n",
      ": 952 rows, 2018 columns, 9062 nonzeros\n"
     ]
    },
    {
     "name": "stderr",
     "output_type": "stream",
     "text": [
      "Ignoring reaction 'rxn23640' since it already exists.\n",
      "Ignoring reaction 'rxn00994' since it already exists.\n"
     ]
    },
    {
     "name": "stdout",
     "output_type": "stream",
     "text": [
      "Read LP format model from file /var/folders/6w/knrbtrj125ggkrx091kd2g840000gn/T/tmpoo9g3eri.lp\n",
      "Reading time = 0.00 seconds\n",
      ": 952 rows, 2018 columns, 9062 nonzeros\n"
     ]
    },
    {
     "name": "stderr",
     "output_type": "stream",
     "text": [
      "Ignoring reaction 'rxn23640' since it already exists.\n",
      "Ignoring reaction 'rxn00994' since it already exists.\n"
     ]
    },
    {
     "name": "stdout",
     "output_type": "stream",
     "text": [
      "Read LP format model from file /var/folders/6w/knrbtrj125ggkrx091kd2g840000gn/T/tmpjr6vk_ic.lp\n",
      "Reading time = 0.00 seconds\n",
      ": 952 rows, 2018 columns, 9062 nonzeros\n"
     ]
    },
    {
     "name": "stderr",
     "output_type": "stream",
     "text": [
      "Ignoring reaction 'rxn23640' since it already exists.\n",
      "Ignoring reaction 'rxn00994' since it already exists.\n"
     ]
    },
    {
     "name": "stdout",
     "output_type": "stream",
     "text": [
      "Read LP format model from file /var/folders/6w/knrbtrj125ggkrx091kd2g840000gn/T/tmpb1o5zkxq.lp\n",
      "Reading time = 0.00 seconds\n",
      ": 952 rows, 2018 columns, 9062 nonzeros\n"
     ]
    },
    {
     "name": "stderr",
     "output_type": "stream",
     "text": [
      "Ignoring reaction 'rxn23640' since it already exists.\n",
      "Ignoring reaction 'rxn00994' since it already exists.\n"
     ]
    },
    {
     "name": "stdout",
     "output_type": "stream",
     "text": [
      "Read LP format model from file /var/folders/6w/knrbtrj125ggkrx091kd2g840000gn/T/tmpd1fmlkkt.lp\n",
      "Reading time = 0.01 seconds\n",
      ": 952 rows, 2018 columns, 9062 nonzeros\n"
     ]
    },
    {
     "name": "stderr",
     "output_type": "stream",
     "text": [
      "Ignoring reaction 'rxn23640' since it already exists.\n",
      "Ignoring reaction 'rxn00994' since it already exists.\n"
     ]
    },
    {
     "name": "stdout",
     "output_type": "stream",
     "text": [
      "Read LP format model from file /var/folders/6w/knrbtrj125ggkrx091kd2g840000gn/T/tmpegl5duad.lp\n",
      "Reading time = 0.01 seconds\n",
      ": 952 rows, 2018 columns, 9062 nonzeros\n"
     ]
    },
    {
     "name": "stderr",
     "output_type": "stream",
     "text": [
      "Ignoring reaction 'rxn23640' since it already exists.\n",
      "Ignoring reaction 'rxn00994' since it already exists.\n"
     ]
    },
    {
     "name": "stdout",
     "output_type": "stream",
     "text": [
      "Read LP format model from file /var/folders/6w/knrbtrj125ggkrx091kd2g840000gn/T/tmpzrl05s3b.lp\n",
      "Reading time = 0.01 seconds\n",
      ": 952 rows, 2018 columns, 9062 nonzeros\n"
     ]
    },
    {
     "name": "stderr",
     "output_type": "stream",
     "text": [
      "Ignoring reaction 'rxn23640' since it already exists.\n",
      "Ignoring reaction 'rxn00994' since it already exists.\n"
     ]
    },
    {
     "name": "stdout",
     "output_type": "stream",
     "text": [
      "Read LP format model from file /var/folders/6w/knrbtrj125ggkrx091kd2g840000gn/T/tmps_ed9vkh.lp\n",
      "Reading time = 0.01 seconds\n",
      ": 952 rows, 2018 columns, 9062 nonzeros\n"
     ]
    },
    {
     "name": "stderr",
     "output_type": "stream",
     "text": [
      "Ignoring reaction 'rxn23640' since it already exists.\n",
      "Ignoring reaction 'rxn00994' since it already exists.\n"
     ]
    },
    {
     "name": "stdout",
     "output_type": "stream",
     "text": [
      "Read LP format model from file /var/folders/6w/knrbtrj125ggkrx091kd2g840000gn/T/tmp214g3j68.lp\n",
      "Reading time = 0.00 seconds\n",
      ": 952 rows, 2018 columns, 9062 nonzeros\n"
     ]
    },
    {
     "name": "stderr",
     "output_type": "stream",
     "text": [
      "Ignoring reaction 'rxn23640' since it already exists.\n",
      "Ignoring reaction 'rxn00994' since it already exists.\n"
     ]
    },
    {
     "name": "stdout",
     "output_type": "stream",
     "text": [
      "Read LP format model from file /var/folders/6w/knrbtrj125ggkrx091kd2g840000gn/T/tmps7jacald.lp\n",
      "Reading time = 0.01 seconds\n",
      ": 952 rows, 2018 columns, 9062 nonzeros\n"
     ]
    },
    {
     "name": "stderr",
     "output_type": "stream",
     "text": [
      "Ignoring reaction 'rxn23640' since it already exists.\n",
      "Ignoring reaction 'rxn00994' since it already exists.\n"
     ]
    },
    {
     "name": "stdout",
     "output_type": "stream",
     "text": [
      "Read LP format model from file /var/folders/6w/knrbtrj125ggkrx091kd2g840000gn/T/tmpf_l18t7o.lp\n",
      "Reading time = 0.01 seconds\n",
      ": 952 rows, 2018 columns, 9062 nonzeros\n"
     ]
    },
    {
     "name": "stderr",
     "output_type": "stream",
     "text": [
      "Ignoring reaction 'rxn23640' since it already exists.\n",
      "Ignoring reaction 'rxn00994' since it already exists.\n"
     ]
    },
    {
     "name": "stdout",
     "output_type": "stream",
     "text": [
      "Read LP format model from file /var/folders/6w/knrbtrj125ggkrx091kd2g840000gn/T/tmpes29l7nb.lp\n",
      "Reading time = 0.00 seconds\n",
      ": 952 rows, 2018 columns, 9062 nonzeros\n"
     ]
    },
    {
     "name": "stderr",
     "output_type": "stream",
     "text": [
      "Ignoring reaction 'rxn23640' since it already exists.\n",
      "Ignoring reaction 'rxn00994' since it already exists.\n"
     ]
    },
    {
     "name": "stdout",
     "output_type": "stream",
     "text": [
      "Read LP format model from file /var/folders/6w/knrbtrj125ggkrx091kd2g840000gn/T/tmpw2mod7rd.lp\n",
      "Reading time = 0.01 seconds\n",
      ": 952 rows, 2018 columns, 9062 nonzeros\n"
     ]
    },
    {
     "name": "stderr",
     "output_type": "stream",
     "text": [
      "Ignoring reaction 'rxn23640' since it already exists.\n",
      "Ignoring reaction 'rxn00994' since it already exists.\n"
     ]
    },
    {
     "name": "stdout",
     "output_type": "stream",
     "text": [
      "Read LP format model from file /var/folders/6w/knrbtrj125ggkrx091kd2g840000gn/T/tmpiaon4uzm.lp\n",
      "Reading time = 0.00 seconds\n",
      ": 952 rows, 2018 columns, 9062 nonzeros\n"
     ]
    },
    {
     "name": "stderr",
     "output_type": "stream",
     "text": [
      "Ignoring reaction 'rxn23640' since it already exists.\n",
      "Ignoring reaction 'rxn00994' since it already exists.\n"
     ]
    },
    {
     "name": "stdout",
     "output_type": "stream",
     "text": [
      "Read LP format model from file /var/folders/6w/knrbtrj125ggkrx091kd2g840000gn/T/tmp508okwyd.lp\n",
      "Reading time = 0.01 seconds\n",
      ": 952 rows, 2018 columns, 9062 nonzeros\n"
     ]
    },
    {
     "name": "stderr",
     "output_type": "stream",
     "text": [
      "Ignoring reaction 'rxn23640' since it already exists.\n",
      "Ignoring reaction 'rxn00994' since it already exists.\n"
     ]
    },
    {
     "name": "stdout",
     "output_type": "stream",
     "text": [
      "Read LP format model from file /var/folders/6w/knrbtrj125ggkrx091kd2g840000gn/T/tmp65lnaugm.lp\n",
      "Reading time = 0.01 seconds\n",
      ": 952 rows, 2018 columns, 9062 nonzeros\n"
     ]
    },
    {
     "name": "stderr",
     "output_type": "stream",
     "text": [
      "Ignoring reaction 'rxn23640' since it already exists.\n",
      "Ignoring reaction 'rxn00994' since it already exists.\n"
     ]
    },
    {
     "name": "stdout",
     "output_type": "stream",
     "text": [
      "Read LP format model from file /var/folders/6w/knrbtrj125ggkrx091kd2g840000gn/T/tmp8_doop1_.lp\n",
      "Reading time = 0.01 seconds\n",
      ": 949 rows, 2012 columns, 9034 nonzeros\n",
      "Processing row 89...\n",
      "Read LP format model from file /var/folders/6w/knrbtrj125ggkrx091kd2g840000gn/T/tmp72g91_dr.lp\n",
      "Reading time = 0.01 seconds\n",
      ": 949 rows, 2012 columns, 9034 nonzeros\n",
      "Read LP format model from file /var/folders/6w/knrbtrj125ggkrx091kd2g840000gn/T/tmpjepoa0ud.lp\n",
      "Reading time = 0.01 seconds\n",
      ": 950 rows, 2018 columns, 9058 nonzeros\n"
     ]
    },
    {
     "name": "stderr",
     "output_type": "stream",
     "text": [
      "Ignoring reaction 'rxn08029' since it already exists.\n",
      "Ignoring reaction 'rxn00994' since it already exists.\n"
     ]
    },
    {
     "name": "stdout",
     "output_type": "stream",
     "text": [
      "Read LP format model from file /var/folders/6w/knrbtrj125ggkrx091kd2g840000gn/T/tmp0b7yx5ki.lp\n",
      "Reading time = 0.01 seconds\n",
      ": 950 rows, 2018 columns, 9058 nonzeros\n"
     ]
    },
    {
     "name": "stderr",
     "output_type": "stream",
     "text": [
      "Ignoring reaction 'rxn08029' since it already exists.\n",
      "Ignoring reaction 'rxn00994' since it already exists.\n"
     ]
    },
    {
     "name": "stdout",
     "output_type": "stream",
     "text": [
      "Read LP format model from file /var/folders/6w/knrbtrj125ggkrx091kd2g840000gn/T/tmpjikl0yc1.lp\n",
      "Reading time = 0.01 seconds\n",
      ": 950 rows, 2018 columns, 9058 nonzeros\n"
     ]
    },
    {
     "name": "stderr",
     "output_type": "stream",
     "text": [
      "Ignoring reaction 'rxn08029' since it already exists.\n",
      "Ignoring reaction 'rxn00994' since it already exists.\n"
     ]
    },
    {
     "name": "stdout",
     "output_type": "stream",
     "text": [
      "Read LP format model from file /var/folders/6w/knrbtrj125ggkrx091kd2g840000gn/T/tmpdl_ry8ah.lp\n",
      "Reading time = 0.01 seconds\n",
      ": 950 rows, 2018 columns, 9058 nonzeros\n"
     ]
    },
    {
     "name": "stderr",
     "output_type": "stream",
     "text": [
      "Ignoring reaction 'rxn08029' since it already exists.\n",
      "Ignoring reaction 'rxn00994' since it already exists.\n"
     ]
    },
    {
     "name": "stdout",
     "output_type": "stream",
     "text": [
      "Read LP format model from file /var/folders/6w/knrbtrj125ggkrx091kd2g840000gn/T/tmpr1mdjut4.lp\n",
      "Reading time = 0.01 seconds\n",
      ": 950 rows, 2018 columns, 9058 nonzeros\n"
     ]
    },
    {
     "name": "stderr",
     "output_type": "stream",
     "text": [
      "Ignoring reaction 'rxn08029' since it already exists.\n",
      "Ignoring reaction 'rxn00994' since it already exists.\n"
     ]
    },
    {
     "name": "stdout",
     "output_type": "stream",
     "text": [
      "Read LP format model from file /var/folders/6w/knrbtrj125ggkrx091kd2g840000gn/T/tmpk2__m99_.lp\n",
      "Reading time = 0.01 seconds\n",
      ": 950 rows, 2018 columns, 9058 nonzeros\n"
     ]
    },
    {
     "name": "stderr",
     "output_type": "stream",
     "text": [
      "Ignoring reaction 'rxn08029' since it already exists.\n",
      "Ignoring reaction 'rxn00994' since it already exists.\n"
     ]
    },
    {
     "name": "stdout",
     "output_type": "stream",
     "text": [
      "Read LP format model from file /var/folders/6w/knrbtrj125ggkrx091kd2g840000gn/T/tmpu1_ow5an.lp\n",
      "Reading time = 0.01 seconds\n",
      ": 950 rows, 2018 columns, 9058 nonzeros\n"
     ]
    },
    {
     "name": "stderr",
     "output_type": "stream",
     "text": [
      "Ignoring reaction 'rxn08029' since it already exists.\n",
      "Ignoring reaction 'rxn00994' since it already exists.\n"
     ]
    },
    {
     "name": "stdout",
     "output_type": "stream",
     "text": [
      "Read LP format model from file /var/folders/6w/knrbtrj125ggkrx091kd2g840000gn/T/tmp5vedom9e.lp\n",
      "Reading time = 0.01 seconds\n",
      ": 950 rows, 2018 columns, 9058 nonzeros\n"
     ]
    },
    {
     "name": "stderr",
     "output_type": "stream",
     "text": [
      "Ignoring reaction 'rxn08029' since it already exists.\n",
      "Ignoring reaction 'rxn00994' since it already exists.\n"
     ]
    },
    {
     "name": "stdout",
     "output_type": "stream",
     "text": [
      "Read LP format model from file /var/folders/6w/knrbtrj125ggkrx091kd2g840000gn/T/tmpj_vtevcw.lp\n",
      "Reading time = 0.00 seconds\n",
      ": 950 rows, 2018 columns, 9058 nonzeros\n"
     ]
    },
    {
     "name": "stderr",
     "output_type": "stream",
     "text": [
      "Ignoring reaction 'rxn08029' since it already exists.\n",
      "Ignoring reaction 'rxn00994' since it already exists.\n"
     ]
    },
    {
     "name": "stdout",
     "output_type": "stream",
     "text": [
      "Read LP format model from file /var/folders/6w/knrbtrj125ggkrx091kd2g840000gn/T/tmp6tx8efkr.lp\n",
      "Reading time = 0.01 seconds\n",
      ": 950 rows, 2018 columns, 9058 nonzeros\n"
     ]
    },
    {
     "name": "stderr",
     "output_type": "stream",
     "text": [
      "Ignoring reaction 'rxn08029' since it already exists.\n",
      "Ignoring reaction 'rxn00994' since it already exists.\n"
     ]
    },
    {
     "name": "stdout",
     "output_type": "stream",
     "text": [
      "Read LP format model from file /var/folders/6w/knrbtrj125ggkrx091kd2g840000gn/T/tmp5k83psqh.lp\n",
      "Reading time = 0.00 seconds\n",
      ": 950 rows, 2018 columns, 9058 nonzeros\n"
     ]
    },
    {
     "name": "stderr",
     "output_type": "stream",
     "text": [
      "Ignoring reaction 'rxn08029' since it already exists.\n",
      "Ignoring reaction 'rxn00994' since it already exists.\n"
     ]
    },
    {
     "name": "stdout",
     "output_type": "stream",
     "text": [
      "Read LP format model from file /var/folders/6w/knrbtrj125ggkrx091kd2g840000gn/T/tmptfn55en6.lp\n",
      "Reading time = 0.01 seconds\n",
      ": 950 rows, 2018 columns, 9058 nonzeros\n"
     ]
    },
    {
     "name": "stderr",
     "output_type": "stream",
     "text": [
      "Ignoring reaction 'rxn08029' since it already exists.\n",
      "Ignoring reaction 'rxn00994' since it already exists.\n"
     ]
    },
    {
     "name": "stdout",
     "output_type": "stream",
     "text": [
      "Read LP format model from file /var/folders/6w/knrbtrj125ggkrx091kd2g840000gn/T/tmpjer13w1g.lp\n",
      "Reading time = 0.00 seconds\n",
      ": 950 rows, 2018 columns, 9058 nonzeros\n"
     ]
    },
    {
     "name": "stderr",
     "output_type": "stream",
     "text": [
      "Ignoring reaction 'rxn08029' since it already exists.\n",
      "Ignoring reaction 'rxn00994' since it already exists.\n"
     ]
    },
    {
     "name": "stdout",
     "output_type": "stream",
     "text": [
      "Read LP format model from file /var/folders/6w/knrbtrj125ggkrx091kd2g840000gn/T/tmp3hxr5xge.lp\n",
      "Reading time = 0.00 seconds\n",
      ": 950 rows, 2018 columns, 9058 nonzeros\n"
     ]
    },
    {
     "name": "stderr",
     "output_type": "stream",
     "text": [
      "Ignoring reaction 'rxn08029' since it already exists.\n",
      "Ignoring reaction 'rxn00994' since it already exists.\n"
     ]
    },
    {
     "name": "stdout",
     "output_type": "stream",
     "text": [
      "Read LP format model from file /var/folders/6w/knrbtrj125ggkrx091kd2g840000gn/T/tmphstz1_te.lp\n",
      "Reading time = 0.00 seconds\n",
      ": 950 rows, 2018 columns, 9058 nonzeros\n"
     ]
    },
    {
     "name": "stderr",
     "output_type": "stream",
     "text": [
      "Ignoring reaction 'rxn08029' since it already exists.\n",
      "Ignoring reaction 'rxn00994' since it already exists.\n"
     ]
    },
    {
     "name": "stdout",
     "output_type": "stream",
     "text": [
      "Read LP format model from file /var/folders/6w/knrbtrj125ggkrx091kd2g840000gn/T/tmp365o6r8u.lp\n",
      "Reading time = 0.01 seconds\n",
      ": 950 rows, 2018 columns, 9058 nonzeros\n"
     ]
    },
    {
     "name": "stderr",
     "output_type": "stream",
     "text": [
      "Ignoring reaction 'rxn08029' since it already exists.\n",
      "Ignoring reaction 'rxn00994' since it already exists.\n"
     ]
    },
    {
     "name": "stdout",
     "output_type": "stream",
     "text": [
      "Read LP format model from file /var/folders/6w/knrbtrj125ggkrx091kd2g840000gn/T/tmp98qwnzse.lp\n",
      "Reading time = 0.01 seconds\n",
      ": 950 rows, 2018 columns, 9058 nonzeros\n"
     ]
    },
    {
     "name": "stderr",
     "output_type": "stream",
     "text": [
      "Ignoring reaction 'rxn08029' since it already exists.\n",
      "Ignoring reaction 'rxn00994' since it already exists.\n"
     ]
    },
    {
     "name": "stdout",
     "output_type": "stream",
     "text": [
      "Read LP format model from file /var/folders/6w/knrbtrj125ggkrx091kd2g840000gn/T/tmphong8h17.lp\n",
      "Reading time = 0.00 seconds\n",
      ": 950 rows, 2018 columns, 9058 nonzeros\n"
     ]
    },
    {
     "name": "stderr",
     "output_type": "stream",
     "text": [
      "Ignoring reaction 'rxn08029' since it already exists.\n",
      "Ignoring reaction 'rxn00994' since it already exists.\n"
     ]
    },
    {
     "name": "stdout",
     "output_type": "stream",
     "text": [
      "Read LP format model from file /var/folders/6w/knrbtrj125ggkrx091kd2g840000gn/T/tmp7tckpe2c.lp\n",
      "Reading time = 0.01 seconds\n",
      ": 950 rows, 2018 columns, 9058 nonzeros\n"
     ]
    },
    {
     "name": "stderr",
     "output_type": "stream",
     "text": [
      "Ignoring reaction 'rxn00994' since it already exists.\n"
     ]
    },
    {
     "name": "stdout",
     "output_type": "stream",
     "text": [
      "Read LP format model from file /var/folders/6w/knrbtrj125ggkrx091kd2g840000gn/T/tmpjkyvt8ki.lp\n",
      "Reading time = 0.01 seconds\n",
      ": 950 rows, 2018 columns, 9058 nonzeros\n"
     ]
    },
    {
     "name": "stderr",
     "output_type": "stream",
     "text": [
      "Ignoring reaction 'rxn08029' since it already exists.\n",
      "Ignoring reaction 'rxn00994' since it already exists.\n"
     ]
    },
    {
     "name": "stdout",
     "output_type": "stream",
     "text": [
      "Read LP format model from file /var/folders/6w/knrbtrj125ggkrx091kd2g840000gn/T/tmpkol4leyv.lp\n",
      "Reading time = 0.00 seconds\n",
      ": 950 rows, 2018 columns, 9058 nonzeros\n"
     ]
    },
    {
     "name": "stderr",
     "output_type": "stream",
     "text": [
      "Ignoring reaction 'rxn08029' since it already exists.\n",
      "Ignoring reaction 'rxn00994' since it already exists.\n"
     ]
    },
    {
     "name": "stdout",
     "output_type": "stream",
     "text": [
      "Read LP format model from file /var/folders/6w/knrbtrj125ggkrx091kd2g840000gn/T/tmpksq638gx.lp\n",
      "Reading time = 0.01 seconds\n",
      ": 950 rows, 2018 columns, 9058 nonzeros\n"
     ]
    },
    {
     "name": "stderr",
     "output_type": "stream",
     "text": [
      "Ignoring reaction 'rxn08029' since it already exists.\n",
      "Ignoring reaction 'rxn00994' since it already exists.\n"
     ]
    },
    {
     "name": "stdout",
     "output_type": "stream",
     "text": [
      "Read LP format model from file /var/folders/6w/knrbtrj125ggkrx091kd2g840000gn/T/tmpuj611k2w.lp\n",
      "Reading time = 0.01 seconds\n",
      ": 950 rows, 2018 columns, 9058 nonzeros\n"
     ]
    },
    {
     "name": "stderr",
     "output_type": "stream",
     "text": [
      "Ignoring reaction 'rxn08029' since it already exists.\n",
      "Ignoring reaction 'rxn00994' since it already exists.\n"
     ]
    },
    {
     "name": "stdout",
     "output_type": "stream",
     "text": [
      "Read LP format model from file /var/folders/6w/knrbtrj125ggkrx091kd2g840000gn/T/tmphgju93z6.lp\n",
      "Reading time = 0.01 seconds\n",
      ": 950 rows, 2018 columns, 9058 nonzeros\n"
     ]
    },
    {
     "name": "stderr",
     "output_type": "stream",
     "text": [
      "Ignoring reaction 'rxn08029' since it already exists.\n",
      "Ignoring reaction 'rxn00994' since it already exists.\n"
     ]
    },
    {
     "name": "stdout",
     "output_type": "stream",
     "text": [
      "Read LP format model from file /var/folders/6w/knrbtrj125ggkrx091kd2g840000gn/T/tmpw5wf0s7k.lp\n",
      "Reading time = 0.01 seconds\n",
      ": 950 rows, 2018 columns, 9058 nonzeros\n"
     ]
    },
    {
     "name": "stderr",
     "output_type": "stream",
     "text": [
      "Ignoring reaction 'rxn08029' since it already exists.\n",
      "Ignoring reaction 'rxn00994' since it already exists.\n"
     ]
    },
    {
     "name": "stdout",
     "output_type": "stream",
     "text": [
      "Read LP format model from file /var/folders/6w/knrbtrj125ggkrx091kd2g840000gn/T/tmp7z6rlk96.lp\n",
      "Reading time = 0.00 seconds\n",
      ": 950 rows, 2018 columns, 9058 nonzeros\n"
     ]
    },
    {
     "name": "stderr",
     "output_type": "stream",
     "text": [
      "Ignoring reaction 'rxn08029' since it already exists.\n",
      "Ignoring reaction 'rxn00994' since it already exists.\n"
     ]
    },
    {
     "name": "stdout",
     "output_type": "stream",
     "text": [
      "Read LP format model from file /var/folders/6w/knrbtrj125ggkrx091kd2g840000gn/T/tmpzo6j_yn2.lp\n",
      "Reading time = 0.00 seconds\n",
      ": 950 rows, 2018 columns, 9058 nonzeros\n"
     ]
    },
    {
     "name": "stderr",
     "output_type": "stream",
     "text": [
      "Ignoring reaction 'rxn08029' since it already exists.\n",
      "Ignoring reaction 'rxn00994' since it already exists.\n"
     ]
    },
    {
     "name": "stdout",
     "output_type": "stream",
     "text": [
      "Read LP format model from file /var/folders/6w/knrbtrj125ggkrx091kd2g840000gn/T/tmpsjoc375e.lp\n",
      "Reading time = 0.01 seconds\n",
      ": 950 rows, 2018 columns, 9058 nonzeros\n"
     ]
    },
    {
     "name": "stderr",
     "output_type": "stream",
     "text": [
      "Ignoring reaction 'rxn08029' since it already exists.\n",
      "Ignoring reaction 'rxn00994' since it already exists.\n"
     ]
    },
    {
     "name": "stdout",
     "output_type": "stream",
     "text": [
      "Read LP format model from file /var/folders/6w/knrbtrj125ggkrx091kd2g840000gn/T/tmpj3ry_79j.lp\n",
      "Reading time = 0.01 seconds\n",
      ": 950 rows, 2018 columns, 9058 nonzeros\n"
     ]
    },
    {
     "name": "stderr",
     "output_type": "stream",
     "text": [
      "Ignoring reaction 'rxn08029' since it already exists.\n",
      "Ignoring reaction 'rxn00994' since it already exists.\n"
     ]
    },
    {
     "name": "stdout",
     "output_type": "stream",
     "text": [
      "Read LP format model from file /var/folders/6w/knrbtrj125ggkrx091kd2g840000gn/T/tmpf_9q8i2r.lp\n",
      "Reading time = 0.01 seconds\n",
      ": 950 rows, 2018 columns, 9058 nonzeros\n"
     ]
    },
    {
     "name": "stderr",
     "output_type": "stream",
     "text": [
      "Ignoring reaction 'rxn08029' since it already exists.\n",
      "Ignoring reaction 'rxn00994' since it already exists.\n"
     ]
    },
    {
     "name": "stdout",
     "output_type": "stream",
     "text": [
      "Read LP format model from file /var/folders/6w/knrbtrj125ggkrx091kd2g840000gn/T/tmpa1qiq_t_.lp\n",
      "Reading time = 0.00 seconds\n",
      ": 950 rows, 2018 columns, 9058 nonzeros\n"
     ]
    },
    {
     "name": "stderr",
     "output_type": "stream",
     "text": [
      "Ignoring reaction 'rxn08029' since it already exists.\n",
      "Ignoring reaction 'rxn00994' since it already exists.\n"
     ]
    },
    {
     "name": "stdout",
     "output_type": "stream",
     "text": [
      "Read LP format model from file /var/folders/6w/knrbtrj125ggkrx091kd2g840000gn/T/tmpirp7_x8u.lp\n",
      "Reading time = 0.01 seconds\n",
      ": 950 rows, 2018 columns, 9058 nonzeros\n"
     ]
    },
    {
     "name": "stderr",
     "output_type": "stream",
     "text": [
      "Ignoring reaction 'rxn08029' since it already exists.\n",
      "Ignoring reaction 'rxn00994' since it already exists.\n"
     ]
    },
    {
     "name": "stdout",
     "output_type": "stream",
     "text": [
      "Read LP format model from file /var/folders/6w/knrbtrj125ggkrx091kd2g840000gn/T/tmpzui7udbo.lp\n",
      "Reading time = 0.00 seconds\n",
      ": 950 rows, 2018 columns, 9058 nonzeros\n"
     ]
    },
    {
     "name": "stderr",
     "output_type": "stream",
     "text": [
      "Ignoring reaction 'rxn08029' since it already exists.\n",
      "Ignoring reaction 'rxn00994' since it already exists.\n"
     ]
    },
    {
     "name": "stdout",
     "output_type": "stream",
     "text": [
      "Read LP format model from file /var/folders/6w/knrbtrj125ggkrx091kd2g840000gn/T/tmp3amzwqgx.lp\n",
      "Reading time = 0.00 seconds\n",
      ": 950 rows, 2018 columns, 9058 nonzeros\n"
     ]
    },
    {
     "name": "stderr",
     "output_type": "stream",
     "text": [
      "Ignoring reaction 'rxn08029' since it already exists.\n"
     ]
    },
    {
     "name": "stdout",
     "output_type": "stream",
     "text": [
      "Read LP format model from file /var/folders/6w/knrbtrj125ggkrx091kd2g840000gn/T/tmp1jfd3h7l.lp\n",
      "Reading time = 0.00 seconds\n",
      ": 950 rows, 2018 columns, 9058 nonzeros\n"
     ]
    },
    {
     "name": "stderr",
     "output_type": "stream",
     "text": [
      "Ignoring reaction 'rxn08029' since it already exists.\n",
      "Ignoring reaction 'rxn00994' since it already exists.\n"
     ]
    },
    {
     "name": "stdout",
     "output_type": "stream",
     "text": [
      "Read LP format model from file /var/folders/6w/knrbtrj125ggkrx091kd2g840000gn/T/tmpei4zm2y7.lp\n",
      "Reading time = 0.02 seconds\n",
      ": 950 rows, 2018 columns, 9058 nonzeros\n"
     ]
    },
    {
     "name": "stderr",
     "output_type": "stream",
     "text": [
      "Ignoring reaction 'rxn08029' since it already exists.\n",
      "Ignoring reaction 'rxn00994' since it already exists.\n"
     ]
    },
    {
     "name": "stdout",
     "output_type": "stream",
     "text": [
      "Read LP format model from file /var/folders/6w/knrbtrj125ggkrx091kd2g840000gn/T/tmpmdqg2xfh.lp\n",
      "Reading time = 0.00 seconds\n",
      ": 950 rows, 2018 columns, 9058 nonzeros\n"
     ]
    },
    {
     "name": "stderr",
     "output_type": "stream",
     "text": [
      "Ignoring reaction 'rxn08029' since it already exists.\n",
      "Ignoring reaction 'rxn00994' since it already exists.\n"
     ]
    },
    {
     "name": "stdout",
     "output_type": "stream",
     "text": [
      "Read LP format model from file /var/folders/6w/knrbtrj125ggkrx091kd2g840000gn/T/tmpcksbn6zj.lp\n",
      "Reading time = 0.01 seconds\n",
      ": 950 rows, 2018 columns, 9058 nonzeros\n"
     ]
    },
    {
     "name": "stderr",
     "output_type": "stream",
     "text": [
      "Ignoring reaction 'rxn08029' since it already exists.\n",
      "Ignoring reaction 'rxn00994' since it already exists.\n"
     ]
    },
    {
     "name": "stdout",
     "output_type": "stream",
     "text": [
      "Read LP format model from file /var/folders/6w/knrbtrj125ggkrx091kd2g840000gn/T/tmpe8pgfot0.lp\n",
      "Reading time = 0.01 seconds\n",
      ": 950 rows, 2018 columns, 9058 nonzeros\n"
     ]
    },
    {
     "name": "stderr",
     "output_type": "stream",
     "text": [
      "Ignoring reaction 'rxn08029' since it already exists.\n",
      "Ignoring reaction 'rxn00994' since it already exists.\n"
     ]
    },
    {
     "name": "stdout",
     "output_type": "stream",
     "text": [
      "Read LP format model from file /var/folders/6w/knrbtrj125ggkrx091kd2g840000gn/T/tmp33bnj9e1.lp\n",
      "Reading time = 0.01 seconds\n",
      ": 950 rows, 2018 columns, 9058 nonzeros\n"
     ]
    },
    {
     "name": "stderr",
     "output_type": "stream",
     "text": [
      "Ignoring reaction 'rxn08029' since it already exists.\n",
      "Ignoring reaction 'rxn00994' since it already exists.\n"
     ]
    },
    {
     "name": "stdout",
     "output_type": "stream",
     "text": [
      "Read LP format model from file /var/folders/6w/knrbtrj125ggkrx091kd2g840000gn/T/tmpf9n34zfr.lp\n",
      "Reading time = 0.01 seconds\n",
      ": 950 rows, 2018 columns, 9058 nonzeros\n"
     ]
    },
    {
     "name": "stderr",
     "output_type": "stream",
     "text": [
      "Ignoring reaction 'rxn08029' since it already exists.\n",
      "Ignoring reaction 'rxn00994' since it already exists.\n"
     ]
    },
    {
     "name": "stdout",
     "output_type": "stream",
     "text": [
      "Read LP format model from file /var/folders/6w/knrbtrj125ggkrx091kd2g840000gn/T/tmpa25phwoy.lp\n",
      "Reading time = 0.02 seconds\n",
      ": 950 rows, 2018 columns, 9058 nonzeros\n"
     ]
    },
    {
     "name": "stderr",
     "output_type": "stream",
     "text": [
      "Ignoring reaction 'rxn08029' since it already exists.\n",
      "Ignoring reaction 'rxn00994' since it already exists.\n"
     ]
    },
    {
     "name": "stdout",
     "output_type": "stream",
     "text": [
      "Read LP format model from file /var/folders/6w/knrbtrj125ggkrx091kd2g840000gn/T/tmpplrl7t9r.lp\n",
      "Reading time = 0.01 seconds\n",
      ": 950 rows, 2018 columns, 9058 nonzeros\n"
     ]
    },
    {
     "name": "stderr",
     "output_type": "stream",
     "text": [
      "Ignoring reaction 'rxn08029' since it already exists.\n",
      "Ignoring reaction 'rxn00994' since it already exists.\n"
     ]
    },
    {
     "name": "stdout",
     "output_type": "stream",
     "text": [
      "Read LP format model from file /var/folders/6w/knrbtrj125ggkrx091kd2g840000gn/T/tmpus0o2dc5.lp\n",
      "Reading time = 0.01 seconds\n",
      ": 950 rows, 2018 columns, 9058 nonzeros\n"
     ]
    },
    {
     "name": "stderr",
     "output_type": "stream",
     "text": [
      "Ignoring reaction 'rxn08029' since it already exists.\n",
      "Ignoring reaction 'rxn00994' since it already exists.\n"
     ]
    },
    {
     "name": "stdout",
     "output_type": "stream",
     "text": [
      "Read LP format model from file /var/folders/6w/knrbtrj125ggkrx091kd2g840000gn/T/tmpkcxy9pdf.lp\n",
      "Reading time = 0.00 seconds\n",
      ": 950 rows, 2018 columns, 9058 nonzeros\n"
     ]
    },
    {
     "name": "stderr",
     "output_type": "stream",
     "text": [
      "Ignoring reaction 'rxn08029' since it already exists.\n",
      "Ignoring reaction 'rxn00994' since it already exists.\n"
     ]
    },
    {
     "name": "stdout",
     "output_type": "stream",
     "text": [
      "Read LP format model from file /var/folders/6w/knrbtrj125ggkrx091kd2g840000gn/T/tmpb6udxnfg.lp\n",
      "Reading time = 0.00 seconds\n",
      ": 950 rows, 2018 columns, 9058 nonzeros\n"
     ]
    },
    {
     "name": "stderr",
     "output_type": "stream",
     "text": [
      "Ignoring reaction 'rxn08029' since it already exists.\n",
      "Ignoring reaction 'rxn00994' since it already exists.\n"
     ]
    },
    {
     "name": "stdout",
     "output_type": "stream",
     "text": [
      "Read LP format model from file /var/folders/6w/knrbtrj125ggkrx091kd2g840000gn/T/tmpt81og33t.lp\n",
      "Reading time = 0.01 seconds\n",
      ": 950 rows, 2018 columns, 9058 nonzeros\n"
     ]
    },
    {
     "name": "stderr",
     "output_type": "stream",
     "text": [
      "Ignoring reaction 'rxn08029' since it already exists.\n",
      "Ignoring reaction 'rxn00994' since it already exists.\n"
     ]
    },
    {
     "name": "stdout",
     "output_type": "stream",
     "text": [
      "Read LP format model from file /var/folders/6w/knrbtrj125ggkrx091kd2g840000gn/T/tmp3ne272yp.lp\n",
      "Reading time = 0.00 seconds\n",
      ": 950 rows, 2018 columns, 9058 nonzeros\n"
     ]
    },
    {
     "name": "stderr",
     "output_type": "stream",
     "text": [
      "Ignoring reaction 'rxn08029' since it already exists.\n",
      "Ignoring reaction 'rxn00994' since it already exists.\n"
     ]
    },
    {
     "name": "stdout",
     "output_type": "stream",
     "text": [
      "Read LP format model from file /var/folders/6w/knrbtrj125ggkrx091kd2g840000gn/T/tmpq7f_yqs2.lp\n",
      "Reading time = 0.00 seconds\n",
      ": 950 rows, 2018 columns, 9058 nonzeros\n"
     ]
    },
    {
     "name": "stderr",
     "output_type": "stream",
     "text": [
      "Ignoring reaction 'rxn08029' since it already exists.\n",
      "Ignoring reaction 'rxn00994' since it already exists.\n"
     ]
    },
    {
     "name": "stdout",
     "output_type": "stream",
     "text": [
      "Read LP format model from file /var/folders/6w/knrbtrj125ggkrx091kd2g840000gn/T/tmpeyl7qu4v.lp\n",
      "Reading time = 0.00 seconds\n",
      ": 950 rows, 2018 columns, 9058 nonzeros\n"
     ]
    },
    {
     "name": "stderr",
     "output_type": "stream",
     "text": [
      "Ignoring reaction 'rxn08029' since it already exists.\n",
      "Ignoring reaction 'rxn00994' since it already exists.\n"
     ]
    },
    {
     "name": "stdout",
     "output_type": "stream",
     "text": [
      "Read LP format model from file /var/folders/6w/knrbtrj125ggkrx091kd2g840000gn/T/tmp0xop_m5_.lp\n",
      "Reading time = 0.00 seconds\n",
      ": 950 rows, 2018 columns, 9058 nonzeros\n"
     ]
    },
    {
     "name": "stderr",
     "output_type": "stream",
     "text": [
      "Ignoring reaction 'rxn08029' since it already exists.\n",
      "Ignoring reaction 'rxn00994' since it already exists.\n"
     ]
    },
    {
     "name": "stdout",
     "output_type": "stream",
     "text": [
      "Read LP format model from file /var/folders/6w/knrbtrj125ggkrx091kd2g840000gn/T/tmpyox2_5hz.lp\n",
      "Reading time = 0.01 seconds\n",
      ": 950 rows, 2018 columns, 9058 nonzeros\n"
     ]
    },
    {
     "name": "stderr",
     "output_type": "stream",
     "text": [
      "Ignoring reaction 'rxn08029' since it already exists.\n",
      "Ignoring reaction 'rxn00994' since it already exists.\n"
     ]
    },
    {
     "name": "stdout",
     "output_type": "stream",
     "text": [
      "Read LP format model from file /var/folders/6w/knrbtrj125ggkrx091kd2g840000gn/T/tmp8azy969k.lp\n",
      "Reading time = 0.01 seconds\n",
      ": 950 rows, 2018 columns, 9058 nonzeros\n"
     ]
    },
    {
     "name": "stderr",
     "output_type": "stream",
     "text": [
      "Ignoring reaction 'rxn08029' since it already exists.\n",
      "Ignoring reaction 'rxn00994' since it already exists.\n"
     ]
    },
    {
     "name": "stdout",
     "output_type": "stream",
     "text": [
      "Read LP format model from file /var/folders/6w/knrbtrj125ggkrx091kd2g840000gn/T/tmpxru04jx0.lp\n",
      "Reading time = 0.00 seconds\n",
      ": 950 rows, 2018 columns, 9058 nonzeros\n"
     ]
    },
    {
     "name": "stderr",
     "output_type": "stream",
     "text": [
      "Ignoring reaction 'rxn08029' since it already exists.\n",
      "Ignoring reaction 'rxn00994' since it already exists.\n"
     ]
    },
    {
     "name": "stdout",
     "output_type": "stream",
     "text": [
      "Read LP format model from file /var/folders/6w/knrbtrj125ggkrx091kd2g840000gn/T/tmpxai0uesf.lp\n",
      "Reading time = 0.00 seconds\n",
      ": 950 rows, 2018 columns, 9058 nonzeros\n"
     ]
    },
    {
     "name": "stderr",
     "output_type": "stream",
     "text": [
      "Ignoring reaction 'rxn08029' since it already exists.\n",
      "Ignoring reaction 'rxn00994' since it already exists.\n"
     ]
    },
    {
     "name": "stdout",
     "output_type": "stream",
     "text": [
      "Read LP format model from file /var/folders/6w/knrbtrj125ggkrx091kd2g840000gn/T/tmp1cu5hthp.lp\n",
      "Reading time = 0.01 seconds\n",
      ": 949 rows, 2012 columns, 9034 nonzeros\n",
      "Processing row 97...\n",
      "Read LP format model from file /var/folders/6w/knrbtrj125ggkrx091kd2g840000gn/T/tmplnudrxo0.lp\n",
      "Reading time = 0.00 seconds\n",
      ": 949 rows, 2012 columns, 9034 nonzeros\n",
      "Read LP format model from file /var/folders/6w/knrbtrj125ggkrx091kd2g840000gn/T/tmp965pk67k.lp\n",
      "Reading time = 0.00 seconds\n",
      ": 952 rows, 2018 columns, 9058 nonzeros\n"
     ]
    },
    {
     "name": "stderr",
     "output_type": "stream",
     "text": [
      "Ignoring reaction 'rxn12565' since it already exists.\n",
      "Ignoring reaction 'rxn13713' since it already exists.\n"
     ]
    },
    {
     "name": "stdout",
     "output_type": "stream",
     "text": [
      "Read LP format model from file /var/folders/6w/knrbtrj125ggkrx091kd2g840000gn/T/tmpne4slhee.lp\n",
      "Reading time = 0.00 seconds\n",
      ": 952 rows, 2018 columns, 9058 nonzeros\n"
     ]
    },
    {
     "name": "stderr",
     "output_type": "stream",
     "text": [
      "Ignoring reaction 'rxn12565' since it already exists.\n",
      "Ignoring reaction 'rxn13713' since it already exists.\n"
     ]
    },
    {
     "name": "stdout",
     "output_type": "stream",
     "text": [
      "Read LP format model from file /var/folders/6w/knrbtrj125ggkrx091kd2g840000gn/T/tmp24arosec.lp\n",
      "Reading time = 0.01 seconds\n",
      ": 952 rows, 2018 columns, 9058 nonzeros\n"
     ]
    },
    {
     "name": "stderr",
     "output_type": "stream",
     "text": [
      "Ignoring reaction 'rxn12565' since it already exists.\n",
      "Ignoring reaction 'rxn13713' since it already exists.\n"
     ]
    },
    {
     "name": "stdout",
     "output_type": "stream",
     "text": [
      "Read LP format model from file /var/folders/6w/knrbtrj125ggkrx091kd2g840000gn/T/tmpx361ptfm.lp\n",
      "Reading time = 0.00 seconds\n",
      ": 952 rows, 2018 columns, 9058 nonzeros\n"
     ]
    },
    {
     "name": "stderr",
     "output_type": "stream",
     "text": [
      "Ignoring reaction 'rxn12565' since it already exists.\n",
      "Ignoring reaction 'rxn13713' since it already exists.\n"
     ]
    },
    {
     "name": "stdout",
     "output_type": "stream",
     "text": [
      "Read LP format model from file /var/folders/6w/knrbtrj125ggkrx091kd2g840000gn/T/tmp_ld7ks7f.lp\n",
      "Reading time = 0.00 seconds\n",
      ": 952 rows, 2018 columns, 9058 nonzeros\n"
     ]
    },
    {
     "name": "stderr",
     "output_type": "stream",
     "text": [
      "Ignoring reaction 'rxn12565' since it already exists.\n",
      "Ignoring reaction 'rxn13713' since it already exists.\n"
     ]
    },
    {
     "name": "stdout",
     "output_type": "stream",
     "text": [
      "Read LP format model from file /var/folders/6w/knrbtrj125ggkrx091kd2g840000gn/T/tmpx07px6wb.lp\n",
      "Reading time = 0.00 seconds\n",
      ": 952 rows, 2018 columns, 9058 nonzeros\n"
     ]
    },
    {
     "name": "stderr",
     "output_type": "stream",
     "text": [
      "Ignoring reaction 'rxn12565' since it already exists.\n",
      "Ignoring reaction 'rxn13713' since it already exists.\n"
     ]
    },
    {
     "name": "stdout",
     "output_type": "stream",
     "text": [
      "Read LP format model from file /var/folders/6w/knrbtrj125ggkrx091kd2g840000gn/T/tmp4valdbpb.lp\n",
      "Reading time = 0.00 seconds\n",
      ": 952 rows, 2018 columns, 9058 nonzeros\n"
     ]
    },
    {
     "name": "stderr",
     "output_type": "stream",
     "text": [
      "Ignoring reaction 'rxn12565' since it already exists.\n",
      "Ignoring reaction 'rxn13713' since it already exists.\n"
     ]
    },
    {
     "name": "stdout",
     "output_type": "stream",
     "text": [
      "Read LP format model from file /var/folders/6w/knrbtrj125ggkrx091kd2g840000gn/T/tmpqxy6fiou.lp\n",
      "Reading time = 0.00 seconds\n",
      ": 952 rows, 2018 columns, 9058 nonzeros\n"
     ]
    },
    {
     "name": "stderr",
     "output_type": "stream",
     "text": [
      "Ignoring reaction 'rxn12565' since it already exists.\n",
      "Ignoring reaction 'rxn13713' since it already exists.\n"
     ]
    },
    {
     "name": "stdout",
     "output_type": "stream",
     "text": [
      "Read LP format model from file /var/folders/6w/knrbtrj125ggkrx091kd2g840000gn/T/tmpjz4vygh7.lp\n",
      "Reading time = 0.00 seconds\n",
      ": 952 rows, 2018 columns, 9058 nonzeros\n"
     ]
    },
    {
     "name": "stderr",
     "output_type": "stream",
     "text": [
      "Ignoring reaction 'rxn12565' since it already exists.\n",
      "Ignoring reaction 'rxn13713' since it already exists.\n"
     ]
    },
    {
     "name": "stdout",
     "output_type": "stream",
     "text": [
      "Read LP format model from file /var/folders/6w/knrbtrj125ggkrx091kd2g840000gn/T/tmph83tctkh.lp\n",
      "Reading time = 0.01 seconds\n",
      ": 952 rows, 2018 columns, 9058 nonzeros\n"
     ]
    },
    {
     "name": "stderr",
     "output_type": "stream",
     "text": [
      "Ignoring reaction 'rxn12565' since it already exists.\n",
      "Ignoring reaction 'rxn13713' since it already exists.\n"
     ]
    },
    {
     "name": "stdout",
     "output_type": "stream",
     "text": [
      "Read LP format model from file /var/folders/6w/knrbtrj125ggkrx091kd2g840000gn/T/tmpezihh69c.lp\n",
      "Reading time = 0.00 seconds\n",
      ": 952 rows, 2018 columns, 9058 nonzeros\n"
     ]
    },
    {
     "name": "stderr",
     "output_type": "stream",
     "text": [
      "Ignoring reaction 'rxn12565' since it already exists.\n",
      "Ignoring reaction 'rxn13713' since it already exists.\n"
     ]
    },
    {
     "name": "stdout",
     "output_type": "stream",
     "text": [
      "Read LP format model from file /var/folders/6w/knrbtrj125ggkrx091kd2g840000gn/T/tmpyezmw4ug.lp\n",
      "Reading time = 0.00 seconds\n",
      ": 952 rows, 2018 columns, 9058 nonzeros\n"
     ]
    },
    {
     "name": "stderr",
     "output_type": "stream",
     "text": [
      "Ignoring reaction 'rxn12565' since it already exists.\n",
      "Ignoring reaction 'rxn13713' since it already exists.\n"
     ]
    },
    {
     "name": "stdout",
     "output_type": "stream",
     "text": [
      "Read LP format model from file /var/folders/6w/knrbtrj125ggkrx091kd2g840000gn/T/tmpaimb5zqj.lp\n",
      "Reading time = 0.00 seconds\n",
      ": 952 rows, 2018 columns, 9058 nonzeros\n"
     ]
    },
    {
     "name": "stderr",
     "output_type": "stream",
     "text": [
      "Ignoring reaction 'rxn12565' since it already exists.\n",
      "Ignoring reaction 'rxn13713' since it already exists.\n"
     ]
    },
    {
     "name": "stdout",
     "output_type": "stream",
     "text": [
      "Read LP format model from file /var/folders/6w/knrbtrj125ggkrx091kd2g840000gn/T/tmpmr2g02et.lp\n",
      "Reading time = 0.00 seconds\n",
      ": 952 rows, 2018 columns, 9058 nonzeros\n"
     ]
    },
    {
     "name": "stderr",
     "output_type": "stream",
     "text": [
      "Ignoring reaction 'rxn12565' since it already exists.\n",
      "Ignoring reaction 'rxn13713' since it already exists.\n"
     ]
    },
    {
     "name": "stdout",
     "output_type": "stream",
     "text": [
      "Read LP format model from file /var/folders/6w/knrbtrj125ggkrx091kd2g840000gn/T/tmpb2trntiy.lp\n",
      "Reading time = 0.01 seconds\n",
      ": 952 rows, 2018 columns, 9058 nonzeros\n"
     ]
    },
    {
     "name": "stderr",
     "output_type": "stream",
     "text": [
      "Ignoring reaction 'rxn12565' since it already exists.\n",
      "Ignoring reaction 'rxn13713' since it already exists.\n"
     ]
    },
    {
     "name": "stdout",
     "output_type": "stream",
     "text": [
      "Read LP format model from file /var/folders/6w/knrbtrj125ggkrx091kd2g840000gn/T/tmpdhlp3fsx.lp\n",
      "Reading time = 0.03 seconds\n",
      ": 952 rows, 2018 columns, 9058 nonzeros\n"
     ]
    },
    {
     "name": "stderr",
     "output_type": "stream",
     "text": [
      "Ignoring reaction 'rxn12565' since it already exists.\n",
      "Ignoring reaction 'rxn13713' since it already exists.\n"
     ]
    },
    {
     "name": "stdout",
     "output_type": "stream",
     "text": [
      "Read LP format model from file /var/folders/6w/knrbtrj125ggkrx091kd2g840000gn/T/tmp9k1qm30i.lp\n",
      "Reading time = 0.00 seconds\n",
      ": 952 rows, 2018 columns, 9058 nonzeros\n"
     ]
    },
    {
     "name": "stderr",
     "output_type": "stream",
     "text": [
      "Ignoring reaction 'rxn12565' since it already exists.\n",
      "Ignoring reaction 'rxn13713' since it already exists.\n"
     ]
    },
    {
     "name": "stdout",
     "output_type": "stream",
     "text": [
      "Read LP format model from file /var/folders/6w/knrbtrj125ggkrx091kd2g840000gn/T/tmprdfhxsh7.lp\n",
      "Reading time = 0.00 seconds\n",
      ": 952 rows, 2018 columns, 9058 nonzeros\n"
     ]
    },
    {
     "name": "stderr",
     "output_type": "stream",
     "text": [
      "Ignoring reaction 'rxn12565' since it already exists.\n",
      "Ignoring reaction 'rxn13713' since it already exists.\n"
     ]
    },
    {
     "name": "stdout",
     "output_type": "stream",
     "text": [
      "Read LP format model from file /var/folders/6w/knrbtrj125ggkrx091kd2g840000gn/T/tmph5kgiht3.lp\n",
      "Reading time = 0.03 seconds\n",
      ": 952 rows, 2018 columns, 9058 nonzeros\n"
     ]
    },
    {
     "name": "stderr",
     "output_type": "stream",
     "text": [
      "Ignoring reaction 'rxn12565' since it already exists.\n",
      "Ignoring reaction 'rxn13713' since it already exists.\n"
     ]
    },
    {
     "name": "stdout",
     "output_type": "stream",
     "text": [
      "Read LP format model from file /var/folders/6w/knrbtrj125ggkrx091kd2g840000gn/T/tmpny0zryvd.lp\n",
      "Reading time = 0.01 seconds\n",
      ": 952 rows, 2018 columns, 9058 nonzeros\n"
     ]
    },
    {
     "name": "stderr",
     "output_type": "stream",
     "text": [
      "Ignoring reaction 'rxn12565' since it already exists.\n",
      "Ignoring reaction 'rxn13713' since it already exists.\n"
     ]
    },
    {
     "name": "stdout",
     "output_type": "stream",
     "text": [
      "Read LP format model from file /var/folders/6w/knrbtrj125ggkrx091kd2g840000gn/T/tmp461sjl2i.lp\n",
      "Reading time = 0.01 seconds\n",
      ": 952 rows, 2018 columns, 9058 nonzeros\n"
     ]
    },
    {
     "name": "stderr",
     "output_type": "stream",
     "text": [
      "Ignoring reaction 'rxn12565' since it already exists.\n",
      "Ignoring reaction 'rxn13713' since it already exists.\n"
     ]
    },
    {
     "name": "stdout",
     "output_type": "stream",
     "text": [
      "Read LP format model from file /var/folders/6w/knrbtrj125ggkrx091kd2g840000gn/T/tmpa34hsatx.lp\n",
      "Reading time = 0.00 seconds\n",
      ": 952 rows, 2018 columns, 9058 nonzeros\n"
     ]
    },
    {
     "name": "stderr",
     "output_type": "stream",
     "text": [
      "Ignoring reaction 'rxn12565' since it already exists.\n",
      "Ignoring reaction 'rxn13713' since it already exists.\n"
     ]
    },
    {
     "name": "stdout",
     "output_type": "stream",
     "text": [
      "Read LP format model from file /var/folders/6w/knrbtrj125ggkrx091kd2g840000gn/T/tmpy1tdpxj9.lp\n",
      "Reading time = 0.01 seconds\n",
      ": 952 rows, 2018 columns, 9058 nonzeros\n"
     ]
    },
    {
     "name": "stderr",
     "output_type": "stream",
     "text": [
      "Ignoring reaction 'rxn12565' since it already exists.\n",
      "Ignoring reaction 'rxn13713' since it already exists.\n"
     ]
    },
    {
     "name": "stdout",
     "output_type": "stream",
     "text": [
      "Read LP format model from file /var/folders/6w/knrbtrj125ggkrx091kd2g840000gn/T/tmp00987t1c.lp\n",
      "Reading time = 0.00 seconds\n",
      ": 952 rows, 2018 columns, 9058 nonzeros\n"
     ]
    },
    {
     "name": "stderr",
     "output_type": "stream",
     "text": [
      "Ignoring reaction 'rxn12565' since it already exists.\n",
      "Ignoring reaction 'rxn13713' since it already exists.\n"
     ]
    },
    {
     "name": "stdout",
     "output_type": "stream",
     "text": [
      "Read LP format model from file /var/folders/6w/knrbtrj125ggkrx091kd2g840000gn/T/tmp2fl73i84.lp\n",
      "Reading time = 0.00 seconds\n",
      ": 952 rows, 2018 columns, 9058 nonzeros\n"
     ]
    },
    {
     "name": "stderr",
     "output_type": "stream",
     "text": [
      "Ignoring reaction 'rxn12565' since it already exists.\n",
      "Ignoring reaction 'rxn13713' since it already exists.\n"
     ]
    },
    {
     "name": "stdout",
     "output_type": "stream",
     "text": [
      "Read LP format model from file /var/folders/6w/knrbtrj125ggkrx091kd2g840000gn/T/tmpxrcdmcpg.lp\n",
      "Reading time = 0.00 seconds\n",
      ": 952 rows, 2018 columns, 9058 nonzeros\n"
     ]
    },
    {
     "name": "stderr",
     "output_type": "stream",
     "text": [
      "Ignoring reaction 'rxn12565' since it already exists.\n",
      "Ignoring reaction 'rxn13713' since it already exists.\n"
     ]
    },
    {
     "name": "stdout",
     "output_type": "stream",
     "text": [
      "Read LP format model from file /var/folders/6w/knrbtrj125ggkrx091kd2g840000gn/T/tmpv_6v23ou.lp\n",
      "Reading time = 0.00 seconds\n",
      ": 952 rows, 2018 columns, 9058 nonzeros\n"
     ]
    },
    {
     "name": "stderr",
     "output_type": "stream",
     "text": [
      "Ignoring reaction 'rxn13713' since it already exists.\n"
     ]
    },
    {
     "name": "stdout",
     "output_type": "stream",
     "text": [
      "Read LP format model from file /var/folders/6w/knrbtrj125ggkrx091kd2g840000gn/T/tmpz69hlmgi.lp\n",
      "Reading time = 0.00 seconds\n",
      ": 952 rows, 2018 columns, 9058 nonzeros\n"
     ]
    },
    {
     "name": "stderr",
     "output_type": "stream",
     "text": [
      "Ignoring reaction 'rxn12565' since it already exists.\n",
      "Ignoring reaction 'rxn13713' since it already exists.\n"
     ]
    },
    {
     "name": "stdout",
     "output_type": "stream",
     "text": [
      "Read LP format model from file /var/folders/6w/knrbtrj125ggkrx091kd2g840000gn/T/tmph_1nxk9e.lp\n",
      "Reading time = 0.00 seconds\n",
      ": 952 rows, 2018 columns, 9058 nonzeros\n"
     ]
    },
    {
     "name": "stderr",
     "output_type": "stream",
     "text": [
      "Ignoring reaction 'rxn12565' since it already exists.\n",
      "Ignoring reaction 'rxn13713' since it already exists.\n"
     ]
    },
    {
     "name": "stdout",
     "output_type": "stream",
     "text": [
      "Read LP format model from file /var/folders/6w/knrbtrj125ggkrx091kd2g840000gn/T/tmpfyyrck8w.lp\n",
      "Reading time = 0.00 seconds\n",
      ": 952 rows, 2018 columns, 9058 nonzeros\n"
     ]
    },
    {
     "name": "stderr",
     "output_type": "stream",
     "text": [
      "Ignoring reaction 'rxn12565' since it already exists.\n",
      "Ignoring reaction 'rxn13713' since it already exists.\n"
     ]
    },
    {
     "name": "stdout",
     "output_type": "stream",
     "text": [
      "Read LP format model from file /var/folders/6w/knrbtrj125ggkrx091kd2g840000gn/T/tmpkn98eqy9.lp\n",
      "Reading time = 0.01 seconds\n",
      ": 952 rows, 2018 columns, 9058 nonzeros\n"
     ]
    },
    {
     "name": "stderr",
     "output_type": "stream",
     "text": [
      "Ignoring reaction 'rxn12565' since it already exists.\n",
      "Ignoring reaction 'rxn13713' since it already exists.\n"
     ]
    },
    {
     "name": "stdout",
     "output_type": "stream",
     "text": [
      "Read LP format model from file /var/folders/6w/knrbtrj125ggkrx091kd2g840000gn/T/tmpzyicwvpn.lp\n",
      "Reading time = 0.00 seconds\n",
      ": 952 rows, 2018 columns, 9058 nonzeros\n"
     ]
    },
    {
     "name": "stderr",
     "output_type": "stream",
     "text": [
      "Ignoring reaction 'rxn12565' since it already exists.\n",
      "Ignoring reaction 'rxn13713' since it already exists.\n"
     ]
    },
    {
     "name": "stdout",
     "output_type": "stream",
     "text": [
      "Read LP format model from file /var/folders/6w/knrbtrj125ggkrx091kd2g840000gn/T/tmppbe571ru.lp\n",
      "Reading time = 0.01 seconds\n",
      ": 952 rows, 2018 columns, 9058 nonzeros\n"
     ]
    },
    {
     "name": "stderr",
     "output_type": "stream",
     "text": [
      "Ignoring reaction 'rxn12565' since it already exists.\n",
      "Ignoring reaction 'rxn13713' since it already exists.\n"
     ]
    },
    {
     "name": "stdout",
     "output_type": "stream",
     "text": [
      "Read LP format model from file /var/folders/6w/knrbtrj125ggkrx091kd2g840000gn/T/tmppvzfccce.lp\n",
      "Reading time = 0.00 seconds\n",
      ": 952 rows, 2018 columns, 9058 nonzeros\n"
     ]
    },
    {
     "name": "stderr",
     "output_type": "stream",
     "text": [
      "Ignoring reaction 'rxn12565' since it already exists.\n",
      "Ignoring reaction 'rxn13713' since it already exists.\n"
     ]
    },
    {
     "name": "stdout",
     "output_type": "stream",
     "text": [
      "Read LP format model from file /var/folders/6w/knrbtrj125ggkrx091kd2g840000gn/T/tmpq538ezyv.lp\n",
      "Reading time = 0.00 seconds\n",
      ": 952 rows, 2018 columns, 9058 nonzeros\n"
     ]
    },
    {
     "name": "stderr",
     "output_type": "stream",
     "text": [
      "Ignoring reaction 'rxn12565' since it already exists.\n",
      "Ignoring reaction 'rxn13713' since it already exists.\n"
     ]
    },
    {
     "name": "stdout",
     "output_type": "stream",
     "text": [
      "Read LP format model from file /var/folders/6w/knrbtrj125ggkrx091kd2g840000gn/T/tmpma8g1szs.lp\n",
      "Reading time = 0.00 seconds\n",
      ": 952 rows, 2018 columns, 9058 nonzeros\n"
     ]
    },
    {
     "name": "stderr",
     "output_type": "stream",
     "text": [
      "Ignoring reaction 'rxn12565' since it already exists.\n",
      "Ignoring reaction 'rxn13713' since it already exists.\n"
     ]
    },
    {
     "name": "stdout",
     "output_type": "stream",
     "text": [
      "Read LP format model from file /var/folders/6w/knrbtrj125ggkrx091kd2g840000gn/T/tmpu1lggo4t.lp\n",
      "Reading time = 0.00 seconds\n",
      ": 952 rows, 2018 columns, 9058 nonzeros\n"
     ]
    },
    {
     "name": "stderr",
     "output_type": "stream",
     "text": [
      "Ignoring reaction 'rxn12565' since it already exists.\n",
      "Ignoring reaction 'rxn13713' since it already exists.\n"
     ]
    },
    {
     "name": "stdout",
     "output_type": "stream",
     "text": [
      "Read LP format model from file /var/folders/6w/knrbtrj125ggkrx091kd2g840000gn/T/tmpe4mwqvvo.lp\n",
      "Reading time = 0.00 seconds\n",
      ": 952 rows, 2018 columns, 9058 nonzeros\n"
     ]
    },
    {
     "name": "stderr",
     "output_type": "stream",
     "text": [
      "Ignoring reaction 'rxn12565' since it already exists.\n",
      "Ignoring reaction 'rxn13713' since it already exists.\n"
     ]
    },
    {
     "name": "stdout",
     "output_type": "stream",
     "text": [
      "Read LP format model from file /var/folders/6w/knrbtrj125ggkrx091kd2g840000gn/T/tmprsvs8gyb.lp\n",
      "Reading time = 0.00 seconds\n",
      ": 952 rows, 2018 columns, 9058 nonzeros\n"
     ]
    },
    {
     "name": "stderr",
     "output_type": "stream",
     "text": [
      "Ignoring reaction 'rxn12565' since it already exists.\n",
      "Ignoring reaction 'rxn13713' since it already exists.\n"
     ]
    },
    {
     "name": "stdout",
     "output_type": "stream",
     "text": [
      "Read LP format model from file /var/folders/6w/knrbtrj125ggkrx091kd2g840000gn/T/tmp0ipb_brs.lp\n",
      "Reading time = 0.00 seconds\n",
      ": 952 rows, 2018 columns, 9058 nonzeros\n"
     ]
    },
    {
     "name": "stderr",
     "output_type": "stream",
     "text": [
      "Ignoring reaction 'rxn12565' since it already exists.\n"
     ]
    },
    {
     "name": "stdout",
     "output_type": "stream",
     "text": [
      "Read LP format model from file /var/folders/6w/knrbtrj125ggkrx091kd2g840000gn/T/tmpizui46bg.lp\n",
      "Reading time = 0.00 seconds\n",
      ": 952 rows, 2018 columns, 9058 nonzeros\n"
     ]
    },
    {
     "name": "stderr",
     "output_type": "stream",
     "text": [
      "Ignoring reaction 'rxn12565' since it already exists.\n",
      "Ignoring reaction 'rxn13713' since it already exists.\n"
     ]
    },
    {
     "name": "stdout",
     "output_type": "stream",
     "text": [
      "Read LP format model from file /var/folders/6w/knrbtrj125ggkrx091kd2g840000gn/T/tmpyd_8s99d.lp\n",
      "Reading time = 0.00 seconds\n",
      ": 952 rows, 2018 columns, 9058 nonzeros\n"
     ]
    },
    {
     "name": "stderr",
     "output_type": "stream",
     "text": [
      "Ignoring reaction 'rxn12565' since it already exists.\n",
      "Ignoring reaction 'rxn13713' since it already exists.\n"
     ]
    },
    {
     "name": "stdout",
     "output_type": "stream",
     "text": [
      "Read LP format model from file /var/folders/6w/knrbtrj125ggkrx091kd2g840000gn/T/tmpmeieykcj.lp\n",
      "Reading time = 0.00 seconds\n",
      ": 952 rows, 2018 columns, 9058 nonzeros\n"
     ]
    },
    {
     "name": "stderr",
     "output_type": "stream",
     "text": [
      "Ignoring reaction 'rxn12565' since it already exists.\n",
      "Ignoring reaction 'rxn13713' since it already exists.\n"
     ]
    },
    {
     "name": "stdout",
     "output_type": "stream",
     "text": [
      "Read LP format model from file /var/folders/6w/knrbtrj125ggkrx091kd2g840000gn/T/tmphsyzpy3a.lp\n",
      "Reading time = 0.00 seconds\n",
      ": 952 rows, 2018 columns, 9058 nonzeros\n"
     ]
    },
    {
     "name": "stderr",
     "output_type": "stream",
     "text": [
      "Ignoring reaction 'rxn12565' since it already exists.\n",
      "Ignoring reaction 'rxn13713' since it already exists.\n"
     ]
    },
    {
     "name": "stdout",
     "output_type": "stream",
     "text": [
      "Read LP format model from file /var/folders/6w/knrbtrj125ggkrx091kd2g840000gn/T/tmpihk3s9wk.lp\n",
      "Reading time = 0.00 seconds\n",
      ": 952 rows, 2018 columns, 9058 nonzeros\n"
     ]
    },
    {
     "name": "stderr",
     "output_type": "stream",
     "text": [
      "Ignoring reaction 'rxn12565' since it already exists.\n",
      "Ignoring reaction 'rxn13713' since it already exists.\n"
     ]
    },
    {
     "name": "stdout",
     "output_type": "stream",
     "text": [
      "Read LP format model from file /var/folders/6w/knrbtrj125ggkrx091kd2g840000gn/T/tmpl9532c0r.lp\n",
      "Reading time = 0.00 seconds\n",
      ": 952 rows, 2018 columns, 9058 nonzeros\n"
     ]
    },
    {
     "name": "stderr",
     "output_type": "stream",
     "text": [
      "Ignoring reaction 'rxn12565' since it already exists.\n",
      "Ignoring reaction 'rxn13713' since it already exists.\n"
     ]
    },
    {
     "name": "stdout",
     "output_type": "stream",
     "text": [
      "Read LP format model from file /var/folders/6w/knrbtrj125ggkrx091kd2g840000gn/T/tmpnk3asrml.lp\n",
      "Reading time = 0.00 seconds\n",
      ": 952 rows, 2018 columns, 9058 nonzeros\n"
     ]
    },
    {
     "name": "stderr",
     "output_type": "stream",
     "text": [
      "Ignoring reaction 'rxn12565' since it already exists.\n",
      "Ignoring reaction 'rxn13713' since it already exists.\n"
     ]
    },
    {
     "name": "stdout",
     "output_type": "stream",
     "text": [
      "Read LP format model from file /var/folders/6w/knrbtrj125ggkrx091kd2g840000gn/T/tmpsc0r0h2e.lp\n",
      "Reading time = 0.04 seconds\n",
      ": 952 rows, 2018 columns, 9058 nonzeros\n"
     ]
    },
    {
     "name": "stderr",
     "output_type": "stream",
     "text": [
      "Ignoring reaction 'rxn12565' since it already exists.\n",
      "Ignoring reaction 'rxn13713' since it already exists.\n"
     ]
    },
    {
     "name": "stdout",
     "output_type": "stream",
     "text": [
      "Read LP format model from file /var/folders/6w/knrbtrj125ggkrx091kd2g840000gn/T/tmpowqdq7oj.lp\n",
      "Reading time = 0.01 seconds\n",
      ": 952 rows, 2018 columns, 9058 nonzeros\n"
     ]
    },
    {
     "name": "stderr",
     "output_type": "stream",
     "text": [
      "Ignoring reaction 'rxn12565' since it already exists.\n",
      "Ignoring reaction 'rxn13713' since it already exists.\n"
     ]
    },
    {
     "name": "stdout",
     "output_type": "stream",
     "text": [
      "Read LP format model from file /var/folders/6w/knrbtrj125ggkrx091kd2g840000gn/T/tmpiznw8c87.lp\n",
      "Reading time = 0.00 seconds\n",
      ": 952 rows, 2018 columns, 9058 nonzeros\n"
     ]
    },
    {
     "name": "stderr",
     "output_type": "stream",
     "text": [
      "Ignoring reaction 'rxn12565' since it already exists.\n",
      "Ignoring reaction 'rxn13713' since it already exists.\n"
     ]
    },
    {
     "name": "stdout",
     "output_type": "stream",
     "text": [
      "Read LP format model from file /var/folders/6w/knrbtrj125ggkrx091kd2g840000gn/T/tmpv5r_8f9a.lp\n",
      "Reading time = 0.02 seconds\n",
      ": 949 rows, 2012 columns, 9034 nonzeros\n",
      "Processing row 106...\n",
      "Read LP format model from file /var/folders/6w/knrbtrj125ggkrx091kd2g840000gn/T/tmppjqk51pn.lp\n",
      "Reading time = 0.01 seconds\n",
      ": 949 rows, 2012 columns, 9034 nonzeros\n",
      "Read LP format model from file /var/folders/6w/knrbtrj125ggkrx091kd2g840000gn/T/tmp3kxqt3mt.lp\n",
      "Reading time = 0.01 seconds\n",
      ": 951 rows, 2018 columns, 9072 nonzeros\n"
     ]
    },
    {
     "name": "stderr",
     "output_type": "stream",
     "text": [
      "Ignoring reaction 'rxn46479' since it already exists.\n",
      "Ignoring reaction 'rxn18910' since it already exists.\n",
      "Ignoring reaction 'rxn13713' since it already exists.\n"
     ]
    },
    {
     "name": "stdout",
     "output_type": "stream",
     "text": [
      "Read LP format model from file /var/folders/6w/knrbtrj125ggkrx091kd2g840000gn/T/tmpvhjxcrjf.lp\n",
      "Reading time = 0.01 seconds\n",
      ": 951 rows, 2018 columns, 9072 nonzeros\n"
     ]
    },
    {
     "name": "stderr",
     "output_type": "stream",
     "text": [
      "Ignoring reaction 'rxn46479' since it already exists.\n",
      "Ignoring reaction 'rxn18910' since it already exists.\n",
      "Ignoring reaction 'rxn13713' since it already exists.\n"
     ]
    },
    {
     "name": "stdout",
     "output_type": "stream",
     "text": [
      "Read LP format model from file /var/folders/6w/knrbtrj125ggkrx091kd2g840000gn/T/tmp_0uw5_jv.lp\n",
      "Reading time = 0.00 seconds\n",
      ": 951 rows, 2018 columns, 9072 nonzeros\n"
     ]
    },
    {
     "name": "stderr",
     "output_type": "stream",
     "text": [
      "Ignoring reaction 'rxn46479' since it already exists.\n",
      "Ignoring reaction 'rxn18910' since it already exists.\n",
      "Ignoring reaction 'rxn13713' since it already exists.\n"
     ]
    },
    {
     "name": "stdout",
     "output_type": "stream",
     "text": [
      "Read LP format model from file /var/folders/6w/knrbtrj125ggkrx091kd2g840000gn/T/tmpg7m2361s.lp\n",
      "Reading time = 0.01 seconds\n",
      ": 951 rows, 2018 columns, 9072 nonzeros\n"
     ]
    },
    {
     "name": "stderr",
     "output_type": "stream",
     "text": [
      "Ignoring reaction 'rxn46479' since it already exists.\n",
      "Ignoring reaction 'rxn18910' since it already exists.\n",
      "Ignoring reaction 'rxn13713' since it already exists.\n"
     ]
    },
    {
     "name": "stdout",
     "output_type": "stream",
     "text": [
      "Read LP format model from file /var/folders/6w/knrbtrj125ggkrx091kd2g840000gn/T/tmp6hcu77_5.lp\n",
      "Reading time = 0.01 seconds\n",
      ": 951 rows, 2018 columns, 9072 nonzeros\n"
     ]
    },
    {
     "name": "stderr",
     "output_type": "stream",
     "text": [
      "Ignoring reaction 'rxn46479' since it already exists.\n",
      "Ignoring reaction 'rxn18910' since it already exists.\n",
      "Ignoring reaction 'rxn13713' since it already exists.\n"
     ]
    },
    {
     "name": "stdout",
     "output_type": "stream",
     "text": [
      "Read LP format model from file /var/folders/6w/knrbtrj125ggkrx091kd2g840000gn/T/tmprh31hmv8.lp\n",
      "Reading time = 0.01 seconds\n",
      ": 951 rows, 2018 columns, 9072 nonzeros\n"
     ]
    },
    {
     "name": "stderr",
     "output_type": "stream",
     "text": [
      "Ignoring reaction 'rxn46479' since it already exists.\n",
      "Ignoring reaction 'rxn18910' since it already exists.\n",
      "Ignoring reaction 'rxn13713' since it already exists.\n"
     ]
    },
    {
     "name": "stdout",
     "output_type": "stream",
     "text": [
      "Read LP format model from file /var/folders/6w/knrbtrj125ggkrx091kd2g840000gn/T/tmpwmka90ck.lp\n",
      "Reading time = 0.01 seconds\n",
      ": 951 rows, 2018 columns, 9072 nonzeros\n"
     ]
    },
    {
     "name": "stderr",
     "output_type": "stream",
     "text": [
      "Ignoring reaction 'rxn46479' since it already exists.\n",
      "Ignoring reaction 'rxn18910' since it already exists.\n",
      "Ignoring reaction 'rxn13713' since it already exists.\n"
     ]
    },
    {
     "name": "stdout",
     "output_type": "stream",
     "text": [
      "Read LP format model from file /var/folders/6w/knrbtrj125ggkrx091kd2g840000gn/T/tmpushfnhmt.lp\n",
      "Reading time = 0.01 seconds\n",
      ": 951 rows, 2018 columns, 9072 nonzeros\n"
     ]
    },
    {
     "name": "stderr",
     "output_type": "stream",
     "text": [
      "Ignoring reaction 'rxn46479' since it already exists.\n",
      "Ignoring reaction 'rxn18910' since it already exists.\n",
      "Ignoring reaction 'rxn13713' since it already exists.\n"
     ]
    },
    {
     "name": "stdout",
     "output_type": "stream",
     "text": [
      "Read LP format model from file /var/folders/6w/knrbtrj125ggkrx091kd2g840000gn/T/tmp_ijh29dy.lp\n",
      "Reading time = 0.01 seconds\n",
      ": 951 rows, 2018 columns, 9072 nonzeros\n"
     ]
    },
    {
     "name": "stderr",
     "output_type": "stream",
     "text": [
      "Ignoring reaction 'rxn46479' since it already exists.\n",
      "Ignoring reaction 'rxn18910' since it already exists.\n",
      "Ignoring reaction 'rxn13713' since it already exists.\n"
     ]
    },
    {
     "name": "stdout",
     "output_type": "stream",
     "text": [
      "Read LP format model from file /var/folders/6w/knrbtrj125ggkrx091kd2g840000gn/T/tmpkdsq9o4k.lp\n",
      "Reading time = 0.01 seconds\n",
      ": 951 rows, 2018 columns, 9072 nonzeros\n"
     ]
    },
    {
     "name": "stderr",
     "output_type": "stream",
     "text": [
      "Ignoring reaction 'rxn46479' since it already exists.\n",
      "Ignoring reaction 'rxn18910' since it already exists.\n",
      "Ignoring reaction 'rxn13713' since it already exists.\n"
     ]
    },
    {
     "name": "stdout",
     "output_type": "stream",
     "text": [
      "Read LP format model from file /var/folders/6w/knrbtrj125ggkrx091kd2g840000gn/T/tmp_l3zrmmg.lp\n",
      "Reading time = 0.01 seconds\n",
      ": 951 rows, 2018 columns, 9072 nonzeros\n"
     ]
    },
    {
     "name": "stderr",
     "output_type": "stream",
     "text": [
      "Ignoring reaction 'rxn46479' since it already exists.\n",
      "Ignoring reaction 'rxn18910' since it already exists.\n",
      "Ignoring reaction 'rxn13713' since it already exists.\n"
     ]
    },
    {
     "name": "stdout",
     "output_type": "stream",
     "text": [
      "Read LP format model from file /var/folders/6w/knrbtrj125ggkrx091kd2g840000gn/T/tmptsp3k5ej.lp\n",
      "Reading time = 0.01 seconds\n",
      ": 951 rows, 2018 columns, 9072 nonzeros\n"
     ]
    },
    {
     "name": "stderr",
     "output_type": "stream",
     "text": [
      "Ignoring reaction 'rxn46479' since it already exists.\n",
      "Ignoring reaction 'rxn18910' since it already exists.\n",
      "Ignoring reaction 'rxn13713' since it already exists.\n"
     ]
    },
    {
     "name": "stdout",
     "output_type": "stream",
     "text": [
      "Read LP format model from file /var/folders/6w/knrbtrj125ggkrx091kd2g840000gn/T/tmpas2lgfbd.lp\n",
      "Reading time = 0.01 seconds\n",
      ": 951 rows, 2018 columns, 9072 nonzeros\n"
     ]
    },
    {
     "name": "stderr",
     "output_type": "stream",
     "text": [
      "Ignoring reaction 'rxn46479' since it already exists.\n",
      "Ignoring reaction 'rxn18910' since it already exists.\n",
      "Ignoring reaction 'rxn13713' since it already exists.\n"
     ]
    },
    {
     "name": "stdout",
     "output_type": "stream",
     "text": [
      "Read LP format model from file /var/folders/6w/knrbtrj125ggkrx091kd2g840000gn/T/tmpbjcfwekk.lp\n",
      "Reading time = 0.01 seconds\n",
      ": 951 rows, 2018 columns, 9072 nonzeros\n"
     ]
    },
    {
     "name": "stderr",
     "output_type": "stream",
     "text": [
      "Ignoring reaction 'rxn46479' since it already exists.\n",
      "Ignoring reaction 'rxn18910' since it already exists.\n",
      "Ignoring reaction 'rxn13713' since it already exists.\n"
     ]
    },
    {
     "name": "stdout",
     "output_type": "stream",
     "text": [
      "Read LP format model from file /var/folders/6w/knrbtrj125ggkrx091kd2g840000gn/T/tmpa5tmtt6t.lp\n",
      "Reading time = 0.01 seconds\n",
      ": 951 rows, 2018 columns, 9072 nonzeros\n"
     ]
    },
    {
     "name": "stderr",
     "output_type": "stream",
     "text": [
      "Ignoring reaction 'rxn46479' since it already exists.\n",
      "Ignoring reaction 'rxn18910' since it already exists.\n",
      "Ignoring reaction 'rxn13713' since it already exists.\n"
     ]
    },
    {
     "name": "stdout",
     "output_type": "stream",
     "text": [
      "Read LP format model from file /var/folders/6w/knrbtrj125ggkrx091kd2g840000gn/T/tmpiwr5iysr.lp\n",
      "Reading time = 0.00 seconds\n",
      ": 951 rows, 2018 columns, 9072 nonzeros\n"
     ]
    },
    {
     "name": "stderr",
     "output_type": "stream",
     "text": [
      "Ignoring reaction 'rxn46479' since it already exists.\n",
      "Ignoring reaction 'rxn18910' since it already exists.\n",
      "Ignoring reaction 'rxn13713' since it already exists.\n"
     ]
    },
    {
     "name": "stdout",
     "output_type": "stream",
     "text": [
      "Read LP format model from file /var/folders/6w/knrbtrj125ggkrx091kd2g840000gn/T/tmpruyq_nau.lp\n",
      "Reading time = 0.01 seconds\n",
      ": 951 rows, 2018 columns, 9072 nonzeros\n"
     ]
    },
    {
     "name": "stderr",
     "output_type": "stream",
     "text": [
      "Ignoring reaction 'rxn46479' since it already exists.\n",
      "Ignoring reaction 'rxn18910' since it already exists.\n",
      "Ignoring reaction 'rxn13713' since it already exists.\n"
     ]
    },
    {
     "name": "stdout",
     "output_type": "stream",
     "text": [
      "Read LP format model from file /var/folders/6w/knrbtrj125ggkrx091kd2g840000gn/T/tmp7sdqrbom.lp\n",
      "Reading time = 0.00 seconds\n",
      ": 951 rows, 2018 columns, 9072 nonzeros\n"
     ]
    },
    {
     "name": "stderr",
     "output_type": "stream",
     "text": [
      "Ignoring reaction 'rxn46479' since it already exists.\n",
      "Ignoring reaction 'rxn18910' since it already exists.\n",
      "Ignoring reaction 'rxn13713' since it already exists.\n"
     ]
    },
    {
     "name": "stdout",
     "output_type": "stream",
     "text": [
      "Read LP format model from file /var/folders/6w/knrbtrj125ggkrx091kd2g840000gn/T/tmp_23jszwm.lp\n",
      "Reading time = 0.01 seconds\n",
      ": 951 rows, 2018 columns, 9072 nonzeros\n"
     ]
    },
    {
     "name": "stderr",
     "output_type": "stream",
     "text": [
      "Ignoring reaction 'rxn46479' since it already exists.\n",
      "Ignoring reaction 'rxn18910' since it already exists.\n",
      "Ignoring reaction 'rxn13713' since it already exists.\n"
     ]
    },
    {
     "name": "stdout",
     "output_type": "stream",
     "text": [
      "Read LP format model from file /var/folders/6w/knrbtrj125ggkrx091kd2g840000gn/T/tmpp3n_y8q8.lp\n",
      "Reading time = 0.01 seconds\n",
      ": 951 rows, 2018 columns, 9072 nonzeros\n"
     ]
    },
    {
     "name": "stderr",
     "output_type": "stream",
     "text": [
      "Ignoring reaction 'rxn46479' since it already exists.\n",
      "Ignoring reaction 'rxn18910' since it already exists.\n",
      "Ignoring reaction 'rxn13713' since it already exists.\n"
     ]
    },
    {
     "name": "stdout",
     "output_type": "stream",
     "text": [
      "Read LP format model from file /var/folders/6w/knrbtrj125ggkrx091kd2g840000gn/T/tmpc2ee0gv6.lp\n",
      "Reading time = 0.00 seconds\n",
      ": 951 rows, 2018 columns, 9072 nonzeros\n"
     ]
    },
    {
     "name": "stderr",
     "output_type": "stream",
     "text": [
      "Ignoring reaction 'rxn46479' since it already exists.\n",
      "Ignoring reaction 'rxn18910' since it already exists.\n",
      "Ignoring reaction 'rxn13713' since it already exists.\n"
     ]
    },
    {
     "name": "stdout",
     "output_type": "stream",
     "text": [
      "Read LP format model from file /var/folders/6w/knrbtrj125ggkrx091kd2g840000gn/T/tmp4qe_tzch.lp\n",
      "Reading time = 0.00 seconds\n",
      ": 951 rows, 2018 columns, 9072 nonzeros\n"
     ]
    },
    {
     "name": "stderr",
     "output_type": "stream",
     "text": [
      "Ignoring reaction 'rxn46479' since it already exists.\n",
      "Ignoring reaction 'rxn18910' since it already exists.\n",
      "Ignoring reaction 'rxn13713' since it already exists.\n"
     ]
    },
    {
     "name": "stdout",
     "output_type": "stream",
     "text": [
      "Read LP format model from file /var/folders/6w/knrbtrj125ggkrx091kd2g840000gn/T/tmpva2ovg_f.lp\n",
      "Reading time = 0.01 seconds\n",
      ": 951 rows, 2018 columns, 9072 nonzeros\n"
     ]
    },
    {
     "name": "stderr",
     "output_type": "stream",
     "text": [
      "Ignoring reaction 'rxn46479' since it already exists.\n",
      "Ignoring reaction 'rxn18910' since it already exists.\n",
      "Ignoring reaction 'rxn13713' since it already exists.\n"
     ]
    },
    {
     "name": "stdout",
     "output_type": "stream",
     "text": [
      "Read LP format model from file /var/folders/6w/knrbtrj125ggkrx091kd2g840000gn/T/tmpu678xzn3.lp\n",
      "Reading time = 0.01 seconds\n",
      ": 951 rows, 2018 columns, 9072 nonzeros\n"
     ]
    },
    {
     "name": "stderr",
     "output_type": "stream",
     "text": [
      "Ignoring reaction 'rxn46479' since it already exists.\n",
      "Ignoring reaction 'rxn18910' since it already exists.\n",
      "Ignoring reaction 'rxn13713' since it already exists.\n"
     ]
    },
    {
     "name": "stdout",
     "output_type": "stream",
     "text": [
      "Read LP format model from file /var/folders/6w/knrbtrj125ggkrx091kd2g840000gn/T/tmplzq0kse_.lp\n",
      "Reading time = 0.00 seconds\n",
      ": 951 rows, 2018 columns, 9072 nonzeros\n"
     ]
    },
    {
     "name": "stderr",
     "output_type": "stream",
     "text": [
      "Ignoring reaction 'rxn46479' since it already exists.\n",
      "Ignoring reaction 'rxn18910' since it already exists.\n",
      "Ignoring reaction 'rxn13713' since it already exists.\n"
     ]
    },
    {
     "name": "stdout",
     "output_type": "stream",
     "text": [
      "Read LP format model from file /var/folders/6w/knrbtrj125ggkrx091kd2g840000gn/T/tmp32qp_q_z.lp\n",
      "Reading time = 0.01 seconds\n",
      ": 951 rows, 2018 columns, 9072 nonzeros\n"
     ]
    },
    {
     "name": "stderr",
     "output_type": "stream",
     "text": [
      "Ignoring reaction 'rxn46479' since it already exists.\n",
      "Ignoring reaction 'rxn18910' since it already exists.\n",
      "Ignoring reaction 'rxn13713' since it already exists.\n"
     ]
    },
    {
     "name": "stdout",
     "output_type": "stream",
     "text": [
      "Read LP format model from file /var/folders/6w/knrbtrj125ggkrx091kd2g840000gn/T/tmpp_3l0e52.lp\n",
      "Reading time = 0.00 seconds\n",
      ": 951 rows, 2018 columns, 9072 nonzeros\n"
     ]
    },
    {
     "name": "stderr",
     "output_type": "stream",
     "text": [
      "Ignoring reaction 'rxn46479' since it already exists.\n",
      "Ignoring reaction 'rxn18910' since it already exists.\n",
      "Ignoring reaction 'rxn13713' since it already exists.\n"
     ]
    },
    {
     "name": "stdout",
     "output_type": "stream",
     "text": [
      "Read LP format model from file /var/folders/6w/knrbtrj125ggkrx091kd2g840000gn/T/tmpt00sx2a8.lp\n",
      "Reading time = 0.01 seconds\n",
      ": 951 rows, 2018 columns, 9072 nonzeros\n"
     ]
    },
    {
     "name": "stderr",
     "output_type": "stream",
     "text": [
      "Ignoring reaction 'rxn46479' since it already exists.\n",
      "Ignoring reaction 'rxn18910' since it already exists.\n",
      "Ignoring reaction 'rxn13713' since it already exists.\n"
     ]
    },
    {
     "name": "stdout",
     "output_type": "stream",
     "text": [
      "Read LP format model from file /var/folders/6w/knrbtrj125ggkrx091kd2g840000gn/T/tmpogt5daiw.lp\n",
      "Reading time = 0.01 seconds\n",
      ": 951 rows, 2018 columns, 9072 nonzeros\n"
     ]
    },
    {
     "name": "stderr",
     "output_type": "stream",
     "text": [
      "Ignoring reaction 'rxn46479' since it already exists.\n",
      "Ignoring reaction 'rxn18910' since it already exists.\n",
      "Ignoring reaction 'rxn13713' since it already exists.\n"
     ]
    },
    {
     "name": "stdout",
     "output_type": "stream",
     "text": [
      "Read LP format model from file /var/folders/6w/knrbtrj125ggkrx091kd2g840000gn/T/tmpjs4_tagb.lp\n",
      "Reading time = 0.01 seconds\n",
      ": 951 rows, 2018 columns, 9072 nonzeros\n"
     ]
    },
    {
     "name": "stderr",
     "output_type": "stream",
     "text": [
      "Ignoring reaction 'rxn46479' since it already exists.\n",
      "Ignoring reaction 'rxn18910' since it already exists.\n",
      "Ignoring reaction 'rxn13713' since it already exists.\n"
     ]
    },
    {
     "name": "stdout",
     "output_type": "stream",
     "text": [
      "Read LP format model from file /var/folders/6w/knrbtrj125ggkrx091kd2g840000gn/T/tmpxkqt69w2.lp\n",
      "Reading time = 0.01 seconds\n",
      ": 951 rows, 2018 columns, 9072 nonzeros\n"
     ]
    },
    {
     "name": "stderr",
     "output_type": "stream",
     "text": [
      "Ignoring reaction 'rxn46479' since it already exists.\n",
      "Ignoring reaction 'rxn18910' since it already exists.\n",
      "Ignoring reaction 'rxn13713' since it already exists.\n"
     ]
    },
    {
     "name": "stdout",
     "output_type": "stream",
     "text": [
      "Read LP format model from file /var/folders/6w/knrbtrj125ggkrx091kd2g840000gn/T/tmplswv385p.lp\n",
      "Reading time = 0.01 seconds\n",
      ": 951 rows, 2018 columns, 9072 nonzeros\n"
     ]
    },
    {
     "name": "stderr",
     "output_type": "stream",
     "text": [
      "Ignoring reaction 'rxn46479' since it already exists.\n",
      "Ignoring reaction 'rxn18910' since it already exists.\n",
      "Ignoring reaction 'rxn13713' since it already exists.\n"
     ]
    },
    {
     "name": "stdout",
     "output_type": "stream",
     "text": [
      "Read LP format model from file /var/folders/6w/knrbtrj125ggkrx091kd2g840000gn/T/tmpwo4q8pb2.lp\n",
      "Reading time = 0.00 seconds\n",
      ": 951 rows, 2018 columns, 9072 nonzeros\n"
     ]
    },
    {
     "name": "stderr",
     "output_type": "stream",
     "text": [
      "Ignoring reaction 'rxn46479' since it already exists.\n",
      "Ignoring reaction 'rxn18910' since it already exists.\n",
      "Ignoring reaction 'rxn13713' since it already exists.\n"
     ]
    },
    {
     "name": "stdout",
     "output_type": "stream",
     "text": [
      "Read LP format model from file /var/folders/6w/knrbtrj125ggkrx091kd2g840000gn/T/tmp_jkiuvcv.lp\n",
      "Reading time = 0.01 seconds\n",
      ": 951 rows, 2018 columns, 9072 nonzeros\n"
     ]
    },
    {
     "name": "stderr",
     "output_type": "stream",
     "text": [
      "Ignoring reaction 'rxn46479' since it already exists.\n",
      "Ignoring reaction 'rxn18910' since it already exists.\n",
      "Ignoring reaction 'rxn13713' since it already exists.\n"
     ]
    },
    {
     "name": "stdout",
     "output_type": "stream",
     "text": [
      "Read LP format model from file /var/folders/6w/knrbtrj125ggkrx091kd2g840000gn/T/tmpl60udro8.lp\n",
      "Reading time = 0.00 seconds\n",
      ": 951 rows, 2018 columns, 9072 nonzeros\n"
     ]
    },
    {
     "name": "stderr",
     "output_type": "stream",
     "text": [
      "Ignoring reaction 'rxn46479' since it already exists.\n",
      "Ignoring reaction 'rxn18910' since it already exists.\n",
      "Ignoring reaction 'rxn13713' since it already exists.\n"
     ]
    },
    {
     "name": "stdout",
     "output_type": "stream",
     "text": [
      "Read LP format model from file /var/folders/6w/knrbtrj125ggkrx091kd2g840000gn/T/tmp6kq3rszd.lp\n",
      "Reading time = 0.00 seconds\n",
      ": 951 rows, 2018 columns, 9072 nonzeros\n"
     ]
    },
    {
     "name": "stderr",
     "output_type": "stream",
     "text": [
      "Ignoring reaction 'rxn46479' since it already exists.\n",
      "Ignoring reaction 'rxn18910' since it already exists.\n",
      "Ignoring reaction 'rxn13713' since it already exists.\n"
     ]
    },
    {
     "name": "stdout",
     "output_type": "stream",
     "text": [
      "Read LP format model from file /var/folders/6w/knrbtrj125ggkrx091kd2g840000gn/T/tmpq4htge89.lp\n",
      "Reading time = 0.00 seconds\n",
      ": 951 rows, 2018 columns, 9072 nonzeros\n"
     ]
    },
    {
     "name": "stderr",
     "output_type": "stream",
     "text": [
      "Ignoring reaction 'rxn46479' since it already exists.\n",
      "Ignoring reaction 'rxn18910' since it already exists.\n",
      "Ignoring reaction 'rxn13713' since it already exists.\n"
     ]
    },
    {
     "name": "stdout",
     "output_type": "stream",
     "text": [
      "Read LP format model from file /var/folders/6w/knrbtrj125ggkrx091kd2g840000gn/T/tmp9t8bthp9.lp\n",
      "Reading time = 0.01 seconds\n",
      ": 951 rows, 2018 columns, 9072 nonzeros\n"
     ]
    },
    {
     "name": "stderr",
     "output_type": "stream",
     "text": [
      "Ignoring reaction 'rxn18910' since it already exists.\n",
      "Ignoring reaction 'rxn13713' since it already exists.\n"
     ]
    },
    {
     "name": "stdout",
     "output_type": "stream",
     "text": [
      "Read LP format model from file /var/folders/6w/knrbtrj125ggkrx091kd2g840000gn/T/tmpvz2d_r9m.lp\n",
      "Reading time = 0.00 seconds\n",
      ": 951 rows, 2018 columns, 9072 nonzeros\n"
     ]
    },
    {
     "name": "stderr",
     "output_type": "stream",
     "text": [
      "Ignoring reaction 'rxn46479' since it already exists.\n",
      "Ignoring reaction 'rxn18910' since it already exists.\n",
      "Ignoring reaction 'rxn13713' since it already exists.\n"
     ]
    },
    {
     "name": "stdout",
     "output_type": "stream",
     "text": [
      "Read LP format model from file /var/folders/6w/knrbtrj125ggkrx091kd2g840000gn/T/tmp0zual9c5.lp\n",
      "Reading time = 0.00 seconds\n",
      ": 951 rows, 2018 columns, 9072 nonzeros\n"
     ]
    },
    {
     "name": "stderr",
     "output_type": "stream",
     "text": [
      "Ignoring reaction 'rxn46479' since it already exists.\n",
      "Ignoring reaction 'rxn18910' since it already exists.\n",
      "Ignoring reaction 'rxn13713' since it already exists.\n"
     ]
    },
    {
     "name": "stdout",
     "output_type": "stream",
     "text": [
      "Read LP format model from file /var/folders/6w/knrbtrj125ggkrx091kd2g840000gn/T/tmp9gqvzt8j.lp\n",
      "Reading time = 0.01 seconds\n",
      ": 951 rows, 2018 columns, 9072 nonzeros\n"
     ]
    },
    {
     "name": "stderr",
     "output_type": "stream",
     "text": [
      "Ignoring reaction 'rxn46479' since it already exists.\n",
      "Ignoring reaction 'rxn18910' since it already exists.\n",
      "Ignoring reaction 'rxn13713' since it already exists.\n"
     ]
    },
    {
     "name": "stdout",
     "output_type": "stream",
     "text": [
      "Read LP format model from file /var/folders/6w/knrbtrj125ggkrx091kd2g840000gn/T/tmpqk2typdq.lp\n",
      "Reading time = 0.01 seconds\n",
      ": 951 rows, 2018 columns, 9072 nonzeros\n"
     ]
    },
    {
     "name": "stderr",
     "output_type": "stream",
     "text": [
      "Ignoring reaction 'rxn46479' since it already exists.\n",
      "Ignoring reaction 'rxn18910' since it already exists.\n",
      "Ignoring reaction 'rxn13713' since it already exists.\n"
     ]
    },
    {
     "name": "stdout",
     "output_type": "stream",
     "text": [
      "Read LP format model from file /var/folders/6w/knrbtrj125ggkrx091kd2g840000gn/T/tmp8my6kbgl.lp\n",
      "Reading time = 0.01 seconds\n",
      ": 951 rows, 2018 columns, 9072 nonzeros\n"
     ]
    },
    {
     "name": "stderr",
     "output_type": "stream",
     "text": [
      "Ignoring reaction 'rxn46479' since it already exists.\n",
      "Ignoring reaction 'rxn18910' since it already exists.\n",
      "Ignoring reaction 'rxn13713' since it already exists.\n"
     ]
    },
    {
     "name": "stdout",
     "output_type": "stream",
     "text": [
      "Read LP format model from file /var/folders/6w/knrbtrj125ggkrx091kd2g840000gn/T/tmpgj931q6z.lp\n",
      "Reading time = 0.01 seconds\n",
      ": 951 rows, 2018 columns, 9072 nonzeros\n"
     ]
    },
    {
     "name": "stderr",
     "output_type": "stream",
     "text": [
      "Ignoring reaction 'rxn46479' since it already exists.\n",
      "Ignoring reaction 'rxn18910' since it already exists.\n",
      "Ignoring reaction 'rxn13713' since it already exists.\n"
     ]
    },
    {
     "name": "stdout",
     "output_type": "stream",
     "text": [
      "Read LP format model from file /var/folders/6w/knrbtrj125ggkrx091kd2g840000gn/T/tmpny2yjwns.lp\n",
      "Reading time = 0.00 seconds\n",
      ": 951 rows, 2018 columns, 9072 nonzeros\n"
     ]
    },
    {
     "name": "stderr",
     "output_type": "stream",
     "text": [
      "Ignoring reaction 'rxn46479' since it already exists.\n",
      "Ignoring reaction 'rxn18910' since it already exists.\n",
      "Ignoring reaction 'rxn13713' since it already exists.\n"
     ]
    },
    {
     "name": "stdout",
     "output_type": "stream",
     "text": [
      "Read LP format model from file /var/folders/6w/knrbtrj125ggkrx091kd2g840000gn/T/tmp5o4vaei9.lp\n",
      "Reading time = 0.01 seconds\n",
      ": 951 rows, 2018 columns, 9072 nonzeros\n"
     ]
    },
    {
     "name": "stderr",
     "output_type": "stream",
     "text": [
      "Ignoring reaction 'rxn46479' since it already exists.\n",
      "Ignoring reaction 'rxn18910' since it already exists.\n",
      "Ignoring reaction 'rxn13713' since it already exists.\n"
     ]
    },
    {
     "name": "stdout",
     "output_type": "stream",
     "text": [
      "Read LP format model from file /var/folders/6w/knrbtrj125ggkrx091kd2g840000gn/T/tmpt14jx62h.lp\n",
      "Reading time = 0.01 seconds\n",
      ": 951 rows, 2018 columns, 9072 nonzeros\n"
     ]
    },
    {
     "name": "stderr",
     "output_type": "stream",
     "text": [
      "Ignoring reaction 'rxn46479' since it already exists.\n",
      "Ignoring reaction 'rxn18910' since it already exists.\n",
      "Ignoring reaction 'rxn13713' since it already exists.\n"
     ]
    },
    {
     "name": "stdout",
     "output_type": "stream",
     "text": [
      "Read LP format model from file /var/folders/6w/knrbtrj125ggkrx091kd2g840000gn/T/tmp8_bp2g7a.lp\n",
      "Reading time = 0.01 seconds\n",
      ": 951 rows, 2018 columns, 9072 nonzeros\n"
     ]
    },
    {
     "name": "stderr",
     "output_type": "stream",
     "text": [
      "Ignoring reaction 'rxn46479' since it already exists.\n",
      "Ignoring reaction 'rxn18910' since it already exists.\n",
      "Ignoring reaction 'rxn13713' since it already exists.\n"
     ]
    },
    {
     "name": "stdout",
     "output_type": "stream",
     "text": [
      "Read LP format model from file /var/folders/6w/knrbtrj125ggkrx091kd2g840000gn/T/tmpnd6py3kv.lp\n",
      "Reading time = 0.01 seconds\n",
      ": 951 rows, 2018 columns, 9072 nonzeros\n"
     ]
    },
    {
     "name": "stderr",
     "output_type": "stream",
     "text": [
      "Ignoring reaction 'rxn46479' since it already exists.\n",
      "Ignoring reaction 'rxn13713' since it already exists.\n"
     ]
    },
    {
     "name": "stdout",
     "output_type": "stream",
     "text": [
      "Read LP format model from file /var/folders/6w/knrbtrj125ggkrx091kd2g840000gn/T/tmp27m2avm2.lp\n",
      "Reading time = 0.00 seconds\n",
      ": 951 rows, 2018 columns, 9072 nonzeros\n"
     ]
    },
    {
     "name": "stderr",
     "output_type": "stream",
     "text": [
      "Ignoring reaction 'rxn46479' since it already exists.\n",
      "Ignoring reaction 'rxn18910' since it already exists.\n",
      "Ignoring reaction 'rxn13713' since it already exists.\n"
     ]
    },
    {
     "name": "stdout",
     "output_type": "stream",
     "text": [
      "Read LP format model from file /var/folders/6w/knrbtrj125ggkrx091kd2g840000gn/T/tmpymdwjr9z.lp\n",
      "Reading time = 0.01 seconds\n",
      ": 951 rows, 2018 columns, 9072 nonzeros\n"
     ]
    },
    {
     "name": "stderr",
     "output_type": "stream",
     "text": [
      "Ignoring reaction 'rxn46479' since it already exists.\n",
      "Ignoring reaction 'rxn18910' since it already exists.\n",
      "Ignoring reaction 'rxn13713' since it already exists.\n"
     ]
    },
    {
     "name": "stdout",
     "output_type": "stream",
     "text": [
      "Read LP format model from file /var/folders/6w/knrbtrj125ggkrx091kd2g840000gn/T/tmpfjtyp32i.lp\n",
      "Reading time = 0.01 seconds\n",
      ": 951 rows, 2018 columns, 9072 nonzeros\n"
     ]
    },
    {
     "name": "stderr",
     "output_type": "stream",
     "text": [
      "Ignoring reaction 'rxn46479' since it already exists.\n",
      "Ignoring reaction 'rxn18910' since it already exists.\n",
      "Ignoring reaction 'rxn13713' since it already exists.\n"
     ]
    },
    {
     "name": "stdout",
     "output_type": "stream",
     "text": [
      "Read LP format model from file /var/folders/6w/knrbtrj125ggkrx091kd2g840000gn/T/tmpts996kb2.lp\n",
      "Reading time = 0.00 seconds\n",
      ": 951 rows, 2018 columns, 9072 nonzeros\n"
     ]
    },
    {
     "name": "stderr",
     "output_type": "stream",
     "text": [
      "Ignoring reaction 'rxn46479' since it already exists.\n",
      "Ignoring reaction 'rxn18910' since it already exists.\n",
      "Ignoring reaction 'rxn13713' since it already exists.\n"
     ]
    },
    {
     "name": "stdout",
     "output_type": "stream",
     "text": [
      "Read LP format model from file /var/folders/6w/knrbtrj125ggkrx091kd2g840000gn/T/tmpofd855ay.lp\n",
      "Reading time = 0.01 seconds\n",
      ": 951 rows, 2018 columns, 9072 nonzeros\n"
     ]
    },
    {
     "name": "stderr",
     "output_type": "stream",
     "text": [
      "Ignoring reaction 'rxn46479' since it already exists.\n",
      "Ignoring reaction 'rxn18910' since it already exists.\n",
      "Ignoring reaction 'rxn13713' since it already exists.\n"
     ]
    },
    {
     "name": "stdout",
     "output_type": "stream",
     "text": [
      "Read LP format model from file /var/folders/6w/knrbtrj125ggkrx091kd2g840000gn/T/tmpbcj21zxp.lp\n",
      "Reading time = 0.01 seconds\n",
      ": 951 rows, 2018 columns, 9072 nonzeros\n"
     ]
    },
    {
     "name": "stderr",
     "output_type": "stream",
     "text": [
      "Ignoring reaction 'rxn46479' since it already exists.\n",
      "Ignoring reaction 'rxn18910' since it already exists.\n"
     ]
    },
    {
     "name": "stdout",
     "output_type": "stream",
     "text": [
      "Read LP format model from file /var/folders/6w/knrbtrj125ggkrx091kd2g840000gn/T/tmpin8relz_.lp\n",
      "Reading time = 0.01 seconds\n",
      ": 951 rows, 2018 columns, 9072 nonzeros\n"
     ]
    },
    {
     "name": "stderr",
     "output_type": "stream",
     "text": [
      "Ignoring reaction 'rxn46479' since it already exists.\n",
      "Ignoring reaction 'rxn18910' since it already exists.\n",
      "Ignoring reaction 'rxn13713' since it already exists.\n"
     ]
    },
    {
     "name": "stdout",
     "output_type": "stream",
     "text": [
      "Read LP format model from file /var/folders/6w/knrbtrj125ggkrx091kd2g840000gn/T/tmp4uebg6mg.lp\n",
      "Reading time = 0.01 seconds\n",
      ": 951 rows, 2018 columns, 9072 nonzeros\n"
     ]
    },
    {
     "name": "stderr",
     "output_type": "stream",
     "text": [
      "Ignoring reaction 'rxn46479' since it already exists.\n",
      "Ignoring reaction 'rxn18910' since it already exists.\n",
      "Ignoring reaction 'rxn13713' since it already exists.\n"
     ]
    },
    {
     "name": "stdout",
     "output_type": "stream",
     "text": [
      "Read LP format model from file /var/folders/6w/knrbtrj125ggkrx091kd2g840000gn/T/tmpevj7ak1p.lp\n",
      "Reading time = 0.00 seconds\n",
      ": 951 rows, 2018 columns, 9072 nonzeros\n"
     ]
    },
    {
     "name": "stderr",
     "output_type": "stream",
     "text": [
      "Ignoring reaction 'rxn46479' since it already exists.\n",
      "Ignoring reaction 'rxn18910' since it already exists.\n",
      "Ignoring reaction 'rxn13713' since it already exists.\n"
     ]
    },
    {
     "name": "stdout",
     "output_type": "stream",
     "text": [
      "Read LP format model from file /var/folders/6w/knrbtrj125ggkrx091kd2g840000gn/T/tmpbra05otk.lp\n",
      "Reading time = 0.01 seconds\n",
      ": 951 rows, 2018 columns, 9072 nonzeros\n"
     ]
    },
    {
     "name": "stderr",
     "output_type": "stream",
     "text": [
      "Ignoring reaction 'rxn46479' since it already exists.\n",
      "Ignoring reaction 'rxn18910' since it already exists.\n",
      "Ignoring reaction 'rxn13713' since it already exists.\n"
     ]
    },
    {
     "name": "stdout",
     "output_type": "stream",
     "text": [
      "Read LP format model from file /var/folders/6w/knrbtrj125ggkrx091kd2g840000gn/T/tmpgteog2u2.lp\n",
      "Reading time = 0.01 seconds\n",
      ": 951 rows, 2018 columns, 9072 nonzeros\n"
     ]
    },
    {
     "name": "stderr",
     "output_type": "stream",
     "text": [
      "Ignoring reaction 'rxn46479' since it already exists.\n",
      "Ignoring reaction 'rxn18910' since it already exists.\n",
      "Ignoring reaction 'rxn13713' since it already exists.\n"
     ]
    },
    {
     "name": "stdout",
     "output_type": "stream",
     "text": [
      "Read LP format model from file /var/folders/6w/knrbtrj125ggkrx091kd2g840000gn/T/tmp8kj2r65_.lp\n",
      "Reading time = 0.01 seconds\n",
      ": 951 rows, 2018 columns, 9072 nonzeros\n"
     ]
    },
    {
     "name": "stderr",
     "output_type": "stream",
     "text": [
      "Ignoring reaction 'rxn46479' since it already exists.\n",
      "Ignoring reaction 'rxn18910' since it already exists.\n",
      "Ignoring reaction 'rxn13713' since it already exists.\n"
     ]
    },
    {
     "name": "stdout",
     "output_type": "stream",
     "text": [
      "Read LP format model from file /var/folders/6w/knrbtrj125ggkrx091kd2g840000gn/T/tmpffff8_ke.lp\n",
      "Reading time = 0.01 seconds\n",
      ": 951 rows, 2018 columns, 9072 nonzeros\n"
     ]
    },
    {
     "name": "stderr",
     "output_type": "stream",
     "text": [
      "Ignoring reaction 'rxn46479' since it already exists.\n",
      "Ignoring reaction 'rxn18910' since it already exists.\n",
      "Ignoring reaction 'rxn13713' since it already exists.\n"
     ]
    },
    {
     "name": "stdout",
     "output_type": "stream",
     "text": [
      "Read LP format model from file /var/folders/6w/knrbtrj125ggkrx091kd2g840000gn/T/tmpkbyvr1q9.lp\n",
      "Reading time = 0.01 seconds\n",
      ": 951 rows, 2018 columns, 9072 nonzeros\n"
     ]
    },
    {
     "name": "stderr",
     "output_type": "stream",
     "text": [
      "Ignoring reaction 'rxn46479' since it already exists.\n",
      "Ignoring reaction 'rxn18910' since it already exists.\n",
      "Ignoring reaction 'rxn13713' since it already exists.\n"
     ]
    },
    {
     "name": "stdout",
     "output_type": "stream",
     "text": [
      "Read LP format model from file /var/folders/6w/knrbtrj125ggkrx091kd2g840000gn/T/tmpnzojqniz.lp\n",
      "Reading time = 0.01 seconds\n",
      ": 951 rows, 2018 columns, 9072 nonzeros\n"
     ]
    },
    {
     "name": "stderr",
     "output_type": "stream",
     "text": [
      "Ignoring reaction 'rxn46479' since it already exists.\n",
      "Ignoring reaction 'rxn18910' since it already exists.\n",
      "Ignoring reaction 'rxn13713' since it already exists.\n"
     ]
    },
    {
     "name": "stdout",
     "output_type": "stream",
     "text": [
      "Read LP format model from file /var/folders/6w/knrbtrj125ggkrx091kd2g840000gn/T/tmpfcmmpscj.lp\n",
      "Reading time = 0.01 seconds\n",
      ": 951 rows, 2018 columns, 9072 nonzeros\n"
     ]
    },
    {
     "name": "stderr",
     "output_type": "stream",
     "text": [
      "Ignoring reaction 'rxn46479' since it already exists.\n",
      "Ignoring reaction 'rxn18910' since it already exists.\n",
      "Ignoring reaction 'rxn13713' since it already exists.\n"
     ]
    },
    {
     "name": "stdout",
     "output_type": "stream",
     "text": [
      "Read LP format model from file /var/folders/6w/knrbtrj125ggkrx091kd2g840000gn/T/tmpevekh1rd.lp\n",
      "Reading time = 0.01 seconds\n",
      ": 951 rows, 2018 columns, 9072 nonzeros\n"
     ]
    },
    {
     "name": "stderr",
     "output_type": "stream",
     "text": [
      "Ignoring reaction 'rxn46479' since it already exists.\n",
      "Ignoring reaction 'rxn18910' since it already exists.\n",
      "Ignoring reaction 'rxn13713' since it already exists.\n"
     ]
    },
    {
     "name": "stdout",
     "output_type": "stream",
     "text": [
      "Read LP format model from file /var/folders/6w/knrbtrj125ggkrx091kd2g840000gn/T/tmpm5jggmlw.lp\n",
      "Reading time = 0.01 seconds\n",
      ": 951 rows, 2018 columns, 9072 nonzeros\n"
     ]
    },
    {
     "name": "stderr",
     "output_type": "stream",
     "text": [
      "Ignoring reaction 'rxn46479' since it already exists.\n",
      "Ignoring reaction 'rxn18910' since it already exists.\n",
      "Ignoring reaction 'rxn13713' since it already exists.\n"
     ]
    },
    {
     "name": "stdout",
     "output_type": "stream",
     "text": [
      "Read LP format model from file /var/folders/6w/knrbtrj125ggkrx091kd2g840000gn/T/tmpl5vdz7yh.lp\n",
      "Reading time = 0.02 seconds\n",
      ": 951 rows, 2018 columns, 9072 nonzeros\n"
     ]
    },
    {
     "name": "stderr",
     "output_type": "stream",
     "text": [
      "Ignoring reaction 'rxn46479' since it already exists.\n",
      "Ignoring reaction 'rxn18910' since it already exists.\n",
      "Ignoring reaction 'rxn13713' since it already exists.\n"
     ]
    },
    {
     "name": "stdout",
     "output_type": "stream",
     "text": [
      "Read LP format model from file /var/folders/6w/knrbtrj125ggkrx091kd2g840000gn/T/tmp5klepzdi.lp\n",
      "Reading time = 0.01 seconds\n",
      ": 951 rows, 2018 columns, 9072 nonzeros\n"
     ]
    },
    {
     "name": "stderr",
     "output_type": "stream",
     "text": [
      "Ignoring reaction 'rxn46479' since it already exists.\n",
      "Ignoring reaction 'rxn18910' since it already exists.\n",
      "Ignoring reaction 'rxn13713' since it already exists.\n"
     ]
    },
    {
     "name": "stdout",
     "output_type": "stream",
     "text": [
      "Read LP format model from file /var/folders/6w/knrbtrj125ggkrx091kd2g840000gn/T/tmple93d3g8.lp\n",
      "Reading time = 0.01 seconds\n",
      ": 949 rows, 2012 columns, 9034 nonzeros\n",
      "Processing row 111...\n",
      "Read LP format model from file /var/folders/6w/knrbtrj125ggkrx091kd2g840000gn/T/tmpoqvx370_.lp\n",
      "Reading time = 0.01 seconds\n",
      ": 949 rows, 2012 columns, 9034 nonzeros\n",
      "Read LP format model from file /var/folders/6w/knrbtrj125ggkrx091kd2g840000gn/T/tmpz3ht9sd0.lp\n",
      "Reading time = 0.01 seconds\n",
      ": 950 rows, 2018 columns, 9068 nonzeros\n"
     ]
    },
    {
     "name": "stderr",
     "output_type": "stream",
     "text": [
      "Ignoring reaction 'rxn00871' since it already exists.\n",
      "Ignoring reaction 'rxn18910' since it already exists.\n"
     ]
    },
    {
     "name": "stdout",
     "output_type": "stream",
     "text": [
      "Read LP format model from file /var/folders/6w/knrbtrj125ggkrx091kd2g840000gn/T/tmpg4wc75y0.lp\n",
      "Reading time = 0.01 seconds\n",
      ": 950 rows, 2018 columns, 9068 nonzeros\n"
     ]
    },
    {
     "name": "stderr",
     "output_type": "stream",
     "text": [
      "Ignoring reaction 'rxn00871' since it already exists.\n",
      "Ignoring reaction 'rxn18910' since it already exists.\n"
     ]
    },
    {
     "name": "stdout",
     "output_type": "stream",
     "text": [
      "Read LP format model from file /var/folders/6w/knrbtrj125ggkrx091kd2g840000gn/T/tmpwbzk_zch.lp\n",
      "Reading time = 0.01 seconds\n",
      ": 950 rows, 2018 columns, 9068 nonzeros\n"
     ]
    },
    {
     "name": "stderr",
     "output_type": "stream",
     "text": [
      "Ignoring reaction 'rxn00871' since it already exists.\n",
      "Ignoring reaction 'rxn18910' since it already exists.\n"
     ]
    },
    {
     "name": "stdout",
     "output_type": "stream",
     "text": [
      "Read LP format model from file /var/folders/6w/knrbtrj125ggkrx091kd2g840000gn/T/tmpga3ibvuc.lp\n",
      "Reading time = 0.01 seconds\n",
      ": 950 rows, 2018 columns, 9068 nonzeros\n"
     ]
    },
    {
     "name": "stderr",
     "output_type": "stream",
     "text": [
      "Ignoring reaction 'rxn00871' since it already exists.\n",
      "Ignoring reaction 'rxn18910' since it already exists.\n"
     ]
    },
    {
     "name": "stdout",
     "output_type": "stream",
     "text": [
      "Read LP format model from file /var/folders/6w/knrbtrj125ggkrx091kd2g840000gn/T/tmp102divw_.lp\n",
      "Reading time = 0.01 seconds\n",
      ": 950 rows, 2018 columns, 9068 nonzeros\n"
     ]
    },
    {
     "name": "stderr",
     "output_type": "stream",
     "text": [
      "Ignoring reaction 'rxn00871' since it already exists.\n",
      "Ignoring reaction 'rxn18910' since it already exists.\n"
     ]
    },
    {
     "name": "stdout",
     "output_type": "stream",
     "text": [
      "Read LP format model from file /var/folders/6w/knrbtrj125ggkrx091kd2g840000gn/T/tmpoisyba1_.lp\n",
      "Reading time = 0.01 seconds\n",
      ": 950 rows, 2018 columns, 9068 nonzeros\n"
     ]
    },
    {
     "name": "stderr",
     "output_type": "stream",
     "text": [
      "Ignoring reaction 'rxn00871' since it already exists.\n",
      "Ignoring reaction 'rxn18910' since it already exists.\n"
     ]
    },
    {
     "name": "stdout",
     "output_type": "stream",
     "text": [
      "Read LP format model from file /var/folders/6w/knrbtrj125ggkrx091kd2g840000gn/T/tmpmg_y3lq4.lp\n",
      "Reading time = 0.01 seconds\n",
      ": 950 rows, 2018 columns, 9068 nonzeros\n"
     ]
    },
    {
     "name": "stderr",
     "output_type": "stream",
     "text": [
      "Ignoring reaction 'rxn00871' since it already exists.\n",
      "Ignoring reaction 'rxn18910' since it already exists.\n"
     ]
    },
    {
     "name": "stdout",
     "output_type": "stream",
     "text": [
      "Read LP format model from file /var/folders/6w/knrbtrj125ggkrx091kd2g840000gn/T/tmp9f_1ivr4.lp\n",
      "Reading time = 0.01 seconds\n",
      ": 950 rows, 2018 columns, 9068 nonzeros\n"
     ]
    },
    {
     "name": "stderr",
     "output_type": "stream",
     "text": [
      "Ignoring reaction 'rxn00871' since it already exists.\n",
      "Ignoring reaction 'rxn18910' since it already exists.\n"
     ]
    },
    {
     "name": "stdout",
     "output_type": "stream",
     "text": [
      "Read LP format model from file /var/folders/6w/knrbtrj125ggkrx091kd2g840000gn/T/tmp0sin7f0j.lp\n",
      "Reading time = 0.01 seconds\n",
      ": 950 rows, 2018 columns, 9068 nonzeros\n"
     ]
    },
    {
     "name": "stderr",
     "output_type": "stream",
     "text": [
      "Ignoring reaction 'rxn00871' since it already exists.\n",
      "Ignoring reaction 'rxn18910' since it already exists.\n"
     ]
    },
    {
     "name": "stdout",
     "output_type": "stream",
     "text": [
      "Read LP format model from file /var/folders/6w/knrbtrj125ggkrx091kd2g840000gn/T/tmpvmrqhwkq.lp\n",
      "Reading time = 0.01 seconds\n",
      ": 950 rows, 2018 columns, 9068 nonzeros\n"
     ]
    },
    {
     "name": "stderr",
     "output_type": "stream",
     "text": [
      "Ignoring reaction 'rxn00871' since it already exists.\n",
      "Ignoring reaction 'rxn18910' since it already exists.\n"
     ]
    },
    {
     "name": "stdout",
     "output_type": "stream",
     "text": [
      "Read LP format model from file /var/folders/6w/knrbtrj125ggkrx091kd2g840000gn/T/tmpfrwqh7cw.lp\n",
      "Reading time = 0.00 seconds\n",
      ": 950 rows, 2018 columns, 9068 nonzeros\n"
     ]
    },
    {
     "name": "stderr",
     "output_type": "stream",
     "text": [
      "Ignoring reaction 'rxn00871' since it already exists.\n",
      "Ignoring reaction 'rxn18910' since it already exists.\n"
     ]
    },
    {
     "name": "stdout",
     "output_type": "stream",
     "text": [
      "Read LP format model from file /var/folders/6w/knrbtrj125ggkrx091kd2g840000gn/T/tmp0_zt1cjt.lp\n",
      "Reading time = 0.00 seconds\n",
      ": 950 rows, 2018 columns, 9068 nonzeros\n"
     ]
    },
    {
     "name": "stderr",
     "output_type": "stream",
     "text": [
      "Ignoring reaction 'rxn00871' since it already exists.\n",
      "Ignoring reaction 'rxn18910' since it already exists.\n"
     ]
    },
    {
     "name": "stdout",
     "output_type": "stream",
     "text": [
      "Read LP format model from file /var/folders/6w/knrbtrj125ggkrx091kd2g840000gn/T/tmp_2tfc1ot.lp\n",
      "Reading time = 0.01 seconds\n",
      ": 950 rows, 2018 columns, 9068 nonzeros\n"
     ]
    },
    {
     "name": "stderr",
     "output_type": "stream",
     "text": [
      "Ignoring reaction 'rxn00871' since it already exists.\n",
      "Ignoring reaction 'rxn18910' since it already exists.\n"
     ]
    },
    {
     "name": "stdout",
     "output_type": "stream",
     "text": [
      "Read LP format model from file /var/folders/6w/knrbtrj125ggkrx091kd2g840000gn/T/tmpi79nx9y6.lp\n",
      "Reading time = 0.01 seconds\n",
      ": 950 rows, 2018 columns, 9068 nonzeros\n"
     ]
    },
    {
     "name": "stderr",
     "output_type": "stream",
     "text": [
      "Ignoring reaction 'rxn18910' since it already exists.\n"
     ]
    },
    {
     "name": "stdout",
     "output_type": "stream",
     "text": [
      "Read LP format model from file /var/folders/6w/knrbtrj125ggkrx091kd2g840000gn/T/tmpsd3gquhe.lp\n",
      "Reading time = 0.00 seconds\n",
      ": 950 rows, 2018 columns, 9068 nonzeros\n"
     ]
    },
    {
     "name": "stderr",
     "output_type": "stream",
     "text": [
      "Ignoring reaction 'rxn00871' since it already exists.\n",
      "Ignoring reaction 'rxn18910' since it already exists.\n"
     ]
    },
    {
     "name": "stdout",
     "output_type": "stream",
     "text": [
      "Read LP format model from file /var/folders/6w/knrbtrj125ggkrx091kd2g840000gn/T/tmpevdh69nk.lp\n",
      "Reading time = 0.01 seconds\n",
      ": 950 rows, 2018 columns, 9068 nonzeros\n"
     ]
    },
    {
     "name": "stderr",
     "output_type": "stream",
     "text": [
      "Ignoring reaction 'rxn00871' since it already exists.\n",
      "Ignoring reaction 'rxn18910' since it already exists.\n"
     ]
    },
    {
     "name": "stdout",
     "output_type": "stream",
     "text": [
      "Read LP format model from file /var/folders/6w/knrbtrj125ggkrx091kd2g840000gn/T/tmphsfl05bq.lp\n",
      "Reading time = 0.01 seconds\n",
      ": 950 rows, 2018 columns, 9068 nonzeros\n"
     ]
    },
    {
     "name": "stderr",
     "output_type": "stream",
     "text": [
      "Ignoring reaction 'rxn00871' since it already exists.\n",
      "Ignoring reaction 'rxn18910' since it already exists.\n"
     ]
    },
    {
     "name": "stdout",
     "output_type": "stream",
     "text": [
      "Read LP format model from file /var/folders/6w/knrbtrj125ggkrx091kd2g840000gn/T/tmpircehoa0.lp\n",
      "Reading time = 0.01 seconds\n",
      ": 950 rows, 2018 columns, 9068 nonzeros\n"
     ]
    },
    {
     "name": "stderr",
     "output_type": "stream",
     "text": [
      "Ignoring reaction 'rxn00871' since it already exists.\n",
      "Ignoring reaction 'rxn18910' since it already exists.\n"
     ]
    },
    {
     "name": "stdout",
     "output_type": "stream",
     "text": [
      "Read LP format model from file /var/folders/6w/knrbtrj125ggkrx091kd2g840000gn/T/tmpfvn6pl9g.lp\n",
      "Reading time = 0.01 seconds\n",
      ": 950 rows, 2018 columns, 9068 nonzeros\n"
     ]
    },
    {
     "name": "stderr",
     "output_type": "stream",
     "text": [
      "Ignoring reaction 'rxn00871' since it already exists.\n",
      "Ignoring reaction 'rxn18910' since it already exists.\n"
     ]
    },
    {
     "name": "stdout",
     "output_type": "stream",
     "text": [
      "Read LP format model from file /var/folders/6w/knrbtrj125ggkrx091kd2g840000gn/T/tmpx3dmzw7l.lp\n",
      "Reading time = 0.01 seconds\n",
      ": 950 rows, 2018 columns, 9068 nonzeros\n"
     ]
    },
    {
     "name": "stderr",
     "output_type": "stream",
     "text": [
      "Ignoring reaction 'rxn00871' since it already exists.\n",
      "Ignoring reaction 'rxn18910' since it already exists.\n"
     ]
    },
    {
     "name": "stdout",
     "output_type": "stream",
     "text": [
      "Read LP format model from file /var/folders/6w/knrbtrj125ggkrx091kd2g840000gn/T/tmpkmgow5mc.lp\n",
      "Reading time = 0.01 seconds\n",
      ": 950 rows, 2018 columns, 9068 nonzeros\n"
     ]
    },
    {
     "name": "stderr",
     "output_type": "stream",
     "text": [
      "Ignoring reaction 'rxn00871' since it already exists.\n",
      "Ignoring reaction 'rxn18910' since it already exists.\n"
     ]
    },
    {
     "name": "stdout",
     "output_type": "stream",
     "text": [
      "Read LP format model from file /var/folders/6w/knrbtrj125ggkrx091kd2g840000gn/T/tmpy4e37yk_.lp\n",
      "Reading time = 0.01 seconds\n",
      ": 950 rows, 2018 columns, 9068 nonzeros\n"
     ]
    },
    {
     "name": "stderr",
     "output_type": "stream",
     "text": [
      "Ignoring reaction 'rxn00871' since it already exists.\n",
      "Ignoring reaction 'rxn18910' since it already exists.\n"
     ]
    },
    {
     "name": "stdout",
     "output_type": "stream",
     "text": [
      "Read LP format model from file /var/folders/6w/knrbtrj125ggkrx091kd2g840000gn/T/tmpuogqq72m.lp\n",
      "Reading time = 0.01 seconds\n",
      ": 950 rows, 2018 columns, 9068 nonzeros\n"
     ]
    },
    {
     "name": "stderr",
     "output_type": "stream",
     "text": [
      "Ignoring reaction 'rxn00871' since it already exists.\n",
      "Ignoring reaction 'rxn18910' since it already exists.\n"
     ]
    },
    {
     "name": "stdout",
     "output_type": "stream",
     "text": [
      "Read LP format model from file /var/folders/6w/knrbtrj125ggkrx091kd2g840000gn/T/tmpeoapyk83.lp\n",
      "Reading time = 0.01 seconds\n",
      ": 950 rows, 2018 columns, 9068 nonzeros\n"
     ]
    },
    {
     "name": "stderr",
     "output_type": "stream",
     "text": [
      "Ignoring reaction 'rxn00871' since it already exists.\n",
      "Ignoring reaction 'rxn18910' since it already exists.\n"
     ]
    },
    {
     "name": "stdout",
     "output_type": "stream",
     "text": [
      "Read LP format model from file /var/folders/6w/knrbtrj125ggkrx091kd2g840000gn/T/tmp2jkidjtn.lp\n",
      "Reading time = 0.01 seconds\n",
      ": 950 rows, 2018 columns, 9068 nonzeros\n"
     ]
    },
    {
     "name": "stderr",
     "output_type": "stream",
     "text": [
      "Ignoring reaction 'rxn00871' since it already exists.\n",
      "Ignoring reaction 'rxn18910' since it already exists.\n"
     ]
    },
    {
     "name": "stdout",
     "output_type": "stream",
     "text": [
      "Read LP format model from file /var/folders/6w/knrbtrj125ggkrx091kd2g840000gn/T/tmpue0a3tgj.lp\n",
      "Reading time = 0.01 seconds\n",
      ": 950 rows, 2018 columns, 9068 nonzeros\n"
     ]
    },
    {
     "name": "stderr",
     "output_type": "stream",
     "text": [
      "Ignoring reaction 'rxn00871' since it already exists.\n",
      "Ignoring reaction 'rxn18910' since it already exists.\n"
     ]
    },
    {
     "name": "stdout",
     "output_type": "stream",
     "text": [
      "Read LP format model from file /var/folders/6w/knrbtrj125ggkrx091kd2g840000gn/T/tmpx913q78w.lp\n",
      "Reading time = 0.01 seconds\n",
      ": 950 rows, 2018 columns, 9068 nonzeros\n"
     ]
    },
    {
     "name": "stderr",
     "output_type": "stream",
     "text": [
      "Ignoring reaction 'rxn00871' since it already exists.\n",
      "Ignoring reaction 'rxn18910' since it already exists.\n"
     ]
    },
    {
     "name": "stdout",
     "output_type": "stream",
     "text": [
      "Read LP format model from file /var/folders/6w/knrbtrj125ggkrx091kd2g840000gn/T/tmpgfqqhb2j.lp\n",
      "Reading time = 0.01 seconds\n",
      ": 950 rows, 2018 columns, 9068 nonzeros\n"
     ]
    },
    {
     "name": "stderr",
     "output_type": "stream",
     "text": [
      "Ignoring reaction 'rxn00871' since it already exists.\n",
      "Ignoring reaction 'rxn18910' since it already exists.\n"
     ]
    },
    {
     "name": "stdout",
     "output_type": "stream",
     "text": [
      "Read LP format model from file /var/folders/6w/knrbtrj125ggkrx091kd2g840000gn/T/tmpdiy8ksiw.lp\n",
      "Reading time = 0.01 seconds\n",
      ": 950 rows, 2018 columns, 9068 nonzeros\n"
     ]
    },
    {
     "name": "stderr",
     "output_type": "stream",
     "text": [
      "Ignoring reaction 'rxn00871' since it already exists.\n",
      "Ignoring reaction 'rxn18910' since it already exists.\n"
     ]
    },
    {
     "name": "stdout",
     "output_type": "stream",
     "text": [
      "Read LP format model from file /var/folders/6w/knrbtrj125ggkrx091kd2g840000gn/T/tmpxdjj1fmg.lp\n",
      "Reading time = 0.00 seconds\n",
      ": 950 rows, 2018 columns, 9068 nonzeros\n"
     ]
    },
    {
     "name": "stderr",
     "output_type": "stream",
     "text": [
      "Ignoring reaction 'rxn00871' since it already exists.\n",
      "Ignoring reaction 'rxn18910' since it already exists.\n"
     ]
    },
    {
     "name": "stdout",
     "output_type": "stream",
     "text": [
      "Read LP format model from file /var/folders/6w/knrbtrj125ggkrx091kd2g840000gn/T/tmpsdlbkxwn.lp\n",
      "Reading time = 0.01 seconds\n",
      ": 950 rows, 2018 columns, 9068 nonzeros\n"
     ]
    },
    {
     "name": "stderr",
     "output_type": "stream",
     "text": [
      "Ignoring reaction 'rxn00871' since it already exists.\n",
      "Ignoring reaction 'rxn18910' since it already exists.\n"
     ]
    },
    {
     "name": "stdout",
     "output_type": "stream",
     "text": [
      "Read LP format model from file /var/folders/6w/knrbtrj125ggkrx091kd2g840000gn/T/tmpou1sene8.lp\n",
      "Reading time = 0.01 seconds\n",
      ": 950 rows, 2018 columns, 9068 nonzeros\n"
     ]
    },
    {
     "name": "stderr",
     "output_type": "stream",
     "text": [
      "Ignoring reaction 'rxn00871' since it already exists.\n",
      "Ignoring reaction 'rxn18910' since it already exists.\n"
     ]
    },
    {
     "name": "stdout",
     "output_type": "stream",
     "text": [
      "Read LP format model from file /var/folders/6w/knrbtrj125ggkrx091kd2g840000gn/T/tmp6ajss2v0.lp\n",
      "Reading time = 0.01 seconds\n",
      ": 950 rows, 2018 columns, 9068 nonzeros\n"
     ]
    },
    {
     "name": "stderr",
     "output_type": "stream",
     "text": [
      "Ignoring reaction 'rxn00871' since it already exists.\n",
      "Ignoring reaction 'rxn18910' since it already exists.\n"
     ]
    },
    {
     "name": "stdout",
     "output_type": "stream",
     "text": [
      "Read LP format model from file /var/folders/6w/knrbtrj125ggkrx091kd2g840000gn/T/tmpgr_7umrs.lp\n",
      "Reading time = 0.01 seconds\n",
      ": 950 rows, 2018 columns, 9068 nonzeros\n"
     ]
    },
    {
     "name": "stderr",
     "output_type": "stream",
     "text": [
      "Ignoring reaction 'rxn00871' since it already exists.\n",
      "Ignoring reaction 'rxn18910' since it already exists.\n"
     ]
    },
    {
     "name": "stdout",
     "output_type": "stream",
     "text": [
      "Read LP format model from file /var/folders/6w/knrbtrj125ggkrx091kd2g840000gn/T/tmpg7igl4bw.lp\n",
      "Reading time = 0.00 seconds\n",
      ": 950 rows, 2018 columns, 9068 nonzeros\n"
     ]
    },
    {
     "name": "stderr",
     "output_type": "stream",
     "text": [
      "Ignoring reaction 'rxn00871' since it already exists.\n",
      "Ignoring reaction 'rxn18910' since it already exists.\n"
     ]
    },
    {
     "name": "stdout",
     "output_type": "stream",
     "text": [
      "Read LP format model from file /var/folders/6w/knrbtrj125ggkrx091kd2g840000gn/T/tmp364vqryh.lp\n",
      "Reading time = 0.01 seconds\n",
      ": 950 rows, 2018 columns, 9068 nonzeros\n"
     ]
    },
    {
     "name": "stderr",
     "output_type": "stream",
     "text": [
      "Ignoring reaction 'rxn00871' since it already exists.\n"
     ]
    },
    {
     "name": "stdout",
     "output_type": "stream",
     "text": [
      "Read LP format model from file /var/folders/6w/knrbtrj125ggkrx091kd2g840000gn/T/tmpkgjibcoe.lp\n",
      "Reading time = 0.00 seconds\n",
      ": 950 rows, 2018 columns, 9068 nonzeros\n"
     ]
    },
    {
     "name": "stderr",
     "output_type": "stream",
     "text": [
      "Ignoring reaction 'rxn00871' since it already exists.\n",
      "Ignoring reaction 'rxn18910' since it already exists.\n"
     ]
    },
    {
     "name": "stdout",
     "output_type": "stream",
     "text": [
      "Read LP format model from file /var/folders/6w/knrbtrj125ggkrx091kd2g840000gn/T/tmpv4rol2ah.lp\n",
      "Reading time = 0.01 seconds\n",
      ": 950 rows, 2018 columns, 9068 nonzeros\n"
     ]
    },
    {
     "name": "stderr",
     "output_type": "stream",
     "text": [
      "Ignoring reaction 'rxn00871' since it already exists.\n",
      "Ignoring reaction 'rxn18910' since it already exists.\n"
     ]
    },
    {
     "name": "stdout",
     "output_type": "stream",
     "text": [
      "Read LP format model from file /var/folders/6w/knrbtrj125ggkrx091kd2g840000gn/T/tmps99wq4mk.lp\n",
      "Reading time = 0.01 seconds\n",
      ": 950 rows, 2018 columns, 9068 nonzeros\n"
     ]
    },
    {
     "name": "stderr",
     "output_type": "stream",
     "text": [
      "Ignoring reaction 'rxn00871' since it already exists.\n",
      "Ignoring reaction 'rxn18910' since it already exists.\n"
     ]
    },
    {
     "name": "stdout",
     "output_type": "stream",
     "text": [
      "Read LP format model from file /var/folders/6w/knrbtrj125ggkrx091kd2g840000gn/T/tmpigujuv1j.lp\n",
      "Reading time = 0.01 seconds\n",
      ": 950 rows, 2018 columns, 9068 nonzeros\n"
     ]
    },
    {
     "name": "stderr",
     "output_type": "stream",
     "text": [
      "Ignoring reaction 'rxn00871' since it already exists.\n",
      "Ignoring reaction 'rxn18910' since it already exists.\n"
     ]
    },
    {
     "name": "stdout",
     "output_type": "stream",
     "text": [
      "Read LP format model from file /var/folders/6w/knrbtrj125ggkrx091kd2g840000gn/T/tmp33yvzqce.lp\n",
      "Reading time = 0.00 seconds\n",
      ": 950 rows, 2018 columns, 9068 nonzeros\n"
     ]
    },
    {
     "name": "stderr",
     "output_type": "stream",
     "text": [
      "Ignoring reaction 'rxn00871' since it already exists.\n",
      "Ignoring reaction 'rxn18910' since it already exists.\n"
     ]
    },
    {
     "name": "stdout",
     "output_type": "stream",
     "text": [
      "Read LP format model from file /var/folders/6w/knrbtrj125ggkrx091kd2g840000gn/T/tmph924nog2.lp\n",
      "Reading time = 0.01 seconds\n",
      ": 950 rows, 2018 columns, 9068 nonzeros\n"
     ]
    },
    {
     "name": "stderr",
     "output_type": "stream",
     "text": [
      "Ignoring reaction 'rxn00871' since it already exists.\n",
      "Ignoring reaction 'rxn18910' since it already exists.\n"
     ]
    },
    {
     "name": "stdout",
     "output_type": "stream",
     "text": [
      "Read LP format model from file /var/folders/6w/knrbtrj125ggkrx091kd2g840000gn/T/tmpcmd7up7d.lp\n",
      "Reading time = 0.01 seconds\n",
      ": 950 rows, 2018 columns, 9068 nonzeros\n"
     ]
    },
    {
     "name": "stderr",
     "output_type": "stream",
     "text": [
      "Ignoring reaction 'rxn00871' since it already exists.\n",
      "Ignoring reaction 'rxn18910' since it already exists.\n"
     ]
    },
    {
     "name": "stdout",
     "output_type": "stream",
     "text": [
      "Read LP format model from file /var/folders/6w/knrbtrj125ggkrx091kd2g840000gn/T/tmp3x_h83cu.lp\n",
      "Reading time = 0.00 seconds\n",
      ": 950 rows, 2018 columns, 9068 nonzeros\n"
     ]
    },
    {
     "name": "stderr",
     "output_type": "stream",
     "text": [
      "Ignoring reaction 'rxn00871' since it already exists.\n",
      "Ignoring reaction 'rxn18910' since it already exists.\n"
     ]
    },
    {
     "name": "stdout",
     "output_type": "stream",
     "text": [
      "Read LP format model from file /var/folders/6w/knrbtrj125ggkrx091kd2g840000gn/T/tmpp1bvbe54.lp\n",
      "Reading time = 0.00 seconds\n",
      ": 950 rows, 2018 columns, 9068 nonzeros\n"
     ]
    },
    {
     "name": "stderr",
     "output_type": "stream",
     "text": [
      "Ignoring reaction 'rxn00871' since it already exists.\n",
      "Ignoring reaction 'rxn18910' since it already exists.\n"
     ]
    },
    {
     "name": "stdout",
     "output_type": "stream",
     "text": [
      "Read LP format model from file /var/folders/6w/knrbtrj125ggkrx091kd2g840000gn/T/tmpthg219uo.lp\n",
      "Reading time = 0.00 seconds\n",
      ": 950 rows, 2018 columns, 9068 nonzeros\n"
     ]
    },
    {
     "name": "stderr",
     "output_type": "stream",
     "text": [
      "Ignoring reaction 'rxn00871' since it already exists.\n",
      "Ignoring reaction 'rxn18910' since it already exists.\n"
     ]
    },
    {
     "name": "stdout",
     "output_type": "stream",
     "text": [
      "Read LP format model from file /var/folders/6w/knrbtrj125ggkrx091kd2g840000gn/T/tmpwvbmscdc.lp\n",
      "Reading time = 0.01 seconds\n",
      ": 950 rows, 2018 columns, 9068 nonzeros\n"
     ]
    },
    {
     "name": "stderr",
     "output_type": "stream",
     "text": [
      "Ignoring reaction 'rxn00871' since it already exists.\n",
      "Ignoring reaction 'rxn18910' since it already exists.\n"
     ]
    },
    {
     "name": "stdout",
     "output_type": "stream",
     "text": [
      "Read LP format model from file /var/folders/6w/knrbtrj125ggkrx091kd2g840000gn/T/tmp75ss5_b_.lp\n",
      "Reading time = 0.00 seconds\n",
      ": 950 rows, 2018 columns, 9068 nonzeros\n"
     ]
    },
    {
     "name": "stderr",
     "output_type": "stream",
     "text": [
      "Ignoring reaction 'rxn00871' since it already exists.\n",
      "Ignoring reaction 'rxn18910' since it already exists.\n"
     ]
    },
    {
     "name": "stdout",
     "output_type": "stream",
     "text": [
      "Read LP format model from file /var/folders/6w/knrbtrj125ggkrx091kd2g840000gn/T/tmp0mreou3t.lp\n",
      "Reading time = 0.00 seconds\n",
      ": 949 rows, 2012 columns, 9034 nonzeros\n",
      "Processing row 116...\n",
      "Read LP format model from file /var/folders/6w/knrbtrj125ggkrx091kd2g840000gn/T/tmp4cdxtzqr.lp\n",
      "Reading time = 0.00 seconds\n",
      ": 949 rows, 2012 columns, 9034 nonzeros\n",
      "Read LP format model from file /var/folders/6w/knrbtrj125ggkrx091kd2g840000gn/T/tmp0u8s7v_i.lp\n",
      "Reading time = 0.00 seconds\n",
      ": 951 rows, 2018 columns, 9072 nonzeros\n"
     ]
    },
    {
     "name": "stderr",
     "output_type": "stream",
     "text": [
      "Ignoring reaction 'rxn46479' since it already exists.\n",
      "Ignoring reaction 'rxn18910' since it already exists.\n",
      "Ignoring reaction 'rxn13713' since it already exists.\n"
     ]
    },
    {
     "name": "stdout",
     "output_type": "stream",
     "text": [
      "Read LP format model from file /var/folders/6w/knrbtrj125ggkrx091kd2g840000gn/T/tmpsuftjit9.lp\n",
      "Reading time = 0.00 seconds\n",
      ": 951 rows, 2018 columns, 9072 nonzeros\n"
     ]
    },
    {
     "name": "stderr",
     "output_type": "stream",
     "text": [
      "Ignoring reaction 'rxn46479' since it already exists.\n",
      "Ignoring reaction 'rxn18910' since it already exists.\n",
      "Ignoring reaction 'rxn13713' since it already exists.\n"
     ]
    },
    {
     "name": "stdout",
     "output_type": "stream",
     "text": [
      "Read LP format model from file /var/folders/6w/knrbtrj125ggkrx091kd2g840000gn/T/tmp_qajodet.lp\n",
      "Reading time = 0.00 seconds\n",
      ": 951 rows, 2018 columns, 9072 nonzeros\n"
     ]
    },
    {
     "name": "stderr",
     "output_type": "stream",
     "text": [
      "Ignoring reaction 'rxn46479' since it already exists.\n",
      "Ignoring reaction 'rxn18910' since it already exists.\n",
      "Ignoring reaction 'rxn13713' since it already exists.\n"
     ]
    },
    {
     "name": "stdout",
     "output_type": "stream",
     "text": [
      "Read LP format model from file /var/folders/6w/knrbtrj125ggkrx091kd2g840000gn/T/tmp5wgnofv0.lp\n",
      "Reading time = 0.00 seconds\n",
      ": 951 rows, 2018 columns, 9072 nonzeros\n"
     ]
    },
    {
     "name": "stderr",
     "output_type": "stream",
     "text": [
      "Ignoring reaction 'rxn46479' since it already exists.\n",
      "Ignoring reaction 'rxn18910' since it already exists.\n",
      "Ignoring reaction 'rxn13713' since it already exists.\n"
     ]
    },
    {
     "name": "stdout",
     "output_type": "stream",
     "text": [
      "Read LP format model from file /var/folders/6w/knrbtrj125ggkrx091kd2g840000gn/T/tmpuv79w0ql.lp\n",
      "Reading time = 0.01 seconds\n",
      ": 951 rows, 2018 columns, 9072 nonzeros\n"
     ]
    },
    {
     "name": "stderr",
     "output_type": "stream",
     "text": [
      "Ignoring reaction 'rxn46479' since it already exists.\n",
      "Ignoring reaction 'rxn18910' since it already exists.\n",
      "Ignoring reaction 'rxn13713' since it already exists.\n"
     ]
    },
    {
     "name": "stdout",
     "output_type": "stream",
     "text": [
      "Read LP format model from file /var/folders/6w/knrbtrj125ggkrx091kd2g840000gn/T/tmpcwy3s_np.lp\n",
      "Reading time = 0.01 seconds\n",
      ": 951 rows, 2018 columns, 9072 nonzeros\n"
     ]
    },
    {
     "name": "stderr",
     "output_type": "stream",
     "text": [
      "Ignoring reaction 'rxn46479' since it already exists.\n",
      "Ignoring reaction 'rxn18910' since it already exists.\n",
      "Ignoring reaction 'rxn13713' since it already exists.\n"
     ]
    },
    {
     "name": "stdout",
     "output_type": "stream",
     "text": [
      "Read LP format model from file /var/folders/6w/knrbtrj125ggkrx091kd2g840000gn/T/tmpmizj_3tc.lp\n",
      "Reading time = 0.00 seconds\n",
      ": 951 rows, 2018 columns, 9072 nonzeros\n"
     ]
    },
    {
     "name": "stderr",
     "output_type": "stream",
     "text": [
      "Ignoring reaction 'rxn46479' since it already exists.\n",
      "Ignoring reaction 'rxn18910' since it already exists.\n",
      "Ignoring reaction 'rxn13713' since it already exists.\n"
     ]
    },
    {
     "name": "stdout",
     "output_type": "stream",
     "text": [
      "Read LP format model from file /var/folders/6w/knrbtrj125ggkrx091kd2g840000gn/T/tmpmwfyqsfh.lp\n",
      "Reading time = 0.01 seconds\n",
      ": 951 rows, 2018 columns, 9072 nonzeros\n"
     ]
    },
    {
     "name": "stderr",
     "output_type": "stream",
     "text": [
      "Ignoring reaction 'rxn46479' since it already exists.\n",
      "Ignoring reaction 'rxn18910' since it already exists.\n",
      "Ignoring reaction 'rxn13713' since it already exists.\n"
     ]
    },
    {
     "name": "stdout",
     "output_type": "stream",
     "text": [
      "Read LP format model from file /var/folders/6w/knrbtrj125ggkrx091kd2g840000gn/T/tmp3set3p93.lp\n",
      "Reading time = 0.00 seconds\n",
      ": 951 rows, 2018 columns, 9072 nonzeros\n"
     ]
    },
    {
     "name": "stderr",
     "output_type": "stream",
     "text": [
      "Ignoring reaction 'rxn46479' since it already exists.\n",
      "Ignoring reaction 'rxn18910' since it already exists.\n",
      "Ignoring reaction 'rxn13713' since it already exists.\n"
     ]
    },
    {
     "name": "stdout",
     "output_type": "stream",
     "text": [
      "Read LP format model from file /var/folders/6w/knrbtrj125ggkrx091kd2g840000gn/T/tmp42ns5mud.lp\n",
      "Reading time = 0.01 seconds\n",
      ": 951 rows, 2018 columns, 9072 nonzeros\n"
     ]
    },
    {
     "name": "stderr",
     "output_type": "stream",
     "text": [
      "Ignoring reaction 'rxn46479' since it already exists.\n",
      "Ignoring reaction 'rxn18910' since it already exists.\n",
      "Ignoring reaction 'rxn13713' since it already exists.\n"
     ]
    },
    {
     "name": "stdout",
     "output_type": "stream",
     "text": [
      "Read LP format model from file /var/folders/6w/knrbtrj125ggkrx091kd2g840000gn/T/tmpsf40jdum.lp\n",
      "Reading time = 0.00 seconds\n",
      ": 951 rows, 2018 columns, 9072 nonzeros\n"
     ]
    },
    {
     "name": "stderr",
     "output_type": "stream",
     "text": [
      "Ignoring reaction 'rxn46479' since it already exists.\n",
      "Ignoring reaction 'rxn18910' since it already exists.\n",
      "Ignoring reaction 'rxn13713' since it already exists.\n"
     ]
    },
    {
     "name": "stdout",
     "output_type": "stream",
     "text": [
      "Read LP format model from file /var/folders/6w/knrbtrj125ggkrx091kd2g840000gn/T/tmpzldlciu1.lp\n",
      "Reading time = 0.00 seconds\n",
      ": 951 rows, 2018 columns, 9072 nonzeros\n"
     ]
    },
    {
     "name": "stderr",
     "output_type": "stream",
     "text": [
      "Ignoring reaction 'rxn46479' since it already exists.\n",
      "Ignoring reaction 'rxn18910' since it already exists.\n",
      "Ignoring reaction 'rxn13713' since it already exists.\n"
     ]
    },
    {
     "name": "stdout",
     "output_type": "stream",
     "text": [
      "Read LP format model from file /var/folders/6w/knrbtrj125ggkrx091kd2g840000gn/T/tmpbzey37bf.lp\n",
      "Reading time = 0.00 seconds\n",
      ": 951 rows, 2018 columns, 9072 nonzeros\n"
     ]
    },
    {
     "name": "stderr",
     "output_type": "stream",
     "text": [
      "Ignoring reaction 'rxn46479' since it already exists.\n",
      "Ignoring reaction 'rxn18910' since it already exists.\n",
      "Ignoring reaction 'rxn13713' since it already exists.\n"
     ]
    },
    {
     "name": "stdout",
     "output_type": "stream",
     "text": [
      "Read LP format model from file /var/folders/6w/knrbtrj125ggkrx091kd2g840000gn/T/tmpsnp8wpxx.lp\n",
      "Reading time = 0.01 seconds\n",
      ": 951 rows, 2018 columns, 9072 nonzeros\n"
     ]
    },
    {
     "name": "stderr",
     "output_type": "stream",
     "text": [
      "Ignoring reaction 'rxn46479' since it already exists.\n",
      "Ignoring reaction 'rxn18910' since it already exists.\n",
      "Ignoring reaction 'rxn13713' since it already exists.\n"
     ]
    },
    {
     "name": "stdout",
     "output_type": "stream",
     "text": [
      "Read LP format model from file /var/folders/6w/knrbtrj125ggkrx091kd2g840000gn/T/tmpp880srws.lp\n",
      "Reading time = 0.00 seconds\n",
      ": 951 rows, 2018 columns, 9072 nonzeros\n"
     ]
    },
    {
     "name": "stderr",
     "output_type": "stream",
     "text": [
      "Ignoring reaction 'rxn46479' since it already exists.\n",
      "Ignoring reaction 'rxn18910' since it already exists.\n",
      "Ignoring reaction 'rxn13713' since it already exists.\n"
     ]
    },
    {
     "name": "stdout",
     "output_type": "stream",
     "text": [
      "Read LP format model from file /var/folders/6w/knrbtrj125ggkrx091kd2g840000gn/T/tmpxrocklej.lp\n",
      "Reading time = 0.00 seconds\n",
      ": 951 rows, 2018 columns, 9072 nonzeros\n"
     ]
    },
    {
     "name": "stderr",
     "output_type": "stream",
     "text": [
      "Ignoring reaction 'rxn46479' since it already exists.\n",
      "Ignoring reaction 'rxn18910' since it already exists.\n",
      "Ignoring reaction 'rxn13713' since it already exists.\n"
     ]
    },
    {
     "name": "stdout",
     "output_type": "stream",
     "text": [
      "Read LP format model from file /var/folders/6w/knrbtrj125ggkrx091kd2g840000gn/T/tmpdsqbvbi8.lp\n",
      "Reading time = 0.00 seconds\n",
      ": 951 rows, 2018 columns, 9072 nonzeros\n"
     ]
    },
    {
     "name": "stderr",
     "output_type": "stream",
     "text": [
      "Ignoring reaction 'rxn46479' since it already exists.\n",
      "Ignoring reaction 'rxn18910' since it already exists.\n",
      "Ignoring reaction 'rxn13713' since it already exists.\n"
     ]
    },
    {
     "name": "stdout",
     "output_type": "stream",
     "text": [
      "Read LP format model from file /var/folders/6w/knrbtrj125ggkrx091kd2g840000gn/T/tmpwe0nmifd.lp\n",
      "Reading time = 0.00 seconds\n",
      ": 951 rows, 2018 columns, 9072 nonzeros\n"
     ]
    },
    {
     "name": "stderr",
     "output_type": "stream",
     "text": [
      "Ignoring reaction 'rxn46479' since it already exists.\n",
      "Ignoring reaction 'rxn18910' since it already exists.\n",
      "Ignoring reaction 'rxn13713' since it already exists.\n"
     ]
    },
    {
     "name": "stdout",
     "output_type": "stream",
     "text": [
      "Read LP format model from file /var/folders/6w/knrbtrj125ggkrx091kd2g840000gn/T/tmpt2scajvu.lp\n",
      "Reading time = 0.00 seconds\n",
      ": 951 rows, 2018 columns, 9072 nonzeros\n"
     ]
    },
    {
     "name": "stderr",
     "output_type": "stream",
     "text": [
      "Ignoring reaction 'rxn46479' since it already exists.\n",
      "Ignoring reaction 'rxn18910' since it already exists.\n",
      "Ignoring reaction 'rxn13713' since it already exists.\n"
     ]
    },
    {
     "name": "stdout",
     "output_type": "stream",
     "text": [
      "Read LP format model from file /var/folders/6w/knrbtrj125ggkrx091kd2g840000gn/T/tmp4kgvrw39.lp\n",
      "Reading time = 0.01 seconds\n",
      ": 951 rows, 2018 columns, 9072 nonzeros\n"
     ]
    },
    {
     "name": "stderr",
     "output_type": "stream",
     "text": [
      "Ignoring reaction 'rxn46479' since it already exists.\n",
      "Ignoring reaction 'rxn18910' since it already exists.\n",
      "Ignoring reaction 'rxn13713' since it already exists.\n"
     ]
    },
    {
     "name": "stdout",
     "output_type": "stream",
     "text": [
      "Read LP format model from file /var/folders/6w/knrbtrj125ggkrx091kd2g840000gn/T/tmp2jk3k6rd.lp\n",
      "Reading time = 0.00 seconds\n",
      ": 951 rows, 2018 columns, 9072 nonzeros\n"
     ]
    },
    {
     "name": "stderr",
     "output_type": "stream",
     "text": [
      "Ignoring reaction 'rxn46479' since it already exists.\n",
      "Ignoring reaction 'rxn18910' since it already exists.\n",
      "Ignoring reaction 'rxn13713' since it already exists.\n"
     ]
    },
    {
     "name": "stdout",
     "output_type": "stream",
     "text": [
      "Read LP format model from file /var/folders/6w/knrbtrj125ggkrx091kd2g840000gn/T/tmpzo___jln.lp\n",
      "Reading time = 0.00 seconds\n",
      ": 951 rows, 2018 columns, 9072 nonzeros\n"
     ]
    },
    {
     "name": "stderr",
     "output_type": "stream",
     "text": [
      "Ignoring reaction 'rxn46479' since it already exists.\n",
      "Ignoring reaction 'rxn18910' since it already exists.\n",
      "Ignoring reaction 'rxn13713' since it already exists.\n"
     ]
    },
    {
     "name": "stdout",
     "output_type": "stream",
     "text": [
      "Read LP format model from file /var/folders/6w/knrbtrj125ggkrx091kd2g840000gn/T/tmp73azvo_a.lp\n",
      "Reading time = 0.00 seconds\n",
      ": 951 rows, 2018 columns, 9072 nonzeros\n"
     ]
    },
    {
     "name": "stderr",
     "output_type": "stream",
     "text": [
      "Ignoring reaction 'rxn46479' since it already exists.\n",
      "Ignoring reaction 'rxn18910' since it already exists.\n",
      "Ignoring reaction 'rxn13713' since it already exists.\n"
     ]
    },
    {
     "name": "stdout",
     "output_type": "stream",
     "text": [
      "Read LP format model from file /var/folders/6w/knrbtrj125ggkrx091kd2g840000gn/T/tmpzll5zf2j.lp\n",
      "Reading time = 0.00 seconds\n",
      ": 951 rows, 2018 columns, 9072 nonzeros\n"
     ]
    },
    {
     "name": "stderr",
     "output_type": "stream",
     "text": [
      "Ignoring reaction 'rxn46479' since it already exists.\n",
      "Ignoring reaction 'rxn18910' since it already exists.\n",
      "Ignoring reaction 'rxn13713' since it already exists.\n"
     ]
    },
    {
     "name": "stdout",
     "output_type": "stream",
     "text": [
      "Read LP format model from file /var/folders/6w/knrbtrj125ggkrx091kd2g840000gn/T/tmp4fvc42hb.lp\n",
      "Reading time = 0.00 seconds\n",
      ": 951 rows, 2018 columns, 9072 nonzeros\n"
     ]
    },
    {
     "name": "stderr",
     "output_type": "stream",
     "text": [
      "Ignoring reaction 'rxn46479' since it already exists.\n",
      "Ignoring reaction 'rxn18910' since it already exists.\n",
      "Ignoring reaction 'rxn13713' since it already exists.\n"
     ]
    },
    {
     "name": "stdout",
     "output_type": "stream",
     "text": [
      "Read LP format model from file /var/folders/6w/knrbtrj125ggkrx091kd2g840000gn/T/tmpl935pts1.lp\n",
      "Reading time = 0.00 seconds\n",
      ": 951 rows, 2018 columns, 9072 nonzeros\n"
     ]
    },
    {
     "name": "stderr",
     "output_type": "stream",
     "text": [
      "Ignoring reaction 'rxn46479' since it already exists.\n",
      "Ignoring reaction 'rxn18910' since it already exists.\n",
      "Ignoring reaction 'rxn13713' since it already exists.\n"
     ]
    },
    {
     "name": "stdout",
     "output_type": "stream",
     "text": [
      "Read LP format model from file /var/folders/6w/knrbtrj125ggkrx091kd2g840000gn/T/tmp1jifo1kf.lp\n",
      "Reading time = 0.00 seconds\n",
      ": 951 rows, 2018 columns, 9072 nonzeros\n"
     ]
    },
    {
     "name": "stderr",
     "output_type": "stream",
     "text": [
      "Ignoring reaction 'rxn46479' since it already exists.\n",
      "Ignoring reaction 'rxn18910' since it already exists.\n",
      "Ignoring reaction 'rxn13713' since it already exists.\n"
     ]
    },
    {
     "name": "stdout",
     "output_type": "stream",
     "text": [
      "Read LP format model from file /var/folders/6w/knrbtrj125ggkrx091kd2g840000gn/T/tmpgptpyzld.lp\n",
      "Reading time = 0.01 seconds\n",
      ": 951 rows, 2018 columns, 9072 nonzeros\n"
     ]
    },
    {
     "name": "stderr",
     "output_type": "stream",
     "text": [
      "Ignoring reaction 'rxn46479' since it already exists.\n",
      "Ignoring reaction 'rxn18910' since it already exists.\n",
      "Ignoring reaction 'rxn13713' since it already exists.\n"
     ]
    },
    {
     "name": "stdout",
     "output_type": "stream",
     "text": [
      "Read LP format model from file /var/folders/6w/knrbtrj125ggkrx091kd2g840000gn/T/tmpvhxf9u8l.lp\n",
      "Reading time = 0.00 seconds\n",
      ": 951 rows, 2018 columns, 9072 nonzeros\n"
     ]
    },
    {
     "name": "stderr",
     "output_type": "stream",
     "text": [
      "Ignoring reaction 'rxn46479' since it already exists.\n",
      "Ignoring reaction 'rxn18910' since it already exists.\n",
      "Ignoring reaction 'rxn13713' since it already exists.\n"
     ]
    },
    {
     "name": "stdout",
     "output_type": "stream",
     "text": [
      "Read LP format model from file /var/folders/6w/knrbtrj125ggkrx091kd2g840000gn/T/tmpk4cr5k53.lp\n",
      "Reading time = 0.00 seconds\n",
      ": 951 rows, 2018 columns, 9072 nonzeros\n"
     ]
    },
    {
     "name": "stderr",
     "output_type": "stream",
     "text": [
      "Ignoring reaction 'rxn46479' since it already exists.\n",
      "Ignoring reaction 'rxn18910' since it already exists.\n",
      "Ignoring reaction 'rxn13713' since it already exists.\n"
     ]
    },
    {
     "name": "stdout",
     "output_type": "stream",
     "text": [
      "Read LP format model from file /var/folders/6w/knrbtrj125ggkrx091kd2g840000gn/T/tmpges2_7xi.lp\n",
      "Reading time = 0.00 seconds\n",
      ": 951 rows, 2018 columns, 9072 nonzeros\n"
     ]
    },
    {
     "name": "stderr",
     "output_type": "stream",
     "text": [
      "Ignoring reaction 'rxn46479' since it already exists.\n",
      "Ignoring reaction 'rxn18910' since it already exists.\n",
      "Ignoring reaction 'rxn13713' since it already exists.\n"
     ]
    },
    {
     "name": "stdout",
     "output_type": "stream",
     "text": [
      "Read LP format model from file /var/folders/6w/knrbtrj125ggkrx091kd2g840000gn/T/tmpnhr9zsl4.lp\n",
      "Reading time = 0.00 seconds\n",
      ": 951 rows, 2018 columns, 9072 nonzeros\n"
     ]
    },
    {
     "name": "stderr",
     "output_type": "stream",
     "text": [
      "Ignoring reaction 'rxn46479' since it already exists.\n",
      "Ignoring reaction 'rxn18910' since it already exists.\n",
      "Ignoring reaction 'rxn13713' since it already exists.\n"
     ]
    },
    {
     "name": "stdout",
     "output_type": "stream",
     "text": [
      "Read LP format model from file /var/folders/6w/knrbtrj125ggkrx091kd2g840000gn/T/tmpoi26769g.lp\n",
      "Reading time = 0.01 seconds\n",
      ": 951 rows, 2018 columns, 9072 nonzeros\n"
     ]
    },
    {
     "name": "stderr",
     "output_type": "stream",
     "text": [
      "Ignoring reaction 'rxn46479' since it already exists.\n",
      "Ignoring reaction 'rxn18910' since it already exists.\n",
      "Ignoring reaction 'rxn13713' since it already exists.\n"
     ]
    },
    {
     "name": "stdout",
     "output_type": "stream",
     "text": [
      "Read LP format model from file /var/folders/6w/knrbtrj125ggkrx091kd2g840000gn/T/tmpr3_jw763.lp\n",
      "Reading time = 0.00 seconds\n",
      ": 951 rows, 2018 columns, 9072 nonzeros\n"
     ]
    },
    {
     "name": "stderr",
     "output_type": "stream",
     "text": [
      "Ignoring reaction 'rxn46479' since it already exists.\n",
      "Ignoring reaction 'rxn18910' since it already exists.\n",
      "Ignoring reaction 'rxn13713' since it already exists.\n"
     ]
    },
    {
     "name": "stdout",
     "output_type": "stream",
     "text": [
      "Read LP format model from file /var/folders/6w/knrbtrj125ggkrx091kd2g840000gn/T/tmpkisov30d.lp\n",
      "Reading time = 0.01 seconds\n",
      ": 951 rows, 2018 columns, 9072 nonzeros\n"
     ]
    },
    {
     "name": "stderr",
     "output_type": "stream",
     "text": [
      "Ignoring reaction 'rxn46479' since it already exists.\n",
      "Ignoring reaction 'rxn18910' since it already exists.\n",
      "Ignoring reaction 'rxn13713' since it already exists.\n"
     ]
    },
    {
     "name": "stdout",
     "output_type": "stream",
     "text": [
      "Read LP format model from file /var/folders/6w/knrbtrj125ggkrx091kd2g840000gn/T/tmpc47tlwi6.lp\n",
      "Reading time = 0.00 seconds\n",
      ": 951 rows, 2018 columns, 9072 nonzeros\n"
     ]
    },
    {
     "name": "stderr",
     "output_type": "stream",
     "text": [
      "Ignoring reaction 'rxn46479' since it already exists.\n",
      "Ignoring reaction 'rxn18910' since it already exists.\n",
      "Ignoring reaction 'rxn13713' since it already exists.\n"
     ]
    },
    {
     "name": "stdout",
     "output_type": "stream",
     "text": [
      "Read LP format model from file /var/folders/6w/knrbtrj125ggkrx091kd2g840000gn/T/tmpaiz_2q1d.lp\n",
      "Reading time = 0.00 seconds\n",
      ": 951 rows, 2018 columns, 9072 nonzeros\n"
     ]
    },
    {
     "name": "stderr",
     "output_type": "stream",
     "text": [
      "Ignoring reaction 'rxn46479' since it already exists.\n",
      "Ignoring reaction 'rxn18910' since it already exists.\n",
      "Ignoring reaction 'rxn13713' since it already exists.\n"
     ]
    },
    {
     "name": "stdout",
     "output_type": "stream",
     "text": [
      "Read LP format model from file /var/folders/6w/knrbtrj125ggkrx091kd2g840000gn/T/tmpfg3xagf7.lp\n",
      "Reading time = 0.00 seconds\n",
      ": 951 rows, 2018 columns, 9072 nonzeros\n"
     ]
    },
    {
     "name": "stderr",
     "output_type": "stream",
     "text": [
      "Ignoring reaction 'rxn18910' since it already exists.\n",
      "Ignoring reaction 'rxn13713' since it already exists.\n"
     ]
    },
    {
     "name": "stdout",
     "output_type": "stream",
     "text": [
      "Read LP format model from file /var/folders/6w/knrbtrj125ggkrx091kd2g840000gn/T/tmp3h_gt9pp.lp\n",
      "Reading time = 0.00 seconds\n",
      ": 951 rows, 2018 columns, 9072 nonzeros\n"
     ]
    },
    {
     "name": "stderr",
     "output_type": "stream",
     "text": [
      "Ignoring reaction 'rxn46479' since it already exists.\n",
      "Ignoring reaction 'rxn18910' since it already exists.\n",
      "Ignoring reaction 'rxn13713' since it already exists.\n"
     ]
    },
    {
     "name": "stdout",
     "output_type": "stream",
     "text": [
      "Read LP format model from file /var/folders/6w/knrbtrj125ggkrx091kd2g840000gn/T/tmp_f8rlt66.lp\n",
      "Reading time = 0.00 seconds\n",
      ": 951 rows, 2018 columns, 9072 nonzeros\n"
     ]
    },
    {
     "name": "stderr",
     "output_type": "stream",
     "text": [
      "Ignoring reaction 'rxn46479' since it already exists.\n",
      "Ignoring reaction 'rxn18910' since it already exists.\n",
      "Ignoring reaction 'rxn13713' since it already exists.\n"
     ]
    },
    {
     "name": "stdout",
     "output_type": "stream",
     "text": [
      "Read LP format model from file /var/folders/6w/knrbtrj125ggkrx091kd2g840000gn/T/tmpnqsfffqf.lp\n",
      "Reading time = 0.00 seconds\n",
      ": 951 rows, 2018 columns, 9072 nonzeros\n"
     ]
    },
    {
     "name": "stderr",
     "output_type": "stream",
     "text": [
      "Ignoring reaction 'rxn46479' since it already exists.\n",
      "Ignoring reaction 'rxn18910' since it already exists.\n",
      "Ignoring reaction 'rxn13713' since it already exists.\n"
     ]
    },
    {
     "name": "stdout",
     "output_type": "stream",
     "text": [
      "Read LP format model from file /var/folders/6w/knrbtrj125ggkrx091kd2g840000gn/T/tmphhrvvn70.lp\n",
      "Reading time = 0.01 seconds\n",
      ": 951 rows, 2018 columns, 9072 nonzeros\n"
     ]
    },
    {
     "name": "stderr",
     "output_type": "stream",
     "text": [
      "Ignoring reaction 'rxn46479' since it already exists.\n",
      "Ignoring reaction 'rxn18910' since it already exists.\n",
      "Ignoring reaction 'rxn13713' since it already exists.\n"
     ]
    },
    {
     "name": "stdout",
     "output_type": "stream",
     "text": [
      "Read LP format model from file /var/folders/6w/knrbtrj125ggkrx091kd2g840000gn/T/tmp66yjzjqq.lp\n",
      "Reading time = 0.00 seconds\n",
      ": 951 rows, 2018 columns, 9072 nonzeros\n"
     ]
    },
    {
     "name": "stderr",
     "output_type": "stream",
     "text": [
      "Ignoring reaction 'rxn46479' since it already exists.\n",
      "Ignoring reaction 'rxn18910' since it already exists.\n",
      "Ignoring reaction 'rxn13713' since it already exists.\n"
     ]
    },
    {
     "name": "stdout",
     "output_type": "stream",
     "text": [
      "Read LP format model from file /var/folders/6w/knrbtrj125ggkrx091kd2g840000gn/T/tmpit_ub31v.lp\n",
      "Reading time = 0.00 seconds\n",
      ": 951 rows, 2018 columns, 9072 nonzeros\n"
     ]
    },
    {
     "name": "stderr",
     "output_type": "stream",
     "text": [
      "Ignoring reaction 'rxn46479' since it already exists.\n",
      "Ignoring reaction 'rxn18910' since it already exists.\n",
      "Ignoring reaction 'rxn13713' since it already exists.\n"
     ]
    },
    {
     "name": "stdout",
     "output_type": "stream",
     "text": [
      "Read LP format model from file /var/folders/6w/knrbtrj125ggkrx091kd2g840000gn/T/tmpe12cvom_.lp\n",
      "Reading time = 0.01 seconds\n",
      ": 951 rows, 2018 columns, 9072 nonzeros\n"
     ]
    },
    {
     "name": "stderr",
     "output_type": "stream",
     "text": [
      "Ignoring reaction 'rxn46479' since it already exists.\n",
      "Ignoring reaction 'rxn18910' since it already exists.\n",
      "Ignoring reaction 'rxn13713' since it already exists.\n"
     ]
    },
    {
     "name": "stdout",
     "output_type": "stream",
     "text": [
      "Read LP format model from file /var/folders/6w/knrbtrj125ggkrx091kd2g840000gn/T/tmp6c0hcw_k.lp\n",
      "Reading time = 0.01 seconds\n",
      ": 951 rows, 2018 columns, 9072 nonzeros\n"
     ]
    },
    {
     "name": "stderr",
     "output_type": "stream",
     "text": [
      "Ignoring reaction 'rxn46479' since it already exists.\n",
      "Ignoring reaction 'rxn18910' since it already exists.\n",
      "Ignoring reaction 'rxn13713' since it already exists.\n"
     ]
    },
    {
     "name": "stdout",
     "output_type": "stream",
     "text": [
      "Read LP format model from file /var/folders/6w/knrbtrj125ggkrx091kd2g840000gn/T/tmpg6mzqv4w.lp\n",
      "Reading time = 0.00 seconds\n",
      ": 951 rows, 2018 columns, 9072 nonzeros\n"
     ]
    },
    {
     "name": "stderr",
     "output_type": "stream",
     "text": [
      "Ignoring reaction 'rxn46479' since it already exists.\n",
      "Ignoring reaction 'rxn18910' since it already exists.\n",
      "Ignoring reaction 'rxn13713' since it already exists.\n"
     ]
    },
    {
     "name": "stdout",
     "output_type": "stream",
     "text": [
      "Read LP format model from file /var/folders/6w/knrbtrj125ggkrx091kd2g840000gn/T/tmp0o4v0w5j.lp\n",
      "Reading time = 0.01 seconds\n",
      ": 951 rows, 2018 columns, 9072 nonzeros\n"
     ]
    },
    {
     "name": "stderr",
     "output_type": "stream",
     "text": [
      "Ignoring reaction 'rxn46479' since it already exists.\n",
      "Ignoring reaction 'rxn18910' since it already exists.\n",
      "Ignoring reaction 'rxn13713' since it already exists.\n"
     ]
    },
    {
     "name": "stdout",
     "output_type": "stream",
     "text": [
      "Read LP format model from file /var/folders/6w/knrbtrj125ggkrx091kd2g840000gn/T/tmpkhvpauty.lp\n",
      "Reading time = 0.00 seconds\n",
      ": 951 rows, 2018 columns, 9072 nonzeros\n"
     ]
    },
    {
     "name": "stderr",
     "output_type": "stream",
     "text": [
      "Ignoring reaction 'rxn46479' since it already exists.\n",
      "Ignoring reaction 'rxn13713' since it already exists.\n"
     ]
    },
    {
     "name": "stdout",
     "output_type": "stream",
     "text": [
      "Read LP format model from file /var/folders/6w/knrbtrj125ggkrx091kd2g840000gn/T/tmpqjs3n8mt.lp\n",
      "Reading time = 0.00 seconds\n",
      ": 951 rows, 2018 columns, 9072 nonzeros\n"
     ]
    },
    {
     "name": "stderr",
     "output_type": "stream",
     "text": [
      "Ignoring reaction 'rxn46479' since it already exists.\n",
      "Ignoring reaction 'rxn18910' since it already exists.\n",
      "Ignoring reaction 'rxn13713' since it already exists.\n"
     ]
    },
    {
     "name": "stdout",
     "output_type": "stream",
     "text": [
      "Read LP format model from file /var/folders/6w/knrbtrj125ggkrx091kd2g840000gn/T/tmplofiaxas.lp\n",
      "Reading time = 0.01 seconds\n",
      ": 951 rows, 2018 columns, 9072 nonzeros\n"
     ]
    },
    {
     "name": "stderr",
     "output_type": "stream",
     "text": [
      "Ignoring reaction 'rxn46479' since it already exists.\n",
      "Ignoring reaction 'rxn18910' since it already exists.\n",
      "Ignoring reaction 'rxn13713' since it already exists.\n"
     ]
    },
    {
     "name": "stdout",
     "output_type": "stream",
     "text": [
      "Read LP format model from file /var/folders/6w/knrbtrj125ggkrx091kd2g840000gn/T/tmps2a649jv.lp\n",
      "Reading time = 0.00 seconds\n",
      ": 951 rows, 2018 columns, 9072 nonzeros\n"
     ]
    },
    {
     "name": "stderr",
     "output_type": "stream",
     "text": [
      "Ignoring reaction 'rxn46479' since it already exists.\n",
      "Ignoring reaction 'rxn18910' since it already exists.\n",
      "Ignoring reaction 'rxn13713' since it already exists.\n"
     ]
    },
    {
     "name": "stdout",
     "output_type": "stream",
     "text": [
      "Read LP format model from file /var/folders/6w/knrbtrj125ggkrx091kd2g840000gn/T/tmpfwwdyqea.lp\n",
      "Reading time = 0.00 seconds\n",
      ": 951 rows, 2018 columns, 9072 nonzeros\n"
     ]
    },
    {
     "name": "stderr",
     "output_type": "stream",
     "text": [
      "Ignoring reaction 'rxn46479' since it already exists.\n",
      "Ignoring reaction 'rxn18910' since it already exists.\n",
      "Ignoring reaction 'rxn13713' since it already exists.\n"
     ]
    },
    {
     "name": "stdout",
     "output_type": "stream",
     "text": [
      "Read LP format model from file /var/folders/6w/knrbtrj125ggkrx091kd2g840000gn/T/tmpayh3cx_0.lp\n",
      "Reading time = 0.00 seconds\n",
      ": 951 rows, 2018 columns, 9072 nonzeros\n"
     ]
    },
    {
     "name": "stderr",
     "output_type": "stream",
     "text": [
      "Ignoring reaction 'rxn46479' since it already exists.\n",
      "Ignoring reaction 'rxn18910' since it already exists.\n",
      "Ignoring reaction 'rxn13713' since it already exists.\n"
     ]
    },
    {
     "name": "stdout",
     "output_type": "stream",
     "text": [
      "Read LP format model from file /var/folders/6w/knrbtrj125ggkrx091kd2g840000gn/T/tmptvy4da6m.lp\n",
      "Reading time = 0.00 seconds\n",
      ": 951 rows, 2018 columns, 9072 nonzeros\n"
     ]
    },
    {
     "name": "stderr",
     "output_type": "stream",
     "text": [
      "Ignoring reaction 'rxn46479' since it already exists.\n",
      "Ignoring reaction 'rxn18910' since it already exists.\n"
     ]
    },
    {
     "name": "stdout",
     "output_type": "stream",
     "text": [
      "Read LP format model from file /var/folders/6w/knrbtrj125ggkrx091kd2g840000gn/T/tmpx7p06yup.lp\n",
      "Reading time = 0.00 seconds\n",
      ": 951 rows, 2018 columns, 9072 nonzeros\n"
     ]
    },
    {
     "name": "stderr",
     "output_type": "stream",
     "text": [
      "Ignoring reaction 'rxn46479' since it already exists.\n",
      "Ignoring reaction 'rxn18910' since it already exists.\n",
      "Ignoring reaction 'rxn13713' since it already exists.\n"
     ]
    },
    {
     "name": "stdout",
     "output_type": "stream",
     "text": [
      "Read LP format model from file /var/folders/6w/knrbtrj125ggkrx091kd2g840000gn/T/tmpjmqnmy_9.lp\n",
      "Reading time = 0.00 seconds\n",
      ": 951 rows, 2018 columns, 9072 nonzeros\n"
     ]
    },
    {
     "name": "stderr",
     "output_type": "stream",
     "text": [
      "Ignoring reaction 'rxn46479' since it already exists.\n",
      "Ignoring reaction 'rxn18910' since it already exists.\n",
      "Ignoring reaction 'rxn13713' since it already exists.\n"
     ]
    },
    {
     "name": "stdout",
     "output_type": "stream",
     "text": [
      "Read LP format model from file /var/folders/6w/knrbtrj125ggkrx091kd2g840000gn/T/tmp7cl00ay7.lp\n",
      "Reading time = 0.00 seconds\n",
      ": 951 rows, 2018 columns, 9072 nonzeros\n"
     ]
    },
    {
     "name": "stderr",
     "output_type": "stream",
     "text": [
      "Ignoring reaction 'rxn46479' since it already exists.\n",
      "Ignoring reaction 'rxn18910' since it already exists.\n",
      "Ignoring reaction 'rxn13713' since it already exists.\n"
     ]
    },
    {
     "name": "stdout",
     "output_type": "stream",
     "text": [
      "Read LP format model from file /var/folders/6w/knrbtrj125ggkrx091kd2g840000gn/T/tmpkpnc8sf7.lp\n",
      "Reading time = 0.01 seconds\n",
      ": 951 rows, 2018 columns, 9072 nonzeros\n"
     ]
    },
    {
     "name": "stderr",
     "output_type": "stream",
     "text": [
      "Ignoring reaction 'rxn46479' since it already exists.\n",
      "Ignoring reaction 'rxn18910' since it already exists.\n",
      "Ignoring reaction 'rxn13713' since it already exists.\n"
     ]
    },
    {
     "name": "stdout",
     "output_type": "stream",
     "text": [
      "Read LP format model from file /var/folders/6w/knrbtrj125ggkrx091kd2g840000gn/T/tmpwiuzunfz.lp\n",
      "Reading time = 0.00 seconds\n",
      ": 951 rows, 2018 columns, 9072 nonzeros\n"
     ]
    },
    {
     "name": "stderr",
     "output_type": "stream",
     "text": [
      "Ignoring reaction 'rxn46479' since it already exists.\n",
      "Ignoring reaction 'rxn18910' since it already exists.\n",
      "Ignoring reaction 'rxn13713' since it already exists.\n"
     ]
    },
    {
     "name": "stdout",
     "output_type": "stream",
     "text": [
      "Read LP format model from file /var/folders/6w/knrbtrj125ggkrx091kd2g840000gn/T/tmprgydlmcn.lp\n",
      "Reading time = 0.00 seconds\n",
      ": 951 rows, 2018 columns, 9072 nonzeros\n"
     ]
    },
    {
     "name": "stderr",
     "output_type": "stream",
     "text": [
      "Ignoring reaction 'rxn46479' since it already exists.\n",
      "Ignoring reaction 'rxn18910' since it already exists.\n",
      "Ignoring reaction 'rxn13713' since it already exists.\n"
     ]
    },
    {
     "name": "stdout",
     "output_type": "stream",
     "text": [
      "Read LP format model from file /var/folders/6w/knrbtrj125ggkrx091kd2g840000gn/T/tmptg7u6ggr.lp\n",
      "Reading time = 0.00 seconds\n",
      ": 951 rows, 2018 columns, 9072 nonzeros\n"
     ]
    },
    {
     "name": "stderr",
     "output_type": "stream",
     "text": [
      "Ignoring reaction 'rxn46479' since it already exists.\n",
      "Ignoring reaction 'rxn18910' since it already exists.\n",
      "Ignoring reaction 'rxn13713' since it already exists.\n"
     ]
    },
    {
     "name": "stdout",
     "output_type": "stream",
     "text": [
      "Read LP format model from file /var/folders/6w/knrbtrj125ggkrx091kd2g840000gn/T/tmpttcb3gnr.lp\n",
      "Reading time = 0.00 seconds\n",
      ": 951 rows, 2018 columns, 9072 nonzeros\n"
     ]
    },
    {
     "name": "stderr",
     "output_type": "stream",
     "text": [
      "Ignoring reaction 'rxn46479' since it already exists.\n",
      "Ignoring reaction 'rxn18910' since it already exists.\n",
      "Ignoring reaction 'rxn13713' since it already exists.\n"
     ]
    },
    {
     "name": "stdout",
     "output_type": "stream",
     "text": [
      "Read LP format model from file /var/folders/6w/knrbtrj125ggkrx091kd2g840000gn/T/tmpyhlyoi48.lp\n",
      "Reading time = 0.00 seconds\n",
      ": 951 rows, 2018 columns, 9072 nonzeros\n"
     ]
    },
    {
     "name": "stderr",
     "output_type": "stream",
     "text": [
      "Ignoring reaction 'rxn46479' since it already exists.\n",
      "Ignoring reaction 'rxn18910' since it already exists.\n",
      "Ignoring reaction 'rxn13713' since it already exists.\n"
     ]
    },
    {
     "name": "stdout",
     "output_type": "stream",
     "text": [
      "Read LP format model from file /var/folders/6w/knrbtrj125ggkrx091kd2g840000gn/T/tmpw3f958qm.lp\n",
      "Reading time = 0.00 seconds\n",
      ": 951 rows, 2018 columns, 9072 nonzeros\n"
     ]
    },
    {
     "name": "stderr",
     "output_type": "stream",
     "text": [
      "Ignoring reaction 'rxn46479' since it already exists.\n",
      "Ignoring reaction 'rxn18910' since it already exists.\n",
      "Ignoring reaction 'rxn13713' since it already exists.\n"
     ]
    },
    {
     "name": "stdout",
     "output_type": "stream",
     "text": [
      "Read LP format model from file /var/folders/6w/knrbtrj125ggkrx091kd2g840000gn/T/tmpm36ytx5t.lp\n",
      "Reading time = 0.01 seconds\n",
      ": 951 rows, 2018 columns, 9072 nonzeros\n"
     ]
    },
    {
     "name": "stderr",
     "output_type": "stream",
     "text": [
      "Ignoring reaction 'rxn46479' since it already exists.\n",
      "Ignoring reaction 'rxn18910' since it already exists.\n",
      "Ignoring reaction 'rxn13713' since it already exists.\n"
     ]
    },
    {
     "name": "stdout",
     "output_type": "stream",
     "text": [
      "Read LP format model from file /var/folders/6w/knrbtrj125ggkrx091kd2g840000gn/T/tmpoepu0o6n.lp\n",
      "Reading time = 0.00 seconds\n",
      ": 951 rows, 2018 columns, 9072 nonzeros\n"
     ]
    },
    {
     "name": "stderr",
     "output_type": "stream",
     "text": [
      "Ignoring reaction 'rxn46479' since it already exists.\n",
      "Ignoring reaction 'rxn18910' since it already exists.\n",
      "Ignoring reaction 'rxn13713' since it already exists.\n"
     ]
    },
    {
     "name": "stdout",
     "output_type": "stream",
     "text": [
      "Read LP format model from file /var/folders/6w/knrbtrj125ggkrx091kd2g840000gn/T/tmps6uls9i5.lp\n",
      "Reading time = 0.01 seconds\n",
      ": 951 rows, 2018 columns, 9072 nonzeros\n"
     ]
    },
    {
     "name": "stderr",
     "output_type": "stream",
     "text": [
      "Ignoring reaction 'rxn46479' since it already exists.\n",
      "Ignoring reaction 'rxn18910' since it already exists.\n",
      "Ignoring reaction 'rxn13713' since it already exists.\n"
     ]
    },
    {
     "name": "stdout",
     "output_type": "stream",
     "text": [
      "Read LP format model from file /var/folders/6w/knrbtrj125ggkrx091kd2g840000gn/T/tmp0fwo7e2l.lp\n",
      "Reading time = 0.00 seconds\n",
      ": 951 rows, 2018 columns, 9072 nonzeros\n"
     ]
    },
    {
     "name": "stderr",
     "output_type": "stream",
     "text": [
      "Ignoring reaction 'rxn46479' since it already exists.\n",
      "Ignoring reaction 'rxn18910' since it already exists.\n",
      "Ignoring reaction 'rxn13713' since it already exists.\n"
     ]
    },
    {
     "name": "stdout",
     "output_type": "stream",
     "text": [
      "Read LP format model from file /var/folders/6w/knrbtrj125ggkrx091kd2g840000gn/T/tmpts42z7ua.lp\n",
      "Reading time = 0.01 seconds\n",
      ": 949 rows, 2012 columns, 9034 nonzeros\n",
      "Processing row 137...\n",
      "Read LP format model from file /var/folders/6w/knrbtrj125ggkrx091kd2g840000gn/T/tmp3kvzrytk.lp\n",
      "Reading time = 0.00 seconds\n",
      ": 949 rows, 2012 columns, 9034 nonzeros\n",
      "Read LP format model from file /var/folders/6w/knrbtrj125ggkrx091kd2g840000gn/T/tmpyg1ohhsx.lp\n",
      "Reading time = 0.00 seconds\n",
      ": 951 rows, 2018 columns, 9060 nonzeros\n"
     ]
    },
    {
     "name": "stderr",
     "output_type": "stream",
     "text": [
      "Ignoring reaction 'rxn13713' since it already exists.\n",
      "Ignoring reaction 'rxn38807' since it already exists.\n"
     ]
    },
    {
     "name": "stdout",
     "output_type": "stream",
     "text": [
      "Read LP format model from file /var/folders/6w/knrbtrj125ggkrx091kd2g840000gn/T/tmpkfo0e_jm.lp\n",
      "Reading time = 0.00 seconds\n",
      ": 951 rows, 2018 columns, 9060 nonzeros\n"
     ]
    },
    {
     "name": "stderr",
     "output_type": "stream",
     "text": [
      "Ignoring reaction 'rxn13713' since it already exists.\n",
      "Ignoring reaction 'rxn38807' since it already exists.\n"
     ]
    },
    {
     "name": "stdout",
     "output_type": "stream",
     "text": [
      "Read LP format model from file /var/folders/6w/knrbtrj125ggkrx091kd2g840000gn/T/tmpth7faxfg.lp\n",
      "Reading time = 0.00 seconds\n",
      ": 951 rows, 2018 columns, 9060 nonzeros\n"
     ]
    },
    {
     "name": "stderr",
     "output_type": "stream",
     "text": [
      "Ignoring reaction 'rxn13713' since it already exists.\n",
      "Ignoring reaction 'rxn38807' since it already exists.\n"
     ]
    },
    {
     "name": "stdout",
     "output_type": "stream",
     "text": [
      "Read LP format model from file /var/folders/6w/knrbtrj125ggkrx091kd2g840000gn/T/tmpacn9462s.lp\n",
      "Reading time = 0.00 seconds\n",
      ": 951 rows, 2018 columns, 9060 nonzeros\n"
     ]
    },
    {
     "name": "stderr",
     "output_type": "stream",
     "text": [
      "Ignoring reaction 'rxn13713' since it already exists.\n",
      "Ignoring reaction 'rxn38807' since it already exists.\n"
     ]
    },
    {
     "name": "stdout",
     "output_type": "stream",
     "text": [
      "Read LP format model from file /var/folders/6w/knrbtrj125ggkrx091kd2g840000gn/T/tmp1e_fcncv.lp\n",
      "Reading time = 0.00 seconds\n",
      ": 951 rows, 2018 columns, 9060 nonzeros\n"
     ]
    },
    {
     "name": "stderr",
     "output_type": "stream",
     "text": [
      "Ignoring reaction 'rxn13713' since it already exists.\n",
      "Ignoring reaction 'rxn38807' since it already exists.\n"
     ]
    },
    {
     "name": "stdout",
     "output_type": "stream",
     "text": [
      "Read LP format model from file /var/folders/6w/knrbtrj125ggkrx091kd2g840000gn/T/tmpwqiukkzm.lp\n",
      "Reading time = 0.00 seconds\n",
      ": 951 rows, 2018 columns, 9060 nonzeros\n"
     ]
    },
    {
     "name": "stderr",
     "output_type": "stream",
     "text": [
      "Ignoring reaction 'rxn13713' since it already exists.\n",
      "Ignoring reaction 'rxn38807' since it already exists.\n"
     ]
    },
    {
     "name": "stdout",
     "output_type": "stream",
     "text": [
      "Read LP format model from file /var/folders/6w/knrbtrj125ggkrx091kd2g840000gn/T/tmpehbr_7za.lp\n",
      "Reading time = 0.00 seconds\n",
      ": 951 rows, 2018 columns, 9060 nonzeros\n"
     ]
    },
    {
     "name": "stderr",
     "output_type": "stream",
     "text": [
      "Ignoring reaction 'rxn13713' since it already exists.\n",
      "Ignoring reaction 'rxn38807' since it already exists.\n"
     ]
    },
    {
     "name": "stdout",
     "output_type": "stream",
     "text": [
      "Read LP format model from file /var/folders/6w/knrbtrj125ggkrx091kd2g840000gn/T/tmpfcnts8o3.lp\n",
      "Reading time = 0.01 seconds\n",
      ": 951 rows, 2018 columns, 9060 nonzeros\n"
     ]
    },
    {
     "name": "stderr",
     "output_type": "stream",
     "text": [
      "Ignoring reaction 'rxn13713' since it already exists.\n",
      "Ignoring reaction 'rxn38807' since it already exists.\n"
     ]
    },
    {
     "name": "stdout",
     "output_type": "stream",
     "text": [
      "Read LP format model from file /var/folders/6w/knrbtrj125ggkrx091kd2g840000gn/T/tmp0s8278e5.lp\n",
      "Reading time = 0.00 seconds\n",
      ": 951 rows, 2018 columns, 9060 nonzeros\n"
     ]
    },
    {
     "name": "stderr",
     "output_type": "stream",
     "text": [
      "Ignoring reaction 'rxn13713' since it already exists.\n",
      "Ignoring reaction 'rxn38807' since it already exists.\n"
     ]
    },
    {
     "name": "stdout",
     "output_type": "stream",
     "text": [
      "Read LP format model from file /var/folders/6w/knrbtrj125ggkrx091kd2g840000gn/T/tmpk3dba1ty.lp\n",
      "Reading time = 0.00 seconds\n",
      ": 951 rows, 2018 columns, 9060 nonzeros\n"
     ]
    },
    {
     "name": "stderr",
     "output_type": "stream",
     "text": [
      "Ignoring reaction 'rxn13713' since it already exists.\n",
      "Ignoring reaction 'rxn38807' since it already exists.\n"
     ]
    },
    {
     "name": "stdout",
     "output_type": "stream",
     "text": [
      "Read LP format model from file /var/folders/6w/knrbtrj125ggkrx091kd2g840000gn/T/tmpze7cchl4.lp\n",
      "Reading time = 0.00 seconds\n",
      ": 951 rows, 2018 columns, 9060 nonzeros\n"
     ]
    },
    {
     "name": "stderr",
     "output_type": "stream",
     "text": [
      "Ignoring reaction 'rxn13713' since it already exists.\n",
      "Ignoring reaction 'rxn38807' since it already exists.\n"
     ]
    },
    {
     "name": "stdout",
     "output_type": "stream",
     "text": [
      "Read LP format model from file /var/folders/6w/knrbtrj125ggkrx091kd2g840000gn/T/tmpqs4nay1x.lp\n",
      "Reading time = 0.00 seconds\n",
      ": 951 rows, 2018 columns, 9060 nonzeros\n"
     ]
    },
    {
     "name": "stderr",
     "output_type": "stream",
     "text": [
      "Ignoring reaction 'rxn13713' since it already exists.\n",
      "Ignoring reaction 'rxn38807' since it already exists.\n"
     ]
    },
    {
     "name": "stdout",
     "output_type": "stream",
     "text": [
      "Read LP format model from file /var/folders/6w/knrbtrj125ggkrx091kd2g840000gn/T/tmpxw8ji6zc.lp\n",
      "Reading time = 0.00 seconds\n",
      ": 951 rows, 2018 columns, 9060 nonzeros\n"
     ]
    },
    {
     "name": "stderr",
     "output_type": "stream",
     "text": [
      "Ignoring reaction 'rxn13713' since it already exists.\n",
      "Ignoring reaction 'rxn38807' since it already exists.\n"
     ]
    },
    {
     "name": "stdout",
     "output_type": "stream",
     "text": [
      "Read LP format model from file /var/folders/6w/knrbtrj125ggkrx091kd2g840000gn/T/tmpqwhtlbup.lp\n",
      "Reading time = 0.00 seconds\n",
      ": 951 rows, 2018 columns, 9060 nonzeros\n"
     ]
    },
    {
     "name": "stderr",
     "output_type": "stream",
     "text": [
      "Ignoring reaction 'rxn13713' since it already exists.\n",
      "Ignoring reaction 'rxn38807' since it already exists.\n"
     ]
    },
    {
     "name": "stdout",
     "output_type": "stream",
     "text": [
      "Read LP format model from file /var/folders/6w/knrbtrj125ggkrx091kd2g840000gn/T/tmphxtudin6.lp\n",
      "Reading time = 0.00 seconds\n",
      ": 951 rows, 2018 columns, 9060 nonzeros\n"
     ]
    },
    {
     "name": "stderr",
     "output_type": "stream",
     "text": [
      "Ignoring reaction 'rxn13713' since it already exists.\n",
      "Ignoring reaction 'rxn38807' since it already exists.\n"
     ]
    },
    {
     "name": "stdout",
     "output_type": "stream",
     "text": [
      "Read LP format model from file /var/folders/6w/knrbtrj125ggkrx091kd2g840000gn/T/tmpfaa5otal.lp\n",
      "Reading time = 0.00 seconds\n",
      ": 951 rows, 2018 columns, 9060 nonzeros\n"
     ]
    },
    {
     "name": "stderr",
     "output_type": "stream",
     "text": [
      "Ignoring reaction 'rxn13713' since it already exists.\n",
      "Ignoring reaction 'rxn38807' since it already exists.\n"
     ]
    },
    {
     "name": "stdout",
     "output_type": "stream",
     "text": [
      "Read LP format model from file /var/folders/6w/knrbtrj125ggkrx091kd2g840000gn/T/tmp94riwygq.lp\n",
      "Reading time = 0.00 seconds\n",
      ": 951 rows, 2018 columns, 9060 nonzeros\n"
     ]
    },
    {
     "name": "stderr",
     "output_type": "stream",
     "text": [
      "Ignoring reaction 'rxn13713' since it already exists.\n",
      "Ignoring reaction 'rxn38807' since it already exists.\n"
     ]
    },
    {
     "name": "stdout",
     "output_type": "stream",
     "text": [
      "Read LP format model from file /var/folders/6w/knrbtrj125ggkrx091kd2g840000gn/T/tmpxr32365b.lp\n",
      "Reading time = 0.00 seconds\n",
      ": 951 rows, 2018 columns, 9060 nonzeros\n"
     ]
    },
    {
     "name": "stderr",
     "output_type": "stream",
     "text": [
      "Ignoring reaction 'rxn13713' since it already exists.\n",
      "Ignoring reaction 'rxn38807' since it already exists.\n"
     ]
    },
    {
     "name": "stdout",
     "output_type": "stream",
     "text": [
      "Read LP format model from file /var/folders/6w/knrbtrj125ggkrx091kd2g840000gn/T/tmpuii3wqt4.lp\n",
      "Reading time = 0.00 seconds\n",
      ": 951 rows, 2018 columns, 9060 nonzeros\n"
     ]
    },
    {
     "name": "stderr",
     "output_type": "stream",
     "text": [
      "Ignoring reaction 'rxn13713' since it already exists.\n",
      "Ignoring reaction 'rxn38807' since it already exists.\n"
     ]
    },
    {
     "name": "stdout",
     "output_type": "stream",
     "text": [
      "Read LP format model from file /var/folders/6w/knrbtrj125ggkrx091kd2g840000gn/T/tmpun3m9qrk.lp\n",
      "Reading time = 0.00 seconds\n",
      ": 951 rows, 2018 columns, 9060 nonzeros\n"
     ]
    },
    {
     "name": "stderr",
     "output_type": "stream",
     "text": [
      "Ignoring reaction 'rxn13713' since it already exists.\n",
      "Ignoring reaction 'rxn38807' since it already exists.\n"
     ]
    },
    {
     "name": "stdout",
     "output_type": "stream",
     "text": [
      "Read LP format model from file /var/folders/6w/knrbtrj125ggkrx091kd2g840000gn/T/tmpvbf4qgsq.lp\n",
      "Reading time = 0.00 seconds\n",
      ": 951 rows, 2018 columns, 9060 nonzeros\n"
     ]
    },
    {
     "name": "stderr",
     "output_type": "stream",
     "text": [
      "Ignoring reaction 'rxn13713' since it already exists.\n",
      "Ignoring reaction 'rxn38807' since it already exists.\n"
     ]
    },
    {
     "name": "stdout",
     "output_type": "stream",
     "text": [
      "Read LP format model from file /var/folders/6w/knrbtrj125ggkrx091kd2g840000gn/T/tmpvnkx3f_2.lp\n",
      "Reading time = 0.00 seconds\n",
      ": 951 rows, 2018 columns, 9060 nonzeros\n"
     ]
    },
    {
     "name": "stderr",
     "output_type": "stream",
     "text": [
      "Ignoring reaction 'rxn13713' since it already exists.\n",
      "Ignoring reaction 'rxn38807' since it already exists.\n"
     ]
    },
    {
     "name": "stdout",
     "output_type": "stream",
     "text": [
      "Read LP format model from file /var/folders/6w/knrbtrj125ggkrx091kd2g840000gn/T/tmpvjf_6fll.lp\n",
      "Reading time = 0.00 seconds\n",
      ": 951 rows, 2018 columns, 9060 nonzeros\n"
     ]
    },
    {
     "name": "stderr",
     "output_type": "stream",
     "text": [
      "Ignoring reaction 'rxn13713' since it already exists.\n",
      "Ignoring reaction 'rxn38807' since it already exists.\n"
     ]
    },
    {
     "name": "stdout",
     "output_type": "stream",
     "text": [
      "Read LP format model from file /var/folders/6w/knrbtrj125ggkrx091kd2g840000gn/T/tmpft2h9xsq.lp\n",
      "Reading time = 0.01 seconds\n",
      ": 951 rows, 2018 columns, 9060 nonzeros\n"
     ]
    },
    {
     "name": "stderr",
     "output_type": "stream",
     "text": [
      "Ignoring reaction 'rxn13713' since it already exists.\n",
      "Ignoring reaction 'rxn38807' since it already exists.\n"
     ]
    },
    {
     "name": "stdout",
     "output_type": "stream",
     "text": [
      "Read LP format model from file /var/folders/6w/knrbtrj125ggkrx091kd2g840000gn/T/tmpgnne9rbz.lp\n",
      "Reading time = 0.01 seconds\n",
      ": 951 rows, 2018 columns, 9060 nonzeros\n"
     ]
    },
    {
     "name": "stderr",
     "output_type": "stream",
     "text": [
      "Ignoring reaction 'rxn13713' since it already exists.\n",
      "Ignoring reaction 'rxn38807' since it already exists.\n"
     ]
    },
    {
     "name": "stdout",
     "output_type": "stream",
     "text": [
      "Read LP format model from file /var/folders/6w/knrbtrj125ggkrx091kd2g840000gn/T/tmpeozn__8o.lp\n",
      "Reading time = 0.01 seconds\n",
      ": 951 rows, 2018 columns, 9060 nonzeros\n"
     ]
    },
    {
     "name": "stderr",
     "output_type": "stream",
     "text": [
      "Ignoring reaction 'rxn13713' since it already exists.\n",
      "Ignoring reaction 'rxn38807' since it already exists.\n"
     ]
    },
    {
     "name": "stdout",
     "output_type": "stream",
     "text": [
      "Read LP format model from file /var/folders/6w/knrbtrj125ggkrx091kd2g840000gn/T/tmpgg6zzn2z.lp\n",
      "Reading time = 0.00 seconds\n",
      ": 951 rows, 2018 columns, 9060 nonzeros\n"
     ]
    },
    {
     "name": "stderr",
     "output_type": "stream",
     "text": [
      "Ignoring reaction 'rxn13713' since it already exists.\n",
      "Ignoring reaction 'rxn38807' since it already exists.\n"
     ]
    },
    {
     "name": "stdout",
     "output_type": "stream",
     "text": [
      "Read LP format model from file /var/folders/6w/knrbtrj125ggkrx091kd2g840000gn/T/tmpdo6o1upz.lp\n",
      "Reading time = 0.00 seconds\n",
      ": 951 rows, 2018 columns, 9060 nonzeros\n"
     ]
    },
    {
     "name": "stderr",
     "output_type": "stream",
     "text": [
      "Ignoring reaction 'rxn13713' since it already exists.\n",
      "Ignoring reaction 'rxn38807' since it already exists.\n"
     ]
    },
    {
     "name": "stdout",
     "output_type": "stream",
     "text": [
      "Read LP format model from file /var/folders/6w/knrbtrj125ggkrx091kd2g840000gn/T/tmp5p97xyxb.lp\n",
      "Reading time = 0.00 seconds\n",
      ": 951 rows, 2018 columns, 9060 nonzeros\n"
     ]
    },
    {
     "name": "stderr",
     "output_type": "stream",
     "text": [
      "Ignoring reaction 'rxn13713' since it already exists.\n",
      "Ignoring reaction 'rxn38807' since it already exists.\n"
     ]
    },
    {
     "name": "stdout",
     "output_type": "stream",
     "text": [
      "Read LP format model from file /var/folders/6w/knrbtrj125ggkrx091kd2g840000gn/T/tmpgjg7um51.lp\n",
      "Reading time = 0.00 seconds\n",
      ": 951 rows, 2018 columns, 9060 nonzeros\n"
     ]
    },
    {
     "name": "stderr",
     "output_type": "stream",
     "text": [
      "Ignoring reaction 'rxn13713' since it already exists.\n",
      "Ignoring reaction 'rxn38807' since it already exists.\n"
     ]
    },
    {
     "name": "stdout",
     "output_type": "stream",
     "text": [
      "Read LP format model from file /var/folders/6w/knrbtrj125ggkrx091kd2g840000gn/T/tmpfvj71i3k.lp\n",
      "Reading time = 0.01 seconds\n",
      ": 951 rows, 2018 columns, 9060 nonzeros\n"
     ]
    },
    {
     "name": "stderr",
     "output_type": "stream",
     "text": [
      "Ignoring reaction 'rxn13713' since it already exists.\n",
      "Ignoring reaction 'rxn38807' since it already exists.\n"
     ]
    },
    {
     "name": "stdout",
     "output_type": "stream",
     "text": [
      "Read LP format model from file /var/folders/6w/knrbtrj125ggkrx091kd2g840000gn/T/tmp1_6qn1y7.lp\n",
      "Reading time = 0.00 seconds\n",
      ": 951 rows, 2018 columns, 9060 nonzeros\n"
     ]
    },
    {
     "name": "stderr",
     "output_type": "stream",
     "text": [
      "Ignoring reaction 'rxn13713' since it already exists.\n",
      "Ignoring reaction 'rxn38807' since it already exists.\n"
     ]
    },
    {
     "name": "stdout",
     "output_type": "stream",
     "text": [
      "Read LP format model from file /var/folders/6w/knrbtrj125ggkrx091kd2g840000gn/T/tmpo02dsgie.lp\n",
      "Reading time = 0.00 seconds\n",
      ": 951 rows, 2018 columns, 9060 nonzeros\n"
     ]
    },
    {
     "name": "stderr",
     "output_type": "stream",
     "text": [
      "Ignoring reaction 'rxn13713' since it already exists.\n",
      "Ignoring reaction 'rxn38807' since it already exists.\n"
     ]
    },
    {
     "name": "stdout",
     "output_type": "stream",
     "text": [
      "Read LP format model from file /var/folders/6w/knrbtrj125ggkrx091kd2g840000gn/T/tmp7me10snd.lp\n",
      "Reading time = 0.00 seconds\n",
      ": 951 rows, 2018 columns, 9060 nonzeros\n"
     ]
    },
    {
     "name": "stderr",
     "output_type": "stream",
     "text": [
      "Ignoring reaction 'rxn13713' since it already exists.\n",
      "Ignoring reaction 'rxn38807' since it already exists.\n"
     ]
    },
    {
     "name": "stdout",
     "output_type": "stream",
     "text": [
      "Read LP format model from file /var/folders/6w/knrbtrj125ggkrx091kd2g840000gn/T/tmpqbslwpyi.lp\n",
      "Reading time = 0.00 seconds\n",
      ": 951 rows, 2018 columns, 9060 nonzeros\n"
     ]
    },
    {
     "name": "stderr",
     "output_type": "stream",
     "text": [
      "Ignoring reaction 'rxn13713' since it already exists.\n",
      "Ignoring reaction 'rxn38807' since it already exists.\n"
     ]
    },
    {
     "name": "stdout",
     "output_type": "stream",
     "text": [
      "Read LP format model from file /var/folders/6w/knrbtrj125ggkrx091kd2g840000gn/T/tmpw7_go6j8.lp\n",
      "Reading time = 0.01 seconds\n",
      ": 951 rows, 2018 columns, 9060 nonzeros\n"
     ]
    },
    {
     "name": "stderr",
     "output_type": "stream",
     "text": [
      "Ignoring reaction 'rxn13713' since it already exists.\n",
      "Ignoring reaction 'rxn38807' since it already exists.\n"
     ]
    },
    {
     "name": "stdout",
     "output_type": "stream",
     "text": [
      "Read LP format model from file /var/folders/6w/knrbtrj125ggkrx091kd2g840000gn/T/tmpd9vxqkdh.lp\n",
      "Reading time = 0.00 seconds\n",
      ": 951 rows, 2018 columns, 9060 nonzeros\n"
     ]
    },
    {
     "name": "stderr",
     "output_type": "stream",
     "text": [
      "Ignoring reaction 'rxn13713' since it already exists.\n",
      "Ignoring reaction 'rxn38807' since it already exists.\n"
     ]
    },
    {
     "name": "stdout",
     "output_type": "stream",
     "text": [
      "Read LP format model from file /var/folders/6w/knrbtrj125ggkrx091kd2g840000gn/T/tmphz6b1u48.lp\n",
      "Reading time = 0.00 seconds\n",
      ": 951 rows, 2018 columns, 9060 nonzeros\n"
     ]
    },
    {
     "name": "stderr",
     "output_type": "stream",
     "text": [
      "Ignoring reaction 'rxn13713' since it already exists.\n",
      "Ignoring reaction 'rxn38807' since it already exists.\n"
     ]
    },
    {
     "name": "stdout",
     "output_type": "stream",
     "text": [
      "Read LP format model from file /var/folders/6w/knrbtrj125ggkrx091kd2g840000gn/T/tmpuh6cvb55.lp\n",
      "Reading time = 0.00 seconds\n",
      ": 951 rows, 2018 columns, 9060 nonzeros\n"
     ]
    },
    {
     "name": "stderr",
     "output_type": "stream",
     "text": [
      "Ignoring reaction 'rxn13713' since it already exists.\n",
      "Ignoring reaction 'rxn38807' since it already exists.\n"
     ]
    },
    {
     "name": "stdout",
     "output_type": "stream",
     "text": [
      "Read LP format model from file /var/folders/6w/knrbtrj125ggkrx091kd2g840000gn/T/tmppxfmapxw.lp\n",
      "Reading time = 0.01 seconds\n",
      ": 951 rows, 2018 columns, 9060 nonzeros\n"
     ]
    },
    {
     "name": "stderr",
     "output_type": "stream",
     "text": [
      "Ignoring reaction 'rxn13713' since it already exists.\n",
      "Ignoring reaction 'rxn38807' since it already exists.\n"
     ]
    },
    {
     "name": "stdout",
     "output_type": "stream",
     "text": [
      "Read LP format model from file /var/folders/6w/knrbtrj125ggkrx091kd2g840000gn/T/tmpeg23q1nz.lp\n",
      "Reading time = 0.00 seconds\n",
      ": 951 rows, 2018 columns, 9060 nonzeros\n"
     ]
    },
    {
     "name": "stderr",
     "output_type": "stream",
     "text": [
      "Ignoring reaction 'rxn13713' since it already exists.\n",
      "Ignoring reaction 'rxn38807' since it already exists.\n"
     ]
    },
    {
     "name": "stdout",
     "output_type": "stream",
     "text": [
      "Read LP format model from file /var/folders/6w/knrbtrj125ggkrx091kd2g840000gn/T/tmpbt1pikq3.lp\n",
      "Reading time = 0.01 seconds\n",
      ": 951 rows, 2018 columns, 9060 nonzeros\n"
     ]
    },
    {
     "name": "stderr",
     "output_type": "stream",
     "text": [
      "Ignoring reaction 'rxn13713' since it already exists.\n",
      "Ignoring reaction 'rxn38807' since it already exists.\n"
     ]
    },
    {
     "name": "stdout",
     "output_type": "stream",
     "text": [
      "Read LP format model from file /var/folders/6w/knrbtrj125ggkrx091kd2g840000gn/T/tmptu1v5946.lp\n",
      "Reading time = 0.00 seconds\n",
      ": 951 rows, 2018 columns, 9060 nonzeros\n"
     ]
    },
    {
     "name": "stderr",
     "output_type": "stream",
     "text": [
      "Ignoring reaction 'rxn13713' since it already exists.\n",
      "Ignoring reaction 'rxn38807' since it already exists.\n"
     ]
    },
    {
     "name": "stdout",
     "output_type": "stream",
     "text": [
      "Read LP format model from file /var/folders/6w/knrbtrj125ggkrx091kd2g840000gn/T/tmpznpipn2c.lp\n",
      "Reading time = 0.00 seconds\n",
      ": 951 rows, 2018 columns, 9060 nonzeros\n"
     ]
    },
    {
     "name": "stderr",
     "output_type": "stream",
     "text": [
      "Ignoring reaction 'rxn13713' since it already exists.\n",
      "Ignoring reaction 'rxn38807' since it already exists.\n"
     ]
    },
    {
     "name": "stdout",
     "output_type": "stream",
     "text": [
      "Read LP format model from file /var/folders/6w/knrbtrj125ggkrx091kd2g840000gn/T/tmpl97trfk9.lp\n",
      "Reading time = 0.00 seconds\n",
      ": 951 rows, 2018 columns, 9060 nonzeros\n"
     ]
    },
    {
     "name": "stderr",
     "output_type": "stream",
     "text": [
      "Ignoring reaction 'rxn13713' since it already exists.\n",
      "Ignoring reaction 'rxn38807' since it already exists.\n"
     ]
    },
    {
     "name": "stdout",
     "output_type": "stream",
     "text": [
      "Read LP format model from file /var/folders/6w/knrbtrj125ggkrx091kd2g840000gn/T/tmpcnoz6_3i.lp\n",
      "Reading time = 0.00 seconds\n",
      ": 951 rows, 2018 columns, 9060 nonzeros\n"
     ]
    },
    {
     "name": "stderr",
     "output_type": "stream",
     "text": [
      "Ignoring reaction 'rxn13713' since it already exists.\n",
      "Ignoring reaction 'rxn38807' since it already exists.\n"
     ]
    },
    {
     "name": "stdout",
     "output_type": "stream",
     "text": [
      "Read LP format model from file /var/folders/6w/knrbtrj125ggkrx091kd2g840000gn/T/tmpfdozxmxy.lp\n",
      "Reading time = 0.00 seconds\n",
      ": 951 rows, 2018 columns, 9060 nonzeros\n"
     ]
    },
    {
     "name": "stderr",
     "output_type": "stream",
     "text": [
      "Ignoring reaction 'rxn38807' since it already exists.\n"
     ]
    },
    {
     "name": "stdout",
     "output_type": "stream",
     "text": [
      "Read LP format model from file /var/folders/6w/knrbtrj125ggkrx091kd2g840000gn/T/tmppcrtkduo.lp\n",
      "Reading time = 0.00 seconds\n",
      ": 951 rows, 2018 columns, 9060 nonzeros\n"
     ]
    },
    {
     "name": "stderr",
     "output_type": "stream",
     "text": [
      "Ignoring reaction 'rxn13713' since it already exists.\n",
      "Ignoring reaction 'rxn38807' since it already exists.\n"
     ]
    },
    {
     "name": "stdout",
     "output_type": "stream",
     "text": [
      "Read LP format model from file /var/folders/6w/knrbtrj125ggkrx091kd2g840000gn/T/tmpcn1hlhdh.lp\n",
      "Reading time = 0.01 seconds\n",
      ": 951 rows, 2018 columns, 9060 nonzeros\n"
     ]
    },
    {
     "name": "stderr",
     "output_type": "stream",
     "text": [
      "Ignoring reaction 'rxn13713' since it already exists.\n",
      "Ignoring reaction 'rxn38807' since it already exists.\n"
     ]
    },
    {
     "name": "stdout",
     "output_type": "stream",
     "text": [
      "Read LP format model from file /var/folders/6w/knrbtrj125ggkrx091kd2g840000gn/T/tmp49k8ewds.lp\n",
      "Reading time = 0.00 seconds\n",
      ": 951 rows, 2018 columns, 9060 nonzeros\n"
     ]
    },
    {
     "name": "stderr",
     "output_type": "stream",
     "text": [
      "Ignoring reaction 'rxn13713' since it already exists.\n",
      "Ignoring reaction 'rxn38807' since it already exists.\n"
     ]
    },
    {
     "name": "stdout",
     "output_type": "stream",
     "text": [
      "Read LP format model from file /var/folders/6w/knrbtrj125ggkrx091kd2g840000gn/T/tmp1s81qgg1.lp\n",
      "Reading time = 0.00 seconds\n",
      ": 951 rows, 2018 columns, 9060 nonzeros\n"
     ]
    },
    {
     "name": "stderr",
     "output_type": "stream",
     "text": [
      "Ignoring reaction 'rxn13713' since it already exists.\n",
      "Ignoring reaction 'rxn38807' since it already exists.\n"
     ]
    },
    {
     "name": "stdout",
     "output_type": "stream",
     "text": [
      "Read LP format model from file /var/folders/6w/knrbtrj125ggkrx091kd2g840000gn/T/tmpacfckt2j.lp\n",
      "Reading time = 0.00 seconds\n",
      ": 951 rows, 2018 columns, 9060 nonzeros\n"
     ]
    },
    {
     "name": "stderr",
     "output_type": "stream",
     "text": [
      "Ignoring reaction 'rxn13713' since it already exists.\n",
      "Ignoring reaction 'rxn38807' since it already exists.\n"
     ]
    },
    {
     "name": "stdout",
     "output_type": "stream",
     "text": [
      "Read LP format model from file /var/folders/6w/knrbtrj125ggkrx091kd2g840000gn/T/tmpeg_2vkx5.lp\n",
      "Reading time = 0.00 seconds\n",
      ": 951 rows, 2018 columns, 9060 nonzeros\n"
     ]
    },
    {
     "name": "stderr",
     "output_type": "stream",
     "text": [
      "Ignoring reaction 'rxn13713' since it already exists.\n",
      "Ignoring reaction 'rxn38807' since it already exists.\n"
     ]
    },
    {
     "name": "stdout",
     "output_type": "stream",
     "text": [
      "Read LP format model from file /var/folders/6w/knrbtrj125ggkrx091kd2g840000gn/T/tmpo6jcdvx_.lp\n",
      "Reading time = 0.01 seconds\n",
      ": 951 rows, 2018 columns, 9060 nonzeros\n"
     ]
    },
    {
     "name": "stderr",
     "output_type": "stream",
     "text": [
      "Ignoring reaction 'rxn13713' since it already exists.\n",
      "Ignoring reaction 'rxn38807' since it already exists.\n"
     ]
    },
    {
     "name": "stdout",
     "output_type": "stream",
     "text": [
      "Read LP format model from file /var/folders/6w/knrbtrj125ggkrx091kd2g840000gn/T/tmp79f05eh5.lp\n",
      "Reading time = 0.01 seconds\n",
      ": 951 rows, 2018 columns, 9060 nonzeros\n"
     ]
    },
    {
     "name": "stderr",
     "output_type": "stream",
     "text": [
      "Ignoring reaction 'rxn13713' since it already exists.\n",
      "Ignoring reaction 'rxn38807' since it already exists.\n"
     ]
    },
    {
     "name": "stdout",
     "output_type": "stream",
     "text": [
      "Read LP format model from file /var/folders/6w/knrbtrj125ggkrx091kd2g840000gn/T/tmpmbg4k4ut.lp\n",
      "Reading time = 0.00 seconds\n",
      ": 951 rows, 2018 columns, 9060 nonzeros\n"
     ]
    },
    {
     "name": "stderr",
     "output_type": "stream",
     "text": [
      "Ignoring reaction 'rxn13713' since it already exists.\n",
      "Ignoring reaction 'rxn38807' since it already exists.\n"
     ]
    },
    {
     "name": "stdout",
     "output_type": "stream",
     "text": [
      "Read LP format model from file /var/folders/6w/knrbtrj125ggkrx091kd2g840000gn/T/tmpc3019unb.lp\n",
      "Reading time = 0.00 seconds\n",
      ": 951 rows, 2018 columns, 9060 nonzeros\n"
     ]
    },
    {
     "name": "stderr",
     "output_type": "stream",
     "text": [
      "Ignoring reaction 'rxn13713' since it already exists.\n",
      "Ignoring reaction 'rxn38807' since it already exists.\n"
     ]
    },
    {
     "name": "stdout",
     "output_type": "stream",
     "text": [
      "Read LP format model from file /var/folders/6w/knrbtrj125ggkrx091kd2g840000gn/T/tmp9hhozsd2.lp\n",
      "Reading time = 0.00 seconds\n",
      ": 951 rows, 2018 columns, 9060 nonzeros\n"
     ]
    },
    {
     "name": "stderr",
     "output_type": "stream",
     "text": [
      "Ignoring reaction 'rxn13713' since it already exists.\n"
     ]
    },
    {
     "name": "stdout",
     "output_type": "stream",
     "text": [
      "Read LP format model from file /var/folders/6w/knrbtrj125ggkrx091kd2g840000gn/T/tmpc8i0mqsz.lp\n",
      "Reading time = 0.00 seconds\n",
      ": 951 rows, 2018 columns, 9060 nonzeros\n"
     ]
    },
    {
     "name": "stderr",
     "output_type": "stream",
     "text": [
      "Ignoring reaction 'rxn13713' since it already exists.\n",
      "Ignoring reaction 'rxn38807' since it already exists.\n"
     ]
    },
    {
     "name": "stdout",
     "output_type": "stream",
     "text": [
      "Read LP format model from file /var/folders/6w/knrbtrj125ggkrx091kd2g840000gn/T/tmprftns_f0.lp\n",
      "Reading time = 0.01 seconds\n",
      ": 951 rows, 2018 columns, 9060 nonzeros\n"
     ]
    },
    {
     "name": "stderr",
     "output_type": "stream",
     "text": [
      "Ignoring reaction 'rxn13713' since it already exists.\n",
      "Ignoring reaction 'rxn38807' since it already exists.\n"
     ]
    },
    {
     "name": "stdout",
     "output_type": "stream",
     "text": [
      "Read LP format model from file /var/folders/6w/knrbtrj125ggkrx091kd2g840000gn/T/tmp0u3pdkxv.lp\n",
      "Reading time = 0.01 seconds\n",
      ": 951 rows, 2018 columns, 9060 nonzeros\n"
     ]
    },
    {
     "name": "stderr",
     "output_type": "stream",
     "text": [
      "Ignoring reaction 'rxn13713' since it already exists.\n",
      "Ignoring reaction 'rxn38807' since it already exists.\n"
     ]
    },
    {
     "name": "stdout",
     "output_type": "stream",
     "text": [
      "Read LP format model from file /var/folders/6w/knrbtrj125ggkrx091kd2g840000gn/T/tmpvvpes6po.lp\n",
      "Reading time = 0.00 seconds\n",
      ": 949 rows, 2012 columns, 9034 nonzeros\n",
      "Processing row 138...\n",
      "Read LP format model from file /var/folders/6w/knrbtrj125ggkrx091kd2g840000gn/T/tmpapgxptc4.lp\n",
      "Reading time = 0.00 seconds\n",
      ": 949 rows, 2012 columns, 9034 nonzeros\n",
      "Read LP format model from file /var/folders/6w/knrbtrj125ggkrx091kd2g840000gn/T/tmpwnes3nyw.lp\n",
      "Reading time = 0.00 seconds\n",
      ": 952 rows, 2018 columns, 9060 nonzeros\n"
     ]
    },
    {
     "name": "stderr",
     "output_type": "stream",
     "text": [
      "Ignoring reaction 'rxn38972' since it already exists.\n",
      "Ignoring reaction 'rxn13713' since it already exists.\n"
     ]
    },
    {
     "name": "stdout",
     "output_type": "stream",
     "text": [
      "Read LP format model from file /var/folders/6w/knrbtrj125ggkrx091kd2g840000gn/T/tmp2y4anfdu.lp\n",
      "Reading time = 0.00 seconds\n",
      ": 952 rows, 2018 columns, 9060 nonzeros\n"
     ]
    },
    {
     "name": "stderr",
     "output_type": "stream",
     "text": [
      "Ignoring reaction 'rxn38972' since it already exists.\n",
      "Ignoring reaction 'rxn13713' since it already exists.\n"
     ]
    },
    {
     "name": "stdout",
     "output_type": "stream",
     "text": [
      "Read LP format model from file /var/folders/6w/knrbtrj125ggkrx091kd2g840000gn/T/tmpsedaf0ek.lp\n",
      "Reading time = 0.00 seconds\n",
      ": 952 rows, 2018 columns, 9060 nonzeros\n"
     ]
    },
    {
     "name": "stderr",
     "output_type": "stream",
     "text": [
      "Ignoring reaction 'rxn38972' since it already exists.\n",
      "Ignoring reaction 'rxn13713' since it already exists.\n"
     ]
    },
    {
     "name": "stdout",
     "output_type": "stream",
     "text": [
      "Read LP format model from file /var/folders/6w/knrbtrj125ggkrx091kd2g840000gn/T/tmp852snpwa.lp\n",
      "Reading time = 0.00 seconds\n",
      ": 952 rows, 2018 columns, 9060 nonzeros\n"
     ]
    },
    {
     "name": "stderr",
     "output_type": "stream",
     "text": [
      "Ignoring reaction 'rxn38972' since it already exists.\n",
      "Ignoring reaction 'rxn13713' since it already exists.\n"
     ]
    },
    {
     "name": "stdout",
     "output_type": "stream",
     "text": [
      "Read LP format model from file /var/folders/6w/knrbtrj125ggkrx091kd2g840000gn/T/tmp9j1czjwo.lp\n",
      "Reading time = 0.00 seconds\n",
      ": 952 rows, 2018 columns, 9060 nonzeros\n"
     ]
    },
    {
     "name": "stderr",
     "output_type": "stream",
     "text": [
      "Ignoring reaction 'rxn38972' since it already exists.\n",
      "Ignoring reaction 'rxn13713' since it already exists.\n"
     ]
    },
    {
     "name": "stdout",
     "output_type": "stream",
     "text": [
      "Read LP format model from file /var/folders/6w/knrbtrj125ggkrx091kd2g840000gn/T/tmpihk30pm7.lp\n",
      "Reading time = 0.00 seconds\n",
      ": 952 rows, 2018 columns, 9060 nonzeros\n"
     ]
    },
    {
     "name": "stderr",
     "output_type": "stream",
     "text": [
      "Ignoring reaction 'rxn38972' since it already exists.\n",
      "Ignoring reaction 'rxn13713' since it already exists.\n"
     ]
    },
    {
     "name": "stdout",
     "output_type": "stream",
     "text": [
      "Read LP format model from file /var/folders/6w/knrbtrj125ggkrx091kd2g840000gn/T/tmp1ubl54_l.lp\n",
      "Reading time = 0.00 seconds\n",
      ": 952 rows, 2018 columns, 9060 nonzeros\n"
     ]
    },
    {
     "name": "stderr",
     "output_type": "stream",
     "text": [
      "Ignoring reaction 'rxn38972' since it already exists.\n",
      "Ignoring reaction 'rxn13713' since it already exists.\n"
     ]
    },
    {
     "name": "stdout",
     "output_type": "stream",
     "text": [
      "Read LP format model from file /var/folders/6w/knrbtrj125ggkrx091kd2g840000gn/T/tmp18li70kg.lp\n",
      "Reading time = 0.00 seconds\n",
      ": 952 rows, 2018 columns, 9060 nonzeros\n"
     ]
    },
    {
     "name": "stderr",
     "output_type": "stream",
     "text": [
      "Ignoring reaction 'rxn38972' since it already exists.\n",
      "Ignoring reaction 'rxn13713' since it already exists.\n"
     ]
    },
    {
     "name": "stdout",
     "output_type": "stream",
     "text": [
      "Read LP format model from file /var/folders/6w/knrbtrj125ggkrx091kd2g840000gn/T/tmpm1_3cgah.lp\n",
      "Reading time = 0.00 seconds\n",
      ": 952 rows, 2018 columns, 9060 nonzeros\n"
     ]
    },
    {
     "name": "stderr",
     "output_type": "stream",
     "text": [
      "Ignoring reaction 'rxn38972' since it already exists.\n",
      "Ignoring reaction 'rxn13713' since it already exists.\n"
     ]
    },
    {
     "name": "stdout",
     "output_type": "stream",
     "text": [
      "Read LP format model from file /var/folders/6w/knrbtrj125ggkrx091kd2g840000gn/T/tmp98q4bj42.lp\n",
      "Reading time = 0.00 seconds\n",
      ": 952 rows, 2018 columns, 9060 nonzeros\n"
     ]
    },
    {
     "name": "stderr",
     "output_type": "stream",
     "text": [
      "Ignoring reaction 'rxn38972' since it already exists.\n",
      "Ignoring reaction 'rxn13713' since it already exists.\n"
     ]
    },
    {
     "name": "stdout",
     "output_type": "stream",
     "text": [
      "Read LP format model from file /var/folders/6w/knrbtrj125ggkrx091kd2g840000gn/T/tmpen8tlf4h.lp\n",
      "Reading time = 0.00 seconds\n",
      ": 952 rows, 2018 columns, 9060 nonzeros\n"
     ]
    },
    {
     "name": "stderr",
     "output_type": "stream",
     "text": [
      "Ignoring reaction 'rxn38972' since it already exists.\n",
      "Ignoring reaction 'rxn13713' since it already exists.\n"
     ]
    },
    {
     "name": "stdout",
     "output_type": "stream",
     "text": [
      "Read LP format model from file /var/folders/6w/knrbtrj125ggkrx091kd2g840000gn/T/tmp2mv5x0x2.lp\n",
      "Reading time = 0.00 seconds\n",
      ": 952 rows, 2018 columns, 9060 nonzeros\n"
     ]
    },
    {
     "name": "stderr",
     "output_type": "stream",
     "text": [
      "Ignoring reaction 'rxn38972' since it already exists.\n",
      "Ignoring reaction 'rxn13713' since it already exists.\n"
     ]
    },
    {
     "name": "stdout",
     "output_type": "stream",
     "text": [
      "Read LP format model from file /var/folders/6w/knrbtrj125ggkrx091kd2g840000gn/T/tmpky_zxd88.lp\n",
      "Reading time = 0.00 seconds\n",
      ": 952 rows, 2018 columns, 9060 nonzeros\n"
     ]
    },
    {
     "name": "stderr",
     "output_type": "stream",
     "text": [
      "Ignoring reaction 'rxn38972' since it already exists.\n",
      "Ignoring reaction 'rxn13713' since it already exists.\n"
     ]
    },
    {
     "name": "stdout",
     "output_type": "stream",
     "text": [
      "Read LP format model from file /var/folders/6w/knrbtrj125ggkrx091kd2g840000gn/T/tmpne56f8pb.lp\n",
      "Reading time = 0.00 seconds\n",
      ": 952 rows, 2018 columns, 9060 nonzeros\n"
     ]
    },
    {
     "name": "stderr",
     "output_type": "stream",
     "text": [
      "Ignoring reaction 'rxn38972' since it already exists.\n",
      "Ignoring reaction 'rxn13713' since it already exists.\n"
     ]
    },
    {
     "name": "stdout",
     "output_type": "stream",
     "text": [
      "Read LP format model from file /var/folders/6w/knrbtrj125ggkrx091kd2g840000gn/T/tmpjs_2krrs.lp\n",
      "Reading time = 0.00 seconds\n",
      ": 952 rows, 2018 columns, 9060 nonzeros\n"
     ]
    },
    {
     "name": "stderr",
     "output_type": "stream",
     "text": [
      "Ignoring reaction 'rxn38972' since it already exists.\n",
      "Ignoring reaction 'rxn13713' since it already exists.\n"
     ]
    },
    {
     "name": "stdout",
     "output_type": "stream",
     "text": [
      "Read LP format model from file /var/folders/6w/knrbtrj125ggkrx091kd2g840000gn/T/tmp5my0nh4v.lp\n",
      "Reading time = 0.00 seconds\n",
      ": 952 rows, 2018 columns, 9060 nonzeros\n"
     ]
    },
    {
     "name": "stderr",
     "output_type": "stream",
     "text": [
      "Ignoring reaction 'rxn38972' since it already exists.\n",
      "Ignoring reaction 'rxn13713' since it already exists.\n"
     ]
    },
    {
     "name": "stdout",
     "output_type": "stream",
     "text": [
      "Read LP format model from file /var/folders/6w/knrbtrj125ggkrx091kd2g840000gn/T/tmpr0ap7h20.lp\n",
      "Reading time = 0.00 seconds\n",
      ": 952 rows, 2018 columns, 9060 nonzeros\n"
     ]
    },
    {
     "name": "stderr",
     "output_type": "stream",
     "text": [
      "Ignoring reaction 'rxn38972' since it already exists.\n",
      "Ignoring reaction 'rxn13713' since it already exists.\n"
     ]
    },
    {
     "name": "stdout",
     "output_type": "stream",
     "text": [
      "Read LP format model from file /var/folders/6w/knrbtrj125ggkrx091kd2g840000gn/T/tmpuz5oj6n9.lp\n",
      "Reading time = 0.02 seconds\n",
      ": 952 rows, 2018 columns, 9060 nonzeros\n"
     ]
    },
    {
     "name": "stderr",
     "output_type": "stream",
     "text": [
      "Ignoring reaction 'rxn38972' since it already exists.\n",
      "Ignoring reaction 'rxn13713' since it already exists.\n"
     ]
    },
    {
     "name": "stdout",
     "output_type": "stream",
     "text": [
      "Read LP format model from file /var/folders/6w/knrbtrj125ggkrx091kd2g840000gn/T/tmpj7i94sl8.lp\n",
      "Reading time = 0.00 seconds\n",
      ": 952 rows, 2018 columns, 9060 nonzeros\n"
     ]
    },
    {
     "name": "stderr",
     "output_type": "stream",
     "text": [
      "Ignoring reaction 'rxn38972' since it already exists.\n",
      "Ignoring reaction 'rxn13713' since it already exists.\n"
     ]
    },
    {
     "name": "stdout",
     "output_type": "stream",
     "text": [
      "Read LP format model from file /var/folders/6w/knrbtrj125ggkrx091kd2g840000gn/T/tmpuqmg50z7.lp\n",
      "Reading time = 0.00 seconds\n",
      ": 952 rows, 2018 columns, 9060 nonzeros\n"
     ]
    },
    {
     "name": "stderr",
     "output_type": "stream",
     "text": [
      "Ignoring reaction 'rxn38972' since it already exists.\n",
      "Ignoring reaction 'rxn13713' since it already exists.\n"
     ]
    },
    {
     "name": "stdout",
     "output_type": "stream",
     "text": [
      "Read LP format model from file /var/folders/6w/knrbtrj125ggkrx091kd2g840000gn/T/tmpb0u9l45u.lp\n",
      "Reading time = 0.00 seconds\n",
      ": 952 rows, 2018 columns, 9060 nonzeros\n"
     ]
    },
    {
     "name": "stderr",
     "output_type": "stream",
     "text": [
      "Ignoring reaction 'rxn38972' since it already exists.\n",
      "Ignoring reaction 'rxn13713' since it already exists.\n"
     ]
    },
    {
     "name": "stdout",
     "output_type": "stream",
     "text": [
      "Read LP format model from file /var/folders/6w/knrbtrj125ggkrx091kd2g840000gn/T/tmps0uzr40b.lp\n",
      "Reading time = 0.00 seconds\n",
      ": 952 rows, 2018 columns, 9060 nonzeros\n"
     ]
    },
    {
     "name": "stderr",
     "output_type": "stream",
     "text": [
      "Ignoring reaction 'rxn38972' since it already exists.\n",
      "Ignoring reaction 'rxn13713' since it already exists.\n"
     ]
    },
    {
     "name": "stdout",
     "output_type": "stream",
     "text": [
      "Read LP format model from file /var/folders/6w/knrbtrj125ggkrx091kd2g840000gn/T/tmpn6l44fwe.lp\n",
      "Reading time = 0.00 seconds\n",
      ": 952 rows, 2018 columns, 9060 nonzeros\n"
     ]
    },
    {
     "name": "stderr",
     "output_type": "stream",
     "text": [
      "Ignoring reaction 'rxn38972' since it already exists.\n",
      "Ignoring reaction 'rxn13713' since it already exists.\n"
     ]
    },
    {
     "name": "stdout",
     "output_type": "stream",
     "text": [
      "Read LP format model from file /var/folders/6w/knrbtrj125ggkrx091kd2g840000gn/T/tmpm6fc_6pb.lp\n",
      "Reading time = 0.00 seconds\n",
      ": 952 rows, 2018 columns, 9060 nonzeros\n"
     ]
    },
    {
     "name": "stderr",
     "output_type": "stream",
     "text": [
      "Ignoring reaction 'rxn38972' since it already exists.\n",
      "Ignoring reaction 'rxn13713' since it already exists.\n"
     ]
    },
    {
     "name": "stdout",
     "output_type": "stream",
     "text": [
      "Read LP format model from file /var/folders/6w/knrbtrj125ggkrx091kd2g840000gn/T/tmpyxbrayg3.lp\n",
      "Reading time = 0.00 seconds\n",
      ": 952 rows, 2018 columns, 9060 nonzeros\n"
     ]
    },
    {
     "name": "stderr",
     "output_type": "stream",
     "text": [
      "Ignoring reaction 'rxn38972' since it already exists.\n",
      "Ignoring reaction 'rxn13713' since it already exists.\n"
     ]
    },
    {
     "name": "stdout",
     "output_type": "stream",
     "text": [
      "Read LP format model from file /var/folders/6w/knrbtrj125ggkrx091kd2g840000gn/T/tmphqwyf5kb.lp\n",
      "Reading time = 0.00 seconds\n",
      ": 952 rows, 2018 columns, 9060 nonzeros\n"
     ]
    },
    {
     "name": "stderr",
     "output_type": "stream",
     "text": [
      "Ignoring reaction 'rxn38972' since it already exists.\n",
      "Ignoring reaction 'rxn13713' since it already exists.\n"
     ]
    },
    {
     "name": "stdout",
     "output_type": "stream",
     "text": [
      "Read LP format model from file /var/folders/6w/knrbtrj125ggkrx091kd2g840000gn/T/tmps1wlow2y.lp\n",
      "Reading time = 0.00 seconds\n",
      ": 952 rows, 2018 columns, 9060 nonzeros\n"
     ]
    },
    {
     "name": "stderr",
     "output_type": "stream",
     "text": [
      "Ignoring reaction 'rxn38972' since it already exists.\n",
      "Ignoring reaction 'rxn13713' since it already exists.\n"
     ]
    },
    {
     "name": "stdout",
     "output_type": "stream",
     "text": [
      "Read LP format model from file /var/folders/6w/knrbtrj125ggkrx091kd2g840000gn/T/tmp58edmeb_.lp\n",
      "Reading time = 0.00 seconds\n",
      ": 952 rows, 2018 columns, 9060 nonzeros\n"
     ]
    },
    {
     "name": "stderr",
     "output_type": "stream",
     "text": [
      "Ignoring reaction 'rxn38972' since it already exists.\n",
      "Ignoring reaction 'rxn13713' since it already exists.\n"
     ]
    },
    {
     "name": "stdout",
     "output_type": "stream",
     "text": [
      "Read LP format model from file /var/folders/6w/knrbtrj125ggkrx091kd2g840000gn/T/tmppbebep8_.lp\n",
      "Reading time = 0.00 seconds\n",
      ": 952 rows, 2018 columns, 9060 nonzeros\n"
     ]
    },
    {
     "name": "stderr",
     "output_type": "stream",
     "text": [
      "Ignoring reaction 'rxn38972' since it already exists.\n",
      "Ignoring reaction 'rxn13713' since it already exists.\n"
     ]
    },
    {
     "name": "stdout",
     "output_type": "stream",
     "text": [
      "Read LP format model from file /var/folders/6w/knrbtrj125ggkrx091kd2g840000gn/T/tmp80z621ac.lp\n",
      "Reading time = 0.00 seconds\n",
      ": 952 rows, 2018 columns, 9060 nonzeros\n"
     ]
    },
    {
     "name": "stderr",
     "output_type": "stream",
     "text": [
      "Ignoring reaction 'rxn13713' since it already exists.\n"
     ]
    },
    {
     "name": "stdout",
     "output_type": "stream",
     "text": [
      "Read LP format model from file /var/folders/6w/knrbtrj125ggkrx091kd2g840000gn/T/tmpr10ilgfr.lp\n",
      "Reading time = 0.00 seconds\n",
      ": 952 rows, 2018 columns, 9060 nonzeros\n"
     ]
    },
    {
     "name": "stderr",
     "output_type": "stream",
     "text": [
      "Ignoring reaction 'rxn38972' since it already exists.\n",
      "Ignoring reaction 'rxn13713' since it already exists.\n"
     ]
    },
    {
     "name": "stdout",
     "output_type": "stream",
     "text": [
      "Read LP format model from file /var/folders/6w/knrbtrj125ggkrx091kd2g840000gn/T/tmpmaqbhjci.lp\n",
      "Reading time = 0.01 seconds\n",
      ": 952 rows, 2018 columns, 9060 nonzeros\n"
     ]
    },
    {
     "name": "stderr",
     "output_type": "stream",
     "text": [
      "Ignoring reaction 'rxn38972' since it already exists.\n",
      "Ignoring reaction 'rxn13713' since it already exists.\n"
     ]
    },
    {
     "name": "stdout",
     "output_type": "stream",
     "text": [
      "Read LP format model from file /var/folders/6w/knrbtrj125ggkrx091kd2g840000gn/T/tmpsxo_107i.lp\n",
      "Reading time = 0.00 seconds\n",
      ": 952 rows, 2018 columns, 9060 nonzeros\n"
     ]
    },
    {
     "name": "stderr",
     "output_type": "stream",
     "text": [
      "Ignoring reaction 'rxn38972' since it already exists.\n",
      "Ignoring reaction 'rxn13713' since it already exists.\n"
     ]
    },
    {
     "name": "stdout",
     "output_type": "stream",
     "text": [
      "Read LP format model from file /var/folders/6w/knrbtrj125ggkrx091kd2g840000gn/T/tmpv1z963x3.lp\n",
      "Reading time = 0.00 seconds\n",
      ": 952 rows, 2018 columns, 9060 nonzeros\n"
     ]
    },
    {
     "name": "stderr",
     "output_type": "stream",
     "text": [
      "Ignoring reaction 'rxn38972' since it already exists.\n",
      "Ignoring reaction 'rxn13713' since it already exists.\n"
     ]
    },
    {
     "name": "stdout",
     "output_type": "stream",
     "text": [
      "Read LP format model from file /var/folders/6w/knrbtrj125ggkrx091kd2g840000gn/T/tmp80d2laey.lp\n",
      "Reading time = 0.00 seconds\n",
      ": 952 rows, 2018 columns, 9060 nonzeros\n"
     ]
    },
    {
     "name": "stderr",
     "output_type": "stream",
     "text": [
      "Ignoring reaction 'rxn38972' since it already exists.\n",
      "Ignoring reaction 'rxn13713' since it already exists.\n"
     ]
    },
    {
     "name": "stdout",
     "output_type": "stream",
     "text": [
      "Read LP format model from file /var/folders/6w/knrbtrj125ggkrx091kd2g840000gn/T/tmpbsvlr7ag.lp\n",
      "Reading time = 0.00 seconds\n",
      ": 952 rows, 2018 columns, 9060 nonzeros\n"
     ]
    },
    {
     "name": "stderr",
     "output_type": "stream",
     "text": [
      "Ignoring reaction 'rxn38972' since it already exists.\n",
      "Ignoring reaction 'rxn13713' since it already exists.\n"
     ]
    },
    {
     "name": "stdout",
     "output_type": "stream",
     "text": [
      "Read LP format model from file /var/folders/6w/knrbtrj125ggkrx091kd2g840000gn/T/tmpfv2h4mhz.lp\n",
      "Reading time = 0.00 seconds\n",
      ": 952 rows, 2018 columns, 9060 nonzeros\n"
     ]
    },
    {
     "name": "stderr",
     "output_type": "stream",
     "text": [
      "Ignoring reaction 'rxn38972' since it already exists.\n",
      "Ignoring reaction 'rxn13713' since it already exists.\n"
     ]
    },
    {
     "name": "stdout",
     "output_type": "stream",
     "text": [
      "Read LP format model from file /var/folders/6w/knrbtrj125ggkrx091kd2g840000gn/T/tmp7yg9o7ma.lp\n",
      "Reading time = 0.00 seconds\n",
      ": 952 rows, 2018 columns, 9060 nonzeros\n"
     ]
    },
    {
     "name": "stderr",
     "output_type": "stream",
     "text": [
      "Ignoring reaction 'rxn38972' since it already exists.\n",
      "Ignoring reaction 'rxn13713' since it already exists.\n"
     ]
    },
    {
     "name": "stdout",
     "output_type": "stream",
     "text": [
      "Read LP format model from file /var/folders/6w/knrbtrj125ggkrx091kd2g840000gn/T/tmpsq7r98i5.lp\n",
      "Reading time = 0.00 seconds\n",
      ": 952 rows, 2018 columns, 9060 nonzeros\n"
     ]
    },
    {
     "name": "stderr",
     "output_type": "stream",
     "text": [
      "Ignoring reaction 'rxn38972' since it already exists.\n",
      "Ignoring reaction 'rxn13713' since it already exists.\n"
     ]
    },
    {
     "name": "stdout",
     "output_type": "stream",
     "text": [
      "Read LP format model from file /var/folders/6w/knrbtrj125ggkrx091kd2g840000gn/T/tmp28i4x3s4.lp\n",
      "Reading time = 0.00 seconds\n",
      ": 952 rows, 2018 columns, 9060 nonzeros\n"
     ]
    },
    {
     "name": "stderr",
     "output_type": "stream",
     "text": [
      "Ignoring reaction 'rxn38972' since it already exists.\n",
      "Ignoring reaction 'rxn13713' since it already exists.\n"
     ]
    },
    {
     "name": "stdout",
     "output_type": "stream",
     "text": [
      "Read LP format model from file /var/folders/6w/knrbtrj125ggkrx091kd2g840000gn/T/tmpmyhx_mjx.lp\n",
      "Reading time = 0.00 seconds\n",
      ": 952 rows, 2018 columns, 9060 nonzeros\n"
     ]
    },
    {
     "name": "stderr",
     "output_type": "stream",
     "text": [
      "Ignoring reaction 'rxn38972' since it already exists.\n",
      "Ignoring reaction 'rxn13713' since it already exists.\n"
     ]
    },
    {
     "name": "stdout",
     "output_type": "stream",
     "text": [
      "Read LP format model from file /var/folders/6w/knrbtrj125ggkrx091kd2g840000gn/T/tmpbv9ukykb.lp\n",
      "Reading time = 0.00 seconds\n",
      ": 952 rows, 2018 columns, 9060 nonzeros\n"
     ]
    },
    {
     "name": "stderr",
     "output_type": "stream",
     "text": [
      "Ignoring reaction 'rxn38972' since it already exists.\n",
      "Ignoring reaction 'rxn13713' since it already exists.\n"
     ]
    },
    {
     "name": "stdout",
     "output_type": "stream",
     "text": [
      "Read LP format model from file /var/folders/6w/knrbtrj125ggkrx091kd2g840000gn/T/tmp2pquy8fq.lp\n",
      "Reading time = 0.00 seconds\n",
      ": 952 rows, 2018 columns, 9060 nonzeros\n"
     ]
    },
    {
     "name": "stderr",
     "output_type": "stream",
     "text": [
      "Ignoring reaction 'rxn38972' since it already exists.\n",
      "Ignoring reaction 'rxn13713' since it already exists.\n"
     ]
    },
    {
     "name": "stdout",
     "output_type": "stream",
     "text": [
      "Read LP format model from file /var/folders/6w/knrbtrj125ggkrx091kd2g840000gn/T/tmpoqafnbhc.lp\n",
      "Reading time = 0.00 seconds\n",
      ": 952 rows, 2018 columns, 9060 nonzeros\n"
     ]
    },
    {
     "name": "stderr",
     "output_type": "stream",
     "text": [
      "Ignoring reaction 'rxn38972' since it already exists.\n",
      "Ignoring reaction 'rxn13713' since it already exists.\n"
     ]
    },
    {
     "name": "stdout",
     "output_type": "stream",
     "text": [
      "Read LP format model from file /var/folders/6w/knrbtrj125ggkrx091kd2g840000gn/T/tmprf0zy18o.lp\n",
      "Reading time = 0.00 seconds\n",
      ": 952 rows, 2018 columns, 9060 nonzeros\n"
     ]
    },
    {
     "name": "stderr",
     "output_type": "stream",
     "text": [
      "Ignoring reaction 'rxn38972' since it already exists.\n",
      "Ignoring reaction 'rxn13713' since it already exists.\n"
     ]
    },
    {
     "name": "stdout",
     "output_type": "stream",
     "text": [
      "Read LP format model from file /var/folders/6w/knrbtrj125ggkrx091kd2g840000gn/T/tmp8uaoz2zx.lp\n",
      "Reading time = 0.00 seconds\n",
      ": 952 rows, 2018 columns, 9060 nonzeros\n"
     ]
    },
    {
     "name": "stderr",
     "output_type": "stream",
     "text": [
      "Ignoring reaction 'rxn38972' since it already exists.\n",
      "Ignoring reaction 'rxn13713' since it already exists.\n"
     ]
    },
    {
     "name": "stdout",
     "output_type": "stream",
     "text": [
      "Read LP format model from file /var/folders/6w/knrbtrj125ggkrx091kd2g840000gn/T/tmpkacmf_53.lp\n",
      "Reading time = 0.00 seconds\n",
      ": 952 rows, 2018 columns, 9060 nonzeros\n"
     ]
    },
    {
     "name": "stderr",
     "output_type": "stream",
     "text": [
      "Ignoring reaction 'rxn38972' since it already exists.\n",
      "Ignoring reaction 'rxn13713' since it already exists.\n"
     ]
    },
    {
     "name": "stdout",
     "output_type": "stream",
     "text": [
      "Read LP format model from file /var/folders/6w/knrbtrj125ggkrx091kd2g840000gn/T/tmp4jiftll9.lp\n",
      "Reading time = 0.01 seconds\n",
      ": 952 rows, 2018 columns, 9060 nonzeros\n"
     ]
    },
    {
     "name": "stderr",
     "output_type": "stream",
     "text": [
      "Ignoring reaction 'rxn38972' since it already exists.\n",
      "Ignoring reaction 'rxn13713' since it already exists.\n"
     ]
    },
    {
     "name": "stdout",
     "output_type": "stream",
     "text": [
      "Read LP format model from file /var/folders/6w/knrbtrj125ggkrx091kd2g840000gn/T/tmpljp0vyvn.lp\n",
      "Reading time = 0.00 seconds\n",
      ": 952 rows, 2018 columns, 9060 nonzeros\n"
     ]
    },
    {
     "name": "stderr",
     "output_type": "stream",
     "text": [
      "Ignoring reaction 'rxn38972' since it already exists.\n",
      "Ignoring reaction 'rxn13713' since it already exists.\n"
     ]
    },
    {
     "name": "stdout",
     "output_type": "stream",
     "text": [
      "Read LP format model from file /var/folders/6w/knrbtrj125ggkrx091kd2g840000gn/T/tmpf76_4lkc.lp\n",
      "Reading time = 0.00 seconds\n",
      ": 952 rows, 2018 columns, 9060 nonzeros\n"
     ]
    },
    {
     "name": "stderr",
     "output_type": "stream",
     "text": [
      "Ignoring reaction 'rxn38972' since it already exists.\n",
      "Ignoring reaction 'rxn13713' since it already exists.\n"
     ]
    },
    {
     "name": "stdout",
     "output_type": "stream",
     "text": [
      "Read LP format model from file /var/folders/6w/knrbtrj125ggkrx091kd2g840000gn/T/tmp3ev1k1od.lp\n",
      "Reading time = 0.00 seconds\n",
      ": 952 rows, 2018 columns, 9060 nonzeros\n"
     ]
    },
    {
     "name": "stderr",
     "output_type": "stream",
     "text": [
      "Ignoring reaction 'rxn38972' since it already exists.\n",
      "Ignoring reaction 'rxn13713' since it already exists.\n"
     ]
    },
    {
     "name": "stdout",
     "output_type": "stream",
     "text": [
      "Read LP format model from file /var/folders/6w/knrbtrj125ggkrx091kd2g840000gn/T/tmprozcwn4y.lp\n",
      "Reading time = 0.02 seconds\n",
      ": 952 rows, 2018 columns, 9060 nonzeros\n"
     ]
    },
    {
     "name": "stderr",
     "output_type": "stream",
     "text": [
      "Ignoring reaction 'rxn38972' since it already exists.\n"
     ]
    },
    {
     "name": "stdout",
     "output_type": "stream",
     "text": [
      "Read LP format model from file /var/folders/6w/knrbtrj125ggkrx091kd2g840000gn/T/tmpzz8j__0o.lp\n",
      "Reading time = 0.00 seconds\n",
      ": 952 rows, 2018 columns, 9060 nonzeros\n"
     ]
    },
    {
     "name": "stderr",
     "output_type": "stream",
     "text": [
      "Ignoring reaction 'rxn38972' since it already exists.\n",
      "Ignoring reaction 'rxn13713' since it already exists.\n"
     ]
    },
    {
     "name": "stdout",
     "output_type": "stream",
     "text": [
      "Read LP format model from file /var/folders/6w/knrbtrj125ggkrx091kd2g840000gn/T/tmp8a3pevuz.lp\n",
      "Reading time = 0.00 seconds\n",
      ": 952 rows, 2018 columns, 9060 nonzeros\n"
     ]
    },
    {
     "name": "stderr",
     "output_type": "stream",
     "text": [
      "Ignoring reaction 'rxn38972' since it already exists.\n",
      "Ignoring reaction 'rxn13713' since it already exists.\n"
     ]
    },
    {
     "name": "stdout",
     "output_type": "stream",
     "text": [
      "Read LP format model from file /var/folders/6w/knrbtrj125ggkrx091kd2g840000gn/T/tmpu45qzzgo.lp\n",
      "Reading time = 0.00 seconds\n",
      ": 952 rows, 2018 columns, 9060 nonzeros\n"
     ]
    },
    {
     "name": "stderr",
     "output_type": "stream",
     "text": [
      "Ignoring reaction 'rxn38972' since it already exists.\n",
      "Ignoring reaction 'rxn13713' since it already exists.\n"
     ]
    },
    {
     "name": "stdout",
     "output_type": "stream",
     "text": [
      "Read LP format model from file /var/folders/6w/knrbtrj125ggkrx091kd2g840000gn/T/tmpwe5dxi51.lp\n",
      "Reading time = 0.00 seconds\n",
      ": 952 rows, 2018 columns, 9060 nonzeros\n"
     ]
    },
    {
     "name": "stderr",
     "output_type": "stream",
     "text": [
      "Ignoring reaction 'rxn38972' since it already exists.\n",
      "Ignoring reaction 'rxn13713' since it already exists.\n"
     ]
    },
    {
     "name": "stdout",
     "output_type": "stream",
     "text": [
      "Read LP format model from file /var/folders/6w/knrbtrj125ggkrx091kd2g840000gn/T/tmp_xkwszw4.lp\n",
      "Reading time = 0.00 seconds\n",
      ": 952 rows, 2018 columns, 9060 nonzeros\n"
     ]
    },
    {
     "name": "stderr",
     "output_type": "stream",
     "text": [
      "Ignoring reaction 'rxn38972' since it already exists.\n",
      "Ignoring reaction 'rxn13713' since it already exists.\n"
     ]
    },
    {
     "name": "stdout",
     "output_type": "stream",
     "text": [
      "Read LP format model from file /var/folders/6w/knrbtrj125ggkrx091kd2g840000gn/T/tmpkdrpe5iw.lp\n",
      "Reading time = 0.00 seconds\n",
      ": 952 rows, 2018 columns, 9060 nonzeros\n"
     ]
    },
    {
     "name": "stderr",
     "output_type": "stream",
     "text": [
      "Ignoring reaction 'rxn38972' since it already exists.\n",
      "Ignoring reaction 'rxn13713' since it already exists.\n"
     ]
    },
    {
     "name": "stdout",
     "output_type": "stream",
     "text": [
      "Read LP format model from file /var/folders/6w/knrbtrj125ggkrx091kd2g840000gn/T/tmpm7sxdqu2.lp\n",
      "Reading time = 0.01 seconds\n",
      ": 952 rows, 2018 columns, 9060 nonzeros\n"
     ]
    },
    {
     "name": "stderr",
     "output_type": "stream",
     "text": [
      "Ignoring reaction 'rxn38972' since it already exists.\n",
      "Ignoring reaction 'rxn13713' since it already exists.\n",
      "Exception ignored in: <bound method IPythonKernel._clean_thread_parent_frames of <ipykernel.ipkernel.IPythonKernel object at 0x106d02890>>\n",
      "Traceback (most recent call last):\n",
      "  File \"/Users/azddza/Library/Caches/pypoetry/virtualenvs/electromics-project-Ddk0_V8b-py3.10/lib/python3.10/site-packages/ipykernel/ipkernel.py\", line 775, in _clean_thread_parent_frames\n",
      "    def _clean_thread_parent_frames(\n",
      "KeyboardInterrupt: \n"
     ]
    },
    {
     "name": "stdout",
     "output_type": "stream",
     "text": [
      "Read LP format model from file /var/folders/6w/knrbtrj125ggkrx091kd2g840000gn/T/tmpyhn1c8hs.lp\n",
      "Reading time = 0.02 seconds\n",
      ": 952 rows, 2018 columns, 9060 nonzeros\n"
     ]
    },
    {
     "name": "stderr",
     "output_type": "stream",
     "text": [
      "Ignoring reaction 'rxn38972' since it already exists.\n",
      "Ignoring reaction 'rxn13713' since it already exists.\n"
     ]
    },
    {
     "name": "stdout",
     "output_type": "stream",
     "text": [
      "Read LP format model from file /var/folders/6w/knrbtrj125ggkrx091kd2g840000gn/T/tmpo1h2g0h7.lp\n",
      "Reading time = 0.01 seconds\n",
      ": 952 rows, 2018 columns, 9060 nonzeros\n"
     ]
    },
    {
     "name": "stderr",
     "output_type": "stream",
     "text": [
      "Ignoring reaction 'rxn38972' since it already exists.\n",
      "Ignoring reaction 'rxn13713' since it already exists.\n"
     ]
    },
    {
     "name": "stdout",
     "output_type": "stream",
     "text": [
      "Read LP format model from file /var/folders/6w/knrbtrj125ggkrx091kd2g840000gn/T/tmpr7t52op4.lp\n",
      "Reading time = 0.01 seconds\n",
      ": 952 rows, 2018 columns, 9060 nonzeros\n"
     ]
    },
    {
     "name": "stderr",
     "output_type": "stream",
     "text": [
      "Ignoring reaction 'rxn38972' since it already exists.\n",
      "Ignoring reaction 'rxn13713' since it already exists.\n"
     ]
    },
    {
     "name": "stdout",
     "output_type": "stream",
     "text": [
      "Read LP format model from file /var/folders/6w/knrbtrj125ggkrx091kd2g840000gn/T/tmplhu7ypwx.lp\n",
      "Reading time = 0.01 seconds\n",
      ": 952 rows, 2018 columns, 9060 nonzeros\n"
     ]
    },
    {
     "name": "stderr",
     "output_type": "stream",
     "text": [
      "Ignoring reaction 'rxn38972' since it already exists.\n",
      "Ignoring reaction 'rxn13713' since it already exists.\n"
     ]
    },
    {
     "name": "stdout",
     "output_type": "stream",
     "text": [
      "Read LP format model from file /var/folders/6w/knrbtrj125ggkrx091kd2g840000gn/T/tmpz_zohier.lp\n",
      "Reading time = 0.01 seconds\n",
      ": 952 rows, 2018 columns, 9060 nonzeros\n"
     ]
    },
    {
     "name": "stderr",
     "output_type": "stream",
     "text": [
      "Ignoring reaction 'rxn38972' since it already exists.\n",
      "Ignoring reaction 'rxn13713' since it already exists.\n"
     ]
    },
    {
     "name": "stdout",
     "output_type": "stream",
     "text": [
      "Read LP format model from file /var/folders/6w/knrbtrj125ggkrx091kd2g840000gn/T/tmp5d06k0f5.lp\n",
      "Reading time = 0.00 seconds\n",
      ": 952 rows, 2018 columns, 9060 nonzeros\n"
     ]
    },
    {
     "name": "stderr",
     "output_type": "stream",
     "text": [
      "Ignoring reaction 'rxn38972' since it already exists.\n",
      "Ignoring reaction 'rxn13713' since it already exists.\n"
     ]
    },
    {
     "name": "stdout",
     "output_type": "stream",
     "text": [
      "Read LP format model from file /var/folders/6w/knrbtrj125ggkrx091kd2g840000gn/T/tmp2exfkpvk.lp\n",
      "Reading time = 0.00 seconds\n",
      ": 952 rows, 2018 columns, 9060 nonzeros\n"
     ]
    },
    {
     "name": "stderr",
     "output_type": "stream",
     "text": [
      "Ignoring reaction 'rxn38972' since it already exists.\n",
      "Ignoring reaction 'rxn13713' since it already exists.\n"
     ]
    },
    {
     "name": "stdout",
     "output_type": "stream",
     "text": [
      "Read LP format model from file /var/folders/6w/knrbtrj125ggkrx091kd2g840000gn/T/tmp4dan6yx7.lp\n",
      "Reading time = 0.01 seconds\n",
      ": 949 rows, 2012 columns, 9034 nonzeros\n",
      "Processing row 147...\n",
      "Read LP format model from file /var/folders/6w/knrbtrj125ggkrx091kd2g840000gn/T/tmpdgqyyskh.lp\n",
      "Reading time = 0.01 seconds\n",
      ": 949 rows, 2012 columns, 9034 nonzeros\n",
      "Read LP format model from file /var/folders/6w/knrbtrj125ggkrx091kd2g840000gn/T/tmpo6i48154.lp\n",
      "Reading time = 0.00 seconds\n",
      ": 952 rows, 2018 columns, 9062 nonzeros\n"
     ]
    },
    {
     "name": "stderr",
     "output_type": "stream",
     "text": [
      "Ignoring reaction 'rxn23640' since it already exists.\n",
      "Ignoring reaction 'rxn00994' since it already exists.\n"
     ]
    },
    {
     "name": "stdout",
     "output_type": "stream",
     "text": [
      "Read LP format model from file /var/folders/6w/knrbtrj125ggkrx091kd2g840000gn/T/tmp9mkfedal.lp\n",
      "Reading time = 0.00 seconds\n",
      ": 952 rows, 2018 columns, 9062 nonzeros\n"
     ]
    },
    {
     "name": "stderr",
     "output_type": "stream",
     "text": [
      "Ignoring reaction 'rxn23640' since it already exists.\n",
      "Ignoring reaction 'rxn00994' since it already exists.\n"
     ]
    },
    {
     "name": "stdout",
     "output_type": "stream",
     "text": [
      "Read LP format model from file /var/folders/6w/knrbtrj125ggkrx091kd2g840000gn/T/tmpzu5g_i8q.lp\n",
      "Reading time = 0.01 seconds\n",
      ": 952 rows, 2018 columns, 9062 nonzeros\n"
     ]
    },
    {
     "name": "stderr",
     "output_type": "stream",
     "text": [
      "Ignoring reaction 'rxn23640' since it already exists.\n",
      "Ignoring reaction 'rxn00994' since it already exists.\n"
     ]
    },
    {
     "name": "stdout",
     "output_type": "stream",
     "text": [
      "Read LP format model from file /var/folders/6w/knrbtrj125ggkrx091kd2g840000gn/T/tmpnrxf59jj.lp\n",
      "Reading time = 0.01 seconds\n",
      ": 952 rows, 2018 columns, 9062 nonzeros\n"
     ]
    },
    {
     "name": "stderr",
     "output_type": "stream",
     "text": [
      "Ignoring reaction 'rxn23640' since it already exists.\n",
      "Ignoring reaction 'rxn00994' since it already exists.\n"
     ]
    },
    {
     "name": "stdout",
     "output_type": "stream",
     "text": [
      "Read LP format model from file /var/folders/6w/knrbtrj125ggkrx091kd2g840000gn/T/tmpzv5fc6gv.lp\n",
      "Reading time = 0.01 seconds\n",
      ": 952 rows, 2018 columns, 9062 nonzeros\n"
     ]
    },
    {
     "name": "stderr",
     "output_type": "stream",
     "text": [
      "Ignoring reaction 'rxn23640' since it already exists.\n",
      "Ignoring reaction 'rxn00994' since it already exists.\n"
     ]
    },
    {
     "name": "stdout",
     "output_type": "stream",
     "text": [
      "Read LP format model from file /var/folders/6w/knrbtrj125ggkrx091kd2g840000gn/T/tmpwuome0c9.lp\n",
      "Reading time = 0.01 seconds\n",
      ": 952 rows, 2018 columns, 9062 nonzeros\n"
     ]
    },
    {
     "name": "stderr",
     "output_type": "stream",
     "text": [
      "Ignoring reaction 'rxn23640' since it already exists.\n",
      "Ignoring reaction 'rxn00994' since it already exists.\n"
     ]
    },
    {
     "name": "stdout",
     "output_type": "stream",
     "text": [
      "Read LP format model from file /var/folders/6w/knrbtrj125ggkrx091kd2g840000gn/T/tmp8cmn6qea.lp\n",
      "Reading time = 0.01 seconds\n",
      ": 952 rows, 2018 columns, 9062 nonzeros\n"
     ]
    },
    {
     "name": "stderr",
     "output_type": "stream",
     "text": [
      "Ignoring reaction 'rxn23640' since it already exists.\n",
      "Ignoring reaction 'rxn00994' since it already exists.\n"
     ]
    },
    {
     "name": "stdout",
     "output_type": "stream",
     "text": [
      "Read LP format model from file /var/folders/6w/knrbtrj125ggkrx091kd2g840000gn/T/tmpz897c58u.lp\n",
      "Reading time = 0.01 seconds\n",
      ": 952 rows, 2018 columns, 9062 nonzeros\n"
     ]
    },
    {
     "name": "stderr",
     "output_type": "stream",
     "text": [
      "Ignoring reaction 'rxn23640' since it already exists.\n",
      "Ignoring reaction 'rxn00994' since it already exists.\n"
     ]
    },
    {
     "name": "stdout",
     "output_type": "stream",
     "text": [
      "Read LP format model from file /var/folders/6w/knrbtrj125ggkrx091kd2g840000gn/T/tmpijkitjcs.lp\n",
      "Reading time = 0.00 seconds\n",
      ": 952 rows, 2018 columns, 9062 nonzeros\n"
     ]
    },
    {
     "name": "stderr",
     "output_type": "stream",
     "text": [
      "Ignoring reaction 'rxn23640' since it already exists.\n",
      "Ignoring reaction 'rxn00994' since it already exists.\n"
     ]
    },
    {
     "name": "stdout",
     "output_type": "stream",
     "text": [
      "Read LP format model from file /var/folders/6w/knrbtrj125ggkrx091kd2g840000gn/T/tmpe50hqy0e.lp\n",
      "Reading time = 0.01 seconds\n",
      ": 952 rows, 2018 columns, 9062 nonzeros\n"
     ]
    },
    {
     "name": "stderr",
     "output_type": "stream",
     "text": [
      "Ignoring reaction 'rxn23640' since it already exists.\n",
      "Ignoring reaction 'rxn00994' since it already exists.\n"
     ]
    },
    {
     "name": "stdout",
     "output_type": "stream",
     "text": [
      "Read LP format model from file /var/folders/6w/knrbtrj125ggkrx091kd2g840000gn/T/tmp727h8vnb.lp\n",
      "Reading time = 0.01 seconds\n",
      ": 952 rows, 2018 columns, 9062 nonzeros\n"
     ]
    },
    {
     "name": "stderr",
     "output_type": "stream",
     "text": [
      "Ignoring reaction 'rxn23640' since it already exists.\n",
      "Ignoring reaction 'rxn00994' since it already exists.\n"
     ]
    },
    {
     "name": "stdout",
     "output_type": "stream",
     "text": [
      "Read LP format model from file /var/folders/6w/knrbtrj125ggkrx091kd2g840000gn/T/tmpvdj4a2kv.lp\n",
      "Reading time = 0.01 seconds\n",
      ": 952 rows, 2018 columns, 9062 nonzeros\n"
     ]
    },
    {
     "name": "stderr",
     "output_type": "stream",
     "text": [
      "Ignoring reaction 'rxn23640' since it already exists.\n",
      "Ignoring reaction 'rxn00994' since it already exists.\n"
     ]
    },
    {
     "name": "stdout",
     "output_type": "stream",
     "text": [
      "Read LP format model from file /var/folders/6w/knrbtrj125ggkrx091kd2g840000gn/T/tmpvmck6gta.lp\n",
      "Reading time = 0.01 seconds\n",
      ": 952 rows, 2018 columns, 9062 nonzeros\n"
     ]
    },
    {
     "name": "stderr",
     "output_type": "stream",
     "text": [
      "Ignoring reaction 'rxn23640' since it already exists.\n",
      "Ignoring reaction 'rxn00994' since it already exists.\n"
     ]
    },
    {
     "name": "stdout",
     "output_type": "stream",
     "text": [
      "Read LP format model from file /var/folders/6w/knrbtrj125ggkrx091kd2g840000gn/T/tmp6eddfcd9.lp\n",
      "Reading time = 0.01 seconds\n",
      ": 952 rows, 2018 columns, 9062 nonzeros\n"
     ]
    },
    {
     "name": "stderr",
     "output_type": "stream",
     "text": [
      "Ignoring reaction 'rxn23640' since it already exists.\n",
      "Ignoring reaction 'rxn00994' since it already exists.\n"
     ]
    },
    {
     "name": "stdout",
     "output_type": "stream",
     "text": [
      "Read LP format model from file /var/folders/6w/knrbtrj125ggkrx091kd2g840000gn/T/tmp71k2qbeu.lp\n",
      "Reading time = 0.01 seconds\n",
      ": 952 rows, 2018 columns, 9062 nonzeros\n"
     ]
    },
    {
     "name": "stderr",
     "output_type": "stream",
     "text": [
      "Ignoring reaction 'rxn23640' since it already exists.\n",
      "Ignoring reaction 'rxn00994' since it already exists.\n"
     ]
    },
    {
     "name": "stdout",
     "output_type": "stream",
     "text": [
      "Read LP format model from file /var/folders/6w/knrbtrj125ggkrx091kd2g840000gn/T/tmptxd2_lai.lp\n",
      "Reading time = 0.00 seconds\n",
      ": 952 rows, 2018 columns, 9062 nonzeros\n"
     ]
    },
    {
     "name": "stderr",
     "output_type": "stream",
     "text": [
      "Ignoring reaction 'rxn23640' since it already exists.\n",
      "Ignoring reaction 'rxn00994' since it already exists.\n"
     ]
    },
    {
     "name": "stdout",
     "output_type": "stream",
     "text": [
      "Read LP format model from file /var/folders/6w/knrbtrj125ggkrx091kd2g840000gn/T/tmpw9df7f19.lp\n",
      "Reading time = 0.00 seconds\n",
      ": 952 rows, 2018 columns, 9062 nonzeros\n"
     ]
    },
    {
     "name": "stderr",
     "output_type": "stream",
     "text": [
      "Ignoring reaction 'rxn23640' since it already exists.\n",
      "Ignoring reaction 'rxn00994' since it already exists.\n"
     ]
    },
    {
     "name": "stdout",
     "output_type": "stream",
     "text": [
      "Read LP format model from file /var/folders/6w/knrbtrj125ggkrx091kd2g840000gn/T/tmp_5jexyaq.lp\n",
      "Reading time = 0.01 seconds\n",
      ": 952 rows, 2018 columns, 9062 nonzeros\n"
     ]
    },
    {
     "name": "stderr",
     "output_type": "stream",
     "text": [
      "Ignoring reaction 'rxn00994' since it already exists.\n"
     ]
    },
    {
     "name": "stdout",
     "output_type": "stream",
     "text": [
      "Read LP format model from file /var/folders/6w/knrbtrj125ggkrx091kd2g840000gn/T/tmp67m5pasf.lp\n",
      "Reading time = 0.00 seconds\n",
      ": 952 rows, 2018 columns, 9062 nonzeros\n"
     ]
    },
    {
     "name": "stderr",
     "output_type": "stream",
     "text": [
      "Ignoring reaction 'rxn23640' since it already exists.\n",
      "Ignoring reaction 'rxn00994' since it already exists.\n"
     ]
    },
    {
     "name": "stdout",
     "output_type": "stream",
     "text": [
      "Read LP format model from file /var/folders/6w/knrbtrj125ggkrx091kd2g840000gn/T/tmp3y7mws_s.lp\n",
      "Reading time = 0.01 seconds\n",
      ": 952 rows, 2018 columns, 9062 nonzeros\n"
     ]
    },
    {
     "name": "stderr",
     "output_type": "stream",
     "text": [
      "Ignoring reaction 'rxn23640' since it already exists.\n",
      "Ignoring reaction 'rxn00994' since it already exists.\n"
     ]
    },
    {
     "name": "stdout",
     "output_type": "stream",
     "text": [
      "Read LP format model from file /var/folders/6w/knrbtrj125ggkrx091kd2g840000gn/T/tmp4rr4erdc.lp\n",
      "Reading time = 0.01 seconds\n",
      ": 952 rows, 2018 columns, 9062 nonzeros\n"
     ]
    },
    {
     "name": "stderr",
     "output_type": "stream",
     "text": [
      "Ignoring reaction 'rxn23640' since it already exists.\n",
      "Ignoring reaction 'rxn00994' since it already exists.\n"
     ]
    },
    {
     "name": "stdout",
     "output_type": "stream",
     "text": [
      "Read LP format model from file /var/folders/6w/knrbtrj125ggkrx091kd2g840000gn/T/tmp_ldfy4od.lp\n",
      "Reading time = 0.01 seconds\n",
      ": 952 rows, 2018 columns, 9062 nonzeros\n"
     ]
    },
    {
     "name": "stderr",
     "output_type": "stream",
     "text": [
      "Ignoring reaction 'rxn23640' since it already exists.\n",
      "Ignoring reaction 'rxn00994' since it already exists.\n"
     ]
    },
    {
     "name": "stdout",
     "output_type": "stream",
     "text": [
      "Read LP format model from file /var/folders/6w/knrbtrj125ggkrx091kd2g840000gn/T/tmpwq67flcw.lp\n",
      "Reading time = 0.01 seconds\n",
      ": 952 rows, 2018 columns, 9062 nonzeros\n"
     ]
    },
    {
     "name": "stderr",
     "output_type": "stream",
     "text": [
      "Ignoring reaction 'rxn23640' since it already exists.\n",
      "Ignoring reaction 'rxn00994' since it already exists.\n"
     ]
    },
    {
     "name": "stdout",
     "output_type": "stream",
     "text": [
      "Read LP format model from file /var/folders/6w/knrbtrj125ggkrx091kd2g840000gn/T/tmpfjbs3dwa.lp\n",
      "Reading time = 0.01 seconds\n",
      ": 952 rows, 2018 columns, 9062 nonzeros\n"
     ]
    },
    {
     "name": "stderr",
     "output_type": "stream",
     "text": [
      "Ignoring reaction 'rxn23640' since it already exists.\n",
      "Ignoring reaction 'rxn00994' since it already exists.\n"
     ]
    },
    {
     "name": "stdout",
     "output_type": "stream",
     "text": [
      "Read LP format model from file /var/folders/6w/knrbtrj125ggkrx091kd2g840000gn/T/tmpdhyvd1qz.lp\n",
      "Reading time = 0.00 seconds\n",
      ": 952 rows, 2018 columns, 9062 nonzeros\n"
     ]
    },
    {
     "name": "stderr",
     "output_type": "stream",
     "text": [
      "Ignoring reaction 'rxn23640' since it already exists.\n",
      "Ignoring reaction 'rxn00994' since it already exists.\n"
     ]
    },
    {
     "name": "stdout",
     "output_type": "stream",
     "text": [
      "Read LP format model from file /var/folders/6w/knrbtrj125ggkrx091kd2g840000gn/T/tmpkcp0w92i.lp\n",
      "Reading time = 0.00 seconds\n",
      ": 952 rows, 2018 columns, 9062 nonzeros\n"
     ]
    },
    {
     "name": "stderr",
     "output_type": "stream",
     "text": [
      "Ignoring reaction 'rxn23640' since it already exists.\n",
      "Ignoring reaction 'rxn00994' since it already exists.\n"
     ]
    },
    {
     "name": "stdout",
     "output_type": "stream",
     "text": [
      "Read LP format model from file /var/folders/6w/knrbtrj125ggkrx091kd2g840000gn/T/tmp3k_zb3sm.lp\n",
      "Reading time = 0.01 seconds\n",
      ": 952 rows, 2018 columns, 9062 nonzeros\n"
     ]
    },
    {
     "name": "stderr",
     "output_type": "stream",
     "text": [
      "Ignoring reaction 'rxn23640' since it already exists.\n",
      "Ignoring reaction 'rxn00994' since it already exists.\n"
     ]
    },
    {
     "name": "stdout",
     "output_type": "stream",
     "text": [
      "Read LP format model from file /var/folders/6w/knrbtrj125ggkrx091kd2g840000gn/T/tmpvj3_jrgz.lp\n",
      "Reading time = 0.00 seconds\n",
      ": 952 rows, 2018 columns, 9062 nonzeros\n"
     ]
    },
    {
     "name": "stderr",
     "output_type": "stream",
     "text": [
      "Ignoring reaction 'rxn23640' since it already exists.\n",
      "Ignoring reaction 'rxn00994' since it already exists.\n"
     ]
    },
    {
     "name": "stdout",
     "output_type": "stream",
     "text": [
      "Read LP format model from file /var/folders/6w/knrbtrj125ggkrx091kd2g840000gn/T/tmpyuwa5g9h.lp\n",
      "Reading time = 0.01 seconds\n",
      ": 952 rows, 2018 columns, 9062 nonzeros\n"
     ]
    },
    {
     "name": "stderr",
     "output_type": "stream",
     "text": [
      "Ignoring reaction 'rxn23640' since it already exists.\n",
      "Ignoring reaction 'rxn00994' since it already exists.\n"
     ]
    },
    {
     "name": "stdout",
     "output_type": "stream",
     "text": [
      "Read LP format model from file /var/folders/6w/knrbtrj125ggkrx091kd2g840000gn/T/tmp9aoqnfed.lp\n",
      "Reading time = 0.01 seconds\n",
      ": 952 rows, 2018 columns, 9062 nonzeros\n"
     ]
    },
    {
     "name": "stderr",
     "output_type": "stream",
     "text": [
      "Ignoring reaction 'rxn23640' since it already exists.\n",
      "Ignoring reaction 'rxn00994' since it already exists.\n"
     ]
    },
    {
     "name": "stdout",
     "output_type": "stream",
     "text": [
      "Read LP format model from file /var/folders/6w/knrbtrj125ggkrx091kd2g840000gn/T/tmp5wbe7i7o.lp\n",
      "Reading time = 0.00 seconds\n",
      ": 952 rows, 2018 columns, 9062 nonzeros\n"
     ]
    },
    {
     "name": "stderr",
     "output_type": "stream",
     "text": [
      "Ignoring reaction 'rxn23640' since it already exists.\n",
      "Ignoring reaction 'rxn00994' since it already exists.\n"
     ]
    },
    {
     "name": "stdout",
     "output_type": "stream",
     "text": [
      "Read LP format model from file /var/folders/6w/knrbtrj125ggkrx091kd2g840000gn/T/tmpm9jofq4h.lp\n",
      "Reading time = 0.01 seconds\n",
      ": 952 rows, 2018 columns, 9062 nonzeros\n"
     ]
    },
    {
     "name": "stderr",
     "output_type": "stream",
     "text": [
      "Ignoring reaction 'rxn23640' since it already exists.\n",
      "Ignoring reaction 'rxn00994' since it already exists.\n"
     ]
    },
    {
     "name": "stdout",
     "output_type": "stream",
     "text": [
      "Read LP format model from file /var/folders/6w/knrbtrj125ggkrx091kd2g840000gn/T/tmpn8w8k4zo.lp\n",
      "Reading time = 0.01 seconds\n",
      ": 952 rows, 2018 columns, 9062 nonzeros\n"
     ]
    },
    {
     "name": "stderr",
     "output_type": "stream",
     "text": [
      "Ignoring reaction 'rxn23640' since it already exists.\n",
      "Ignoring reaction 'rxn00994' since it already exists.\n"
     ]
    },
    {
     "name": "stdout",
     "output_type": "stream",
     "text": [
      "Read LP format model from file /var/folders/6w/knrbtrj125ggkrx091kd2g840000gn/T/tmp6dgodlx9.lp\n",
      "Reading time = 0.01 seconds\n",
      ": 952 rows, 2018 columns, 9062 nonzeros\n"
     ]
    },
    {
     "name": "stderr",
     "output_type": "stream",
     "text": [
      "Ignoring reaction 'rxn23640' since it already exists.\n",
      "Ignoring reaction 'rxn00994' since it already exists.\n"
     ]
    },
    {
     "name": "stdout",
     "output_type": "stream",
     "text": [
      "Read LP format model from file /var/folders/6w/knrbtrj125ggkrx091kd2g840000gn/T/tmpzv7tbars.lp\n",
      "Reading time = 0.01 seconds\n",
      ": 952 rows, 2018 columns, 9062 nonzeros\n"
     ]
    },
    {
     "name": "stderr",
     "output_type": "stream",
     "text": [
      "Ignoring reaction 'rxn23640' since it already exists.\n",
      "Ignoring reaction 'rxn00994' since it already exists.\n"
     ]
    },
    {
     "name": "stdout",
     "output_type": "stream",
     "text": [
      "Read LP format model from file /var/folders/6w/knrbtrj125ggkrx091kd2g840000gn/T/tmp2rh1huxp.lp\n",
      "Reading time = 0.01 seconds\n",
      ": 952 rows, 2018 columns, 9062 nonzeros\n"
     ]
    },
    {
     "name": "stderr",
     "output_type": "stream",
     "text": [
      "Ignoring reaction 'rxn23640' since it already exists.\n",
      "Ignoring reaction 'rxn00994' since it already exists.\n"
     ]
    },
    {
     "name": "stdout",
     "output_type": "stream",
     "text": [
      "Read LP format model from file /var/folders/6w/knrbtrj125ggkrx091kd2g840000gn/T/tmpojceutyz.lp\n",
      "Reading time = 0.00 seconds\n",
      ": 952 rows, 2018 columns, 9062 nonzeros\n"
     ]
    },
    {
     "name": "stderr",
     "output_type": "stream",
     "text": [
      "Ignoring reaction 'rxn23640' since it already exists.\n",
      "Ignoring reaction 'rxn00994' since it already exists.\n"
     ]
    },
    {
     "name": "stdout",
     "output_type": "stream",
     "text": [
      "Read LP format model from file /var/folders/6w/knrbtrj125ggkrx091kd2g840000gn/T/tmp942n_mgv.lp\n",
      "Reading time = 0.00 seconds\n",
      ": 952 rows, 2018 columns, 9062 nonzeros\n"
     ]
    },
    {
     "name": "stderr",
     "output_type": "stream",
     "text": [
      "Ignoring reaction 'rxn23640' since it already exists.\n",
      "Ignoring reaction 'rxn00994' since it already exists.\n"
     ]
    },
    {
     "name": "stdout",
     "output_type": "stream",
     "text": [
      "Read LP format model from file /var/folders/6w/knrbtrj125ggkrx091kd2g840000gn/T/tmp0l_mq5ua.lp\n",
      "Reading time = 0.01 seconds\n",
      ": 952 rows, 2018 columns, 9062 nonzeros\n"
     ]
    },
    {
     "name": "stderr",
     "output_type": "stream",
     "text": [
      "Ignoring reaction 'rxn23640' since it already exists.\n",
      "Ignoring reaction 'rxn00994' since it already exists.\n"
     ]
    },
    {
     "name": "stdout",
     "output_type": "stream",
     "text": [
      "Read LP format model from file /var/folders/6w/knrbtrj125ggkrx091kd2g840000gn/T/tmpczysyz58.lp\n",
      "Reading time = 0.00 seconds\n",
      ": 952 rows, 2018 columns, 9062 nonzeros\n"
     ]
    },
    {
     "name": "stderr",
     "output_type": "stream",
     "text": [
      "Ignoring reaction 'rxn23640' since it already exists.\n",
      "Ignoring reaction 'rxn00994' since it already exists.\n"
     ]
    },
    {
     "name": "stdout",
     "output_type": "stream",
     "text": [
      "Read LP format model from file /var/folders/6w/knrbtrj125ggkrx091kd2g840000gn/T/tmp0kk3ev1s.lp\n",
      "Reading time = 0.00 seconds\n",
      ": 952 rows, 2018 columns, 9062 nonzeros\n"
     ]
    },
    {
     "name": "stderr",
     "output_type": "stream",
     "text": [
      "Ignoring reaction 'rxn23640' since it already exists.\n",
      "Ignoring reaction 'rxn00994' since it already exists.\n"
     ]
    },
    {
     "name": "stdout",
     "output_type": "stream",
     "text": [
      "Read LP format model from file /var/folders/6w/knrbtrj125ggkrx091kd2g840000gn/T/tmpbjzfym8_.lp\n",
      "Reading time = 0.01 seconds\n",
      ": 952 rows, 2018 columns, 9062 nonzeros\n"
     ]
    },
    {
     "name": "stderr",
     "output_type": "stream",
     "text": [
      "Ignoring reaction 'rxn23640' since it already exists.\n",
      "Ignoring reaction 'rxn00994' since it already exists.\n"
     ]
    },
    {
     "name": "stdout",
     "output_type": "stream",
     "text": [
      "Read LP format model from file /var/folders/6w/knrbtrj125ggkrx091kd2g840000gn/T/tmpncf9c1_v.lp\n",
      "Reading time = 0.01 seconds\n",
      ": 952 rows, 2018 columns, 9062 nonzeros\n"
     ]
    },
    {
     "name": "stderr",
     "output_type": "stream",
     "text": [
      "Ignoring reaction 'rxn23640' since it already exists.\n",
      "Ignoring reaction 'rxn00994' since it already exists.\n"
     ]
    },
    {
     "name": "stdout",
     "output_type": "stream",
     "text": [
      "Read LP format model from file /var/folders/6w/knrbtrj125ggkrx091kd2g840000gn/T/tmp_kxqhtu4.lp\n",
      "Reading time = 0.00 seconds\n",
      ": 952 rows, 2018 columns, 9062 nonzeros\n"
     ]
    },
    {
     "name": "stderr",
     "output_type": "stream",
     "text": [
      "Ignoring reaction 'rxn23640' since it already exists.\n",
      "Ignoring reaction 'rxn00994' since it already exists.\n"
     ]
    },
    {
     "name": "stdout",
     "output_type": "stream",
     "text": [
      "Read LP format model from file /var/folders/6w/knrbtrj125ggkrx091kd2g840000gn/T/tmps2cis2gx.lp\n",
      "Reading time = 0.01 seconds\n",
      ": 952 rows, 2018 columns, 9062 nonzeros\n"
     ]
    },
    {
     "name": "stderr",
     "output_type": "stream",
     "text": [
      "Ignoring reaction 'rxn23640' since it already exists.\n"
     ]
    },
    {
     "name": "stdout",
     "output_type": "stream",
     "text": [
      "Read LP format model from file /var/folders/6w/knrbtrj125ggkrx091kd2g840000gn/T/tmpd9ctqpye.lp\n",
      "Reading time = 0.07 seconds\n",
      ": 952 rows, 2018 columns, 9062 nonzeros\n"
     ]
    },
    {
     "name": "stderr",
     "output_type": "stream",
     "text": [
      "Ignoring reaction 'rxn23640' since it already exists.\n",
      "Ignoring reaction 'rxn00994' since it already exists.\n"
     ]
    },
    {
     "name": "stdout",
     "output_type": "stream",
     "text": [
      "Read LP format model from file /var/folders/6w/knrbtrj125ggkrx091kd2g840000gn/T/tmpabdux9d6.lp\n",
      "Reading time = 0.01 seconds\n",
      ": 952 rows, 2018 columns, 9062 nonzeros\n"
     ]
    },
    {
     "name": "stderr",
     "output_type": "stream",
     "text": [
      "Ignoring reaction 'rxn23640' since it already exists.\n",
      "Ignoring reaction 'rxn00994' since it already exists.\n"
     ]
    },
    {
     "name": "stdout",
     "output_type": "stream",
     "text": [
      "Read LP format model from file /var/folders/6w/knrbtrj125ggkrx091kd2g840000gn/T/tmpxpgl_m_n.lp\n",
      "Reading time = 0.01 seconds\n",
      ": 952 rows, 2018 columns, 9062 nonzeros\n"
     ]
    },
    {
     "name": "stderr",
     "output_type": "stream",
     "text": [
      "Ignoring reaction 'rxn23640' since it already exists.\n",
      "Ignoring reaction 'rxn00994' since it already exists.\n"
     ]
    },
    {
     "name": "stdout",
     "output_type": "stream",
     "text": [
      "Read LP format model from file /var/folders/6w/knrbtrj125ggkrx091kd2g840000gn/T/tmp818a5qlt.lp\n",
      "Reading time = 0.01 seconds\n",
      ": 952 rows, 2018 columns, 9062 nonzeros\n"
     ]
    },
    {
     "name": "stderr",
     "output_type": "stream",
     "text": [
      "Ignoring reaction 'rxn23640' since it already exists.\n",
      "Ignoring reaction 'rxn00994' since it already exists.\n"
     ]
    },
    {
     "name": "stdout",
     "output_type": "stream",
     "text": [
      "Read LP format model from file /var/folders/6w/knrbtrj125ggkrx091kd2g840000gn/T/tmpc_1_f3ns.lp\n",
      "Reading time = 0.01 seconds\n",
      ": 952 rows, 2018 columns, 9062 nonzeros\n"
     ]
    },
    {
     "name": "stderr",
     "output_type": "stream",
     "text": [
      "Ignoring reaction 'rxn23640' since it already exists.\n",
      "Ignoring reaction 'rxn00994' since it already exists.\n"
     ]
    },
    {
     "name": "stdout",
     "output_type": "stream",
     "text": [
      "Read LP format model from file /var/folders/6w/knrbtrj125ggkrx091kd2g840000gn/T/tmpwx7b1xz9.lp\n",
      "Reading time = 0.01 seconds\n",
      ": 952 rows, 2018 columns, 9062 nonzeros\n"
     ]
    },
    {
     "name": "stderr",
     "output_type": "stream",
     "text": [
      "Ignoring reaction 'rxn23640' since it already exists.\n",
      "Ignoring reaction 'rxn00994' since it already exists.\n"
     ]
    },
    {
     "name": "stdout",
     "output_type": "stream",
     "text": [
      "Read LP format model from file /var/folders/6w/knrbtrj125ggkrx091kd2g840000gn/T/tmpj6bqw39d.lp\n",
      "Reading time = 0.00 seconds\n",
      ": 952 rows, 2018 columns, 9062 nonzeros\n"
     ]
    },
    {
     "name": "stderr",
     "output_type": "stream",
     "text": [
      "Ignoring reaction 'rxn23640' since it already exists.\n",
      "Ignoring reaction 'rxn00994' since it already exists.\n"
     ]
    },
    {
     "name": "stdout",
     "output_type": "stream",
     "text": [
      "Read LP format model from file /var/folders/6w/knrbtrj125ggkrx091kd2g840000gn/T/tmpff0w2iwd.lp\n",
      "Reading time = 0.01 seconds\n",
      ": 952 rows, 2018 columns, 9062 nonzeros\n"
     ]
    },
    {
     "name": "stderr",
     "output_type": "stream",
     "text": [
      "Ignoring reaction 'rxn23640' since it already exists.\n",
      "Ignoring reaction 'rxn00994' since it already exists.\n"
     ]
    },
    {
     "name": "stdout",
     "output_type": "stream",
     "text": [
      "Read LP format model from file /var/folders/6w/knrbtrj125ggkrx091kd2g840000gn/T/tmp9vbbluxh.lp\n",
      "Reading time = 0.01 seconds\n",
      ": 952 rows, 2018 columns, 9062 nonzeros\n"
     ]
    },
    {
     "name": "stderr",
     "output_type": "stream",
     "text": [
      "Ignoring reaction 'rxn23640' since it already exists.\n",
      "Ignoring reaction 'rxn00994' since it already exists.\n"
     ]
    },
    {
     "name": "stdout",
     "output_type": "stream",
     "text": [
      "Read LP format model from file /var/folders/6w/knrbtrj125ggkrx091kd2g840000gn/T/tmpmuk2ci77.lp\n",
      "Reading time = 0.00 seconds\n",
      ": 952 rows, 2018 columns, 9062 nonzeros\n"
     ]
    },
    {
     "name": "stderr",
     "output_type": "stream",
     "text": [
      "Ignoring reaction 'rxn23640' since it already exists.\n",
      "Ignoring reaction 'rxn00994' since it already exists.\n"
     ]
    },
    {
     "name": "stdout",
     "output_type": "stream",
     "text": [
      "Read LP format model from file /var/folders/6w/knrbtrj125ggkrx091kd2g840000gn/T/tmpdnmm56c2.lp\n",
      "Reading time = 0.01 seconds\n",
      ": 952 rows, 2018 columns, 9062 nonzeros\n"
     ]
    },
    {
     "name": "stderr",
     "output_type": "stream",
     "text": [
      "Ignoring reaction 'rxn23640' since it already exists.\n",
      "Ignoring reaction 'rxn00994' since it already exists.\n"
     ]
    },
    {
     "name": "stdout",
     "output_type": "stream",
     "text": [
      "Read LP format model from file /var/folders/6w/knrbtrj125ggkrx091kd2g840000gn/T/tmpnk_v9so0.lp\n",
      "Reading time = 0.00 seconds\n",
      ": 952 rows, 2018 columns, 9062 nonzeros\n"
     ]
    },
    {
     "name": "stderr",
     "output_type": "stream",
     "text": [
      "Ignoring reaction 'rxn23640' since it already exists.\n",
      "Ignoring reaction 'rxn00994' since it already exists.\n"
     ]
    },
    {
     "name": "stdout",
     "output_type": "stream",
     "text": [
      "Read LP format model from file /var/folders/6w/knrbtrj125ggkrx091kd2g840000gn/T/tmp6o2mnufo.lp\n",
      "Reading time = 0.01 seconds\n",
      ": 952 rows, 2018 columns, 9062 nonzeros\n"
     ]
    },
    {
     "name": "stderr",
     "output_type": "stream",
     "text": [
      "Ignoring reaction 'rxn23640' since it already exists.\n",
      "Ignoring reaction 'rxn00994' since it already exists.\n"
     ]
    },
    {
     "name": "stdout",
     "output_type": "stream",
     "text": [
      "Read LP format model from file /var/folders/6w/knrbtrj125ggkrx091kd2g840000gn/T/tmpxj2fj7ur.lp\n",
      "Reading time = 0.01 seconds\n",
      ": 952 rows, 2018 columns, 9062 nonzeros\n"
     ]
    },
    {
     "name": "stderr",
     "output_type": "stream",
     "text": [
      "Ignoring reaction 'rxn23640' since it already exists.\n",
      "Ignoring reaction 'rxn00994' since it already exists.\n"
     ]
    },
    {
     "name": "stdout",
     "output_type": "stream",
     "text": [
      "Read LP format model from file /var/folders/6w/knrbtrj125ggkrx091kd2g840000gn/T/tmpjldwhxe2.lp\n",
      "Reading time = 0.01 seconds\n",
      ": 952 rows, 2018 columns, 9062 nonzeros\n"
     ]
    },
    {
     "name": "stderr",
     "output_type": "stream",
     "text": [
      "Ignoring reaction 'rxn23640' since it already exists.\n",
      "Ignoring reaction 'rxn00994' since it already exists.\n"
     ]
    },
    {
     "name": "stdout",
     "output_type": "stream",
     "text": [
      "Read LP format model from file /var/folders/6w/knrbtrj125ggkrx091kd2g840000gn/T/tmp74411q6w.lp\n",
      "Reading time = 0.01 seconds\n",
      ": 952 rows, 2018 columns, 9062 nonzeros\n"
     ]
    },
    {
     "name": "stderr",
     "output_type": "stream",
     "text": [
      "Ignoring reaction 'rxn23640' since it already exists.\n",
      "Ignoring reaction 'rxn00994' since it already exists.\n"
     ]
    },
    {
     "name": "stdout",
     "output_type": "stream",
     "text": [
      "Read LP format model from file /var/folders/6w/knrbtrj125ggkrx091kd2g840000gn/T/tmpoufsg3f6.lp\n",
      "Reading time = 0.01 seconds\n",
      ": 952 rows, 2018 columns, 9062 nonzeros\n"
     ]
    },
    {
     "name": "stderr",
     "output_type": "stream",
     "text": [
      "Ignoring reaction 'rxn23640' since it already exists.\n",
      "Ignoring reaction 'rxn00994' since it already exists.\n"
     ]
    },
    {
     "name": "stdout",
     "output_type": "stream",
     "text": [
      "Read LP format model from file /var/folders/6w/knrbtrj125ggkrx091kd2g840000gn/T/tmps11mhupc.lp\n",
      "Reading time = 0.01 seconds\n",
      ": 952 rows, 2018 columns, 9062 nonzeros\n"
     ]
    },
    {
     "name": "stderr",
     "output_type": "stream",
     "text": [
      "Ignoring reaction 'rxn23640' since it already exists.\n",
      "Ignoring reaction 'rxn00994' since it already exists.\n"
     ]
    },
    {
     "name": "stdout",
     "output_type": "stream",
     "text": [
      "Read LP format model from file /var/folders/6w/knrbtrj125ggkrx091kd2g840000gn/T/tmpuxj0dqrr.lp\n",
      "Reading time = 0.01 seconds\n",
      ": 952 rows, 2018 columns, 9062 nonzeros\n"
     ]
    },
    {
     "name": "stderr",
     "output_type": "stream",
     "text": [
      "Ignoring reaction 'rxn23640' since it already exists.\n",
      "Ignoring reaction 'rxn00994' since it already exists.\n"
     ]
    },
    {
     "name": "stdout",
     "output_type": "stream",
     "text": [
      "Read LP format model from file /var/folders/6w/knrbtrj125ggkrx091kd2g840000gn/T/tmpx8qgph2_.lp\n",
      "Reading time = 0.01 seconds\n",
      ": 952 rows, 2018 columns, 9062 nonzeros\n"
     ]
    },
    {
     "name": "stderr",
     "output_type": "stream",
     "text": [
      "Ignoring reaction 'rxn23640' since it already exists.\n",
      "Ignoring reaction 'rxn00994' since it already exists.\n"
     ]
    },
    {
     "name": "stdout",
     "output_type": "stream",
     "text": [
      "Read LP format model from file /var/folders/6w/knrbtrj125ggkrx091kd2g840000gn/T/tmpm0bow6h6.lp\n",
      "Reading time = 0.01 seconds\n",
      ": 952 rows, 2018 columns, 9062 nonzeros\n"
     ]
    },
    {
     "name": "stderr",
     "output_type": "stream",
     "text": [
      "Ignoring reaction 'rxn23640' since it already exists.\n",
      "Ignoring reaction 'rxn00994' since it already exists.\n"
     ]
    },
    {
     "name": "stdout",
     "output_type": "stream",
     "text": [
      "Read LP format model from file /var/folders/6w/knrbtrj125ggkrx091kd2g840000gn/T/tmpegcw2vuz.lp\n",
      "Reading time = 0.01 seconds\n",
      ": 952 rows, 2018 columns, 9062 nonzeros\n"
     ]
    },
    {
     "name": "stderr",
     "output_type": "stream",
     "text": [
      "Ignoring reaction 'rxn23640' since it already exists.\n",
      "Ignoring reaction 'rxn00994' since it already exists.\n"
     ]
    },
    {
     "name": "stdout",
     "output_type": "stream",
     "text": [
      "Read LP format model from file /var/folders/6w/knrbtrj125ggkrx091kd2g840000gn/T/tmprfs5o4_y.lp\n",
      "Reading time = 0.00 seconds\n",
      ": 952 rows, 2018 columns, 9062 nonzeros\n"
     ]
    },
    {
     "ename": "KeyboardInterrupt",
     "evalue": "",
     "output_type": "error",
     "traceback": [
      "\u001b[0;31m---------------------------------------------------------------------------\u001b[0m",
      "\u001b[0;31mKeyboardInterrupt\u001b[0m                         Traceback (most recent call last)",
      "Cell \u001b[0;32mIn[53], line 1\u001b[0m\n\u001b[0;32m----> 1\u001b[0m updated_df \u001b[38;5;241m=\u001b[39m \u001b[43mupdate_rescue_info_for_dataframe\u001b[49m\u001b[43m(\u001b[49m\u001b[43mdf_f\u001b[49m\u001b[43m,\u001b[49m\u001b[43m \u001b[49m\u001b[43mmodel\u001b[49m\u001b[43m,\u001b[49m\u001b[43m \u001b[49m\u001b[43mreaction_dict\u001b[49m\u001b[43m)\u001b[49m\n\u001b[1;32m      2\u001b[0m updated_df\n",
      "Cell \u001b[0;32mIn[52], line 39\u001b[0m, in \u001b[0;36mupdate_rescue_info_for_dataframe\u001b[0;34m(df, model, reaction_dict)\u001b[0m\n\u001b[1;32m     37\u001b[0m \u001b[38;5;28mprint\u001b[39m(\u001b[38;5;124mf\u001b[39m\u001b[38;5;124m\"\u001b[39m\u001b[38;5;124mProcessing row \u001b[39m\u001b[38;5;132;01m{\u001b[39;00mi\u001b[38;5;132;01m}\u001b[39;00m\u001b[38;5;124m...\u001b[39m\u001b[38;5;124m\"\u001b[39m)\n\u001b[1;32m     38\u001b[0m \u001b[38;5;28;01mtry\u001b[39;00m:\n\u001b[0;32m---> 39\u001b[0m     minimal_rxns \u001b[38;5;241m=\u001b[39m \u001b[43mfind_minimal_rescue_set\u001b[49m\u001b[43m(\u001b[49m\u001b[43mmodel\u001b[49m\u001b[43m,\u001b[49m\u001b[43m \u001b[49m\u001b[43mreaction_dict\u001b[49m\u001b[43m,\u001b[49m\u001b[43m \u001b[49m\u001b[43mrow\u001b[49m\u001b[43m)\u001b[49m\n\u001b[1;32m     40\u001b[0m     df\u001b[38;5;241m.\u001b[39mat[i, \u001b[38;5;124m\"\u001b[39m\u001b[38;5;124mrescued_reactions\u001b[39m\u001b[38;5;124m\"\u001b[39m] \u001b[38;5;241m=\u001b[39m minimal_rxns\n\u001b[1;32m     41\u001b[0m     df\u001b[38;5;241m.\u001b[39mat[i, \u001b[38;5;124m\"\u001b[39m\u001b[38;5;124mrescued_count\u001b[39m\u001b[38;5;124m\"\u001b[39m] \u001b[38;5;241m=\u001b[39m \u001b[38;5;28mlen\u001b[39m(minimal_rxns)\n",
      "Cell \u001b[0;32mIn[52], line 15\u001b[0m, in \u001b[0;36mfind_minimal_rescue_set\u001b[0;34m(model, reaction_dict, record)\u001b[0m\n\u001b[1;32m     13\u001b[0m \u001b[38;5;66;03m# Step 2: 检查 rescued reactions 哪些是必要的\u001b[39;00m\n\u001b[1;32m     14\u001b[0m \u001b[38;5;28;01mfor\u001b[39;00m rxn_id \u001b[38;5;129;01min\u001b[39;00m rescued:\n\u001b[0;32m---> 15\u001b[0m     \u001b[38;5;28;01mwith\u001b[39;00m \u001b[43mbase\u001b[49m\u001b[38;5;241;43m.\u001b[39;49m\u001b[43mcopy\u001b[49m\u001b[43m(\u001b[49m\u001b[43m)\u001b[49m \u001b[38;5;28;01mas\u001b[39;00m test_model:\n\u001b[1;32m     16\u001b[0m         \u001b[38;5;66;03m# 添加除了当前 rxn 之外的 rescued reactions\u001b[39;00m\n\u001b[1;32m     17\u001b[0m         \u001b[38;5;28;01mfor\u001b[39;00m r_id \u001b[38;5;129;01min\u001b[39;00m rescued:\n\u001b[1;32m     18\u001b[0m             \u001b[38;5;28;01mif\u001b[39;00m r_id \u001b[38;5;241m!=\u001b[39m rxn_id \u001b[38;5;129;01mand\u001b[39;00m r_id \u001b[38;5;129;01min\u001b[39;00m reaction_dict:\n",
      "File \u001b[0;32m~/Library/Caches/pypoetry/virtualenvs/electromics-project-Ddk0_V8b-py3.10/lib/python3.10/site-packages/cobra/core/model.py:469\u001b[0m, in \u001b[0;36mModel.copy\u001b[0;34m(self)\u001b[0m\n\u001b[1;32m    466\u001b[0m     new_group\u001b[38;5;241m.\u001b[39madd_members(new_objects)\n\u001b[1;32m    468\u001b[0m \u001b[38;5;28;01mtry\u001b[39;00m:\n\u001b[0;32m--> 469\u001b[0m     new\u001b[38;5;241m.\u001b[39m_solver \u001b[38;5;241m=\u001b[39m \u001b[43mdeepcopy\u001b[49m\u001b[43m(\u001b[49m\u001b[38;5;28;43mself\u001b[39;49m\u001b[38;5;241;43m.\u001b[39;49m\u001b[43msolver\u001b[49m\u001b[43m)\u001b[49m\n\u001b[1;32m    470\u001b[0m     \u001b[38;5;66;03m# Cplex has an issue with deep copies\u001b[39;00m\n\u001b[1;32m    471\u001b[0m \u001b[38;5;28;01mexcept\u001b[39;00m \u001b[38;5;167;01mException\u001b[39;00m:  \u001b[38;5;66;03m# pragma: no cover\u001b[39;00m\n",
      "File \u001b[0;32m~/.pyenv/versions/3.10.13/lib/python3.10/copy.py:172\u001b[0m, in \u001b[0;36mdeepcopy\u001b[0;34m(x, memo, _nil)\u001b[0m\n\u001b[1;32m    170\u001b[0m                 y \u001b[38;5;241m=\u001b[39m x\n\u001b[1;32m    171\u001b[0m             \u001b[38;5;28;01melse\u001b[39;00m:\n\u001b[0;32m--> 172\u001b[0m                 y \u001b[38;5;241m=\u001b[39m \u001b[43m_reconstruct\u001b[49m\u001b[43m(\u001b[49m\u001b[43mx\u001b[49m\u001b[43m,\u001b[49m\u001b[43m \u001b[49m\u001b[43mmemo\u001b[49m\u001b[43m,\u001b[49m\u001b[43m \u001b[49m\u001b[38;5;241;43m*\u001b[39;49m\u001b[43mrv\u001b[49m\u001b[43m)\u001b[49m\n\u001b[1;32m    174\u001b[0m \u001b[38;5;66;03m# If is its own copy, don't memoize.\u001b[39;00m\n\u001b[1;32m    175\u001b[0m \u001b[38;5;28;01mif\u001b[39;00m y \u001b[38;5;129;01mis\u001b[39;00m \u001b[38;5;129;01mnot\u001b[39;00m x:\n",
      "File \u001b[0;32m~/.pyenv/versions/3.10.13/lib/python3.10/copy.py:273\u001b[0m, in \u001b[0;36m_reconstruct\u001b[0;34m(x, memo, func, args, state, listiter, dictiter, deepcopy)\u001b[0m\n\u001b[1;32m    271\u001b[0m     state \u001b[38;5;241m=\u001b[39m deepcopy(state, memo)\n\u001b[1;32m    272\u001b[0m \u001b[38;5;28;01mif\u001b[39;00m \u001b[38;5;28mhasattr\u001b[39m(y, \u001b[38;5;124m'\u001b[39m\u001b[38;5;124m__setstate__\u001b[39m\u001b[38;5;124m'\u001b[39m):\n\u001b[0;32m--> 273\u001b[0m     \u001b[43my\u001b[49m\u001b[38;5;241;43m.\u001b[39;49m\u001b[43m__setstate__\u001b[49m\u001b[43m(\u001b[49m\u001b[43mstate\u001b[49m\u001b[43m)\u001b[49m\n\u001b[1;32m    274\u001b[0m \u001b[38;5;28;01melse\u001b[39;00m:\n\u001b[1;32m    275\u001b[0m     \u001b[38;5;28;01mif\u001b[39;00m \u001b[38;5;28misinstance\u001b[39m(state, \u001b[38;5;28mtuple\u001b[39m) \u001b[38;5;129;01mand\u001b[39;00m \u001b[38;5;28mlen\u001b[39m(state) \u001b[38;5;241m==\u001b[39m \u001b[38;5;241m2\u001b[39m:\n",
      "File \u001b[0;32m~/Library/Caches/pypoetry/virtualenvs/electromics-project-Ddk0_V8b-py3.10/lib/python3.10/site-packages/optlang/gurobi_interface.py:615\u001b[0m, in \u001b[0;36mModel.__setstate__\u001b[0;34m(self, repr_dict)\u001b[0m\n\u001b[1;32m    613\u001b[0m \u001b[38;5;28;01mwith\u001b[39;00m TemporaryFilename(suffix\u001b[38;5;241m=\u001b[39m\u001b[38;5;124m\"\u001b[39m\u001b[38;5;124m.lp\u001b[39m\u001b[38;5;124m\"\u001b[39m, content\u001b[38;5;241m=\u001b[39mrepr_dict[\u001b[38;5;124m\"\u001b[39m\u001b[38;5;124mlp\u001b[39m\u001b[38;5;124m\"\u001b[39m]) \u001b[38;5;28;01mas\u001b[39;00m tmp_file_name:\n\u001b[1;32m    614\u001b[0m     problem \u001b[38;5;241m=\u001b[39m gurobipy\u001b[38;5;241m.\u001b[39mread(tmp_file_name)\n\u001b[0;32m--> 615\u001b[0m \u001b[38;5;28;43mself\u001b[39;49m\u001b[38;5;241;43m.\u001b[39;49m\u001b[38;5;21;43m__init__\u001b[39;49m\u001b[43m(\u001b[49m\u001b[43mproblem\u001b[49m\u001b[38;5;241;43m=\u001b[39;49m\u001b[43mproblem\u001b[49m\u001b[43m)\u001b[49m\n\u001b[1;32m    616\u001b[0m \u001b[38;5;28mself\u001b[39m\u001b[38;5;241m.\u001b[39mconfiguration \u001b[38;5;241m=\u001b[39m Configuration()\n\u001b[1;32m    617\u001b[0m \u001b[38;5;28mself\u001b[39m\u001b[38;5;241m.\u001b[39mconfiguration\u001b[38;5;241m.\u001b[39mproblem \u001b[38;5;241m=\u001b[39m \u001b[38;5;28mself\u001b[39m\n",
      "File \u001b[0;32m~/Library/Caches/pypoetry/virtualenvs/electromics-project-Ddk0_V8b-py3.10/lib/python3.10/site-packages/optlang/interface.py:1178\u001b[0m, in \u001b[0;36mModel.__init__\u001b[0;34m(self, name, objective, variables, constraints, problem, *args, **kwargs)\u001b[0m\n\u001b[1;32m   1176\u001b[0m     \u001b[38;5;28;01mif\u001b[39;00m \u001b[38;5;129;01mnot\u001b[39;00m (objective \u001b[38;5;129;01mis\u001b[39;00m \u001b[38;5;28;01mNone\u001b[39;00m \u001b[38;5;129;01mand\u001b[39;00m variables \u001b[38;5;129;01mis\u001b[39;00m \u001b[38;5;28;01mNone\u001b[39;00m \u001b[38;5;129;01mand\u001b[39;00m constraints \u001b[38;5;129;01mis\u001b[39;00m \u001b[38;5;28;01mNone\u001b[39;00m):\n\u001b[1;32m   1177\u001b[0m         \u001b[38;5;28;01mraise\u001b[39;00m \u001b[38;5;167;01mValueError\u001b[39;00m(\u001b[38;5;124m\"\u001b[39m\u001b[38;5;124mModels constructor must be called with the problem argument OR with variables, constraints and objective\u001b[39m\u001b[38;5;124m\"\u001b[39m)\n\u001b[0;32m-> 1178\u001b[0m     \u001b[38;5;28;43mself\u001b[39;49m\u001b[38;5;241;43m.\u001b[39;49m\u001b[43m_initialize_model_from_problem\u001b[49m\u001b[43m(\u001b[49m\u001b[43mproblem\u001b[49m\u001b[43m)\u001b[49m\n\u001b[1;32m   1180\u001b[0m \u001b[38;5;28;01melse\u001b[39;00m:\n\u001b[1;32m   1181\u001b[0m     \u001b[38;5;28mself\u001b[39m\u001b[38;5;241m.\u001b[39m_initialize_problem()\n",
      "File \u001b[0;32m~/Library/Caches/pypoetry/virtualenvs/electromics-project-Ddk0_V8b-py3.10/lib/python3.10/site-packages/optlang/gurobi_interface.py:552\u001b[0m, in \u001b[0;36mModel._initialize_model_from_problem\u001b[0;34m(self, problem)\u001b[0m\n\u001b[1;32m    549\u001b[0m rhs \u001b[38;5;241m=\u001b[39m gurobi_constraint\u001b[38;5;241m.\u001b[39mRHS\n\u001b[1;32m    550\u001b[0m row \u001b[38;5;241m=\u001b[39m \u001b[38;5;28mself\u001b[39m\u001b[38;5;241m.\u001b[39mproblem\u001b[38;5;241m.\u001b[39mgetRow(gurobi_constraint)\n\u001b[1;32m    551\u001b[0m lhs \u001b[38;5;241m=\u001b[39m symbolics\u001b[38;5;241m.\u001b[39madd(\n\u001b[0;32m--> 552\u001b[0m     [symbolics\u001b[38;5;241m.\u001b[39mReal(row\u001b[38;5;241m.\u001b[39mgetCoeff(i)) \u001b[38;5;241m*\u001b[39m \u001b[38;5;28mself\u001b[39m\u001b[38;5;241m.\u001b[39mvariables[row\u001b[38;5;241m.\u001b[39mgetVar(i)\u001b[38;5;241m.\u001b[39mVarName] \u001b[38;5;28;01mfor\u001b[39;00m i \u001b[38;5;129;01min\u001b[39;00m\n\u001b[1;32m    553\u001b[0m      \u001b[38;5;28mrange\u001b[39m(row\u001b[38;5;241m.\u001b[39msize())]\n\u001b[1;32m    554\u001b[0m )\n\u001b[1;32m    556\u001b[0m \u001b[38;5;28;01mif\u001b[39;00m sense \u001b[38;5;241m==\u001b[39m \u001b[38;5;124m'\u001b[39m\u001b[38;5;124m=\u001b[39m\u001b[38;5;124m'\u001b[39m:\n\u001b[1;32m    557\u001b[0m     constraint \u001b[38;5;241m=\u001b[39m Constraint(lhs, name\u001b[38;5;241m=\u001b[39mname, lb\u001b[38;5;241m=\u001b[39mrhs, ub\u001b[38;5;241m=\u001b[39mrhs, problem\u001b[38;5;241m=\u001b[39m\u001b[38;5;28mself\u001b[39m)\n",
      "File \u001b[0;32m~/Library/Caches/pypoetry/virtualenvs/electromics-project-Ddk0_V8b-py3.10/lib/python3.10/site-packages/optlang/gurobi_interface.py:552\u001b[0m, in \u001b[0;36m<listcomp>\u001b[0;34m(.0)\u001b[0m\n\u001b[1;32m    549\u001b[0m rhs \u001b[38;5;241m=\u001b[39m gurobi_constraint\u001b[38;5;241m.\u001b[39mRHS\n\u001b[1;32m    550\u001b[0m row \u001b[38;5;241m=\u001b[39m \u001b[38;5;28mself\u001b[39m\u001b[38;5;241m.\u001b[39mproblem\u001b[38;5;241m.\u001b[39mgetRow(gurobi_constraint)\n\u001b[1;32m    551\u001b[0m lhs \u001b[38;5;241m=\u001b[39m symbolics\u001b[38;5;241m.\u001b[39madd(\n\u001b[0;32m--> 552\u001b[0m     [\u001b[43msymbolics\u001b[49m\u001b[38;5;241;43m.\u001b[39;49m\u001b[43mReal\u001b[49m\u001b[43m(\u001b[49m\u001b[43mrow\u001b[49m\u001b[38;5;241;43m.\u001b[39;49m\u001b[43mgetCoeff\u001b[49m\u001b[43m(\u001b[49m\u001b[43mi\u001b[49m\u001b[43m)\u001b[49m\u001b[43m)\u001b[49m\u001b[43m \u001b[49m\u001b[38;5;241;43m*\u001b[39;49m\u001b[43m \u001b[49m\u001b[38;5;28;43mself\u001b[39;49m\u001b[38;5;241;43m.\u001b[39;49m\u001b[43mvariables\u001b[49m\u001b[43m[\u001b[49m\u001b[43mrow\u001b[49m\u001b[38;5;241;43m.\u001b[39;49m\u001b[43mgetVar\u001b[49m\u001b[43m(\u001b[49m\u001b[43mi\u001b[49m\u001b[43m)\u001b[49m\u001b[38;5;241;43m.\u001b[39;49m\u001b[43mVarName\u001b[49m\u001b[43m]\u001b[49m \u001b[38;5;28;01mfor\u001b[39;00m i \u001b[38;5;129;01min\u001b[39;00m\n\u001b[1;32m    553\u001b[0m      \u001b[38;5;28mrange\u001b[39m(row\u001b[38;5;241m.\u001b[39msize())]\n\u001b[1;32m    554\u001b[0m )\n\u001b[1;32m    556\u001b[0m \u001b[38;5;28;01mif\u001b[39;00m sense \u001b[38;5;241m==\u001b[39m \u001b[38;5;124m'\u001b[39m\u001b[38;5;124m=\u001b[39m\u001b[38;5;124m'\u001b[39m:\n\u001b[1;32m    557\u001b[0m     constraint \u001b[38;5;241m=\u001b[39m Constraint(lhs, name\u001b[38;5;241m=\u001b[39mname, lb\u001b[38;5;241m=\u001b[39mrhs, ub\u001b[38;5;241m=\u001b[39mrhs, problem\u001b[38;5;241m=\u001b[39m\u001b[38;5;28mself\u001b[39m)\n",
      "File \u001b[0;32m~/Library/Caches/pypoetry/virtualenvs/electromics-project-Ddk0_V8b-py3.10/lib/python3.10/site-packages/sympy/core/decorators.py:65\u001b[0m, in \u001b[0;36m__sympifyit.<locals>.__sympifyit_wrapper\u001b[0;34m(a, b)\u001b[0m\n\u001b[1;32m     63\u001b[0m     \u001b[38;5;28;01mif\u001b[39;00m \u001b[38;5;129;01mnot\u001b[39;00m \u001b[38;5;28mhasattr\u001b[39m(b, \u001b[38;5;124m'\u001b[39m\u001b[38;5;124m_op_priority\u001b[39m\u001b[38;5;124m'\u001b[39m):\n\u001b[1;32m     64\u001b[0m         b \u001b[38;5;241m=\u001b[39m sympify(b, strict\u001b[38;5;241m=\u001b[39m\u001b[38;5;28;01mTrue\u001b[39;00m)\n\u001b[0;32m---> 65\u001b[0m     \u001b[38;5;28;01mreturn\u001b[39;00m \u001b[43mfunc\u001b[49m\u001b[43m(\u001b[49m\u001b[43ma\u001b[49m\u001b[43m,\u001b[49m\u001b[43m \u001b[49m\u001b[43mb\u001b[49m\u001b[43m)\u001b[49m\n\u001b[1;32m     66\u001b[0m \u001b[38;5;28;01mexcept\u001b[39;00m SympifyError:\n\u001b[1;32m     67\u001b[0m     \u001b[38;5;28;01mreturn\u001b[39;00m retval\n",
      "File \u001b[0;32m~/Library/Caches/pypoetry/virtualenvs/electromics-project-Ddk0_V8b-py3.10/lib/python3.10/site-packages/sympy/core/numbers.py:1036\u001b[0m, in \u001b[0;36mFloat.__mul__\u001b[0;34m(self, other)\u001b[0m\n\u001b[1;32m   1034\u001b[0m     rhs, prec \u001b[38;5;241m=\u001b[39m other\u001b[38;5;241m.\u001b[39m_as_mpf_op(\u001b[38;5;28mself\u001b[39m\u001b[38;5;241m.\u001b[39m_prec)\n\u001b[1;32m   1035\u001b[0m     \u001b[38;5;28;01mreturn\u001b[39;00m Float\u001b[38;5;241m.\u001b[39m_new(mlib\u001b[38;5;241m.\u001b[39mmpf_mul(\u001b[38;5;28mself\u001b[39m\u001b[38;5;241m.\u001b[39m_mpf_, rhs, prec, rnd), prec)\n\u001b[0;32m-> 1036\u001b[0m \u001b[38;5;28;01mreturn\u001b[39;00m \u001b[43mNumber\u001b[49m\u001b[38;5;241;43m.\u001b[39;49m\u001b[38;5;21;43m__mul__\u001b[39;49m\u001b[43m(\u001b[49m\u001b[38;5;28;43mself\u001b[39;49m\u001b[43m,\u001b[49m\u001b[43m \u001b[49m\u001b[43mother\u001b[49m\u001b[43m)\u001b[49m\n",
      "File \u001b[0;32m~/Library/Caches/pypoetry/virtualenvs/electromics-project-Ddk0_V8b-py3.10/lib/python3.10/site-packages/sympy/core/decorators.py:65\u001b[0m, in \u001b[0;36m__sympifyit.<locals>.__sympifyit_wrapper\u001b[0;34m(a, b)\u001b[0m\n\u001b[1;32m     63\u001b[0m     \u001b[38;5;28;01mif\u001b[39;00m \u001b[38;5;129;01mnot\u001b[39;00m \u001b[38;5;28mhasattr\u001b[39m(b, \u001b[38;5;124m'\u001b[39m\u001b[38;5;124m_op_priority\u001b[39m\u001b[38;5;124m'\u001b[39m):\n\u001b[1;32m     64\u001b[0m         b \u001b[38;5;241m=\u001b[39m sympify(b, strict\u001b[38;5;241m=\u001b[39m\u001b[38;5;28;01mTrue\u001b[39;00m)\n\u001b[0;32m---> 65\u001b[0m     \u001b[38;5;28;01mreturn\u001b[39;00m \u001b[43mfunc\u001b[49m\u001b[43m(\u001b[49m\u001b[43ma\u001b[49m\u001b[43m,\u001b[49m\u001b[43m \u001b[49m\u001b[43mb\u001b[49m\u001b[43m)\u001b[49m\n\u001b[1;32m     66\u001b[0m \u001b[38;5;28;01mexcept\u001b[39;00m SympifyError:\n\u001b[1;32m     67\u001b[0m     \u001b[38;5;28;01mreturn\u001b[39;00m retval\n",
      "File \u001b[0;32m~/Library/Caches/pypoetry/virtualenvs/electromics-project-Ddk0_V8b-py3.10/lib/python3.10/site-packages/sympy/core/numbers.py:485\u001b[0m, in \u001b[0;36mNumber.__mul__\u001b[0;34m(self, other)\u001b[0m\n\u001b[1;32m    483\u001b[0m \u001b[38;5;28;01melif\u001b[39;00m \u001b[38;5;28misinstance\u001b[39m(other, Tuple):\n\u001b[1;32m    484\u001b[0m     \u001b[38;5;28;01mreturn\u001b[39;00m \u001b[38;5;28mNotImplemented\u001b[39m\n\u001b[0;32m--> 485\u001b[0m \u001b[38;5;28;01mreturn\u001b[39;00m \u001b[43mAtomicExpr\u001b[49m\u001b[38;5;241;43m.\u001b[39;49m\u001b[38;5;21;43m__mul__\u001b[39;49m\u001b[43m(\u001b[49m\u001b[38;5;28;43mself\u001b[39;49m\u001b[43m,\u001b[49m\u001b[43m \u001b[49m\u001b[43mother\u001b[49m\u001b[43m)\u001b[49m\n",
      "File \u001b[0;32m~/Library/Caches/pypoetry/virtualenvs/electromics-project-Ddk0_V8b-py3.10/lib/python3.10/site-packages/sympy/core/decorators.py:236\u001b[0m, in \u001b[0;36m_SympifyWrapper.make_wrapped.<locals>._func\u001b[0;34m(self, other)\u001b[0m\n\u001b[1;32m    234\u001b[0m \u001b[38;5;28;01mif\u001b[39;00m \u001b[38;5;129;01mnot\u001b[39;00m \u001b[38;5;28misinstance\u001b[39m(other, expectedcls):\n\u001b[1;32m    235\u001b[0m     \u001b[38;5;28;01mreturn\u001b[39;00m retval\n\u001b[0;32m--> 236\u001b[0m \u001b[38;5;28;01mreturn\u001b[39;00m \u001b[43mfunc\u001b[49m\u001b[43m(\u001b[49m\u001b[38;5;28;43mself\u001b[39;49m\u001b[43m,\u001b[49m\u001b[43m \u001b[49m\u001b[43mother\u001b[49m\u001b[43m)\u001b[49m\n",
      "File \u001b[0;32m~/Library/Caches/pypoetry/virtualenvs/electromics-project-Ddk0_V8b-py3.10/lib/python3.10/site-packages/sympy/core/decorators.py:106\u001b[0m, in \u001b[0;36mcall_highest_priority.<locals>.priority_decorator.<locals>.binary_op_wrapper\u001b[0;34m(self, other)\u001b[0m\n\u001b[1;32m    104\u001b[0m         \u001b[38;5;28;01mif\u001b[39;00m f \u001b[38;5;129;01mis\u001b[39;00m \u001b[38;5;129;01mnot\u001b[39;00m \u001b[38;5;28;01mNone\u001b[39;00m:\n\u001b[1;32m    105\u001b[0m             \u001b[38;5;28;01mreturn\u001b[39;00m f(\u001b[38;5;28mself\u001b[39m)\n\u001b[0;32m--> 106\u001b[0m \u001b[38;5;28;01mreturn\u001b[39;00m \u001b[43mfunc\u001b[49m\u001b[43m(\u001b[49m\u001b[38;5;28;43mself\u001b[39;49m\u001b[43m,\u001b[49m\u001b[43m \u001b[49m\u001b[43mother\u001b[49m\u001b[43m)\u001b[49m\n",
      "File \u001b[0;32m~/Library/Caches/pypoetry/virtualenvs/electromics-project-Ddk0_V8b-py3.10/lib/python3.10/site-packages/sympy/core/expr.py:219\u001b[0m, in \u001b[0;36mExpr.__mul__\u001b[0;34m(self, other)\u001b[0m\n\u001b[1;32m    216\u001b[0m \u001b[38;5;129m@sympify_return\u001b[39m([(\u001b[38;5;124m'\u001b[39m\u001b[38;5;124mother\u001b[39m\u001b[38;5;124m'\u001b[39m, \u001b[38;5;124m'\u001b[39m\u001b[38;5;124mExpr\u001b[39m\u001b[38;5;124m'\u001b[39m)], \u001b[38;5;28mNotImplemented\u001b[39m)\n\u001b[1;32m    217\u001b[0m \u001b[38;5;129m@call_highest_priority\u001b[39m(\u001b[38;5;124m'\u001b[39m\u001b[38;5;124m__rmul__\u001b[39m\u001b[38;5;124m'\u001b[39m)\n\u001b[1;32m    218\u001b[0m \u001b[38;5;28;01mdef\u001b[39;00m\u001b[38;5;250m \u001b[39m\u001b[38;5;21m__mul__\u001b[39m(\u001b[38;5;28mself\u001b[39m, other):\n\u001b[0;32m--> 219\u001b[0m     \u001b[38;5;28;01mreturn\u001b[39;00m \u001b[43mMul\u001b[49m\u001b[43m(\u001b[49m\u001b[38;5;28;43mself\u001b[39;49m\u001b[43m,\u001b[49m\u001b[43m \u001b[49m\u001b[43mother\u001b[49m\u001b[43m)\u001b[49m\n",
      "File \u001b[0;32m~/Library/Caches/pypoetry/virtualenvs/electromics-project-Ddk0_V8b-py3.10/lib/python3.10/site-packages/sympy/core/cache.py:72\u001b[0m, in \u001b[0;36m__cacheit.<locals>.func_wrapper.<locals>.wrapper\u001b[0;34m(*args, **kwargs)\u001b[0m\n\u001b[1;32m     69\u001b[0m \u001b[38;5;129m@wraps\u001b[39m(func)\n\u001b[1;32m     70\u001b[0m \u001b[38;5;28;01mdef\u001b[39;00m\u001b[38;5;250m \u001b[39m\u001b[38;5;21mwrapper\u001b[39m(\u001b[38;5;241m*\u001b[39margs, \u001b[38;5;241m*\u001b[39m\u001b[38;5;241m*\u001b[39mkwargs):\n\u001b[1;32m     71\u001b[0m     \u001b[38;5;28;01mtry\u001b[39;00m:\n\u001b[0;32m---> 72\u001b[0m         retval \u001b[38;5;241m=\u001b[39m \u001b[43mcfunc\u001b[49m\u001b[43m(\u001b[49m\u001b[38;5;241;43m*\u001b[39;49m\u001b[43margs\u001b[49m\u001b[43m,\u001b[49m\u001b[43m \u001b[49m\u001b[38;5;241;43m*\u001b[39;49m\u001b[38;5;241;43m*\u001b[39;49m\u001b[43mkwargs\u001b[49m\u001b[43m)\u001b[49m\n\u001b[1;32m     73\u001b[0m     \u001b[38;5;28;01mexcept\u001b[39;00m \u001b[38;5;167;01mTypeError\u001b[39;00m \u001b[38;5;28;01mas\u001b[39;00m e:\n\u001b[1;32m     74\u001b[0m         \u001b[38;5;28;01mif\u001b[39;00m \u001b[38;5;129;01mnot\u001b[39;00m e\u001b[38;5;241m.\u001b[39margs \u001b[38;5;129;01mor\u001b[39;00m \u001b[38;5;129;01mnot\u001b[39;00m e\u001b[38;5;241m.\u001b[39margs[\u001b[38;5;241m0\u001b[39m]\u001b[38;5;241m.\u001b[39mstartswith(\u001b[38;5;124m'\u001b[39m\u001b[38;5;124munhashable type:\u001b[39m\u001b[38;5;124m'\u001b[39m):\n",
      "File \u001b[0;32m~/Library/Caches/pypoetry/virtualenvs/electromics-project-Ddk0_V8b-py3.10/lib/python3.10/site-packages/sympy/core/operations.py:98\u001b[0m, in \u001b[0;36mAssocOp.__new__\u001b[0;34m(cls, evaluate, _sympify, *args)\u001b[0m\n\u001b[1;32m     95\u001b[0m \u001b[38;5;28;01mif\u001b[39;00m \u001b[38;5;28mlen\u001b[39m(args) \u001b[38;5;241m==\u001b[39m \u001b[38;5;241m1\u001b[39m:\n\u001b[1;32m     96\u001b[0m     \u001b[38;5;28;01mreturn\u001b[39;00m args[\u001b[38;5;241m0\u001b[39m]\n\u001b[0;32m---> 98\u001b[0m c_part, nc_part, order_symbols \u001b[38;5;241m=\u001b[39m \u001b[38;5;28;43mcls\u001b[39;49m\u001b[38;5;241;43m.\u001b[39;49m\u001b[43mflatten\u001b[49m\u001b[43m(\u001b[49m\u001b[43margs\u001b[49m\u001b[43m)\u001b[49m\n\u001b[1;32m     99\u001b[0m is_commutative \u001b[38;5;241m=\u001b[39m \u001b[38;5;129;01mnot\u001b[39;00m nc_part\n\u001b[1;32m    100\u001b[0m obj \u001b[38;5;241m=\u001b[39m \u001b[38;5;28mcls\u001b[39m\u001b[38;5;241m.\u001b[39m_from_args(c_part \u001b[38;5;241m+\u001b[39m nc_part, is_commutative)\n",
      "File \u001b[0;32m~/Library/Caches/pypoetry/virtualenvs/electromics-project-Ddk0_V8b-py3.10/lib/python3.10/site-packages/sympy/core/mul.py:275\u001b[0m, in \u001b[0;36mMul.flatten\u001b[0;34m(cls, seq)\u001b[0m\n\u001b[1;32m    197\u001b[0m \u001b[38;5;250m\u001b[39m\u001b[38;5;124;03m\"\"\"Return commutative, noncommutative and order arguments by\u001b[39;00m\n\u001b[1;32m    198\u001b[0m \u001b[38;5;124;03mcombining related terms.\u001b[39;00m\n\u001b[1;32m    199\u001b[0m \n\u001b[0;32m   (...)\u001b[0m\n\u001b[1;32m    271\u001b[0m \u001b[38;5;124;03m      Removal of 1 from the sequence is already handled by AssocOp.__new__.\u001b[39;00m\n\u001b[1;32m    272\u001b[0m \u001b[38;5;124;03m\"\"\"\u001b[39;00m\n\u001b[1;32m    274\u001b[0m \u001b[38;5;28;01mfrom\u001b[39;00m\u001b[38;5;250m \u001b[39m\u001b[38;5;21;01msympy\u001b[39;00m\u001b[38;5;21;01m.\u001b[39;00m\u001b[38;5;21;01mcalculus\u001b[39;00m\u001b[38;5;21;01m.\u001b[39;00m\u001b[38;5;21;01maccumulationbounds\u001b[39;00m\u001b[38;5;250m \u001b[39m\u001b[38;5;28;01mimport\u001b[39;00m AccumBounds\n\u001b[0;32m--> 275\u001b[0m \u001b[38;5;28;01mfrom\u001b[39;00m\u001b[38;5;250m \u001b[39m\u001b[38;5;21;01msympy\u001b[39;00m\u001b[38;5;21;01m.\u001b[39;00m\u001b[38;5;21;01mmatrices\u001b[39;00m\u001b[38;5;21;01m.\u001b[39;00m\u001b[38;5;21;01mexpressions\u001b[39;00m\u001b[38;5;250m \u001b[39m\u001b[38;5;28;01mimport\u001b[39;00m MatrixExpr\n\u001b[1;32m    276\u001b[0m rv \u001b[38;5;241m=\u001b[39m \u001b[38;5;28;01mNone\u001b[39;00m\n\u001b[1;32m    277\u001b[0m \u001b[38;5;28;01mif\u001b[39;00m \u001b[38;5;28mlen\u001b[39m(seq) \u001b[38;5;241m==\u001b[39m \u001b[38;5;241m2\u001b[39m:\n",
      "File \u001b[0;32m<frozen importlib._bootstrap>:1053\u001b[0m, in \u001b[0;36m_handle_fromlist\u001b[0;34m(module, fromlist, import_, recursive)\u001b[0m\n",
      "\u001b[0;31mKeyboardInterrupt\u001b[0m: "
     ]
    }
   ],
   "source": [
    "updated_df = update_rescue_info_for_dataframe(df_f, model, reaction_dict)\n",
    "updated_df\n"
   ]
  },
  {
   "cell_type": "code",
   "execution_count": null,
   "id": "023c09e8",
   "metadata": {},
   "outputs": [],
   "source": []
  },
  {
   "cell_type": "code",
   "execution_count": null,
   "id": "7b862e2b",
   "metadata": {},
   "outputs": [],
   "source": []
  },
  {
   "cell_type": "code",
   "execution_count": null,
   "id": "4506f0c6",
   "metadata": {},
   "outputs": [],
   "source": []
  },
  {
   "cell_type": "code",
   "execution_count": 74,
   "id": "f594b32a",
   "metadata": {},
   "outputs": [],
   "source": [
    "import pandas as pd\n",
    "\n",
    "df = pd.DataFrame(results)\n",
    "df.to_csv(\"gapfill_results.csv\", index=False)\n",
    "\n"
   ]
  },
  {
   "cell_type": "code",
   "execution_count": 92,
   "id": "01d31033",
   "metadata": {},
   "outputs": [
    {
     "name": "stdout",
     "output_type": "stream",
     "text": [
      "Read LP format model from file /var/folders/6w/knrbtrj125ggkrx091kd2g840000gn/T/tmphgcqle17.lp\n",
      "Reading time = 0.01 seconds\n",
      ": 949 rows, 2012 columns, 9034 nonzeros\n"
     ]
    },
    {
     "name": "stderr",
     "output_type": "stream",
     "text": [
      "Ignoring reaction 'rxn13427' since it already exists.\n"
     ]
    },
    {
     "name": "stdout",
     "output_type": "stream",
     "text": [
      " 移除 rxn08184 不影响 flux → 删除\n",
      "Read LP format model from file /var/folders/6w/knrbtrj125ggkrx091kd2g840000gn/T/tmpscdr8p9_.lp\n",
      "Reading time = 0.00 seconds\n",
      ": 949 rows, 2012 columns, 9034 nonzeros\n"
     ]
    },
    {
     "name": "stderr",
     "output_type": "stream",
     "text": [
      "Ignoring reaction 'rxn13427' since it already exists.\n"
     ]
    },
    {
     "name": "stdout",
     "output_type": "stream",
     "text": [
      " 移除 rxn35683 不影响 flux → 删除\n",
      "Read LP format model from file /var/folders/6w/knrbtrj125ggkrx091kd2g840000gn/T/tmp668ifcwi.lp\n",
      "Reading time = 0.00 seconds\n",
      ": 949 rows, 2012 columns, 9034 nonzeros\n"
     ]
    },
    {
     "name": "stderr",
     "output_type": "stream",
     "text": [
      "Ignoring reaction 'rxn13427' since it already exists.\n"
     ]
    },
    {
     "name": "stdout",
     "output_type": "stream",
     "text": [
      " 移除 rxn46479 不影响 flux → 删除\n",
      "Read LP format model from file /var/folders/6w/knrbtrj125ggkrx091kd2g840000gn/T/tmpzw4ujf6h.lp\n",
      "Reading time = 0.00 seconds\n",
      ": 949 rows, 2012 columns, 9034 nonzeros\n"
     ]
    },
    {
     "name": "stderr",
     "output_type": "stream",
     "text": [
      "Ignoring reaction 'rxn13427' since it already exists.\n"
     ]
    },
    {
     "name": "stdout",
     "output_type": "stream",
     "text": [
      " 移除 rxn37165 不影响 flux → 删除\n",
      "Read LP format model from file /var/folders/6w/knrbtrj125ggkrx091kd2g840000gn/T/tmptadv64b5.lp\n",
      "Reading time = 0.00 seconds\n",
      ": 949 rows, 2012 columns, 9034 nonzeros\n"
     ]
    },
    {
     "name": "stderr",
     "output_type": "stream",
     "text": [
      "Ignoring reaction 'rxn13427' since it already exists.\n"
     ]
    },
    {
     "name": "stdout",
     "output_type": "stream",
     "text": [
      " 移除 rxn00874 不影响 flux → 删除\n",
      "Read LP format model from file /var/folders/6w/knrbtrj125ggkrx091kd2g840000gn/T/tmpf_4cf8_7.lp\n",
      "Reading time = 0.00 seconds\n",
      ": 949 rows, 2012 columns, 9034 nonzeros\n"
     ]
    },
    {
     "name": "stderr",
     "output_type": "stream",
     "text": [
      "Ignoring reaction 'rxn13427' since it already exists.\n"
     ]
    },
    {
     "name": "stdout",
     "output_type": "stream",
     "text": [
      " 移除 rxn19247 不影响 flux → 删除\n",
      "Read LP format model from file /var/folders/6w/knrbtrj125ggkrx091kd2g840000gn/T/tmp5o5tj1w_.lp\n",
      "Reading time = 0.00 seconds\n",
      ": 949 rows, 2012 columns, 9034 nonzeros\n"
     ]
    },
    {
     "name": "stderr",
     "output_type": "stream",
     "text": [
      "Ignoring reaction 'rxn13427' since it already exists.\n"
     ]
    },
    {
     "name": "stdout",
     "output_type": "stream",
     "text": [
      " 移除 rxn39745 不影响 flux → 删除\n",
      "Read LP format model from file /var/folders/6w/knrbtrj125ggkrx091kd2g840000gn/T/tmpg26q87ci.lp\n",
      "Reading time = 0.00 seconds\n",
      ": 949 rows, 2012 columns, 9034 nonzeros\n"
     ]
    },
    {
     "name": "stderr",
     "output_type": "stream",
     "text": [
      "Ignoring reaction 'rxn13427' since it already exists.\n"
     ]
    },
    {
     "name": "stdout",
     "output_type": "stream",
     "text": [
      " 移除 rxn07135 不影响 flux → 删除\n",
      "Read LP format model from file /var/folders/6w/knrbtrj125ggkrx091kd2g840000gn/T/tmpkrai7isl.lp\n",
      "Reading time = 0.01 seconds\n",
      ": 949 rows, 2012 columns, 9034 nonzeros\n"
     ]
    },
    {
     "name": "stderr",
     "output_type": "stream",
     "text": [
      "Ignoring reaction 'rxn13427' since it already exists.\n"
     ]
    },
    {
     "name": "stdout",
     "output_type": "stream",
     "text": [
      " 移除 rxn25216 不影响 flux → 删除\n",
      "Read LP format model from file /var/folders/6w/knrbtrj125ggkrx091kd2g840000gn/T/tmp666ikt5i.lp\n",
      "Reading time = 0.00 seconds\n",
      ": 949 rows, 2012 columns, 9034 nonzeros\n"
     ]
    },
    {
     "name": "stderr",
     "output_type": "stream",
     "text": [
      "Ignoring reaction 'rxn13427' since it already exists.\n"
     ]
    },
    {
     "name": "stdout",
     "output_type": "stream",
     "text": [
      " 移除 rxn03641 不影响 flux → 删除\n",
      "Read LP format model from file /var/folders/6w/knrbtrj125ggkrx091kd2g840000gn/T/tmpqi8cbryr.lp\n",
      "Reading time = 0.01 seconds\n",
      ": 949 rows, 2012 columns, 9034 nonzeros\n"
     ]
    },
    {
     "name": "stderr",
     "output_type": "stream",
     "text": [
      "Ignoring reaction 'rxn13427' since it already exists.\n"
     ]
    },
    {
     "name": "stdout",
     "output_type": "stream",
     "text": [
      " 移除 rxn01237 不影响 flux → 删除\n",
      "Read LP format model from file /var/folders/6w/knrbtrj125ggkrx091kd2g840000gn/T/tmp5balzmfp.lp\n",
      "Reading time = 0.01 seconds\n",
      ": 949 rows, 2012 columns, 9034 nonzeros\n"
     ]
    },
    {
     "name": "stderr",
     "output_type": "stream",
     "text": [
      "Ignoring reaction 'rxn13427' since it already exists.\n"
     ]
    },
    {
     "name": "stdout",
     "output_type": "stream",
     "text": [
      " 移除 rxn13713 不影响 flux → 删除\n",
      "Read LP format model from file /var/folders/6w/knrbtrj125ggkrx091kd2g840000gn/T/tmp35_40ckg.lp\n",
      "Reading time = 0.00 seconds\n",
      ": 949 rows, 2012 columns, 9034 nonzeros\n"
     ]
    },
    {
     "name": "stderr",
     "output_type": "stream",
     "text": [
      "Ignoring reaction 'rxn13427' since it already exists.\n"
     ]
    },
    {
     "name": "stdout",
     "output_type": "stream",
     "text": [
      " 移除 rxn39740 不影响 flux → 删除\n",
      "Read LP format model from file /var/folders/6w/knrbtrj125ggkrx091kd2g840000gn/T/tmpthekpn85.lp\n",
      "Reading time = 0.00 seconds\n",
      ": 949 rows, 2012 columns, 9034 nonzeros\n"
     ]
    },
    {
     "name": "stderr",
     "output_type": "stream",
     "text": [
      "Ignoring reaction 'rxn13427' since it already exists.\n"
     ]
    },
    {
     "name": "stdout",
     "output_type": "stream",
     "text": [
      " 移除 rxn33508 不影响 flux → 删除\n",
      "Read LP format model from file /var/folders/6w/knrbtrj125ggkrx091kd2g840000gn/T/tmptzp4dp77.lp\n",
      "Reading time = 0.00 seconds\n",
      ": 949 rows, 2012 columns, 9034 nonzeros\n"
     ]
    },
    {
     "name": "stderr",
     "output_type": "stream",
     "text": [
      "Ignoring reaction 'rxn13427' since it already exists.\n"
     ]
    },
    {
     "name": "stdout",
     "output_type": "stream",
     "text": [
      " 移除 rxn16141 不影响 flux → 删除\n",
      "Read LP format model from file /var/folders/6w/knrbtrj125ggkrx091kd2g840000gn/T/tmpw0riehh0.lp\n",
      "Reading time = 0.00 seconds\n",
      ": 949 rows, 2012 columns, 9034 nonzeros\n"
     ]
    },
    {
     "name": "stderr",
     "output_type": "stream",
     "text": [
      "Ignoring reaction 'rxn13427' since it already exists.\n"
     ]
    },
    {
     "name": "stdout",
     "output_type": "stream",
     "text": [
      " 移除 rxn36690 不影响 flux → 删除\n",
      "Read LP format model from file /var/folders/6w/knrbtrj125ggkrx091kd2g840000gn/T/tmpbv7u9og9.lp\n",
      "Reading time = 0.00 seconds\n",
      ": 949 rows, 2012 columns, 9034 nonzeros\n"
     ]
    },
    {
     "name": "stderr",
     "output_type": "stream",
     "text": [
      "Ignoring reaction 'rxn13427' since it already exists.\n"
     ]
    },
    {
     "name": "stdout",
     "output_type": "stream",
     "text": [
      " 移除 rxn36692 不影响 flux → 删除\n",
      "Read LP format model from file /var/folders/6w/knrbtrj125ggkrx091kd2g840000gn/T/tmpfjkzy0zp.lp\n",
      "Reading time = 0.00 seconds\n",
      ": 949 rows, 2012 columns, 9034 nonzeros\n"
     ]
    },
    {
     "name": "stderr",
     "output_type": "stream",
     "text": [
      "Ignoring reaction 'rxn13427' since it already exists.\n"
     ]
    },
    {
     "name": "stdout",
     "output_type": "stream",
     "text": [
      " 移除 rxn01236 不影响 flux → 删除\n",
      "Read LP format model from file /var/folders/6w/knrbtrj125ggkrx091kd2g840000gn/T/tmp2_bglsa2.lp\n",
      "Reading time = 0.00 seconds\n",
      ": 949 rows, 2012 columns, 9034 nonzeros\n"
     ]
    },
    {
     "name": "stderr",
     "output_type": "stream",
     "text": [
      "Ignoring reaction 'rxn13427' since it already exists.\n"
     ]
    },
    {
     "name": "stdout",
     "output_type": "stream",
     "text": [
      " 移除 rxn38015 不影响 flux → 删除\n",
      "Read LP format model from file /var/folders/6w/knrbtrj125ggkrx091kd2g840000gn/T/tmp9zxt9rrr.lp\n",
      "Reading time = 0.00 seconds\n",
      ": 949 rows, 2012 columns, 9034 nonzeros\n"
     ]
    },
    {
     "name": "stderr",
     "output_type": "stream",
     "text": [
      "Ignoring reaction 'rxn13427' since it already exists.\n"
     ]
    },
    {
     "name": "stdout",
     "output_type": "stream",
     "text": [
      " 移除 rxn28137 不影响 flux → 删除\n",
      "Read LP format model from file /var/folders/6w/knrbtrj125ggkrx091kd2g840000gn/T/tmp9uz1uibj.lp\n",
      "Reading time = 0.00 seconds\n",
      ": 949 rows, 2012 columns, 9034 nonzeros\n"
     ]
    },
    {
     "name": "stderr",
     "output_type": "stream",
     "text": [
      "Ignoring reaction 'rxn13427' since it already exists.\n"
     ]
    },
    {
     "name": "stdout",
     "output_type": "stream",
     "text": [
      " 移除 rxn16139 不影响 flux → 删除\n",
      "Read LP format model from file /var/folders/6w/knrbtrj125ggkrx091kd2g840000gn/T/tmp14_vc28l.lp\n",
      "Reading time = 0.00 seconds\n",
      ": 949 rows, 2012 columns, 9034 nonzeros\n"
     ]
    },
    {
     "name": "stderr",
     "output_type": "stream",
     "text": [
      "Ignoring reaction 'rxn13427' since it already exists.\n"
     ]
    },
    {
     "name": "stdout",
     "output_type": "stream",
     "text": [
      " 移除 rxn00868 不影响 flux → 删除\n",
      "Read LP format model from file /var/folders/6w/knrbtrj125ggkrx091kd2g840000gn/T/tmpk2jd0vhg.lp\n",
      "Reading time = 0.00 seconds\n",
      ": 949 rows, 2012 columns, 9034 nonzeros\n"
     ]
    },
    {
     "name": "stderr",
     "output_type": "stream",
     "text": [
      "Ignoring reaction 'rxn13427' since it already exists.\n"
     ]
    },
    {
     "name": "stdout",
     "output_type": "stream",
     "text": [
      " 移除 rxn31602 不影响 flux → 删除\n",
      "Read LP format model from file /var/folders/6w/knrbtrj125ggkrx091kd2g840000gn/T/tmphhvad89j.lp\n",
      "Reading time = 0.00 seconds\n",
      ": 949 rows, 2012 columns, 9034 nonzeros\n"
     ]
    },
    {
     "name": "stderr",
     "output_type": "stream",
     "text": [
      "Ignoring reaction 'rxn13427' since it already exists.\n"
     ]
    },
    {
     "name": "stdout",
     "output_type": "stream",
     "text": [
      " 移除 rxn19980 不影响 flux → 删除\n",
      "Read LP format model from file /var/folders/6w/knrbtrj125ggkrx091kd2g840000gn/T/tmp8n_zk3tg.lp\n",
      "Reading time = 0.00 seconds\n",
      ": 949 rows, 2012 columns, 9034 nonzeros\n"
     ]
    },
    {
     "name": "stderr",
     "output_type": "stream",
     "text": [
      "Ignoring reaction 'rxn13427' since it already exists.\n"
     ]
    },
    {
     "name": "stdout",
     "output_type": "stream",
     "text": [
      " 移除 rxn38810 不影响 flux → 删除\n",
      "Read LP format model from file /var/folders/6w/knrbtrj125ggkrx091kd2g840000gn/T/tmpnwo1xb79.lp\n",
      "Reading time = 0.00 seconds\n",
      ": 949 rows, 2012 columns, 9034 nonzeros\n"
     ]
    },
    {
     "name": "stderr",
     "output_type": "stream",
     "text": [
      "Ignoring reaction 'rxn13427' since it already exists.\n"
     ]
    },
    {
     "name": "stdout",
     "output_type": "stream",
     "text": [
      " 移除 rxn45929 不影响 flux → 删除\n",
      "Read LP format model from file /var/folders/6w/knrbtrj125ggkrx091kd2g840000gn/T/tmpqaly8x4r.lp\n",
      "Reading time = 0.00 seconds\n",
      ": 949 rows, 2012 columns, 9034 nonzeros\n"
     ]
    },
    {
     "name": "stderr",
     "output_type": "stream",
     "text": [
      "Ignoring reaction 'rxn13427' since it already exists.\n"
     ]
    },
    {
     "name": "stdout",
     "output_type": "stream",
     "text": [
      " 移除 rxn14157 不影响 flux → 删除\n",
      "Read LP format model from file /var/folders/6w/knrbtrj125ggkrx091kd2g840000gn/T/tmp_rxxyu08.lp\n",
      "Reading time = 0.00 seconds\n",
      ": 949 rows, 2012 columns, 9034 nonzeros\n"
     ]
    },
    {
     "name": "stderr",
     "output_type": "stream",
     "text": [
      "Ignoring reaction 'rxn13427' since it already exists.\n"
     ]
    },
    {
     "name": "stdout",
     "output_type": "stream",
     "text": [
      " 移除 rxn38807 不影响 flux → 删除\n",
      "Read LP format model from file /var/folders/6w/knrbtrj125ggkrx091kd2g840000gn/T/tmpgxi5m5r0.lp\n",
      "Reading time = 0.00 seconds\n",
      ": 949 rows, 2012 columns, 9034 nonzeros\n"
     ]
    },
    {
     "name": "stderr",
     "output_type": "stream",
     "text": [
      "Ignoring reaction 'rxn13427' since it already exists.\n"
     ]
    },
    {
     "name": "stdout",
     "output_type": "stream",
     "text": [
      " 移除 rxn19968 不影响 flux → 删除\n",
      "Read LP format model from file /var/folders/6w/knrbtrj125ggkrx091kd2g840000gn/T/tmptms75njn.lp\n",
      "Reading time = 0.00 seconds\n",
      ": 949 rows, 2012 columns, 9034 nonzeros\n"
     ]
    },
    {
     "name": "stderr",
     "output_type": "stream",
     "text": [
      "Ignoring reaction 'rxn13427' since it already exists.\n"
     ]
    },
    {
     "name": "stdout",
     "output_type": "stream",
     "text": [
      " 移除 rxn37164 不影响 flux → 删除\n",
      "Read LP format model from file /var/folders/6w/knrbtrj125ggkrx091kd2g840000gn/T/tmpr_06pwet.lp\n",
      "Reading time = 0.00 seconds\n",
      ": 949 rows, 2012 columns, 9034 nonzeros\n"
     ]
    },
    {
     "name": "stderr",
     "output_type": "stream",
     "text": [
      "Ignoring reaction 'rxn13427' since it already exists.\n"
     ]
    },
    {
     "name": "stdout",
     "output_type": "stream",
     "text": [
      " 移除 rxn01201 不影响 flux → 删除\n",
      "Read LP format model from file /var/folders/6w/knrbtrj125ggkrx091kd2g840000gn/T/tmpg3jfr5x1.lp\n",
      "Reading time = 0.00 seconds\n",
      ": 949 rows, 2012 columns, 9034 nonzeros\n"
     ]
    },
    {
     "name": "stderr",
     "output_type": "stream",
     "text": [
      "Ignoring reaction 'rxn13427' since it already exists.\n"
     ]
    },
    {
     "name": "stdout",
     "output_type": "stream",
     "text": [
      " 移除 rxn16586 不影响 flux → 删除\n",
      "Read LP format model from file /var/folders/6w/knrbtrj125ggkrx091kd2g840000gn/T/tmpsqg11cnx.lp\n",
      "Reading time = 0.00 seconds\n",
      ": 949 rows, 2012 columns, 9034 nonzeros\n"
     ]
    },
    {
     "name": "stderr",
     "output_type": "stream",
     "text": [
      "Ignoring reaction 'rxn13427' since it already exists.\n"
     ]
    },
    {
     "name": "stdout",
     "output_type": "stream",
     "text": [
      " 移除 rxn43573 不影响 flux → 删除\n",
      "Read LP format model from file /var/folders/6w/knrbtrj125ggkrx091kd2g840000gn/T/tmprnotss4s.lp\n",
      "Reading time = 0.00 seconds\n",
      ": 949 rows, 2012 columns, 9034 nonzeros\n"
     ]
    },
    {
     "name": "stderr",
     "output_type": "stream",
     "text": [
      "Ignoring reaction 'rxn13427' since it already exists.\n"
     ]
    },
    {
     "name": "stdout",
     "output_type": "stream",
     "text": [
      " 移除 rxn43619 不影响 flux → 删除\n",
      "Read LP format model from file /var/folders/6w/knrbtrj125ggkrx091kd2g840000gn/T/tmpc2de4360.lp\n",
      "Reading time = 0.00 seconds\n",
      ": 949 rows, 2012 columns, 9034 nonzeros\n",
      " 移除 rxn13427 不影响 flux → 删除\n",
      "Read LP format model from file /var/folders/6w/knrbtrj125ggkrx091kd2g840000gn/T/tmptax9wfxb.lp\n",
      "Reading time = 0.00 seconds\n",
      ": 949 rows, 2012 columns, 9034 nonzeros\n",
      " 移除 rxn31413 不影响 flux → 删除\n",
      "Read LP format model from file /var/folders/6w/knrbtrj125ggkrx091kd2g840000gn/T/tmpu5koggxw.lp\n",
      "Reading time = 0.00 seconds\n",
      ": 949 rows, 2012 columns, 9034 nonzeros\n",
      " 移除 rxn03642 不影响 flux → 删除\n",
      "Read LP format model from file /var/folders/6w/knrbtrj125ggkrx091kd2g840000gn/T/tmpvqujjgjx.lp\n",
      "Reading time = 0.00 seconds\n",
      ": 949 rows, 2012 columns, 9034 nonzeros\n",
      " 移除 rxn00994 不影响 flux → 删除\n",
      "Read LP format model from file /var/folders/6w/knrbtrj125ggkrx091kd2g840000gn/T/tmp0_vlrtls.lp\n",
      "Reading time = 0.00 seconds\n",
      ": 949 rows, 2012 columns, 9034 nonzeros\n",
      " 移除 rxn31412 不影响 flux → 删除\n",
      "Read LP format model from file /var/folders/6w/knrbtrj125ggkrx091kd2g840000gn/T/tmptlwcbtb5.lp\n",
      "Reading time = 0.00 seconds\n",
      ": 949 rows, 2012 columns, 9034 nonzeros\n",
      " 移除 rxn44915 不影响 flux → 删除\n",
      "Read LP format model from file /var/folders/6w/knrbtrj125ggkrx091kd2g840000gn/T/tmpxhm0_fez.lp\n",
      "Reading time = 0.00 seconds\n",
      ": 949 rows, 2012 columns, 9034 nonzeros\n",
      " 移除 rxn02252 不影响 flux → 删除\n",
      "Read LP format model from file /var/folders/6w/knrbtrj125ggkrx091kd2g840000gn/T/tmp6gnx8919.lp\n",
      "Reading time = 0.00 seconds\n",
      ": 949 rows, 2012 columns, 9034 nonzeros\n",
      " 移除 rxn07127 不影响 flux → 删除\n",
      "Read LP format model from file /var/folders/6w/knrbtrj125ggkrx091kd2g840000gn/T/tmppn9svw1r.lp\n",
      "Reading time = 0.00 seconds\n",
      ": 949 rows, 2012 columns, 9034 nonzeros\n",
      " 移除 rxn27593 不影响 flux → 删除\n",
      "Read LP format model from file /var/folders/6w/knrbtrj125ggkrx091kd2g840000gn/T/tmpp98hwywi.lp\n",
      "Reading time = 0.00 seconds\n",
      ": 949 rows, 2012 columns, 9034 nonzeros\n",
      " 移除 rxn40978 不影响 flux → 删除\n",
      "Read LP format model from file /var/folders/6w/knrbtrj125ggkrx091kd2g840000gn/T/tmpaj4q096e.lp\n",
      "Reading time = 0.00 seconds\n",
      ": 949 rows, 2012 columns, 9034 nonzeros\n",
      " 移除 rxn10074 导致 flux 下降 → 保留\n",
      "Read LP format model from file /var/folders/6w/knrbtrj125ggkrx091kd2g840000gn/T/tmp8a_7f8e2.lp\n",
      "Reading time = 0.00 seconds\n",
      ": 949 rows, 2012 columns, 9034 nonzeros\n",
      " 移除 rxn00875 导致 flux 下降 → 保留\n",
      "Read LP format model from file /var/folders/6w/knrbtrj125ggkrx091kd2g840000gn/T/tmprwh626qe.lp\n",
      "Reading time = 0.00 seconds\n",
      ": 949 rows, 2012 columns, 9034 nonzeros\n",
      " 移除 rxn31470 不影响 flux → 删除\n",
      "Read LP format model from file /var/folders/6w/knrbtrj125ggkrx091kd2g840000gn/T/tmpt_g4nclo.lp\n",
      "Reading time = 0.00 seconds\n",
      ": 949 rows, 2012 columns, 9034 nonzeros\n",
      " 移除 rxn31221 不影响 flux → 删除\n",
      "Read LP format model from file /var/folders/6w/knrbtrj125ggkrx091kd2g840000gn/T/tmpcala6bxy.lp\n",
      "Reading time = 0.00 seconds\n",
      ": 949 rows, 2012 columns, 9034 nonzeros\n",
      " 移除 rxn00873 不影响 flux → 删除\n",
      "Read LP format model from file /var/folders/6w/knrbtrj125ggkrx091kd2g840000gn/T/tmpnv9b9k1n.lp\n",
      "Reading time = 0.00 seconds\n",
      ": 949 rows, 2012 columns, 9034 nonzeros\n",
      " 移除 rxn00871 不影响 flux → 删除\n",
      "Read LP format model from file /var/folders/6w/knrbtrj125ggkrx091kd2g840000gn/T/tmpqhlw6b1c.lp\n",
      "Reading time = 0.00 seconds\n",
      ": 949 rows, 2012 columns, 9034 nonzeros\n",
      " 移除 rxn23000 不影响 flux → 删除\n",
      "Read LP format model from file /var/folders/6w/knrbtrj125ggkrx091kd2g840000gn/T/tmpulxutc2e.lp\n",
      "Reading time = 0.00 seconds\n",
      ": 949 rows, 2012 columns, 9034 nonzeros\n",
      " 移除 rxn05936 不影响 flux → 删除\n",
      "Read LP format model from file /var/folders/6w/knrbtrj125ggkrx091kd2g840000gn/T/tmp381t8_d8.lp\n",
      "Reading time = 0.00 seconds\n",
      ": 949 rows, 2012 columns, 9034 nonzeros\n",
      " 移除 rxn23026 不影响 flux → 删除\n",
      "Read LP format model from file /var/folders/6w/knrbtrj125ggkrx091kd2g840000gn/T/tmp51jxjrag.lp\n",
      "Reading time = 0.00 seconds\n",
      ": 949 rows, 2012 columns, 9034 nonzeros\n",
      " 移除 rxn46964 不影响 flux → 删除\n",
      "Read LP format model from file /var/folders/6w/knrbtrj125ggkrx091kd2g840000gn/T/tmp97bmpca5.lp\n",
      "Reading time = 0.00 seconds\n",
      ": 949 rows, 2012 columns, 9034 nonzeros\n",
      " 移除 rxn11378 不影响 flux → 删除\n",
      "Read LP format model from file /var/folders/6w/knrbtrj125ggkrx091kd2g840000gn/T/tmpqimd5cu3.lp\n",
      "Reading time = 0.00 seconds\n",
      ": 949 rows, 2012 columns, 9034 nonzeros\n",
      " 移除 rxn00872 不影响 flux → 删除\n",
      "Read LP format model from file /var/folders/6w/knrbtrj125ggkrx091kd2g840000gn/T/tmpvkpgrdkg.lp\n",
      "Reading time = 0.00 seconds\n",
      ": 949 rows, 2012 columns, 9034 nonzeros\n",
      " 移除 rxn13069 不影响 flux → 删除\n"
     ]
    }
   ],
   "source": [
    "# 假设你已经有 df，其中包含列 rescued_reactions\n",
    "rescue_rxns = df[df[\"rescued_flux\"] > 0][\"rescued_reactions\"].iloc[0]  # 提取第一行的反应列表\n",
    "core_path_rxns = [\"rxn31359\", \"rxn13427\"]\n",
    "\n",
    "minimal_set = set(rescue_rxns)\n",
    "baseline_flux = 1000.0\n",
    "\n",
    "for rxn in rescue_rxns:\n",
    "    test_set = minimal_set - {rxn}\n",
    "\n",
    "    with model.copy() as m:\n",
    "        for r in core_path_rxns + list(test_set):\n",
    "            if r in reaction_dict:\n",
    "                m.add_reactions([reaction_dict[r].copy()])\n",
    "        \n",
    "        # 设置目标\n",
    "        m.objective = m.reactions.get_by_id(\"EX_cpd00211_e0\")\n",
    "        m.reactions.get_by_id(f\"EX_{start}\").lower_bound = -10\n",
    "\n",
    "        flux = m.optimize().objective_value\n",
    "        if flux >= baseline_flux * 0.999:  # 允许一点浮动\n",
    "            print(f\" 移除 {rxn} 不影响 flux → 删除\")\n",
    "            minimal_set.remove(rxn)\n",
    "        else:\n",
    "            print(f\" 移除 {rxn} 导致 flux 下降 → 保留\")\n"
   ]
  },
  {
   "cell_type": "code",
   "execution_count": 93,
   "id": "9daae03f",
   "metadata": {},
   "outputs": [
    {
     "data": {
      "text/plain": [
       "{'rxn00875', 'rxn10074'}"
      ]
     },
     "execution_count": 93,
     "metadata": {},
     "output_type": "execute_result"
    }
   ],
   "source": [
    "minimal_set"
   ]
  },
  {
   "cell_type": "code",
   "execution_count": 94,
   "id": "ad507b40",
   "metadata": {},
   "outputs": [
    {
     "name": "stdout",
     "output_type": "stream",
     "text": [
      " 最终要添加的反应总数: 4\n"
     ]
    }
   ],
   "source": [
    "final_rxns_to_add = core_path_rxns + list(minimal_set)\n",
    "print(f\" 最终要添加的反应总数: {len(final_rxns_to_add)}\")\n"
   ]
  },
  {
   "cell_type": "code",
   "execution_count": 96,
   "id": "051ad0c1",
   "metadata": {},
   "outputs": [
    {
     "name": "stdout",
     "output_type": "stream",
     "text": [
      "Read LP format model from file /var/folders/6w/knrbtrj125ggkrx091kd2g840000gn/T/tmp3we0w8rz.lp\n",
      "Reading time = 0.01 seconds\n",
      ": 949 rows, 2012 columns, 9034 nonzeros\n",
      "\n",
      " 添加最终反应集后的通量: 1000.0\n"
     ]
    }
   ],
   "source": [
    "target_rxn_id = \"EX_cpd00211_e0\"\n",
    "with model.copy() as m:\n",
    "    for rxn_id in final_rxns_to_add:\n",
    "        if rxn_id in reaction_dict:\n",
    "            m.add_reactions([reaction_dict[rxn_id].copy()])\n",
    "    m.objective = target_rxn_id\n",
    "    sol = m.optimize()\n",
    "    flux = sol.objective_value if sol.status == \"optimal\" else 0\n",
    "    print(f\"\\n 添加最终反应集后的通量: {flux}\")\n"
   ]
  },
  {
   "cell_type": "code",
   "execution_count": null,
   "id": "856b0a82",
   "metadata": {},
   "outputs": [],
   "source": []
  },
  {
   "cell_type": "code",
   "execution_count": null,
   "id": "47afe4d2",
   "metadata": {},
   "outputs": [
    {
     "name": "stdout",
     "output_type": "stream",
     "text": [
      "Read LP format model from file /var/folders/6w/knrbtrj125ggkrx091kd2g840000gn/T/tmpesrfr49k.lp\n",
      "Reading time = 0.01 seconds\n",
      ": 949 rows, 2012 columns, 9034 nonzeros\n"
     ]
    },
    {
     "name": "stderr",
     "output_type": "stream",
     "text": [
      "Ignoring reaction 'rxn13427' since it already exists.\n"
     ]
    },
    {
     "name": "stdout",
     "output_type": "stream",
     "text": [
      "Set parameter Username\n",
      "Set parameter LicenseID to value 2663970\n",
      "Academic license - for non-commercial use only - expires 2026-05-12\n",
      "Read LP format model from file /var/folders/6w/knrbtrj125ggkrx091kd2g840000gn/T/tmpem3fk5hg.lp\n",
      "Reading time = 0.00 seconds\n",
      ": 978 rows, 2129 columns, 9563 nonzeros\n",
      "Set parameter Username\n",
      "Set parameter LicenseID to value 2663970\n",
      "Academic license - for non-commercial use only - expires 2026-05-12\n",
      "Read LP format model from file /var/folders/6w/knrbtrj125ggkrx091kd2g840000gn/T/tmpcalsuv5a.lp\n",
      "Reading time = 0.00 seconds\n",
      ": 978 rows, 2129 columns, 9563 nonzeros\n",
      "Set parameter Username\n",
      "Set parameter LicenseID to value 2663970\n",
      "Academic license - for non-commercial use only - expires 2026-05-12\n",
      "Read LP format model from file /var/folders/6w/knrbtrj125ggkrx091kd2g840000gn/T/tmpgfgfjrvm.lp\n",
      "Reading time = 0.00 seconds\n",
      ": 978 rows, 2129 columns, 9563 nonzeros\n",
      "Set parameter Username\n",
      "Set parameter LicenseID to value 2663970\n",
      "Academic license - for non-commercial use only - expires 2026-05-12\n",
      "Read LP format model from file /var/folders/6w/knrbtrj125ggkrx091kd2g840000gn/T/tmpk5bjyfu9.lp\n",
      "Reading time = 0.00 seconds\n",
      ": 978 rows, 2129 columns, 9563 nonzeros\n",
      "Set parameter Username\n",
      "Set parameter LicenseID to value 2663970\n",
      "Academic license - for non-commercial use only - expires 2026-05-12\n",
      "Read LP format model from file /var/folders/6w/knrbtrj125ggkrx091kd2g840000gn/T/tmp0cd01lmb.lp\n",
      "Reading time = 0.00 seconds\n",
      ": 978 rows, 2129 columns, 9563 nonzeros\n",
      "Set parameter Username\n",
      "Set parameter LicenseID to value 2663970\n",
      "Academic license - for non-commercial use only - expires 2026-05-12\n",
      "Read LP format model from file /var/folders/6w/knrbtrj125ggkrx091kd2g840000gn/T/tmpcih8n4l4.lp\n",
      "Reading time = 0.00 seconds\n",
      ": 978 rows, 2129 columns, 9563 nonzeros\n",
      "Set parameter Username\n",
      "Set parameter LicenseID to value 2663970\n",
      "Academic license - for non-commercial use only - expires 2026-05-12\n",
      "Read LP format model from file /var/folders/6w/knrbtrj125ggkrx091kd2g840000gn/T/tmpo6j__c9n.lp\n",
      "Reading time = 0.00 seconds\n",
      ": 978 rows, 2129 columns, 9563 nonzeros\n",
      "Set parameter Username\n",
      "Set parameter LicenseID to value 2663970\n",
      "Academic license - for non-commercial use only - expires 2026-05-12\n",
      "Read LP format model from file /var/folders/6w/knrbtrj125ggkrx091kd2g840000gn/T/tmpsvm2nnqj.lp\n",
      "Reading time = 0.00 seconds\n",
      ": 978 rows, 2129 columns, 9563 nonzeros\n",
      "Set parameter Username\n",
      "Set parameter LicenseID to value 2663970\n",
      "Academic license - for non-commercial use only - expires 2026-05-12\n",
      "Read LP format model from file /var/folders/6w/knrbtrj125ggkrx091kd2g840000gn/T/tmp7t0e7ngr.lp\n",
      "Reading time = 0.00 seconds\n",
      ": 978 rows, 2129 columns, 9563 nonzeros\n",
      "Set parameter Username\n",
      "Set parameter LicenseID to value 2663970\n",
      "Academic license - for non-commercial use only - expires 2026-05-12\n",
      "Read LP format model from file /var/folders/6w/knrbtrj125ggkrx091kd2g840000gn/T/tmp7gw10yv0.lp\n",
      "Reading time = 0.00 seconds\n",
      ": 978 rows, 2129 columns, 9563 nonzeros\n",
      "Set parameter Username\n",
      "Set parameter LicenseID to value 2663970\n",
      "Academic license - for non-commercial use only - expires 2026-05-12\n",
      "Read LP format model from file /var/folders/6w/knrbtrj125ggkrx091kd2g840000gn/T/tmpw1htij27.lp\n",
      "Reading time = 0.00 seconds\n",
      ": 978 rows, 2129 columns, 9563 nonzeros\n",
      "Set parameter Username\n",
      "Set parameter LicenseID to value 2663970\n",
      "Academic license - for non-commercial use only - expires 2026-05-12\n",
      "Read LP format model from file /var/folders/6w/knrbtrj125ggkrx091kd2g840000gn/T/tmpjb41w_vz.lp\n",
      "Reading time = 0.00 seconds\n",
      ": 978 rows, 2129 columns, 9563 nonzeros\n",
      "Set parameter Username\n",
      "Set parameter LicenseID to value 2663970\n",
      "Academic license - for non-commercial use only - expires 2026-05-12\n",
      "Read LP format model from file /var/folders/6w/knrbtrj125ggkrx091kd2g840000gn/T/tmp5fknvazq.lp\n",
      "Reading time = 0.00 seconds\n",
      ": 978 rows, 2129 columns, 9563 nonzeros\n",
      "Set parameter Username\n",
      "Set parameter LicenseID to value 2663970\n",
      "Academic license - for non-commercial use only - expires 2026-05-12\n",
      "Read LP format model from file /var/folders/6w/knrbtrj125ggkrx091kd2g840000gn/T/tmp9uypwcnk.lp\n",
      "Reading time = 0.01 seconds\n",
      ": 978 rows, 2129 columns, 9563 nonzeros\n",
      "🧠 最小必需反应集大小: 36\n"
     ]
    }
   ],
   "source": [
    "from cobra.flux_analysis import flux_variability_analysis\n",
    "# ✅ 主路径反应列表（根据你自己模型设定）\n",
    "core_path_rxns = [\"rxn31359\", \"rxn13427\"]  # 示例，替换为你起点→目标路径的反应\n",
    "\n",
    "# ✅ 补救反应集（可以从 DataFrame 中提取）\n",
    "rescue_rxns = list(df[df[\"rescued_flux\"] > 0][\"rescued_reactions\"].iloc[0])\n",
    "\n",
    "with model.copy() as m:\n",
    "    for r in core_path_rxns + rescue_rxns:\n",
    "        if r in reaction_dict:\n",
    "            m.add_reactions([reaction_dict[r].copy()])\n",
    "\n",
    "    fva = flux_variability_analysis(m, reaction_list=rescue_rxns)\n",
    "\n",
    "    essential_rxns = fva[(fva[\"maximum\"].abs() > 1e-6) | (fva[\"minimum\"].abs() > 1e-6)].index.tolist()\n",
    "    print(f\" 最小必需反应集大小: {len(essential_rxns)}\")\n"
   ]
  },
  {
   "cell_type": "code",
   "execution_count": null,
   "id": "79423e50",
   "metadata": {},
   "outputs": [],
   "source": []
  },
  {
   "cell_type": "code",
   "execution_count": null,
   "id": "bd9858f5",
   "metadata": {},
   "outputs": [],
   "source": []
  },
  {
   "cell_type": "code",
   "execution_count": 84,
   "id": "1084ea91",
   "metadata": {},
   "outputs": [
    {
     "name": "stdout",
     "output_type": "stream",
     "text": [
      "dead-end cpd01662_c0 → 起点 cpd00254_e0 路径: ['cpd01662_c0', 'cpd00009_c0', 'cpd00254_e0']\n",
      "Read LP format model from file /var/folders/6w/knrbtrj125ggkrx091kd2g840000gn/T/tmpm4sc39dk.lp\n",
      "Reading time = 0.01 seconds\n",
      ": 949 rows, 2012 columns, 9034 nonzeros\n",
      " 尝试修复 dead-end cpd01662_c0 后通量: 0.0\n",
      "dead-end cpd00205_e0 → 起点 cpd00205_e0 路径: ['cpd00205_e0']\n",
      "Read LP format model from file /var/folders/6w/knrbtrj125ggkrx091kd2g840000gn/T/tmp07fyvdax.lp\n",
      "Reading time = 0.00 seconds\n",
      ": 949 rows, 2012 columns, 9034 nonzeros\n",
      " 尝试修复 dead-end cpd00205_e0 后通量: 0.0\n",
      "dead-end cpd01662_c0 → 起点 cpd00205_e0 路径: ['cpd01662_c0', 'cpd00009_c0', 'cpd00205_e0']\n",
      "Read LP format model from file /var/folders/6w/knrbtrj125ggkrx091kd2g840000gn/T/tmp0zhnosml.lp\n",
      "Reading time = 0.01 seconds\n",
      ": 949 rows, 2012 columns, 9034 nonzeros\n",
      " 尝试修复 dead-end cpd01662_c0 后通量: 0.0\n",
      "dead-end cpd00166_e0 → 起点 cpd00166_e0 路径: ['cpd00166_e0']\n",
      "Read LP format model from file /var/folders/6w/knrbtrj125ggkrx091kd2g840000gn/T/tmp0bbz5fg7.lp\n",
      "Reading time = 0.00 seconds\n",
      ": 949 rows, 2012 columns, 9034 nonzeros\n",
      " 尝试修复 dead-end cpd00166_e0 后通量: 0.0\n",
      "dead-end cpd01662_c0 → 起点 cpd00166_e0 路径: ['cpd01662_c0', 'cpd00009_c0', 'cpd00166_e0']\n",
      "Read LP format model from file /var/folders/6w/knrbtrj125ggkrx091kd2g840000gn/T/tmpldlrhuz3.lp\n",
      "Reading time = 0.00 seconds\n",
      ": 949 rows, 2012 columns, 9034 nonzeros\n",
      " 尝试修复 dead-end cpd01662_c0 后通量: 0.0\n",
      "dead-end cpd00322_e0 → 起点 cpd00322_e0 路径: ['cpd00322_e0']\n",
      "Read LP format model from file /var/folders/6w/knrbtrj125ggkrx091kd2g840000gn/T/tmp6vd8zdzj.lp\n",
      "Reading time = 0.00 seconds\n",
      ": 949 rows, 2012 columns, 9034 nonzeros\n",
      " 尝试修复 dead-end cpd00322_e0 后通量: 0.0\n",
      "dead-end cpd01662_c0 → 起点 cpd00322_e0 路径: ['cpd01662_c0', 'cpd00009_c0', 'cpd00322_e0']\n",
      "Read LP format model from file /var/folders/6w/knrbtrj125ggkrx091kd2g840000gn/T/tmp_6upwvo1.lp\n",
      "Reading time = 0.00 seconds\n",
      ": 949 rows, 2012 columns, 9034 nonzeros\n",
      " 尝试修复 dead-end cpd01662_c0 后通量: 0.0\n",
      "dead-end cpd00104_e0 → 起点 cpd00104_e0 路径: ['cpd00104_e0']\n",
      "Read LP format model from file /var/folders/6w/knrbtrj125ggkrx091kd2g840000gn/T/tmpd9su46qd.lp\n",
      "Reading time = 0.00 seconds\n",
      ": 949 rows, 2012 columns, 9034 nonzeros\n",
      " 尝试修复 dead-end cpd00104_e0 后通量: 0.0\n",
      "dead-end cpd01662_c0 → 起点 cpd00104_e0 路径: ['cpd01662_c0', 'cpd00009_c0', 'cpd00104_e0']\n",
      "Read LP format model from file /var/folders/6w/knrbtrj125ggkrx091kd2g840000gn/T/tmpz8tp081e.lp\n",
      "Reading time = 0.00 seconds\n",
      ": 949 rows, 2012 columns, 9034 nonzeros\n",
      " 尝试修复 dead-end cpd01662_c0 后通量: 0.0\n",
      "dead-end cpd01662_c0 → 起点 cpd10515_e0 路径: ['cpd01662_c0', 'cpd00009_c0', 'cpd10515_e0']\n",
      "Read LP format model from file /var/folders/6w/knrbtrj125ggkrx091kd2g840000gn/T/tmpto95h1a6.lp\n",
      "Reading time = 0.00 seconds\n",
      ": 949 rows, 2012 columns, 9034 nonzeros\n",
      " 尝试修复 dead-end cpd01662_c0 后通量: 0.0\n",
      "dead-end cpd00034_e0 → 起点 cpd00034_e0 路径: ['cpd00034_e0']\n",
      "Read LP format model from file /var/folders/6w/knrbtrj125ggkrx091kd2g840000gn/T/tmp0k_umv6s.lp\n",
      "Reading time = 0.00 seconds\n",
      ": 949 rows, 2012 columns, 9034 nonzeros\n",
      " 尝试修复 dead-end cpd00034_e0 后通量: 0.0\n",
      "dead-end cpd01662_c0 → 起点 cpd00034_e0 路径: ['cpd01662_c0', 'cpd00009_c0', 'cpd00034_e0']\n",
      "Read LP format model from file /var/folders/6w/knrbtrj125ggkrx091kd2g840000gn/T/tmpy9sd33t4.lp\n",
      "Reading time = 0.00 seconds\n",
      ": 949 rows, 2012 columns, 9034 nonzeros\n",
      " 尝试修复 dead-end cpd01662_c0 后通量: 0.0\n",
      "dead-end cpd01662_c0 → 起点 cpd00066_e0 路径: ['cpd01662_c0', 'cpd00009_c0', 'cpd00066_e0']\n",
      "Read LP format model from file /var/folders/6w/knrbtrj125ggkrx091kd2g840000gn/T/tmpc_14orgc.lp\n",
      "Reading time = 0.00 seconds\n",
      ": 949 rows, 2012 columns, 9034 nonzeros\n",
      " 尝试修复 dead-end cpd01662_c0 后通量: 0.0\n",
      "dead-end cpd00066_e0 → 起点 cpd00066_e0 路径: ['cpd00066_e0']\n",
      "Read LP format model from file /var/folders/6w/knrbtrj125ggkrx091kd2g840000gn/T/tmpr8b7ugz4.lp\n",
      "Reading time = 0.00 seconds\n",
      ": 949 rows, 2012 columns, 9034 nonzeros\n",
      " 尝试修复 dead-end cpd00066_e0 后通量: 0.0\n",
      "dead-end cpd01662_c0 → 起点 cpd00149_e0 路径: ['cpd01662_c0', 'cpd00009_c0', 'cpd00149_e0']\n",
      "Read LP format model from file /var/folders/6w/knrbtrj125ggkrx091kd2g840000gn/T/tmpw2j1s40c.lp\n",
      "Reading time = 0.00 seconds\n",
      ": 949 rows, 2012 columns, 9034 nonzeros\n",
      " 尝试修复 dead-end cpd01662_c0 后通量: 0.0\n",
      "dead-end cpd32214_c0 → 起点 cpd00058_e0 路径: ['cpd32214_c0', 'cpd00067_c0', 'cpd00058_e0']\n",
      "Read LP format model from file /var/folders/6w/knrbtrj125ggkrx091kd2g840000gn/T/tmpmpi_7qhf.lp\n",
      "Reading time = 0.00 seconds\n",
      ": 949 rows, 2012 columns, 9034 nonzeros\n",
      " 尝试修复 dead-end cpd32214_c0 后通量: 0.0\n",
      "dead-end cpd00211_c0 → 起点 cpd00058_e0 路径: ['cpd00211_c0', 'cpd00067_e0', 'cpd00058_e0']\n",
      "Read LP format model from file /var/folders/6w/knrbtrj125ggkrx091kd2g840000gn/T/tmpytfb8fl9.lp\n",
      "Reading time = 0.00 seconds\n",
      ": 949 rows, 2012 columns, 9034 nonzeros\n",
      " 尝试修复 dead-end cpd00211_c0 后通量: 0.0\n",
      "dead-end cpd24202_c0 → 起点 cpd00058_e0 路径: ['cpd24202_c0', 'cpd00067_c0', 'cpd00058_e0']\n",
      "Read LP format model from file /var/folders/6w/knrbtrj125ggkrx091kd2g840000gn/T/tmpq9c__g8k.lp\n",
      "Reading time = 0.01 seconds\n",
      ": 949 rows, 2012 columns, 9034 nonzeros\n",
      " 尝试修复 dead-end cpd24202_c0 后通量: 0.0\n",
      "dead-end cpd16910_c0 → 起点 cpd00029_e0 路径: ['cpd16910_c0', 'cpd00067_c0', 'cpd00029_e0']\n",
      "Read LP format model from file /var/folders/6w/knrbtrj125ggkrx091kd2g840000gn/T/tmpu21omuk4.lp\n",
      "Reading time = 0.00 seconds\n",
      ": 949 rows, 2012 columns, 9034 nonzeros\n",
      " 尝试修复 dead-end cpd16910_c0 后通量: 0.0\n",
      "dead-end cpd07946_c0 → 起点 cpd00029_e0 路径: ['cpd07946_c0', 'cpd00022_c0', 'cpd00029_c0', 'cpd00029_e0']\n",
      "Read LP format model from file /var/folders/6w/knrbtrj125ggkrx091kd2g840000gn/T/tmpq54za_ia.lp\n",
      "Reading time = 0.00 seconds\n",
      ": 949 rows, 2012 columns, 9034 nonzeros\n",
      " 尝试修复 dead-end cpd07946_c0 后通量: 0.0\n",
      "dead-end cpd00211_c0 → 起点 cpd00029_e0 路径: ['cpd00211_c0', 'cpd00029_c0', 'cpd00029_e0']\n",
      "Read LP format model from file /var/folders/6w/knrbtrj125ggkrx091kd2g840000gn/T/tmplkfm0g9e.lp\n",
      "Reading time = 0.00 seconds\n",
      ": 949 rows, 2012 columns, 9034 nonzeros\n",
      " 尝试修复 dead-end cpd00211_c0 后通量: 0.0\n",
      "dead-end cpd00120_c0 → 起点 cpd00029_e0 路径: ['cpd00120_c0', 'cpd00067_c0', 'cpd00029_e0']\n",
      "Read LP format model from file /var/folders/6w/knrbtrj125ggkrx091kd2g840000gn/T/tmph7383h5h.lp\n",
      "Reading time = 0.00 seconds\n",
      ": 949 rows, 2012 columns, 9034 nonzeros\n",
      " 尝试修复 dead-end cpd00120_c0 后通量: 0.0\n",
      "dead-end cpd00728_c0 → 起点 cpd00029_e0 路径: ['cpd00728_c0', 'cpd00029_c0', 'cpd00029_e0']\n",
      "Read LP format model from file /var/folders/6w/knrbtrj125ggkrx091kd2g840000gn/T/tmpn6__7y5r.lp\n",
      "Reading time = 0.00 seconds\n",
      ": 949 rows, 2012 columns, 9034 nonzeros\n",
      " 尝试修复 dead-end cpd00728_c0 后通量: 0.0\n",
      "dead-end cpd07946_c0 → 起点 cpd00029_e0 路径: ['cpd07946_c0', 'cpd00022_c0', 'cpd00029_c0', 'cpd00029_e0']\n",
      "Read LP format model from file /var/folders/6w/knrbtrj125ggkrx091kd2g840000gn/T/tmpa9k5kc37.lp\n",
      "Reading time = 0.00 seconds\n",
      ": 949 rows, 2012 columns, 9034 nonzeros\n",
      " 尝试修复 dead-end cpd07946_c0 后通量: 0.0\n",
      "dead-end cpd00211_c0 → 起点 cpd00029_e0 路径: ['cpd00211_c0', 'cpd00029_c0', 'cpd00029_e0']\n",
      "Read LP format model from file /var/folders/6w/knrbtrj125ggkrx091kd2g840000gn/T/tmpkyk7whcl.lp\n",
      "Reading time = 0.00 seconds\n",
      ": 949 rows, 2012 columns, 9034 nonzeros\n",
      " 尝试修复 dead-end cpd00211_c0 后通量: 0.0\n",
      "dead-end cpd00120_c0 → 起点 cpd00029_e0 路径: ['cpd00120_c0', 'cpd00067_c0', 'cpd00029_e0']\n",
      "Read LP format model from file /var/folders/6w/knrbtrj125ggkrx091kd2g840000gn/T/tmprndq_bm9.lp\n",
      "Reading time = 0.00 seconds\n",
      ": 949 rows, 2012 columns, 9034 nonzeros\n",
      " 尝试修复 dead-end cpd00120_c0 后通量: 0.0\n",
      "dead-end cpd00728_c0 → 起点 cpd00029_e0 路径: ['cpd00728_c0', 'cpd00029_c0', 'cpd00029_e0']\n",
      "Read LP format model from file /var/folders/6w/knrbtrj125ggkrx091kd2g840000gn/T/tmp6z7p7292.lp\n",
      "Reading time = 0.01 seconds\n",
      ": 949 rows, 2012 columns, 9034 nonzeros\n",
      " 尝试修复 dead-end cpd00728_c0 后通量: 0.0\n"
     ]
    }
   ],
   "source": [
    "enhanced_results = []\n",
    "\n",
    "for res in results:\n",
    "    start = res[\"start\"]\n",
    "    base_rxns = res[\"missing_reactions\"]\n",
    "    dead_mets = res[\"dead_end_metabolites\"]\n",
    "\n",
    "    for dead_met in dead_mets:\n",
    "        try:\n",
    "            # 反向图中从 dead_met → start 找最短路径\n",
    "            reverse_path = nx.shortest_path(G.reverse(), source=dead_met, target=start)\n",
    "            print(f\"dead-end {dead_met} → 起点 {start} 路径: {reverse_path}\")\n",
    "        except:\n",
    "            continue\n",
    "\n",
    "        # 获取修复路径上的反应\n",
    "        repair_rxns = []\n",
    "        for i in range(len(reverse_path) - 1):\n",
    "            try:\n",
    "                rxn_id = G[reverse_path[i]][reverse_path[i + 1]][\"reaction\"]\n",
    "                repair_rxns.append(rxn_id)\n",
    "            except:\n",
    "                continue\n",
    "\n",
    "        # 合并所有需添加的反应\n",
    "        all_rxns_to_add = list(set(base_rxns + repair_rxns))\n",
    "\n",
    "        with model.copy() as m:\n",
    "            for rxn_id in all_rxns_to_add:\n",
    "                if rxn_id in reaction_dict:\n",
    "                    new_rxn = reaction_dict[rxn_id].copy()\n",
    "                    m.add_reactions([new_rxn])\n",
    "\n",
    "            # 添加起点 exchange\n",
    "            ex_id = f\"EX_{start}\"\n",
    "            if ex_id not in m.reactions:\n",
    "                try:\n",
    "                    ex = Reaction(ex_id)\n",
    "                    ex.lower_bound = -10\n",
    "                    ex.upper_bound = 1000\n",
    "                    ex.add_metabolites({m.metabolites.get_by_id(start): -1})\n",
    "                    m.add_reactions([ex])\n",
    "                except:\n",
    "                    continue\n",
    "            else:\n",
    "                m.reactions.get_by_id(ex_id).lower_bound = -10\n",
    "\n",
    "            # 添加目标产物 exchange\n",
    "            target_ex_id = \"EX_cpd00211_e0\"\n",
    "            if target_ex_id not in m.reactions:\n",
    "                try:\n",
    "                    target_met = m.metabolites.get_by_id(\"cpd00211_e0\")\n",
    "                    ex = Reaction(target_ex_id)\n",
    "                    ex.lower_bound = 0\n",
    "                    ex.upper_bound = 1000\n",
    "                    ex.add_metabolites({target_met: -1})\n",
    "                    m.add_reactions([ex])\n",
    "                except:\n",
    "                    continue\n",
    "            m.objective = target_ex_id\n",
    "\n",
    "            # 优化\n",
    "            sol = m.optimize()\n",
    "            flux = sol.objective_value if sol.status == \"optimal\" else 0\n",
    "            print(f\" 尝试修复 dead-end {dead_met} 后通量: {flux}\")\n",
    "\n",
    "            enhanced_results.append({\n",
    "                \"start\": start,\n",
    "                \"original_dead_end\": dead_met,\n",
    "                \"original_missing\": base_rxns,\n",
    "                \"repair_rxns\": repair_rxns,\n",
    "                \"flux_after_repair\": flux\n",
    "            })\n"
   ]
  },
  {
   "cell_type": "code",
   "execution_count": 87,
   "id": "56f239af",
   "metadata": {},
   "outputs": [
    {
     "data": {
      "text/html": [
       "<div>\n",
       "<style scoped>\n",
       "    .dataframe tbody tr th:only-of-type {\n",
       "        vertical-align: middle;\n",
       "    }\n",
       "\n",
       "    .dataframe tbody tr th {\n",
       "        vertical-align: top;\n",
       "    }\n",
       "\n",
       "    .dataframe thead th {\n",
       "        text-align: right;\n",
       "    }\n",
       "</style>\n",
       "<table border=\"1\" class=\"dataframe\">\n",
       "  <thead>\n",
       "    <tr style=\"text-align: right;\">\n",
       "      <th></th>\n",
       "      <th>start</th>\n",
       "      <th>original_dead_end</th>\n",
       "      <th>original_missing</th>\n",
       "      <th>repair_rxns</th>\n",
       "      <th>flux_after_repair</th>\n",
       "    </tr>\n",
       "  </thead>\n",
       "  <tbody>\n",
       "    <tr>\n",
       "      <th>0</th>\n",
       "      <td>cpd00254_e0</td>\n",
       "      <td>cpd01662_c0</td>\n",
       "      <td>[rxn10571, rxn01236]</td>\n",
       "      <td>[rxn00871]</td>\n",
       "      <td>0.0</td>\n",
       "    </tr>\n",
       "    <tr>\n",
       "      <th>1</th>\n",
       "      <td>cpd00205_e0</td>\n",
       "      <td>cpd00205_e0</td>\n",
       "      <td>[rxn18910, rxn01236]</td>\n",
       "      <td>[]</td>\n",
       "      <td>0.0</td>\n",
       "    </tr>\n",
       "    <tr>\n",
       "      <th>2</th>\n",
       "      <td>cpd00205_e0</td>\n",
       "      <td>cpd01662_c0</td>\n",
       "      <td>[rxn18910, rxn01236]</td>\n",
       "      <td>[rxn00871, rxn13842]</td>\n",
       "      <td>0.0</td>\n",
       "    </tr>\n",
       "    <tr>\n",
       "      <th>3</th>\n",
       "      <td>cpd00166_e0</td>\n",
       "      <td>cpd00166_e0</td>\n",
       "      <td>[rxn18671, rxn01236]</td>\n",
       "      <td>[]</td>\n",
       "      <td>0.0</td>\n",
       "    </tr>\n",
       "    <tr>\n",
       "      <th>4</th>\n",
       "      <td>cpd00166_e0</td>\n",
       "      <td>cpd01662_c0</td>\n",
       "      <td>[rxn18671, rxn01236]</td>\n",
       "      <td>[rxn00871]</td>\n",
       "      <td>0.0</td>\n",
       "    </tr>\n",
       "    <tr>\n",
       "      <th>5</th>\n",
       "      <td>cpd00322_e0</td>\n",
       "      <td>cpd00322_e0</td>\n",
       "      <td>[rxn08745, rxn01236]</td>\n",
       "      <td>[]</td>\n",
       "      <td>0.0</td>\n",
       "    </tr>\n",
       "    <tr>\n",
       "      <th>6</th>\n",
       "      <td>cpd00322_e0</td>\n",
       "      <td>cpd01662_c0</td>\n",
       "      <td>[rxn08745, rxn01236]</td>\n",
       "      <td>[rxn00871]</td>\n",
       "      <td>0.0</td>\n",
       "    </tr>\n",
       "    <tr>\n",
       "      <th>7</th>\n",
       "      <td>cpd00104_e0</td>\n",
       "      <td>cpd00104_e0</td>\n",
       "      <td>[rxn05223, rxn01236]</td>\n",
       "      <td>[]</td>\n",
       "      <td>0.0</td>\n",
       "    </tr>\n",
       "    <tr>\n",
       "      <th>8</th>\n",
       "      <td>cpd00104_e0</td>\n",
       "      <td>cpd01662_c0</td>\n",
       "      <td>[rxn05223, rxn01236]</td>\n",
       "      <td>[rxn00871, rxn05223]</td>\n",
       "      <td>0.0</td>\n",
       "    </tr>\n",
       "    <tr>\n",
       "      <th>9</th>\n",
       "      <td>cpd10515_e0</td>\n",
       "      <td>cpd01662_c0</td>\n",
       "      <td>[rxn08472, rxn01236]</td>\n",
       "      <td>[rxn00871]</td>\n",
       "      <td>0.0</td>\n",
       "    </tr>\n",
       "    <tr>\n",
       "      <th>10</th>\n",
       "      <td>cpd00034_e0</td>\n",
       "      <td>cpd00034_e0</td>\n",
       "      <td>[rxn09392, rxn01236]</td>\n",
       "      <td>[]</td>\n",
       "      <td>0.0</td>\n",
       "    </tr>\n",
       "    <tr>\n",
       "      <th>11</th>\n",
       "      <td>cpd00034_e0</td>\n",
       "      <td>cpd01662_c0</td>\n",
       "      <td>[rxn09392, rxn01236]</td>\n",
       "      <td>[rxn00871]</td>\n",
       "      <td>0.0</td>\n",
       "    </tr>\n",
       "    <tr>\n",
       "      <th>12</th>\n",
       "      <td>cpd00066_e0</td>\n",
       "      <td>cpd01662_c0</td>\n",
       "      <td>[rxn18584, rxn01236]</td>\n",
       "      <td>[rxn00871]</td>\n",
       "      <td>0.0</td>\n",
       "    </tr>\n",
       "    <tr>\n",
       "      <th>13</th>\n",
       "      <td>cpd00066_e0</td>\n",
       "      <td>cpd00066_e0</td>\n",
       "      <td>[rxn18584, rxn01236]</td>\n",
       "      <td>[]</td>\n",
       "      <td>0.0</td>\n",
       "    </tr>\n",
       "    <tr>\n",
       "      <th>14</th>\n",
       "      <td>cpd00149_e0</td>\n",
       "      <td>cpd01662_c0</td>\n",
       "      <td>[rxn05166, rxn01236]</td>\n",
       "      <td>[rxn00871]</td>\n",
       "      <td>0.0</td>\n",
       "    </tr>\n",
       "    <tr>\n",
       "      <th>15</th>\n",
       "      <td>cpd00058_e0</td>\n",
       "      <td>cpd32214_c0</td>\n",
       "      <td>[rxn29072, rxn45696]</td>\n",
       "      <td>[rxn48231]</td>\n",
       "      <td>0.0</td>\n",
       "    </tr>\n",
       "    <tr>\n",
       "      <th>16</th>\n",
       "      <td>cpd00058_e0</td>\n",
       "      <td>cpd00211_c0</td>\n",
       "      <td>[rxn29072, rxn45696]</td>\n",
       "      <td>[rxn08183, rxn47783]</td>\n",
       "      <td>0.0</td>\n",
       "    </tr>\n",
       "    <tr>\n",
       "      <th>17</th>\n",
       "      <td>cpd00058_e0</td>\n",
       "      <td>cpd24202_c0</td>\n",
       "      <td>[rxn29072, rxn45696]</td>\n",
       "      <td>[rxn45696]</td>\n",
       "      <td>0.0</td>\n",
       "    </tr>\n",
       "    <tr>\n",
       "      <th>18</th>\n",
       "      <td>cpd00029_e0</td>\n",
       "      <td>cpd16910_c0</td>\n",
       "      <td>[rxn31359, rxn13427]</td>\n",
       "      <td>[rxn13429, rxn08061]</td>\n",
       "      <td>0.0</td>\n",
       "    </tr>\n",
       "    <tr>\n",
       "      <th>19</th>\n",
       "      <td>cpd00029_e0</td>\n",
       "      <td>cpd07946_c0</td>\n",
       "      <td>[rxn31359, rxn13427]</td>\n",
       "      <td>[rxn25216, rxn45006, rxn31359]</td>\n",
       "      <td>0.0</td>\n",
       "    </tr>\n",
       "    <tr>\n",
       "      <th>20</th>\n",
       "      <td>cpd00029_e0</td>\n",
       "      <td>cpd00211_c0</td>\n",
       "      <td>[rxn31359, rxn13427]</td>\n",
       "      <td>[rxn13427, rxn31359]</td>\n",
       "      <td>0.0</td>\n",
       "    </tr>\n",
       "    <tr>\n",
       "      <th>21</th>\n",
       "      <td>cpd00029_e0</td>\n",
       "      <td>cpd00120_c0</td>\n",
       "      <td>[rxn31359, rxn13427]</td>\n",
       "      <td>[rxn38810, rxn08061]</td>\n",
       "      <td>0.0</td>\n",
       "    </tr>\n",
       "    <tr>\n",
       "      <th>22</th>\n",
       "      <td>cpd00029_e0</td>\n",
       "      <td>cpd00728_c0</td>\n",
       "      <td>[rxn31359, rxn13427]</td>\n",
       "      <td>[rxn25216, rxn31359]</td>\n",
       "      <td>0.0</td>\n",
       "    </tr>\n",
       "    <tr>\n",
       "      <th>23</th>\n",
       "      <td>cpd00029_e0</td>\n",
       "      <td>cpd07946_c0</td>\n",
       "      <td>[rxn31359, rxn13427]</td>\n",
       "      <td>[rxn25216, rxn45006, rxn31359]</td>\n",
       "      <td>0.0</td>\n",
       "    </tr>\n",
       "    <tr>\n",
       "      <th>24</th>\n",
       "      <td>cpd00029_e0</td>\n",
       "      <td>cpd00211_c0</td>\n",
       "      <td>[rxn31359, rxn13427]</td>\n",
       "      <td>[rxn13427, rxn31359]</td>\n",
       "      <td>0.0</td>\n",
       "    </tr>\n",
       "    <tr>\n",
       "      <th>25</th>\n",
       "      <td>cpd00029_e0</td>\n",
       "      <td>cpd00120_c0</td>\n",
       "      <td>[rxn31359, rxn13427]</td>\n",
       "      <td>[rxn38810, rxn08061]</td>\n",
       "      <td>0.0</td>\n",
       "    </tr>\n",
       "    <tr>\n",
       "      <th>26</th>\n",
       "      <td>cpd00029_e0</td>\n",
       "      <td>cpd00728_c0</td>\n",
       "      <td>[rxn31359, rxn13427]</td>\n",
       "      <td>[rxn25216, rxn31359]</td>\n",
       "      <td>0.0</td>\n",
       "    </tr>\n",
       "  </tbody>\n",
       "</table>\n",
       "</div>"
      ],
      "text/plain": [
       "          start original_dead_end      original_missing  \\\n",
       "0   cpd00254_e0       cpd01662_c0  [rxn10571, rxn01236]   \n",
       "1   cpd00205_e0       cpd00205_e0  [rxn18910, rxn01236]   \n",
       "2   cpd00205_e0       cpd01662_c0  [rxn18910, rxn01236]   \n",
       "3   cpd00166_e0       cpd00166_e0  [rxn18671, rxn01236]   \n",
       "4   cpd00166_e0       cpd01662_c0  [rxn18671, rxn01236]   \n",
       "5   cpd00322_e0       cpd00322_e0  [rxn08745, rxn01236]   \n",
       "6   cpd00322_e0       cpd01662_c0  [rxn08745, rxn01236]   \n",
       "7   cpd00104_e0       cpd00104_e0  [rxn05223, rxn01236]   \n",
       "8   cpd00104_e0       cpd01662_c0  [rxn05223, rxn01236]   \n",
       "9   cpd10515_e0       cpd01662_c0  [rxn08472, rxn01236]   \n",
       "10  cpd00034_e0       cpd00034_e0  [rxn09392, rxn01236]   \n",
       "11  cpd00034_e0       cpd01662_c0  [rxn09392, rxn01236]   \n",
       "12  cpd00066_e0       cpd01662_c0  [rxn18584, rxn01236]   \n",
       "13  cpd00066_e0       cpd00066_e0  [rxn18584, rxn01236]   \n",
       "14  cpd00149_e0       cpd01662_c0  [rxn05166, rxn01236]   \n",
       "15  cpd00058_e0       cpd32214_c0  [rxn29072, rxn45696]   \n",
       "16  cpd00058_e0       cpd00211_c0  [rxn29072, rxn45696]   \n",
       "17  cpd00058_e0       cpd24202_c0  [rxn29072, rxn45696]   \n",
       "18  cpd00029_e0       cpd16910_c0  [rxn31359, rxn13427]   \n",
       "19  cpd00029_e0       cpd07946_c0  [rxn31359, rxn13427]   \n",
       "20  cpd00029_e0       cpd00211_c0  [rxn31359, rxn13427]   \n",
       "21  cpd00029_e0       cpd00120_c0  [rxn31359, rxn13427]   \n",
       "22  cpd00029_e0       cpd00728_c0  [rxn31359, rxn13427]   \n",
       "23  cpd00029_e0       cpd07946_c0  [rxn31359, rxn13427]   \n",
       "24  cpd00029_e0       cpd00211_c0  [rxn31359, rxn13427]   \n",
       "25  cpd00029_e0       cpd00120_c0  [rxn31359, rxn13427]   \n",
       "26  cpd00029_e0       cpd00728_c0  [rxn31359, rxn13427]   \n",
       "\n",
       "                       repair_rxns  flux_after_repair  \n",
       "0                       [rxn00871]                0.0  \n",
       "1                               []                0.0  \n",
       "2             [rxn00871, rxn13842]                0.0  \n",
       "3                               []                0.0  \n",
       "4                       [rxn00871]                0.0  \n",
       "5                               []                0.0  \n",
       "6                       [rxn00871]                0.0  \n",
       "7                               []                0.0  \n",
       "8             [rxn00871, rxn05223]                0.0  \n",
       "9                       [rxn00871]                0.0  \n",
       "10                              []                0.0  \n",
       "11                      [rxn00871]                0.0  \n",
       "12                      [rxn00871]                0.0  \n",
       "13                              []                0.0  \n",
       "14                      [rxn00871]                0.0  \n",
       "15                      [rxn48231]                0.0  \n",
       "16            [rxn08183, rxn47783]                0.0  \n",
       "17                      [rxn45696]                0.0  \n",
       "18            [rxn13429, rxn08061]                0.0  \n",
       "19  [rxn25216, rxn45006, rxn31359]                0.0  \n",
       "20            [rxn13427, rxn31359]                0.0  \n",
       "21            [rxn38810, rxn08061]                0.0  \n",
       "22            [rxn25216, rxn31359]                0.0  \n",
       "23  [rxn25216, rxn45006, rxn31359]                0.0  \n",
       "24            [rxn13427, rxn31359]                0.0  \n",
       "25            [rxn38810, rxn08061]                0.0  \n",
       "26            [rxn25216, rxn31359]                0.0  "
      ]
     },
     "execution_count": 87,
     "metadata": {},
     "output_type": "execute_result"
    }
   ],
   "source": [
    "import pandas as pd\n",
    "\n",
    "dff = pd.DataFrame(enhanced_results)\n",
    "dff\n"
   ]
  },
  {
   "cell_type": "code",
   "execution_count": null,
   "id": "3d7cc997",
   "metadata": {},
   "outputs": [],
   "source": []
  }
 ],
 "metadata": {
  "kernelspec": {
   "display_name": "electromics-project-Ddk0_V8b-py3.10",
   "language": "python",
   "name": "python3"
  },
  "language_info": {
   "codemirror_mode": {
    "name": "ipython",
    "version": 3
   },
   "file_extension": ".py",
   "mimetype": "text/x-python",
   "name": "python",
   "nbconvert_exporter": "python",
   "pygments_lexer": "ipython3",
   "version": "3.10.13"
  }
 },
 "nbformat": 4,
 "nbformat_minor": 5
}
