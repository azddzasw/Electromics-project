{
  "cells": [
    {
      "cell_type": "markdown",
      "metadata": {
        "id": "_g-tdTxc359V"
      },
      "source": [
        "# **Computational Methods Applied To Genome-Scale Metabolic Models**"
      ]
    },
    {
      "cell_type": "markdown",
      "metadata": {
        "id": "ocbbZPIP7fr5"
      },
      "source": [
        "## **Prepare your environment**"
      ]
    },
    {
      "cell_type": "markdown",
      "metadata": {
        "id": "8N4ZfPqSqPK7"
      },
      "source": [
        "### Gurobi and cobra"
      ]
    },
    {
      "cell_type": "markdown",
      "metadata": {
        "id": "OHPGabyX7fr5"
      },
      "source": [
        "To run this note, you need COBRApy and gurobi. [See the notebook on preparing your environment for a more detailed explanation](preparingYourEnvironment.ipynb)"
      ]
    },
    {
      "cell_type": "code",
      "execution_count": null,
      "metadata": {
        "id": "6j7wy5YNqPK7"
      },
      "outputs": [],
      "source": [
        "# This is just a helper function to check if you are on a Colab env\n",
        "def is_colab():\n",
        "    import sys\n",
        "    return \"google.colab\" in sys.modules"
      ]
    },
    {
      "cell_type": "code",
      "execution_count": null,
      "metadata": {
        "id": "bSbKy1w-qPK8"
      },
      "outputs": [],
      "source": [
        "# Function to make sure you can use Gurobi on Colab\n",
        "def create_gurobi_license(WLSACCESSID, WLSSECRET, LICENSEID):\n",
        "    license_content = (\n",
        "        \"# Gurobi WLS license file\\n\"\n",
        "        \"# Your credentials are private and should not be shared or copied to public repositories.\\n\"\n",
        "        \"# Visit https://license.gurobi.com/manager/doc/overview for more information.\\n\"\n",
        "        f\"WLSACCESSID={WLSACCESSID}\\n\"\n",
        "        f\"WLSSECRET={WLSSECRET}\\n\"\n",
        "        f\"LICENSEID={LICENSEID}\"\n",
        "    )\n",
        "    with open(\"/content/licenses/gurobi.lic\", \"w\") as f:\n",
        "        f.write(license_content)\n",
        "    print(\"License file created at /content/licenses/gurobi.lic\")"
      ]
    },
    {
      "cell_type": "markdown",
      "metadata": {
        "id": "MfnNAUEqqPK8"
      },
      "source": [
        "In case you are using the Colab, please provide your Gurobi credentials:"
      ]
    },
    {
      "cell_type": "code",
      "execution_count": null,
      "metadata": {
        "id": "QU_OSBzNqPK8"
      },
      "outputs": [],
      "source": [
        "WLSACCESSID = \"\"\n",
        "WLSSECRET   = \"\"\n",
        "LICENSEID   = \"\""
      ]
    },
    {
      "cell_type": "code",
      "execution_count": null,
      "metadata": {
        "cellView": "form",
        "id": "-ej0Rpx57fr6"
      },
      "outputs": [],
      "source": [
        "import os\n",
        "\n",
        "if is_colab():\n",
        "\n",
        "    # Create directory for the license\n",
        "    os.makedirs(\"/content/licenses\", exist_ok=True)\n",
        "\n",
        "    # Generate the license file\n",
        "    create_gurobi_license(WLSACCESSID, WLSSECRET, LICENSEID)\n",
        "\n",
        "    #add to path\n",
        "    os.environ['GRB_LICENSE_FILE'] = '/content/licenses/gurobi.lic'"
      ]
    },
    {
      "cell_type": "code",
      "execution_count": null,
      "metadata": {
        "cellView": "form",
        "collapsed": true,
        "id": "fz0l7M107fr7"
      },
      "outputs": [],
      "source": [
        "!pip install gurobipy\n",
        "!pip install cobra"
      ]
    },
    {
      "cell_type": "code",
      "execution_count": null,
      "metadata": {
        "cellView": "form",
        "collapsed": true,
        "id": "x9B7PXyz7fr8"
      },
      "outputs": [],
      "source": [
        "import gurobipy\n",
        "from gurobipy import Model\n",
        "model = Model(\"test\")\n",
        "print(\"Gurobi is working!\", \"\\U0001F600\")\n",
        "\n",
        "#install COBRApy\n",
        "import cobra\n",
        "from cobra.io import load_model\n",
        "model = load_model(\"textbook\")\n",
        "solution = model.optimize()\n",
        "print(f\"flux balance analysis solution is {solution.objective_value}\")\n",
        "print(\"COBRApy is working\", \"\\U0001F600\")"
      ]
    },
    {
      "cell_type": "markdown",
      "metadata": {
        "id": "y5yfknVj7fr8"
      },
      "source": [
        "### **Get path with files we will use**"
      ]
    },
    {
      "cell_type": "markdown",
      "metadata": {
        "id": "ETVubUV0qPK9"
      },
      "source": [
        "> **NOTE**\n",
        ">\n",
        "> Run the following two chunks, **only** in case you are working on Google Colab."
      ]
    },
    {
      "cell_type": "code",
      "execution_count": null,
      "metadata": {
        "collapsed": true,
        "id": "8qf9JSqb8XkY"
      },
      "outputs": [],
      "source": [
        "!git clone https://github.com/hariszaf/metabolic_toy_model.git"
      ]
    },
    {
      "cell_type": "code",
      "execution_count": null,
      "metadata": {
        "id": "Klmhq2DqqPK9"
      },
      "outputs": [],
      "source": [
        "import os\n",
        "os.chdir(\"/content/metabolic_toy_model/Antony2025\")"
      ]
    },
    {
      "cell_type": "markdown",
      "metadata": {
        "id": "CBzcaajrqPK9"
      },
      "source": [
        "### Access some extra scripts"
      ]
    },
    {
      "cell_type": "code",
      "execution_count": null,
      "metadata": {
        "id": "UtmsbeSXqPK9"
      },
      "outputs": [],
      "source": [
        "import numpy as np\n",
        "import sys, os\n",
        "\n",
        "sys.path.append( os.path.dirname(os.getcwd()) )\n",
        "from scripts.intro import *"
      ]
    },
    {
      "cell_type": "markdown",
      "metadata": {
        "id": "js8tS_sAqPK9"
      },
      "source": [
        "## Background on constraint-based analysis"
      ]
    },
    {
      "cell_type": "markdown",
      "metadata": {
        "id": "yl-WTHC5qPK9"
      },
      "source": [
        "### What is LP?"
      ]
    },
    {
      "cell_type": "markdown",
      "metadata": {
        "id": "sEC-0S0kqPK9"
      },
      "source": [
        "> **DEFINITION**\n",
        ">\n",
        "> **Linear programming (LP**), also called **linear optimization**, is a method to achieve the *best* outcome (such as *maximum* profit or *lowest* cost) in a mathematical\n",
        "> *model* whose ***requirements*** and ***objective*** are represented by **linear relationships**.\n",
        ">\n",
        "> Linear programming is a special case of mathematical programming (also known as mathematical optimization).\n",
        ">\n",
        "> From the [LP wiki lemma](https://en.wikipedia.org/wiki/Linear_programming):\n"
      ]
    },
    {
      "cell_type": "markdown",
      "metadata": {
        "id": "Hj8g4MKzqPK9"
      },
      "source": [
        "![starwars](https://img.filmsactu.net/datas/films/s/t/star-wars-episode-ix/n/star-wars-episode-ix-gif-5ccb96a1c2f0a.gif)"
      ]
    },
    {
      "cell_type": "markdown",
      "metadata": {
        "id": "zBGsTtfdqPK9"
      },
      "source": [
        "Let's try to define the above in mathematical terms and then go through those!"
      ]
    },
    {
      "cell_type": "markdown",
      "metadata": {
        "id": "I174n_XJqPK9"
      },
      "source": [
        "Linear programs are problems that can be expressed in standard form as:\n",
        "\n",
        "\n",
        "\\begin{array}{l r}\n",
        "    \\text{(Find a vector in which you are interested in, e.g. fluxes of a set of reactions)} & \\mathrm{x} \\\\\n",
        "    \\text{(that maximizes a certain objective function, e.g. the ATP production)} & c^T \\mathrm{x} \\\\\n",
        "    \\text{(subject to, meaning that it respects a set of constraints)} & A\\mathrm{x} \\leq b \\\\\n",
        "    \\text{(and some extra constraints!)} & \\mathrm{x} \\geq 0\n",
        "\\end{array}\n"
      ]
    },
    {
      "cell_type": "markdown",
      "metadata": {
        "id": "k808dj_wqPK9"
      },
      "source": [
        "The above formula is the **generic form** of a liner program.\n",
        "To better understand it, we will map the quantities of the system with their metabolic model-oriented ones."
      ]
    },
    {
      "cell_type": "markdown",
      "metadata": {
        "id": "eLazUdM6qPK9"
      },
      "source": [
        "Consider a very short pathway that consists of only four reactions."
      ]
    },
    {
      "cell_type": "markdown",
      "metadata": {
        "id": "-il40Pk9qPK9"
      },
      "source": [
        "![s_example](https://github.com/hariszaf/metabolic_toy_model/blob/main/files/figs/s_examples.png?raw=1)"
      ]
    },
    {
      "cell_type": "markdown",
      "metadata": {
        "id": "9mcY42zJqPK9"
      },
      "source": [
        "> Hint :warning:\n",
        ">\n",
        "> As you can see, metabolite and reaction names in this case do not have the `rxn` and `cpd` prefixes.\n",
        "> This is because they come from the [BiGG](http://bigg.ucsd.edu) namespace and not from the one of ModelSEED that we use in this workshop's models."
      ]
    },
    {
      "cell_type": "markdown",
      "metadata": {
        "id": "HLST1AaAqPK9"
      },
      "source": [
        "In this figure, you can see the basic concept of metabolic modeling analysis.\n",
        "The network on the left is just a representation of what we are actually using, a list of enzymes (RNDR2, GKI, PYK etc.)!\n",
        "\n",
        "The **stoichiometry** of each of those reactions is **always the same, across all different taxa**!\n",
        "\n",
        "Therefore, from a list of enzymes, we can build the $S$ table on the right, where each row is a metabolite and its column is a reaction, with the values on the table per column, represent the stoichiometry of the corresponding reaction!"
      ]
    },
    {
      "cell_type": "markdown",
      "metadata": {
        "id": "CpHAI_WyqPK-"
      },
      "source": [
        "\n",
        ":red_circle: This stoichiometric matrix ($S$) corresponds to the $A$ matrix on the generic form of the LP.\n",
        "\n",
        ":red_circle: Our constraints $v_{lb}$ and $v_{ub}$ correspond to the $b$ vector on the generic form of the LP.\n",
        "\n",
        ":red_circle: The quantity to be determined ($\\mathrm{x}$) in our case would be the flux vector, ie., a $v$ that supports the optimal value.\n",
        "\n",
        ":red_circle: The objective function $c^Tx$ in the generic formula, is nothing but our flux vector ($v$) when multiplied with the objective coefficients vector ($c$)."
      ]
    },
    {
      "cell_type": "markdown",
      "metadata": {
        "id": "zWdxraDfqPK-"
      },
      "source": [
        "> **NOTE**\n",
        ">\n",
        "> :exclamation: If you look a bit closer, you may notice that in our case, we have both lower and upper bounds,\n",
        "> while in the generic formula we see only a part for having the product between the matrix and the quantity to be determined.\n",
        ">\n",
        "> Can you think how this would be addressed ?"
      ]
    },
    {
      "cell_type": "code",
      "execution_count": null,
      "metadata": {
        "id": "h5HHVTdIqPK-"
      },
      "outputs": [],
      "source": []
    },
    {
      "cell_type": "markdown",
      "metadata": {
        "id": "N5ZVIp-5qPK-"
      },
      "source": []
    },
    {
      "cell_type": "code",
      "execution_count": null,
      "metadata": {
        "id": "jm9vN9OZqPK-"
      },
      "outputs": [],
      "source": [
        "# Stoichiometric matrix for a single reaction: A -> B, constraints are -v1 + v2 = 0\n",
        "S = np.array([[1, -1]])\n",
        "\n",
        "# Bounds: flux 1 between 0 and 5, flux 2 between 0 and 5\n",
        "bounds = [(-2, 10), (-4, 5)]\n",
        "\n",
        "# Objective: Maximize v2 (e.g., production of B)\n",
        "objective = np.array([0, 1])\n",
        "\n",
        "# Create the FBA instance\n",
        "fba = FluxBalanceAnalysis(S, bounds, objective)\n",
        "\n",
        "# Run optimization\n",
        "result = fba.optimize()\n",
        "print(\"Optimization Result:\", result)"
      ]
    },
    {
      "cell_type": "code",
      "execution_count": null,
      "metadata": {
        "id": "QD1nH2sgqPK-"
      },
      "outputs": [],
      "source": [
        "# Visualize the geometry\n",
        "fba.visualize_geometry()"
      ]
    },
    {
      "cell_type": "markdown",
      "metadata": {
        "id": "CO_d4OW6qPK-"
      },
      "source": [
        "> :question: **Task!**\n",
        ">\n",
        "> Who can describe us how the PYK reaction of the network is represented on the $S$ table?  \n"
      ]
    },
    {
      "cell_type": "markdown",
      "metadata": {
        "id": "fy3iKLikqPK-"
      },
      "source": [
        "Yet, what we are interested in are the fluxes, but what is it actually a flux ?\n",
        "\n",
        "\n",
        "(\n",
        "    for more visual and conceptual components, you may travel on the [*Journey of a Metabolite*](https://iwasa.biochem.utah.edu/metabolism/chapter2.html)\n",
        ")\n"
      ]
    },
    {
      "cell_type": "markdown",
      "metadata": {
        "id": "W0WcDapXqPK-"
      },
      "source": [
        "<iframe src=\"https://player.vimeo.com/video/542375960\" width=\"840\" height=\"560\" frameborder=\"0\" allowfullscreen></iframe>"
      ]
    },
    {
      "cell_type": "markdown",
      "metadata": {
        "id": "MhZyvpJWqPK-"
      },
      "source": [
        "> **Definition**\n",
        ">\n",
        "> Metabolic **flux** is amount of a metabolite processed by one or more catalytic steps per unit of time, and it is normalized by cellular abundance (e.g. gram dry weight) ([Stephanopoulos et al., 1998](https://www.sciencedirect.com/book/9780126662603/metabolic-engineering))."
      ]
    },
    {
      "cell_type": "markdown",
      "metadata": {
        "id": "hGweMMQyqPK-"
      },
      "source": [
        "Thus, there is a very simple relationship between concentrations and fluxes:\n",
        "\n",
        " $$ \\frac{dx}{dt}= Sv(x) $$\n",
        "\n",
        "where:\n",
        "- $x$ the concentration vector\n",
        "- $S$ the stoichiometric matrix of your network, and\n",
        "- $v$ the fluxes of your species at a certain time point.\n",
        "\n",
        "Assuming our system lives in a steady state, meaning the **concentrations** of metabolites remain **constant** over time, meaning that the **rates of production and consumption** of each metabolite are **balanced**.\n"
      ]
    },
    {
      "cell_type": "markdown",
      "metadata": {
        "id": "g02RU-0HqPK-"
      },
      "source": [
        "### What is a constraint ?"
      ]
    },
    {
      "cell_type": "markdown",
      "metadata": {
        "id": "HGRYK-KeqPK-"
      },
      "source": [
        "We call a ***constraint*** a mathematical condition that limits the feasible solutions of an optimization problem. Constraints define the relationships between decision variables and ensure that the solution satisfies certain conditions."
      ]
    },
    {
      "cell_type": "markdown",
      "metadata": {
        "id": "RWqxV1xEqPK-"
      },
      "source": [
        "In metabolic modeling, there are several types of constraints representing various biological factors.\n",
        "\n",
        "Constraints may be denoted either as:\n",
        "\n",
        "- **Equality constraints:**\n",
        "  e.g. $x_1 + x_2 = 10$\n",
        "\n",
        "- **Inequality constraints:**\n",
        "  e.g. $2x_1 - 4x_3 \\leq 30$\n",
        "\n",
        "- **Bound constraints**:\n",
        "  e.g. $0 \\leq x_1 \\leq 20$\n"
      ]
    },
    {
      "cell_type": "markdown",
      "metadata": {
        "id": "4LRkmU-qqPK_"
      },
      "source": [
        "Indicatively, we may note:\n",
        "    \n",
        "- **Mass Balance Constraints (Steady-State Constraint)**\n",
        "  Core of our LP.\n",
        "  Ensures that metabolite concentrations remain constant (no accumulation or depletion).\n",
        "\n",
        "- **Thermodynamic Constraints**\n",
        "\n",
        "  Impose reaction directionality (some reactions are irreversible).\n",
        "  Based on Gibbs free energy:\n",
        "\n",
        "  $ΔG=ΔG^0 + RTln(Q)$\n",
        "\n",
        "\n",
        "- **Enzyme Capacity Constraints**\n",
        "  Limits fluxes based on enzyme abundance or activity\n",
        "\n",
        "- **Nutrient Uptake Constraints**\n",
        "  exchange reactions\n",
        "\n",
        "- **Resource allocation**\n",
        "\n",
        "$$\\sum_i \\frac{v_i}{k_{\\text{cat}, i} E_i} \\leq E_{\\text{total}}$$\n",
        "\n",
        "where:\n",
        "\n",
        "$v_i$ = reaction flux,\n",
        "$k_{cat,i}$ = enzyme turnover number,\n",
        "$E_i​$  = enzyme concentration,\n",
        "$E_{total}$ = total enzyme budget\n",
        "\n",
        "- **Energy constraints (ATP)**\n",
        "\n",
        "  ATP maintenance requirements for cellular functions\n",
        "\n",
        "- **Coupling constraints**\n",
        "\n",
        " Links fluxes of related reactions due to enzyme co-regulation or co-factor dependencies.\n",
        " e.g. $v_1 = kv_2$\n",
        "​\n"
      ]
    },
    {
      "cell_type": "code",
      "execution_count": null,
      "metadata": {
        "id": "UU-miy08qPK_"
      },
      "outputs": [],
      "source": [
        "samples_in_constraint_3D(\n",
        "    r1_bounds = [5, 10],\n",
        "    r2_bounds = [-2, 10],\n",
        "    r3_bounds = [0,  40],\n",
        "    r3_relationship = [-1, -1]\n",
        ")\n",
        "# In case you are running this locally and you get an error,\n",
        "# try to prvide a renderer on the function\n",
        "# e.g samples_in_constraint_3D(r1_bounds, r2_bounds, r3_bounds, renderer=\"browser\")"
      ]
    },
    {
      "cell_type": "markdown",
      "metadata": {
        "id": "zVrYd3OlqPK_"
      },
      "source": [
        "## Constraint-based methods for metabolic modeling analysis"
      ]
    },
    {
      "cell_type": "markdown",
      "metadata": {
        "id": "D_cBZZRaqPK_"
      },
      "source": [
        "### Flux Balance Analysis"
      ]
    },
    {
      "cell_type": "code",
      "execution_count": null,
      "metadata": {
        "id": "VEHZHVsJqPK_"
      },
      "outputs": [],
      "source": [
        "import cobra\n",
        "ecoli = cobra.io.read_sbml_model(\"files/models/e_coli_core.xml\")"
      ]
    },
    {
      "cell_type": "code",
      "execution_count": null,
      "metadata": {
        "id": "5YmfCIQgqPK_"
      },
      "outputs": [],
      "source": [
        "ecoli"
      ]
    },
    {
      "cell_type": "code",
      "execution_count": null,
      "metadata": {
        "id": "cRVr7PKJqPK_"
      },
      "outputs": [],
      "source": [
        "sol_fba = ecoli.optimize()"
      ]
    },
    {
      "cell_type": "code",
      "execution_count": null,
      "metadata": {
        "id": "3ZZtkskNqPK_"
      },
      "outputs": [],
      "source": [
        "sum_fba = ecoli.summary()"
      ]
    },
    {
      "cell_type": "code",
      "execution_count": null,
      "metadata": {
        "id": "280nq8wVqPK_"
      },
      "outputs": [],
      "source": [
        "sum_fba"
      ]
    },
    {
      "cell_type": "markdown",
      "metadata": {
        "id": "ftc8Dml5qPK_"
      },
      "source": [
        "> **TASK**\n",
        ">\n",
        "> 1. What is the limiting factor for the growth of the e_coli_core model ?\n",
        ">\n",
        "> 2. Go on and tell us what would you do to achieve a higher growth in terms of considering the constraints on your model"
      ]
    },
    {
      "cell_type": "markdown",
      "metadata": {
        "id": "N_OWPKTSqPK_"
      },
      "source": [
        "Summary can be rather useful as shown above for the model overall.\n",
        "\n",
        "`cobra` supports summaries per metabolite and reaction as well, for example:"
      ]
    },
    {
      "cell_type": "code",
      "execution_count": null,
      "metadata": {
        "id": "aFDsA92yqPK_"
      },
      "outputs": [],
      "source": [
        "ecoli.metabolites.atp_c.summary()"
      ]
    },
    {
      "cell_type": "markdown",
      "metadata": {
        "id": "27tduOi_qPK_"
      },
      "source": [
        "### Gene Knockouts"
      ]
    },
    {
      "cell_type": "code",
      "execution_count": null,
      "metadata": {
        "id": "Xyss585wqPK_"
      },
      "outputs": [],
      "source": [
        "ecoli.genes[0]"
      ]
    },
    {
      "cell_type": "markdown",
      "metadata": {
        "id": "9a2BmWyeqPK_"
      },
      "source": [
        "You would get the same by asking the specific gene id."
      ]
    },
    {
      "cell_type": "code",
      "execution_count": null,
      "metadata": {
        "id": "dSvOcnqIqPLA"
      },
      "outputs": [],
      "source": [
        "ecoli.genes.b1241"
      ]
    },
    {
      "cell_type": "markdown",
      "metadata": {
        "id": "5W7kusNcqPLA"
      },
      "source": [
        "A rather common and among the first tasks in metabolic modeling was to test how your species would react it they would lose a gene!\n",
        "This can be easily rephrased as what would happen if a reaction of interest, was not allowed to have any flux at all.\n",
        "\n",
        "So let us knockout the Aconitase reaction and see what happens!\n"
      ]
    },
    {
      "cell_type": "code",
      "execution_count": null,
      "metadata": {
        "id": "IO_06cgjqPLA"
      },
      "outputs": [],
      "source": [
        "ecoli.reactions.ACONTa.knock_out()"
      ]
    },
    {
      "cell_type": "code",
      "execution_count": null,
      "metadata": {
        "id": "etRZtHGEqPLA"
      },
      "outputs": [],
      "source": [
        "\n",
        "ecoli.reactions.ACONTa"
      ]
    },
    {
      "cell_type": "markdown",
      "metadata": {
        "id": "4OsTSAVgqPLA"
      },
      "source": [
        "As you can see, the reaction is still part of my model but both its bounds now are set to 0.\n",
        "\n",
        "To check how this affected our model, let's just optimize (FBA) the model again."
      ]
    },
    {
      "cell_type": "code",
      "execution_count": null,
      "metadata": {
        "id": "0HKly-hUqPLA"
      },
      "outputs": [],
      "source": [
        "ecoli.optimize()"
      ]
    },
    {
      "cell_type": "markdown",
      "metadata": {
        "id": "O0K32Tw6qPLA"
      },
      "source": [
        "Ooops! The e_coli_core model now is not able to grow!\n",
        "You see though that the fluxes of other reactions are not always 0."
      ]
    },
    {
      "cell_type": "code",
      "execution_count": null,
      "metadata": {
        "id": "KhHg-EDfqPLA"
      },
      "outputs": [],
      "source": [
        "ecoli.summary()"
      ]
    },
    {
      "cell_type": "markdown",
      "metadata": {
        "id": "baZII9qxqPLA"
      },
      "source": [
        "> **TASK**\n",
        ">\n",
        "> Compare the summaries of the initial model and of the one with the Aconitase reaction knocked out."
      ]
    },
    {
      "cell_type": "markdown",
      "metadata": {
        "id": "FfWJJIBdqPLA"
      },
      "source": [
        "`cobra` allows you to perform all single gene deletions on a model as well as double deletions!"
      ]
    },
    {
      "cell_type": "code",
      "execution_count": null,
      "metadata": {
        "id": "GMbsFkD0qPLA"
      },
      "outputs": [],
      "source": [
        "from cobra.flux_analysis import single_gene_deletion\n",
        "deletion_results = single_gene_deletion(ecoli)\n",
        "deletion_results[\"growth\"]"
      ]
    },
    {
      "cell_type": "code",
      "execution_count": null,
      "metadata": {
        "id": "Ojb-_ppdqPLA"
      },
      "outputs": [],
      "source": [
        "max(deletion_results[\"growth\"])"
      ]
    },
    {
      "cell_type": "markdown",
      "metadata": {
        "id": "Xl1xnAArqPLA"
      },
      "source": [
        "The e_coli_core model is a toy example where every reaction is required for the growth of the model."
      ]
    },
    {
      "cell_type": "markdown",
      "metadata": {
        "id": "65iA58n_qPLA"
      },
      "source": [
        "> **TASK**\n",
        ">\n",
        "> 1. Using a gapfilled model of yours, try to get your gene deletions and tell us what percentage of their genes can be removed without your model lose its ability to grow.\n",
        "> 2. What if you would try the `single_reaction_deletion` function of `cobra`? Would that be any different ?\n",
        "> 3. How about testing for double deletions, meaning to knockout two genes/proteins at the same time (`double_gene_deletion`).\n",
        ">"
      ]
    },
    {
      "cell_type": "markdown",
      "metadata": {
        "id": "jU4L6pMaqPLB"
      },
      "source": [
        "### Flux Variability Analysis"
      ]
    },
    {
      "cell_type": "markdown",
      "metadata": {
        "id": "BLHmjaSkqPLB"
      },
      "source": [
        "FVA aims to determine the minimum and maximum flux value for each reaction, given a certain value of the objective function.\n",
        "\n",
        "This means, that considering for example that we require our objective function to be optimal, FVA will return the minimum and maximum flux of each and every reaction of the model that supports this optimal value for our objective.\n",
        "\n",
        "Let's see an example!"
      ]
    },
    {
      "cell_type": "code",
      "execution_count": null,
      "metadata": {
        "id": "Bl9DmcEDqPLB"
      },
      "outputs": [],
      "source": [
        "from cobra.flux_analysis import flux_variability_analysis"
      ]
    },
    {
      "cell_type": "code",
      "execution_count": null,
      "metadata": {
        "id": "NuJbY2vvqPLB"
      },
      "outputs": [],
      "source": [
        "fva = flux_variability_analysis(ecoli)\n",
        "fva"
      ]
    },
    {
      "cell_type": "markdown",
      "metadata": {
        "id": "A7v0t4w0qPLB"
      },
      "source": [
        "Let us now run FVA again this time given the objective to be at least at 50% of its optimal."
      ]
    },
    {
      "cell_type": "code",
      "execution_count": null,
      "metadata": {
        "id": "_WNtxCiGqPLB"
      },
      "outputs": [],
      "source": [
        "fva_05_opt = flux_variability_analysis(ecoli, fraction_of_optimum=0.5)\n",
        "fva_05_opt"
      ]
    },
    {
      "cell_type": "code",
      "execution_count": null,
      "metadata": {
        "id": "dgCpl9xKqPLB"
      },
      "outputs": [],
      "source": [
        "fva_05_opt.loc[\"BIOMASS_Ecoli_core_w_GAM\"]"
      ]
    },
    {
      "cell_type": "markdown",
      "metadata": {
        "id": "XYIvpSwTqPLB"
      },
      "source": [
        "> **TASK**\n",
        ">\n",
        "> They seem quite similar the two FVA we got. Can you get any differences?"
      ]
    },
    {
      "cell_type": "code",
      "execution_count": null,
      "metadata": {
        "id": "VBznmBgoqPLB"
      },
      "outputs": [],
      "source": [
        "diff_max = fva[\"maximum\"] != fva_05_opt[\"maximum\"]\n",
        "fva[diff_max]"
      ]
    },
    {
      "cell_type": "code",
      "execution_count": null,
      "metadata": {
        "id": "7OBIXRSqqPLB"
      },
      "outputs": [],
      "source": [
        "print(fva.loc[\"GLUN\"])\n",
        "print(fva_05_opt.loc[\"GLUN\"])\n",
        "fva_05_opt.loc[\"GLUN\"] == fva.loc[\"GLUN\"]"
      ]
    },
    {
      "cell_type": "code",
      "execution_count": null,
      "metadata": {
        "id": "BYwcEAL8qPLB"
      },
      "outputs": [],
      "source": [
        "print(fva.loc[\"NADH16\"])\n",
        "print(fva_05_opt.loc[\"NADH16\"])\n",
        "fva_05_opt.loc[\"NADH16\"] == fva.loc[\"NADH16\"]"
      ]
    },
    {
      "cell_type": "markdown",
      "metadata": {
        "id": "7R5-93MMqPLB"
      },
      "source": [
        "> **NOTE**\n",
        ">\n",
        "> We just observed a numerical issue! :rocket:"
      ]
    },
    {
      "cell_type": "markdown",
      "metadata": {
        "id": "9pLZDWc4qPLB"
      },
      "source": [
        "> **TASK**\n",
        ">\n",
        "> Since we are now considering the objective function to be only half of the optimal, how is it possible for the FVA solution not to change at all?\n",
        ">\n",
        "> Ooops.. We have knocked out a gene or two, remember? So, load the model again and run FVA for optimal and half-optimal cases."
      ]
    },
    {
      "cell_type": "code",
      "execution_count": null,
      "metadata": {
        "id": "eHwZj9yiqPLB"
      },
      "outputs": [],
      "source": [
        "ecoli = cobra.io.read_sbml_model(\"files/models/e_coli_core.xml\")\n",
        "fva_ = flux_variability_analysis(ecoli)\n",
        "fva_05_opt = flux_variability_analysis(ecoli, fraction_of_optimum=0.5)\n",
        "diff_max = fva[\"maximum\"] != fva_05_opt[\"maximum\"]"
      ]
    },
    {
      "cell_type": "code",
      "execution_count": null,
      "metadata": {
        "id": "VZAghlT8qPLB"
      },
      "outputs": [],
      "source": [
        "import pandas as pd"
      ]
    },
    {
      "cell_type": "code",
      "execution_count": null,
      "metadata": {
        "id": "Xsm5O3EIqPLB"
      },
      "outputs": [],
      "source": [
        "diff_max_1 = fva[\"maximum\"] != fva_05_opt[\"maximum\"]\n",
        "diff_max_2 = fva_05_opt[\"maximum\"] != fva[\"maximum\"]\n",
        "\n",
        "# Get indices where differences occur in both FVA solutions\n",
        "common_diff_indices = fva.index[diff_max_1 & diff_max_2]\n",
        "\n",
        "df_common_diff = pd.DataFrame({\n",
        "    \"fva_min\": fva.loc[common_diff_indices, \"minimum\"],\n",
        "    \"fva_max\": fva.loc[common_diff_indices, \"maximum\"],\n",
        "    \"fva_05_min\": fva_05_opt.loc[common_diff_indices, \"minimum\"],\n",
        "    \"fva_05_max\": fva_05_opt.loc[common_diff_indices, \"maximum\"]\n",
        "})\n",
        "\n",
        "print(df_common_diff)"
      ]
    },
    {
      "cell_type": "markdown",
      "metadata": {
        "id": "VLotY6T-qPLB"
      },
      "source": [
        "> **TASK**\n",
        ">\n",
        "> Use a gapfilled model of yours to perform FVA.\n",
        ">\n",
        "> Choose 2 reactions of it and tell us how you interpret their combined findings."
      ]
    },
    {
      "cell_type": "markdown",
      "metadata": {
        "id": "aUN7u0dVqPLC"
      },
      "source": [
        "### Phenotype phase planes"
      ]
    },
    {
      "cell_type": "markdown",
      "metadata": {
        "id": "vGDBBsVDqPLC"
      },
      "source": [
        "> **Key concept:**\n",
        ">\n",
        "> *\"To map the optimal metabolic flux distribution onto a single plane, which is defined by the availability of two key substrates.\"* as described in the [Edwards et. al (2002)](https://doi.org/10.1002/bit.10047) study.\n",
        ">\n",
        "> In other words, PPPs show distinct phases of optimal growth with different use of two different substrates."
      ]
    },
    {
      "cell_type": "markdown",
      "metadata": {
        "id": "EqCICSKwqPLC"
      },
      "source": [
        "\n",
        "> **NOTE**\n",
        "> Calculate the **objective value** *conditioned* on all flux combinations.\n",
        ">\n",
        "> The production envelope can be used to analyze a model's ability to produce a given compound conditional on the fluxes for another set of reactions, such as the uptake rates.\n",
        ">\n",
        "> The model is alternately optimized with respect to minimizing and maximizing the objective and the obtained fluxes are recorded.\n",
        "> Ranges to compute production is set to the\n",
        "> effective bounds, i.e., the minimum / maximum fluxes that can be\n",
        "> obtained given current reaction bounds.\n",
        ">\n",
        "> From the [`cobra.flux_analysis.production_envelope()`](https://cobrapy.readthedocs.io/en/latest/_modules/cobra/flux_analysis/phenotype_phase_plane.html#production_envelope) documentation"
      ]
    },
    {
      "cell_type": "code",
      "execution_count": null,
      "metadata": {
        "id": "70unabFqqPLC"
      },
      "outputs": [],
      "source": [
        "import cobra\n",
        "from cobra.flux_analysis import production_envelope\n",
        "\n",
        "ecoli = cobra.io.read_sbml_model(\"files/models/e_coli_core.xml\")"
      ]
    },
    {
      "cell_type": "code",
      "execution_count": null,
      "metadata": {
        "id": "GQtTI1ASqPLC"
      },
      "outputs": [],
      "source": [
        "sol = ecoli.optimize()\n",
        "summ = ecoli.summary()"
      ]
    },
    {
      "cell_type": "code",
      "execution_count": null,
      "metadata": {
        "id": "sxDYZqMnqPLC"
      },
      "outputs": [],
      "source": [
        "summ.uptake_flux"
      ]
    },
    {
      "cell_type": "code",
      "execution_count": null,
      "metadata": {
        "id": "uCcG3Pp3qPLC"
      },
      "outputs": [],
      "source": [
        "prod_env = production_envelope(ecoli, [\"EX_glc__D_e\", \"EX_o2_e\"])\n"
      ]
    },
    {
      "cell_type": "code",
      "execution_count": null,
      "metadata": {
        "id": "FzaqRSHcqPLC"
      },
      "outputs": [],
      "source": [
        "prod_env.head()"
      ]
    },
    {
      "cell_type": "markdown",
      "metadata": {
        "id": "gMVHjPeMqPLC"
      },
      "source": [
        "So, what can we get out of this..? :thinking:"
      ]
    },
    {
      "cell_type": "markdown",
      "metadata": {
        "id": "8yY5yFxWqPLC"
      },
      "source": [
        "Let's break down how the envelope function works!"
      ]
    },
    {
      "cell_type": "code",
      "execution_count": null,
      "metadata": {
        "id": "PagGDLepqPLC"
      },
      "outputs": [],
      "source": [
        "from cobra.flux_analysis import flux_variability_analysis as fva\n",
        "from itertools import product\n",
        "\n",
        "rxn_ids = [\"EX_glc__D_e\", \"EX_o2_e\"]\n",
        "min_max = fva(ecoli, rxn_ids, fraction_of_optimum=0)\n",
        "\n",
        "reactions = [ecoli.reactions.get_by_id(x) for x in rxn_ids]\n",
        "points = 10\n",
        "points = list(\n",
        "    product(\n",
        "        *[\n",
        "            np.linspace(\n",
        "                min_max.at[rxn.id, \"minimum\"],\n",
        "                min_max.at[rxn.id, \"maximum\"],\n",
        "                points,\n",
        "                endpoint=True,\n",
        "            )\n",
        "            for rxn in reactions\n",
        "        ]\n",
        "    )\n",
        ")\n",
        "print(points[:5])\n",
        "print(len(points))"
      ]
    },
    {
      "cell_type": "markdown",
      "metadata": {
        "id": "kWbqAFFoqPLC"
      },
      "source": [
        "> **TASK**\n",
        ">\n",
        "> What is the \"heart\" of the `production_enevelope()` function?\n",
        ">\n",
        "> How would you explain the value the \"hidden\" argument of this \"heart\" gets?"
      ]
    },
    {
      "cell_type": "code",
      "execution_count": null,
      "metadata": {
        "id": "taaRmFU7qPLC"
      },
      "outputs": [],
      "source": [
        "tmp = pd.DataFrame(points, columns=[rxn.id for rxn in reactions])\n",
        "tmp"
      ]
    },
    {
      "cell_type": "markdown",
      "metadata": {
        "id": "8OtxkeAyqPLC"
      },
      "source": [
        "> **TASK**\n",
        ">\n",
        "> Go ahead and produce envelopes with your gapfilled model! Test hypotheses that would have a biological concept, for example oxygen should not mind anaerobic bacteria, right ?\n",
        ">\n",
        ">"
      ]
    },
    {
      "cell_type": "code",
      "execution_count": null,
      "metadata": {
        "id": "WzmjH0GsqPLC"
      },
      "outputs": [],
      "source": [
        "def plot_one_var_env(prod_env, variable_rxn, model ):\n",
        "    import matplotlib.pyplot as plt\n",
        "    rxn = model.reactions.get_by_id(variable_rxn)\n",
        "    met, *_ = rxn.metabolites\n",
        "    met_name = met.name\n",
        "\n",
        "    # Plot the production envelope\n",
        "    plt.figure(figsize=(6, 4))\n",
        "    plt.fill_between(prod_env[variable_rxn], prod_env[\"flux_minimum\"], prod_env[\"flux_maximum\"], alpha=0.3, label=\"Feasible region\")\n",
        "    plt.plot(prod_env[variable_rxn], prod_env[\"flux_maximum\"], label=\"Max biomass\", marker=\"o\")\n",
        "    plt.xlabel(f\"{met_name} Uptake Rate (mmol/gDW/hr)\")\n",
        "    plt.ylabel(\"Growth Rate (h⁻¹)\")\n",
        "    plt.legend()\n",
        "    plt.title(f\"Production Envelope: Growth vs. {met_name} Uptake\")\n",
        "    plt.show()"
      ]
    },
    {
      "cell_type": "code",
      "execution_count": null,
      "metadata": {
        "id": "weyWXe9bqPLC"
      },
      "outputs": [],
      "source": [
        "# Define the two reactions for the production envelope\n",
        "objective_rxn = \"BIOMASS_Ecoli_core_w_GAM\"  # Growth\n",
        "variable_rxn = \"EX_glc__D_e\"  # Glucose uptake\n",
        "\n",
        "# Compute the production envelope\n",
        "prod_env_one_var= production_envelope(model, [variable_rxn])\n",
        "\n",
        "plot_one_var_env(prod_env_one_var, variable_rxn, model)"
      ]
    },
    {
      "cell_type": "code",
      "execution_count": null,
      "metadata": {
        "id": "HFLMV8sOqPLD"
      },
      "outputs": [],
      "source": [
        "variable_rxn = \"EX_o2_e\"  # Glucose uptake\n",
        "\n",
        "# Compute the production envelope\n",
        "prod_env_one_var= production_envelope(model, [variable_rxn])\n",
        "\n",
        "plot_one_var_env(prod_env_one_var, variable_rxn, model)"
      ]
    },
    {
      "cell_type": "markdown",
      "metadata": {
        "id": "Pwp4X0VXqPLD"
      },
      "source": [
        "The slightest presence of oxygen would give a growth rate of 0.2 while in the glucose case things were completely linear."
      ]
    },
    {
      "cell_type": "code",
      "execution_count": null,
      "metadata": {
        "id": "b9TF96VlqPLD"
      },
      "outputs": [],
      "source": [
        "plot_one_var_env(prod_env, variable_rxn, model)"
      ]
    },
    {
      "cell_type": "code",
      "execution_count": null,
      "metadata": {
        "id": "qTWdqCIyqPLD"
      },
      "outputs": [],
      "source": [
        "met, *_ = ecoli.reactions.get_by_id(variable_rxn).metabolites\n",
        "met.name"
      ]
    },
    {
      "cell_type": "markdown",
      "metadata": {
        "id": "D1YOWUmEqPLD"
      },
      "source": [
        "Let us visualize them now together, O2 and gluclose:"
      ]
    },
    {
      "cell_type": "code",
      "execution_count": null,
      "metadata": {
        "id": "9a2EfWbvqPLD"
      },
      "outputs": [],
      "source": [
        "v1 = prod_env[\"EX_glc__D_e\"] ; v2 = prod_env[\"EX_o2_e\"] ; v3 = prod_env[\"flux_maximum\"]\n",
        "\n",
        "if is_colab():\n",
        "    plot_prod_env_3D(v1, v2, v3)\n",
        "\n",
        "plot_prod_env_3D(v1, v2, v3, renderer=\"browser\")"
      ]
    },
    {
      "cell_type": "markdown",
      "metadata": {
        "id": "NEkXpS69qPLD"
      },
      "source": [
        "### Flux sampling"
      ]
    },
    {
      "cell_type": "markdown",
      "metadata": {
        "id": "_5SerNcOqPLD"
      },
      "source": [
        "We have already mentioned the fact that:\n",
        "\n",
        "1. we do not need to have an objective function at all to check what our model can do\n",
        "2. in case we do use an objective function, there is not a unique flux vector that supports the optimal value returned.\n",
        "\n",
        "So, how could we go for these challenges?"
      ]
    },
    {
      "cell_type": "markdown",
      "metadata": {
        "id": "QKt7GoFaqPLD"
      },
      "source": [
        "![polytpe](https://github.com/hariszaf/metabolic_toy_model/blob/main/files/figs/polytope.png?raw=1)\n"
      ]
    },
    {
      "cell_type": "markdown",
      "metadata": {
        "id": "ZVYC8oGZqPLD"
      },
      "source": [
        "Flux sampling is an approach that can rather useful to this end. It aims at picking randomly flux vectors from the total flux space either uniform or based on any other distribution asked."
      ]
    },
    {
      "cell_type": "markdown",
      "metadata": {
        "id": "oec9iEzzqPLD"
      },
      "source": [
        "![points](https://github.com/hariszaf/metabolic_toy_model/blob/main/files/figs/cone_points.png?raw=1)"
      ]
    },
    {
      "cell_type": "markdown",
      "metadata": {
        "id": "4qdPyQ93qPLD"
      },
      "source": [
        "Flux sampling is computationally rather challenging, especially while the dimension of your polytope increases.\n",
        "This would happen when the number of reactions increase in general, but also, as you keep adding constraints.\n",
        "\n",
        "There is a great number of sampling algorithms that exceed the scope of metabolic modelling; similar tasks are applied to completely different data universes, e.g. stock market.\n",
        "\n",
        "The `cobra` library integrates the widely known Artificial Centering Hit-and-Run.\n",
        "\n",
        "Here, we will use samples returned by [`dingo`](https://github.com/GeomScale/dingo) a Python library we built to address a series of challenges on the field.\n",
        "`dingo` is an open source project that keeps developing to address further tasks on flux sampling.\n",
        "\n",
        "Just as a toy case of how samplers work is shown below with the case of **Billiard walk**:\n",
        "a type of random walk where a point (or particle) moves in a straight line inside a confined region and reflects off the boundaries according to the laws of elastic collision, similar to how a billiard ball bounces off the edges of a pool table."
      ]
    },
    {
      "cell_type": "markdown",
      "metadata": {
        "id": "ZhaVKF4fqPLD"
      },
      "source": [
        "![billiard](https://github.com/hariszaf/metabolic_toy_model/blob/main/files/figs/billiard.png?raw=1)"
      ]
    },
    {
      "cell_type": "code",
      "execution_count": null,
      "metadata": {
        "id": "aArZw1bsqPLD"
      },
      "outputs": [],
      "source": [
        "import pickle\n",
        "with open(\"../files/ecoli_samples.pckl\", \"rb\") as f:\n",
        "    ecoli_samples = pickle.load(f)"
      ]
    },
    {
      "cell_type": "code",
      "execution_count": null,
      "metadata": {
        "id": "LXqepsxyqPLD"
      },
      "outputs": [],
      "source": [
        "ecoli_samples.shape"
      ]
    },
    {
      "cell_type": "code",
      "execution_count": null,
      "metadata": {
        "id": "Z4qHgIAfqPLD"
      },
      "outputs": [],
      "source": [
        "# plot the histogram for the 14th reaction in e-coli (ACONTa)\n",
        "reactions = [x.name for x in ecoli.reactions]\n",
        "plot_histogram(\n",
        "        ecoli_samples[13],\n",
        "        reactions[13],\n",
        "        n_bins = 60,\n",
        "        )"
      ]
    },
    {
      "cell_type": "code",
      "execution_count": null,
      "metadata": {
        "id": "eRHL5_ujqPLD"
      },
      "outputs": [],
      "source": [
        "data_flux2=[ecoli_samples[12],reactions[12]]\n",
        "data_flux1=[ecoli_samples[13],reactions[13]]\n",
        "plot_copula(data_flux1, data_flux2, n=10)"
      ]
    },
    {
      "cell_type": "markdown",
      "metadata": {
        "id": "4XzAQmxPqPLD"
      },
      "source": [
        "In general, what we gain with sampling is **statistical power**. We can now use our samples and investigate which reactions are correlated, anti-correlated etc.\n",
        "\n",
        "We can investigate for pathways, clusters of reactions forming different metabolic profiles etc.  "
      ]
    },
    {
      "cell_type": "markdown",
      "metadata": {
        "id": "2pujCUlMqPLE"
      },
      "source": [
        "> **TASK**\n",
        ">\n",
        "> Could you build a correlation matrix from the dingo samples?"
      ]
    },
    {
      "cell_type": "code",
      "execution_count": null,
      "metadata": {
        "id": "9aiBsYx4qPLE"
      },
      "outputs": [],
      "source": [
        "df = pd.DataFrame(ecoli_samples.T, columns=reactions)\n",
        "corr_matrix = df.corr()\n",
        "corr_matrix"
      ]
    },
    {
      "cell_type": "code",
      "execution_count": null,
      "metadata": {
        "id": "waD4uIy5qPLE"
      },
      "outputs": [],
      "source": [
        "fig, ax = plt.subplots(figsize=(6, 5))\n",
        "cax = ax.matshow(corr_matrix, cmap=\"coolwarm\")\n",
        "plt.colorbar(cax)\n",
        "\n",
        "# Show labels\n",
        "ax.set_xticks(range(len(corr_matrix.columns)))\n",
        "ax.set_yticks(range(len(corr_matrix.columns)))\n",
        "ax.set_xticklabels(corr_matrix.columns, rotation=90, fontsize=4)\n",
        "ax.set_yticklabels(corr_matrix.columns, fontsize=4)\n",
        "\n",
        "plt.title(\"Correlation Coefficient Matrix\", pad=20)\n",
        "plt.show()"
      ]
    },
    {
      "cell_type": "markdown",
      "metadata": {
        "id": "_JTvOWga7fr8"
      },
      "source": [
        "### **MAMBO**"
      ]
    },
    {
      "cell_type": "markdown",
      "metadata": {
        "id": "jKCLjaLT7fr9"
      },
      "source": [
        "![MAMBO](https://github.com/hariszaf/metabolic_toy_model/blob/main/Antony2025/images/garza2018.png?raw=1)"
      ]
    },
    {
      "cell_type": "markdown",
      "metadata": {
        "id": "8bW-36Z_7fr9"
      },
      "source": [
        "#### **Get our models**"
      ]
    },
    {
      "cell_type": "code",
      "execution_count": null,
      "metadata": {
        "id": "sGg-Q5Kf7fr9"
      },
      "outputs": [],
      "source": [
        "models_dir = os.path.join(os.getcwd(), \"files/models/\")\n",
        "sugar_fermenter = cobra.io.read_sbml_model(os.path.join(models_dir,  \"sugar_fermenter_toy_model.xml\"))\n",
        "butyrate_producer = cobra.io.read_sbml_model(os.path.join(models_dir, \"butyrate_producer_toy_model.xml\"))\n",
        "acetogen = cobra.io.read_sbml_model(os.path.join(models_dir, \"acetogen_toy_model.xml\"))"
      ]
    },
    {
      "cell_type": "markdown",
      "metadata": {
        "id": "pcFYy7Pv7fr9"
      },
      "source": [
        "#### **Get the code for MAMBO**"
      ]
    },
    {
      "cell_type": "code",
      "execution_count": null,
      "metadata": {
        "collapsed": true,
        "id": "KRWaxaXYD9Fo"
      },
      "outputs": [],
      "source": [
        "import numpy as np\n",
        "import scipy.stats as sts\n",
        "\n",
        "def apply_environment(mdl, media_dict):\n",
        "    for i in media_dict:\n",
        "        if mdl.reactions.has_id(i):\n",
        "            mdl.reactions.get_by_id(i).lower_bound=-media_dict[i]\n",
        "\n",
        "    sol_m=mdl.optimize()\n",
        "    return sol_m.objective_value\n",
        "\n",
        "def getRMSE(x,y):\n",
        "\n",
        "    return np.sqrt( np.mean( (x-y)**2) )\n",
        "\n",
        "def MetropolisSA(new_value, current_value, rabs, T):\n",
        "\n",
        "    if None in new_value:\n",
        "        return (False, 0, 0, 1)\n",
        "\n",
        "    candidate_prob = np.exp(-getRMSE(current_value, new_value) / T)\n",
        "\n",
        "\n",
        "    if np.random.uniform() < candidate_prob:\n",
        "        return (True, candidate_prob) #True means the statistics will be accepted.\n",
        "    else:\n",
        "        return (False, candidate_prob)#Statistics rejected.\n",
        "\n",
        "\n",
        "def Metropolis(new_value, current_value, rabs):\n",
        "\n",
        "    if None in new_value:\n",
        "        return (False, 0, 0, 1)\n",
        "    optimal = np.arcsinh(0.999)\n",
        "    standard_error = 0.45#(1/(len(new_value)**0.5))\n",
        "    candidate_prob = sts.norm.pdf(np.arctanh(sts.pearsonr(new_value, rabs)[0]), loc=optimal,scale=standard_error)\n",
        "\n",
        "    current_prob = sts.norm.pdf(np.arctanh(sts.pearsonr(current_value, rabs)[0]), loc=optimal,scale=standard_error)\n",
        "\n",
        "    statistic = candidate_prob/current_prob\n",
        "\n",
        "    if np.random.uniform() < statistic:\n",
        "        return (True, statistic, candidate_prob, current_prob) #True means the statistics will be accepted.\n",
        "    else:\n",
        "        return (False, statistic, candidate_prob, current_prob)#Statistics rejected.\n",
        "\n",
        "\n",
        "def current_solution(modelList, media):\n",
        "    sol = np.array([apply_environment(i, media) for i in modelList])\n",
        "    return sol\n",
        "\n",
        "\n",
        "def MCMC(media, modelList, rab):\n",
        "    m2 = media.copy()\n",
        "    ch = np.random.choice(list(media))\n",
        "    m2[ch]= max(0, m2[ch] + np.random.uniform(low=-0.5, high=0.5))\n",
        "    sol_current = current_solution(modelList, media)\n",
        "    sol_candidate = current_solution(modelList, m2)\n",
        "\n",
        "    met = Metropolis(sol_candidate, sol_current, rab)\n",
        "\n",
        "\n",
        "    print(met)\n",
        "\n",
        "    if met[0]:\n",
        "        return (sol_candidate, m2)\n",
        "\n",
        "    else:\n",
        "        return (sol_current, media)\n",
        "\n",
        "def bunching(vec):\n",
        "    p0 = vec[0]\n",
        "\n",
        "    for i in range(1, len(vec)):\n",
        "        p0 = (p0 + vec[i])/2\n",
        "\n",
        "    return p0\n",
        "\n",
        "\n",
        "\n",
        "\n"
      ]
    },
    {
      "cell_type": "markdown",
      "metadata": {
        "id": "swUmJ5IuHQ0y"
      },
      "source": [
        "#### **Run MAMBO**"
      ]
    },
    {
      "cell_type": "code",
      "execution_count": null,
      "metadata": {
        "collapsed": true,
        "id": "QNBDZ7R3HJJ7"
      },
      "outputs": [],
      "source": [
        "media = {'EX_cpd00027_e':1,\n",
        "         'EX_cpd00011_e':1,\n",
        "         'EX_cpd11640_e':1,\n",
        "         'EX_cpd00159_e':1,\n",
        "         'EX_cpd00047_e':1,\n",
        "         'EX_cpd00029_e':1\n",
        "         }\n",
        "apply_environment(acetogen, media)\n",
        "apply_environment(sugar_fermenter, media)\n",
        "apply_environment(butyrate_producer, media)\n",
        "\n",
        "\n",
        "acetogen.optimize()\n",
        "sugar_fermenter.optimize()\n",
        "butyrate_producer.optimize()\n",
        "\n",
        "\n",
        "modelList = [sugar_fermenter, butyrate_producer, acetogen]\n",
        "\n",
        "#####Composition Vector####\n",
        "composition = np.array([9, 10, 8])\n",
        "\n",
        "medias = [np.array(list(media.values()))]\n",
        "solutions = [current_solution(modelList, media)]\n",
        "\n",
        "for i in range(1000):#should be much larger\n",
        "\n",
        "    print(i)\n",
        "    solution, media = MCMC(media, modelList, composition)\n",
        "\n",
        "    if (i>10):#should be much larger\n",
        "\n",
        "        medias.append(np.array(list(media.values())))\n",
        "        solutions.append(solution)"
      ]
    },
    {
      "cell_type": "markdown",
      "metadata": {
        "id": "hlWAXXSNHdMb"
      },
      "source": [
        "#### **Get Correlations**"
      ]
    },
    {
      "cell_type": "code",
      "execution_count": null,
      "metadata": {
        "collapsed": true,
        "id": "IShbRwfaGQXL"
      },
      "outputs": [],
      "source": [
        "medias= np.array(medias)\n",
        "mediasM = medias.copy()\n",
        "\n",
        "medias= medias.T\n",
        "\n",
        "maxMedias = np.max(mediasM, axis=1)\n",
        "mediasM = np.array([mediasM[i]/maxMedias[i] for i in range(len(maxMedias))]).T\n",
        "\n",
        "mSols = solutions.copy()\n",
        "solutions = np.array(solutions).T\n",
        "maxSolutions = np.max(mSols, axis=1)\n",
        "mSols = np.array([mSols[i]/maxSolutions[i] for i in range(len(maxSolutions))]).T\n",
        "\n",
        "\n",
        "cor = np.array([sts.pearsonr(i, composition)[0] for i in solutions.T])\n",
        "\n",
        "print(cor)\n"
      ]
    },
    {
      "cell_type": "markdown",
      "metadata": {
        "id": "3sWzNjw2Hmf6"
      },
      "source": [
        "#### **Select the final medium**"
      ]
    },
    {
      "cell_type": "code",
      "execution_count": null,
      "metadata": {
        "collapsed": true,
        "id": "nG7-3F0RHg67"
      },
      "outputs": [],
      "source": [
        "\n",
        "avM = np.median(medias.T[cor>0.90], axis=0)\n",
        "avM = (avM/max(avM))*10\n",
        "m = {list(media.keys())[i]: avM[i] for i in range(len(avM))}\n",
        "\n",
        "print(f\"composition was {composition} \\t MAMBO solution was: {current_solution(modelList, m)}\")"
      ]
    },
    {
      "cell_type": "markdown",
      "metadata": {
        "id": "ZLGYCuTJ7fr9"
      },
      "source": [
        "### **Dynamic flux balance analysis**"
      ]
    },
    {
      "cell_type": "markdown",
      "metadata": {
        "id": "6sMerTv-7fr-"
      },
      "source": [
        "#### Task:\n",
        "\n",
        "- Study the code below to understand how one can make FBA dynamic\n",
        "\n",
        "- Make modifications to explore the three conditions (rich media, only glucose, and no glucose)\n",
        "\n",
        "- Perform parameter sweeps to understand the effects of each class of parameters (e.g. yield, monod constants)\n",
        "\n",
        "- How is the community different in a batch compared to when there is a flow-rate? How is the community impacted by the flow-rate?\n",
        "\n",
        "- How is the community different when one removes the diauxic shift (in the growth rate function of the butyrate producer)?\n",
        "\n",
        "- How is the H2/CO2 cross-feeding impacted by the yield and Monod constants?\n"
      ]
    },
    {
      "cell_type": "markdown",
      "metadata": {
        "id": "0IEKOsb17fr-"
      },
      "source": [
        "#### **Import packages needed for ODE solving and visualization**"
      ]
    },
    {
      "cell_type": "code",
      "execution_count": null,
      "metadata": {
        "id": "oXpF8L4w7fr-"
      },
      "outputs": [],
      "source": [
        "import numpy as np\n",
        "from scipy.integrate import solve_ivp as solver\n",
        "import matplotlib.pyplot as plt\n",
        "#print(plt.style.available)\n",
        "plt.style.use('seaborn-v0_8-bright')\n",
        "\n",
        "import ipywidgets as widgets\n",
        "from IPython.display import display\n",
        "from collections import defaultdict\n",
        "import functools"
      ]
    },
    {
      "cell_type": "markdown",
      "metadata": {
        "id": "D-nXA2S97fr-"
      },
      "source": [
        "#### **Define parameters and initial states**"
      ]
    },
    {
      "cell_type": "markdown",
      "metadata": {
        "id": "XM4ewHVe7fr-"
      },
      "source": [
        "**Parameters**\n",
        "\n",
        "| parameter | variable | default value |\n",
        "| --------- | -------- | ------------- |\n",
        "| acetogen glucose Monod K | ac_glucose_k | 1.0 |\n",
        "| acetogen glucose yield | ac_glucose_y | 1.0 |\n",
        "| acetogen formate Monod K | ac_for_k | 10.0 |\n",
        "| acetogen formate yield | ac_for_y | 1.0 |\n",
        "| acetogen CO2 Monod K | ac_co2_k | 1.0 |\n",
        "| acetogen CO2 yield | ac_co2_y | 10.0 |\n",
        "| acetogen H2 Monod K | ac_h2_k | 10.0 |\n",
        "| acetogen H2 yield | ac_h2_y | 10.0 |\n",
        "| acetogen acetate yield | ac_ac_y | -1.0 |\n",
        "| acetogen lactate yield | ac_lac_y | -1.0 |\n",
        "| sugarF glucose Monod K | sf_glucose_k | 1.0 |\n",
        "| sugarF glucose yield | sf_glucose_y | 1.0 |\n",
        "| sugarF succinate yield | sf_succ_y | -1.0 |\n",
        "| sugarF formate yield | sf_for_y | -1.0 |\n",
        "| sugarF lactate yield | sf_lac_y | -1.0 |\n",
        "| sugarF acetate yield | sf_ac_y | -1.0 |\n",
        "| butyrateP glucose Monod K | bp_glucose_k | 1.0 |\n",
        "| butyrateP glucose yield | bp_glucose_y | 1.0 |\n",
        "| butyrateP lactate consumpation Monod K | bp_lactate_c_k | 1.0 |\n",
        "| butyrateP lactate consumption yield | bp_lactate_c_y | 1.0 |\n",
        "| butyrateP lactate production yield | bp_lactate_p_y | -1.0 |\n",
        "| butyrateP acetate consumpation Monod K | bp_acetate_c_k | 1.0 |\n",
        "| butyrateP acetate consumption yield | bp_acetate_c_y | 1.0 |\n",
        "| butyrateP acetate production yield | bp_acetate_p_y | -1.0 |\n",
        "| butyrateP CO2 production yield | bp_co2_y | -1.0 |\n",
        "| butyrateP H2 production yield | bp_h2_y | -1.0 |\n",
        "| butyrateP butyrate production yield | bp_butyrate_y | -1.0 |\n",
        "| flow rate | flow_rate | 0.1 |\n"
      ]
    },
    {
      "cell_type": "markdown",
      "metadata": {
        "id": "aJveJU1a7fr-"
      },
      "source": [
        "**States**\n",
        "\n",
        "| state | position | default value |\n",
        "| ----- | -------- | ------------- |\n",
        "|glucose concentration | 0 | 10 |\n",
        "|formate concentration | 1 | 0 |\n",
        "|CO2 concentration | 2 | 0 |\n",
        "|H2 concentration | 3 | 0 |\n",
        "|acetate concentration | 4 | 0 |\n",
        "|lactate concentration | 5 | 0 |\n",
        "|succinate concentration | 6 | 0 |\n",
        "|butyrate concentration | 7 | 0 |\n",
        "|acetogen biomass | 8 | 0.1 |\n",
        "|sugarF biomass | 9 | 0.1 |\n",
        "|butyrateP biomass | 10 | 0.1 |"
      ]
    },
    {
      "cell_type": "code",
      "execution_count": null,
      "metadata": {
        "id": "aoYT0cps7fr_"
      },
      "outputs": [],
      "source": [
        "# Parameters dictionary\n",
        "parameters = {'ac_glucose_k' : 1.0,\n",
        "              'ac_glucose_y' : 1.0,\n",
        "              'ac_for_k' : 10.0,\n",
        "              'ac_for_y' : 1.00,\n",
        "              'ac_co2_k' : 1.0,\n",
        "              'ac_co2_y' : 10.00,\n",
        "              'ac_h2_k' : 10.0,\n",
        "              'ac_h2_y' : 1.00,\n",
        "              'ac_ac_y':-1.0,\n",
        "              'ac_lac_y':-1.0,\n",
        "              'sf_glucose_k':1.0,\n",
        "              'sf_glucose_y':1.0,\n",
        "              'sf_succ_y':-1.0,\n",
        "              'sf_for_y':-1.0,\n",
        "              'sf_lac_y':-1.0,\n",
        "              'sf_ac_y':-1.0,\n",
        "              'bp_glucose_k':1.0,\n",
        "              'bp_glucose_y':1.0,\n",
        "              'bp_lactate_c_k':1.0,\n",
        "              'bp_lactate_c_y':1.00,\n",
        "              'bp_lactate_p_y': -1,\n",
        "              'bp_acetate_c_k':1.0,\n",
        "              'bp_acetate_c_y':1.0,\n",
        "              'bp_acetate_p_y':-1,\n",
        "              'bp_co2_y': -1,\n",
        "              'bp_h2_y':-1,\n",
        "              'bp_butyrate_y':-1,\n",
        "              'flow_rate':0.1}\n",
        "\n",
        "# Initial states names and default values\n",
        "initial_states_names = [\n",
        "    'glc_S0', 'for_S0', 'co2_S0', 'H2_S0', 'acetate_S0',\n",
        "    'lac_S0', 'succ_S0', 'but_S0', 'ac_X0', 'sf_X0', 'bp_X0'\n",
        "]\n",
        "\n",
        "initial_states_defaults = {\n",
        "    'glc_S0': 10.0,\n",
        "    'for_S0': 0.0,\n",
        "    'co2_S0': 0.0,\n",
        "    'H2_S0': 0.0,\n",
        "    'acetate_S0': 0.0,\n",
        "    'lac_S0': 0.0,\n",
        "    'succ_S0': 0.0,\n",
        "    'but_S0': 0.0,\n",
        "    'ac_X0': 0.1,\n",
        "    'sf_X0': 0.1,\n",
        "    'bp_X0': 0.1\n",
        "}"
      ]
    },
    {
      "cell_type": "markdown",
      "metadata": {
        "id": "gEH4M3j87fr_"
      },
      "source": [
        "#### **Functions to make the parameters iteractive**"
      ]
    },
    {
      "cell_type": "markdown",
      "metadata": {
        "id": "ISnsuQgZ7fr_"
      },
      "source": [
        "Only run the cell below. The code is only to make the parameters iterative, so you can skip the code if you have little or no coding experience."
      ]
    },
    {
      "cell_type": "code",
      "execution_count": null,
      "metadata": {
        "id": "w2wWp55c7fr_"
      },
      "outputs": [],
      "source": [
        "# Function to update parameter value\n",
        "def on_value_change(change, key):\n",
        "    parameters[key] = change['new']\n",
        "\n",
        "# Function to create parameter widgets\n",
        "def create_parameter_widgets(parameters):\n",
        "    parameter_widgets = {}\n",
        "    for key, value in parameters.items():\n",
        "        widget = widgets.FloatText(\n",
        "            value=value,\n",
        "            description=key,\n",
        "            layout=widgets.Layout(width='300px'),\n",
        "            style={'description_width': '150px'}\n",
        "        )\n",
        "        handler = functools.partial(on_value_change, key=key)\n",
        "        widget.observe(handler, names='value')\n",
        "        parameter_widgets[key] = widget\n",
        "    return parameter_widgets\n",
        "\n",
        "# Function to update initial state value\n",
        "def on_initial_state_change(change, key):\n",
        "    initial_states_defaults[key] = change['new']\n",
        "\n",
        "# Function to create initial state widgets\n",
        "def create_initial_state_widgets(initial_states_defaults):\n",
        "    initial_state_widgets = {}\n",
        "    for key, value in initial_states_defaults.items():\n",
        "        widget = widgets.FloatText(\n",
        "            value=value,\n",
        "            description=key,\n",
        "            layout=widgets.Layout(width='300px'),\n",
        "            style={'description_width': '150px'}\n",
        "        )\n",
        "        handler = functools.partial(on_initial_state_change, key=key)\n",
        "        widget.observe(handler, names='value')\n",
        "        initial_state_widgets[key] = widget\n",
        "    return initial_state_widgets\n",
        "\n",
        "# Function to group parameters by prefix\n",
        "def group_parameters_by_prefix(parameters):\n",
        "    grouped_params = defaultdict(dict)\n",
        "    for key, value in parameters.items():\n",
        "        if '_' in key:\n",
        "            prefix = key.split('_')[0]\n",
        "        else:\n",
        "            prefix = 'Other'\n",
        "        grouped_params[prefix][key] = value\n",
        "    return grouped_params\n",
        "\n",
        "# Group the parameters\n",
        "grouped_parameters = group_parameters_by_prefix(parameters)\n",
        "\n",
        "# List to hold accordion contents\n",
        "accordion_children = []\n",
        "accordion_titles = []\n",
        "\n",
        "# Create widgets for each group\n",
        "for group_name, group_params in grouped_parameters.items():\n",
        "    group_widgets = create_parameter_widgets(group_params)\n",
        "    group_widget_list = [group_widgets[key] for key in sorted(group_widgets.keys())]\n",
        "    group_box = widgets.VBox(group_widget_list)\n",
        "    accordion_children.append(group_box)\n",
        "    accordion_titles.append(group_name)\n",
        "\n",
        "# Create the accordion widget for parameters\n",
        "parameters_accordion = widgets.Accordion(children=accordion_children)\n",
        "\n",
        "# Set the titles for each accordion tab\n",
        "for idx, title in enumerate(accordion_titles):\n",
        "    parameters_accordion.set_title(idx, title)\n",
        "\n",
        "# Create initial state widgets\n",
        "initial_state_widgets = create_initial_state_widgets(initial_states_defaults)\n",
        "initial_state_widget_list = [initial_state_widgets[key] for key in initial_states_names]\n",
        "initial_states_box = widgets.VBox(initial_state_widget_list)\n",
        "\n",
        "# Create an accordion to hold the initial states\n",
        "initial_states_accordion = widgets.Accordion(children=[initial_states_box])\n",
        "initial_states_accordion.set_title(0, 'Initial States')\n",
        "\n",
        "# Display the parameter widgets and initial state widgets\n",
        "display(parameters_accordion)\n",
        "display(initial_states_accordion)\n",
        "\n",
        "\n",
        "def get_initial_states_array(initial_states_defaults, initial_states_names):\n",
        "    initial_states = []\n",
        "    for name in initial_states_names:\n",
        "        value = initial_states_defaults[name]\n",
        "        initial_states.append(value)\n",
        "    return np.array(initial_states)\n"
      ]
    },
    {
      "cell_type": "markdown",
      "metadata": {
        "id": "Nv9HPklG7fr_"
      },
      "source": [
        "#### **Get the states**"
      ]
    },
    {
      "cell_type": "code",
      "execution_count": null,
      "metadata": {
        "id": "QmzJesCp7fr_"
      },
      "outputs": [],
      "source": [
        "print(\"Updated Parameters:\")\n",
        "for key in sorted(parameters.keys()):\n",
        "    print(f\"{key}: {parameters[key]}\")\n",
        "\n",
        "\n",
        "# Retrieve the updated initial_states array\n",
        "initial_states = get_initial_states_array(initial_states_defaults, initial_states_names)\n",
        "\n",
        "print(\"\\nUpdated Initial States Array:\")\n",
        "print(initial_states)\n"
      ]
    },
    {
      "cell_type": "markdown",
      "metadata": {
        "id": "JzgimgOo7fr_"
      },
      "source": [
        "#### **Growth rate function for the sugar fermenter**"
      ]
    },
    {
      "cell_type": "code",
      "execution_count": null,
      "metadata": {
        "id": "mq3vOGnK7fr_"
      },
      "outputs": [],
      "source": [
        "def muSf(concentration_vec):\n",
        "    '''\n",
        "\n",
        "    Growth rate function for the sugarF\n",
        "\n",
        "    Parameters\n",
        "    ----------\n",
        "    concentration_vec :\n",
        "        [glucose, formate, co2, h2, acetate, lactate, succinate, butyrate]\n",
        "\n",
        "    Returns\n",
        "    -------\n",
        "    consumed_glucose\n",
        "    produced_acetate\n",
        "    produced_lactate\n",
        "    produced_succinate\n",
        "    produced_formate\n",
        "    objective_value\n",
        "\n",
        "    '''\n",
        "\n",
        "\n",
        "\n",
        "    consumable_glucose = (concentration_vec[0]/(concentration_vec[0]+parameters['sf_glucose_k']))*(concentration_vec[0]>0)\n",
        "\n",
        "    sugar_fermenter.reactions.EX_cpd00027_e.lower_bound = -1*consumable_glucose\n",
        "\n",
        "    sol_sf = sugar_fermenter.optimize()\n",
        "\n",
        "    consumed_glucose = max(0, sugar_fermenter.reactions.EX_cpd00027_e.flux*-1)\n",
        "\n",
        "    produced_acetate = max(0, sugar_fermenter.reactions.EX_cpd00029_e.flux)\n",
        "    produced_lactate = max(0, sugar_fermenter.reactions.EX_cpd00159_e.flux)\n",
        "    produced_succinate = max(0, sugar_fermenter.reactions.EX_cpd00036_e.flux)\n",
        "    produced_formate = max(0, sugar_fermenter.reactions.EX_cpd00047_e.flux)\n",
        "\n",
        "    return (consumed_glucose,\n",
        "            produced_acetate,\n",
        "            produced_lactate,\n",
        "            produced_succinate,\n",
        "            produced_formate,\n",
        "            sol_sf.objective_value\n",
        "            )\n"
      ]
    },
    {
      "cell_type": "markdown",
      "metadata": {
        "id": "ud6OhgjO7fsA"
      },
      "source": [
        "#### **Growth rate function for the butyrate producer**"
      ]
    },
    {
      "cell_type": "code",
      "execution_count": null,
      "metadata": {
        "id": "wFR-EFJn7fsA"
      },
      "outputs": [],
      "source": [
        "def muBP(concentration_vec):\n",
        "    '''\n",
        "    Growth rate for the butyrate producer\n",
        "\n",
        "    Parameters\n",
        "    ----------\n",
        "    concentration_vec :\n",
        "        [glucose, formate, co2, h2, acetate, lactate, succinate, butyrate]\n",
        "\n",
        "    Returns\n",
        "    -------\n",
        "    consumed_glucose\n",
        "    consumed_acetate\n",
        "    consumed_lactate\n",
        "    produced_acetate\n",
        "    produced_lactate\n",
        "    produced_co2\n",
        "    produced_h2\n",
        "    produced_butyrate\n",
        "    sol_bp.objective_value\n",
        "\n",
        "    '''\n",
        "\n",
        "\n",
        "    consumable_glucose = (concentration_vec[0]/(concentration_vec[0]+parameters['bp_glucose_k']))*(concentration_vec[0]>0)\n",
        "    consumable_acetate = (concentration_vec[4]/(concentration_vec[4]+parameters['bp_acetate_c_k']))*(concentration_vec[4]>0)\n",
        "    consumable_lactate = (concentration_vec[5]/(concentration_vec[5]+parameters['bp_lactate_c_k']))*(concentration_vec[5]>0)\n",
        "\n",
        "    butyrate_producer.reactions.EX_cpd00027_e.lower_bound = -1*consumable_glucose\n",
        "    butyrate_producer.reactions.EX_cpd00029_e.lower_bound = -1*consumable_acetate\n",
        "    butyrate_producer.reactions.EX_cpd00159_e.lower_bound = -1*consumable_lactate\n",
        "### Metabolic modeling of more than a species\n",
        "Now that we can do a wide range of constraint-based analyses on our models, the question that rises is whether we could implement those at the community level.\n",
        "\n",
        "There are several ways to do this task, yet it remains an open question what is the best way, and as more often than not in modeling, some approaches can be better than others based on the question under study.\n",
        "\n",
        "Here, we will only discuss a couple of things on [COMETS](https://www.runcomets.org) and `cometspy`.\n",
        "COMETS is a software platform for performing computer simulations of metabolism in spatially structured microbial communities.\n",
        "To install COMETS, you need first to get it as a tarball based on your Operating System.\n",
        "\n",
        "So, to install it locally on your machine, you would have to visit the [COMETS installation page](https://www.runcomets.org/installation) and based on your OS download the corresponding tarball.\n",
        "\n",
        "In the collab, we will go with the Linux one.\n",
        "!pip install gdown\n",
        "!gdown \"https://drive.google.com/uc?id=1pJ089vJJNJg_KN9ELhWOW6uqMaaTJGCN\"\n",
        "!tar -xzvf comets_linux.tar.gz\n",
        "# %%bash\n",
        "# export COMETS_HOME=$(pwd)/comets_linux/comets_2.12.3/\n",
        "# echo $COMETS_HOME\n",
        "import os\n",
        "comets_home = os.path.join(os.getcwd(), \"comets_linux/comets_2.12.3\")\n",
        "\n",
        "# Optionally, print it to check\n",
        "print(comets_home)\n",
        "\n",
        "# Set the environment variable\n",
        "os.environ[\"COMETS_HOME\"] = comets_home\n",
        "os.environ['GUROBI_COMETS_HOME'] = \"/opt/gurobi/linux64/\"\n",
        "!pip install -qq cometspy\n",
        "# Start by loading required packages, including the COMETS toolbox\n",
        "import cometspy as c\n",
        "import pandas as pd\n",
        "import matplotlib.pyplot as plt\n",
        "# load the models and perform the mutation\n",
        "wt = c.model(ecoli.copy())\n",
        "wt.id = 'wt'\n",
        "mut = c.model(ecoli.copy())\n",
        "mut.change_bounds('TPI', 0,0)\n",
        "mut.id = 'TPI_KO'\n",
        "# set its initial biomass, 5e-6 gr at coordinate [0,0]\n",
        "wt.initial_pop = [0, 0, 5e-8]\n",
        "mut.initial_pop = [0, 0, 5e-8]\n",
        "# create an empty layout\n",
        "test_tube = c.layout()\n",
        "\n",
        "# add the models to the test tube\n",
        "test_tube.add_model(wt)\n",
        "test_tube.add_model(mut)\n",
        "\n",
        "# Add glucose to the media\n",
        "test_tube.set_specific_metabolite('glc__D_e', 0.01)\n",
        "\n",
        "# Add typical trace metabolites and oxygen coli as static\n",
        "trace_metabolites = ['ca2_e', 'cl_e', 'cobalt2_e', 'cu2_e', 'fe2_e', 'fe3_e', 'h_e', 'k_e', 'h2o_e', 'mg2_e',\n",
        "                     'mn2_e', 'mobd_e', 'na1_e', 'ni2_e', 'nh4_e', 'o2_e', 'pi_e', 'so4_e', 'zn2_e']\n",
        "\n",
        "for i in trace_metabolites:\n",
        "    test_tube.set_specific_metabolite(i, 1000)\n",
        "    test_tube.set_specific_static(i, 1000)\n",
        "\n",
        "comp_params = c.params()\n",
        "comp_params.set_param('maxCycles', 240)\n",
        "> **NOTE**\n",
        ">\n",
        "> :red_circle: Unfortunately, a Gurobi challenge did not allow us to have this part up-and-running for the Google Colab case for this workshop.\n",
        "# comp_assay = c.comets(test_tube, comp_params)\n",
        "# comp_assay.run()\n",
        "# biomass = comp_assay.total_biomass\n",
        "# biomass['t'] = biomass['cycle'] * comp_assay.parameters.all_params['timeStep']\n",
        "\n",
        "# myplot = biomass.drop(columns=['cycle']).plot(x = 't')\n",
        "# myplot.set_ylabel(\"Biomass (gr.)\")\n",
        "![image.png](attachment:image.png)\n",
        "\n",
        "    sol_bp = butyrate_producer.optimize()\n",
        "    consumed_glucose = max(0, butyrate_producer.reactions.EX_cpd00027_e.flux*-1)\n",
        "    consumed_acetate = 0\n",
        "    produced_acetate = 0\n",
        "    consumed_lactate = 0\n",
        "    produced_lactate = 0\n",
        "\n",
        "    #acetate was consumed instead of produced\n",
        "    if butyrate_producer.reactions.EX_cpd00029_e.flux<0:\n",
        "        consumed_acetate = butyrate_producer.reactions.EX_cpd00029_e.flux*-1\n",
        "\n",
        "    #lactate was consumed instead of produced\n",
        "    if butyrate_producer.reactions.EX_cpd00159_e.flux<0:\n",
        "        consumed_lactate = butyrate_producer.reactions.EX_cpd00159_e.flux*-1\n",
        "\n",
        "\n",
        "    #acetate was produced\n",
        "    if butyrate_producer.reactions.EX_cpd00029_e.flux>0:\n",
        "        produced_acetate = butyrate_producer.reactions.EX_cpd00029_e.flux\n",
        "\n",
        "    #lactate was produced\n",
        "    if butyrate_producer.reactions.EX_cpd00159_e.flux>0:\n",
        "        produced_lactate = butyrate_producer.reactions.EX_cpd00159_e.flux\n",
        "\n",
        "\n",
        "    produced_co2 = max(0, butyrate_producer.reactions.EX_cpd00011_e.flux)\n",
        "    produced_h2 = max(0, butyrate_producer.reactions.EX_cpd11640_e.flux)\n",
        "    produced_butyrate = max(0, butyrate_producer.reactions.EX_cpd00211_e.flux)\n",
        "\n",
        "    return (consumed_glucose,\n",
        "            consumed_acetate,\n",
        "            consumed_lactate,\n",
        "            produced_acetate,\n",
        "            produced_lactate,\n",
        "            produced_co2,\n",
        "            produced_h2,\n",
        "            produced_butyrate,\n",
        "            sol_bp.objective_value\n",
        "            )\n",
        "\n"
      ]
    },
    {
      "cell_type": "markdown",
      "metadata": {
        "id": "wpYRN5Ym7fsA"
      },
      "source": [
        "#### **Growth rate functions for the acetogen**"
      ]
    },
    {
      "cell_type": "code",
      "execution_count": null,
      "metadata": {
        "id": "grKZdOMt7fsA"
      },
      "outputs": [],
      "source": [
        "def muAc(concentration_vec):\n",
        "    '''\n",
        "    growth rate function for the acetogen\n",
        "\n",
        "    Parameters\n",
        "    ----------\n",
        "    concentration_vec :\n",
        "        [glucose, formate, co2, h2, acetate, lactate, succinate, butyrate]\n",
        "\n",
        "    Returns\n",
        "    -------\n",
        "    consumed_glucose\n",
        "    consumed_formate\n",
        "    consumed_co2\n",
        "    consumed_h2\n",
        "    produced_acetate\n",
        "    produced_lactate\n",
        "    objective_value\n",
        "\n",
        "    '''\n",
        "\n",
        "\n",
        "    consumable_glucose = (concentration_vec[0]/(concentration_vec[0]+parameters['ac_glucose_k']))*(concentration_vec[0]>0)\n",
        "    #(concentration_vec[0]>0) avoids negatives\n",
        "\n",
        "    consumable_formate = (concentration_vec[1]/(concentration_vec[1]+parameters['ac_for_k']))*(concentration_vec[1]>0)\n",
        "\n",
        "    consumable_co2 = (concentration_vec[2])/(concentration_vec[2]+parameters['ac_co2_k'])*(concentration_vec[2]>0)\n",
        "\n",
        "    consumable_h2 = (concentration_vec[3])/(concentration_vec[3]+parameters['ac_h2_k'])*(concentration_vec[3]>0)\n",
        "\n",
        "    #set the lower bounds to the consumable amounts\n",
        "\n",
        "    acetogen.reactions.EX_cpd00027_e.lower_bound = -1*consumable_glucose\n",
        "    acetogen.reactions.EX_cpd00047_e.lower_bound = -1*consumable_formate\n",
        "    acetogen.reactions.EX_cpd00011_e.lower_bound = -1*consumable_co2\n",
        "    acetogen.reactions.EX_cpd11640_e.lower_bound = -1*consumable_h2\n",
        "\n",
        "    #optimize with these consumable amounts as constraints\n",
        "\n",
        "    sol_ac = acetogen.optimize()\n",
        "\n",
        "    #get what was effectively consumed/produces\n",
        "    consumed_glucose = max(0, acetogen.reactions.EX_cpd00027_e.flux*-1)\n",
        "    consumed_formate = max(0, acetogen.reactions.EX_cpd00047_e.flux*-1)\n",
        "    consumed_co2 = max(0, acetogen.reactions.EX_cpd00011_e.flux*-1)\n",
        "    consumed_h2 = max(0, acetogen.reactions.EX_cpd11640_e.flux*-1)\n",
        "\n",
        "    produced_acetate = max(0, acetogen.reactions.EX_cpd00029_e.flux)\n",
        "    produced_lactate = max(0, acetogen.reactions.EX_cpd00159_e.flux)\n",
        "\n",
        "    return (consumed_glucose,\n",
        "            consumed_formate,\n",
        "            consumed_co2,\n",
        "            consumed_h2,\n",
        "            produced_acetate,\n",
        "            produced_lactate,\n",
        "            sol_ac.objective_value #the biomass given the consumable amounts\n",
        "            )"
      ]
    },
    {
      "cell_type": "markdown",
      "metadata": {
        "id": "ZtN0Ax037fsA"
      },
      "source": [
        "#### **Define the ODEs**"
      ]
    },
    {
      "cell_type": "code",
      "execution_count": null,
      "metadata": {
        "id": "MNn0B-Al7fsA"
      },
      "outputs": [],
      "source": [
        "def ode(t, states):\n",
        "\n",
        "    '''\n",
        "    ODE\n",
        "    states:\n",
        "        [glc_S0, for_S0, co2_S0, H2_S0, acetate_S0, lac_S0, succ_S0, but_S0, ac_X0, sf_X0, bp_X0]\n",
        "    '''\n",
        "\n",
        "    #get the metabolite consumption/production and instantaneous growth rates\n",
        "    mu_ac = muAc(states)\n",
        "    mu_sf = muSf(states)\n",
        "    mu_bp = muBP(states)\n",
        "\n",
        "    #get the current biomasses\n",
        "    pop_ac = states[8]\n",
        "    pop_sf = states[9]\n",
        "    pop_bp = states[10]\n",
        "\n",
        "    #change in the acetogen biomass\n",
        "    dAc = (pop_ac* mu_ac[-1])-parameters['flow_rate']*pop_ac\n",
        "\n",
        "    #change in the sugarF biomass\n",
        "    dSf = (pop_sf* mu_sf[-1]) - parameters['flow_rate']*pop_sf\n",
        "\n",
        "    #change in the butyrateP biomass\n",
        "    dBp = (pop_bp*mu_bp[-1])- parameters['flow_rate']*pop_bp\n",
        "\n",
        "    #acetogen metabolite consumption/production\n",
        "    ac_glc = -(mu_ac[0]/parameters['ac_glucose_y'])*pop_ac\n",
        "    ac_for = -(mu_ac[1]/parameters['ac_for_y'])*pop_ac\n",
        "    ac_co2 = -(mu_ac[2]/parameters['ac_co2_y'])*pop_ac\n",
        "    ac_h2 = -(mu_ac[3]/parameters['ac_h2_y'])*pop_ac\n",
        "    ac_ac = -(mu_ac[4]/parameters['ac_ac_y'])*pop_ac\n",
        "    ac_lac = -(mu_ac[5]/parameters['ac_lac_y'])*pop_ac\n",
        "\n",
        "    #sugarF metabolite consumption/production\n",
        "    sf_glc = -(mu_sf[0]/parameters['sf_glucose_y'])*pop_sf\n",
        "    sf_ac = -(mu_sf[1]/parameters['sf_ac_y'])*pop_sf\n",
        "    sf_lac = -(mu_sf[2]/parameters['sf_lac_y'])*pop_sf\n",
        "    sf_succ = -(mu_sf[3]/parameters['sf_succ_y'])*pop_sf\n",
        "    sf_for = -(mu_sf[4]/parameters['sf_for_y'])*pop_sf\n",
        "\n",
        "    #butyrateP metabolite consumption/production\n",
        "    bp_glc = -(mu_bp[0]/parameters['bp_glucose_y'])*pop_bp\n",
        "    bp_ac_c = -(mu_bp[1]/parameters['bp_acetate_c_y'])*pop_bp\n",
        "    bp_lac_c = -(mu_bp[2]/parameters['bp_lactate_c_y'])*pop_bp\n",
        "\n",
        "    bp_ac_p = -(mu_bp[3]/parameters['bp_acetate_p_y'])*pop_bp\n",
        "    bp_lac_p = -(mu_bp[4]/parameters['bp_lactate_p_y'])*pop_bp\n",
        "    bp_co2_p = -(mu_bp[5]/parameters['bp_co2_y'])*pop_bp\n",
        "    bp_h2_p = -(mu_bp[6]/parameters['bp_h2_y'])*pop_bp\n",
        "    bp_but_p = -(mu_bp[7]/parameters['bp_butyrate_y'])*pop_bp\n",
        "\n",
        "\n",
        "    derivatives = np.zeros(len(states))\n",
        "\n",
        "    #glucose\n",
        "    derivatives[0] = parameters['flow_rate']*initial_states[0] + ac_glc + sf_glc + bp_glc - parameters['flow_rate']*states[0]\n",
        "\n",
        "    #formate\n",
        "    derivatives[1] = parameters['flow_rate']*initial_states[1] + ac_for + sf_for  - parameters['flow_rate']*states[1]\n",
        "\n",
        "    #co2\n",
        "    derivatives[2] = parameters['flow_rate']*initial_states[2] + ac_co2 + bp_co2_p  - parameters['flow_rate']*states[2]\n",
        "\n",
        "    #h2\n",
        "    derivatives[3] = parameters['flow_rate']*initial_states[3] + ac_h2 + bp_h2_p  - parameters['flow_rate']*states[3]\n",
        "\n",
        "    #acetate\n",
        "    derivatives[4] = parameters['flow_rate']*initial_states[4] + ac_ac + sf_ac + bp_ac_c + bp_ac_p  - parameters['flow_rate']*states[4]\n",
        "\n",
        "    #lactate\n",
        "    derivatives[5] = parameters['flow_rate']*initial_states[5] + ac_lac + sf_lac + bp_lac_c + bp_lac_p  - parameters['flow_rate']*states[5]\n",
        "\n",
        "    #succinate\n",
        "    derivatives[6] = parameters['flow_rate']*initial_states[6] + sf_succ  - parameters['flow_rate']*states[6]\n",
        "\n",
        "    #butyrate\n",
        "    derivatives[7] = parameters['flow_rate']*initial_states[7] + bp_but_p  - parameters['flow_rate']*states[7]\n",
        "\n",
        "    derivatives[8] = dAc\n",
        "    derivatives[9] = dSf\n",
        "    derivatives[10] = dBp\n",
        "\n",
        "    return derivatives"
      ]
    },
    {
      "cell_type": "markdown",
      "metadata": {
        "id": "WB4Hy1jU7fsA"
      },
      "source": [
        "#### **Solve the ODEs**"
      ]
    },
    {
      "cell_type": "code",
      "execution_count": null,
      "metadata": {
        "id": "7o7azvcv7fsB"
      },
      "outputs": [],
      "source": [
        "solution = solver(fun=ode, t_span = (0, 200), y0 = initial_states, t_eval = np.linspace(0, 200, 1000))"
      ]
    },
    {
      "cell_type": "markdown",
      "metadata": {
        "id": "-_ejH-Gh7fsB"
      },
      "source": [
        "#### **Plot the results for growth**"
      ]
    },
    {
      "cell_type": "code",
      "execution_count": null,
      "metadata": {
        "id": "7W1wzGZv7fsB"
      },
      "outputs": [],
      "source": [
        "fig, ax = plt.subplots()\n",
        "\n",
        "ax.plot(solution.t, solution.y[8], color='g', label='acetogen')\n",
        "ax.plot(solution.t, solution.y[9], color='b', label='carb ferm')\n",
        "ax.plot(solution.t, solution.y[10], color='r', label='but prod')\n",
        "ax.set_ylabel('Biomass')\n",
        "ax.set_xlabel('Time')\n",
        "ax.legend(loc='upper right')\n",
        "#plt.savefig('/home/daniel_garza/plots/dFBA_biomass.png', dpi=300)\n",
        "plt.show()"
      ]
    },
    {
      "cell_type": "markdown",
      "metadata": {
        "id": "hyCxLFY07fsB"
      },
      "source": [
        "#### **Plot the results for metabolites**"
      ]
    },
    {
      "cell_type": "code",
      "execution_count": null,
      "metadata": {
        "id": "SUcyQxXQ7fsB"
      },
      "outputs": [],
      "source": [
        "fig, ax = plt.subplots()\n",
        "\n",
        "ax.plot(solution.t, solution.y[0], color='#0776c0', label='Glucose')\n",
        "\n",
        "ax.plot(solution.t, solution.y[4], color='#db571a', label='Acetate')\n",
        "\n",
        "ax.plot(solution.t, solution.y[1], color='#edb320', label='Formate')\n",
        "\n",
        "ax.plot(solution.t, solution.y[2], color='#7e2c8d', label='CO2')\n",
        "ax.plot(solution.t, solution.y[3], color='#7e2c8d', label='H2')\n",
        "\n",
        "ax.plot(solution.t, solution.y[5], color='#00ff9f', label='Lactate')\n",
        "ax.plot(solution.t, solution.y[6], color='#32CD32', label='Succinate')\n",
        "ax.plot(solution.t, solution.y[7], color='#001eff', label='Butyrate')\n",
        "\n",
        "\n",
        "ax.set_ylabel('Concentration')\n",
        "ax.set_xlabel('Time')\n",
        "ax.legend(loc='upper right')\n",
        "plt.tight_layout()\n",
        "#plt.savefig('/home/daniel_garza/plots/dFBA_concentrations.png', dpi=300)\n",
        "plt.show()"
      ]
    },
    {
      "cell_type": "markdown",
      "metadata": {
        "id": "u3XxtSyqqPLG"
      },
      "source": [
        "### Dynamic and spatial modeling with more than a species with COMETS"
      ]
    },
    {
      "cell_type": "markdown",
      "metadata": {
        "id": "9izGsytiqPLG"
      },
      "source": [
        "Now that we can do a wide range of constraint-based analyses on our models, the question that rises is whether we could implement those at the community level.\n",
        "\n",
        "There are several ways to do this task, yet it remains an open question what is the best way, and as more often than not in modeling, some approaches can be better than others based on the question under study.\n",
        "\n",
        "Here, we will only discuss a couple of things on [COMETS](https://www.runcomets.org) and `cometspy`.\n",
        "COMETS is a software platform for performing computer simulations of metabolism in spatially structured microbial communities."
      ]
    },
    {
      "cell_type": "markdown",
      "metadata": {
        "id": "XGw5LxpBqPLG"
      },
      "source": [
        "To install COMETS, you need first to get it as a tarball based on your Operating System.\n",
        "\n",
        "So, to install it locally on your machine, you would have to visit the [COMETS installation page](https://www.runcomets.org/installation) and based on your OS download the corresponding tarball.\n",
        "\n",
        "In the collab, we will go with the Linux one."
      ]
    },
    {
      "cell_type": "code",
      "execution_count": null,
      "metadata": {
        "id": "zEvoeI3vqPLG"
      },
      "outputs": [],
      "source": [
        "!pip install gdown\n",
        "!gdown \"https://drive.google.com/uc?id=1pJ089vJJNJg_KN9ELhWOW6uqMaaTJGCN\""
      ]
    },
    {
      "cell_type": "code",
      "execution_count": null,
      "metadata": {
        "id": "N6NvMCdHqPLG"
      },
      "outputs": [],
      "source": [
        "!tar -xzvf comets_linux.tar.gz"
      ]
    },
    {
      "cell_type": "code",
      "execution_count": null,
      "metadata": {
        "id": "bPbTEkqNqPLH"
      },
      "outputs": [],
      "source": [
        "# %%bash\n",
        "# export COMETS_HOME=$(pwd)/comets_linux/comets_2.12.3/\n",
        "# echo $COMETS_HOME\n",
        "import os\n",
        "comets_home = os.path.join(os.getcwd(), \"comets_linux/comets_2.12.3\")\n",
        "\n",
        "# Optionally, print it to check\n",
        "print(comets_home)\n",
        "\n",
        "# Set the environment variable\n",
        "os.environ[\"COMETS_HOME\"] = comets_home\n",
        "os.environ['GUROBI_COMETS_HOME'] = \"/opt/gurobi/linux64/\""
      ]
    },
    {
      "cell_type": "code",
      "execution_count": null,
      "metadata": {
        "id": "nZa565kJqPLH"
      },
      "outputs": [],
      "source": [
        "!pip install -qq cometspy"
      ]
    },
    {
      "cell_type": "code",
      "execution_count": null,
      "metadata": {
        "id": "IEPdOSz3qPLH"
      },
      "outputs": [],
      "source": [
        "# Start by loading required packages, including the COMETS toolbox\n",
        "import cometspy as c\n",
        "import pandas as pd\n",
        "import matplotlib.pyplot as plt"
      ]
    },
    {
      "cell_type": "code",
      "execution_count": null,
      "metadata": {
        "id": "RiUoGiUjqPLH"
      },
      "outputs": [],
      "source": [
        "# load the models and perform the mutation\n",
        "wt = c.model(ecoli.copy())\n",
        "wt.id = 'wt'\n",
        "mut = c.model(ecoli.copy())\n",
        "mut.change_bounds('TPI', 0,0)\n",
        "mut.id = 'TPI_KO'"
      ]
    },
    {
      "cell_type": "code",
      "execution_count": null,
      "metadata": {
        "id": "_aGiUzUnqPLH"
      },
      "outputs": [],
      "source": [
        "# set its initial biomass, 5e-6 gr at coordinate [0,0]\n",
        "wt.initial_pop = [0, 0, 5e-8]\n",
        "mut.initial_pop = [0, 0, 5e-8]"
      ]
    },
    {
      "cell_type": "code",
      "execution_count": null,
      "metadata": {
        "id": "2EnZtNBZqPLH"
      },
      "outputs": [],
      "source": [
        "# create an empty layout\n",
        "test_tube = c.layout()\n",
        "\n",
        "# add the models to the test tube\n",
        "test_tube.add_model(wt)\n",
        "test_tube.add_model(mut)\n",
        "\n",
        "# Add glucose to the media\n",
        "test_tube.set_specific_metabolite('glc__D_e', 0.01)\n",
        "\n",
        "# Add typical trace metabolites and oxygen coli as static\n",
        "trace_metabolites = ['ca2_e', 'cl_e', 'cobalt2_e', 'cu2_e', 'fe2_e', 'fe3_e', 'h_e', 'k_e', 'h2o_e', 'mg2_e',\n",
        "                     'mn2_e', 'mobd_e', 'na1_e', 'ni2_e', 'nh4_e', 'o2_e', 'pi_e', 'so4_e', 'zn2_e']\n",
        "\n",
        "for i in trace_metabolites:\n",
        "    test_tube.set_specific_metabolite(i, 1000)\n",
        "    test_tube.set_specific_static(i, 1000)\n",
        "\n",
        "comp_params = c.params()\n",
        "comp_params.set_param('maxCycles', 240)"
      ]
    },
    {
      "cell_type": "markdown",
      "metadata": {
        "id": "QxbUkc8NqPLH"
      },
      "source": [
        "> **NOTE**\n",
        ">\n",
        "> :red_circle: Unfortunately, a Gurobi challenge did not allow us to have this part up-and-running for the Google Colab case for this workshop."
      ]
    },
    {
      "cell_type": "code",
      "execution_count": null,
      "metadata": {
        "id": "pDSeri93qPLH"
      },
      "outputs": [],
      "source": [
        "# comp_assay = c.comets(test_tube, comp_params)\n",
        "# comp_assay.run()"
      ]
    },
    {
      "cell_type": "code",
      "execution_count": null,
      "metadata": {
        "id": "9Qy2o1_YqPLH"
      },
      "outputs": [],
      "source": [
        "# biomass = comp_assay.total_biomass\n",
        "# biomass['t'] = biomass['cycle'] * comp_assay.parameters.all_params['timeStep']\n",
        "\n",
        "# myplot = biomass.drop(columns=['cycle']).plot(x = 't')\n",
        "# myplot.set_ylabel(\"Biomass (gr.)\")"
      ]
    },
    {
      "cell_type": "markdown",
      "metadata": {
        "id": "Ir8nSdGRqPLH"
      },
      "source": [
        "![comets output](https://cometspy.readthedocs.io/en/latest/_images/comp_1.png)"
      ]
    }
  ],
  "metadata": {
    "colab": {
      "provenance": []
    },
    "kernelspec": {
      "display_name": "Python 3",
      "name": "python3"
    },
    "language_info": {
      "codemirror_mode": {
        "name": "ipython",
        "version": 3
      },
      "file_extension": ".py",
      "mimetype": "text/x-python",
      "name": "python",
      "nbconvert_exporter": "python",
      "pygments_lexer": "ipython3",
      "version": "3.11.11"
    }
  },
  "nbformat": 4,
  "nbformat_minor": 0
}