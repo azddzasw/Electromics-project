{
 "cells": [
  {
   "cell_type": "code",
   "execution_count": null,
   "id": "461d2a27",
   "metadata": {},
   "outputs": [],
   "source": []
  },
  {
   "cell_type": "code",
   "execution_count": null,
   "id": "a0800021",
   "metadata": {},
   "outputs": [],
   "source": [
    "import jax\n",
    "import jax.numpy as jnp\n",
    "from flax import linen as nn\n",
    "from typing import Sequence, Callable, Optional\n",
    "\n",
    "class Biomass_MLP(nn.Module):\n",
    "    features: Sequence[int]  # [128, 64, 32]\n",
    "    dropout_rate: float = 0.1  \n",
    "    use_dropout: bool = False  \n",
    "    act: Callable = nn.relu  \n",
    "    training: bool = True  \n",
    "    @nn.compact\n",
    "    def __call__(self, x):\n",
    "        for feat in self.features:\n",
    "            x = nn.Dense(feat)(x)\n",
    "            x = self.act(x)\n",
    "            if self.use_dropout:\n",
    "                x = nn.Dropout(rate=self.dropout_rate, deterministic=not self.training)(x)\n",
    "        x = nn.Dense(1)(x)  \n",
    "        return x\n",
    "\n",
    "\n"
   ]
  },
  {
   "cell_type": "code",
   "execution_count": null,
   "id": "e10e1f05",
   "metadata": {},
   "outputs": [],
   "source": []
  }
 ],
 "metadata": {
  "language_info": {
   "name": "python"
  }
 },
 "nbformat": 4,
 "nbformat_minor": 5
}
